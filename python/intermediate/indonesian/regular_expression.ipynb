{
 "cells": [
  {
   "cell_type": "markdown",
   "metadata": {
    "id": "6L37QFRSJDIh"
   },
   "source": [
    "# Regular Expression\n",
    "Regular Expression (disingkat: Regex) adalah sebuah pola (pattern) yang digunakan untuk mencocokkan, mencari, dan memanipulasi teks berdasarkan aturan tertentu. Regex sangat berguna untuk menemukan atau mengubah bagian-bagian spesifik dari string teks, seperti:\n",
    "* Mencari semua nomor telepon di sebuah dokumen.\n",
    "* Mengekstrak email dari teks.\n",
    "* Memastikan format password.\n",
    "* Membersihkan teks dari simbol atau karakter yang tidak diinginkan.\n",
    "\n",
    "## Contoh Kegunaan Regex Secara Ringkas\n",
    "| Tujuan                             | Pola Regex                       | Contoh Pencocokan           |\n",
    "| ---------------------------------- | -------------------------------- | --------------------------- |\n",
    "| Cari angka 3 digit                 | `\\d{3}`                          | `123`, `456`                |\n",
    "| Cek apakah email valid             | `\\w+@\\w+\\.\\w+`                   | `nama@email.com`            |\n",
    "| Temukan kata diawali huruf besar   | `\\b[A-Z]\\w+`                     | `Indonesia`, `Python`       |\n",
    "| Ganti semua spasi dengan tanda `-` | gunakan `re.sub(\" \", \"-\", teks)` | `Halo Dunia` → `Halo-Dunia` |"
   ]
  },
  {
   "cell_type": "markdown",
   "metadata": {},
   "source": [
    "## Mencari Kata “aplikasi” dalam Sebuah Kalimat\n",
    "* __re.search(r'aplikasi', s)__ mencari kemunculan pertama kata \"aplikasi\" dalam string s.\n",
    "* __match.start()__ mengembalikan indeks karakter pertama dari hasil pencocokan.\n",
    "* __match.end()__ mengembalikan indeks karakter setelah karakter terakhir dari hasil pencocokan."
   ]
  },
  {
   "cell_type": "code",
   "execution_count": 1,
   "metadata": {},
   "outputs": [
    {
     "name": "stdout",
     "output_type": "stream",
     "text": [
      "Start Index: 10\n",
      "End Index: 18\n"
     ]
    }
   ],
   "source": [
    "import re\n",
    "\n",
    "s = 'Facebook: aplikasi yang menghubungkan manusia tanpa kenal ruang dan waktu'\n",
    "\n",
    "match = re.search(r'aplikasi', s)\n",
    "\n",
    "print('Start Index:', match.start())\n",
    "print('End Index:', match.end())"
   ]
  },
  {
   "cell_type": "markdown",
   "metadata": {},
   "source": [
    "## Mencari Angka (IPK) dalam String\n",
    "* String nama mengandung angka desimal yang merepresentasikan IPK.\n",
    "* Pola \\d+ pada regex digunakan untuk menemukan satu atau lebih digit angka.\n",
    "* Fungsi __re.search()__ akan mencocokkan angka pertama yang ditemukan dalam string.\n",
    "* __.start()__ dan __.end()__ mengembalikan posisi indeks dari angka tersebut."
   ]
  },
  {
   "cell_type": "code",
   "execution_count": 2,
   "metadata": {
    "colab": {
     "base_uri": "https://localhost:8080/"
    },
    "executionInfo": {
     "elapsed": 11,
     "status": "ok",
     "timestamp": 1688473913580,
     "user": {
      "displayName": "22. Muhammad Tsaqif",
      "userId": "11433106515517245195"
     },
     "user_tz": -420
    },
    "id": "yfABZBWbI-YR",
    "outputId": "bcd1f015-7fca-4870-aac0-f1987fa909c6"
   },
   "outputs": [
    {
     "name": "stdout",
     "output_type": "stream",
     "text": [
      "ipk : 17\n",
      "ipk : 20\n"
     ]
    }
   ],
   "source": [
    "nama = 'Andra dengan IPK 287'\n",
    "\n",
    "match = re.search(r'\\d+',nama)\n",
    "print ('ipk :', match.start())\n",
    "print ('ipk :', match.end())"
   ]
  },
  {
   "cell_type": "markdown",
   "metadata": {},
   "source": [
    "## Mencari Kata “ke” dalam Kalimat\n",
    "* __re.search(r'ke', A)__ mencari kemunculan pertama dari kata \"ke\" dalam string A.\n",
    "* __Fungsi .start()__ menampilkan indeks posisi awal dari kata tersebut.\n",
    "* __Fungsi .end()__ menampilkan indeks posisi akhir dari kata tersebut."
   ]
  },
  {
   "cell_type": "code",
   "execution_count": 3,
   "metadata": {},
   "outputs": [
    {
     "name": "stdout",
     "output_type": "stream",
     "text": [
      "index pertamanya: 18\n",
      "index terakhirnya: 20\n"
     ]
    }
   ],
   "source": [
    "A = 'Hari ini gw ingin ke perpusnas'\n",
    "\n",
    "match = re.search(r'ke',A)\n",
    "print ('index pertamanya:',match.start())\n",
    "print ('index terakhirnya:',match.end())"
   ]
  },
  {
   "cell_type": "markdown",
   "metadata": {},
   "source": [
    "## Mendeteksi Angka Pertama dalam Kalimat\n",
    "* String coba berisi kalimat dengan angka di bagian akhir: 63.\n",
    "* Pola \\d+ digunakan untuk mencocokkan angka satu digit atau lebih.\n",
    "* Fungsi __re.search()__ menemukan kemunculan angka pertama dalam string.\n",
    "* __.start()__ dan __.end()__ digunakan untuk menunjukkan indeks posisi dari angka tersebut dalam string."
   ]
  },
  {
   "cell_type": "code",
   "execution_count": 4,
   "metadata": {},
   "outputs": [
    {
     "name": "stdout",
     "output_type": "stream",
     "text": [
      "index nomor pertama: 49\n",
      "index nomor terakhir: 51\n"
     ]
    }
   ],
   "source": [
    "coba = 'Hallo nama saya winardi, Nomor rumah saya adalah 63'\n",
    "match = re.search(r'\\d+', coba)\n",
    "print ('index nomor pertama:', match.start())\n",
    "print ('index nomor terakhir:', match.end())"
   ]
  },
  {
   "cell_type": "markdown",
   "metadata": {},
   "source": [
    "## Mendeteksi Tanggal dan Kata Spesifik\n",
    "* __re.search(r'\\d+', trial)__ mencari angka pertama yang muncul, yaitu 10.\n",
    "* Kemudian __re.search(r'lahir', trial)__ digunakan untuk menemukan kata \"lahir\" dalam string.\n",
    "* __.start()__ dan __.end()__ mengembalikan posisi indeks awal dan akhir dari pencocokan kata \"lahir\"."
   ]
  },
  {
   "cell_type": "code",
   "execution_count": 5,
   "metadata": {},
   "outputs": [
    {
     "name": "stdout",
     "output_type": "stream",
     "text": [
      "index tanggal pertama: 16\n",
      "index perama : 5\n",
      "index terakhir : 10\n"
     ]
    }
   ],
   "source": [
    "trial = \"saya lahir pada 10 April 1997\"\n",
    "match = re.search (r'\\d+', trial)\n",
    "print ('index tanggal pertama:', match.start())\n",
    "match = re.search(r'lahir', trial)\n",
    "print ('index perama :', match.start())\n",
    "print (\"index terakhir :\", match.end())"
   ]
  },
  {
   "cell_type": "markdown",
   "metadata": {},
   "source": [
    "## Menemukan Semua Angka Sekaligus\n",
    "* __re.findall(r, trial)__ mencari semua pola yang cocok dengan ekspresi (\\d+).\n",
    "* Pola ini berarti semua angka satu digit atau lebih.\n",
    "* Hasil dari __re.findall__ berupa list berisi semua angka yang ditemukan dalam string trial.\n",
    "* Pada contoh string \"saya lahir pada 10 April 1997\", ditemukan dua angka: '10' dan '1997'."
   ]
  },
  {
   "cell_type": "code",
   "execution_count": 6,
   "metadata": {},
   "outputs": [
    {
     "name": "stdout",
     "output_type": "stream",
     "text": [
      "['10', '1997']\n"
     ]
    }
   ],
   "source": [
    "r = \"(\\d+)\"\n",
    "match = re.findall(r, trial)\n",
    "print (match)"
   ]
  },
  {
   "cell_type": "markdown",
   "metadata": {
    "id": "O7M8-KgJOa6M"
   },
   "source": [
    "# Metacharacter\n",
    "Metacharacter adalah simbol khusus dalam regex yang tidak merepresentasikan karakter literal, tetapi memiliki fungsi tertentu untuk mencocokkan pola dalam string. Metacharacter membantu membuat pencarian menjadi fleksibel dan kuat.\n",
    "\n",
    "Berikut ringkasan metacharacter yang umum digunakan:\n",
    "| Metacharacter | Makna                                                | Contoh                                      |          |                                  |\n",
    "| ------------- | ---------------------------------------------------- | ------------------------------------------- | -------- | -------------------------------- |\n",
    "| `.`           | Mewakili **sembarang satu karakter** kecuali newline | `a.c` cocok dengan `abc`, `axc`             |          |                                  |\n",
    "| `^`           | Menandai **awal** string                             | `^Hallo` cocok jika string diawali \"Hallo\"  |          |                                  |\n",
    "| `$`           | Menandai **akhir** string                            | `rumah$` cocok jika string diakhiri \"rumah\" |          |                                  |\n",
    "| `*`           | **0 atau lebih** dari karakter sebelumnya            | `lo*` cocok dengan `l`, `lo`, `loo`, dst.   |          |                                  |\n",
    "| `+`           | **1 atau lebih** dari karakter sebelumnya            | `lo+` cocok dengan `lo`, `loo`, bukan `l`   |          |                                  |\n",
    "| `?`           | **0 atau 1 kali** karakter sebelumnya (opsional)     | `ru?mah` cocok dengan `rmah`, `rumah`       |          |                                  |\n",
    "| `[]`          | **Character set** (pilihan karakter)                 | `[aeiou]` cocok dengan huruf vokal          |          |                                  |\n",
    "| `[^]`         | **Negasi** dari character set                        | `[^0-9]` cocok dengan semua kecuali angka   |          |                                  |\n",
    "| `{m}`         | **Tepat m kali** karakter sebelumnya                 | `\\d{4}` cocok dengan 4 digit angka          |          |                                  |\n",
    "| `{m,n}`       | **Antara m sampai n kali**                           | `a{2,4}` cocok dengan `aa`, `aaa`, `aaaa`   |          |                                  |"
   ]
  },
  {
   "cell_type": "markdown",
   "metadata": {
    "id": "nyACJF_-OdD5"
   },
   "source": [
    "## Pencocokan Satu Karakter Sembarang dengan `.`\n",
    "1. __re.search(r'.', s)__:\n",
    "    * Karakter titik `(.)` dalam regex adalah metacharacter yang mencocokkan satu karakter apa pun, kecuali karakter baris baru (\\n).\n",
    "    * Fungsi __re.search()__ akan mencari karakter pertama yang cocok di string.\n",
    "    * Dalam string `'Adgan167@gmail.com'`, karakter pertama adalah `'A'`, sehingga hasil pencarian adalah `'A'`.\n",
    "2. __print(match)__ akan menampilkan objek hasil pencocokan, misalnya: `<re.Match object; span=(0, 1), match='A'>`"
   ]
  },
  {
   "cell_type": "code",
   "execution_count": 7,
   "metadata": {},
   "outputs": [
    {
     "name": "stdout",
     "output_type": "stream",
     "text": [
      "<re.Match object; span=(0, 1), match='A'>\n"
     ]
    }
   ],
   "source": [
    "s = 'Adgan167@gmail.com'\n",
    "\n",
    "match = re.search(r'.', s)\n",
    "print(match)"
   ]
  },
  {
   "cell_type": "markdown",
   "metadata": {},
   "source": [
    "##  Pencocokan Titik Karakter Literal dengan `\\.`\n",
    "1. __re.search(r'\\.', s)__:\n",
    "    * Simbol titik `(.)` sebagai metacharacter perlu di-escape dengan `\\` agar dapat dicocokkan sebagai karakter titik biasa (literal).\n",
    "    * Pola `r'\\.'` mencocokkan titik yang sebenarnya, bukan sembarang karakter.\n",
    "    * Dalam string 'Adgan167@gmail.com', terdapat titik setelah gmail, yaitu 'gmail.com', sehingga regex mencocokkan titik tersebut.\n",
    "2. __print(match)__ akan menampilkan objek hasil pencocokan titik, misalnya: `<re.Match object; span=(14, 15), match='.'>`"
   ]
  },
  {
   "cell_type": "code",
   "execution_count": 8,
   "metadata": {
    "colab": {
     "base_uri": "https://localhost:8080/"
    },
    "executionInfo": {
     "elapsed": 578,
     "status": "ok",
     "timestamp": 1688474236200,
     "user": {
      "displayName": "22. Muhammad Tsaqif",
      "userId": "11433106515517245195"
     },
     "user_tz": -420
    },
    "id": "VkYL85KxJFO4",
    "outputId": "800aa36f-54fe-4ec4-834a-d1804c7ced9e"
   },
   "outputs": [
    {
     "name": "stdout",
     "output_type": "stream",
     "text": [
      "<re.Match object; span=(14, 15), match='.'>\n"
     ]
    }
   ],
   "source": [
    "match = re.search(r'\\.', s)\n",
    "print(match)"
   ]
  },
  {
   "cell_type": "markdown",
   "metadata": {
    "id": "Opb1ORxrXthd"
   },
   "source": [
    "## Pencarian Angka dan Huruf Tertentu Menggunakan __re.findall__"
   ]
  },
  {
   "cell_type": "markdown",
   "metadata": {},
   "source": [
    "### String Target"
   ]
  },
  {
   "cell_type": "code",
   "execution_count": 9,
   "metadata": {},
   "outputs": [],
   "source": [
    "string = \"\"\"Halo, nomor mahasiswa saya 923472387 dan\n",
    "            nomor mahasiswa teman saya 234130324\n",
    "            no.telp. aditya 082298221785\n",
    "            \"\"\""
   ]
  },
  {
   "cell_type": "markdown",
   "metadata": {},
   "source": [
    "### Pola Pencarian Digit `(\\d+)`\n",
    "* `\\d` adalah metakarakter yang mencocokkan satu digit angka (0–9).\n",
    "* `+` berarti satu atau lebih digit.\n",
    "* __re.findall(r'\\d+', string)__ mencari semua urutan digit angka dalam string.\n",
    "* Hasil:\\\n",
    "  ['923472387', '234130324', '082298221785']\\\n",
    "  karena ketiga itu adalah deretan angka dalam string."
   ]
  },
  {
   "cell_type": "code",
   "execution_count": 10,
   "metadata": {},
   "outputs": [
    {
     "name": "stdout",
     "output_type": "stream",
     "text": [
      "['923472387', '234130324', '082298221785']\n"
     ]
    }
   ],
   "source": [
    "regex = r'\\d+'\n",
    "match = re.findall(regex, string)\n",
    "print(match)"
   ]
  },
  {
   "cell_type": "markdown",
   "metadata": {},
   "source": [
    "### Pola Pencarian Huruf a atau e\n",
    "* `[ae]` adalah character class, artinya mencocokkan salah satu dari karakter a atau e.\n",
    "* __re.findall(r'[ae]', string)__ mengembalikan semua karakter 'a' atau 'e' dalam string, dalam bentuk list.\n",
    "* Hasil bisa berupa list panjang seperti:\\\n",
    "  ['a', 'o', 'a', 'a', 'a', 'a', 'a', 'a', 'e', 'a', 'e', ...]\\\n",
    "  tergantung berapa kali huruf tersebut muncul."
   ]
  },
  {
   "cell_type": "code",
   "execution_count": 12,
   "metadata": {
    "colab": {
     "base_uri": "https://localhost:8080/"
    },
    "executionInfo": {
     "elapsed": 524,
     "status": "ok",
     "timestamp": 1688474137636,
     "user": {
      "displayName": "22. Muhammad Tsaqif",
      "userId": "11433106515517245195"
     },
     "user_tz": -420
    },
    "id": "0QStCq8PWf2I",
    "outputId": "72e9f0d6-25f7-4dfe-a300-9a8a42f3b723"
   },
   "outputs": [
    {
     "name": "stdout",
     "output_type": "stream",
     "text": [
      "['a', 'a', 'a', 'a', 'a', 'a', 'a', 'a', 'a', 'a', 'e', 'a', 'a', 'a', 'e', 'a', 'a']\n"
     ]
    }
   ],
   "source": [
    "regex = r'[ae]'\n",
    "match = re.findall(regex, string)\n",
    "print(match)"
   ]
  },
  {
   "cell_type": "markdown",
   "metadata": {
    "id": "YUTc-KGAXv-M"
   },
   "source": [
    "## re.compile()"
   ]
  },
  {
   "cell_type": "markdown",
   "metadata": {},
   "source": [
    "## Pencarian Karakter Tertentu dengan re.compile() dan findall()"
   ]
  },
  {
   "cell_type": "markdown",
   "metadata": {},
   "source": [
    "### Membuat Pola Regex dengan re.compile()\n",
    "* __re.compile()__ digunakan untuk membuat objek pattern regex yang bisa digunakan berulang kali.\n",
    "* [a-e] adalah character class yang mencocokkan huruf apa pun dari a sampai e (yaitu a, b, c, d, e).\n",
    "* __flags=re.IGNORECASE__ membuat pencarian menjadi tidak sensitif huruf besar/kecil, jadi akan mencocokkan `A-E` dan `a-e`."
   ]
  },
  {
   "cell_type": "code",
   "execution_count": 13,
   "metadata": {},
   "outputs": [],
   "source": [
    "p = re.compile('[a-e]', flags=re.IGNORECASE)"
   ]
  },
  {
   "cell_type": "markdown",
   "metadata": {},
   "source": [
    "### Pencarian Semua Karakter yang Sesuai\n",
    "* __findall()__ mengembalikan semua karakter dalam string \"Muhamad Petra Piyunandra\" yang cocok dengan pola [a-e], baik huruf kecil maupun besar.\n",
    "* Karakter yang sesuai dalam string tersebut adalah:\\\n",
    "  'a', 'd', 'e', 'b', 'c' (jika ada).\n",
    "* Contoh hasil:\\\n",
    "  ['a', 'd', 'e', 'a', 'd', 'e', 'a']\\\n",
    "  (tergantung isi stringnya)."
   ]
  },
  {
   "cell_type": "code",
   "execution_count": 14,
   "metadata": {
    "colab": {
     "base_uri": "https://localhost:8080/"
    },
    "executionInfo": {
     "elapsed": 20,
     "status": "ok",
     "timestamp": 1688474138054,
     "user": {
      "displayName": "22. Muhammad Tsaqif",
      "userId": "11433106515517245195"
     },
     "user_tz": -420
    },
    "id": "dCMp1TUJOmwz",
    "outputId": "b041e2d6-7c63-4eed-998e-6b087cba782e"
   },
   "outputs": [
    {
     "name": "stdout",
     "output_type": "stream",
     "text": [
      "['a', 'a', 'd', 'e', 'a', 'a', 'd', 'a']\n"
     ]
    }
   ],
   "source": [
    "print(p.findall(\"Muhamad Petra Piyunandra\"))"
   ]
  },
  {
   "cell_type": "markdown",
   "metadata": {},
   "source": [
    "## Mencocokkan Angka dalam Teks dengan \\d dan \\d+"
   ]
  },
  {
   "cell_type": "markdown",
   "metadata": {},
   "source": [
    "### Pola `\\d` untuk Mencari Angka Satu per Satu\n",
    "* `\\d` adalah metakarakter dalam regex yang mencocokkan satu digit angka (sama dengan [0-9]).\n",
    "* __findall()__ akan mencari dan mengembalikan setiap angka sebagai elemen terpisah dalam list."
   ]
  },
  {
   "cell_type": "code",
   "execution_count": 15,
   "metadata": {},
   "outputs": [
    {
     "name": "stdout",
     "output_type": "stream",
     "text": [
      "['1', '1', '0', '0', '4', '1', '8', '8', '6']\n"
     ]
    }
   ],
   "source": [
    "p = re.compile(r'\\d')\n",
    "print(p.findall(\"Saya menemuinya pukul 11.00 pagi pada tanggal 4 Juli 1886\"))"
   ]
  },
  {
   "cell_type": "markdown",
   "metadata": {},
   "source": [
    "### Pola `\\d+` untuk Mencari Angka yang Berurutan\n",
    "* `\\d+` mencocokkan satu atau lebih digit angka berturut-turut.\n",
    "* Simbol `+` berarti \"satu atau lebih\".\n",
    "* Angka-angka yang saling berdekatan (seperti 11, 00, 1886) akan dianggap sebagai satu kesatuan."
   ]
  },
  {
   "cell_type": "code",
   "execution_count": 16,
   "metadata": {
    "colab": {
     "base_uri": "https://localhost:8080/"
    },
    "executionInfo": {
     "elapsed": 20,
     "status": "ok",
     "timestamp": 1688474138056,
     "user": {
      "displayName": "22. Muhammad Tsaqif",
      "userId": "11433106515517245195"
     },
     "user_tz": -420
    },
    "id": "C0XkS8gvYDwo",
    "outputId": "859e4bad-73d0-4e37-9e60-684a99f7b639"
   },
   "outputs": [
    {
     "name": "stdout",
     "output_type": "stream",
     "text": [
      "['11', '00', '4', '1886']\n"
     ]
    }
   ],
   "source": [
    "p = re.compile(r'\\d+')\n",
    "print(p.findall(\"Saya menemuinya pukul 11.00 pagi pada tanggal 4 Juli 1886\"))"
   ]
  },
  {
   "cell_type": "markdown",
   "metadata": {
    "id": "Di4I7hv4aA3x"
   },
   "source": [
    "## re.split()"
   ]
  },
  {
   "cell_type": "markdown",
   "metadata": {
    "id": "GUH2mbQQaL0d"
   },
   "source": [
    "__re.split(pattern, string, maxsplit=0, flags=0)__"
   ]
  },
  {
   "cell_type": "markdown",
   "metadata": {},
   "source": [
    "### Pemisahan berdasarkan karakter non-alfanumerik\n",
    "* `r'\\W+'` adalah pola regex yang mencocokkan satu atau lebih karakter non-word (bukan huruf/angka/underscore).\n",
    "* Pada `'Kata, kata, Kata'`:\n",
    "  - karakter non-word adalah `,` dan `spasi`\n",
    "  - maka string dipecah di dua tempat yaitu setelah `Kata,` dan setelah `kata`"
   ]
  },
  {
   "cell_type": "code",
   "execution_count": 18,
   "metadata": {},
   "outputs": [
    {
     "name": "stdout",
     "output_type": "stream",
     "text": [
      "['Kata', 'kata', 'Kata']\n"
     ]
    }
   ],
   "source": [
    "print(re.split(r'\\W+', 'Kata, kata, Kata'))"
   ]
  },
  {
   "cell_type": "markdown",
   "metadata": {},
   "source": [
    "### Pemisahan berdasarkan karakter non-alfanumerik lagi\n",
    "* Sama dengan sebelumnya, tapi hanya ada spasi sebagai karakter non-alfanumerik.\n",
    "* Spasi digunakan sebagai titik pemisah."
   ]
  },
  {
   "cell_type": "code",
   "execution_count": 19,
   "metadata": {},
   "outputs": [
    {
     "name": "stdout",
     "output_type": "stream",
     "text": [
      "['Kata', 'kata', 'Kata']\n"
     ]
    }
   ],
   "source": [
    "print(re.split(r'\\W+', \"Kata kata Kata\"))"
   ]
  },
  {
   "cell_type": "markdown",
   "metadata": {},
   "source": [
    "### Split kalimat kompleks berdasarkan karakter non-alfanumerik\n",
    "* Regex `\\W+` membuat split string pada setiap spasi, koma (,), dan titik dua (:)\n",
    "* String dipecah menjadi bagian-bagian teks dan angka"
   ]
  },
  {
   "cell_type": "code",
   "execution_count": 20,
   "metadata": {},
   "outputs": [
    {
     "name": "stdout",
     "output_type": "stream",
     "text": [
      "['Pada', '12', 'Januari', '2016', 'pukul', '11', '02', 'AM']\n"
     ]
    }
   ],
   "source": [
    "print(re.split(r'\\W+', 'Pada 12 Januari 2016, pukul 11:02 AM'))"
   ]
  },
  {
   "cell_type": "markdown",
   "metadata": {},
   "source": [
    "### Split string berdasarkan angka\n",
    "* Regex `\\d+` artinya cocok dengan satu atau lebih angka\n",
    "* Setiap kali ditemukan angka (12, 2016, 11, 02), string akan dipotong di sana"
   ]
  },
  {
   "cell_type": "code",
   "execution_count": 21,
   "metadata": {},
   "outputs": [
    {
     "name": "stdout",
     "output_type": "stream",
     "text": [
      "['Pada ', ' Januari ', ', pukul ', ':', ' AM']\n"
     ]
    }
   ],
   "source": [
    "print(re.split(r'\\d+', 'Pada 12 Januari 2016, pukul 11:02 AM'))"
   ]
  },
  {
   "cell_type": "markdown",
   "metadata": {},
   "source": [
    "### Split dengan batas jumlah pemisahan (maxsplit=1)\n",
    "* Regex pattern `\\d+` artinya mencocokkan satu atau lebih digit angka\n",
    "* Argumen ke-3: 1 yaitu parameter maxsplit, artinya hanya memisahkan sekali saja yaitu dalam hal ini setelah kata \"Pada\""
   ]
  },
  {
   "cell_type": "code",
   "execution_count": 22,
   "metadata": {},
   "outputs": [
    {
     "name": "stdout",
     "output_type": "stream",
     "text": [
      "['Pada ', ' Januari 2016, pukul 11:02 AM']\n"
     ]
    }
   ],
   "source": [
    "print(re.split(r'\\d+', 'Pada 12 Januari 2016, pukul 11:02 AM', maxsplit=1))"
   ]
  },
  {
   "cell_type": "markdown",
   "metadata": {},
   "source": [
    "### Split tanpa batas (maxsplit default)\n",
    "* Tidak diberikan argumen maxsplit, sehingga semua pola `\\d+` (angka) akan dipakai untuk split\n",
    "* Sama seperti contoh sebelumnya (tanpa batas)\n",
    "* Split dilakukan di semua angka yaitu 12, 2016, 11, 02"
   ]
  },
  {
   "cell_type": "code",
   "execution_count": 23,
   "metadata": {},
   "outputs": [
    {
     "name": "stdout",
     "output_type": "stream",
     "text": [
      "['Pada ', ' Januari ', ', pukul ', ':', ' AM']\n"
     ]
    }
   ],
   "source": [
    "print(re.split(r'\\d+','Pada 12 Januari 2016, pukul 11:02 AM'))"
   ]
  },
  {
   "cell_type": "markdown",
   "metadata": {},
   "source": [
    "### Split dengan flags=re.IGNORECASE\n",
    "* Pattern `[a-f]+` artinya cocok dengan 1 atau lebih huruf dari a sampai f\n",
    "* __flags=re.IGNORECASE__ artinya pencocokan dilakukan tanpa membedakan huruf kapital/kecil\n",
    "* Catatan: Karena pencocokan bersifat case-insensitive (IGNORECASE), maka huruf A, B, dst dihitung cocok juga. Hasil mungkin terlihat kompleks karena pola `[a-f]+` bisa cocok dengan lebih banyak bagian teks."
   ]
  },
  {
   "cell_type": "code",
   "execution_count": 24,
   "metadata": {},
   "outputs": [
    {
     "name": "stdout",
     "output_type": "stream",
     "text": [
      "['', 'y, ', 'oy oh ', 'oy, ', 'om', ' h', 'r', '']\n"
     ]
    }
   ],
   "source": [
    "print(re.split(r'[a-f]+', 'Aey, Boy oh boy, come here', flags=re.IGNORECASE))"
   ]
  },
  {
   "cell_type": "markdown",
   "metadata": {},
   "source": [
    "### Split tanpa flags=re.IGNORECASE (case-sensitive)\n",
    "* Pattern `[a-f]+` (tanpa IGNORECASE) artinya hanya cocok dengan huruf kecil a-f\n",
    "* Huruf kapital seperti A, B tidak akan dicocokkan\n",
    "* Maka hanya e dan a kecil yang cocok"
   ]
  },
  {
   "cell_type": "code",
   "execution_count": 25,
   "metadata": {
    "colab": {
     "base_uri": "https://localhost:8080/"
    },
    "executionInfo": {
     "elapsed": 20,
     "status": "ok",
     "timestamp": 1688474138058,
     "user": {
      "displayName": "22. Muhammad Tsaqif",
      "userId": "11433106515517245195"
     },
     "user_tz": -420
    },
    "id": "Fhc5_IcMZABn",
    "outputId": "ffb35941-ef5d-483c-9757-ea5d60bbb61b"
   },
   "outputs": [
    {
     "name": "stdout",
     "output_type": "stream",
     "text": [
      "['A', 'y, Boy oh ', 'oy, ', 'om', ' h', 'r', '']\n"
     ]
    }
   ],
   "source": [
    "print(re.split(r'[a-f]+', 'Aey, Boy oh boy, come here'))"
   ]
  },
  {
   "cell_type": "markdown",
   "metadata": {
    "id": "26XUQBoYanqU"
   },
   "source": [
    "## re.sub()"
   ]
  },
  {
   "cell_type": "markdown",
   "metadata": {
    "id": "swvFj2Ehapxl"
   },
   "source": [
    "__re.sub(pattern, repl, string, count=0, flags=0)__\\\n",
    "re.sub(pattern, repl, string, count=0, flags=0) berfungsi mengganti semua (atau sebagian jika count diberikan) kemunculan pola RegEx dengan string baru dalam teks."
   ]
  },
  {
   "cell_type": "markdown",
   "metadata": {},
   "source": [
    "### Penggantian dengan Flag IGNORECASE\n",
    "* Akan diganti `'ub'` (case-insensitive) dengan `'~*'` dalam string 'Subjek sudah memesan Uber'.\n",
    "* `'ub'` akan dikenali baik dalam 'Subjek' (Ub) dan 'Uber' (Ub)."
   ]
  },
  {
   "cell_type": "code",
   "execution_count": 26,
   "metadata": {},
   "outputs": [
    {
     "name": "stdout",
     "output_type": "stream",
     "text": [
      "S~*jek sudah memesan ~*er\n"
     ]
    }
   ],
   "source": [
    "print(re.sub('ub', '~*', 'Subjek sudah memesan Uber', flags=re.IGNORECASE))"
   ]
  },
  {
   "cell_type": "markdown",
   "metadata": {},
   "source": [
    "### Tanpa Flag IGNORECASE\n",
    "* Tanpa flags artinya Case sensitive.\n",
    "* `'ub'` hanya cocok jika huruf kecil semua, tidak cocok dengan `'Ub'`.\n",
    "* Hanya `'ub'` pada 'Subjek' yang diganti, bukan `'Uber'`."
   ]
  },
  {
   "cell_type": "code",
   "execution_count": 27,
   "metadata": {},
   "outputs": [
    {
     "name": "stdout",
     "output_type": "stream",
     "text": [
      "S~*jek sudah memesan Uber\n"
     ]
    }
   ],
   "source": [
    "print(re.sub('ub', '~*', 'Subjek sudah memesan Uber'))"
   ]
  },
  {
   "cell_type": "markdown",
   "metadata": {},
   "source": [
    "### Batasi Jumlah Penggantian (count=1)\n",
    "* Menggunakan IGNORECASE, tetapi count=1 membatasi jumlah penggantian hanya 1 kali.\n",
    "* `'ub'` pada `'Subjek'` diganti, sedangkan `'Uber'` tetap."
   ]
  },
  {
   "cell_type": "code",
   "execution_count": 28,
   "metadata": {},
   "outputs": [
    {
     "name": "stdout",
     "output_type": "stream",
     "text": [
      "S~*jek sudah memesan Uber\n"
     ]
    }
   ],
   "source": [
    "print(re.sub('ub', '~*', 'Subjek sudah memesan Uber', count=1, flags=re.IGNORECASE))"
   ]
  },
  {
   "cell_type": "markdown",
   "metadata": {},
   "source": [
    "### Pola Spesifik dengan Karakter Escape `\\s`\n",
    "* Pola: \\sAND\\s artinya spasi + 'AND' + spasi.\n",
    "* 'dan' dalam kalimat tidak cocok karena 'AND' ≠ dan', kecuali 'dan' diterjemahkan ke 'and'.\n",
    "* Namun karena IGNORECASE, 'and' cocok.\n",
    "* Diganti menjadi ' & '."
   ]
  },
  {
   "cell_type": "code",
   "execution_count": 29,
   "metadata": {},
   "outputs": [
    {
     "name": "stdout",
     "output_type": "stream",
     "text": [
      "Kacang Panggang dan Spam\n"
     ]
    }
   ],
   "source": [
    "print(re.sub('\\sAND\\s', ' & ', 'Kacang Panggang dan Spam', flags=re.IGNORECASE))"
   ]
  },
  {
   "cell_type": "code",
   "execution_count": 30,
   "metadata": {},
   "outputs": [
    {
     "name": "stdout",
     "output_type": "stream",
     "text": [
      "Kacang Panggang & Spam\n"
     ]
    }
   ],
   "source": [
    "print(re.sub('\\sAND\\s', ' & ', 'Kacang Panggang and Spam', flags=re.IGNORECASE))"
   ]
  },
  {
   "cell_type": "markdown",
   "metadata": {},
   "source": [
    "### Penggantian Substring 'ti' dengan 'ty' satu kali"
   ]
  },
  {
   "cell_type": "code",
   "execution_count": 31,
   "metadata": {},
   "outputs": [
    {
     "name": "stdout",
     "output_type": "stream",
     "text": [
      "Aditya adiTia pramana putra\n"
     ]
    }
   ],
   "source": [
    "print(re.sub('ti','ty','Aditia adiTia pramana putra', count = 1, flags = re.IGNORECASE))"
   ]
  },
  {
   "cell_type": "markdown",
   "metadata": {},
   "source": [
    "### Ganti 'ti' tanpa flag IGNORECASE"
   ]
  },
  {
   "cell_type": "code",
   "execution_count": 32,
   "metadata": {},
   "outputs": [
    {
     "name": "stdout",
     "output_type": "stream",
     "text": [
      "Aditya adiTia pramana putra\n"
     ]
    }
   ],
   "source": [
    "print(re.sub(r'ti','ty','Aditia adiTia pramana putra'))"
   ]
  },
  {
   "cell_type": "markdown",
   "metadata": {
    "id": "8gsEAJdabfPQ"
   },
   "source": [
    "## re.subn()"
   ]
  },
  {
   "cell_type": "markdown",
   "metadata": {
    "id": "gFJYVaIAbg0U"
   },
   "source": [
    "__re.subn(pattern, repl, string, count=0, flags=0)__"
   ]
  },
  {
   "cell_type": "markdown",
   "metadata": {},
   "source": [
    "### Substitusi karakter kosong '' dengan '~*' (sebanyak 2 kali)\n",
    "* Akan disisipkan `'~*'` sebanyak dua kali ke dalam string `'Subjek sudah memesan Uber'` di antara karakter.\n",
    "* `''` artinya pola kosong berarti pencocokan terjadi di antara setiap karakter, termasuk awal dan akhir string.\n",
    "* `'~*'` artinya string pengganti yang akan disisipkan.\n",
    "* `count=2` artinya hanya lakukan dua penggantian pertama.\n",
    "* Hasilnya adalah tuple `('~*~*Subjek sudah memesan Uber', 2)` karena hanya dua penyisipan dilakukan."
   ]
  },
  {
   "cell_type": "code",
   "execution_count": 33,
   "metadata": {},
   "outputs": [
    {
     "name": "stdout",
     "output_type": "stream",
     "text": [
      "('~*S~*ubjek sudah memesan Uber', 2)\n"
     ]
    }
   ],
   "source": [
    "print(re.subn('', '~*', 'Subjek sudah memesan Uber', count=2))"
   ]
  },
  {
   "cell_type": "markdown",
   "metadata": {},
   "source": [
    "### Substitusi case insensitive\n",
    "* Ganti semua kemunculan kata `'ub'` dengan `'~*'` secara case-insensitive (re.IGNORECASE).\n",
    "* `'ub'` cocok dengan `'Ub'` di `\"Subjek\"` dan `\"Uber\"`."
   ]
  },
  {
   "cell_type": "code",
   "execution_count": 34,
   "metadata": {},
   "outputs": [
    {
     "name": "stdout",
     "output_type": "stream",
     "text": [
      "('S~*jek sudah memesan ~*er', 2)\n"
     ]
    }
   ],
   "source": [
    "print(re.subn('ub', '~*', 'Subjek sudah memesan Uber', flags=re.IGNORECASE))"
   ]
  },
  {
   "cell_type": "markdown",
   "metadata": {
    "id": "CWXq4MLLb_Sb"
   },
   "source": [
    "## re.escape()"
   ]
  },
  {
   "cell_type": "markdown",
   "metadata": {
    "id": "9-K8txogcCni"
   },
   "source": [
    "__re.escape(string)__"
   ]
  },
  {
   "cell_type": "markdown",
   "metadata": {},
   "source": [
    "### Menambahkan escape pada spasi (karakter non-alfanumerik tunggal)\n",
    "* Karakter non-alfanumerik artinya hanya spasi `' '` yang dianggap bukan alfanumerik.\n",
    "* __re.escape()__ akan menambahkan backslash `(\\)` sebelum setiap spasi."
   ]
  },
  {
   "cell_type": "code",
   "execution_count": 35,
   "metadata": {},
   "outputs": [
    {
     "name": "stdout",
     "output_type": "stream",
     "text": [
      "Ini\\ Luar\\ Biasa\\ Bahkan\\ Jam\\ 1\\ Pagi\n"
     ]
    }
   ],
   "source": [
    "print(re.escape(\"Ini Luar Biasa Bahkan Jam 1 Pagi\"))"
   ]
  },
  {
   "cell_type": "markdown",
   "metadata": {},
   "source": [
    "### Escape berbagai karakter non-alfanumerik (kompleks)\n",
    "* `\\[, \\]` artinya menghindari makna regex dari kurung siku (class karakter).\n",
    "* `\\-` artinya minus di dalam class karakter bisa bermakna rentang, jadi di-escape.\n",
    "* `\\,` artinya koma di-escape juga walau tidak spesial di regex.\n",
    "* `\\\\t` artinya tab diubah menjadi dua backslash karena aslinya \\t adalah tab.\n",
    "* `\\^` artinya caret adalah simbol anchor regex (awal string), di-escape agar literal."
   ]
  },
  {
   "cell_type": "code",
   "execution_count": 36,
   "metadata": {},
   "outputs": [
    {
     "name": "stdout",
     "output_type": "stream",
     "text": [
      "Saya\\ Bertanya\\ Apa\\ Ini\\ \\[a\\-9\\],\\ Dia\\ Bilang\\ \\\t\\ \\^WoW\n"
     ]
    }
   ],
   "source": [
    "print(re.escape(\"Saya Bertanya Apa Ini [a-9], Dia Bilang \\t ^WoW\"))"
   ]
  },
  {
   "cell_type": "markdown",
   "metadata": {
    "id": "0arHJutNcM86"
   },
   "source": [
    "## re.search()"
   ]
  },
  {
   "cell_type": "markdown",
   "metadata": {},
   "source": [
    "### Definisi Pola Regex\n",
    "* `r\"...\"` artinya raw string literal agar backslash `(\\)` tidak ditafsirkan sebagai escape character.\n",
    "* `([a-zA-Z]+)` artinya grup pertama mencocokkan satu atau lebih huruf alfabet (nama bulan).\n",
    "* `(\\d+)` artinya grup kedua mencocokkan satu atau lebih digit (tanggal/hari)."
   ]
  },
  {
   "cell_type": "code",
   "execution_count": 37,
   "metadata": {},
   "outputs": [],
   "source": [
    "regex = r\"([a-zA-Z]+) (\\d+)\""
   ]
  },
  {
   "cell_type": "markdown",
   "metadata": {},
   "source": [
    "### Pencocokan dengan re.search()\n",
    "* __re.search()__ mencari kemunculan pertama dari pola regex dalam string.\n",
    "* Akan mengembalikan objek match jika cocok, atau None jika tidak cocok."
   ]
  },
  {
   "cell_type": "code",
   "execution_count": 38,
   "metadata": {},
   "outputs": [
    {
     "name": "stdout",
     "output_type": "stream",
     "text": [
      "Cocok pada indeks 16, 23\n",
      "Kecocokan penuh: 24 Juni\n",
      "Tanggal: 24\n",
      "Bulan: Juni\n"
     ]
    }
   ],
   "source": [
    "# Program Python untuk mendemonstrasikan cara kerja re.search()\n",
    "import re\n",
    "\n",
    "# Definisi Pola Regex:\n",
    "# - ([a-zA-Z]+)  → mencocokkan nama bulan (huruf saja)\n",
    "# - (\\d+)        → mencocokkan angka (hari)\n",
    "regex = r\"(\\d+) ([a-zA-Z]+)\"\n",
    "\n",
    "# String yang akan diuji\n",
    "kalimat = \"Saya Lahir pada 24 Juni\"\n",
    "\n",
    "# Mencari pola regex di dalam kalimat\n",
    "match = re.search(regex, kalimat)\n",
    "\n",
    "# Jika cocok ditemukan\n",
    "if match != None:\n",
    "    # Menampilkan indeks awal dan akhir dari kecocokan\n",
    "    print(\"Cocok pada indeks %s, %s\" % (match.start(), match.end()))\n",
    "\n",
    "    # Menampilkan hasil kecocokan penuh (group 0)\n",
    "    print(\"Kecocokan penuh: %s\" % (match.group(0)))\n",
    "\n",
    "    # Menampilkan hasil dari grup 1 (Tanggal)\n",
    "    print(\"Tanggal: %s\" % (match.group(1)))\n",
    "\n",
    "    # Menampilkan hasil dari grup 2 (Bulan)\n",
    "    print(\"Bulan: %s\" % (match.group(2)))\n",
    "\n",
    "#  Jika tidak ditemukan kecocokan\n",
    "else:\n",
    "    print(\"Pola regex tidak cocok.\")\n"
   ]
  },
  {
   "cell_type": "markdown",
   "metadata": {
    "id": "XyCfLKdmcms8"
   },
   "source": [
    "# Match Object"
   ]
  },
  {
   "cell_type": "code",
   "execution_count": 39,
   "metadata": {},
   "outputs": [
    {
     "name": "stdout",
     "output_type": "stream",
     "text": [
      "Regex yang digunakan (Contoh 1): re.compile('\\\\bN')\n",
      "String sumber (Contoh 1): Universitas Negeri terbaik di Indonesia adalah ...\n",
      "Indeks awal kecocokan 'N': 12\n",
      "Indeks akhir kecocokan 'N': 13\n",
      "Rentang kecocokan (start, end): (12, 13)\n",
      "\n",
      "--------------------------------------------------\n",
      "\n",
      "Regex yang digunakan (Contoh 2): re.compile('\\\\bM')\n",
      "String sumber (Contoh 2): Gw kece dari lahir\n",
      "Muhamad Petra Piyunandra\n",
      "Indeks awal kecocokan 'M': 19\n",
      "Indeks akhir kecocokan 'M': 20\n",
      "Rentang kecocokan (start, end): (19, 20)\n"
     ]
    }
   ],
   "source": [
    "import re\n",
    "\n",
    "# Contoh 1: Mencari huruf 'N' di awal kata dalam string\n",
    "s = \"Universitas Negeri terbaik di Indonesia adalah ...\"\n",
    "\n",
    "# \\bN artinya: cari huruf 'N' yang berada di awal kata\n",
    "res = re.search(r\"\\bN\", s)\n",
    "\n",
    "# Menampilkan regex yang digunakan\n",
    "print(\"Regex yang digunakan (Contoh 1):\", res.re)\n",
    "\n",
    "# Menampilkan string sumber\n",
    "print(\"String sumber (Contoh 1):\", res.string)\n",
    "\n",
    "# Menampilkan indeks awal dari huruf 'N' yang cocok\n",
    "print(\"Indeks awal kecocokan 'N':\", res.start())\n",
    "\n",
    "# Menampilkan indeks akhir kecocokan (tepat setelah 'N')\n",
    "print(\"Indeks akhir kecocokan 'N':\", res.end())\n",
    "\n",
    "# Menampilkan tuple (start, end)\n",
    "print(\"Rentang kecocokan (start, end):\", res.span())\n",
    "\n",
    "\n",
    "print(\"\\n\" + \"-\"*50 + \"\\n\")  # Pemisah antar contoh\n",
    "\n",
    "\n",
    "# Contoh 2: Mencari huruf 'M' di awal kata dalam string dengan newline\n",
    "a = 'Gw kece dari lahir\\nMuhamad Petra Piyunandra'\n",
    "\n",
    "# \\bM artinya: cari huruf 'M' yang berada di awal kata\n",
    "res = re.search(r\"\\bM\", a)\n",
    "\n",
    "# Menampilkan regex yang digunakan\n",
    "print(\"Regex yang digunakan (Contoh 2):\", res.re)\n",
    "\n",
    "# Menampilkan string sumber\n",
    "print(\"String sumber (Contoh 2):\", res.string)\n",
    "\n",
    "# Menampilkan indeks awal dari huruf 'M' yang cocok\n",
    "print(\"Indeks awal kecocokan 'M':\", res.start())\n",
    "\n",
    "# Menampilkan indeks akhir kecocokan (tepat setelah 'M')\n",
    "print(\"Indeks akhir kecocokan 'M':\", res.end())\n",
    "\n",
    "# Menampilkan tuple (start, end)\n",
    "print(\"Rentang kecocokan (start, end):\", res.span())"
   ]
  },
  {
   "cell_type": "markdown",
   "metadata": {
    "id": "1HgcKLCUk7IW"
   },
   "source": [
    "## Matching pattern with text"
   ]
  },
  {
   "cell_type": "code",
   "execution_count": 40,
   "metadata": {
    "colab": {
     "base_uri": "https://localhost:8080/"
    },
    "executionInfo": {
     "elapsed": 417,
     "status": "ok",
     "timestamp": 1684919489805,
     "user": {
      "displayName": "Adi Winardi",
      "userId": "17059570974866336814"
     },
     "user_tz": -420
    },
    "id": "tLxJ8iP7jGR6",
    "outputId": "7bdfc0c3-d6ab-46f6-8b40-a4c7acb8761b"
   },
   "outputs": [
    {
     "name": "stdout",
     "output_type": "stream",
     "text": [
      "Bukan tanggal yang valid\n",
      "\n",
      "Bukan tanggal yang valid\n",
      "\n",
      "Bukan tanggal yang valid\n",
      "\n",
      "Data yang Diberikan: Januari 79\n",
      "Bulan: Januari\n",
      "Hari: 79\n"
     ]
    }
   ],
   "source": [
    "# Program Python untuk mendemonstrasikan cara kerja\n",
    "# re.match().\n",
    "import re\n",
    "\n",
    "# contoh fungsi yang menggunakan ekspresi reguler\n",
    "# untuk menemukan bulan dan hari pada suatu tanggal.\n",
    "def findMonthAndDate(string):\n",
    "\n",
    "    regex = r\"([a-zA-Z]+) (\\d+)\"\n",
    "    match = re.match(regex, string)\n",
    "\n",
    "    if match == None:\n",
    "        print (\"Bukan tanggal yang valid\")\n",
    "    else:\n",
    "        print (\"Data yang Diberikan: %s\" % (match.group()))\n",
    "        print (\"Bulan: %s\" % (match.group(1)))\n",
    "        print (\"Hari: %s\" % (match.group(2)))\n",
    "\n",
    "# Kode Pengemudi\n",
    "findMonthAndDate(\"24 April\")\n",
    "print(\"\")\n",
    "findMonthAndDate(\"24 Juni\")\n",
    "print(\"\")\n",
    "findMonthAndDate(\"24 Desember\")\n",
    "print(\"\")\n",
    "findMonthAndDate(\"Januari 79\")"
   ]
  },
  {
   "cell_type": "markdown",
   "metadata": {
    "id": "ot8H6djhlf-G"
   },
   "source": [
    "## Find all occurence in pattern"
   ]
  },
  {
   "cell_type": "code",
   "execution_count": 41,
   "metadata": {
    "colab": {
     "base_uri": "https://localhost:8080/"
    },
    "executionInfo": {
     "elapsed": 402,
     "status": "ok",
     "timestamp": 1681265907587,
     "user": {
      "displayName": "Fabin Wantara",
      "userId": "18317389429670588956"
     },
     "user_tz": -420
    },
    "id": "cDpdwqNPlCGG",
    "outputId": "0dbe6989-c90e-48c0-f288-7a717078763a"
   },
   "outputs": [
    {
     "name": "stdout",
     "output_type": "stream",
     "text": [
      "<re.Match object; span=(17, 26), match='123456789'>\n",
      "\n",
      "['123456789', '987654321']\n"
     ]
    }
   ],
   "source": [
    "# Program Python untuk mendemonstrasikan cara kerja\n",
    "# findall()\n",
    "import re\n",
    "\n",
    "# Contoh string teks tempat ekspresi reguler\n",
    "# dicari.\n",
    "string = \"\"\"Halo, nomor saya 123456789 dan\n",
    "nomor teman saya 987654321\"\"\"\n",
    "\n",
    "# Contoh ekspresi reguler untuk menemukan digit.\n",
    "regex = r'\\d+'\n",
    "\n",
    "match = re.search(regex, string)\n",
    "print(match)\n",
    "print(\"\")\n",
    "match = re.findall(regex, string)\n",
    "print(match)"
   ]
  },
  {
   "cell_type": "markdown",
   "metadata": {
    "id": "XCAsGl-Wnhwq"
   },
   "source": [
    "## re.VERBOSE"
   ]
  },
  {
   "cell_type": "code",
   "execution_count": 42,
   "metadata": {
    "id": "hsbH1AvxlmhX"
   },
   "outputs": [],
   "source": [
    "# Tanpa Menggunakan VERBOSE\n",
    "regex_email = re.compile(r'^([a-z0-9_\\.-]+)@([0-9a-z\\.-]+)\\.([a-z\\.]{2, 6})$',\n",
    "re.IGNORECASE)\n",
    "\n",
    "# Menggunakan VERBOSE\n",
    "regex_email = re.compile(r\"\"\"\n",
    "                ^([a-z0-9_\\.-]+)     # Bagian lokal\n",
    "                @                    # tanda @ tunggal\n",
    "                ([0-9a-z\\.-]+)       # Nama domain\n",
    "                \\.                   # titik tunggal .\n",
    "                ([a-z]{2,6})$        # Domain tingkat atas\n",
    "                \"\"\",re.VERBOSE | re.IGNORECASE)"
   ]
  },
  {
   "cell_type": "markdown",
   "metadata": {
    "id": "gal0XUPcn5ZM"
   },
   "source": [
    "Ini diteruskan sebagai argumen ke re.compile() yaitu re.compile(Regular Expression, re.VERBOSE). re.compile() mengembalikan RegexObject yang kemudian dicocokkan dengan string yang diberikan.\n",
    "\n",
    "Mari kita pertimbangkan contoh di mana pengguna diminta untuk memasukkan ID Email mereka dan kita harus memvalidasinya menggunakan RegEx. Format email adalah sebagai berikut:"
   ]
  },
  {
   "cell_type": "markdown",
   "metadata": {
    "id": "fiF2TL_0n-H4"
   },
   "source": [
    "- Detail pribadi/bagian lokal seperti john123\n",
    "- @ tunggal\n",
    "- Nama domain seperti gmail/yahoo, dll.\n",
    "- Titik tunggal (.)\n",
    "- Domain tingkat atas seperti .com/.org/.net"
   ]
  },
  {
   "cell_type": "markdown",
   "metadata": {
    "id": "3piG2tSDoFxR"
   },
   "source": [
    "Input : expectationvsreality@gmail.com\\\n",
    "Output : Valid\n",
    "\n",
    "Input : greatwonderland@yahoo.com@\\\n",
    "Output : Invalid\n",
    "\n",
    "invalid karena ada @ setelag top level domain name."
   ]
  },
  {
   "cell_type": "code",
   "execution_count": 43,
   "metadata": {
    "colab": {
     "base_uri": "https://localhost:8080/"
    },
    "executionInfo": {
     "elapsed": 11,
     "status": "ok",
     "timestamp": 1682178495245,
     "user": {
      "displayName": "12O41OO46_Gabriel Camoranesa Simarmata",
      "userId": "11218007227447981365"
     },
     "user_tz": -420
    },
    "id": "PU6MI5h_njj3",
    "outputId": "2ca4b485-7f69-4a91-95f5-7d7846c62176"
   },
   "outputs": [
    {
     "name": "stdout",
     "output_type": "stream",
     "text": [
      "aliceinwonderland@gmail.com Valid. Detailnya sebagai berikut:\n",
      "Lokal:aliceinwonderland\n",
      "Domain:gmail\n",
      "Domain Tingkat Atas:com\n",
      "\n",
      "harrypotter@yahoo.com@ Tidak Valid\n",
      "Crucialllife@.com Tidak Valid\n"
     ]
    }
   ],
   "source": [
    "# Program Python3 untuk menunjukkan Implementasi VERBOSE di RegEX\n",
    "import re\n",
    "\n",
    "def validate_email(email):\n",
    "\n",
    "    # RegexObject = re.compile( Regular expression, flag )\n",
    "    # Mengompilasi pola ekspresi reguler menjadi\n",
    "    # objek ekspresi reguler\n",
    "    regex_email=re.compile(r\"\"\"\n",
    "                ^([a-z0-9_\\.-]+) # Bagian lokal\n",
    "                @\n",
    "                ([0-9a-z\\.-]+) # Nama domain\n",
    "                \\. # Titik tunggal .\n",
    "                ([a-z]{2,6})$ # Domain tingkat atas\n",
    "                \"\"\",re.VERBOSE | re.IGNORECASE)\n",
    "\n",
    "    # RegexObject dicocokkan dengan yang diinginkan\n",
    "    # string menggunakan fungsi fullmatch\n",
    "    # Jika kecocokan ditemukan, search()\n",
    "    # mengembalikan Instansi MatchObject\n",
    "\n",
    "    res=regex_email.fullmatch(email)\n",
    "\n",
    "    #Jika kecocokan ditemukan, string tersebut valid\n",
    "    if res:\n",
    "        print(\"{} Valid. Detailnya sebagai berikut:\".format(email))\n",
    "\n",
    "        #mencetak bagian pertama/detail pribadi ID Email\n",
    "        print(\"Lokal:{}\".format(res.group(1)))\n",
    "\n",
    "        #mencetak Nama Domain ID Email\n",
    "        print(\"Domain:{}\".format(res.group(2)))\n",
    "\n",
    "        #mencetak Nama Domain Tingkat Atas ID Email\n",
    "        print(\"Domain Tingkat Atas:{}\".format(res.group(3)))\n",
    "        print()\n",
    "\n",
    "    else:\n",
    "        #Jika kecocokan tidak ditemukan, string tidak valid\n",
    "        print(\"{} Tidak Valid\".format(email))\n",
    "\n",
    "# Kode Pengemudi\n",
    "validate_email(\"aliceinwonderland@gmail.com\")\n",
    "validate_email(\"harrypotter@yahoo.com@\")\n",
    "validate_email(\"Crucialllife@.com\")"
   ]
  },
  {
   "cell_type": "code",
   "execution_count": 44,
   "metadata": {
    "colab": {
     "base_uri": "https://localhost:8080/"
    },
    "executionInfo": {
     "elapsed": 563,
     "status": "ok",
     "timestamp": 1685339613067,
     "user": {
      "displayName": "Adi Winardi",
      "userId": "17059570974866336814"
     },
     "user_tz": -420
    },
    "id": "ywuMNnQLQ3Bt",
    "outputId": "60fa9182-30c8-4ace-9825-79be39321d3c"
   },
   "outputs": [
    {
     "name": "stdout",
     "output_type": "stream",
     "text": [
      "@aditpramna Valid. Detailnya sebagai berikut:\n",
      "nama pengguna:aditpramna\n",
      "aditya167 Tidak Valid\n",
      "aditya@pram Tidak Valid\n",
      "@winardi1004 Valid. Detailnya sebagai berikut:\n",
      "nama pengguna:winardi1004\n"
     ]
    }
   ],
   "source": [
    "# Program Python3 untuk menunjukkan implementasi VERBOSE dalam RegEX\n",
    "import re\n",
    "\n",
    "def user_instagram(instagram):\n",
    "\n",
    "    regex_instagram=re.compile(r\"\"\"\n",
    "                    ^@              # tanda @ tunggal\n",
    "                    ([a-z0-9_\\.-]+) # nama pengguna Bagian\n",
    "                    \"\"\",re.VERBOSE | re.IGNORECASE)\n",
    "\n",
    "    res=regex_instagram.fullmatch(instagram)\n",
    "\n",
    "    if res:\n",
    "        print(\"{} Valid. Detailnya sebagai berikut:\".format(instagram))\n",
    "\n",
    "        print(\"nama pengguna:{}\".format(res.group(1)))\n",
    "\n",
    "    else:\n",
    "        #Jika kecocokan tidak ditemukan, string tidak valid\n",
    "        print(\"{} Tidak Valid\".format(instagram))\n",
    "\n",
    "# Driver Kode\n",
    "user_instagram(\"@aditpramna\")\n",
    "user_instagram(\"aditya167\")\n",
    "user_instagram(\"aditya@pram\")\n",
    "user_instagram(\"@winardi1004\")"
   ]
  },
  {
   "cell_type": "code",
   "execution_count": 45,
   "metadata": {
    "colab": {
     "base_uri": "https://localhost:8080/"
    },
    "executionInfo": {
     "elapsed": 383,
     "status": "ok",
     "timestamp": 1685344250361,
     "user": {
      "displayName": "Adi Winardi",
      "userId": "17059570974866336814"
     },
     "user_tz": -420
    },
    "id": "VGECdH66_ZB8",
    "outputId": "fbd0edfc-c30d-4796-f61e-427babcdd0b8"
   },
   "outputs": [
    {
     "name": "stdout",
     "output_type": "stream",
     "text": [
      "adgan167@gmail.com Valid. Detailnya adalah sebagai berikut:\n",
      "Lokal:adgan167@gmail.com\n",
      "Domain:gmail\n",
      "Domain tingkat atas:com\n",
      "\n",
      "{} adalah Format(email) tidak valid\n",
      "adityapramana107@gmail.com Valid. Detailnya adalah sebagai berikut:\n",
      "Lokal:adityapramana107@gmail.com\n",
      "Domain:gmail\n",
      "Domain tingkat atas:com\n",
      "\n",
      "Awinardi1004@gmail.com Valid. Detailnya adalah sebagai berikut:\n",
      "Lokal:Awinardi1004@gmail.com\n",
      "Domain:gmail\n",
      "Domain tingkat atas:com\n",
      "\n"
     ]
    }
   ],
   "source": [
    "import re\n",
    "\n",
    "def validasi_email(email):\n",
    "\n",
    "    regex_email=re.compile(r\"\"\"\n",
    "    ^([a-z0-9_\\.-]+) # Bagian lokal\n",
    "    @ # tanda @ tunggal\n",
    "    ([0-9a-z\\.-]+) # Nama domain\n",
    "    \\. # Titik tunggal .\n",
    "    ([a-z]{2,6})$ # Domain tingkat atas\n",
    "    \"\"\",re.VERBOSE | re.IGNORECASE)\n",
    "\n",
    "    res=regex_email.fullmatch(email)\n",
    "\n",
    "    if res:\n",
    "        print(\"{} Valid. Detailnya adalah sebagai berikut:\".format(email))\n",
    "\n",
    "        print(\"Lokal:{}\".format(res.group()))\n",
    "\n",
    "        print(\"Domain:{}\".format(res.group(2)))\n",
    "    \n",
    "        print(\"Domain tingkat atas:{}\".format(res.group(3)))\n",
    "        print()\n",
    "\n",
    "    else:\n",
    "        print(\"{} adalah Format(email) tidak valid\")\n",
    "\n",
    "validasi_email(\"adgan167@gmail.com\")\n",
    "validasi_email(\"aditpramna1@@gmail.com\")\n",
    "validasi_email(\"adityapramana107@gmail.com\")\n",
    "validasi_email(\"Awinardi1004@gmail.com\")"
   ]
  },
  {
   "cell_type": "markdown",
   "metadata": {
    "id": "gbowpmORpEXh"
   },
   "source": [
    "# Ringkasan Fungsi regex\n",
    "\n",
    "| Fungsi      | Tujuan                                                        |\n",
    "| ----------- | ------------------------------------------------------------- |\n",
    "| `findall()` | Mengambil semua match sebagai list                            |\n",
    "| `compile()` | Membuat objek regex                                           |\n",
    "| `split()`   | Memisahkan string berdasarkan pola                            |\n",
    "| `sub()`     | Mengganti pola dengan string baru                             |\n",
    "| `subn()`    | Seperti `sub`, tapi juga memberi jumlah penggantian           |\n",
    "| `escape()`  | Melindungi karakter khusus agar tidak diartikan sebagai regex |\n",
    "| `search()`  | Mencari **satu** match pertama                                |\n",
    "| `VERBOSE`   | Membuat regex lebih mudah dibaca dengan komentar & spasi      |\n"
   ]
  },
  {
   "cell_type": "markdown",
   "metadata": {},
   "source": [
    "# Thank you"
   ]
  },
  {
   "cell_type": "code",
   "execution_count": null,
   "metadata": {},
   "outputs": [],
   "source": []
  }
 ],
 "metadata": {
  "colab": {
   "provenance": []
  },
  "kernelspec": {
   "display_name": "Python 3 (ipykernel)",
   "language": "python",
   "name": "python3"
  },
  "language_info": {
   "codemirror_mode": {
    "name": "ipython",
    "version": 3
   },
   "file_extension": ".py",
   "mimetype": "text/x-python",
   "name": "python",
   "nbconvert_exporter": "python",
   "pygments_lexer": "ipython3",
   "version": "3.13.5"
  }
 },
 "nbformat": 4,
 "nbformat_minor": 4
}
