{
 "cells": [
  {
   "cell_type": "markdown",
   "metadata": {},
   "source": [
    "# Decorators and Context Managers\n",
    "Decorators adalah fitur dalam Python yang memungkinkan kita menambahkan atau memodifikasi perilaku fungsi tanpa mengubah kode aslinya. Decorators biasanya digunakan untuk logging, validasi, caching, atau pengukuran waktu eksekusi. Decorators bekerja dengan membungkus fungsi lain dan mengembalikan fungsi baru yang telah dimodifikasi.\n",
    "\n",
    "Context managers digunakan untuk mengelola sumber daya eksternal, seperti file, koneksi database, atau sesi jaringan. Dengan menggunakan with statement, context manager memastikan bahwa sumber daya dibuka dan ditutup dengan benar, bahkan jika terjadi error. Ini membantu mencegah kebocoran sumber daya dan membuat kode lebih bersih dan aman."
   ]
  },
  {
   "cell_type": "markdown",
   "metadata": {
    "id": "3gtK-BGXQgh4"
   },
   "source": [
    "# Simple\n"
   ]
  },
  {
   "cell_type": "markdown",
   "metadata": {
    "id": "fXVTzM7iQkl3"
   },
   "source": [
    "## Contoh 1: Eksekusi Fungsi Pengaturan Waktu dengan decorator"
   ]
  },
  {
   "cell_type": "markdown",
   "metadata": {
    "id": "3JLQ045xQ6h_"
   },
   "source": [
    "Decorator ini mengukur dan mencetak waktu eksekusi dari fungsi yang dibungkus. Cocok digunakan untuk mengetahui performa fungsi."
   ]
  },
  {
   "cell_type": "code",
   "execution_count": 18,
   "metadata": {
    "colab": {
     "base_uri": "https://localhost:8080/"
    },
    "executionInfo": {
     "elapsed": 7,
     "status": "ok",
     "timestamp": 1696039774371,
     "user": {
      "displayName": "Z A Z A",
      "userId": "07938683278567556560"
     },
     "user_tz": -420
    },
    "id": "-Ikx2mt-MuAf",
    "outputId": "47b3090b-d8ba-4c85-cd50-899a13858e5e"
   },
   "outputs": [
    {
     "name": "stdout",
     "output_type": "stream",
     "text": [
      "Fungsi fungsi_contoh membutuhkan 7.152557373046875e-07 detik untuk dieksekusi.\n"
     ]
    },
    {
     "data": {
      "text/plain": [
       "250000"
      ]
     },
     "execution_count": 18,
     "metadata": {},
     "output_type": "execute_result"
    }
   ],
   "source": [
    "import time\n",
    "\n",
    "# Decorator untuk mengukur waktu eksekusi fungsi\n",
    "def pengukur_waktu(fungsi):\n",
    "    def bungkus(*args, **kwargs):\n",
    "        waktu_mulai = time.time()\n",
    "        hasil = fungsi(*args, **kwargs)\n",
    "        waktu_selesai = time.time()\n",
    "        print(f\"Fungsi {fungsi.__name__} membutuhkan {waktu_selesai - waktu_mulai} detik untuk dieksekusi.\")\n",
    "        return hasil\n",
    "    return bungkus\n",
    "\n",
    "@pengukur_waktu\n",
    "def fungsi_contoh():\n",
    "    return 500 ** 2\n",
    "\n",
    "# Panggil fungsi\n",
    "fungsi_contoh()"
   ]
  },
  {
   "cell_type": "markdown",
   "metadata": {
    "id": "-AsgxIWPQtcf"
   },
   "source": [
    "## Contoh 2: Eksekusi Fungsi Logging dengan decorator"
   ]
  },
  {
   "cell_type": "markdown",
   "metadata": {
    "id": "24tCW-LyQ3_H"
   },
   "source": [
    "Decorator ini mencetak argumen yang dikirim ke fungsi dan hasil yang dikembalikan. Berguna untuk debugging dan pelacakan fungsi."
   ]
  },
  {
   "cell_type": "code",
   "execution_count": 19,
   "metadata": {
    "colab": {
     "base_uri": "https://localhost:8080/"
    },
    "executionInfo": {
     "elapsed": 7,
     "status": "ok",
     "timestamp": 1696039902657,
     "user": {
      "displayName": "Z A Z A",
      "userId": "07938683278567556560"
     },
     "user_tz": -420
    },
    "id": "ouPk0znxQu04",
    "outputId": "a27f4a17-0294-4214-8021-2fa7f548e7a7"
   },
   "outputs": [
    {
     "name": "stdout",
     "output_type": "stream",
     "text": [
      "Memanggil tambah dengan argumen: (2, 3), keyword argumen: {}\n",
      "tambah mengembalikan 5\n"
     ]
    }
   ],
   "source": [
    "# Decorator untuk mencatat pemanggilan fungsi dan hasilnya\n",
    "def pencatat_log(fungsi):\n",
    "    def bungkus(*args, **kwargs):\n",
    "        print(f\"Memanggil {fungsi.__name__} dengan argumen: {args}, keyword argumen: {kwargs}\")\n",
    "        hasil = fungsi(*args, **kwargs)\n",
    "        print(f\"{fungsi.__name__} mengembalikan {hasil}\")\n",
    "        return hasil\n",
    "    return bungkus\n",
    "\n",
    "@pencatat_log\n",
    "def tambah(a, b):\n",
    "    return a + b\n",
    "\n",
    "# Panggil fungsi\n",
    "hasil = tambah(2, 3)\n"
   ]
  },
  {
   "cell_type": "code",
   "execution_count": 20,
   "metadata": {
    "colab": {
     "base_uri": "https://localhost:8080/"
    },
    "executionInfo": {
     "elapsed": 5,
     "status": "ok",
     "timestamp": 1696039912338,
     "user": {
      "displayName": "Z A Z A",
      "userId": "07938683278567556560"
     },
     "user_tz": -420
    },
    "id": "OPCumzMM2zUR",
    "outputId": "a168cf0b-d648-4e95-e491-9d876ed65b08"
   },
   "outputs": [
    {
     "data": {
      "text/plain": [
       "5"
      ]
     },
     "execution_count": 20,
     "metadata": {},
     "output_type": "execute_result"
    }
   ],
   "source": [
    "hasil"
   ]
  },
  {
   "cell_type": "markdown",
   "metadata": {
    "id": "olHloADAQ7s3"
   },
   "source": [
    "# Intermediate"
   ]
  },
  {
   "cell_type": "markdown",
   "metadata": {
    "id": "GciwF0IQQ__f"
   },
   "source": [
    "## Contoh 1: Mengatur Waktu Blok Kode dengan Manajer Konteks"
   ]
  },
  {
   "cell_type": "markdown",
   "metadata": {
    "id": "bTxi07c1RC2n"
   },
   "source": [
    "Context manager ini mengukur waktu yang dibutuhkan oleh blok kode di dalam with. Membantu memonitor performa bagian tertentu dari program."
   ]
  },
  {
   "cell_type": "code",
   "execution_count": 21,
   "metadata": {
    "colab": {
     "base_uri": "https://localhost:8080/"
    },
    "executionInfo": {
     "elapsed": 3543,
     "status": "ok",
     "timestamp": 1696039973696,
     "user": {
      "displayName": "Z A Z A",
      "userId": "07938683278567556560"
     },
     "user_tz": -420
    },
    "id": "wE-hIOFWQ9hM",
    "outputId": "dbe0b935-2437-4e44-f44d-494a4385840e"
   },
   "outputs": [
    {
     "name": "stdout",
     "output_type": "stream",
     "text": [
      "Blok kode membutuhkan waktu 3.0001587867736816 detik untuk dijalankan.\n"
     ]
    }
   ],
   "source": [
    "import time\n",
    "from contextlib import contextmanager\n",
    "\n",
    "# Context manager untuk mengukur waktu eksekusi sebuah blok kode\n",
    "@contextmanager\n",
    "def pengukur_waktu():\n",
    "    waktu_mulai = time.time()\n",
    "    yield  # Menjalankan blok kode di dalam 'with'\n",
    "    waktu_selesai = time.time()\n",
    "    print(f\"Blok kode membutuhkan waktu {waktu_selesai - waktu_mulai} detik untuk dijalankan.\")\n",
    "\n",
    "# Menggunakan context manager\n",
    "with pengukur_waktu():\n",
    "    time.sleep(3)  # Contoh blok kode yang memerlukan waktu (tidur selama 3 detik)\n"
   ]
  },
  {
   "cell_type": "markdown",
   "metadata": {
    "id": "lATq4ukrRLEH"
   },
   "source": [
    "## Contoh 2: Manajer Konteks Kustom untuk Manajemen Sumber Daya"
   ]
  },
  {
   "cell_type": "markdown",
   "metadata": {
    "id": "nRo-9d81RMpu"
   },
   "source": [
    "Context manager ini menangani proses buka-tutup file secara otomatis. Menjamin file selalu ditutup meskipun terjadi error."
   ]
  },
  {
   "cell_type": "code",
   "execution_count": 22,
   "metadata": {
    "executionInfo": {
     "elapsed": 6,
     "status": "ok",
     "timestamp": 1696040063539,
     "user": {
      "displayName": "Z A Z A",
      "userId": "07938683278567556560"
     },
     "user_tz": -420
    },
    "id": "e5PVPf-uRML8"
   },
   "outputs": [],
   "source": [
    "from contextlib import contextmanager\n",
    "\n",
    "# Context manager untuk membuka dan menutup file secara otomatis\n",
    "@contextmanager\n",
    "def pembuka_berkas(nama_berkas, mode):\n",
    "    try:\n",
    "        berkas = open(nama_berkas, mode)\n",
    "        yield berkas  # Memberikan kendali kepada blok 'with'\n",
    "    finally:\n",
    "        berkas.close()  # File akan ditutup secara otomatis meskipun terjadi error\n",
    "\n",
    "# Menggunakan context manager untuk menulis ke dalam file\n",
    "with pembuka_berkas(\"contoh.txt\", \"w\") as berkas:\n",
    "    berkas.write(\"Halo, Context Manager!\")\n"
   ]
  },
  {
   "cell_type": "markdown",
   "metadata": {
    "id": "Jn1LWdwQRV6u"
   },
   "source": [
    "# Advanced"
   ]
  },
  {
   "cell_type": "markdown",
   "metadata": {
    "id": "JCU8OuesRYWm"
   },
   "source": [
    "## Contoh 1: Decorator Pencatatan Advanced dengan Fungsi signature"
   ]
  },
  {
   "cell_type": "markdown",
   "metadata": {
    "id": "fn8hFR9_RahX"
   },
   "source": [
    "Decorator ini mencetak nama fungsi, argumen lengkap (baik posisi maupun keyword), dan hasil pengembalian. Versi logging yang lebih informatif."
   ]
  },
  {
   "cell_type": "code",
   "execution_count": 23,
   "metadata": {
    "colab": {
     "base_uri": "https://localhost:8080/"
    },
    "executionInfo": {
     "elapsed": 552,
     "status": "ok",
     "timestamp": 1696040225316,
     "user": {
      "displayName": "Z A Z A",
      "userId": "07938683278567556560"
     },
     "user_tz": -420
    },
    "id": "8Y3ZQkATRX0p",
    "outputId": "08d6b3ba-b824-4ac5-8266-49983e49f652"
   },
   "outputs": [
    {
     "name": "stdout",
     "output_type": "stream",
     "text": [
      "Fungsi perkalian(4, 5) menghasilkan 20\n"
     ]
    },
    {
     "data": {
      "text/plain": [
       "20"
      ]
     },
     "execution_count": 23,
     "metadata": {},
     "output_type": "execute_result"
    }
   ],
   "source": [
    "# Decorator untuk mencatat pemanggilan fungsi beserta argumen dan hasilnya\n",
    "def decorator_log_lanjutan(fungsi):\n",
    "    def bungkus(*args, **kwargs):\n",
    "        # Menggabungkan argumen posisi (args) menjadi string\n",
    "        args_str = ', '.join([str(arg) for arg in args])\n",
    "        # Menggabungkan argumen kata kunci (kwargs) menjadi string\n",
    "        kwargs_str = ', '.join([f\"{key}={value}\" for key, value in kwargs.items()])\n",
    "        # Gabungkan semua argumen jika ada\n",
    "        semua_argumen = ', '.join(filter(None, [args_str, kwargs_str]))\n",
    "\n",
    "        hasil = fungsi(*args, **kwargs)\n",
    "        print(f\"Fungsi {fungsi.__name__}({semua_argumen}) menghasilkan {hasil}\")\n",
    "        return hasil\n",
    "    return bungkus\n",
    "\n",
    "# Fungsi untuk mengalikan dua angka\n",
    "@decorator_log_lanjutan\n",
    "def perkalian(x, y):\n",
    "    return x * y\n",
    "\n",
    "perkalian(4, 5)\n"
   ]
  },
  {
   "cell_type": "markdown",
   "metadata": {
    "id": "J7dEFUCbRjRv"
   },
   "source": [
    "## Contoh 2: Context Managers Advanced untuk Exception Handling"
   ]
  },
  {
   "cell_type": "markdown",
   "metadata": {
    "id": "NETI1IYMRlMX"
   },
   "source": [
    "Context manager ini menangkap exception tertentu selama blok with dijalankan, dan mencetak pesan error. Membantu penanganan error yang lebih elegan."
   ]
  },
  {
   "cell_type": "code",
   "execution_count": 24,
   "metadata": {
    "colab": {
     "base_uri": "https://localhost:8080/"
    },
    "executionInfo": {
     "elapsed": 5,
     "status": "ok",
     "timestamp": 1696040361621,
     "user": {
      "displayName": "Z A Z A",
      "userId": "07938683278567556560"
     },
     "user_tz": -420
    },
    "id": "8dA9I0wTRksq",
    "outputId": "17fc900a-eb17-410c-aca1-98c189765801"
   },
   "outputs": [
    {
     "name": "stdout",
     "output_type": "stream",
     "text": [
      "Eksepsi tertangkap: division by zero\n"
     ]
    }
   ],
   "source": [
    "from contextlib import contextmanager\n",
    "\n",
    "# Context manager untuk menangani pengecualian (exception)\n",
    "@contextmanager\n",
    "def penangkap_eksepsi(jenis_eksepsi):\n",
    "    try:\n",
    "        yield\n",
    "    except jenis_eksepsi as e:\n",
    "        print(f\"Eksepsi tertangkap: {e}\")\n",
    "\n",
    "# Contoh penggunaan: mencoba pembagian dengan nol yang akan menimbulkan ZeroDivisionError\n",
    "with penangkap_eksepsi(ZeroDivisionError):\n",
    "    hasil = 10 / 0\n"
   ]
  },
  {
   "cell_type": "markdown",
   "metadata": {},
   "source": [
    "### Logging di Aplikasi Web (Flask)\n",
    "\n",
    "Kasus: Memantau request API untuk debugging dan analisis.\n",
    "\n",
    "Setiap request API ke /home akan dicatat waktu dan metodenya.\n",
    "\n",
    "Dapat digunakan di berbagai endpoint API tanpa menulis ulang kode logging."
   ]
  },
  {
   "cell_type": "code",
   "execution_count": 25,
   "metadata": {
    "id": "DozIPKzuSFCC"
   },
   "outputs": [
    {
     "name": "stdout",
     "output_type": "stream",
     "text": [
      " * Serving Flask app '__main__'\n",
      " * Debug mode: on\n"
     ]
    },
    {
     "name": "stderr",
     "output_type": "stream",
     "text": [
      "WARNING: This is a development server. Do not use it in a production deployment. Use a production WSGI server instead.\n",
      " * Running on http://127.0.0.1:5000\n",
      "Press CTRL+C to quit\n",
      " * Restarting with watchdog (windowsapi)\n"
     ]
    },
    {
     "ename": "SystemExit",
     "evalue": "1",
     "output_type": "error",
     "traceback": [
      "An exception has occurred, use %tb to see the full traceback.\n",
      "\u001b[1;31mSystemExit\u001b[0m\u001b[1;31m:\u001b[0m 1\n"
     ]
    },
    {
     "name": "stderr",
     "output_type": "stream",
     "text": [
      "C:\\Users\\LENOVO\\anaconda3\\Lib\\site-packages\\IPython\\core\\interactiveshell.py:3585: UserWarning: To exit: use 'exit', 'quit', or Ctrl-D.\n",
      "  warn(\"To exit: use 'exit', 'quit', or Ctrl-D.\", stacklevel=1)\n"
     ]
    }
   ],
   "source": [
    "from flask import Flask, request\n",
    "import datetime\n",
    "\n",
    "app = Flask(__name__)\n",
    "\n",
    "# decorator untuk mencatat permintaan HTTP yang masuk\n",
    "def pencatat_permintaan(fungsi):\n",
    "    def bungkus(*args, **kwargs):\n",
    "        print(f\"[{datetime.datetime.now()}] Permintaan ke {request.path} dengan metode {request.method}\")\n",
    "        return fungsi(*args, **kwargs)\n",
    "    return bungkus\n",
    "\n",
    "@app.route(\"/beranda\", methods=[\"GET\"])\n",
    "@pencatat_permintaan\n",
    "def beranda():\n",
    "    return \"Selamat datang di Halaman Beranda\"\n",
    "\n",
    "if __name__ == \"__main__\":\n",
    "    app.run(debug=True)\n"
   ]
  },
  {
   "cell_type": "markdown",
   "metadata": {},
   "source": [
    "### Caching dengan Decorators\n",
    "\n",
    "Kasus: Mempercepat respon API dengan menyimpan hasil perhitungan.\n",
    "\n",
    "Jika fungsi sudah pernah dijalankan, hasilnya disimpan di cache.\n",
    "\n",
    "Mempercepat aplikasi, terutama jika perhitungan mahal (misalnya query database atau pemrosesan gambar).\n"
   ]
  },
  {
   "cell_type": "code",
   "execution_count": 26,
   "metadata": {},
   "outputs": [
    {
     "name": "stdout",
     "output_type": "stream",
     "text": [
      "Sedang menghitung...\n",
      "25\n",
      "Mengambil dari cache...\n",
      "25\n"
     ]
    }
   ],
   "source": [
    "import functools\n",
    "\n",
    "# Penyimpanan hasil perhitungan\n",
    "cache = {}\n",
    "\n",
    "# decorator untuk menyimpan hasil fungsi agar tidak dihitung ulang\n",
    "def decorator_caching(fungsi):\n",
    "    @functools.wraps(fungsi)\n",
    "    def bungkus(*args):\n",
    "        if args in cache:\n",
    "            print(\"Mengambil dari cache...\")\n",
    "            return cache[args]\n",
    "        hasil = fungsi(*args)\n",
    "        cache[args] = hasil\n",
    "        return hasil\n",
    "    return bungkus\n",
    "\n",
    "@decorator_caching\n",
    "def perhitungan_berat(x):\n",
    "    print(\"Sedang menghitung...\")\n",
    "    return x ** 2  # Simulasi perhitungan yang memakan waktu.\n",
    "\n",
    "print(perhitungan_berat(5))  # Pertama kali: Hitung\n",
    "print(perhitungan_berat(5))  # Kedua kali: Ambil dari cache\n"
   ]
  },
  {
   "cell_type": "code",
   "execution_count": 27,
   "metadata": {},
   "outputs": [
    {
     "name": "stdout",
     "output_type": "stream",
     "text": [
      "Sedang menghitung...\n",
      "100\n",
      "Sedang menghitung...\n",
      "4\n"
     ]
    }
   ],
   "source": [
    "print(perhitungan_berat(10))\n",
    "print(perhitungan_berat(2))"
   ]
  },
  {
   "cell_type": "markdown",
   "metadata": {},
   "source": [
    "### Manajemen Koneksi Database (SQLAlchemy)\n",
    "\n",
    "Kasus: Menjamin bahwa koneksi database ditutup setelah digunakan.\n",
    "\n",
    "Context manager memastikan koneksi database selalu ditutup setelah digunakan.\n",
    "\n",
    "Mencegah kebocoran koneksi database, yang bisa menyebabkan crash pada sistem."
   ]
  },
  {
   "cell_type": "code",
   "execution_count": 28,
   "metadata": {},
   "outputs": [
    {
     "name": "stdout",
     "output_type": "stream",
     "text": [
      "[('3.45.3',)]\n"
     ]
    }
   ],
   "source": [
    "from sqlalchemy import create_engine, text  # Tambahkan 'text'\n",
    "from sqlalchemy.orm import sessionmaker\n",
    "from contextlib import contextmanager\n",
    "\n",
    "# Inisialisasi koneksi ke database SQLite\n",
    "DATABASE_URL = \"sqlite:///example.db\"\n",
    "engine = create_engine(DATABASE_URL)\n",
    "SessionLocal = sessionmaker(bind=engine)\n",
    "\n",
    "# Context manager untuk sesi database\n",
    "@contextmanager\n",
    "def get_db_session():\n",
    "    db = SessionLocal()\n",
    "    try:\n",
    "        yield db\n",
    "    finally:\n",
    "        db.close()  # Pastikan koneksi selalu ditutup\n",
    "\n",
    "# Menggunakan sesi untuk menjalankan query\n",
    "with get_db_session() as session:\n",
    "    result = session.execute(text(\"SELECT sqlite_version();\"))  # Bungkus query dengan text()\n",
    "    print(result.fetchall())\n"
   ]
  },
  {
   "cell_type": "markdown",
   "metadata": {},
   "source": [
    "### Mengelola Koneksi API dengan requests\n",
    "\n",
    "Kasus: Mengambil data dari API eksternal dengan koneksi yang aman.\n",
    "\n",
    "Context manager memastikan koneksi API tertutup setelah digunakan.\n",
    "\n",
    "Menghindari kebocoran sesi HTTP, yang bisa menghabiskan sumber daya server."
   ]
  },
  {
   "cell_type": "code",
   "execution_count": 29,
   "metadata": {},
   "outputs": [
    {
     "name": "stdout",
     "output_type": "stream",
     "text": [
      "{'userId': 1, 'id': 1, 'title': 'delectus aut autem', 'completed': False}\n"
     ]
    }
   ],
   "source": [
    "import requests\n",
    "from contextlib import contextmanager\n",
    "\n",
    "# Context manager untuk membuka sesi API\n",
    "@contextmanager\n",
    "def buka_sesi_api(url):\n",
    "    sesi = requests.Session()\n",
    "    try:\n",
    "        respons = sesi.get(url)  # Mengirim permintaan GET ke URL\n",
    "        yield respons  # Mengembalikan respons dari API\n",
    "    finally:\n",
    "        sesi.close()  # Menutup sesi setelah selesai\n",
    "\n",
    "# URL API contoh\n",
    "URL_API = \"https://jsonplaceholder.typicode.com/todos/1\"\n",
    "\n",
    "# Menggunakan context manager untuk mengambil data dari API\n",
    "with buka_sesi_api(URL_API) as respons:\n",
    "    data = respons.json()\n",
    "    print(data)"
   ]
  },
  {
   "cell_type": "code",
   "execution_count": null,
   "metadata": {},
   "outputs": [],
   "source": []
  },
  {
   "cell_type": "code",
   "execution_count": null,
   "metadata": {},
   "outputs": [],
   "source": []
  },
  {
   "cell_type": "code",
   "execution_count": null,
   "metadata": {},
   "outputs": [],
   "source": []
  }
 ],
 "metadata": {
  "colab": {
   "provenance": []
  },
  "kernelspec": {
   "display_name": "Python 3 (ipykernel)",
   "language": "python",
   "name": "python3"
  },
  "language_info": {
   "codemirror_mode": {
    "name": "ipython",
    "version": 3
   },
   "file_extension": ".py",
   "mimetype": "text/x-python",
   "name": "python",
   "nbconvert_exporter": "python",
   "pygments_lexer": "ipython3",
   "version": "3.13.5"
  }
 },
 "nbformat": 4,
 "nbformat_minor": 4
}
