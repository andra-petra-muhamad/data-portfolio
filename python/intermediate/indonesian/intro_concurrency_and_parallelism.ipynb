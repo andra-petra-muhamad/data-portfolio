{
 "cells": [
  {
   "cell_type": "markdown",
   "metadata": {},
   "source": [
    "# Concurrency and Parallelism\n",
    "## Concurrency\n",
    "**Definisi**\n",
    "Concurrency adalah kemampuan suatu program untuk menangani banyak tugas secara bersama-sama (secara bergantian dalam waktu yang sangat cepat), meskipun tidak harus berjalan pada saat yang sama.\n",
    "**Analogi**\n",
    "Bayangkan satu koki yang sedang memasak tiga masakan. Dia berpindah-pindah tugas dengan cepat: menunggu air mendidih, lalu memotong sayur, lalu mengaduk sup. Tidak dilakukan bersamaan, tapi semua berjalan.\n",
    "**Teknis**\n",
    "* Biasanya menggunakan single-core CPU\n",
    "* Dibantu dengan threading, asynchronous I/O, atau coroutines (seperti async dan await di Python)\n",
    "* Cocok untuk I/O-bound tasks (misal: membaca file, web scraping, database query)\n",
    "## Parallelism\n",
    "**Definisi**\n",
    "Parallelism adalah menjalankan beberapa tugas secara benar-benar bersamaan, pada waktu yang sama, dengan multiple core CPU atau multiple processor.\n",
    "**Analogi**\n",
    "Bayangkan tiga koki di tiga dapur yang masing-masing memasak satu masakan. Semua tugas berlangsung secara paralel dan bersamaan.\n",
    "**Teknis**\n",
    "* Butuh multi-core CPU\n",
    "* Menggunakan proses paralel (multiprocessing, joblib, GPU processing)\n",
    "* Cocok untuk CPU-bound tasks (misal: komputasi berat, image processing, training ML model)\n",
    "\n",
    "\"All parallelism is concurrent, but not all concurrency is parallel.\""
   ]
  },
  {
   "cell_type": "markdown",
   "metadata": {
    "id": "3gtK-BGXQgh4"
   },
   "source": [
    "# Simple\n",
    "\n",
    "Program ini menunjukkan bagaimana sebuah tugas dijalankan secara terpisah namun tetap diselaraskan agar program utama menunggu hingga tugas tersebut selesai sebelum melanjutkan eksekusi akhir."
   ]
  },
  {
   "cell_type": "code",
   "execution_count": 3,
   "metadata": {},
   "outputs": [
    {
     "name": "stdout",
     "output_type": "stream",
     "text": [
      "Tugas dimulai...\n",
      "Tugas selesai!\n",
      "Tugas selesai!\n",
      "Semua tugas selesai!\n"
     ]
    }
   ],
   "source": [
    "import threading\n",
    "import time\n",
    "\n",
    "def tugas():\n",
    "    print(\"Tugas dimulai...\")\n",
    "    time.sleep(5)\n",
    "    print(\"Tugas selesai!\")\n",
    "    time.sleep(5)\n",
    "    print(\"Tugas selesai!\")\n",
    "\n",
    "# Membuat thread\n",
    "t = threading.Thread(target=tugas)\n",
    "\n",
    "# Memulai thread\n",
    "t.start()\n",
    "\n",
    "# Menunggu thread selesai\n",
    "t.join()\n",
    "\n",
    "print(\"Semua tugas selesai!\")\n"
   ]
  },
  {
   "cell_type": "markdown",
   "metadata": {},
   "source": [
    "Program ini menggambarkan bagaimana sebuah tugas dapat berjalan secara bersamaan dengan program utama, memungkinkan bagian lain dari program untuk terus berjalan tanpa harus menunggu tugas tersebut selesai."
   ]
  },
  {
   "cell_type": "code",
   "execution_count": 4,
   "metadata": {},
   "outputs": [
    {
     "name": "stdout",
     "output_type": "stream",
     "text": [
      "Tugas dimulai...Semua tugas selesai!\n",
      "\n",
      "Tugas selesai!\n"
     ]
    },
    {
     "name": "stdout",
     "output_type": "stream",
     "text": [
      "Tugas selesai!\n"
     ]
    }
   ],
   "source": [
    "import threading\n",
    "import time\n",
    "\n",
    "def tugas():\n",
    "    print(\"Tugas dimulai...\")\n",
    "    time.sleep(5)\n",
    "    print(\"Tugas selesai!\")\n",
    "\n",
    "# Membuat thread\n",
    "t = threading.Thread(target=tugas)\n",
    "\n",
    "# Memulai thread\n",
    "t.start()\n",
    "\n",
    "print(\"Semua tugas selesai!\")\n"
   ]
  },
  {
   "cell_type": "markdown",
   "metadata": {
    "id": "fXVTzM7iQkl3"
   },
   "source": [
    "## Contoh 1: Membuat Thread untuk Eksekusi Paralel"
   ]
  },
  {
   "cell_type": "markdown",
   "metadata": {},
   "source": [
    "Kode ini menggambarkan dua aktivitas yang dijalankan secara bersamaan menggunakan dua thread terpisah: satu mencetak angka dari 1 hingga 5, dan yang lain mencetak huruf dari ‘a’ hingga ‘e’. Keduanya berjalan serempak, memungkinkan angka dan huruf muncul secara berselang-seling tergantung pada kecepatan eksekusi masing-masing thread. Program utama menunggu hingga kedua thread selesai sebelum mengakhiri eksekusi."
   ]
  },
  {
   "cell_type": "code",
   "execution_count": 5,
   "metadata": {
    "colab": {
     "base_uri": "https://localhost:8080/"
    },
    "executionInfo": {
     "elapsed": 5261,
     "status": "ok",
     "timestamp": 1697272379954,
     "user": {
      "displayName": "Z A Z A",
      "userId": "07938683278567556560"
     },
     "user_tz": -420
    },
    "id": "-Ikx2mt-MuAf",
    "outputId": "9d1a125e-c41f-4af2-8bbf-3357dcd740b1"
   },
   "outputs": [
    {
     "name": "stdout",
     "output_type": "stream",
     "text": [
      "Number: 1\n",
      "Letter: a\n",
      "Number: 2Letter: b\n",
      "\n",
      "Letter: c\n",
      "Number: 3\n",
      "Letter: dNumber: 4\n",
      "\n",
      "Letter: eNumber: 5\n",
      "\n"
     ]
    }
   ],
   "source": [
    "import threading\n",
    "import time\n",
    "\n",
    "def print_numbers():\n",
    "    for i in range(1, 6):\n",
    "        print(f\"Number: {i}\")\n",
    "        time.sleep(1)\n",
    "\n",
    "def print_letters():\n",
    "    for letter in 'abcde':\n",
    "        print(f\"Letter: {letter}\")\n",
    "        time.sleep(1)\n",
    "\n",
    "thread1 = threading.Thread(target=print_numbers)\n",
    "thread2 = threading.Thread(target=print_letters)\n",
    "\n",
    "thread1.start()\n",
    "thread2.start()\n",
    "\n",
    "thread1.join()\n",
    "thread2.join()\n"
   ]
  },
  {
   "cell_type": "markdown",
   "metadata": {
    "id": "sJp8E9vLIEbo"
   },
   "source": [
    "Penjelasan:\n",
    "* Dalam contoh ini, terdapat dua fungsi, print_numbers dan print_letters, masing-masing mensimulasikan sebuah tugas.\n",
    "* Kami membuat dua thread, thread1 dan thread2, untuk menjalankan fungsi-fungsi ini secara bersamaan.\n",
    "* thread1.start() dan thread2.start() memulai thread-thread tersebut.\n",
    "* Kami menggunakan thread1.join() dan thread2.join() untuk menunggu thread selesai.\n",
    "* Thread-thread ini menjalankan tugas secara bersamaan, mencetak angka dan huruf, dan melakukan sleep selama 1 detik setelah mencetak setiap karakter.\n",
    "\n",
    "## Contoh 2: Keamanan Thread dengan Sumber Daya Bersama\n",
    "Kode ini mendemonstrasikan bagaimana dua thread dapat bekerja bersama untuk menambah nilai suatu variabel bersama (counter) sebanyak 100.000 kali masing-masing, sambil menghindari konflik atau kesalahan akibat akses bersamaan. Dengan menggunakan lock, kode memastikan bahwa hanya satu thread yang dapat memodifikasi counter pada satu waktu, menjaga akurasi hasil akhir. Setelah kedua thread selesai dijalankan, program mencetak nilai akhir dari counter, yang seharusnya bernilai 200.000 jika semua operasi berhasil dijalankan tanpa konflik."
   ]
  },
  {
   "cell_type": "code",
   "execution_count": 6,
   "metadata": {
    "colab": {
     "base_uri": "https://localhost:8080/"
    },
    "executionInfo": {
     "elapsed": 359,
     "status": "ok",
     "timestamp": 1697272515116,
     "user": {
      "displayName": "Z A Z A",
      "userId": "07938683278567556560"
     },
     "user_tz": -420
    },
    "id": "ouPk0znxQu04",
    "outputId": "5239ab12-a98b-4701-ed68-20f9a594c39f"
   },
   "outputs": [
    {
     "name": "stdout",
     "output_type": "stream",
     "text": [
      "Counter: 200000\n"
     ]
    }
   ],
   "source": [
    "import threading\n",
    "\n",
    "counter = 0\n",
    "lock = threading.Lock()\n",
    "\n",
    "def increment():\n",
    "    global counter\n",
    "    for _ in range(100000):\n",
    "        with lock:\n",
    "            counter += 1\n",
    "\n",
    "thread1 = threading.Thread(target=increment)\n",
    "thread2 = threading.Thread(target=increment)\n",
    "\n",
    "thread1.start()\n",
    "thread2.start()\n",
    "\n",
    "thread1.join()\n",
    "thread2.join()\n",
    "\n",
    "print(\"Counter:\", counter)\n"
   ]
  },
  {
   "cell_type": "markdown",
   "metadata": {
    "id": "JDa_RjRmIJ3n"
   },
   "source": [
    "Penjelasan:\n",
    "\n",
    "Contoh ini menggambarkan masalah umum dalam pemrograman konkurensi: sumber daya bersama.\n",
    "Kami memiliki variabel global counter yang diinkremen oleh beberapa thread secara bersamaan.\n",
    "Untuk memastikan keamanan thread, kami menggunakan threading.Lock untuk melindungi bagian kritis di mana counter diperbarui.\n",
    "Setiap thread, thread1 dan thread2, menginkremen counter sebanyak 100,000 kali.\n",
    "Setelah kedua thread selesai, kami mencetak nilai terakhir dari counter. Menggunakan lock memastikan bahwa counter diperbarui secara aman."
   ]
  },
  {
   "cell_type": "markdown",
   "metadata": {
    "id": "olHloADAQ7s3"
   },
   "source": [
    "# Intermediate"
   ]
  },
  {
   "cell_type": "markdown",
   "metadata": {
    "id": "GciwF0IQQ__f"
   },
   "source": [
    "## Contoh 1: Skenario Produsen-Konsumen dengan Thread\n",
    "Kode ini menggambarkan skenario produsen-konsumen menggunakan dua thread dan struktur antrian (queue.Queue) untuk komunikasi antar thread. Thread produsen menghasilkan lima item dan menempatkannya ke dalam antrian, sedangkan thread konsumen mengambil item satu per satu dari antrian dan mencetaknya sebagai tanda bahwa item tersebut telah \"dikonsumsi\". Setelah produsen selesai, ia mengirimkan sinyal khusus (None) ke konsumen sebagai tanda bahwa tidak ada lagi item yang akan diproduksi, sehingga thread konsumen dapat berhenti secara bersih. Pendekatan ini menjaga sinkronisasi dan alur kerja antara dua thread tanpa konflik."
   ]
  },
  {
   "cell_type": "code",
   "execution_count": 7,
   "metadata": {
    "colab": {
     "base_uri": "https://localhost:8080/"
    },
    "executionInfo": {
     "elapsed": 386,
     "status": "ok",
     "timestamp": 1697272743822,
     "user": {
      "displayName": "Z A Z A",
      "userId": "07938683278567556560"
     },
     "user_tz": -420
    },
    "id": "wE-hIOFWQ9hM",
    "outputId": "5676e0e5-ef18-4f02-a52d-fbd2f0c8c83e"
   },
   "outputs": [
    {
     "name": "stdout",
     "output_type": "stream",
     "text": [
      "Dikonsumsi: 0\n",
      "Dikonsumsi: 1\n",
      "Dikonsumsi: 2\n",
      "Dikonsumsi: 3\n",
      "Dikonsumsi: 4\n"
     ]
    }
   ],
   "source": [
    "import threading\n",
    "import queue\n",
    "\n",
    "def produsen(q):\n",
    "    for i in range(5):\n",
    "        q.put(i)\n",
    "\n",
    "def konsumen(q):\n",
    "    while True:\n",
    "        item = q.get()\n",
    "        if item is None:\n",
    "            break\n",
    "        print(\"Dikonsumsi:\", item)\n",
    "\n",
    "q = queue.Queue()\n",
    "thread_produsen = threading.Thread(target=produsen, args=(q,))\n",
    "thread_konsumen = threading.Thread(target=konsumen, args=(q,))\n",
    "\n",
    "thread_produsen.start()\n",
    "thread_konsumen.start()\n",
    "\n",
    "thread_produsen.join()\n",
    "q.put(None)  # Sinyal kepada konsumen untuk berhenti\n",
    "thread_konsumen.join()\n"
   ]
  },
  {
   "cell_type": "markdown",
   "metadata": {
    "id": "WQ3eERXaL5yD"
   },
   "source": [
    "Penjelasan:\n",
    "* Dalam contoh ini, kami memiliki dua thread yang mewakili produsen dan konsumen.\n",
    "* Thread produsen, thread_produsen, menghasilkan dan menambahkan item ke antrian bersama.\n",
    "* Thread konsumen, thread_konsumen, mengonsumsi item dari antrian.\n",
    "* Thread konsumen terus mengonsumsi item hingga menerima sinyal \"berhenti\" (None) dari produsen.\n",
    "* Penggunaan antrian memastikan keselamatan konkurensi dan mengizinkan komunikasi yang aman antara produsen dan konsumen."
   ]
  },
  {
   "cell_type": "markdown",
   "metadata": {
    "id": "lATq4ukrRLEH"
   },
   "source": [
    "## Contoh 2: Thread Pool untuk Paralelisme Tugas\n",
    "Kode ini menunjukkan penggunaan ThreadPoolExecutor dari modul concurrent.futures untuk menjalankan fungsi secara paralel menggunakan thread. Fungsi kuadrat menghitung kuadrat dari suatu angka setelah jeda satu detik. Daftar angka [1, 2, 3, 4, 5] diproses secara bersamaan oleh maksimal tiga thread yang berjalan paralel. Dengan pendekatan ini, eksekusi total menjadi lebih cepat dibandingkan menjalankannya satu per satu, karena beberapa tugas dijalankan secara bersamaan. Setelah semua hasil dihitung, program mencetak daftar hasil kuadratnya."
   ]
  },
  {
   "cell_type": "code",
   "execution_count": 8,
   "metadata": {
    "colab": {
     "base_uri": "https://localhost:8080/"
    },
    "executionInfo": {
     "elapsed": 2355,
     "status": "ok",
     "timestamp": 1697272916399,
     "user": {
      "displayName": "Z A Z A",
      "userId": "07938683278567556560"
     },
     "user_tz": -420
    },
    "id": "e5PVPf-uRML8",
    "outputId": "46bc8cf9-d2b4-4f01-d95f-05df92c39b36"
   },
   "outputs": [
    {
     "name": "stdout",
     "output_type": "stream",
     "text": [
      "Hasil: [1, 4, 9, 16, 25]\n"
     ]
    }
   ],
   "source": [
    "from concurrent.futures import ThreadPoolExecutor\n",
    "import time\n",
    "\n",
    "def kuadrat(x):\n",
    "    time.sleep(1)\n",
    "    return x * x\n",
    "\n",
    "data = [1, 2, 3, 4, 5]\n",
    "with ThreadPoolExecutor(max_workers=3) as executor:\n",
    "    hasil = list(executor.map(kuadrat, data))\n",
    "\n",
    "print(\"Hasil:\", hasil)\n"
   ]
  },
  {
   "cell_type": "markdown",
   "metadata": {
    "id": "6wH0c8EkL7qf"
   },
   "source": [
    "Penjelasan:\\\n",
    "Pada contoh ini, kami memperkenalkan ThreadPoolExecutor dari modul concurrent.futures, yang menyediakan cara praktis untuk mengelola dan menjalankan tugas secara bersamaan.\n",
    "Kami mendefinisikan fungsi kuadrat yang mensimulasikan tugas dengan melakukan kuadrat angka dan tidur selama 1 detik.\n",
    "Kami membuat daftar data dan menggunakan metode executor.map untuk pengeksekusian secara bersamaan"
   ]
  },
  {
   "cell_type": "markdown",
   "metadata": {
    "id": "Jn1LWdwQRV6u"
   },
   "source": [
    "# Advanced"
   ]
  },
  {
   "cell_type": "markdown",
   "metadata": {
    "id": "JCU8OuesRYWm"
   },
   "source": [
    "## Contoh 1: Eksekusi Bersamaan dengan ThreadPoolExecutor\n",
    "Kode ini merupakan implementasi concurrent programming menggunakan ThreadPoolExecutor dari modul concurrent.futures untuk menjalankan fungsi secara paralel dengan thread. Fungsi kuadrat akan menghitung kuadrat dari setiap angka dalam daftar data yang berisi angka 0 hingga 99, dengan jeda satu detik setiap eksekusi. Karena max_workers=3, maka hanya tiga tugas akan dijalankan secara bersamaan dalam satu waktu oleh tiga thread yang aktif. Meskipun setiap perhitungan butuh waktu, pendekatan ini mempercepat proses total dibandingkan jika dilakukan secara berurutan. Setelah semua kuadrat selesai dihitung secara paralel, hasilnya dikumpulkan dan ditampilkan sebagai daftar."
   ]
  },
  {
   "cell_type": "code",
   "execution_count": 9,
   "metadata": {
    "colab": {
     "base_uri": "https://localhost:8080/"
    },
    "executionInfo": {
     "elapsed": 2340,
     "status": "ok",
     "timestamp": 1697273055589,
     "user": {
      "displayName": "Z A Z A",
      "userId": "07938683278567556560"
     },
     "user_tz": -420
    },
    "id": "8Y3ZQkATRX0p",
    "outputId": "dbe315d9-56e1-4247-b3e0-1146afe04c99"
   },
   "outputs": [
    {
     "name": "stdout",
     "output_type": "stream",
     "text": [
      "Hasil (Thread): [0, 1, 4, 9, 16, 25, 36, 49, 64, 81, 100, 121, 144, 169, 196, 225, 256, 289, 324, 361, 400, 441, 484, 529, 576, 625, 676, 729, 784, 841, 900, 961, 1024, 1089, 1156, 1225, 1296, 1369, 1444, 1521, 1600, 1681, 1764, 1849, 1936, 2025, 2116, 2209, 2304, 2401, 2500, 2601, 2704, 2809, 2916, 3025, 3136, 3249, 3364, 3481, 3600, 3721, 3844, 3969, 4096, 4225, 4356, 4489, 4624, 4761, 4900, 5041, 5184, 5329, 5476, 5625, 5776, 5929, 6084, 6241, 6400, 6561, 6724, 6889, 7056, 7225, 7396, 7569, 7744, 7921, 8100, 8281, 8464, 8649, 8836, 9025, 9216, 9409, 9604, 9801]\n"
     ]
    }
   ],
   "source": [
    "from concurrent.futures import ThreadPoolExecutor, ProcessPoolExecutor\n",
    "import time\n",
    "\n",
    "def kuadrat(x):\n",
    "    time.sleep(1)\n",
    "    return x * x\n",
    "\n",
    "data = [i for i in range(100)]\n",
    "with ThreadPoolExecutor(max_workers=3) as executor:\n",
    "    hasil = list(executor.map(kuadrat, data))\n",
    "\n",
    "print(\"Hasil (Thread):\", hasil)\n"
   ]
  },
  {
   "cell_type": "markdown",
   "metadata": {},
   "source": [
    "Kode ini menunjukkan pemrosesan paralel menggunakan ThreadPoolExecutor dengan jumlah worker yang besar (max_workers=100). Fungsi kuadrat menghitung kuadrat dari angka dalam daftar data yang berisi bilangan 0 hingga 99, dan setiap pemrosesan diberi jeda satu detik untuk mensimulasikan proses yang memakan waktu. Karena jumlah thread sebanyak 100 sama dengan jumlah elemen dalam data, seluruh tugas dapat diproses secara bersamaan, sehingga waktu total eksekusi akan mendekati waktu eksekusi satu fungsi saja (sekitar 1 detik), bukan 100 detik seperti pada pemrosesan berurutan. Pendekatan ini memperlihatkan kekuatan concurrency dalam memanfaatkan thread secara maksimal untuk meningkatkan efisiensi, meskipun dalam praktiknya jumlah thread yang terlalu banyak bisa memberi tekanan pada sistem tergantung pada beban dan sumber daya."
   ]
  },
  {
   "cell_type": "code",
   "execution_count": 10,
   "metadata": {},
   "outputs": [
    {
     "name": "stdout",
     "output_type": "stream",
     "text": [
      "Hasil (Thread): [0, 1, 4, 9, 16, 25, 36, 49, 64, 81, 100, 121, 144, 169, 196, 225, 256, 289, 324, 361, 400, 441, 484, 529, 576, 625, 676, 729, 784, 841, 900, 961, 1024, 1089, 1156, 1225, 1296, 1369, 1444, 1521, 1600, 1681, 1764, 1849, 1936, 2025, 2116, 2209, 2304, 2401, 2500, 2601, 2704, 2809, 2916, 3025, 3136, 3249, 3364, 3481, 3600, 3721, 3844, 3969, 4096, 4225, 4356, 4489, 4624, 4761, 4900, 5041, 5184, 5329, 5476, 5625, 5776, 5929, 6084, 6241, 6400, 6561, 6724, 6889, 7056, 7225, 7396, 7569, 7744, 7921, 8100, 8281, 8464, 8649, 8836, 9025, 9216, 9409, 9604, 9801]\n"
     ]
    }
   ],
   "source": [
    "from concurrent.futures import ThreadPoolExecutor, ProcessPoolExecutor\n",
    "import time\n",
    "\n",
    "def kuadrat(x):\n",
    "    time.sleep(1)\n",
    "    return x * x\n",
    "\n",
    "data = [i for i in range(100)]\n",
    "with ThreadPoolExecutor(max_workers=100) as executor:\n",
    "    hasil = list(executor.map(kuadrat, data))\n",
    "\n",
    "print(\"Hasil (Thread):\", hasil)"
   ]
  },
  {
   "cell_type": "markdown",
   "metadata": {
    "id": "aVkj7bgKME1H"
   },
   "source": [
    "Penjelasan:\n",
    "\n",
    "Pada contoh ini, kami menggunakan ThreadPoolExecutor untuk mengeksekusi fungsi kuadrat secara bersamaan dengan maksimal 3 thread.\n",
    "\n",
    "Fungsi kuadrat mensimulasikan tugas dengan mengkuadratkan angka dan tidur selama 1 detik.\n",
    "\n",
    "Metode executor.map memetakan fungsi ke data dan hasilnya dikumpulkan.\n",
    "\n",
    "Ini menggambarkan eksekusi bersamaan dengan thread."
   ]
  },
  {
   "cell_type": "markdown",
   "metadata": {
    "id": "J7dEFUCbRjRv"
   },
   "source": [
    "## Contoh 2: Eksekusi Bersamaan dengan ProcessPoolExecutor\n",
    "Kode ini menggunakan pendekatan parallelism melalui ProcessPoolExecutor untuk mengeksekusi fungsi kuadrat secara paralel menggunakan proses-proses terpisah. Fungsi kuadrat akan mengkuadratkan tiap elemen dalam daftar data, namun dengan penundaan selama 1 detik untuk mensimulasikan tugas yang berat. Karena max_workers=3, maka hanya tiga proses yang berjalan bersamaan. Sisanya akan menunggu giliran hingga ada proses yang selesai. Hal ini membuat eksekusi menjadi lebih cepat dibanding secara berurutan, namun tetap terbatas pada jumlah worker yang tersedia. Karena menggunakan proses (bukan thread), pendekatan ini cocok untuk tugas-tugas CPU-bound yang memerlukan performa lebih tinggi dan dapat memanfaatkan banyak inti CPU secara efisien. Hasil akhir dari perhitungan kuadrat seluruh elemen ditampilkan setelah semua proses selesai."
   ]
  },
  {
   "cell_type": "code",
   "execution_count": 11,
   "metadata": {
    "colab": {
     "base_uri": "https://localhost:8080/"
    },
    "executionInfo": {
     "elapsed": 2133,
     "status": "ok",
     "timestamp": 1697273111294,
     "user": {
      "displayName": "Z A Z A",
      "userId": "07938683278567556560"
     },
     "user_tz": -420
    },
    "id": "8dA9I0wTRksq",
    "outputId": "36b0872a-a80e-43a5-f5cd-6d21ca3e9c79",
    "scrolled": true
   },
   "outputs": [
    {
     "ename": "BrokenProcessPool",
     "evalue": "A process in the process pool was terminated abruptly while the future was running or pending.",
     "output_type": "error",
     "traceback": [
      "\u001b[1;31m---------------------------------------------------------------------------\u001b[0m",
      "\u001b[1;31mBrokenProcessPool\u001b[0m                         Traceback (most recent call last)",
      "Cell \u001b[1;32mIn[11], line 10\u001b[0m\n\u001b[0;32m      8\u001b[0m data \u001b[38;5;241m=\u001b[39m [\u001b[38;5;241m1\u001b[39m, \u001b[38;5;241m2\u001b[39m, \u001b[38;5;241m3\u001b[39m, \u001b[38;5;241m4\u001b[39m, \u001b[38;5;241m5\u001b[39m, \u001b[38;5;241m10\u001b[39m]\n\u001b[0;32m      9\u001b[0m \u001b[38;5;28;01mwith\u001b[39;00m ProcessPoolExecutor(max_workers\u001b[38;5;241m=\u001b[39m\u001b[38;5;241m3\u001b[39m) \u001b[38;5;28;01mas\u001b[39;00m executor:\n\u001b[1;32m---> 10\u001b[0m     hasil \u001b[38;5;241m=\u001b[39m \u001b[38;5;28mlist\u001b[39m(executor\u001b[38;5;241m.\u001b[39mmap(kuadrat, data))\n\u001b[0;32m     12\u001b[0m \u001b[38;5;28mprint\u001b[39m(\u001b[38;5;124m\"\u001b[39m\u001b[38;5;124mHasil (Proses):\u001b[39m\u001b[38;5;124m\"\u001b[39m, hasil)\n",
      "File \u001b[1;32m~\\anaconda3\\Lib\\concurrent\\futures\\process.py:617\u001b[0m, in \u001b[0;36m_chain_from_iterable_of_lists\u001b[1;34m(iterable)\u001b[0m\n\u001b[0;32m    611\u001b[0m \u001b[38;5;28;01mdef\u001b[39;00m\u001b[38;5;250m \u001b[39m\u001b[38;5;21m_chain_from_iterable_of_lists\u001b[39m(iterable):\n\u001b[0;32m    612\u001b[0m \u001b[38;5;250m    \u001b[39m\u001b[38;5;124;03m\"\"\"\u001b[39;00m\n\u001b[0;32m    613\u001b[0m \u001b[38;5;124;03m    Specialized implementation of itertools.chain.from_iterable.\u001b[39;00m\n\u001b[0;32m    614\u001b[0m \u001b[38;5;124;03m    Each item in *iterable* should be a list.  This function is\u001b[39;00m\n\u001b[0;32m    615\u001b[0m \u001b[38;5;124;03m    careful not to keep references to yielded objects.\u001b[39;00m\n\u001b[0;32m    616\u001b[0m \u001b[38;5;124;03m    \"\"\"\u001b[39;00m\n\u001b[1;32m--> 617\u001b[0m     \u001b[38;5;28;01mfor\u001b[39;00m element \u001b[38;5;129;01min\u001b[39;00m iterable:\n\u001b[0;32m    618\u001b[0m         element\u001b[38;5;241m.\u001b[39mreverse()\n\u001b[0;32m    619\u001b[0m         \u001b[38;5;28;01mwhile\u001b[39;00m element:\n",
      "File \u001b[1;32m~\\anaconda3\\Lib\\concurrent\\futures\\_base.py:619\u001b[0m, in \u001b[0;36mExecutor.map.<locals>.result_iterator\u001b[1;34m()\u001b[0m\n\u001b[0;32m    616\u001b[0m \u001b[38;5;28;01mwhile\u001b[39;00m fs:\n\u001b[0;32m    617\u001b[0m     \u001b[38;5;66;03m# Careful not to keep a reference to the popped future\u001b[39;00m\n\u001b[0;32m    618\u001b[0m     \u001b[38;5;28;01mif\u001b[39;00m timeout \u001b[38;5;129;01mis\u001b[39;00m \u001b[38;5;28;01mNone\u001b[39;00m:\n\u001b[1;32m--> 619\u001b[0m         \u001b[38;5;28;01myield\u001b[39;00m _result_or_cancel(fs\u001b[38;5;241m.\u001b[39mpop())\n\u001b[0;32m    620\u001b[0m     \u001b[38;5;28;01melse\u001b[39;00m:\n\u001b[0;32m    621\u001b[0m         \u001b[38;5;28;01myield\u001b[39;00m _result_or_cancel(fs\u001b[38;5;241m.\u001b[39mpop(), end_time \u001b[38;5;241m-\u001b[39m time\u001b[38;5;241m.\u001b[39mmonotonic())\n",
      "File \u001b[1;32m~\\anaconda3\\Lib\\concurrent\\futures\\_base.py:317\u001b[0m, in \u001b[0;36m_result_or_cancel\u001b[1;34m(***failed resolving arguments***)\u001b[0m\n\u001b[0;32m    315\u001b[0m \u001b[38;5;28;01mtry\u001b[39;00m:\n\u001b[0;32m    316\u001b[0m     \u001b[38;5;28;01mtry\u001b[39;00m:\n\u001b[1;32m--> 317\u001b[0m         \u001b[38;5;28;01mreturn\u001b[39;00m fut\u001b[38;5;241m.\u001b[39mresult(timeout)\n\u001b[0;32m    318\u001b[0m     \u001b[38;5;28;01mfinally\u001b[39;00m:\n\u001b[0;32m    319\u001b[0m         fut\u001b[38;5;241m.\u001b[39mcancel()\n",
      "File \u001b[1;32m~\\anaconda3\\Lib\\concurrent\\futures\\_base.py:456\u001b[0m, in \u001b[0;36mFuture.result\u001b[1;34m(self, timeout)\u001b[0m\n\u001b[0;32m    454\u001b[0m     \u001b[38;5;28;01mraise\u001b[39;00m CancelledError()\n\u001b[0;32m    455\u001b[0m \u001b[38;5;28;01melif\u001b[39;00m \u001b[38;5;28mself\u001b[39m\u001b[38;5;241m.\u001b[39m_state \u001b[38;5;241m==\u001b[39m FINISHED:\n\u001b[1;32m--> 456\u001b[0m     \u001b[38;5;28;01mreturn\u001b[39;00m \u001b[38;5;28mself\u001b[39m\u001b[38;5;241m.\u001b[39m__get_result()\n\u001b[0;32m    457\u001b[0m \u001b[38;5;28;01melse\u001b[39;00m:\n\u001b[0;32m    458\u001b[0m     \u001b[38;5;28;01mraise\u001b[39;00m \u001b[38;5;167;01mTimeoutError\u001b[39;00m()\n",
      "File \u001b[1;32m~\\anaconda3\\Lib\\concurrent\\futures\\_base.py:401\u001b[0m, in \u001b[0;36mFuture.__get_result\u001b[1;34m(self)\u001b[0m\n\u001b[0;32m    399\u001b[0m \u001b[38;5;28;01mif\u001b[39;00m \u001b[38;5;28mself\u001b[39m\u001b[38;5;241m.\u001b[39m_exception \u001b[38;5;129;01mis\u001b[39;00m \u001b[38;5;129;01mnot\u001b[39;00m \u001b[38;5;28;01mNone\u001b[39;00m:\n\u001b[0;32m    400\u001b[0m     \u001b[38;5;28;01mtry\u001b[39;00m:\n\u001b[1;32m--> 401\u001b[0m         \u001b[38;5;28;01mraise\u001b[39;00m \u001b[38;5;28mself\u001b[39m\u001b[38;5;241m.\u001b[39m_exception\n\u001b[0;32m    402\u001b[0m     \u001b[38;5;28;01mfinally\u001b[39;00m:\n\u001b[0;32m    403\u001b[0m         \u001b[38;5;66;03m# Break a reference cycle with the exception in self._exception\u001b[39;00m\n\u001b[0;32m    404\u001b[0m         \u001b[38;5;28mself\u001b[39m \u001b[38;5;241m=\u001b[39m \u001b[38;5;28;01mNone\u001b[39;00m\n",
      "\u001b[1;31mBrokenProcessPool\u001b[0m: A process in the process pool was terminated abruptly while the future was running or pending."
     ]
    }
   ],
   "source": [
    "from concurrent.futures import ThreadPoolExecutor, ProcessPoolExecutor\n",
    "import time\n",
    "\n",
    "def kuadrat(x):\n",
    "    time.sleep(1)\n",
    "    return x * x\n",
    "\n",
    "data = [1, 2, 3, 4, 5, 10]\n",
    "with ProcessPoolExecutor(max_workers=3) as executor:\n",
    "    hasil = list(executor.map(kuadrat, data))\n",
    "\n",
    "print(\"Hasil (Proses):\", hasil)"
   ]
  },
  {
   "cell_type": "code",
   "execution_count": 12,
   "metadata": {},
   "outputs": [
    {
     "ename": "BrokenProcessPool",
     "evalue": "A process in the process pool was terminated abruptly while the future was running or pending.",
     "output_type": "error",
     "traceback": [
      "\u001b[1;31m---------------------------------------------------------------------------\u001b[0m",
      "\u001b[1;31mBrokenProcessPool\u001b[0m                         Traceback (most recent call last)",
      "Cell \u001b[1;32mIn[12], line 11\u001b[0m\n\u001b[0;32m      9\u001b[0m data \u001b[38;5;241m=\u001b[39m [\u001b[38;5;241m1\u001b[39m, \u001b[38;5;241m2\u001b[39m, \u001b[38;5;241m3\u001b[39m, \u001b[38;5;241m4\u001b[39m, \u001b[38;5;241m5\u001b[39m, \u001b[38;5;241m10\u001b[39m]\n\u001b[0;32m     10\u001b[0m \u001b[38;5;28;01mwith\u001b[39;00m ProcessPoolExecutor(max_workers\u001b[38;5;241m=\u001b[39m\u001b[38;5;241m3\u001b[39m) \u001b[38;5;28;01mas\u001b[39;00m executor:\n\u001b[1;32m---> 11\u001b[0m     hasil \u001b[38;5;241m=\u001b[39m \u001b[38;5;28mlist\u001b[39m(executor\u001b[38;5;241m.\u001b[39mmap(kuadrat, data))\n\u001b[0;32m     13\u001b[0m \u001b[38;5;28mprint\u001b[39m(\u001b[38;5;124m\"\u001b[39m\u001b[38;5;124mHasil (Proses):\u001b[39m\u001b[38;5;124m\"\u001b[39m, hasil)\n",
      "File \u001b[1;32m~\\anaconda3\\Lib\\concurrent\\futures\\process.py:617\u001b[0m, in \u001b[0;36m_chain_from_iterable_of_lists\u001b[1;34m(iterable)\u001b[0m\n\u001b[0;32m    611\u001b[0m \u001b[38;5;28;01mdef\u001b[39;00m\u001b[38;5;250m \u001b[39m\u001b[38;5;21m_chain_from_iterable_of_lists\u001b[39m(iterable):\n\u001b[0;32m    612\u001b[0m \u001b[38;5;250m    \u001b[39m\u001b[38;5;124;03m\"\"\"\u001b[39;00m\n\u001b[0;32m    613\u001b[0m \u001b[38;5;124;03m    Specialized implementation of itertools.chain.from_iterable.\u001b[39;00m\n\u001b[0;32m    614\u001b[0m \u001b[38;5;124;03m    Each item in *iterable* should be a list.  This function is\u001b[39;00m\n\u001b[0;32m    615\u001b[0m \u001b[38;5;124;03m    careful not to keep references to yielded objects.\u001b[39;00m\n\u001b[0;32m    616\u001b[0m \u001b[38;5;124;03m    \"\"\"\u001b[39;00m\n\u001b[1;32m--> 617\u001b[0m     \u001b[38;5;28;01mfor\u001b[39;00m element \u001b[38;5;129;01min\u001b[39;00m iterable:\n\u001b[0;32m    618\u001b[0m         element\u001b[38;5;241m.\u001b[39mreverse()\n\u001b[0;32m    619\u001b[0m         \u001b[38;5;28;01mwhile\u001b[39;00m element:\n",
      "File \u001b[1;32m~\\anaconda3\\Lib\\concurrent\\futures\\_base.py:619\u001b[0m, in \u001b[0;36mExecutor.map.<locals>.result_iterator\u001b[1;34m()\u001b[0m\n\u001b[0;32m    616\u001b[0m \u001b[38;5;28;01mwhile\u001b[39;00m fs:\n\u001b[0;32m    617\u001b[0m     \u001b[38;5;66;03m# Careful not to keep a reference to the popped future\u001b[39;00m\n\u001b[0;32m    618\u001b[0m     \u001b[38;5;28;01mif\u001b[39;00m timeout \u001b[38;5;129;01mis\u001b[39;00m \u001b[38;5;28;01mNone\u001b[39;00m:\n\u001b[1;32m--> 619\u001b[0m         \u001b[38;5;28;01myield\u001b[39;00m _result_or_cancel(fs\u001b[38;5;241m.\u001b[39mpop())\n\u001b[0;32m    620\u001b[0m     \u001b[38;5;28;01melse\u001b[39;00m:\n\u001b[0;32m    621\u001b[0m         \u001b[38;5;28;01myield\u001b[39;00m _result_or_cancel(fs\u001b[38;5;241m.\u001b[39mpop(), end_time \u001b[38;5;241m-\u001b[39m time\u001b[38;5;241m.\u001b[39mmonotonic())\n",
      "File \u001b[1;32m~\\anaconda3\\Lib\\concurrent\\futures\\_base.py:317\u001b[0m, in \u001b[0;36m_result_or_cancel\u001b[1;34m(***failed resolving arguments***)\u001b[0m\n\u001b[0;32m    315\u001b[0m \u001b[38;5;28;01mtry\u001b[39;00m:\n\u001b[0;32m    316\u001b[0m     \u001b[38;5;28;01mtry\u001b[39;00m:\n\u001b[1;32m--> 317\u001b[0m         \u001b[38;5;28;01mreturn\u001b[39;00m fut\u001b[38;5;241m.\u001b[39mresult(timeout)\n\u001b[0;32m    318\u001b[0m     \u001b[38;5;28;01mfinally\u001b[39;00m:\n\u001b[0;32m    319\u001b[0m         fut\u001b[38;5;241m.\u001b[39mcancel()\n",
      "File \u001b[1;32m~\\anaconda3\\Lib\\concurrent\\futures\\_base.py:456\u001b[0m, in \u001b[0;36mFuture.result\u001b[1;34m(self, timeout)\u001b[0m\n\u001b[0;32m    454\u001b[0m     \u001b[38;5;28;01mraise\u001b[39;00m CancelledError()\n\u001b[0;32m    455\u001b[0m \u001b[38;5;28;01melif\u001b[39;00m \u001b[38;5;28mself\u001b[39m\u001b[38;5;241m.\u001b[39m_state \u001b[38;5;241m==\u001b[39m FINISHED:\n\u001b[1;32m--> 456\u001b[0m     \u001b[38;5;28;01mreturn\u001b[39;00m \u001b[38;5;28mself\u001b[39m\u001b[38;5;241m.\u001b[39m__get_result()\n\u001b[0;32m    457\u001b[0m \u001b[38;5;28;01melse\u001b[39;00m:\n\u001b[0;32m    458\u001b[0m     \u001b[38;5;28;01mraise\u001b[39;00m \u001b[38;5;167;01mTimeoutError\u001b[39;00m()\n",
      "File \u001b[1;32m~\\anaconda3\\Lib\\concurrent\\futures\\_base.py:401\u001b[0m, in \u001b[0;36mFuture.__get_result\u001b[1;34m(self)\u001b[0m\n\u001b[0;32m    399\u001b[0m \u001b[38;5;28;01mif\u001b[39;00m \u001b[38;5;28mself\u001b[39m\u001b[38;5;241m.\u001b[39m_exception \u001b[38;5;129;01mis\u001b[39;00m \u001b[38;5;129;01mnot\u001b[39;00m \u001b[38;5;28;01mNone\u001b[39;00m:\n\u001b[0;32m    400\u001b[0m     \u001b[38;5;28;01mtry\u001b[39;00m:\n\u001b[1;32m--> 401\u001b[0m         \u001b[38;5;28;01mraise\u001b[39;00m \u001b[38;5;28mself\u001b[39m\u001b[38;5;241m.\u001b[39m_exception\n\u001b[0;32m    402\u001b[0m     \u001b[38;5;28;01mfinally\u001b[39;00m:\n\u001b[0;32m    403\u001b[0m         \u001b[38;5;66;03m# Break a reference cycle with the exception in self._exception\u001b[39;00m\n\u001b[0;32m    404\u001b[0m         \u001b[38;5;28mself\u001b[39m \u001b[38;5;241m=\u001b[39m \u001b[38;5;28;01mNone\u001b[39;00m\n",
      "\u001b[1;31mBrokenProcessPool\u001b[0m: A process in the process pool was terminated abruptly while the future was running or pending."
     ]
    }
   ],
   "source": [
    "from concurrent.futures import ProcessPoolExecutor\n",
    "import time\n",
    "\n",
    "def kuadrat(x):\n",
    "    time.sleep(1)\n",
    "    return x * x\n",
    "\n",
    "if __name__ == \"__main__\":\n",
    "    data = [1, 2, 3, 4, 5, 10]\n",
    "    with ProcessPoolExecutor(max_workers=3) as executor:\n",
    "        hasil = list(executor.map(kuadrat, data))\n",
    "\n",
    "    print(\"Hasil (Proses):\", hasil)"
   ]
  },
  {
   "cell_type": "markdown",
   "metadata": {
    "id": "9Spt68OAMOpI"
   },
   "source": [
    "Penjelasan:\n",
    "\n",
    "Contoh ini mirip dengan yang sebelumnya, tetapi menunjukkan eksekusi bersamaan menggunakan proses alih-alih thread.\n",
    "Kami menggunakan ProcessPoolExecutor untuk mengeksekusi fungsi kuadrat dengan maksimal 3 proses.\n",
    "Fungsi kuadrat mensimulasikan tugas dengan mengkuadratkan angka dan tidur selama 1 detik.\n",
    "Metode executor.map memetakan fungsi ke data dan hasilnya dikumpulkan.\n",
    "Eksekusi berbasis proses cocok untuk tugas yang membutuhkan banyak sumber daya CPU."
   ]
  },
  {
   "cell_type": "markdown",
   "metadata": {},
   "source": [
    "Kode di bawah menunjukkan proses pengunduhan lima gambar dari internet secara berurutan menggunakan modul requests. Setiap gambar diunduh satu per satu, disimpan ke file lokal, dan waktu total proses diukur menggunakan modul time. Pendekatan ini bersifat sekuensial, sehingga durasi eksekusi akan bertambah seiring banyaknya gambar yang diunduh."
   ]
  },
  {
   "cell_type": "code",
   "execution_count": 13,
   "metadata": {},
   "outputs": [
    {
     "name": "stdout",
     "output_type": "stream",
     "text": [
      "Gambar 0 selesai diunduh.\n",
      "Gambar 1 selesai diunduh.\n",
      "Gambar 2 selesai diunduh.\n",
      "Gambar 3 selesai diunduh.\n",
      "Gambar 4 selesai diunduh.\n",
      "Selesai dalam 36.29 detik\n"
     ]
    }
   ],
   "source": [
    "import requests\n",
    "import time\n",
    "\n",
    "urls = [\n",
    "    \"https://picsum.photos/200/300\",  # Gambar 1\n",
    "    \"https://picsum.photos/200/301\",  # Gambar 2\n",
    "    \"https://picsum.photos/200/302\",  # Gambar 3\n",
    "    \"https://picsum.photos/200/303\",  # Gambar 4\n",
    "    \"https://picsum.photos/200/304\",  # Gambar 5\n",
    "]\n",
    "\n",
    "def download_image(url, index):\n",
    "    response = requests.get(url)\n",
    "    with open(f\"gambar_{index}.jpg\", \"wb\") as file:\n",
    "        file.write(response.content)\n",
    "    print(f\"Gambar {index} selesai diunduh.\")\n",
    "\n",
    "start_time = time.time()\n",
    "for i, url in enumerate(urls):\n",
    "    download_image(url, i)\n",
    "\n",
    "print(f\"Selesai dalam {time.time() - start_time:.2f} detik\")"
   ]
  },
  {
   "cell_type": "markdown",
   "metadata": {},
   "source": [
    "Kode ini menunjukkan proses pengunduhan lima gambar dari internet secara paralel menggunakan ThreadPoolExecutor. Dengan memanfaatkan tiga thread sekaligus, beberapa gambar dapat diunduh secara bersamaan, sehingga waktu total eksekusi menjadi lebih efisien dibandingkan pendekatan sekuensial."
   ]
  },
  {
   "cell_type": "code",
   "execution_count": 14,
   "metadata": {},
   "outputs": [
    {
     "name": "stdout",
     "output_type": "stream",
     "text": [
      "Gambar 1 selesai diunduh.\n",
      "Gambar 0 selesai diunduh.\n",
      "Gambar 3 selesai diunduh.\n",
      "Gambar 4 selesai diunduh.\n",
      "Gambar 2 selesai diunduh.\n",
      "Selesai dalam 9.81 detik\n"
     ]
    }
   ],
   "source": [
    "from concurrent.futures import ThreadPoolExecutor\n",
    "import requests\n",
    "import time\n",
    "\n",
    "urls = [\n",
    "    \"https://picsum.photos/200/300\",\n",
    "    \"https://picsum.photos/200/301\",\n",
    "    \"https://picsum.photos/200/302\",\n",
    "    \"https://picsum.photos/200/303\",\n",
    "    \"https://picsum.photos/200/304\",\n",
    "]\n",
    "\n",
    "def download_image(url, index):\n",
    "    response = requests.get(url)\n",
    "    with open(f\"gambar_{index}.jpg\", \"wb\") as file:\n",
    "        file.write(response.content)\n",
    "    print(f\"Gambar {index} selesai diunduh.\")\n",
    "\n",
    "start_time = time.time()\n",
    "with ThreadPoolExecutor(max_workers=3) as executor:\n",
    "    executor.map(download_image, urls, range(len(urls)))\n",
    "\n",
    "print(f\"Selesai dalam {time.time() - start_time:.2f} detik\")\n"
   ]
  },
  {
   "cell_type": "markdown",
   "metadata": {},
   "source": [
    "Kode ini berusaha mengunduh lima gambar secara paralel menggunakan ProcessPoolExecutor, yang menjalankan tugas pada beberapa proses terpisah. Meskipun secara teori cocok untuk tugas CPU-bound, penggunaan requests (yang tidak dapat dipickle secara langsung) dalam multiprocessing bisa menyebabkan error. Tujuan utamanya adalah mempercepat proses unduh dengan memanfaatkan pemrosesan paralel berbasis proses.\n",
    "\n",
    "\n",
    "\n",
    "\n",
    "\n"
   ]
  },
  {
   "cell_type": "code",
   "execution_count": 15,
   "metadata": {},
   "outputs": [
    {
     "name": "stdout",
     "output_type": "stream",
     "text": [
      "Selesai dalam 0.26 detik\n"
     ]
    }
   ],
   "source": [
    "from concurrent.futures import ProcessPoolExecutor\n",
    "import requests\n",
    "import time\n",
    "\n",
    "urls = [\n",
    "    \"https://picsum.photos/200/300\",\n",
    "    \"https://picsum.photos/200/301\",\n",
    "    \"https://picsum.photos/200/302\",\n",
    "    \"https://picsum.photos/200/303\",\n",
    "    \"https://picsum.photos/200/304\",\n",
    "]\n",
    "\n",
    "def download_image(url, index):\n",
    "    response = requests.get(url)\n",
    "    with open(f\"gambar_{index}.jpg\", \"wb\") as file:\n",
    "        file.write(response.content)\n",
    "    print(f\"Gambar {index} selesai diunduh.\")\n",
    "\n",
    "start_time = time.time()\n",
    "with ProcessPoolExecutor(max_workers=3) as executor:\n",
    "    executor.map(download_image, urls, range(len(urls)))\n",
    "\n",
    "print(f\"Selesai dalam {time.time() - start_time:.2f} detik\")\n"
   ]
  },
  {
   "cell_type": "markdown",
   "metadata": {},
   "source": [
    "Percobaan menunjukkan bahwa pengunduhan gambar satu per satu (sekuensial) membutuhkan waktu paling lama, yaitu sekitar 36.29 detik. Penggunaan ThreadPoolExecutor mampu memangkas waktu secara signifikan menjadi sekitar 9.81 detik karena memungkinkan beberapa unduhan berjalan secara bersamaan dalam satu proses menggunakan beberapa thread. Menariknya, ProcessPoolExecutor mencatat waktu tercepat, sekitar 0.26 detik, meskipun secara umum lebih cocok untuk tugas berat CPU (bukan I/O seperti requests). Namun, hasil ini bisa jadi tidak konsisten karena proses paralel bisa dipengaruhi oleh cache, jaringan, atau lingkungan sistem.\n",
    "\n",
    "Secara praktis, untuk tugas I/O-bound seperti mengunduh dari internet, ThreadPoolExecutor adalah pilihan yang lebih aman dan efisien. Hasil ProcessPoolExecutor yang sangat cepat patut diuji ulang karena bisa saja terjadi anomali sistem atau caching internal."
   ]
  },
  {
   "cell_type": "code",
   "execution_count": null,
   "metadata": {},
   "outputs": [],
   "source": []
  }
 ],
 "metadata": {
  "colab": {
   "provenance": []
  },
  "kernelspec": {
   "display_name": "Python 3 (ipykernel)",
   "language": "python",
   "name": "python3"
  },
  "language_info": {
   "codemirror_mode": {
    "name": "ipython",
    "version": 3
   },
   "file_extension": ".py",
   "mimetype": "text/x-python",
   "name": "python",
   "nbconvert_exporter": "python",
   "pygments_lexer": "ipython3",
   "version": "3.13.5"
  }
 },
 "nbformat": 4,
 "nbformat_minor": 4
}
