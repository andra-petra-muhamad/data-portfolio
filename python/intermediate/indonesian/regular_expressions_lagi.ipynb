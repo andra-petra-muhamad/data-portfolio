{
 "cells": [
  {
   "cell_type": "markdown",
   "metadata": {},
   "source": [
    "# Beberapa Contoh Regular Expression"
   ]
  },
  {
   "cell_type": "markdown",
   "metadata": {
    "id": "3gtK-BGXQgh4"
   },
   "source": [
    "# Simple\n"
   ]
  },
  {
   "cell_type": "markdown",
   "metadata": {
    "id": "fXVTzM7iQkl3"
   },
   "source": [
    "## contoh 1: Validasi Alamat Email\n",
    "* `pola_email` adalah pola regex untuk memeriksa apakah sebuah string merupakan email yang valid.\n",
    "* __re.match()__ mencocokkan string dari awal terhadap pola regex.\n",
    "* Output \"Email valid.\" jika sesuai, dan \"Email tidak valid.\" jika tidak sesuai."
   ]
  },
  {
   "cell_type": "code",
   "execution_count": 1,
   "metadata": {
    "colab": {
     "base_uri": "https://localhost:8080/"
    },
    "executionInfo": {
     "elapsed": 356,
     "status": "ok",
     "timestamp": 1697274175213,
     "user": {
      "displayName": "Z A Z A",
      "userId": "07938683278567556560"
     },
     "user_tz": -420
    },
    "id": "-Ikx2mt-MuAf",
    "outputId": "24ac3c88-07b8-47ed-c19f-0177a1351140"
   },
   "outputs": [
    {
     "name": "stdout",
     "output_type": "stream",
     "text": [
      "Email valid.\n"
     ]
    }
   ],
   "source": [
    "import re\n",
    "\n",
    "pola_email = r'^[\\w\\.-]+@[\\w\\.-]+\\.\\w+$'\n",
    "email = \"example@email.com\"\n",
    "\n",
    "if re.match(pola_email, email):\n",
    "    print(\"Email valid.\")\n",
    "else:\n",
    "    print(\"Email tidak valid.\")"
   ]
  },
  {
   "cell_type": "markdown",
   "metadata": {},
   "source": [
    "* pola_email: Pola RegEx yang lebih ketat dan umum digunakan untuk validasi email.\n",
    "* Karakter sebelum `@` dapat berupa huruf, angka, underscore `(_)`, titik `(.)`, plus `(+)`, atau minus `(-)`.\n",
    "* Setelah `@`, nama domain hanya menerima huruf, angka, dan tanda -.\n",
    "* Diakhiri dengan domain tingkat atas (seperti .com, .id, dll) minimal 2 huruf.\n",
    "* Fungsi __re.match()__ akan mencocokkan dari awal string."
   ]
  },
  {
   "cell_type": "code",
   "execution_count": 2,
   "metadata": {},
   "outputs": [
    {
     "name": "stdout",
     "output_type": "stream",
     "text": [
      "Email valid.\n"
     ]
    }
   ],
   "source": [
    "import re\n",
    "\n",
    "pola_email = r'^[a-zA-Z0-9_.+-]+@[a-zA-Z0-9-]+\\.[a-zA-Z]{2,}$'\n",
    "email = \"example@email.com\"\n",
    "\n",
    "if re.match(pola_email, email):\n",
    "    print(\"Email valid.\")\n",
    "else:\n",
    "    print(\"Email tidak valid.\")"
   ]
  },
  {
   "cell_type": "markdown",
   "metadata": {
    "id": "sJp8E9vLIEbo"
   },
   "source": [
    "Penjelasan:\n",
    "* Dalam contoh ini, kita menggunakan ekspresi reguler (email_pattern) yang mencocokkan alamat email dengan format yang benar.\n",
    "* Ekspresi ini memeriksa karakter sebelum \"@\" dan setelahnya, serta domain.\n",
    "* Jika alamat email cocok dengan pola ini, kita menyatakan bahwa email itu valid."
   ]
  },
  {
   "cell_type": "markdown",
   "metadata": {
    "id": "-AsgxIWPQtcf"
   },
   "source": [
    "## contoh 2: Ekstraksi Domain dari Alamat Email\n",
    "* __re.search(r'@([\\w\\.-]+)', email)__ mencari pola `@` diikuti oleh satu atau lebih karakter: huruf, angka, underscore `(_)`, titik `(.)`, atau minus `(-)`.\n",
    "* __.group(1)__ mengembalikan bagian yang berada dalam tanda kurung `()` yaitu hanya domain, tanpa tanda `@`."
   ]
  },
  {
   "cell_type": "code",
   "execution_count": 3,
   "metadata": {
    "colab": {
     "base_uri": "https://localhost:8080/"
    },
    "executionInfo": {
     "elapsed": 343,
     "status": "ok",
     "timestamp": 1697274221362,
     "user": {
      "displayName": "Z A Z A",
      "userId": "07938683278567556560"
     },
     "user_tz": -420
    },
    "id": "ouPk0znxQu04",
    "outputId": "44cba08a-5853-49f5-9bd7-d72eaad10c25"
   },
   "outputs": [
    {
     "name": "stdout",
     "output_type": "stream",
     "text": [
      "Domain: rocketmail.com\n"
     ]
    }
   ],
   "source": [
    "import re\n",
    "\n",
    "email = \"example@rocketmail.com\"\n",
    "\n",
    "# Cari bagian domain setelah simbol '@'\n",
    "domain = re.search(r'@([\\w\\.-]+)', email).group(1)\n",
    "\n",
    "print(\"Domain:\", domain)\n"
   ]
  },
  {
   "cell_type": "markdown",
   "metadata": {},
   "source": [
    "Penjelasan:\n",
    "* `r'@([a-zA-Z0-9.-]+)'`: Pola ini mencari simbol `@` diikuti oleh kombinasi huruf, angka, titik, atau tanda minus.\n",
    "* .group(1): Mengambil hanya bagian dalam tanda kurung (yaitu rocketmail.com, tanpa @).\n",
    "* .group() (tanpa angka): Mengambil seluruh hasil pencocokan, yaitu @rocketmail.com.\n",
    "* re.search(...): Menampilkan objek match beserta posisi pencocokan."
   ]
  },
  {
   "cell_type": "code",
   "execution_count": 4,
   "metadata": {},
   "outputs": [
    {
     "name": "stdout",
     "output_type": "stream",
     "text": [
      "Domain: rocketmail.com\n",
      "<re.Match object; span=(7, 22), match='@rocketmail.com'>\n",
      "@rocketmail.com\n"
     ]
    }
   ],
   "source": [
    "import re\n",
    "\n",
    "email = \"example@rocketmail.com\"\n",
    "\n",
    "# Cari bagian domain setelah simbol '@'\n",
    "domain = re.search(r'@([a-zA-Z0-9.-]+)', email).group(1)\n",
    "\n",
    "print(\"Domain:\", domain)  # Menampilkan hanya domain (tanpa '@')\n",
    "\n",
    "# Menampilkan objek match yang ditemukan\n",
    "print(re.search(r'@([a-zA-Z0-9.-]+)', email))\n",
    "\n",
    "# Menampilkan hasil pencocokan lengkap (termasuk '@')\n",
    "print(re.search(r'@([a-zA-Z0-9.-]+)', email).group())\n"
   ]
  },
  {
   "cell_type": "markdown",
   "metadata": {
    "id": "olHloADAQ7s3"
   },
   "source": [
    "# Intermediate"
   ]
  },
  {
   "cell_type": "markdown",
   "metadata": {
    "id": "GciwF0IQQ__f"
   },
   "source": [
    "## contoh 1: Ekstraksi Semua Tautan dari Halaman HTML\n",
    "* __re.findall(...)__: Mengembalikan semua string yang cocok dengan pola regex.\n",
    "* __r'href=[\"\\'](https?://\\S+)[\"\\']'__: Mencari nilai dari atribut href yang berisi tautan (link) dimulai dengan `http://` atau `https://`.\n",
    "* `\\S+`: Mewakili satu atau lebih karakter non-spasi hingga tanda kutip penutup."
   ]
  },
  {
   "cell_type": "code",
   "execution_count": 5,
   "metadata": {
    "colab": {
     "base_uri": "https://localhost:8080/"
    },
    "executionInfo": {
     "elapsed": 387,
     "status": "ok",
     "timestamp": 1697274405644,
     "user": {
      "displayName": "Z A Z A",
      "userId": "07938683278567556560"
     },
     "user_tz": -420
    },
    "id": "wE-hIOFWQ9hM",
    "outputId": "db9b4e51-ccda-4c39-c44f-2665d2872514"
   },
   "outputs": [
    {
     "name": "stdout",
     "output_type": "stream",
     "text": [
      "Tautan: https://example.com\n",
      "Tautan: https://openai.com\n"
     ]
    }
   ],
   "source": [
    "import re\n",
    "\n",
    "html = \"\"\"\n",
    "<a href=\"https://example.com\">Link 1</a>\n",
    "<a href=\"https://openai.com\">Link 2</a>\n",
    "<p>Not a link</p>\n",
    "\"\"\"\n",
    "\n",
    "# Temukan semua tautan yang berada dalam atribut href\n",
    "links = re.findall(r'href=[\"\\'](https?://\\S+)[\"\\']', html)\n",
    "\n",
    "# Cetak semua tautan yang ditemukan\n",
    "for link in links:\n",
    "    print(\"Tautan:\", link)\n"
   ]
  },
  {
   "cell_type": "markdown",
   "metadata": {},
   "source": [
    "Penjelasan:\n",
    "* __re.findall(...)__ mencari semua kecocokan pola di string html.\n",
    "* Pola `r'href=[\"\\'](https?://\\S+)[\"\\']'` mencari link dalam atribut href.\n",
    "* `https?` mencakup http dan https.\n",
    "* `\\S+` berarti satu atau lebih karakter bukan spasi (hingga tanda kutip penutup).\n",
    "* __print(links)__ menampilkan seluruh list hasil ekstraksi."
   ]
  },
  {
   "cell_type": "code",
   "execution_count": 6,
   "metadata": {},
   "outputs": [
    {
     "name": "stdout",
     "output_type": "stream",
     "text": [
      "Tautan: https://example.com\n",
      "Tautan: https://openai.com\n",
      "['https://example.com', 'https://openai.com']\n"
     ]
    }
   ],
   "source": [
    "import re\n",
    "\n",
    "html = \"\"\"\n",
    "<a href=\"https://example.com\">Link 1</a>\n",
    "<a href=\"https://openai.com\">Link 2</a>\n",
    "<p>Not a link</p>\n",
    "\"\"\"\n",
    "\n",
    "# Temukan semua URL dari atribut href yang dimulai dengan http atau https\n",
    "links = re.findall(r'href=[\"\\'](https?://\\S+)[\"\\']', html)\n",
    "\n",
    "# Cetak setiap link satu per satu\n",
    "for link in links:\n",
    "    print(\"Tautan:\", link)\n",
    "\n",
    "# Cetak daftar lengkap link\n",
    "print(links)\n"
   ]
  },
  {
   "cell_type": "markdown",
   "metadata": {},
   "source": [
    "Penjelasan:\n",
    "* `href=[\"\\']`: Mencari kata href= yang diikuti tanda kutip (baik \" atau ').\n",
    "* `(https?://[^\\s\"\\'<>]+)`:\n",
    "  - `https?://`: Mencocokkan http:// atau https://.\n",
    "  - `[^\\s\"\\'<>]`+: Mencari satu atau lebih karakter selain spasi, tanda kutip (\" '), dan simbol < >.\n",
    "* `[\"\\']`: Tanda kutip penutup."
   ]
  },
  {
   "cell_type": "code",
   "execution_count": 7,
   "metadata": {},
   "outputs": [
    {
     "name": "stdout",
     "output_type": "stream",
     "text": [
      "Link: https://example.com\n",
      "Link: https://openai.com\n"
     ]
    }
   ],
   "source": [
    "import re\n",
    "\n",
    "html = \"\"\"\n",
    "<a href=\"https://example.com\">Link 1</a>\n",
    "<a href=\"https://openai.com\">Link 2</a>\n",
    "<p>Not a link</p>\n",
    "\"\"\"\n",
    "\n",
    "# Temukan semua URL dari atribut href yang valid\n",
    "links = re.findall(r'href=[\"\\'](https?://[^\\s\"\\'<>]+)[\"\\']', html)\n",
    "\n",
    "# Cetak semua tautan yang ditemukan\n",
    "for link in links:\n",
    "    print(\"Link:\", link)\n"
   ]
  },
  {
   "cell_type": "markdown",
   "metadata": {
    "id": "lATq4ukrRLEH"
   },
   "source": [
    "## contoh 2:  Mengekstraksi URL dari Teks HTML\n",
    "* `<a [^>]*`: Mencocokkan tag <a dan karakter apa pun (kecuali >) sebanyak mungkin.\n",
    "* `href=[\"\\']`: Mencocokkan atribut `href=` yang diikuti tanda kutip tunggal atau ganda.\n",
    "* `(https?://\\S+)`: Menangkap tautan yang dimulai dengan `http://` atau `https://` dan diikuti oleh karakter non-spasi.\n",
    "* `[\"\\']`: Menutup kutipan."
   ]
  },
  {
   "cell_type": "code",
   "execution_count": 8,
   "metadata": {
    "colab": {
     "base_uri": "https://localhost:8080/"
    },
    "executionInfo": {
     "elapsed": 4,
     "status": "ok",
     "timestamp": 1697274436184,
     "user": {
      "displayName": "Z A Z A",
      "userId": "07938683278567556560"
     },
     "user_tz": -420
    },
    "id": "e5PVPf-uRML8",
    "outputId": "717188eb-5920-4b80-eb0d-b92064da1f32"
   },
   "outputs": [
    {
     "name": "stdout",
     "output_type": "stream",
     "text": [
      "Link: https://example.com\n",
      "Link: https://openai.com\n"
     ]
    }
   ],
   "source": [
    "import re\n",
    "\n",
    "html = \"\"\"\n",
    "Visit our website at <a href=\"https://example.com\">Example</a>\n",
    "Click <a href=\"https://openai.com\">here</a> for more info.\n",
    "\"\"\"\n",
    "\n",
    "# Temukan semua URL dari elemen <a> yang mengandung href\n",
    "links = re.findall(r'<a [^>]*href=[\"\\'](https?://\\S+)[\"\\']', html)\n",
    "\n",
    "# Cetak semua tautan yang ditemukan\n",
    "for link in links:\n",
    "    print(\"Link:\", link)"
   ]
  },
  {
   "cell_type": "markdown",
   "metadata": {
    "id": "Jn1LWdwQRV6u"
   },
   "source": [
    "# Advanced"
   ]
  },
  {
   "cell_type": "markdown",
   "metadata": {
    "id": "JCU8OuesRYWm"
   },
   "source": [
    "## contoh 1: Validasi Nomor Telepon dengan Format yang Berbeda\n",
    "* `^` dan `$`: Menandai awal dan akhir string.\n",
    "* `\\+`: Harus dimulai dengan tanda `+` (kode negara).\n",
    "* `\\d{1,3}`: 1–3 digit angka (kode negara).\n",
    "* `\\s?`: Boleh ada spasi setelah kode negara.\n",
    "* `\\d{1,3}[-. ]\\d{1,4}[-. ]\\d{1,4}`: Format nomor (dipisahkan oleh `-`, . atau spasi)."
   ]
  },
  {
   "cell_type": "code",
   "execution_count": 9,
   "metadata": {
    "colab": {
     "base_uri": "https://localhost:8080/"
    },
    "executionInfo": {
     "elapsed": 338,
     "status": "ok",
     "timestamp": 1697274581994,
     "user": {
      "displayName": "Z A Z A",
      "userId": "07938683278567556560"
     },
     "user_tz": -420
    },
    "id": "8Y3ZQkATRX0p",
    "outputId": "6724e227-b46d-4e4d-de72-ffe089b9127d"
   },
   "outputs": [
    {
     "name": "stdout",
     "output_type": "stream",
     "text": [
      "Nomor Telepon '+1 123-456-7890' valid.\n",
      "Nomor Telepon '555-5555' tidak valid.\n",
      "Nomor Telepon '123.456.7890' tidak valid.\n",
      "Nomor Telepon '+44 20 7123 1234' valid.\n"
     ]
    }
   ],
   "source": [
    "import re\n",
    "\n",
    "phone_numbers = [\"+1 123-456-7890\", \"555-5555\", \"123.456.7890\", \"+44 20 7123 1234\"]\n",
    "\n",
    "# Pola regex untuk mencocokkan nomor telepon internasional\n",
    "phone_pattern = r'^\\+\\d{1,3}\\s?\\d{1,3}[-. ]\\d{1,4}[-. ]\\d{1,4}$'\n",
    "\n",
    "# Loop melalui setiap nomor telepon\n",
    "for phone in phone_numbers:\n",
    "    if re.match(phone_pattern, phone):\n",
    "        print(f\"Nomor Telepon '{phone}' valid.\")\n",
    "    else:\n",
    "        print(f\"Nomor Telepon '{phone}' tidak valid.\")"
   ]
  },
  {
   "cell_type": "markdown",
   "metadata": {},
   "source": [
    "Kode ini ingin mengecek apakah string \"+1 123-456-7890\" cocok (match) dengan pola nomor telepon internasional yang diberikan oleh regex phone_pattern.\\\n",
    "Jika tidak cocok, maka akan mengembalikan `None`."
   ]
  },
  {
   "cell_type": "code",
   "execution_count": 10,
   "metadata": {},
   "outputs": [
    {
     "name": "stdout",
     "output_type": "stream",
     "text": [
      "<re.Match object; span=(0, 15), match='+1 123-456-7890'>\n"
     ]
    }
   ],
   "source": [
    "import re\n",
    "\n",
    "phone_numbers = [\"+1 123-456-7890\", \"555-5555\", \"123.456.7890\", \"+44 20 7123 1234\"]\n",
    "\n",
    "phone_pattern = r'^\\+\\d{1,3}\\s?\\d{1,3}[-. ]\\d{1,4}[-. ]\\d{1,4}$'\n",
    "\n",
    "print(re.match(phone_pattern, phone_numbers[0]))"
   ]
  },
  {
   "cell_type": "markdown",
   "metadata": {},
   "source": [
    "Penjelasan:\n",
    "* `^` dan `$`: memastikan pencocokan dari awal sampai akhir string\n",
    "* `\\+?`: karakter + opsional di awal (kode negara)\n",
    "* `(\\d{1,3})?`: kode negara (1–3 digit) → opsional\n",
    "* `[-.\\s]?`: pemisah opsional (bisa -, . atau spasi)\n",
    "* `(\\d{1,4})?`: bagian awal nomor telepon → opsional\n",
    "* `[-.\\s]?`: pemisah lagi\n",
    "* `(\\d{1,4})`: bagian kedua nomor (wajib)\n",
    "* `[-.\\s]?`: pemisah\n",
    "* `(\\d{1,9})`: bagian akhir nomor (maksimal 9 digit)"
   ]
  },
  {
   "cell_type": "code",
   "execution_count": 11,
   "metadata": {},
   "outputs": [
    {
     "name": "stdout",
     "output_type": "stream",
     "text": [
      "Nomor Telepon '+1 123-456-7890' valid.\n",
      "Nomor Telepon '555-5555' valid.\n",
      "Nomor Telepon '123.456.7890' valid.\n",
      "Nomor Telepon '+44 20 7123 1234' valid.\n"
     ]
    }
   ],
   "source": [
    "import re\n",
    "\n",
    "phone_numbers = [\"+1 123-456-7890\", \"555-5555\", \"123.456.7890\", \"+44 20 7123 1234\"]\n",
    "\n",
    "phone_pattern = r'^\\+?(\\d{1,3})?[-.\\s]?(\\d{1,4})?[-.\\s]?(\\d{1,4})[-.\\s]?(\\d{1,9})$'\n",
    "\n",
    "for phone in phone_numbers:\n",
    "    if re.match(phone_pattern, phone):\n",
    "        print(f\"Nomor Telepon '{phone}' valid.\")\n",
    "    else:\n",
    "        print(f\"Nomor Telepon '{phone}' tidak valid.\")\n"
   ]
  },
  {
   "cell_type": "markdown",
   "metadata": {
    "id": "J7dEFUCbRjRv"
   },
   "source": [
    "## contoh 2: Ekstraksi Kode Area dari Nomor Telepon\n",
    "* __re.search(r'\\+(\\d{1,3})', phone_number)__ mencari kode area internasional yang dimulai dengan tanda plus +, lalu diikuti 1 hingga 3 digit angka.\n",
    "* `group(1)` mengambil grup tangkapan pertama, yaitu angka setelah tanda plus.\n",
    "* Dalam contoh +62 123-456-7890, bagian +62 cocok dengan pola, jadi 62 adalah kode area Indonesia."
   ]
  },
  {
   "cell_type": "code",
   "execution_count": 12,
   "metadata": {
    "colab": {
     "base_uri": "https://localhost:8080/"
    },
    "executionInfo": {
     "elapsed": 8,
     "status": "ok",
     "timestamp": 1697274694233,
     "user": {
      "displayName": "Z A Z A",
      "userId": "07938683278567556560"
     },
     "user_tz": -420
    },
    "id": "8dA9I0wTRksq",
    "outputId": "f0056801-6a46-4e3d-e064-cae786cd2558"
   },
   "outputs": [
    {
     "name": "stdout",
     "output_type": "stream",
     "text": [
      "Area Code: 62\n"
     ]
    }
   ],
   "source": [
    "import re\n",
    "\n",
    "phone_number = \"+62 123-456-7890\"\n",
    "\n",
    "area_code = re.search(r'\\+(\\d{1,3})', phone_number).group(1)\n",
    "\n",
    "print(\"Area Code:\", area_code)\n"
   ]
  },
  {
   "cell_type": "code",
   "execution_count": 13,
   "metadata": {},
   "outputs": [
    {
     "name": "stdout",
     "output_type": "stream",
     "text": [
      "Nomor: +62 123-456-7890, Kode Area: 62\n",
      "Nomor: +1 555-555-5555, Kode Area: 1\n",
      "Nomor: +44 20 7123 1234, Kode Area: 44\n",
      "Nomor: +81-3-1234-5678, Kode Area: 81\n",
      "Nomor: 0812-3456-7890, Kode Area: Tidak ditemukan\n"
     ]
    }
   ],
   "source": [
    "import re\n",
    "\n",
    "phone_numbers = [\n",
    "    \"+62 123-456-7890\",\n",
    "    \"+1 555-555-5555\",\n",
    "    \"+44 20 7123 1234\",\n",
    "    \"+81-3-1234-5678\",\n",
    "    \"0812-3456-7890\"  # Tidak memiliki kode negara\n",
    "]\n",
    "\n",
    "for phone in phone_numbers:\n",
    "    match = re.search(r'^\\+(\\d{1,3})', phone)\n",
    "    if match:\n",
    "        print(f\"Nomor: {phone}, Kode Area: {match.group(1)}\")\n",
    "    else:\n",
    "        print(f\"Nomor: {phone}, Kode Area: Tidak ditemukan\")\n"
   ]
  },
  {
   "cell_type": "code",
   "execution_count": null,
   "metadata": {},
   "outputs": [],
   "source": []
  },
  {
   "cell_type": "code",
   "execution_count": null,
   "metadata": {},
   "outputs": [],
   "source": []
  }
 ],
 "metadata": {
  "colab": {
   "provenance": []
  },
  "kernelspec": {
   "display_name": "Python 3 (ipykernel)",
   "language": "python",
   "name": "python3"
  },
  "language_info": {
   "codemirror_mode": {
    "name": "ipython",
    "version": 3
   },
   "file_extension": ".py",
   "mimetype": "text/x-python",
   "name": "python",
   "nbconvert_exporter": "python",
   "pygments_lexer": "ipython3",
   "version": "3.13.5"
  }
 },
 "nbformat": 4,
 "nbformat_minor": 4
}
