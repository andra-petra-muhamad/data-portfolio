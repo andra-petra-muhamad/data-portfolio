{
 "cells": [
  {
   "cell_type": "markdown",
   "metadata": {},
   "source": [
    "# Data Serialization\n",
    "\n",
    "Serialisasi data adalah proses mengubah struktur data atau objek dalam program menjadi format yang dapat disimpan atau ditransmisikan, seperti JSON, XML, atau CSV. Proses ini memungkinkan data untuk disimpan ke dalam file, dikirim melalui jaringan, atau digunakan kembali di sistem lain. Setelah data diserialisasi, ia dapat dideserialisasi kembali menjadi bentuk semula. Serialisasi sangat penting dalam pengembangan perangkat lunak karena mendukung interoperabilitas antar sistem dan efisiensi dalam penyimpanan serta pertukaran data."
   ]
  },
  {
   "cell_type": "markdown",
   "metadata": {
    "id": "3gtK-BGXQgh4"
   },
   "source": [
    "# Simple\n"
   ]
  },
  {
   "cell_type": "markdown",
   "metadata": {
    "id": "fXVTzM7iQkl3"
   },
   "source": [
    "## contoh 1"
   ]
  },
  {
   "cell_type": "markdown",
   "metadata": {
    "id": "3JLQ045xQ6h_"
   },
   "source": [
    "Serialisasi dan Deserialisasi Kamus"
   ]
  },
  {
   "cell_type": "code",
   "execution_count": 1,
   "metadata": {
    "colab": {
     "base_uri": "https://localhost:8080/"
    },
    "executionInfo": {
     "elapsed": 339,
     "status": "ok",
     "timestamp": 1698457340582,
     "user": {
      "displayName": "Z A Z A",
      "userId": "07938683278567556560"
     },
     "user_tz": -420
    },
    "id": "-Ikx2mt-MuAf",
    "outputId": "3eeb629d-c1f6-4684-db53-15224de36d1b"
   },
   "outputs": [
    {
     "name": "stdout",
     "output_type": "stream",
     "text": [
      "{'nama': 'Alice', 'usia': 30, 'kota': 'Jakarta'}\n",
      "{\n",
      "    \"nama\": \"Alice\",\n",
      "    \"usia\": 30,\n",
      "    \"kota\": \"Jakarta\"\n",
      "}\n",
      "{'nama': 'Alice', 'usia': 30, 'kota': 'Jakarta'}\n"
     ]
    }
   ],
   "source": [
    "import json\n",
    "\n",
    "data = {'nama': 'Alice', 'usia': 30, 'kota': 'Jakarta'}\n",
    "\n",
    "# Serialisasi ke JSON\n",
    "json_data = json.dumps(data, indent=4)\n",
    "\n",
    "# Menyimpan ke file JSON\n",
    "with open('data.json', 'w') as file:\n",
    "    file.write(json_data)\n",
    "\n",
    "# Deserialisasi dari JSON\n",
    "with open('data.json', 'r') as file:\n",
    "    loaded_data = json.load(file)\n",
    "\n",
    "print(data)\n",
    "print(json_data)\n",
    "print(loaded_data)\n"
   ]
  },
  {
   "cell_type": "markdown",
   "metadata": {
    "id": "sJp8E9vLIEbo"
   },
   "source": [
    "Kami mengambil kamus data, mengonversinya menjadi JSON, dan menyimpannya dalam file JSON. Kemudian, kami membaca file JSON dan mendeserialisasikan datanya kembali ke dalam kamus."
   ]
  },
  {
   "cell_type": "markdown",
   "metadata": {
    "id": "BmoboK5IYtas"
   },
   "source": [
    "## contoh 2"
   ]
  },
  {
   "cell_type": "markdown",
   "metadata": {
    "id": "91hM4kn5gLw6"
   },
   "source": [
    "Serialisasi Kamus yang Berisi Daftar python"
   ]
  },
  {
   "cell_type": "code",
   "execution_count": 2,
   "metadata": {
    "colab": {
     "base_uri": "https://localhost:8080/"
    },
    "executionInfo": {
     "elapsed": 311,
     "status": "ok",
     "timestamp": 1698457421765,
     "user": {
      "displayName": "Z A Z A",
      "userId": "07938683278567556560"
     },
     "user_tz": -420
    },
    "id": "yLLfsDdyYvc0",
    "outputId": "9cd7a8d9-82c6-44fa-f75c-7a73cc9963d7"
   },
   "outputs": [
    {
     "name": "stdout",
     "output_type": "stream",
     "text": [
      "{'nama': 'Alice', 'hobi': ['berenang', 'membaca', 'berkebun']}\n",
      "{\n",
      "          \"nama\": \"Alice\",\n",
      "          \"hobi\": [\n",
      "                    \"berenang\",\n",
      "                    \"membaca\",\n",
      "                    \"berkebun\"\n",
      "          ]\n",
      "}\n",
      "{'nama': 'Alice', 'hobi': ['berenang', 'membaca', 'berkebun']}\n"
     ]
    }
   ],
   "source": [
    "import json\n",
    "\n",
    "data = {'nama': 'Alice', 'hobi': ['berenang', 'membaca', 'berkebun']}\n",
    "\n",
    "# Serialisasi ke JSON\n",
    "json_data = json.dumps(data, indent=10)\n",
    "\n",
    "# Menyimpan ke file JSON\n",
    "with open('data.json', 'w') as file:\n",
    "    file.write(json_data)\n",
    "\n",
    "# Deserialisasi dari JSON\n",
    "with open('data.json', 'r') as file:\n",
    "    loaded_data = json.load(file)\n",
    "\n",
    "print(data)\n",
    "print(json_data)\n",
    "print(loaded_data)\n"
   ]
  },
  {
   "cell_type": "markdown",
   "metadata": {
    "id": "M8JDbT-3gX0j"
   },
   "source": [
    "Kami mengambil kamus data yang berisi daftar dan mengonversinya menjadi JSON. Kemudian, kami menyimpannya dalam file JSON dan kemudian mendeserialisasikannya kembali."
   ]
  },
  {
   "cell_type": "markdown",
   "metadata": {
    "id": "olHloADAQ7s3"
   },
   "source": [
    "# Intermediate"
   ]
  },
  {
   "cell_type": "markdown",
   "metadata": {
    "id": "GciwF0IQQ__f"
   },
   "source": [
    "## contoh 3"
   ]
  },
  {
   "cell_type": "markdown",
   "metadata": {
    "id": "bTxi07c1RC2n"
   },
   "source": [
    "Serialisasi dan Deserialisasi Objek Kustom"
   ]
  },
  {
   "cell_type": "code",
   "execution_count": 3,
   "metadata": {
    "colab": {
     "base_uri": "https://localhost:8080/"
    },
    "executionInfo": {
     "elapsed": 313,
     "status": "ok",
     "timestamp": 1698457556769,
     "user": {
      "displayName": "Z A Z A",
      "userId": "07938683278567556560"
     },
     "user_tz": -420
    },
    "id": "wE-hIOFWQ9hM",
    "outputId": "0fda2747-3f88-4c98-c341-0dd359c292c1"
   },
   "outputs": [
    {
     "name": "stdout",
     "output_type": "stream",
     "text": [
      "[<__main__.Person object at 0x00000211E376FCB0>, <__main__.Person object at 0x00000211E374D310>]\n",
      "[\n",
      " {\n",
      "  \"nama\": \"Alice\",\n",
      "  \"usia\": 30\n",
      " },\n",
      " {\n",
      "  \"nama\": \"Bob\",\n",
      "  \"usia\": 25\n",
      " }\n",
      "]\n",
      "{'nama': 'Alice', 'usia': 30}\n",
      "{'nama': 'Bob', 'usia': 25}\n"
     ]
    }
   ],
   "source": [
    "import json\n",
    "\n",
    "class Person:\n",
    "    def __init__(self, nama, usia):\n",
    "        self.nama = nama\n",
    "        self.usia = usia\n",
    "\n",
    "people = [Person('Alice', 30), Person('Bob', 25)]\n",
    "\n",
    "# Serialisasi ke JSON\n",
    "json_data = json.dumps([person.__dict__ for person in people], indent=1)\n",
    "\n",
    "# Deserialisasi dari JSON\n",
    "loaded_people = [Person(item['nama'], item['usia']) for item in json.loads(json_data)]\n",
    "\n",
    "print(people)\n",
    "print(json_data)\n",
    "for person in loaded_people:\n",
    "    print(person.__dict__)\n"
   ]
  },
  {
   "cell_type": "markdown",
   "metadata": {
    "id": "0lDMlVrkXhMV"
   },
   "source": [
    "Kami membuat objek-objek kustom dari kelas Person, kemudian mengonversi daftar objek ini menjadi format JSON. Kami kemudian mendeserialisasikannya kembali dan mencetak hasilnya."
   ]
  },
  {
   "cell_type": "markdown",
   "metadata": {
    "id": "y6yo2xt8lhw5"
   },
   "source": [
    "## contoh 4"
   ]
  },
  {
   "cell_type": "markdown",
   "metadata": {
    "id": "tw2Eq8wUhS9q"
   },
   "source": [
    "Serialisasi dan Deserialisasi Data yang Kompleks"
   ]
  },
  {
   "cell_type": "code",
   "execution_count": 4,
   "metadata": {
    "colab": {
     "base_uri": "https://localhost:8080/"
    },
    "executionInfo": {
     "elapsed": 316,
     "status": "ok",
     "timestamp": 1698457592201,
     "user": {
      "displayName": "Z A Z A",
      "userId": "07938683278567556560"
     },
     "user_tz": -420
    },
    "id": "5EyIVyLqhSfq",
    "outputId": "a85f99b4-d8a5-4384-a086-63f729236ae1"
   },
   "outputs": [
    {
     "name": "stdout",
     "output_type": "stream",
     "text": [
      "{'nama': 'Alice', 'nilai': 95, 'kelas': {'nama_kelas': 'XII IPA 1', 'siswa': ['Bob', 'Charlie', 'Dave']}}\n",
      "{\n",
      " \"nama\": \"Alice\",\n",
      " \"nilai\": 95,\n",
      " \"kelas\": {\n",
      "  \"nama_kelas\": \"XII IPA 1\",\n",
      "  \"siswa\": [\n",
      "   \"Bob\",\n",
      "   \"Charlie\",\n",
      "   \"Dave\"\n",
      "  ]\n",
      " }\n",
      "}\n",
      "{'nama': 'Alice', 'nilai': 95, 'kelas': {'nama_kelas': 'XII IPA 1', 'siswa': ['Bob', 'Charlie', 'Dave']}}\n",
      "dict_items([('nama', 'Alice'), ('nilai', 95), ('kelas', {'nama_kelas': 'XII IPA 1', 'siswa': ['Bob', 'Charlie', 'Dave']})])\n",
      "dict_keys(['nama', 'nilai', 'kelas'])\n",
      "dict_values(['Alice', 95, {'nama_kelas': 'XII IPA 1', 'siswa': ['Bob', 'Charlie', 'Dave']}])\n"
     ]
    }
   ],
   "source": [
    "import json\n",
    "\n",
    "data = {\n",
    "    'nama': 'Alice',\n",
    "    'nilai': 95,\n",
    "    'kelas': {\n",
    "        'nama_kelas': 'XII IPA 1',\n",
    "        'siswa': ['Bob', 'Charlie', 'Dave']\n",
    "    }\n",
    "}\n",
    "\n",
    "# Serialisasi ke JSON\n",
    "json_data = json.dumps(data, indent=1)\n",
    "\n",
    "# Deserialisasi dari JSON\n",
    "loaded_data = json.loads(json_data)\n",
    "\n",
    "print(data)\n",
    "print(json_data)\n",
    "print(loaded_data)\n",
    "print(loaded_data.items())\n",
    "print(loaded_data.keys())\n",
    "print(loaded_data.values())\n"
   ]
  },
  {
   "cell_type": "markdown",
   "metadata": {
    "id": "W9t0NW4KheqD"
   },
   "source": [
    "Kami mengambil data yang berisi objek-objek bersarang (kelas dalam kamus) dan mengonversinya menjadi format JSON. Kemudian, kami mendeserialisasikannya kembali dan mencetak hasilnya."
   ]
  },
  {
   "cell_type": "markdown",
   "metadata": {
    "id": "Jn1LWdwQRV6u"
   },
   "source": [
    "# Advanced"
   ]
  },
  {
   "cell_type": "markdown",
   "metadata": {
    "id": "JCU8OuesRYWm"
   },
   "source": [
    "## contoh 5"
   ]
  },
  {
   "cell_type": "markdown",
   "metadata": {
    "id": "fn8hFR9_RahX"
   },
   "source": [
    "Program Serialisasi ke Berbagai Format"
   ]
  },
  {
   "cell_type": "code",
   "execution_count": 5,
   "metadata": {
    "colab": {
     "base_uri": "https://localhost:8080/"
    },
    "executionInfo": {
     "elapsed": 5153,
     "status": "ok",
     "timestamp": 1698457715849,
     "user": {
      "displayName": "Z A Z A",
      "userId": "07938683278567556560"
     },
     "user_tz": -420
    },
    "id": "8Y3ZQkATRX0p",
    "outputId": "9a24c459-1c3d-4b00-ca38-08204347cc21"
   },
   "outputs": [
    {
     "name": "stdin",
     "output_type": "stream",
     "text": [
      "Pilih format (json/xml/csv):  json\n"
     ]
    },
    {
     "name": "stdout",
     "output_type": "stream",
     "text": [
      "Data Serialisasi:\n",
      "{\n",
      "    \"nama\": \"Alice\",\n",
      "    \"usia\": 30,\n",
      "    \"kota\": \"Jakarta\"\n",
      "}\n",
      "Data Deserialisasi:\n",
      "{'nama': 'Alice', 'usia': 30, 'kota': 'Jakarta'}\n"
     ]
    }
   ],
   "source": [
    "import json\n",
    "import xml.etree.ElementTree as ET\n",
    "import csv\n",
    "\n",
    "def serialize_data(data, format):\n",
    "    if format == 'json':\n",
    "        return json.dumps(data, indent=4)\n",
    "    elif format == 'xml':\n",
    "        root = ET.Element('data')\n",
    "        for key, value in data.items():\n",
    "            element = ET.SubElement(root, key)\n",
    "            element.text = str(value)\n",
    "        return ET.tostring(root).decode('utf-8')\n",
    "    elif format == 'csv':\n",
    "        lines = [','.join([str(key), str(value)]) for key, value in data.items()]\n",
    "        return '\\n'.join(lines)\n",
    "\n",
    "def deserialize_data(data, format):\n",
    "    if format == 'json':\n",
    "        return json.loads(data)\n",
    "    elif format == 'xml':\n",
    "        root = ET.fromstring(data)\n",
    "        return {elem.tag: elem.text for elem in root}\n",
    "    elif format == 'csv':\n",
    "        lines = data.split('\\n')\n",
    "        items = [line.split(',') for line in lines]\n",
    "        return {item[0]: item[1] for item in items if len(item) == 2}\n",
    "\n",
    "# Pengguna memilih format\n",
    "pilihan_format = input(\"Pilih format (json/xml/csv): \")\n",
    "\n",
    "data = {'nama': 'Alice', 'usia': 30, 'kota': 'Jakarta'}\n",
    "\n",
    "# Serialisasi\n",
    "serialized_data = serialize_data(data, pilihan_format)\n",
    "print(\"Data Serialisasi:\")\n",
    "print(serialized_data)\n",
    "\n",
    "# Deserialisasi\n",
    "deserialized_data = deserialize_data(serialized_data, pilihan_format)\n",
    "print(\"Data Deserialisasi:\")\n",
    "print(deserialized_data)\n"
   ]
  },
  {
   "cell_type": "markdown",
   "metadata": {
    "id": "oMw7UYSbhssD"
   },
   "source": [
    "Program ini memungkinkan pengguna untuk memilih format (JSON, XML, CSV) untuk serialisasi dan deserialisasi data. Data kemudian diserialisasi kembali dan dicetak."
   ]
  },
  {
   "cell_type": "code",
   "execution_count": 6,
   "metadata": {},
   "outputs": [
    {
     "name": "stdin",
     "output_type": "stream",
     "text": [
      "Pilih format (json/xml/csv):  xml\n"
     ]
    },
    {
     "name": "stdout",
     "output_type": "stream",
     "text": [
      "Data Serialisasi:\n",
      "<data><nama>Alice</nama><usia>30</usia><kota>Jakarta</kota></data>\n",
      "Data Deserialisasi:\n",
      "{'nama': 'Alice', 'usia': '30', 'kota': 'Jakarta'}\n"
     ]
    }
   ],
   "source": [
    "import json\n",
    "import xml.etree.ElementTree as ET\n",
    "import csv\n",
    "\n",
    "def serialize_data(data, format):\n",
    "    if format == 'json':\n",
    "        return json.dumps(data, indent=4)\n",
    "    elif format == 'xml':\n",
    "        root = ET.Element('data')\n",
    "        for key, value in data.items():\n",
    "            element = ET.SubElement(root, key)\n",
    "            element.text = str(value)\n",
    "        return ET.tostring(root).decode('utf-8')\n",
    "    elif format == 'csv':\n",
    "        return '\\n'.join([f\"{key},{value}\" for key, value in data.items()])\n",
    "\n",
    "def deserialize_data(data, format):\n",
    "    if format == 'json':\n",
    "        return json.loads(data)\n",
    "    elif format == 'xml':\n",
    "        root = ET.fromstring(data)\n",
    "        return {elem.tag: elem.text for elem in root}\n",
    "    elif format == 'csv':\n",
    "        return {line.split(',')[0]: line.split(',')[1] for line in data.split('\\n') if ',' in line}\n",
    "\n",
    "# Pilihan format dari pengguna\n",
    "pilihan_format = input(\"Pilih format (json/xml/csv): \")\n",
    "\n",
    "data = {'nama': 'Alice', 'usia': 30, 'kota': 'Jakarta'}\n",
    "\n",
    "# Serialisasi\n",
    "serialized_data = serialize_data(data, pilihan_format)\n",
    "print(\"Data Serialisasi:\")\n",
    "print(serialized_data)\n",
    "\n",
    "# Deserialisasi\n",
    "deserialized_data = deserialize_data(serialized_data, pilihan_format)\n",
    "print(\"Data Deserialisasi:\")\n",
    "print(deserialized_data)"
   ]
  },
  {
   "cell_type": "markdown",
   "metadata": {
    "id": "ETWN5L0sZtqU"
   },
   "source": [
    "## contoh 6"
   ]
  },
  {
   "cell_type": "markdown",
   "metadata": {
    "id": "wwJrJqdOhwXy"
   },
   "source": [
    "Program Serialisasi ke Format yang Berbeda"
   ]
  },
  {
   "cell_type": "code",
   "execution_count": 7,
   "metadata": {
    "id": "5YsewVTPdpJR"
   },
   "outputs": [
    {
     "name": "stdout",
     "output_type": "stream",
     "text": [
      "Pilih operasi:\n",
      "1. Serialisasi ke JSON\n",
      "2. Deserialisasi dari JSON\n",
      "3. Serialisasi ke XML\n",
      "4. Deserialisasi dari XML\n",
      "5. Serialisasi ke CSV\n",
      "6. Deserialisasi dari CSV\n"
     ]
    },
    {
     "name": "stdin",
     "output_type": "stream",
     "text": [
      "Pilih operasi (1/2/3/4/5/6):  1\n"
     ]
    },
    {
     "name": "stdout",
     "output_type": "stream",
     "text": [
      "{\n",
      "    \"nama\": \"Alice\",\n",
      "    \"usia\": 30,\n",
      "    \"kota\": \"Jakarta\"\n",
      "}\n"
     ]
    }
   ],
   "source": [
    "import json\n",
    "import xml.etree.ElementTree as ET\n",
    "import csv\n",
    "\n",
    "def serialize_to_json(data):\n",
    "    return json.dumps(data, indent=4)\n",
    "\n",
    "def deserialize_from_json(data):\n",
    "    return json.loads(data)\n",
    "\n",
    "def serialize_to_xml(data):\n",
    "    root = ET.Element('data')\n",
    "    for key, value in data.items():\n",
    "        element = ET.SubElement(root, key)\n",
    "        element.text = str(value)\n",
    "    return ET.tostring(root).decode('utf-8')\n",
    "\n",
    "def deserialize_from_xml(data):\n",
    "    root = ET.fromstring(data)\n",
    "    return {elem.tag: elem.text for elem in root}\n",
    "\n",
    "def serialize_to_csv(data):\n",
    "    lines = [','.join([str(key), str(value)]) for key, value in data.items()]\n",
    "    return '\\n'.join(lines)\n",
    "\n",
    "def deserialize_from_csv(data):\n",
    "    lines = data.split('\\n')\n",
    "    items = [line.split(',') for line in lines]\n",
    "    return {item[0]: item[1] for item in items if len(item) == 2}\n",
    "\n",
    "# Pengguna memilih operasi\n",
    "print(\"Pilih operasi:\")\n",
    "print(\"1. Serialisasi ke JSON\")\n",
    "print(\"2. Deserialisasi dari JSON\")\n",
    "print(\"3. Serialisasi ke XML\")\n",
    "print(\"4. Deserialisasi dari XML\")\n",
    "print(\"5. Serialisasi ke CSV\")\n",
    "print(\"6. Deserialisasi dari CSV\")\n",
    "operasi = input(\"Pilih operasi (1/2/3/4/5/6): \")\n",
    "\n",
    "data = {'nama': 'Alice', 'usia': 30, 'kota': 'Jakarta'}\n",
    "\n",
    "if operasi == '1':\n",
    "    result = serialize_to_json(data)\n",
    "elif operasi == '2':\n",
    "    result = deserialize_from_json(data)\n",
    "elif operasi == '3':\n",
    "    result = serialize_to_xml(data)\n",
    "elif operasi == '4':\n",
    "    result = deserialize_from_xml(data)\n",
    "elif operasi == '5':\n",
    "    result = serialize_to_csv(data)\n",
    "elif operasi == '6':\n",
    "    result = deserialize_from_csv(data)\n",
    "\n",
    "print(result)\n"
   ]
  },
  {
   "cell_type": "markdown",
   "metadata": {
    "id": "cWdNr6GHZ2OM"
   },
   "source": [
    "Program ini memungkinkan pengguna untuk memilih operasi seperti serialisasi ke JSON, deserialisasi dari JSON, serialisasi ke XML, deserialisasi dari XML, serialisasi ke CSV, atau deserialisasi dari CSV. Data kemudian diolah sesuai dengan operasi yang dipilih dan hasilnya dicetak."
   ]
  },
  {
   "cell_type": "markdown",
   "metadata": {
    "id": "KisPdlq5iqgq"
   },
   "source": [
    "Contoh 5 dan 6 dalam garis besar \"Serialisasi Data (Pengantar)\" memang cukup mirip. Kedua contoh tersebut mencakup serialisasi dan deserialisasi, tetapi memiliki pendekatan yang berbeda.\n",
    "\n",
    "**Contoh 5:**\n",
    "- Memungkinkan pengguna memilih format (JSON, XML, CSV) untuk serialisasi dan deserialisasi.\n",
    "- Menyediakan fungsi yang berbeda untuk setiap operasi (serialisasi dan deserialisasi).\n",
    "- Berdasarkan input pengguna, melakukan serialisasi atau deserialisasi data.\n",
    "\n",
    "**Contoh 6:**\n",
    "- Juga memungkinkan pengguna memilih operasi (serialisasi atau deserialisasi) tetapi tidak secara khusus membahas format yang berbeda.\n",
    "- Mendefinisikan fungsi terpisah untuk setiap operasi serialisasi atau deserialisasi.\n",
    "- Pengguna memilih operasi (1 untuk serialisasi, 2 untuk deserialisasi), dan kode akan memproses data sesuai dengan pilihan tersebut.\n",
    "\n",
    "Meskipun kedua contoh tersebut mengilustrasikan konsep serialisasi dan deserialisasi, Contoh 5 lebih fokus pada penggunaan berbagai format serialisasi yang berbeda (JSON, XML, CSV) dan memberikan pilihan untuk memilih operasi. Contoh 6 lebih sederhana dan menyediakan pilihan untuk serialisasi atau deserialisasi, tetapi tidak secara eksplisit mengatasi berbagai format. Anda dapat memilih contoh yang paling sesuai dengan kebutuhan pengajaran Anda."
   ]
  },
  {
   "cell_type": "code",
   "execution_count": null,
   "metadata": {
    "id": "9nLUS1BRZ4Gv"
   },
   "outputs": [],
   "source": []
  }
 ],
 "metadata": {
  "colab": {
   "provenance": []
  },
  "kernelspec": {
   "display_name": "Python 3 (ipykernel)",
   "language": "python",
   "name": "python3"
  },
  "language_info": {
   "codemirror_mode": {
    "name": "ipython",
    "version": 3
   },
   "file_extension": ".py",
   "mimetype": "text/x-python",
   "name": "python",
   "nbconvert_exporter": "python",
   "pygments_lexer": "ipython3",
   "version": "3.13.5"
  }
 },
 "nbformat": 4,
 "nbformat_minor": 4
}
