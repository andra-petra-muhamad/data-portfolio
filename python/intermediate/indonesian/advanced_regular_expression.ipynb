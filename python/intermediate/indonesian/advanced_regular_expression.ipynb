{
 "cells": [
  {
   "cell_type": "markdown",
   "id": "58374352-c9bd-48d2-b168-ffd01cb0ad7b",
   "metadata": {},
   "source": [
    "# Advanced Regular Expression\n",
    "Dalam dunia pengolahan data dan analisis teks, Ekspresi Reguler (regular expression atau regex) adalah pisau serbaguna yang dapat memotong, mengekstrak, memvalidasi, bahkan merangkai ulang potongan informasi dari data mentah. Banyak orang mengenalnya hanya sebagai alat pencarian pola sederhana, namun kenyataannya regex memiliki lapisan kemampuan yang jauh lebih dalam, mulai dari lookaround assertions, named groups, hingga pencocokan bersarang dengan rekursi."
   ]
  },
  {
   "cell_type": "markdown",
   "id": "c51d4814-98cb-4755-922b-53c6b3290436",
   "metadata": {},
   "source": [
    "# Persiapan Library dan Dataset"
   ]
  },
  {
   "cell_type": "markdown",
   "id": "114c13d5-e700-42a2-bfb6-f152af158c13",
   "metadata": {},
   "source": [
    "## Import library"
   ]
  },
  {
   "cell_type": "code",
   "execution_count": 42,
   "id": "88f07f05-3df3-4f82-a30d-ed27b8453fc2",
   "metadata": {},
   "outputs": [],
   "source": [
    "import re\n",
    "import regex   \n",
    "import pandas as pd\n",
    "from datetime import datetime\n",
    "from dateutil import parser as dateparser\n",
    "import unicodedata"
   ]
  },
  {
   "cell_type": "markdown",
   "id": "1d4d994a-ab0c-4bab-8662-06c19987b0de",
   "metadata": {},
   "source": [
    "## Dataset Contoh"
   ]
  },
  {
   "cell_type": "code",
   "execution_count": 43,
   "id": "d2b932d2-18a3-41a8-91fe-568f7d33c02d",
   "metadata": {},
   "outputs": [],
   "source": [
    "server_logs = '''127.0.0.1 - - [10/Oct/2023:13:55:36 +0700] \"GET /index.html HTTP/1.1\" 200 1024 \"-\" \"Mozilla/5.0\"\n",
    "192.168.1.5 - john [11/Oct/2023:08:20:10 +0700] \"POST /api/v1/login HTTP/1.1\" 500 512 \"-\" \"curl/7.64\"\n",
    "ERROR [2023-10-11 08:20:11] Traceback (most recent call last):\\n  File \"app.py\", line 23, in <module>\\n    main()\\n'''\n",
    "\n",
    "mixed_notes = '''Contact: Andra <andra@example.com>, tel:+62-812-3456-7890. Invoice #INV-2023/09/0001 Rp 1.250.000. Due 2023-10-20.\n",
    "Big sale: 50% off! Visit https://shop.example.com/deals?id=123&src=email\n",
    "DOB: 12 Aug 1990, alternative: 1990/08/12'''\n",
    "\n",
    "html_snippets = '''<div><p>Hello <span>World <b>bold</b></span></p><div>Nested <span>deep <i>italic</i></span></div></div>'''"
   ]
  },
  {
   "cell_type": "markdown",
   "id": "74a07285-c990-4cd1-b0c2-1979f656cebf",
   "metadata": {},
   "source": [
    "# Parsing Log Server\n",
    "Menangkap pola IP address, timestamp, status code, dan endpoint dari log server Apache/Nginx yang memiliki format tidak selalu konsisten. Menggunakan named groups untuk langsung memetakan hasil ekstraksi."
   ]
  },
  {
   "cell_type": "code",
   "execution_count": 44,
   "id": "1e9a57a9-03cd-4cf5-bed6-14530756ad09",
   "metadata": {},
   "outputs": [
    {
     "name": "stdout",
     "output_type": "stream",
     "text": [
      "            ip  user                   timestamp method           path  \\\n",
      "0    127.0.0.1     -  10/Oct/2023:13:55:36 +0700    GET    /index.html   \n",
      "1  192.168.1.5  john  11/Oct/2023:08:20:10 +0700   POST  /api/v1/login   \n",
      "\n",
      "      proto status  size ref        agent  \n",
      "0  HTTP/1.1    200  1024   -  Mozilla/5.0  \n",
      "1  HTTP/1.1    500   512   -    curl/7.64  \n"
     ]
    }
   ],
   "source": [
    "log_pattern = re.compile(r'''\n",
    "    (?P<ip>\\d{1,3}(?:\\.\\d{1,3}){3})      # IP address\n",
    "    \\s+-\\s+                              # tanda \" - \"\n",
    "    (?P<user>[^\\s\\[]+)                   # user (tidak mengandung spasi atau '[')\n",
    "    \\s+\\[(?P<timestamp>[^\\]]+)\\]         # timestamp di dalam [ ]\n",
    "    \\s+\"(?P<method>GET|POST|PUT|DELETE|PATCH|OPTIONS)  # method HTTP\n",
    "    \\s+(?P<path>[^\\s]+)                  # path URL\n",
    "    \\s+(?P<proto>HTTP/\\d\\.\\d)\"           # protocol\n",
    "    \\s+(?P<status>\\d{3})                 # status code (3 digit)\n",
    "    \\s+(?P<size>\\d+|-)                   # ukuran respons (angka atau '-')\n",
    "    \\s+\"(?P<ref>.*?)\"                    # referer di dalam \"\"\n",
    "    \\s+\"(?P<agent>.*?)\"                  # user-agent di dalam \"\"\n",
    "    ''', re.VERBOSE)\n",
    "\n",
    "rows = []\n",
    "for m in log_pattern.finditer(server_logs):\n",
    "    d = m.groupdict()  # hasil regex jadi dictionary\n",
    "    try:\n",
    "        d['timestamp'] = dateparser.parse(d['timestamp'])  # ubah ke datetime\n",
    "    except Exception:\n",
    "        d['timestamp'] = d['timestamp']  # kalau gagal, biarkan string asli\n",
    "    rows.append(d)\n",
    "\n",
    "\n",
    "df_logs = pd.DataFrame(rows)\n",
    "print(df_logs)"
   ]
  },
  {
   "cell_type": "markdown",
   "id": "c1661a9b-18dd-46dc-8012-23dcafab6df8",
   "metadata": {},
   "source": [
    "Makna:\n",
    "* ip → alamat klien.\n",
    "* user → nama user (atau - kalau tidak ada).\n",
    "* timestamp → waktu request.\n",
    "* method → metode HTTP (GET, POST).\n",
    "* path → jalur URL yang diminta.\n",
    "* proto → protokol HTTP.\n",
    "* status → kode status server.\n",
    "* size → ukuran respons dalam byte.\n",
    "* ref → referer (di sini - artinya kosong).\n",
    "* agent → informasi aplikasi/alat yang digunakan klien."
   ]
  },
  {
   "cell_type": "markdown",
   "id": "0614664a-9941-469d-a204-c3deaa6ff939",
   "metadata": {},
   "source": [
    "# Advanced Text Cleaning and Normalization\n",
    "Menghapus karakter tak terlihat (zero-width space, soft hyphen), mengatasi kombinasi Unicode, dan membersihkan teks dari alphanumeric noise dengan lookahead/lookbehind assertions."
   ]
  },
  {
   "cell_type": "code",
   "execution_count": 45,
   "id": "1fb09f6e-1033-47ac-8f34-cedc7bb455c3",
   "metadata": {},
   "outputs": [
    {
     "name": "stdout",
     "output_type": "stream",
     "text": [
      "Andraexample — café\n"
     ]
    }
   ],
   "source": [
    "def normalize_text(s):\n",
    "    s = unicodedata.normalize('NFKC', s)\n",
    "    s = re.sub('[\\u200B\\u200C\\u200D\\uFEFF]', '', s)\n",
    "    s = s.replace('\\u00AD', '')  # soft hyphen\n",
    "    return s\n",
    "\n",
    "print(normalize_text('Andra\\u200Bexample — café'))"
   ]
  },
  {
   "cell_type": "markdown",
   "id": "4db08590-5c78-498a-a66c-19f14a5a165b",
   "metadata": {},
   "source": [
    "Keterangan:\n",
    "* 'NFKC' → Normalization Form Compatibility Composition (merapikan bentuk & simbol menjadi bentuk paling standar).\n",
    "* \\u200B (zero-width space)\n",
    "* \\u200C (zero-width non-joiner)\n",
    "* \\u200D (zero-width joiner)\n",
    "* \\uFEFF (zero-width no-break space)\n",
    "* s.replace('\\u00AD', '') → menghapus soft hyphen (\\u00AD), tanda sambung yang hanya muncul saat pemenggalan kata."
   ]
  },
  {
   "cell_type": "markdown",
   "id": "3189d516-c2ca-4d15-944e-4a19bb570267",
   "metadata": {},
   "source": [
    "## Contoh lookaround sederhana"
   ]
  },
  {
   "cell_type": "code",
   "execution_count": 46,
   "id": "2d26cd61-ea06-426f-b7ea-31722323f375",
   "metadata": {},
   "outputs": [
    {
     "name": "stdout",
     "output_type": "stream",
     "text": [
      "Halo dunia. 3.14 not removed.\n"
     ]
    }
   ],
   "source": [
    "s = 'Halo. dunia. 3.14 not removed.'\n",
    "s2 = re.sub(r'(?<=\\w)\\.(?=\\s+[a-z])', '', s)\n",
    "print(s2)"
   ]
  },
  {
   "cell_type": "markdown",
   "id": "0f8f83db-e77a-4609-a73d-fecde84d2967",
   "metadata": {},
   "source": [
    "Keterangan:\n",
    "* Sebelumnya ada huruf/angka ((?<=\\w)).\n",
    "* Sesudahnya ada spasi diikuti huruf kecil ((?=\\s+[a-z]))."
   ]
  },
  {
   "cell_type": "markdown",
   "id": "07a3b680-5a1b-4052-8e87-52e063817377",
   "metadata": {},
   "source": [
    "# Ekstraksi Entitas Bernama tanpa Library NLP\n",
    "Menggunakan regex untuk menemukan email, URL, nomor telepon, harga, dan tanggal dari teks mentah, memanfaatkan grup penamaan untuk struktur hasil yang rapi."
   ]
  },
  {
   "cell_type": "code",
   "execution_count": 47,
   "id": "c8f607c7-0378-4d59-a28c-cb0f0ab60709",
   "metadata": {},
   "outputs": [
    {
     "name": "stdout",
     "output_type": "stream",
     "text": [
      "{'email': 'andra@example.com', 'url': None, 'phone': None, 'price': None, 'date': None}\n",
      "{'email': None, 'url': None, 'phone': '+62-812-3456-7890', 'price': None, 'date': None}\n",
      "{'email': None, 'url': None, 'phone': None, 'price': 'Rp 1.250.000.', 'date': None}\n",
      "{'email': None, 'url': None, 'phone': None, 'price': None, 'date': '2023-10-20'}\n",
      "{'email': None, 'url': 'https://shop.example.com/deals?id=123&src=email', 'phone': None, 'price': None, 'date': None}\n",
      "{'email': None, 'url': None, 'phone': None, 'price': None, 'date': '12 Aug 1990'}\n"
     ]
    }
   ],
   "source": [
    "EMAIL = r'(?P<email>[\\w.+-]+@[\\w-]+\\.[\\w.-]+)'\n",
    "URL = r'(?P<url>https?://[\\w./?=&%#-]+)'\n",
    "PHONE = r'(?P<phone>\\+?\\d{1,3}[\\-\\s]?\\d{1,4}[\\-\\s]?\\d{3,4}[\\-\\s]?\\d{3,4})'\n",
    "PRICE = r'(?P<price>Rp\\s?[\\d.,]+|\\$\\s?[\\d,]+(?:\\.\\d{2})?)'\n",
    "DATE = r'(?P<date>\\b\\d{1,2}[\\-\\s\\/][A-Za-z0-9]{2,4}[\\-\\s\\/]\\d{2,4}\\b|\\b\\d{4}-\\d{2}-\\d{2}\\b)'\n",
    "\n",
    "combined = re.compile('|'.join([EMAIL, URL, PHONE, PRICE, DATE]))\n",
    "\n",
    "for m in combined.finditer(mixed_notes):\n",
    "    print(m.groupdict())"
   ]
  },
  {
   "cell_type": "markdown",
   "id": "fee2ada7-f23e-4fda-813a-f68bef68e87e",
   "metadata": {},
   "source": [
    "Keterangan:\n",
    "1. Email\n",
    "   * [\\w.+-]+ → bagian sebelum @ boleh huruf, angka, titik, plus, minus.\n",
    "   * @ → pemisah.\n",
    "   * [\\w-]+ → nama domain.\n",
    "   * \\. → titik sebelum ekstensi domain.\n",
    "   * [\\w.-]+ → ekstensi domain (misalnya .com, .co.id).\n",
    "2. URL\n",
    "   * https?:// → http:// atau https://.\n",
    "   * [\\w./?=&%#-]+ → isi URL, boleh huruf, angka, titik, slash, query string, dsb. \n",
    "3. Phone\n",
    "   * \\+?\\d{1,3} → kode negara opsional (+62).\n",
    "   * [\\-\\s]? → boleh ada tanda minus atau spasi.\n",
    "   * Lalu angka-angka dengan format umum nomor telepon.\n",
    "4. Price\n",
    "   * Bisa Rp atau $ diikuti angka.\n",
    "   * [\\d.,]+ → angka, titik, koma.\n",
    "   * Bagian (?:\\.\\d{2})? untuk harga dalam dolar dengan dua angka desimal.\n",
    "5. Date\n",
    "   * Format DD-MM-YYYY, DD Mon YYYY, atau YYYY-MM-DD.\n",
    "6. Kenapa banyak None?\\\n",
    "Karena hanya satu pola yang cocok di setiap match, sisanya otomatis kosong (None).\n",
    "7. Untuk apa ini?\\\n",
    "Sangat berguna untuk ekstraksi entitas dari teks mentah (misalnya parsing email masuk, catatan meeting, atau teks bebas di web scraping)."
   ]
  },
  {
   "cell_type": "markdown",
   "id": "36fb461b-d06b-4997-ab56-1a69e6ee7c73",
   "metadata": {},
   "source": [
    "# Pencocokan Pola Bersarang (rekursif dengan modul regex)\n",
    "Menangani tanda kurung bersarang seperti pada parsing bahasa pemrograman, menggunakan modul regex Python yang mendukung pencocokan rekursif."
   ]
  },
  {
   "cell_type": "code",
   "execution_count": 48,
   "id": "190758f6-b56f-41c0-a4b8-5a258bfa0387",
   "metadata": {},
   "outputs": [
    {
     "name": "stdout",
     "output_type": "stream",
     "text": [
      "Matched block:\n",
      "<div><p>Hello <span>World <b>bold</b></span></p><div>Nested <span>deep <i>italic</i></span></div>\n"
     ]
    }
   ],
   "source": [
    "pattern = regex.compile(r'(?P<tag><(?P<name>\\w+)(?:\\s[^>]*)?>)(?:(?:(?R))|.*?)(?P<close></(?P=name)>)', flags=regex.DOTALL)\n",
    "\n",
    "m = pattern.search(html_snippets)\n",
    "if m:\n",
    "    print('Matched block:')\n",
    "    print(m.group(0))"
   ]
  },
  {
   "cell_type": "markdown",
   "id": "e2c14495-72be-4857-80c4-2ddfff9ee771",
   "metadata": {},
   "source": [
    "# Validasi password"
   ]
  },
  {
   "cell_type": "code",
   "execution_count": 49,
   "id": "5df90354-ad66-40f8-8de7-2cd1295b47cc",
   "metadata": {},
   "outputs": [
    {
     "name": "stdout",
     "output_type": "stream",
     "text": [
      "StrongPass!2023 -> True\n",
      "Short1! -> False\n",
      "strongpassword2023 -> False\n",
      "StrongPassword2023 -> False\n",
      "StrongPass!word -> False\n",
      "StrongPass!2023 -> False\n",
      "SuperSecure@99 -> True\n",
      "Password!1234 -> False\n",
      "Qwerty!Qwerty1 -> True\n"
     ]
    }
   ],
   "source": [
    "def validate_password(pw, username=None):\n",
    "    if len(pw) < 12:\n",
    "        return False\n",
    "    checks = [r'[A-Z]', r'[a-z]', r'\\d', r'[^A-Za-z0-9]']\n",
    "    if not all(re.search(c, pw) for c in checks):\n",
    "        return False\n",
    "    if username and username.lower() in pw.lower():\n",
    "        return False\n",
    "    return True\n",
    "\n",
    "tests = [\n",
    "    ('StrongPass!2023', 'andra'),\n",
    "    ('Short1!', 'andra'),\n",
    "    ('strongpassword2023', 'andra'),\n",
    "    ('StrongPassword2023', 'andra'),\n",
    "    ('StrongPass!word', 'andra'),\n",
    "    ('StrongPass!2023', 'StrongPass!2023'),\n",
    "    ('SuperSecure@99', 'andra'),\n",
    "    ('Password!1234', 'pass'),\n",
    "    ('Qwerty!Qwerty1', 'andra')\n",
    "]\n",
    "\n",
    "for pw, user in tests:\n",
    "    print(pw, '->', validate_password(pw, username=user))"
   ]
  },
  {
   "cell_type": "markdown",
   "id": "c1698f90-e5fb-4e05-976c-3e3e3d54beff",
   "metadata": {},
   "source": [
    "Keterangan:\n",
    "| Password             | Username          | Alasan Valid / Tidak                                                                           |\n",
    "| -------------------- | ----------------- | ---------------------------------------------------------------------------------------------- |\n",
    "| `StrongPass!2023`    | `andra`           | ✅ **Valid** — panjang 15, ada huruf besar, kecil, angka, simbol, dan tidak mengandung \"andra\". |\n",
    "| `Short1!`            | `andra`           | ❌ **Tidak valid** — kurang dari 12 karakter.                                                   |\n",
    "| `strongpassword2023` | `andra`           | ❌ **Tidak valid** — tidak ada huruf besar, tidak ada simbol.                                   |\n",
    "| `StrongPassword2023` | `andra`           | ❌ **Tidak valid** — tidak ada simbol.                                                          |\n",
    "| `StrongPass!word`    | `andra`           | ❌ **Tidak valid** — tidak ada angka.                                                           |\n",
    "| `StrongPass!2023`    | `StrongPass!2023` | ❌ **Tidak valid** — mengandung username yang sama persis.                                      |\n",
    "| `SuperSecure@99`     | `andra`           | ✅ **Valid** — panjang 14, ada huruf besar, kecil, angka, simbol, tidak ada nama \"andra\".       |\n",
    "| `Password!1234`      | `pass`            | ❌ **Tidak valid** — username `pass` ada di dalam password (case-insensitive).                  |\n",
    "| `Qwerty!Qwerty1`     | `andra`           | ✅ **Valid** — panjang 15, semua kriteria terpenuhi.                                            |\n"
   ]
  },
  {
   "cell_type": "markdown",
   "id": "2ad6d617-e284-4783-8971-7311ebbb46dc",
   "metadata": {},
   "source": [
    "# Check Luhn"
   ]
  },
  {
   "cell_type": "code",
   "execution_count": 50,
   "id": "3a293395-3f6a-4a7e-b561-7e74e7b2d053",
   "metadata": {},
   "outputs": [
    {
     "name": "stdout",
     "output_type": "stream",
     "text": [
      "4111 1111 1111 1111 -> True\n",
      "5500-0000-0000-0004 -> True\n",
      "378282246310005 -> True\n",
      "6011111111111117 -> True\n",
      "4111 1111 1111 1112 -> False\n",
      "1234 5678 9012 3456 -> False\n",
      "4111 1111 111 -> Format tidak cocok\n",
      "4111 1111 1111 1111 1111 -> True\n"
     ]
    }
   ],
   "source": [
    "cc_re = re.compile(r'(?P<number>(?:\\d[ -]*?){13,19})') # Mencari nomor kartu kredit dengan panjang total digit 13 hingga 19 digit dan boleh dipisah \"-\"\n",
    "\n",
    "def luhn_check(number):\n",
    "    digits = [int(d) for d in re.sub(r'[^0-9]', '', number)][::-1]\n",
    "    total = 0\n",
    "    for i,d in enumerate(digits):\n",
    "        if i % 2 == 1:\n",
    "            d = d*2\n",
    "            if d>9: d-=9\n",
    "        total += d\n",
    "    return total % 10 == 0\n",
    "\n",
    "cards = [\n",
    "    '4111 1111 1111 1111',\n",
    "    '5500-0000-0000-0004',\n",
    "    '378282246310005',\n",
    "    '6011111111111117',\n",
    "    '4111 1111 1111 1112',\n",
    "    '1234 5678 9012 3456',\n",
    "    '4111 1111 111',\n",
    "    '4111 1111 1111 1111 1111'\n",
    "]\n",
    "\n",
    "for c in cards:\n",
    "    found = cc_re.search(c)\n",
    "    if found:\n",
    "        print(c, '->', luhn_check(found.group('number')))\n",
    "    else:\n",
    "        print(c, '->', 'Format tidak cocok')"
   ]
  },
  {
   "cell_type": "markdown",
   "id": "8f38fe16-3a7a-4447-bd0f-636497cf0002",
   "metadata": {},
   "source": [
    "Keterangan:\n",
    "| Nomor Kartu                | Valid / Tidak | Alasan                                                 |\n",
    "| -------------------------- | ------------- | ------------------------------------------------------ |\n",
    "| `4111 1111 1111 1111`      | ✅ Valid       | Nomor uji coba Visa resmi, lolos Luhn.                 |\n",
    "| `5500-0000-0000-0004`      | ✅ Valid       | Nomor uji coba Mastercard resmi, lolos Luhn.           |\n",
    "| `378282246310005`          | ✅ Valid       | Nomor uji coba American Express, 15 digit, lolos Luhn. |\n",
    "| `6011111111111117`         | ✅ Valid       | Nomor uji coba Discover Card, lolos Luhn.              |\n",
    "| `4111 1111 1111 1112`      | ❌ Tidak valid | Gagal perhitungan Luhn (digit terakhir dimodifikasi).  |\n",
    "| `1234 5678 9012 3456`      | ❌ Tidak valid | Tidak memenuhi aturan Luhn.                            |\n",
    "| `4111 1111 111`            | ❌ Tidak valid | Hanya 11 digit, kurang dari 13 digit minimal.          |\n",
    "| `4111 1111 1111 1111 1111` | ❌ Tidak valid | Lebih dari 19 digit.                                   |\n"
   ]
  },
  {
   "cell_type": "markdown",
   "id": "62cd3273-a24c-43ff-aa2c-d17105d47f3d",
   "metadata": {},
   "source": [
    "# Regex + Pandas untuk Data Wrangling\n",
    "Memecah kolom teks yang berisi gabungan nama, nomor faktur, dan tanggal menjadi kolom-kolom terpisah secara otomatis menggunakan regex di Pandas."
   ]
  },
  {
   "cell_type": "code",
   "execution_count": 51,
   "id": "374a4d24-0145-449f-b9fb-398bb8bbdc07",
   "metadata": {},
   "outputs": [
    {
     "name": "stdout",
     "output_type": "stream",
     "text": [
      "                                          note\n",
      "0  Name: Andra; INV: INV-001; Date: 2023-10-11\n",
      "1   Name: Budi; INV: INV-002; Date: 2023/10/12\n",
      "-----------------\n",
      "                                          note   name      inv        date  \\\n",
      "0  Name: Andra; INV: INV-001; Date: 2023-10-11  Andra  INV-001  2023-10-11   \n",
      "1   Name: Budi; INV: INV-002; Date: 2023/10/12   Budi  INV-002  2023/10/12   \n",
      "\n",
      "    date_norm  \n",
      "0  2023-10-11  \n",
      "1  2023-10-12  \n"
     ]
    }
   ],
   "source": [
    "data = pd.DataFrame({'note':[\"Name: Andra; INV: INV-001; Date: 2023-10-11\", \"Name: Budi; INV: INV-002; Date: 2023/10/12\"]})\n",
    "pattern = r'Name:\\s*(?P<name>[^;]+);\\s*INV:\\s*(?P<inv>[^;]+);\\s*Date:\\s*(?P<date>[^;]+)'\n",
    "extracted = data['note'].str.extract(pattern)\n",
    "extracted['date_norm'] = extracted['date'].apply(lambda x: dateparser.parse(x).date())\n",
    "result = pd.concat([data, extracted], axis=1)\n",
    "print(data)\n",
    "print(\"-----------------\")\n",
    "print(result)"
   ]
  },
  {
   "cell_type": "markdown",
   "id": "42d72ce2-3407-4f3e-828c-b7e0e3a5a3e7",
   "metadata": {},
   "source": [
    "# Redaksi Teks / Masking Data Sensitif\n",
    "Mengaburkan informasi seperti email, nomor KTP, atau nomor rekening secara otomatis dengan regex replace, serta menampilkan perbandingan sebelum-sesudah."
   ]
  },
  {
   "cell_type": "code",
   "execution_count": 52,
   "id": "1910ddb9-1c05-482d-8ad8-b5719b201145",
   "metadata": {},
   "outputs": [
    {
     "name": "stdout",
     "output_type": "stream",
     "text": [
      "and**@example.com\n",
      "+62-***-****-**90\n"
     ]
    }
   ],
   "source": [
    "# mask email\n",
    "s = 'andra@example.com'\n",
    "masked = re.sub(r'(?P<user>[^@]{1,3})([^@]*)(?=@)', lambda m: m.group('user') + '*'*len(m.group(2)), s)\n",
    "print(masked)\n",
    "\n",
    "# mask telepon: simpan kode negara + 2 digit terakhir\n",
    "s = '+62-812-3456-7890'\n",
    "masked_phone = re.sub(r'(\\+?\\d{1,3}[\\-\\s]?)([\\d\\-\\s]+)(\\d{2})$', lambda m: m.group(1) + re.sub(r'\\d','*',m.group(2)) + m.group(3), s)\n",
    "print(masked_phone)"
   ]
  },
  {
   "cell_type": "markdown",
   "id": "8afc8a59-ebf4-4b53-828b-0cbfc7a4877c",
   "metadata": {},
   "source": [
    "Keterangan mask email: simpan 1–3 huruf pertama sebelum @, sisanya diganti *\n",
    "* (?P<user>[^@]{1,3}) → Tangkap 1–3 karakter pertama sebelum tanda @ (nama bagian awal email).\n",
    "* ([^@]*) → Tangkap semua karakter lain sebelum tanda @ (bagian username yang akan dimask).\n",
    "* (?=@) → Lookahead untuk memastikan kita berhenti tepat sebelum @ tanpa menghapusnya.\n",
    "* m.group('user') → Ambil bagian depan username (1–3 huruf).\n",
    "* '*' * len(m.group(2)) → Ganti sisa username dengan bintang sesuai panjangnya.\n",
    "  \n",
    "Keterangan mask telepon: simpan kode negara dan 2 digit terakhir, sisanya diganti *\n",
    "* (\\+?\\d{1,3}[\\-\\s]?) → Tangkap kode negara (misalnya +62-).\n",
    "* ([\\d\\-\\s]+) → Tangkap angka-angka di tengah (akan dimask semua).\n",
    "* (\\d{2})$ → Tangkap 2 digit terakhir (disimpan asli).\n",
    "* m.group(1) → Kode negara tetap ditampilkan.\n",
    "* re.sub(r'\\d', '*', m.group(2)) → Semua angka di tengah diganti bintang, tanda - tetap.\n",
    "* m.group(3) → Dua digit terakhir tetap ditampilkan."
   ]
  },
  {
   "cell_type": "markdown",
   "id": "ff554575-ae60-4575-84cd-0773dcc0cd19",
   "metadata": {},
   "source": [
    "# Parsing HTML/XML sederhana (rekursif)\n",
    "Menggunakan fitur rekursi pada modul regex untuk menemukan pasangan tag HTML/XML bersarang beserta kontennya, tanpa bantuan parser eksternal"
   ]
  },
  {
   "cell_type": "code",
   "execution_count": 53,
   "id": "16ef3b42-a864-4d0e-b09e-70bcc0691dd8",
   "metadata": {},
   "outputs": [
    {
     "name": "stdout",
     "output_type": "stream",
     "text": [
      "<div><p>Para <b>Pengunjung</b></p><div>Bagian <span>Dalam</span></div></div>\n",
      "-----\n",
      "regex.Regex('(?P<node><(?P<tag>\\\\w+)(?:\\\\s[^>]*)?>)\\\\s*(?P<content>(?:(?R)|.*?))\\\\s*(?P<close></(?P=tag)>)', flags=regex.S | regex.V0)\n",
      "-----\n",
      "TAG: div\n",
      "CONTENT: <p>Para <b>Pengunjung</b></p><div>Bagian <span>Dalam</span>\n",
      "CLOSE: </div>\n"
     ]
    }
   ],
   "source": [
    "html = '<div><p>Para <b>Pengunjung</b></p><div>Bagian <span>Dalam</span></div></div>'\n",
    "expr = regex.compile(r'(?P<node><(?P<tag>\\w+)(?:\\s[^>]*)?>)\\s*(?P<content>(?:(?R)|.*?))\\s*(?P<close></(?P=tag)>)', flags=regex.DOTALL)\n",
    "print(html)\n",
    "print(\"-\"*5)\n",
    "print(expr)\n",
    "print(\"-\"*5)\n",
    "for m in expr.finditer(html):\n",
    "    print('TAG:', m.group('tag'))\n",
    "    print('CONTENT:', m.group('content'))\n",
    "    print('CLOSE:', m.group('close'))"
   ]
  },
  {
   "cell_type": "markdown",
   "id": "0fe8d495-e604-495e-b314-e33c4410970a",
   "metadata": {},
   "source": [
    "# Suite Pengujian & Benchmark Kinerja"
   ]
  },
  {
   "cell_type": "code",
   "execution_count": 54,
   "id": "1e10ab4d-4fb9-4fbe-b202-616b85cd18cb",
   "metadata": {},
   "outputs": [
    {
     "name": "stdout",
     "output_type": "stream",
     "text": [
      "Waktu (detik): 0.019213438034057617\n"
     ]
    }
   ],
   "source": [
    "import time\n",
    "pat = regex.compile(r'^(?:[a-zA-Z0-9._%+-]+)@[a-zA-Z0-9.-]+\\.[a-zA-Z]{2,}$')\n",
    "emails = ['user{}@example.com'.format(i) for i in range(10000)]\n",
    "start = time.time()\n",
    "for e in emails:\n",
    "    pat.match(e)\n",
    "print('Waktu (detik):', time.time()-start)"
   ]
  },
  {
   "cell_type": "markdown",
   "id": "94348605-2871-4e70-a556-466423151392",
   "metadata": {},
   "source": [
    "# Thank You"
   ]
  }
 ],
 "metadata": {
  "kernelspec": {
   "display_name": "Python 3 (ipykernel)",
   "language": "python",
   "name": "python3"
  },
  "language_info": {
   "codemirror_mode": {
    "name": "ipython",
    "version": 3
   },
   "file_extension": ".py",
   "mimetype": "text/x-python",
   "name": "python",
   "nbconvert_exporter": "python",
   "pygments_lexer": "ipython3",
   "version": "3.13.5"
  }
 },
 "nbformat": 4,
 "nbformat_minor": 5
}
