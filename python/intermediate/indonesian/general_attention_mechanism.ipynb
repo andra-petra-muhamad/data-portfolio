{
 "cells": [
  {
   "cell_type": "markdown",
   "id": "f8c07dd8-7895-4939-8b9a-481a34081f23",
   "metadata": {},
   "source": [
    "# General Attention Mechanism\n",
    "Di era deep learning modern, attention mechanism telah menjadi salah satu terobosan terbesar dalam memproses data berurutan, khususnya dalam pemrosesan bahasa alami (NLP). Konsep dasarnya sederhana, namun revolusioner yaitu setiap elemen dalam suatu urutan dapat \"memperhatikan\" elemen lain, lalu menimbang informasi yang relevan untuk menghasilkan representasi yang lebih kaya. Mekanisme ini mengatasi keterbatasan pendekatan tradisional seperti RNN yang sulit menangkap dependensi jarak jauh.\n",
    "\n",
    "Notebook ini dirancang untuk membawa pembaca memahami mekanisme tersebut secara intuitif. Mulai dari membentuk representasi Query (Q), Key (K), dan Value (V), hingga melihat langsung bagaimana bobot perhatian (attention weights) dihitung dan diterapkan. Visualisasi heatmap termasuk versi interaktif digunakan untuk menunjukkan bahwa perhatian tidak selalu statis. Sebelum pelatihan, distribusinya acak; setelah pelatihan, pola tersebut menjadi terarah dan bermakna.\n",
    "\n",
    "Urgensinya jelas yaitu tanpa pemahaman mendalam terhadap attention, kita hanya akan menggunakan Transformer atau model sejenis seperti \"black box\" tanpa benar-benar mengerti bagaimana informasi berpindah dan diolah di dalamnya. Dengan menguasai mekanisme ini, kita tidak hanya mampu memahami model, tetapi juga mengadaptasinya untuk berbagai tantangan, mulai dari penerjemahan mesin, analisis sentimen, hingga pengolahan data non-teks seperti citra dan deret waktu. Kelebihan attention meliputi kemampuannya menangkap hubungan antar elemen tanpa batasan urutan, kemudahan paralelisasi komputasi, serta fleksibilitas untuk digunakan di berbagai domain."
   ]
  },
  {
   "cell_type": "markdown",
   "id": "cae4d160-8272-44f1-8122-bd064676e243",
   "metadata": {},
   "source": [
    "# Import Library"
   ]
  },
  {
   "cell_type": "code",
   "execution_count": 1,
   "id": "df53f425-7ec9-46ba-a169-a8a6f82e4645",
   "metadata": {},
   "outputs": [],
   "source": [
    "import numpy as np\n",
    "import matplotlib.pyplot as plt"
   ]
  },
  {
   "cell_type": "markdown",
   "id": "dfb67c78-dc5d-45b4-bc69-af39111e5220",
   "metadata": {},
   "source": [
    "# Membuat fungsi softmax\n",
    "Mengubah angka menjadi probabilitas yang totalnya 1, sambil mencegah hasil perhitungan menjadi terlalu besar atau terlalu kecil sehingga komputer tetap bisa menghitungnya dengan akurat."
   ]
  },
  {
   "cell_type": "code",
   "execution_count": 2,
   "id": "61bb3212-efa2-4335-964b-8cf86e97b728",
   "metadata": {},
   "outputs": [],
   "source": [
    "def softmax(x):\n",
    "    \"\"\"Softmax yang stabil secara numerik, baris-per-baris (axis=-1).\"\"\"\n",
    "    x = np.asarray(x, dtype=np.float64)\n",
    "    x_shift = x - np.max(x, axis=-1, keepdims=True)\n",
    "    exp_x = np.exp(x_shift)\n",
    "    return exp_x / np.sum(exp_x, axis=-1, keepdims=True)"
   ]
  },
  {
   "cell_type": "markdown",
   "id": "78e5e7ab-7d4c-4c69-8188-6211d9f90f75",
   "metadata": {},
   "source": [
    "# Visualisasi Heatmap Attention\n",
    "Menampilkan peta warna (heatmap) yang menggambarkan seberapa besar atensi (attention weights) setiap token query terhadap token key, sehingga hubungan antar kata dapat terlihat secara visual."
   ]
  },
  {
   "cell_type": "code",
   "execution_count": 3,
   "id": "96e76475-5df0-4f2d-9250-79c41de8e3e5",
   "metadata": {},
   "outputs": [],
   "source": [
    "def heatmap_attention(weights, xlabels, ylabels, title):\n",
    "    \"\"\"Menampilkan heatmap attention menggunakan matplotlib (tanpa seaborn).\"\"\"\n",
    "    fig = plt.figure(figsize=(6.5, 5.5))\n",
    "    plt.imshow(weights, aspect='auto')\n",
    "    plt.title(title)\n",
    "    plt.xlabel('Key (K)')\n",
    "    plt.ylabel('Query (Q)')\n",
    "    plt.xticks(ticks=np.arange(len(xlabels)), labels=xlabels, rotation=45, ha='right')\n",
    "    plt.yticks(ticks=np.arange(len(ylabels)), labels=ylabels)\n",
    "    plt.colorbar()\n",
    "    plt.tight_layout()\n",
    "    plt.show()"
   ]
  },
  {
   "cell_type": "markdown",
   "id": "125ff984-4a0e-4dde-8657-0c04ddd44b2d",
   "metadata": {},
   "source": [
    "# Representasi Token: One-Hot ➜ Proyeksi Q, K, V\n",
    "* One-hot adalah cara paling sederhana untuk merepresentasikan kata/token dalam bentuk vektor.\n",
    "* Meskipun tidak memuat makna semantik, ia memudahkan kita memahami proses awal Transformer karena setiap kata diwakili vektor yang berbeda secara tegas.\n",
    "* Proyeksi Q, K, dan V adalah transformasi linier dari representasi tersebut untuk mempersiapkan perhitungan atensi."
   ]
  },
  {
   "cell_type": "markdown",
   "id": "a71ea247-92c8-492e-982b-a164fc801ef6",
   "metadata": {},
   "source": [
    "## Definisi token dan one-hot\n",
    "* Token adalah unit dasar teks (kata, sub-kata, atau karakter) yang menjadi input model.\n",
    "* One-hot merepresentasikan setiap token sebagai vektor panjang n (jumlah token unik), dengan satu elemen bernilai 1 dan sisanya 0.\n",
    "* Tujuannya adalah memastikan identitas setiap token terjaga sebelum diproyeksikan ke ruang vektor yang lebih bermakna."
   ]
  },
  {
   "cell_type": "code",
   "execution_count": 4,
   "id": "16010c48-9065-4541-8281-2a78f8db1193",
   "metadata": {},
   "outputs": [],
   "source": [
    "tokens = [\"A\", \"B\", \"C\", \"D\"]\n",
    "I = np.eye(len(tokens))  # matriks identitas -> one-hot untuk 4 token"
   ]
  },
  {
   "cell_type": "code",
   "execution_count": 5,
   "id": "c974494e-fc8e-4d01-8c32-c7335151afd6",
   "metadata": {},
   "outputs": [
    {
     "name": "stdout",
     "output_type": "stream",
     "text": [
      "Tokens: ['A', 'B', 'C', 'D']\n",
      "\n",
      "One-hot (I):\n",
      " [[1. 0. 0. 0.]\n",
      " [0. 1. 0. 0.]\n",
      " [0. 0. 1. 0.]\n",
      " [0. 0. 0. 1.]]\n"
     ]
    }
   ],
   "source": [
    "print(\"Tokens:\", tokens)\n",
    "print(\"\\nOne-hot (I):\\n\", I)"
   ]
  },
  {
   "cell_type": "markdown",
   "id": "73002eab-8c73-473e-a43c-9979f6e7aeb5",
   "metadata": {},
   "source": [
    "## Matriks bobot acak\n",
    "* Bobot acak digunakan sebagai pengganti bobot hasil pelatihan untuk menyederhanakan simulasi.\n",
    "* Matriks ini akan mengubah representasi one-hot menjadi vektor Q, K, dan V.\n",
    "* Walaupun acak, ia memberi gambaran bagaimana bobot berperan sebagai “jembatan” antara representasi awal dan perhitungan atensi."
   ]
  },
  {
   "cell_type": "code",
   "execution_count": 6,
   "id": "78373c92-2efa-481f-ab85-46a5f7ad1abf",
   "metadata": {},
   "outputs": [],
   "source": [
    "np.random.seed(42)\n",
    "W_Q = np.random.randint(0, 3, size=(4, 4))  # 4x4 agar mudah ditelusuri\n",
    "W_K = np.random.randint(0, 3, size=(4, 4))\n",
    "W_V = np.random.randint(0, 3, size=(4, 4))"
   ]
  },
  {
   "cell_type": "code",
   "execution_count": 7,
   "id": "342b5932-855c-4ade-bd11-edfedcc93ebf",
   "metadata": {},
   "outputs": [
    {
     "name": "stdout",
     "output_type": "stream",
     "text": [
      "\n",
      "W_Q:\n",
      " [[2 0 2 2]\n",
      " [0 0 2 1]\n",
      " [2 2 2 2]\n",
      " [0 2 1 0]]\n",
      "\n",
      "W_K:\n",
      " [[1 1 1 1]\n",
      " [0 0 1 1]\n",
      " [0 0 0 2]\n",
      " [2 2 1 2]]\n",
      "\n",
      "W_V:\n",
      " [[1 1 2 1]\n",
      " [2 2 0 2]\n",
      " [0 2 2 0]\n",
      " [0 2 1 0]]\n"
     ]
    }
   ],
   "source": [
    "print(\"\\nW_Q:\\n\", W_Q)\n",
    "print(\"\\nW_K:\\n\", W_K)\n",
    "print(\"\\nW_V:\\n\", W_V)"
   ]
  },
  {
   "cell_type": "markdown",
   "id": "0fd49ce6-3076-4f87-a8c8-85bd16aa06cf",
   "metadata": {},
   "source": [
    "## Proyeksi Q, K, V\n",
    "* Proyeksi adalah operasi perkalian matriks yang menghasilkan tiga vektor, yaitu Query (Q), Key (K), dan Value (V).\n",
    "* Q merepresentasikan apa yang sedang dicari oleh suatu token\n",
    "* K menyimpan apa yang dimiliki oleh token lain\n",
    "* V memuat informasi yang akan dibagikan."
   ]
  },
  {
   "cell_type": "code",
   "execution_count": 8,
   "id": "0e2e7bd3-06c4-4daa-922f-b3d93fb36e89",
   "metadata": {},
   "outputs": [],
   "source": [
    "Q = I @ W_Q\n",
    "K = I @ W_K\n",
    "V = I @ W_V"
   ]
  },
  {
   "cell_type": "code",
   "execution_count": 9,
   "id": "6a8c1d9f-d3e7-4a8c-8a3d-c2fc682e4b79",
   "metadata": {},
   "outputs": [
    {
     "name": "stdout",
     "output_type": "stream",
     "text": [
      "\n",
      "Q = I @ W_Q:\n",
      " [[2. 0. 2. 2.]\n",
      " [0. 0. 2. 1.]\n",
      " [2. 2. 2. 2.]\n",
      " [0. 2. 1. 0.]]\n",
      "\n",
      "K = I @ W_K:\n",
      " [[1. 1. 1. 1.]\n",
      " [0. 0. 1. 1.]\n",
      " [0. 0. 0. 2.]\n",
      " [2. 2. 1. 2.]]\n",
      "\n",
      "V = I @ W_V:\n",
      " [[1. 1. 2. 1.]\n",
      " [2. 2. 0. 2.]\n",
      " [0. 2. 2. 0.]\n",
      " [0. 2. 1. 0.]]\n"
     ]
    }
   ],
   "source": [
    "print(\"\\nQ = I @ W_Q:\\n\", Q)\n",
    "print(\"\\nK = I @ W_K:\\n\", K)\n",
    "print(\"\\nV = I @ W_V:\\n\", V)"
   ]
  },
  {
   "cell_type": "markdown",
   "id": "ecf1f101-d139-42bd-ba4f-b68a307f934f",
   "metadata": {},
   "source": [
    "# Scaled Dot-Product Attention\n",
    "* Ini adalah mekanisme inti yang mengukur seberapa relevan token satu terhadap token lainnya.\n",
    "* Ini mengandalkan kesamaan Q dengan K, lalu menggunakan bobot tersebut untuk menggabungkan nilai V."
   ]
  },
  {
   "cell_type": "markdown",
   "id": "4c7fe265-bb7c-4e93-b3df-a6ba9a595a50",
   "metadata": {},
   "source": [
    "## Skor kesamaan Q vs K\n",
    "* Dihitung dengan dot product antara Q dan K.T.\n",
    "* Semakin besar skor, semakin tinggi kesesuaian antara dua token.\n",
    "* Ini merepresentasikan tingkat atensi yang harus diberikan."
   ]
  },
  {
   "cell_type": "code",
   "execution_count": 10,
   "id": "f1a83d3b-d797-4411-8891-2f40b5d09484",
   "metadata": {},
   "outputs": [],
   "source": [
    "scores = Q @ K.T"
   ]
  },
  {
   "cell_type": "code",
   "execution_count": 11,
   "id": "5c7e9944-5284-4899-85a5-9283e30a71ba",
   "metadata": {},
   "outputs": [
    {
     "name": "stdout",
     "output_type": "stream",
     "text": [
      "Scores (Q @ K.T):\n",
      " [[ 6.  4.  4. 10.]\n",
      " [ 3.  3.  2.  4.]\n",
      " [ 8.  4.  4. 14.]\n",
      " [ 3.  1.  0.  5.]]\n"
     ]
    }
   ],
   "source": [
    "print(\"Scores (Q @ K.T):\\n\", scores)"
   ]
  },
  {
   "cell_type": "markdown",
   "id": "929bf2e6-2a85-4744-9f24-9b5e5794c09d",
   "metadata": {},
   "source": [
    "### Interpretasi\n",
    "* Angka besar menunjukkan Query lebih mirip dengan Key tersebut, ini masih skor mentah sebelum skala dan softmax.\n",
    "* Q(A) paling tinggi ke K(D) dengan nilai 10.\n",
    "* Q(B) paling tinggi ke K(D) dengan nilai 4.\n",
    "* Q(C) paling tinggi ke K(D) dengan nilai 14.\n",
    "* Q(D) paling tinggi ke K(D) dengan nilai 5, dan bernilai 0 ke K(C) yang berarti hampir tidak terkait.\n",
    "* Kolom D memiliki total skor tertinggi dibanding kolom lain sehingga kemungkinan besar akan mendominasi atensi setelah softmax.\n",
    "* Ada potensi konsentrasi atensi (“attention collapse”) ke token D.\n",
    "* Nilai 0 di baris Q(D) kolom K(C) akan tetap sangat kecil setelah softmax, sehingga D tidak akan banyak mengambil informasi dari C."
   ]
  },
  {
   "cell_type": "markdown",
   "id": "5a233e6f-7f23-409a-b473-9b718422f27a",
   "metadata": {},
   "source": [
    "## Skala dengan \\sqrt(d_k)\n",
    "* Skor dibagi dengan akar dari dimensi K(sqrt(d_k)) untuk mencegah nilai terlalu besar yang dapat membuat softmax menjadi terlalu “tajam” dan tidak stabil secara numerik."
   ]
  },
  {
   "cell_type": "code",
   "execution_count": 12,
   "id": "0fe337eb-b855-4d06-86c9-ad97691ab5fe",
   "metadata": {},
   "outputs": [],
   "source": [
    "d_k = K.shape[1]\n",
    "scaled_scores = scores / np.sqrt(d_k)"
   ]
  },
  {
   "cell_type": "code",
   "execution_count": 13,
   "id": "0ea4b148-af47-42d9-bd4a-a37c5aeba4f0",
   "metadata": {},
   "outputs": [
    {
     "name": "stdout",
     "output_type": "stream",
     "text": [
      "\n",
      "Scaled Scores (scores / sqrt(d_k)):\n",
      " [[3.  2.  2.  5. ]\n",
      " [1.5 1.5 1.  2. ]\n",
      " [4.  2.  2.  7. ]\n",
      " [1.5 0.5 0.  2.5]]\n"
     ]
    }
   ],
   "source": [
    "print(\"\\nScaled Scores (scores / sqrt(d_k)):\\n\", scaled_scores)"
   ]
  },
  {
   "cell_type": "markdown",
   "id": "74946762-1ab2-4b34-95f6-d6c158ae484a",
   "metadata": {},
   "source": [
    "## Softmax ➜ attention weights\n",
    "* Softmax mengubah skor menjadi distribusi probabilitas sehingga bobot atensi antar token selalu berada di antara 0–1 dan berjumlah 1.\n",
    "* Bobot ini menentukan porsi informasi yang diambil dari setiap token lain."
   ]
  },
  {
   "cell_type": "code",
   "execution_count": 14,
   "id": "6a00f3be-622f-4c2f-ba38-3dd8187858b5",
   "metadata": {},
   "outputs": [],
   "source": [
    "weights = softmax(scaled_scores)"
   ]
  },
  {
   "cell_type": "code",
   "execution_count": 15,
   "id": "6294e208-1e09-4a39-b22f-f4a1eeae4cc7",
   "metadata": {},
   "outputs": [
    {
     "name": "stdout",
     "output_type": "stream",
     "text": [
      "\n",
      "Attention Weights (softmax):\n",
      " [[0.10959126 0.04031637 0.04031637 0.80977599]\n",
      " [0.23500371 0.23500371 0.14253696 0.38745562]\n",
      " [0.04682479 0.00633705 0.00633705 0.94050111]\n",
      " [0.23205671 0.08536889 0.05177885 0.63079554]]\n"
     ]
    }
   ],
   "source": [
    "print(\"\\nAttention Weights (softmax):\\n\", weights)"
   ]
  },
  {
   "cell_type": "markdown",
   "id": "bf03882c-b632-4deb-9c8c-6b23bf34d1f0",
   "metadata": {},
   "source": [
    "### Interpretasi\n",
    "* Nilai di setiap baris adalah probabilitas atensi untuk sebuah Query terhadap semua Key.\n",
    "* Q(A) fokus 80,98% ke K(D), sisanya terbagi kecil ke K(A), K(B), dan K(C).\n",
    "* Q(B) distribusi atensi lebih seimbang, namun tetap cenderung tinggi ke K(D) (38,75%).\n",
    "* Q(C) sangat dominan ke K(D) (94,05%) sehingga hampir mengabaikan token lain.\n",
    "* Q(D) mayoritas atensi ke K(D) (63,08%), sisanya ke K(A) dan K(B) secara moderat.\n",
    "* Token D menjadi pusat atensi utama hampir semua Query.\n",
    "* Distribusi ini menunjukkan pola “attention bias” yang terpusat ke satu token tertentu."
   ]
  },
  {
   "cell_type": "markdown",
   "id": "1d75cb85-189d-447d-9488-ae41bcc76807",
   "metadata": {},
   "source": [
    "## Weighted sum atas V\n",
    "* Bobot atensi digunakan untuk menggabungkan nilai V, menghasilkan vektor konteks akhir yang sudah “memperhatikan” hubungan antar token."
   ]
  },
  {
   "cell_type": "code",
   "execution_count": 16,
   "id": "6ea47f8a-8e1e-44c1-a183-c784987c01d8",
   "metadata": {},
   "outputs": [],
   "source": [
    "attention_output = weights @ V"
   ]
  },
  {
   "cell_type": "code",
   "execution_count": 17,
   "id": "562630b1-8976-4d1e-98bf-640d9e993e49",
   "metadata": {},
   "outputs": [
    {
     "name": "stdout",
     "output_type": "stream",
     "text": [
      "\n",
      "Attention Output (weights @ V):\n",
      " [[0.19022401 1.89040874 1.10959126 0.19022401]\n",
      " [0.70501114 1.76499629 1.14253696 0.70501114]\n",
      " [0.05949889 1.95317521 1.04682479 0.05949889]\n",
      " [0.4027945  1.76794329 1.19846667 0.4027945 ]]\n"
     ]
    }
   ],
   "source": [
    "print(\"\\nAttention Output (weights @ V):\\n\", attention_output)"
   ]
  },
  {
   "cell_type": "markdown",
   "id": "2da9db1c-30ca-414d-9c7f-a00e18db39d7",
   "metadata": {},
   "source": [
    "### Interpretasi\n",
    "* Setiap baris adalah representasi akhir per Query setelah menggabungkan baris-baris V sesuai bobot atensi.\n",
    "* Pola nilai terbesar konsisten pada kolom ke-2 dan ke-3, menandakan dimensi Value tersebut paling “terambil” oleh mayoritas Query.\n",
    "* Q(A) sangat dipengaruhi V dari token D, sehingga outputnya mendekati kombinasi yang didominasi V[D].\n",
    "* Q(B) lebih campuran karena distribusi atensinya paling seimbang; kontribusi dari V[A], V[B], dan V[D] terlihat.\n",
    "* Q(C) hampir seluruhnya mengikuti V[D] karena bobot ke K(D) ~94%; outputnya paling dekat dengan baris V[D].\n",
    "* Q(D) tetap didominasi V[D] namun masih mengambil porsi dari V[A] dan V[B] sesuai bobotnya.\n",
    "* Nilai kolom ke-1 dan ke-4 identik pada setiap baris, mengindikasikan kolom 1 dan 4 pada matriks V identik atau sangat mirip.\n",
    "* Secara umum, output adalah kombinasi cembung (weighted sum) dari baris-baris V; dominasi atensi ke D membuat seluruh output condong ke informasi yang dibawa token D."
   ]
  },
  {
   "cell_type": "markdown",
   "id": "5bb71973-7fe2-4e30-baed-a67f9fdd55c6",
   "metadata": {},
   "source": [
    "# Heatmap Attention Weights\n",
    "* Visualisasi ini menunjukkan bobot atensi antara setiap Query dan Key.\n",
    "* Warna lebih gelap/terang menandakan tingkat atensi yang berbeda, sehingga kita bisa melihat token mana yang paling memengaruhi token lainnya."
   ]
  },
  {
   "cell_type": "code",
   "execution_count": 18,
   "id": "6b5e5c80-2b00-470a-9f00-614d27c54672",
   "metadata": {},
   "outputs": [
    {
     "data": {
      "image/png": "[encoded data removed]",
      "text/plain": [
       "<Figure size 650x550 with 2 Axes>"
      ]
     },
     "metadata": {},
     "output_type": "display_data"
    }
   ],
   "source": [
    "heatmap_attention(\n",
    "    weights,\n",
    "    xlabels=tokens,\n",
    "    ylabels=tokens,\n",
    "    title=\"Attention Weights — Token-to-Token (One-Hot ➜ Q,K,V)\"\n",
    ")"
   ]
  },
  {
   "cell_type": "markdown",
   "id": "fbaa5b81-8d00-4c38-bfac-0f46975d968d",
   "metadata": {},
   "source": [
    "### Interpretasi\n",
    "* Sumbu vertikal menunjukkan Query, sumbu horizontal menunjukkan Key.\n",
    "* Warna lebih terang berarti bobot atensi lebih besar, warna gelap berarti lebih kecil.\n",
    "* Q(A) kuat ke K(D) (hijau terang), atensi rendah ke token lainnya.\n",
    "* Q(B) lebih seimbang dengan intensitas menengah ke semua Key, namun tetap cenderung ke K(D).\n",
    "* Q(C) hampir seluruh atensi ke K(D) (kuning sangat terang), token lain hampir diabaikan.\n",
    "* Q(D) dominan ke K(D) namun tetap memberi porsi ke K(A) dan K(B).\n",
    "* Token D adalah pusat atensi utama hampir semua Query, yang selaras dengan interpretasi matriks attention weights sebelumnya.\n",
    "* Pola ini menggambarkan “attention fokus tunggal” yang berpotensi mengabaikan informasi dari token selain D."
   ]
  },
  {
   "cell_type": "markdown",
   "id": "19e4ee22-d590-412c-8ef5-280f2150449f",
   "metadata": {},
   "source": [
    "# Representasi Token: Embedding Acak ➜ Q, K, V\n",
    "* Pendekatan ini menggunakan vektor embedding berdimensi tetap yang dihasilkan secara acak untuk setiap token, bukan one-hot.\n",
    "* Hal ini mencerminkan cara model NLP modern merepresentasikan kata, di mana embedding dapat memuat informasi semantik dan hubungan antar kata."
   ]
  },
  {
   "cell_type": "markdown",
   "id": "e92049f7-b8d2-4739-ae38-c778b7818bd6",
   "metadata": {},
   "source": [
    "## Embedding acak\n",
    "* Kode `np.random.seed(7)` memastikan hasil embedding acak yang konsisten setiap kali dijalankan.\n",
    "* Matriks embedding E dibuat dengan nilai acak, mewakili setiap token dalam dimensi numerik yang lebih kaya dibandingkan one-hot."
   ]
  },
  {
   "cell_type": "code",
   "execution_count": 19,
   "id": "47d7834c-f36a-485e-afc2-dfb50e9fdd85",
   "metadata": {},
   "outputs": [],
   "source": [
    "np.random.seed(7)\n",
    "n_tokens = 6\n",
    "d_embed = 4\n",
    "\n",
    "tokens2 = [\"The\", \"cat\", \"sat\", \"on\", \"the\", \"mat\"]\n",
    "E = np.random.rand(n_tokens, d_embed)  # embedding acak"
   ]
  },
  {
   "cell_type": "code",
   "execution_count": 20,
   "id": "5324595e-4cb6-41ad-aeef-20f8e72099f9",
   "metadata": {},
   "outputs": [
    {
     "name": "stdout",
     "output_type": "stream",
     "text": [
      "Tokens: ['The', 'cat', 'sat', 'on', 'the', 'mat']\n",
      "\n",
      "Embedding acak: \n",
      " [[0.07630829 0.77991879 0.43840923 0.72346518]\n",
      " [0.97798951 0.53849587 0.50112046 0.07205113]\n",
      " [0.26843898 0.4998825  0.67923    0.80373904]\n",
      " [0.38094113 0.06593635 0.2881456  0.90959353]\n",
      " [0.21338535 0.45212396 0.93120602 0.02489923]\n",
      " [0.60054892 0.9501295  0.23030288 0.54848992]]\n"
     ]
    }
   ],
   "source": [
    "print(\"Tokens:\", tokens2)\n",
    "print(\"\\nEmbedding acak: \\n\", E)"
   ]
  },
  {
   "cell_type": "markdown",
   "id": "94247f09-b36b-467e-8973-b07aff2f9278",
   "metadata": {},
   "source": [
    "## Matriks bobot acak\n",
    "* Tiga matriks bobot (W_Q, W_K, W_V) diinisialisasi secara acak.\n",
    "* Setiap matriks bertugas memproyeksikan embedding awal ke ruang vektor yang berbeda untuk menghasilkan Query, Key, dan Value."
   ]
  },
  {
   "cell_type": "code",
   "execution_count": 25,
   "id": "42dac58b-7f3e-42d6-94bd-16743f5adce4",
   "metadata": {},
   "outputs": [],
   "source": [
    "W_Q2 = np.random.randn(d_embed, d_embed)\n",
    "W_K2 = np.random.randn(d_embed, d_embed)\n",
    "W_V2 = np.random.randn(d_embed, d_embed)"
   ]
  },
  {
   "cell_type": "code",
   "execution_count": 26,
   "id": "301c62c8-f9f6-4885-a4a5-9d9febdd888e",
   "metadata": {},
   "outputs": [
    {
     "name": "stdout",
     "output_type": "stream",
     "text": [
      "\n",
      "W_Q2:\n",
      " [[-0.30019374 -1.17998209  1.49763912 -0.28263524]\n",
      " [ 0.10864837  1.43823952  1.50331852 -0.21273297]\n",
      " [ 0.33197422  0.73502658 -0.19285546 -1.77801285]\n",
      " [ 0.6547057   0.8943523   0.41550261 -0.92354466]]\n",
      "\n",
      "W_K2:\n",
      " [[-0.19602731 -0.59076982 -0.29971124  1.29688519]\n",
      " [ 1.52957963  0.66941819  0.54874512  0.67662899]\n",
      " [-0.01224219 -0.07566346 -0.67364519 -0.05586745]\n",
      " [ 2.25994699  0.86903933 -0.34211702 -0.47192665]]\n",
      "\n",
      "W_V2:\n",
      " [[-0.86448999  0.37437035  0.39154569 -1.44312166]\n",
      " [ 0.4863352  -0.56947227  1.42672116  0.15684398]\n",
      " [ 1.71773005 -0.45812679 -0.28798387  0.29980835]\n",
      " [ 1.0559483   0.56588249 -1.23352394  0.1829007 ]]\n"
     ]
    }
   ],
   "source": [
    "print(\"\\nW_Q2:\\n\", W_Q2)\n",
    "print(\"\\nW_K2:\\n\", W_K2)\n",
    "print(\"\\nW_V2:\\n\", W_V2)"
   ]
  },
  {
   "cell_type": "markdown",
   "id": "cc147ea7-bacf-4a67-b27d-0e034dcc7406",
   "metadata": {},
   "source": [
    "## Proyeksi Q, K, V\n",
    "* Embedding E dikalikan dengan masing-masing matriks bobot untuk menghasilkan Q, K, dan V.\n",
    "* Q digunakan untuk mencari informasi yang relevan.\n",
    "* K berperan sebagai indeks atau penanda.\n",
    "* V berisi informasi yang akan diambil."
   ]
  },
  {
   "cell_type": "code",
   "execution_count": 27,
   "id": "11ae429c-75f6-4b50-86cd-bc2a905f9ccf",
   "metadata": {},
   "outputs": [],
   "source": [
    "Q2 = E @ W_Q2\n",
    "K2 = E @ W_K2\n",
    "V2 = E @ W_V2"
   ]
  },
  {
   "cell_type": "code",
   "execution_count": 28,
   "id": "f4e3dbb9-0769-46b6-b428-de0482103cee",
   "metadata": {},
   "outputs": [
    {
     "name": "stdout",
     "output_type": "stream",
     "text": [
      "\n",
      "Q2 = E @ W_Q2:\n",
      " [[-0.64386591 -0.91485619 -2.16466135 -1.63873334]\n",
      " [ 1.99683901 -0.80037147 -1.11768452  1.24189052]\n",
      " [-0.19382783 -0.5362756  -2.47010516 -0.40295602]\n",
      " [-0.57360185  0.33015813 -2.26593865  0.32880563]\n",
      " [ 1.2678089  -0.99744527 -1.00869586  0.38057559]\n",
      " [ 0.28428404 -1.08788422 -1.92083834 -1.07183332]]\n",
      "\n",
      "K2 = E @ W_K2:\n",
      " [[ 0.00976995 -1.19884219  2.12905808  0.54475717]\n",
      " [-1.56165532  0.3915069   2.36293912  0.41585083]\n",
      " [-0.8468103  -1.34388471  2.55506267  1.2526051 ]\n",
      " [-0.65049734 -0.4516729   2.55981411  0.68835626]\n",
      " [-1.46095484 -1.46153055  1.03808042  1.68821487]\n",
      " [-0.17005334  0.00397833  2.7373555  -0.26533662]]\n",
      "\n",
      "V2 = E @ W_V2:\n",
      " [[-1.55050142 -1.06905075 -0.99121105  0.89233676]\n",
      " [-0.88596908 -0.50229526 -0.31641628  1.11582524]\n",
      " [-1.24876899 -1.69152147 -1.10990674  0.82376447]\n",
      " [-0.51100848 -1.22942762 -1.17106292 -0.50459884]\n",
      " [-0.98012976 -1.51668718 -0.19357514  2.02985977]\n",
      " [-1.59772872 -0.29882683 -0.84716169  0.76321515]]\n"
     ]
    }
   ],
   "source": [
    "print(\"\\nQ2 = E @ W_Q2:\\n\", Q2)\n",
    "print(\"\\nK2 = E @ W_K2:\\n\", K2)\n",
    "print(\"\\nV2 = E @ W_V2:\\n\", V2)"
   ]
  },
  {
   "cell_type": "markdown",
   "id": "8f0c7dbd-9d38-42bb-8366-414b1d0fee5b",
   "metadata": {},
   "source": [
    "## Skor kesamaan Q vs K\n",
    "* Menggunakan operasi dot product Q @ K.T, didapat skor yang mengukur kedekatan atau relevansi antara token."
   ]
  },
  {
   "cell_type": "code",
   "execution_count": 29,
   "id": "2db22e1b-89dc-4d76-9c47-913ab7165769",
   "metadata": {},
   "outputs": [],
   "source": [
    "scores2 = Q2 @ K2.T"
   ]
  },
  {
   "cell_type": "code",
   "execution_count": 30,
   "id": "9ba313e9-f2db-456e-b6b8-b016dbe979c9",
   "metadata": {},
   "outputs": [
    {
     "name": "stdout",
     "output_type": "stream",
     "text": [
      "Scores (Q @ K2.T):\n",
      " [[-4.41092381 -5.14910749 -5.80883763 -5.83711421 -2.73587727 -5.38477973]\n",
      " [-0.7240584  -5.55630451 -1.91549247 -2.94363386 -0.81119266 -3.7317722 ]\n",
      " [-4.8374944  -5.91154104 -5.93119028 -6.23208169 -2.17748728 -6.62380936]\n",
      " [-5.04660732 -4.19251341 -5.33571416 -5.35004331 -1.44166179 -6.1910674 ]\n",
      " [-0.73208489 -4.59561147 -1.8337124  -2.69428963 -0.79902887 -3.08170312]\n",
      " [-3.36648632 -5.85441469 -5.02918991 -5.34835045 -2.62881974 -5.02629217]]\n"
     ]
    }
   ],
   "source": [
    "print(\"Scores (Q @ K2.T):\\n\", scores2)"
   ]
  },
  {
   "cell_type": "markdown",
   "id": "0f6f4e2b-eb95-4808-a9a7-25dadbce3642",
   "metadata": {},
   "source": [
    "## Skala dengan sqrt(d_k)\n",
    "* Skor dibagi dengan akar dari dimensi Key (sqrt(d_k)) untuk mencegah nilai terlalu besar yang dapat menyebabkan distribusi softmax terlalu tajam."
   ]
  },
  {
   "cell_type": "code",
   "execution_count": 33,
   "id": "f6f0a36e-eba7-4b0b-980b-8b772cb6777b",
   "metadata": {},
   "outputs": [],
   "source": [
    "scaled_scores2 = scores2 / np.sqrt(K2.shape[1])"
   ]
  },
  {
   "cell_type": "code",
   "execution_count": 34,
   "id": "f495a310-1653-402c-beac-c88c6a26b94a",
   "metadata": {},
   "outputs": [
    {
     "name": "stdout",
     "output_type": "stream",
     "text": [
      "\n",
      "Scaled Scores (scores / sqrt(d_k)):\n",
      " [[-2.2054619  -2.57455375 -2.90441881 -2.91855711 -1.36793863 -2.69238987]\n",
      " [-0.3620292  -2.77815226 -0.95774624 -1.47181693 -0.40559633 -1.8658861 ]\n",
      " [-2.4187472  -2.95577052 -2.96559514 -3.11604085 -1.08874364 -3.31190468]\n",
      " [-2.52330366 -2.09625671 -2.66785708 -2.67502165 -0.7208309  -3.0955337 ]\n",
      " [-0.36604244 -2.29780574 -0.9168562  -1.34714482 -0.39951444 -1.54085156]\n",
      " [-1.68324316 -2.92720734 -2.51459495 -2.67417522 -1.31440987 -2.51314608]]\n"
     ]
    }
   ],
   "source": [
    "print(\"\\nScaled Scores (scores / sqrt(d_k)):\\n\", scaled_scores2)"
   ]
  },
  {
   "cell_type": "markdown",
   "id": "8c7d3cac-2276-4408-a960-4185280826a2",
   "metadata": {},
   "source": [
    "## Softmax ➜ attention weights\n",
    "* Softmax mengubah skor tereskalasi menjadi probabilitas, menunjukkan seberapa besar atensi diberikan tiap token terhadap token lainnya."
   ]
  },
  {
   "cell_type": "code",
   "execution_count": 35,
   "id": "c9f16e6d-0d9a-4955-a072-cb6235f6fec3",
   "metadata": {},
   "outputs": [],
   "source": [
    "weights2 = softmax(scaled2)"
   ]
  },
  {
   "cell_type": "code",
   "execution_count": 36,
   "id": "f0298fd9-ba19-45d9-927b-b379b03f6b5f",
   "metadata": {},
   "outputs": [
    {
     "name": "stdout",
     "output_type": "stream",
     "text": [
      "\n",
      "Attention Weights (softmax):\n",
      " [[0.17845229 0.12337512 0.08870927 0.0874639  0.41233848 0.10966095]\n",
      " [0.31749028 0.02834141 0.17499024 0.10465398 0.30395513 0.07056895]\n",
      " [0.14595119 0.08530635 0.08447235 0.07267363 0.55184973 0.05974675]\n",
      " [0.09185895 0.14079448 0.07949554 0.07892802 0.55709015 0.05183286]\n",
      " [0.29653963 0.04296636 0.17094932 0.111172   0.28677814 0.09159455]\n",
      " [0.2514415  0.07247533 0.10949278 0.09334276 0.36359611 0.10965153]]\n"
     ]
    }
   ],
   "source": [
    "print(\"\\nAttention Weights (softmax):\\n\", weights2)"
   ]
  },
  {
   "cell_type": "markdown",
   "id": "7b61dc79-d719-4378-9c5b-26435b8185e8",
   "metadata": {},
   "source": [
    "## Weighted sum atas V\n",
    "* Bobot probabilitas digunakan untuk menggabungkan nilai (V) menjadi representasi akhir yang berfokus pada informasi terpenting."
   ]
  },
  {
   "cell_type": "code",
   "execution_count": 37,
   "id": "98d2bf86-7f3f-40b5-92f6-951bbb79d3b4",
   "metadata": {},
   "outputs": [],
   "source": [
    "out2 = weights2 @ V2"
   ]
  },
  {
   "cell_type": "code",
   "execution_count": 38,
   "id": "645af1cf-db49-4d45-9962-06bb68f0fbb6",
   "metadata": {},
   "outputs": [
    {
     "name": "stdout",
     "output_type": "stream",
     "text": [
      "\n",
      "Attention Output (weights2 @ V):\n",
      " [[-1.12082291 -1.16848757 -0.58952555  1.24653016]\n",
      " [-1.20004572 -1.26040597 -0.75906827  1.07712036]\n",
      " [-1.08084305 -1.28594931 -0.50796212  1.42411608]\n",
      " [-1.03560692 -1.26084751 -0.4680132   1.43510427]\n",
      " [-1.19556106 -1.22676372 -0.76056433  1.04930664]\n",
      " [-1.17006619 -1.18940366 -0.66627672  1.17007272]]\n"
     ]
    }
   ],
   "source": [
    "print(\"\\nAttention Output (weights2 @ V):\\n\", out2)"
   ]
  },
  {
   "cell_type": "markdown",
   "id": "b0db1c03-740c-4048-a0c6-b064c1d423de",
   "metadata": {},
   "source": [
    "## Ringkasan"
   ]
  },
  {
   "cell_type": "code",
   "execution_count": 39,
   "id": "979e0b4b-ef2e-4e08-9951-9f4b9e15d178",
   "metadata": {},
   "outputs": [
    {
     "name": "stdout",
     "output_type": "stream",
     "text": [
      "Embedding acak (E):\n",
      " [[0.07630829 0.77991879 0.43840923 0.72346518]\n",
      " [0.97798951 0.53849587 0.50112046 0.07205113]\n",
      " [0.26843898 0.4998825  0.67923    0.80373904]\n",
      " [0.38094113 0.06593635 0.2881456  0.90959353]\n",
      " [0.21338535 0.45212396 0.93120602 0.02489923]\n",
      " [0.60054892 0.9501295  0.23030288 0.54848992]]\n",
      "\n",
      "Attention Weights (embedding acak):\n",
      " [[0.17845229 0.12337512 0.08870927 0.0874639  0.41233848 0.10966095]\n",
      " [0.31749028 0.02834141 0.17499024 0.10465398 0.30395513 0.07056895]\n",
      " [0.14595119 0.08530635 0.08447235 0.07267363 0.55184973 0.05974675]\n",
      " [0.09185895 0.14079448 0.07949554 0.07892802 0.55709015 0.05183286]\n",
      " [0.29653963 0.04296636 0.17094932 0.111172   0.28677814 0.09159455]\n",
      " [0.2514415  0.07247533 0.10949278 0.09334276 0.36359611 0.10965153]]\n",
      "\n",
      "Attention Output (weights @ V:\n",
      " [[-1.12082291 -1.16848757 -0.58952555  1.24653016]\n",
      " [-1.20004572 -1.26040597 -0.75906827  1.07712036]\n",
      " [-1.08084305 -1.28594931 -0.50796212  1.42411608]\n",
      " [-1.03560692 -1.26084751 -0.4680132   1.43510427]\n",
      " [-1.19556106 -1.22676372 -0.76056433  1.04930664]\n",
      " [-1.17006619 -1.18940366 -0.66627672  1.17007272]]\n"
     ]
    }
   ],
   "source": [
    "print(\"Embedding acak (E):\\n\", E)\n",
    "print(\"\\nAttention Weights (embedding acak):\\n\", weights2)\n",
    "print(\"\\nAttention Output (weights @ V:\\n\", out2)"
   ]
  },
  {
   "cell_type": "markdown",
   "id": "9e3020a3-3ee4-4310-a9c4-85d81aa33a05",
   "metadata": {},
   "source": [
    "### Interpretasi\n",
    "1. Karakteristik nilai\n",
    "    - Nilai berkisar sekitar -1.28 hingga 1.43.\n",
    "    - Dimensi ke-4 (kolom terakhir) umumnya bernilai positif dan cukup besar, sedangkan dimensi lain cenderung negatif.\n",
    "    - Ada sedikit variasi antar token, tapi pola distribusinya relatif konsisten.\n",
    "2. Dimensi dominan positif\n",
    "   - Kolom ke-4 (1.24, 1.07, 1.42, dst.) memiliki nilai paling besar dan konsisten positif → kemungkinan attention “menarik” informasi yang sangat penting ke dimensi ini (bisa diasosiasikan dengan fitur semantik tertentu).\n",
    "3. Dimensi negatif konsisten\n",
    "    - Kolom ke-1, ke-2, dan ke-3 mayoritas negatif, menunjukkan bahwa setelah penggabungan nilai V, dimensi ini memberikan penekanan atau penurunan kontribusi fitur tertentu.\n",
    "4. Interpretasi umum\n",
    "   - Dimensi ke-4 memiliki nilai positif terbesar di semua token, menunjukkan fitur ini paling dominan setelah proses attention.\n",
    "   - Dimensi ke-1, ke-2, dan ke-3 umumnya bernilai negatif, yang menandakan adanya penekanan atau pengurangan kontribusi fitur tertentu.\n",
    "   - Perbedaan nilai antar token relatif kecil, mengindikasikan distribusi atensi model cenderung merata.\n",
    "   - Representasi setiap token sudah mengandung informasi dari token lain sesuai bobot attention, sehingga lebih kontekstual.\n",
    "   - Pola nilai yang konsisten menunjukkan model mengekstraksi fitur semantik tertentu yang sama pentingnya di seluruh token."
   ]
  },
  {
   "cell_type": "markdown",
   "id": "55350e2e-e4c3-45c2-84e0-45eb2be509ef",
   "metadata": {},
   "source": [
    "## Heatmap Attention Weights\n",
    "* Visualisasi distribusi atensi antar token menggunakan peta warna, membantu memahami pola fokus model."
   ]
  },
  {
   "cell_type": "code",
   "execution_count": 40,
   "id": "df90a6b6-b084-435b-8a17-6375c7876a04",
   "metadata": {},
   "outputs": [
    {
     "data": {
      "image/png": "[encoded data removed]",
      "text/plain": [
       "<Figure size 650x550 with 2 Axes>"
      ]
     },
     "metadata": {},
     "output_type": "display_data"
    }
   ],
   "source": [
    "heatmap_attention(\n",
    "    weights2,\n",
    "    xlabels=tokens2,\n",
    "    ylabels=tokens2,\n",
    "    title=\"Attention Weights — Token-to-Token (Embedding Acak ➜ Q,K,V)\"\n",
    ")"
   ]
  },
  {
   "cell_type": "markdown",
   "id": "69a5c95e-33ee-4d26-823e-37ee127b1394",
   "metadata": {},
   "source": [
    "### Interpretasi\n",
    "- Token \"the\" (huruf kecil) mendapatkan atensi (attention) tertinggi dari beberapa token lain, terlihat dari warna kuning cerah di kolomnya.\n",
    "- Token \"sat\" dan \"on\" memberikan atensi terbesar ke token \"the\", yang menunjukkan dominasi hubungan ke kata tersebut.\n",
    "- Token \"cat\", \"the\", dan \"mat\" memiliki distribusi atensi yang lebih merata ke beberapa token lain, tanpa satu fokus tunggal yang ekstrem.\n",
    "- Token pertama \"The\" (huruf besar) cenderung memberi atensi sedang ke token \"the\" (huruf kecil), menunjukkan adanya perbedaan meski kata sama tapi berbeda posisi/kapitalisasi.\n",
    "- Nilai atensi terendah umumnya ada pada diagonal selain token dominan, menandakan token tersebut kurang memberi atensi pada dirinya sendiri."
   ]
  },
  {
   "cell_type": "markdown",
   "id": "a2396a64-bcfb-48d8-9af8-6516639ed635",
   "metadata": {},
   "source": [
    "## Heatmap interaktif\n",
    "* Versi interaktif memudahkan eksplorasi nilai atensi secara langsung, memungkinkan pengamatan detail pada pasangan token tertentu."
   ]
  },
  {
   "cell_type": "code",
   "execution_count": 41,
   "id": "45c1c277-36a9-4057-b288-2d37871b7fdd",
   "metadata": {},
   "outputs": [
    {
     "data": {
      "application/vnd.jupyter.widget-view+json": {
       "model_id": "c37d9b5cfcfa4e0ea396e813b76c15c8",
       "version_major": 2,
       "version_minor": 0
      },
      "text/plain": [
       "interactive(children=(IntSlider(value=0, description='seed', max=50), Output()), _dom_classes=('widget-interac…"
      ]
     },
     "metadata": {},
     "output_type": "display_data"
    }
   ],
   "source": [
    "try:\n",
    "    from ipywidgets import interact, IntSlider\n",
    "\n",
    "    def recompute(seed=0):\n",
    "        np.random.seed(seed)\n",
    "        W_Qi = np.random.randint(0, 3, size=(4, 4))\n",
    "        W_Ki = np.random.randint(0, 3, size=(4, 4))\n",
    "        W_Vi = np.random.randint(0, 3, size=(4, 4))\n",
    "\n",
    "        Q_i = I @ W_Qi\n",
    "        K_i = I @ W_Ki\n",
    "        V_i = I @ W_Vi\n",
    "\n",
    "        scores_i = Q_i @ K_i.T\n",
    "        scaled_i = scores_i / np.sqrt(K_i.shape[1])\n",
    "        weights_i = softmax(scaled_i)\n",
    "\n",
    "        heatmap_attention(\n",
    "            weights_i,\n",
    "            xlabels=tokens,\n",
    "            ylabels=tokens,\n",
    "            title=f\"Attention Weights — seed={seed}\"\n",
    "        )\n",
    "\n",
    "    interact(recompute, seed=IntSlider(min=0, max=50, step=1, value=0));\n",
    "except Exception as e:\n",
    "    print(\"Interaksi ipywidgets tidak tersedia di lingkungan ini:\", e)"
   ]
  },
  {
   "cell_type": "markdown",
   "id": "ffbaeb92-a3b9-41ad-927b-b86e70933611",
   "metadata": {},
   "source": [
    "### Interpretasi\n",
    "- Pola blok warna berubah → menunjukkan token mana yang saling memperhatikan berubah sepenuhnya.\\\n",
    "Ini membuktikan bahwa attention di awal sepenuhnya ditentukan oleh bobot awal dan belum punya makna semantik.\n",
    "- Kadang ada token dominan → warna cerah di satu kolom menandakan banyak token \"memperhatikan\" token itu, tapi itu murni hasil angka acak, bukan karena makna.\n",
    "- Distribusi bisa rata atau terpusat → beberapa seed menghasilkan pola atensi yang hampir rata (warna seragam), sedangkan yang lain lebih terpusat (warna terang di area tertentu).\n",
    "- Hubungan antar token belum konsisten → misalnya pada seed tertentu, kata \"cat\" mungkin banyak diperhatikan, tapi di seed lain sama sekali tidak.\n",
    "- Artinya belum ada knowledge yang stabil."
   ]
  },
  {
   "cell_type": "markdown",
   "id": "d80a369c-c87e-4e06-933a-df6b721f0dcf",
   "metadata": {},
   "source": [
    "# Kesimpulan\n",
    "Attention mechanism adalah lebih dari sekadar operasi matriks, karena inti dari kemampuan model modern untuk memahami konteks. Eksperimen seed yang menghasilkan pola perhatian berbeda memperlihatkan bahwa sebelum pelatihan, fokus model hanyalah hasil kebetulan dari inisialisasi parameter. Namun, melalui pelatihan, mekanisme ini berkembang menjadi sistem yang mampu memilih informasi penting dan mengabaikan yang tidak relevan.\n",
    "\n",
    "Dari sudut pandang praktis, pemahaman ini menjadi bekal berharga. Kita tidak lagi melihat attention sebagai proses misterius, tetapi sebagai alat yang dapat kita kendalikan dan optimalkan. Keunggulan utamanya, menangkap hubungan jarak jauh, bekerja efisien secara paralel, dan fleksibel di berbagai jenis data, menjadikannya pilar utama banyak model canggih saat ini. Kesimpulannya, memahami attention mechanism berarti membuka pintu untuk menguasai arsitektur modern seperti Transformer dan turunannya."
   ]
  },
  {
   "cell_type": "markdown",
   "id": "59494a8f-1b66-4a08-87ab-58cfc61ddae6",
   "metadata": {},
   "source": [
    "# Thank You"
   ]
  },
  {
   "cell_type": "code",
   "execution_count": null,
   "id": "e9cb4418-3a1e-43fe-9442-33684e06e81a",
   "metadata": {},
   "outputs": [],
   "source": []
  }
 ],
 "metadata": {
  "kernelspec": {
   "display_name": "Python 3 (ipykernel)",
   "language": "python",
   "name": "python3"
  },
  "language_info": {
   "codemirror_mode": {
    "name": "ipython",
    "version": 3
   },
   "file_extension": ".py",
   "mimetype": "text/x-python",
   "name": "python",
   "nbconvert_exporter": "python",
   "pygments_lexer": "ipython3",
   "version": "3.13.5"
  }
 },
 "nbformat": 4,
 "nbformat_minor": 5
}
