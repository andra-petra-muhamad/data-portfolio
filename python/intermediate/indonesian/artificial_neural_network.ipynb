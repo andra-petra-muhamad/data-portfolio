{
 "cells": [
  {
   "cell_type": "markdown",
   "id": "43fda858-028b-4a7e-ad00-ed5d8034b80b",
   "metadata": {},
   "source": [
    "# Fundamental Artificial Neural Network (ANN) untuk Regresi & Klasifikasi\n",
    "\n",
    "Proyek ini dimulai dengan tujuan sederhana namun esensial yaitu membangun, melatih, dan mengevaluasi model Artificial Neural Network (ANN) menggunakan Keras untuk menyelesaikan permasalahan klasifikasi, baik pada kasus biner maupun multi-class. Sebagai langkah awal, dataset sintetik make_moons digunakan untuk menguji kemampuan ANN dalam menangani pola data yang tidak linier pada klasifikasi biner. Seluruh proses dimulai dari pemuatan data, pembagian dataset menjadi data latih dan uji, normalisasi fitur, hingga pembuatan arsitektur model ANN yang sesuai.\n",
    "\n",
    "Hasil pembelajaran dianalisis melalui metrik akurasi, classification report, confusion matrix, hingga decision boundary yang memperlihatkan batas pemisah kelas secara visual. Setelah menguasai proses pada kasus biner, proyek dilanjutkan pada tantangan multi-class menggunakan dataset Iris. Di sini, proses encoding label menjadi one-hot vector menjadi langkah penting untuk menyesuaikan model ANN dengan format target multi-class. Visualisasi kurva akurasi, tabel perbandingan target vs prediksi, dan analisis confusion matrix menjadi penutup pada tahap evaluasi."
   ]
  },
  {
   "cell_type": "markdown",
   "id": "fb413bd7-f313-4ead-be6f-cb929a51435e",
   "metadata": {},
   "source": [
    "# Import Library"
   ]
  },
  {
   "cell_type": "code",
   "execution_count": 1,
   "id": "fd3f1841-1fd5-4876-9482-a9b721210043",
   "metadata": {},
   "outputs": [],
   "source": [
    "import pandas as pd\n",
    "import numpy as np\n",
    "import matplotlib.pyplot as plt\n",
    "from sklearn.datasets import make_moons, load_iris, load_diabetes\n",
    "from sklearn.model_selection import train_test_split\n",
    "from sklearn.preprocessing import StandardScaler, OneHotEncoder\n",
    "from sklearn.metrics import mean_squared_error, classification_report, confusion_matrix, mean_absolute_error\n",
    "from sklearn.metrics import mean_absolute_percentage_error, r2_score\n",
    "from sklearn.metrics import accuracy_score, precision_score, recall_score, f1_score\n",
    "import seaborn as sns\n",
    "\n",
    "import tensorflow as tf\n",
    "from tensorflow import keras\n",
    "from tensorflow.keras import layers"
   ]
  },
  {
   "cell_type": "markdown",
   "id": "bb6c03e1-6ff9-4da1-88cc-36b4a04583ba",
   "metadata": {},
   "source": [
    "# ANN Manual untuk Regresi (NumPy)\n",
    "\n",
    "Akan dibuat Artificial Neural Network (ANN) secara manual hanya menggunakan NumPy untuk memprediksi nilai numerik (regresi). Studi kasus yang dipilih adalah memprediksi pola sinus dengan noise. Tujuannya untuk memahami alur dasar ANN (forward pass, backpropagation, update bobot) tanpa bantuan library high-level seperti Keras atau PyTorch."
   ]
  },
  {
   "cell_type": "markdown",
   "id": "b6090e72-ff59-47e0-b9b6-e1e0fa373a25",
   "metadata": {},
   "source": [
    "## Data buatan untuk regresi\n",
    "Data dibuat secara sintetik menggunakan persamaan y=sin(x)+noise\\\n",
    "Alasan menggunakan data buatan:\n",
    "* Polanya jelas dan mudah divisualisasikan.\n",
    "* Dapat dikontrol tingkat kompleksitas dan jumlah datanya.\n",
    "* Cocok untuk pembelajaran konsep dasar sebelum mencoba dataset dunia nyata."
   ]
  },
  {
   "cell_type": "code",
   "execution_count": 176,
   "id": "36704ef0-dee3-4239-ac9f-9e485ea9049b",
   "metadata": {},
   "outputs": [],
   "source": [
    "np.random.seed(42)\n",
    "X = np.linspace(-2*np.pi, 2*np.pi, 200).reshape(-1, 1)\n",
    "y = np.sin(X) + 0.1 * np.random.randn(*X.shape)"
   ]
  },
  {
   "cell_type": "code",
   "execution_count": 177,
   "id": "80f2a054-6d65-4468-b261-d8e3a608d605",
   "metadata": {},
   "outputs": [
    {
     "data": {
      "text/plain": [
       "(200, 1)"
      ]
     },
     "execution_count": 177,
     "metadata": {},
     "output_type": "execute_result"
    }
   ],
   "source": [
    "y.shape"
   ]
  },
  {
   "cell_type": "code",
   "execution_count": 178,
   "id": "0a284d6f-a2e5-4bbc-bd59-9f4c9c2fcf1f",
   "metadata": {},
   "outputs": [
    {
     "data": {
      "text/html": [
       "<div>\n",
       "<style scoped>\n",
       "    .dataframe tbody tr th:only-of-type {\n",
       "        vertical-align: middle;\n",
       "    }\n",
       "\n",
       "    .dataframe tbody tr th {\n",
       "        vertical-align: top;\n",
       "    }\n",
       "\n",
       "    .dataframe thead th {\n",
       "        text-align: right;\n",
       "    }\n",
       "</style>\n",
       "<table border=\"1\" class=\"dataframe\">\n",
       "  <thead>\n",
       "    <tr style=\"text-align: right;\">\n",
       "      <th></th>\n",
       "      <th>X</th>\n",
       "      <th>y</th>\n",
       "    </tr>\n",
       "  </thead>\n",
       "  <tbody>\n",
       "    <tr>\n",
       "      <th>0</th>\n",
       "      <td>-6.283185</td>\n",
       "      <td>0.049671</td>\n",
       "    </tr>\n",
       "    <tr>\n",
       "      <th>1</th>\n",
       "      <td>-6.220038</td>\n",
       "      <td>0.049279</td>\n",
       "    </tr>\n",
       "    <tr>\n",
       "      <th>2</th>\n",
       "      <td>-6.156890</td>\n",
       "      <td>0.190729</td>\n",
       "    </tr>\n",
       "    <tr>\n",
       "      <th>3</th>\n",
       "      <td>-6.093743</td>\n",
       "      <td>0.340615</td>\n",
       "    </tr>\n",
       "    <tr>\n",
       "      <th>4</th>\n",
       "      <td>-6.030595</td>\n",
       "      <td>0.226498</td>\n",
       "    </tr>\n",
       "    <tr>\n",
       "      <th>...</th>\n",
       "      <td>...</td>\n",
       "      <td>...</td>\n",
       "    </tr>\n",
       "    <tr>\n",
       "      <th>195</th>\n",
       "      <td>6.030595</td>\n",
       "      <td>-0.211381</td>\n",
       "    </tr>\n",
       "    <tr>\n",
       "      <th>196</th>\n",
       "      <td>6.093743</td>\n",
       "      <td>-0.276697</td>\n",
       "    </tr>\n",
       "    <tr>\n",
       "      <th>197</th>\n",
       "      <td>6.156890</td>\n",
       "      <td>-0.110587</td>\n",
       "    </tr>\n",
       "    <tr>\n",
       "      <th>198</th>\n",
       "      <td>6.220038</td>\n",
       "      <td>-0.057285</td>\n",
       "    </tr>\n",
       "    <tr>\n",
       "      <th>199</th>\n",
       "      <td>6.283185</td>\n",
       "      <td>-0.114297</td>\n",
       "    </tr>\n",
       "  </tbody>\n",
       "</table>\n",
       "<p>200 rows × 2 columns</p>\n",
       "</div>"
      ],
      "text/plain": [
       "            X         y\n",
       "0   -6.283185  0.049671\n",
       "1   -6.220038  0.049279\n",
       "2   -6.156890  0.190729\n",
       "3   -6.093743  0.340615\n",
       "4   -6.030595  0.226498\n",
       "..        ...       ...\n",
       "195  6.030595 -0.211381\n",
       "196  6.093743 -0.276697\n",
       "197  6.156890 -0.110587\n",
       "198  6.220038 -0.057285\n",
       "199  6.283185 -0.114297\n",
       "\n",
       "[200 rows x 2 columns]"
      ]
     },
     "execution_count": 178,
     "metadata": {},
     "output_type": "execute_result"
    }
   ],
   "source": [
    "df = pd.DataFrame({\n",
    "    'X': X.flatten(),\n",
    "    'y': y.flatten()\n",
    "})\n",
    "df"
   ]
  },
  {
   "cell_type": "markdown",
   "id": "0afa985e-12fe-4579-bdd1-27817786cd01",
   "metadata": {},
   "source": [
    "## Visualisasi data buatan\n",
    "Dibuat scatter plot titik data hasil fungsi sinus dengan noise dan membandingkannya dengan kurva sinus murni. Tujuannya untuk melihat bentuk data yang akan digunakan dalam pelatihan ANN."
   ]
  },
  {
   "cell_type": "code",
   "execution_count": 179,
   "id": "4bbc2b05-de89-4404-8d69-ba74245b6755",
   "metadata": {},
   "outputs": [
    {
     "data": {
      "image/png": "[encoded data removed]",
      "text/plain": [
       "<Figure size 800x500 with 1 Axes>"
      ]
     },
     "metadata": {},
     "output_type": "display_data"
    }
   ],
   "source": [
    "plt.figure(figsize=(8,5))\n",
    "plt.scatter(df['X'], df['y'], color='blue', alpha=0.7, label='Data')\n",
    "plt.plot(df['X'], np.sin(df['X']), color='red', linewidth=2, label='Fungsi Sin Ideal')\n",
    "plt.title(\"Data Buatan: y = sin(x) + noise\", fontsize=14)\n",
    "plt.xlabel(\"X\")\n",
    "plt.ylabel(\"y\")\n",
    "plt.legend()\n",
    "plt.grid(True)\n",
    "plt.show()"
   ]
  },
  {
   "cell_type": "markdown",
   "id": "8b2a8f09-3732-4b18-a5f4-68df01e5bb0e",
   "metadata": {},
   "source": [
    "## Normalisasi\n",
    "Fitur X dinormalisasi menggunakan `StandardScaler` agar memiliki mean 0 dan standar deviasi 1. Ini membantu ANN belajar lebih stabil dan cepat, karena skala data menjadi seragam."
   ]
  },
  {
   "cell_type": "code",
   "execution_count": 180,
   "id": "5cf47ab7-328f-4d8c-a9d2-a8b18d4b99e9",
   "metadata": {},
   "outputs": [],
   "source": [
    "scaler_x = StandardScaler()\n",
    "X_scaled = scaler_x.fit_transform(X)"
   ]
  },
  {
   "cell_type": "markdown",
   "id": "7a7cd5d6-186c-4b55-b4ce-d8120fa023e0",
   "metadata": {},
   "source": [
    "## Split data\n",
    "Dataset dibagi menjadi data training (training set) dan data testing (test set) menggunakan `train_test_split`. Data training digunakan untuk melatih model, sedangkan data testing digunakan untuk mengukur performa model pada data yang belum pernah dilihat."
   ]
  },
  {
   "cell_type": "code",
   "execution_count": 181,
   "id": "72849f08-7000-4a31-a2ee-7cfcf674462c",
   "metadata": {},
   "outputs": [],
   "source": [
    "X_train, X_test, y_train, y_test = train_test_split(X_scaled, y, test_size=0.2, random_state=42)"
   ]
  },
  {
   "cell_type": "markdown",
   "id": "466d6bde-aeab-45b0-9834-8cc17463095d",
   "metadata": {},
   "source": [
    "## Arsitektur ANN manual dengan 1 hidden layer (10 neuron, ReLU), output 1 neuron"
   ]
  },
  {
   "cell_type": "code",
   "execution_count": 182,
   "id": "f53386d0-c548-42bc-97e8-93f3f62e6e19",
   "metadata": {},
   "outputs": [],
   "source": [
    "input_dim = X_train.shape[1]\n",
    "hidden_neurons = 10\n",
    "output_dim = 1\n",
    "lr = 0.01\n",
    "epochs = 500"
   ]
  },
  {
   "cell_type": "markdown",
   "id": "a1bb6a64-4798-4593-a493-4aa505c5f111",
   "metadata": {},
   "source": [
    "## Inisialisasi bobot\n",
    "Bobot (W1, W2) diinisialisasi secara acak, bias (b1, b2) diinisialisasi nol. Inisialisasi acak membantu model memulai proses belajar tanpa simetri antar neuron."
   ]
  },
  {
   "cell_type": "code",
   "execution_count": 183,
   "id": "b639c0dc-b0dc-453a-869b-089995665aa7",
   "metadata": {},
   "outputs": [],
   "source": [
    "W1 = np.random.randn(input_dim, hidden_neurons)\n",
    "b1 = np.zeros((1, hidden_neurons))\n",
    "W2 = np.random.randn(hidden_neurons, output_dim)\n",
    "b2 = np.zeros((1, output_dim))"
   ]
  },
  {
   "cell_type": "code",
   "execution_count": 184,
   "id": "6b40c2dd-7a85-4d02-ae75-c56d77067241",
   "metadata": {},
   "outputs": [],
   "source": [
    "losses = []"
   ]
  },
  {
   "cell_type": "markdown",
   "id": "020316bb-6ae3-49cb-8009-165df8dfefe5",
   "metadata": {},
   "source": [
    "## Pembelajaran model\n",
    "Akan dilakukan iterasi (for epoch in range(epochs)) untuk melatih model:\n",
    "* Forward pass: hitung output dari input → hidden layer → output.\n",
    "* Hitung loss (MSE).\n",
    "* Backward pass (backpropagation): hitung turunan loss terhadap bobot.\n",
    "* Update bobot dengan gradient descent menggunakan learning rate 0.01."
   ]
  },
  {
   "cell_type": "code",
   "execution_count": 185,
   "id": "30a68862-94a2-46bb-b3cd-85daa259baca",
   "metadata": {},
   "outputs": [],
   "source": [
    "for epoch in range(epochs):\n",
    "    # Forward pass\n",
    "    z1 = X_train @ W1 + b1\n",
    "    a1 = np.maximum(0, z1)  # ReLU\n",
    "    z2 = a1 @ W2 + b2\n",
    "    y_pred = z2\n",
    "\n",
    "    # Hitung loss (MSE)\n",
    "    loss = np.mean((y_pred - y_train) ** 2)\n",
    "    losses.append(loss)\n",
    "\n",
    "    # Backpropagation\n",
    "    dloss_dy = 2 * (y_pred - y_train) / y_train.shape[0]\n",
    "    dW2 = a1.T @ dloss_dy\n",
    "    db2 = np.sum(dloss_dy, axis=0, keepdims=True)\n",
    "\n",
    "    da1 = dloss_dy @ W2.T\n",
    "    dz1 = da1.copy()\n",
    "    dz1[z1 <= 0] = 0\n",
    "    dW1 = X_train.T @ dz1\n",
    "    db1 = np.sum(dz1, axis=0, keepdims=True)\n",
    "\n",
    "    # Update bobot\n",
    "    W1 -= lr * dW1\n",
    "    b1 -= lr * db1\n",
    "    W2 -= lr * dW2\n",
    "    b2 -= lr * db2"
   ]
  },
  {
   "cell_type": "markdown",
   "id": "54e2e124-224f-40b8-acd5-ff8bdd82f1fd",
   "metadata": {},
   "source": [
    "## Plot Loss\n",
    "Grafik loss per epoch dibuat untuk memantau proses pembelajaran. Penurunan loss menunjukkan model belajar menyesuaikan bobotnya agar prediksi mendekati target."
   ]
  },
  {
   "cell_type": "code",
   "execution_count": 186,
   "id": "967a285e-ac4a-4145-bf69-c04a80c2ebd5",
   "metadata": {},
   "outputs": [
    {
     "data": {
      "image/png": "[encoded data removed]",
      "text/plain": [
       "<Figure size 640x480 with 1 Axes>"
      ]
     },
     "metadata": {},
     "output_type": "display_data"
    }
   ],
   "source": [
    "plt.plot(losses)\n",
    "plt.title(\"Loss Regresi - ANN Manual\")\n",
    "plt.xlabel(\"Epoch\")\n",
    "plt.ylabel(\"MSE\")\n",
    "plt.show()"
   ]
  },
  {
   "cell_type": "markdown",
   "id": "8eb252ed-bcbb-465c-97bc-e10d918d67a6",
   "metadata": {},
   "source": [
    "### Interpretasi\n",
    "* Penurunan tajam di awal (epoch 0–50) → model dengan cepat belajar pola dasar dari data.\n",
    "* Penurunan lambat setelahnya → model melakukan fine-tuning bobot untuk mengurangi error secara bertahap.\n",
    "* Loss stabil mulai sekitar epoch 200–300 → proses pembelajaran sudah hampir mencapai titik optimal; tidak ada penurunan signifikan lagi.\n",
    "* Nilai MSE akhir kecil (<0.3) → menunjukkan model cukup mampu mempelajari hubungan antara X dan y pada data training."
   ]
  },
  {
   "cell_type": "markdown",
   "id": "7635e018-71ff-4a9d-88e7-12c905311fcd",
   "metadata": {},
   "source": [
    "## Forward pass di test set\n",
    "Setelah training, model melakukan forward pass pada data testing untuk menghasilkan prediksi. Tidak ada backpropagation di tahap ini, hanya perhitungan output."
   ]
  },
  {
   "cell_type": "code",
   "execution_count": 187,
   "id": "42a2d0b9-de6a-4fba-99b7-01c62c428925",
   "metadata": {},
   "outputs": [],
   "source": [
    "z1_test = X_test @ W1 + b1\n",
    "a1_test = np.maximum(0, z1_test)\n",
    "y_pred_test = a1_test @ W2 + b2"
   ]
  },
  {
   "cell_type": "code",
   "execution_count": 188,
   "id": "478a8757-7ca9-4c4c-8e65-6ad4ccb59c9c",
   "metadata": {},
   "outputs": [
    {
     "data": {
      "text/plain": [
       "array([ 0.0581018 ,  0.5507339 ,  0.34552219, -0.14384434,  0.34736001,\n",
       "        0.44543454, -0.18802825, -0.34032608, -0.40582   ,  0.14031048,\n",
       "       -0.14698591, -0.53680783, -0.25845869, -0.31115528, -0.60230174,\n",
       "       -0.45494043, -0.0101781 , -0.04560347, -0.34002014, -0.17434747,\n",
       "        0.41285393,  0.53705312,  0.01989044, -0.02381022, -0.13330513,\n",
       "       -0.06490123, -0.31835464, -0.16066669,  0.39648045,  0.2818661 ,\n",
       "        0.63281859,  0.50969156,  0.00350268, -0.27011294, -0.01285651,\n",
       "        0.38708589,  0.23274566,  0.19999871, -0.24208521, -0.28379372])"
      ]
     },
     "execution_count": 188,
     "metadata": {},
     "output_type": "execute_result"
    }
   ],
   "source": [
    "y_pred_test.flatten()"
   ]
  },
  {
   "cell_type": "markdown",
   "id": "fb74c768-5d13-4987-a1ed-8b6fdf80173e",
   "metadata": {},
   "source": [
    "## Metriks evaluasi"
   ]
  },
  {
   "cell_type": "code",
   "execution_count": 189,
   "id": "caeb37f1-1144-4fa6-a415-5cb24f62f7cd",
   "metadata": {},
   "outputs": [],
   "source": [
    "mse_test = mean_squared_error(y_test, y_pred_test)\n",
    "mae_test = mean_absolute_error(y_test, y_pred_test)\n",
    "mape_test = mean_absolute_percentage_error(y_test, y_pred_test)\n",
    "r2_test = r2_score(y_test, y_pred_test)"
   ]
  },
  {
   "cell_type": "code",
   "execution_count": 190,
   "id": "862bb237-aeea-4771-8948-482c4129250b",
   "metadata": {},
   "outputs": [
    {
     "name": "stdout",
     "output_type": "stream",
     "text": [
      "MSE Test : 0.2590\n",
      "MAE Test : 0.4575\n",
      "MAPE Test: 0.64%\n",
      "R² Test  : 0.5440\n"
     ]
    }
   ],
   "source": [
    "print(f\"MSE Test : {mse_test:.4f}\")\n",
    "print(f\"MAE Test : {mae_test:.4f}\")\n",
    "print(f\"MAPE Test: {mape_test:.2f}%\")\n",
    "print(f\"R² Test  : {r2_test:.4f}\")"
   ]
  },
  {
   "cell_type": "markdown",
   "id": "9d7838ca-dbfa-4934-8114-a0893e7e3858",
   "metadata": {},
   "source": [
    "### Interpretasi\n",
    "* MSE Test = 0.2590 → rata-rata kuadrat error relatif kecil, artinya prediksi cukup mendekati nilai target.\n",
    "* MAE Test = 0.4575 → rata-rata kesalahan absolut sekitar 0.46 unit, cukup moderat untuk skala data ini.\n",
    "* MAPE Test = 64% → error persentase rata-rata tinggi (>50%), menandakan ada beberapa titik di mana prediksi jauh dari nilai target (kemungkinan saat nilai target mendekati nol, MAPE jadi besar).\n",
    "* R² Test = 0.5440 → model hanya mampu menjelaskan sekitar 54% variasi pada data uji. Ini berarti performa cukup, tetapi masih banyak ruang untuk perbaikan.\n",
    "* Kesimpulan umum: model sudah menangkap sebagian besar pola data sinus, tapi akurasi persentase masih rendah, kemungkinan karena noise tinggi dan keterbatasan kapasitas ANN manual sederhana ini."
   ]
  },
  {
   "cell_type": "markdown",
   "id": "9331582c-b8a1-4d0d-9470-9bce2f10a8da",
   "metadata": {},
   "source": [
    "## Tabel perbandingan target vs prediksi"
   ]
  },
  {
   "cell_type": "code",
   "execution_count": 191,
   "id": "e03c78b0-b77c-4ad6-85f9-6970c5e7ebb8",
   "metadata": {},
   "outputs": [],
   "source": [
    "df_eval = pd.DataFrame({\n",
    "    'X': scaler_x.inverse_transform(X_test).flatten(),\n",
    "    'y_target': y_test.flatten(),\n",
    "    'y_prediksi': y_pred_test.flatten()\n",
    "})"
   ]
  },
  {
   "cell_type": "code",
   "execution_count": 192,
   "id": "561321a0-b7df-41ea-b720-4b430e571a96",
   "metadata": {
    "scrolled": true
   },
   "outputs": [
    {
     "data": {
      "text/html": [
       "<div>\n",
       "<style scoped>\n",
       "    .dataframe tbody tr th:only-of-type {\n",
       "        vertical-align: middle;\n",
       "    }\n",
       "\n",
       "    .dataframe tbody tr th {\n",
       "        vertical-align: top;\n",
       "    }\n",
       "\n",
       "    .dataframe thead th {\n",
       "        text-align: right;\n",
       "    }\n",
       "</style>\n",
       "<table border=\"1\" class=\"dataframe\">\n",
       "  <thead>\n",
       "    <tr style=\"text-align: right;\">\n",
       "      <th></th>\n",
       "      <th>X</th>\n",
       "      <th>y_target</th>\n",
       "      <th>y_prediksi</th>\n",
       "    </tr>\n",
       "  </thead>\n",
       "  <tbody>\n",
       "    <tr>\n",
       "      <th>0</th>\n",
       "      <td>-0.284164</td>\n",
       "      <td>-0.426707</td>\n",
       "      <td>0.058102</td>\n",
       "    </tr>\n",
       "    <tr>\n",
       "      <th>1</th>\n",
       "      <td>-5.335971</td>\n",
       "      <td>0.755563</td>\n",
       "      <td>0.550734</td>\n",
       "    </tr>\n",
       "    <tr>\n",
       "      <th>2</th>\n",
       "      <td>-4.388758</td>\n",
       "      <td>0.887916</td>\n",
       "      <td>0.345522</td>\n",
       "    </tr>\n",
       "    <tr>\n",
       "      <th>3</th>\n",
       "      <td>3.694134</td>\n",
       "      <td>-0.643983</td>\n",
       "      <td>-0.143844</td>\n",
       "    </tr>\n",
       "    <tr>\n",
       "      <th>4</th>\n",
       "      <td>1.799706</td>\n",
       "      <td>0.983879</td>\n",
       "      <td>0.347360</td>\n",
       "    </tr>\n",
       "    <tr>\n",
       "      <th>5</th>\n",
       "      <td>0.978788</td>\n",
       "      <td>0.859976</td>\n",
       "      <td>0.445435</td>\n",
       "    </tr>\n",
       "    <tr>\n",
       "      <th>6</th>\n",
       "      <td>-1.926002</td>\n",
       "      <td>-1.002087</td>\n",
       "      <td>-0.188028</td>\n",
       "    </tr>\n",
       "    <tr>\n",
       "      <th>7</th>\n",
       "      <td>4.451905</td>\n",
       "      <td>-1.055217</td>\n",
       "      <td>-0.340326</td>\n",
       "    </tr>\n",
       "    <tr>\n",
       "      <th>8</th>\n",
       "      <td>4.704496</td>\n",
       "      <td>-0.972300</td>\n",
       "      <td>-0.405820</td>\n",
       "    </tr>\n",
       "    <tr>\n",
       "      <th>9</th>\n",
       "      <td>-3.441544</td>\n",
       "      <td>0.223489</td>\n",
       "      <td>0.140310</td>\n",
       "    </tr>\n",
       "    <tr>\n",
       "      <th>10</th>\n",
       "      <td>-2.115444</td>\n",
       "      <td>-0.862511</td>\n",
       "      <td>-0.146986</td>\n",
       "    </tr>\n",
       "    <tr>\n",
       "      <th>11</th>\n",
       "      <td>5.209676</td>\n",
       "      <td>-0.985969</td>\n",
       "      <td>-0.536808</td>\n",
       "    </tr>\n",
       "    <tr>\n",
       "      <th>12</th>\n",
       "      <td>4.136167</td>\n",
       "      <td>-0.797249</td>\n",
       "      <td>-0.258459</td>\n",
       "    </tr>\n",
       "    <tr>\n",
       "      <th>13</th>\n",
       "      <td>-1.357673</td>\n",
       "      <td>-0.968199</td>\n",
       "      <td>-0.311155</td>\n",
       "    </tr>\n",
       "    <tr>\n",
       "      <th>14</th>\n",
       "      <td>5.462267</td>\n",
       "      <td>-0.684449</td>\n",
       "      <td>-0.602302</td>\n",
       "    </tr>\n",
       "    <tr>\n",
       "      <th>15</th>\n",
       "      <td>4.893938</td>\n",
       "      <td>-0.838212</td>\n",
       "      <td>-0.454940</td>\n",
       "    </tr>\n",
       "    <tr>\n",
       "      <th>16</th>\n",
       "      <td>-2.746920</td>\n",
       "      <td>-0.468428</td>\n",
       "      <td>-0.010178</td>\n",
       "    </tr>\n",
       "    <tr>\n",
       "      <th>17</th>\n",
       "      <td>3.315249</td>\n",
       "      <td>-0.240787</td>\n",
       "      <td>-0.045603</td>\n",
       "    </tr>\n",
       "    <tr>\n",
       "      <th>18</th>\n",
       "      <td>-1.105083</td>\n",
       "      <td>-0.745712</td>\n",
       "      <td>-0.340020</td>\n",
       "    </tr>\n",
       "    <tr>\n",
       "      <th>19</th>\n",
       "      <td>-1.989149</td>\n",
       "      <td>-0.877596</td>\n",
       "      <td>-0.174347</td>\n",
       "    </tr>\n",
       "    <tr>\n",
       "      <th>20</th>\n",
       "      <td>1.547116</td>\n",
       "      <td>1.058405</td>\n",
       "      <td>0.412854</td>\n",
       "    </tr>\n",
       "    <tr>\n",
       "      <th>21</th>\n",
       "      <td>-5.272824</td>\n",
       "      <td>0.745741</td>\n",
       "      <td>0.537053</td>\n",
       "    </tr>\n",
       "    <tr>\n",
       "      <th>22</th>\n",
       "      <td>3.062658</td>\n",
       "      <td>0.131047</td>\n",
       "      <td>0.019890</td>\n",
       "    </tr>\n",
       "    <tr>\n",
       "      <th>23</th>\n",
       "      <td>-0.410459</td>\n",
       "      <td>-0.431797</td>\n",
       "      <td>-0.023810</td>\n",
       "    </tr>\n",
       "    <tr>\n",
       "      <th>24</th>\n",
       "      <td>-2.178592</td>\n",
       "      <td>-0.685285</td>\n",
       "      <td>-0.133305</td>\n",
       "    </tr>\n",
       "    <tr>\n",
       "      <th>25</th>\n",
       "      <td>-2.494330</td>\n",
       "      <td>-0.650923</td>\n",
       "      <td>-0.064901</td>\n",
       "    </tr>\n",
       "    <tr>\n",
       "      <th>26</th>\n",
       "      <td>-0.978788</td>\n",
       "      <td>-0.910671</td>\n",
       "      <td>-0.318355</td>\n",
       "    </tr>\n",
       "    <tr>\n",
       "      <th>27</th>\n",
       "      <td>-2.052297</td>\n",
       "      <td>-0.785948</td>\n",
       "      <td>-0.160667</td>\n",
       "    </tr>\n",
       "    <tr>\n",
       "      <th>28</th>\n",
       "      <td>1.610264</td>\n",
       "      <td>1.218267</td>\n",
       "      <td>0.396480</td>\n",
       "    </tr>\n",
       "    <tr>\n",
       "      <th>29</th>\n",
       "      <td>2.052297</td>\n",
       "      <td>0.780071</td>\n",
       "      <td>0.281866</td>\n",
       "    </tr>\n",
       "    <tr>\n",
       "      <th>30</th>\n",
       "      <td>-5.714857</td>\n",
       "      <td>0.592480</td>\n",
       "      <td>0.632819</td>\n",
       "    </tr>\n",
       "    <tr>\n",
       "      <th>31</th>\n",
       "      <td>-5.146529</td>\n",
       "      <td>0.816430</td>\n",
       "      <td>0.509692</td>\n",
       "    </tr>\n",
       "    <tr>\n",
       "      <th>32</th>\n",
       "      <td>-2.810068</td>\n",
       "      <td>-0.232357</td>\n",
       "      <td>0.003503</td>\n",
       "    </tr>\n",
       "    <tr>\n",
       "      <th>33</th>\n",
       "      <td>-1.547116</td>\n",
       "      <td>-0.917529</td>\n",
       "      <td>-0.270113</td>\n",
       "    </tr>\n",
       "    <tr>\n",
       "      <th>34</th>\n",
       "      <td>3.188953</td>\n",
       "      <td>-0.022294</td>\n",
       "      <td>-0.012857</td>\n",
       "    </tr>\n",
       "    <tr>\n",
       "      <th>35</th>\n",
       "      <td>0.284164</td>\n",
       "      <td>0.264227</td>\n",
       "      <td>0.387086</td>\n",
       "    </tr>\n",
       "    <tr>\n",
       "      <th>36</th>\n",
       "      <td>2.241739</td>\n",
       "      <td>0.938229</td>\n",
       "      <td>0.232746</td>\n",
       "    </tr>\n",
       "    <tr>\n",
       "      <th>37</th>\n",
       "      <td>2.368035</td>\n",
       "      <td>0.666479</td>\n",
       "      <td>0.199999</td>\n",
       "    </tr>\n",
       "    <tr>\n",
       "      <th>38</th>\n",
       "      <td>4.073020</td>\n",
       "      <td>-0.706135</td>\n",
       "      <td>-0.242085</td>\n",
       "    </tr>\n",
       "    <tr>\n",
       "      <th>39</th>\n",
       "      <td>-1.483968</td>\n",
       "      <td>-0.987528</td>\n",
       "      <td>-0.283794</td>\n",
       "    </tr>\n",
       "  </tbody>\n",
       "</table>\n",
       "</div>"
      ],
      "text/plain": [
       "           X  y_target  y_prediksi\n",
       "0  -0.284164 -0.426707    0.058102\n",
       "1  -5.335971  0.755563    0.550734\n",
       "2  -4.388758  0.887916    0.345522\n",
       "3   3.694134 -0.643983   -0.143844\n",
       "4   1.799706  0.983879    0.347360\n",
       "5   0.978788  0.859976    0.445435\n",
       "6  -1.926002 -1.002087   -0.188028\n",
       "7   4.451905 -1.055217   -0.340326\n",
       "8   4.704496 -0.972300   -0.405820\n",
       "9  -3.441544  0.223489    0.140310\n",
       "10 -2.115444 -0.862511   -0.146986\n",
       "11  5.209676 -0.985969   -0.536808\n",
       "12  4.136167 -0.797249   -0.258459\n",
       "13 -1.357673 -0.968199   -0.311155\n",
       "14  5.462267 -0.684449   -0.602302\n",
       "15  4.893938 -0.838212   -0.454940\n",
       "16 -2.746920 -0.468428   -0.010178\n",
       "17  3.315249 -0.240787   -0.045603\n",
       "18 -1.105083 -0.745712   -0.340020\n",
       "19 -1.989149 -0.877596   -0.174347\n",
       "20  1.547116  1.058405    0.412854\n",
       "21 -5.272824  0.745741    0.537053\n",
       "22  3.062658  0.131047    0.019890\n",
       "23 -0.410459 -0.431797   -0.023810\n",
       "24 -2.178592 -0.685285   -0.133305\n",
       "25 -2.494330 -0.650923   -0.064901\n",
       "26 -0.978788 -0.910671   -0.318355\n",
       "27 -2.052297 -0.785948   -0.160667\n",
       "28  1.610264  1.218267    0.396480\n",
       "29  2.052297  0.780071    0.281866\n",
       "30 -5.714857  0.592480    0.632819\n",
       "31 -5.146529  0.816430    0.509692\n",
       "32 -2.810068 -0.232357    0.003503\n",
       "33 -1.547116 -0.917529   -0.270113\n",
       "34  3.188953 -0.022294   -0.012857\n",
       "35  0.284164  0.264227    0.387086\n",
       "36  2.241739  0.938229    0.232746\n",
       "37  2.368035  0.666479    0.199999\n",
       "38  4.073020 -0.706135   -0.242085\n",
       "39 -1.483968 -0.987528   -0.283794"
      ]
     },
     "execution_count": 192,
     "metadata": {},
     "output_type": "execute_result"
    }
   ],
   "source": [
    "df_eval"
   ]
  },
  {
   "cell_type": "markdown",
   "id": "a8a8a10f-c4cf-4c9f-80b4-bd8485551a60",
   "metadata": {},
   "source": [
    "## Plot hasil prediksi vs target\n",
    "Scatter plot dibuat untuk membandingkan titik prediksi model (warna berbeda) dengan data target sebenarnya. Ini memudahkan visualisasi seberapa dekat prediksi dengan nilai target."
   ]
  },
  {
   "cell_type": "code",
   "execution_count": 193,
   "id": "d80df6c4-d1bf-4334-8271-6e6595220d77",
   "metadata": {},
   "outputs": [
    {
     "data": {
      "image/png": "[encoded data removed]",
      "text/plain": [
       "<Figure size 800x500 with 1 Axes>"
      ]
     },
     "metadata": {},
     "output_type": "display_data"
    }
   ],
   "source": [
    "plt.figure(figsize=(8,5))\n",
    "plt.scatter(scaler_x.inverse_transform(X_test), y_test, color='blue', label='Target')\n",
    "plt.scatter(scaler_x.inverse_transform(X_test), y_pred_test, color='red', label='Prediksi')\n",
    "plt.title(\"Prediksi ANN Manual vs Target\")\n",
    "plt.xlabel(\"X\")\n",
    "plt.ylabel(\"y\")\n",
    "plt.legend()\n",
    "plt.grid(True)\n",
    "plt.show()"
   ]
  },
  {
   "cell_type": "markdown",
   "id": "e6c60d08-b4a5-4921-be3a-6eeb18ecb0d3",
   "metadata": {},
   "source": [
    "### Interpretasi\n",
    "* Pola sinus umum masih tertangkap oleh model, tapi terdapat deviasi besar di beberapa bagian, khususnya di puncak dan lembah kurva.\n",
    "* Model cenderung menghaluskan prediksi, sehingga variasi ekstrem pada data (karena noise atau bentuk sinus asli) tidak sepenuhnya diikuti.\n",
    "* Kesalahan prediksi tampak lebih besar pada area transisi cepat (misalnya di sekitar x ≈ −5, x ≈ 2, dan x ≈ 4)\n",
    "* Ini konsisten dengan metrik sebelumnya (R² = 0.544 dan MAPE tinggi), menandakan model sederhana ini hanya menangkap sebagian pola tetapi kurang mampu memodelkan variasi penuh data."
   ]
  },
  {
   "cell_type": "markdown",
   "id": "396e13e5-a0ed-4adc-ae6d-49c6e36ef439",
   "metadata": {},
   "source": [
    "# ANN dengan Keras - Regresi (Dataset: Diabetes)\n",
    "Membangun model Artificial Neural Network menggunakan Keras untuk memprediksi progresi penyakit diabetes berdasarkan 10 fitur medis, menggunakan pendekatan regresi."
   ]
  },
  {
   "cell_type": "markdown",
   "id": "af886be7-7d26-484c-80e1-f7eb9af15438",
   "metadata": {},
   "source": [
    "## Load data diabetes\n",
    "Mengambil dataset Diabetes dari `sklearn.datasets`. Dataset ini berisi fitur-fitur seperti umur, BMI, tekanan darah, dan hasil pengukuran biokimia yang digunakan untuk memprediksi perkembangan penyakit."
   ]
  },
  {
   "cell_type": "code",
   "execution_count": 194,
   "id": "c8525fdc-ed4d-451b-b91d-c0139d13f65c",
   "metadata": {},
   "outputs": [],
   "source": [
    "data = load_diabetes()\n",
    "X = data.data\n",
    "y = data.target"
   ]
  },
  {
   "cell_type": "code",
   "execution_count": 195,
   "id": "e4636e24-f281-4eb8-9682-c7608c828236",
   "metadata": {
    "scrolled": true
   },
   "outputs": [
    {
     "data": {
      "text/plain": [
       "{'data': array([[ 0.03807591,  0.05068012,  0.06169621, ..., -0.00259226,\n",
       "          0.01990749, -0.01764613],\n",
       "        [-0.00188202, -0.04464164, -0.05147406, ..., -0.03949338,\n",
       "         -0.06833155, -0.09220405],\n",
       "        [ 0.08529891,  0.05068012,  0.04445121, ..., -0.00259226,\n",
       "          0.00286131, -0.02593034],\n",
       "        ...,\n",
       "        [ 0.04170844,  0.05068012, -0.01590626, ..., -0.01107952,\n",
       "         -0.04688253,  0.01549073],\n",
       "        [-0.04547248, -0.04464164,  0.03906215, ...,  0.02655962,\n",
       "          0.04452873, -0.02593034],\n",
       "        [-0.04547248, -0.04464164, -0.0730303 , ..., -0.03949338,\n",
       "         -0.00422151,  0.00306441]]),\n",
       " 'target': array([151.,  75., 141., 206., 135.,  97., 138.,  63., 110., 310., 101.,\n",
       "         69., 179., 185., 118., 171., 166., 144.,  97., 168.,  68.,  49.,\n",
       "         68., 245., 184., 202., 137.,  85., 131., 283., 129.,  59., 341.,\n",
       "         87.,  65., 102., 265., 276., 252.,  90., 100.,  55.,  61.,  92.,\n",
       "        259.,  53., 190., 142.,  75., 142., 155., 225.,  59., 104., 182.,\n",
       "        128.,  52.,  37., 170., 170.,  61., 144.,  52., 128.,  71., 163.,\n",
       "        150.,  97., 160., 178.,  48., 270., 202., 111.,  85.,  42., 170.,\n",
       "        200., 252., 113., 143.,  51.,  52., 210.,  65., 141.,  55., 134.,\n",
       "         42., 111.,  98., 164.,  48.,  96.,  90., 162., 150., 279.,  92.,\n",
       "         83., 128., 102., 302., 198.,  95.,  53., 134., 144., 232.,  81.,\n",
       "        104.,  59., 246., 297., 258., 229., 275., 281., 179., 200., 200.,\n",
       "        173., 180.,  84., 121., 161.,  99., 109., 115., 268., 274., 158.,\n",
       "        107.,  83., 103., 272.,  85., 280., 336., 281., 118., 317., 235.,\n",
       "         60., 174., 259., 178., 128.,  96., 126., 288.,  88., 292.,  71.,\n",
       "        197., 186.,  25.,  84.,  96., 195.,  53., 217., 172., 131., 214.,\n",
       "         59.,  70., 220., 268., 152.,  47.,  74., 295., 101., 151., 127.,\n",
       "        237., 225.,  81., 151., 107.,  64., 138., 185., 265., 101., 137.,\n",
       "        143., 141.,  79., 292., 178.,  91., 116.,  86., 122.,  72., 129.,\n",
       "        142.,  90., 158.,  39., 196., 222., 277.,  99., 196., 202., 155.,\n",
       "         77., 191.,  70.,  73.,  49.,  65., 263., 248., 296., 214., 185.,\n",
       "         78.,  93., 252., 150.,  77., 208.,  77., 108., 160.,  53., 220.,\n",
       "        154., 259.,  90., 246., 124.,  67.,  72., 257., 262., 275., 177.,\n",
       "         71.,  47., 187., 125.,  78.,  51., 258., 215., 303., 243.,  91.,\n",
       "        150., 310., 153., 346.,  63.,  89.,  50.,  39., 103., 308., 116.,\n",
       "        145.,  74.,  45., 115., 264.,  87., 202., 127., 182., 241.,  66.,\n",
       "         94., 283.,  64., 102., 200., 265.,  94., 230., 181., 156., 233.,\n",
       "         60., 219.,  80.,  68., 332., 248.,  84., 200.,  55.,  85.,  89.,\n",
       "         31., 129.,  83., 275.,  65., 198., 236., 253., 124.,  44., 172.,\n",
       "        114., 142., 109., 180., 144., 163., 147.,  97., 220., 190., 109.,\n",
       "        191., 122., 230., 242., 248., 249., 192., 131., 237.,  78., 135.,\n",
       "        244., 199., 270., 164.,  72.,  96., 306.,  91., 214.,  95., 216.,\n",
       "        263., 178., 113., 200., 139., 139.,  88., 148.,  88., 243.,  71.,\n",
       "         77., 109., 272.,  60.,  54., 221.,  90., 311., 281., 182., 321.,\n",
       "         58., 262., 206., 233., 242., 123., 167.,  63., 197.,  71., 168.,\n",
       "        140., 217., 121., 235., 245.,  40.,  52., 104., 132.,  88.,  69.,\n",
       "        219.,  72., 201., 110.,  51., 277.,  63., 118.,  69., 273., 258.,\n",
       "         43., 198., 242., 232., 175.,  93., 168., 275., 293., 281.,  72.,\n",
       "        140., 189., 181., 209., 136., 261., 113., 131., 174., 257.,  55.,\n",
       "         84.,  42., 146., 212., 233.,  91., 111., 152., 120.,  67., 310.,\n",
       "         94., 183.,  66., 173.,  72.,  49.,  64.,  48., 178., 104., 132.,\n",
       "        220.,  57.]),\n",
       " 'frame': None,\n",
       " 'DESCR': '.. _diabetes_dataset:\\n\\nDiabetes dataset\\n----------------\\n\\nTen baseline variables, age, sex, body mass index, average blood\\npressure, and six blood serum measurements were obtained for each of n =\\n442 diabetes patients, as well as the response of interest, a\\nquantitative measure of disease progression one year after baseline.\\n\\n**Data Set Characteristics:**\\n\\n:Number of Instances: 442\\n\\n:Number of Attributes: First 10 columns are numeric predictive values\\n\\n:Target: Column 11 is a quantitative measure of disease progression one year after baseline\\n\\n:Attribute Information:\\n    - age     age in years\\n    - sex\\n    - bmi     body mass index\\n    - bp      average blood pressure\\n    - s1      tc, total serum cholesterol\\n    - s2      ldl, low-density lipoproteins\\n    - s3      hdl, high-density lipoproteins\\n    - s4      tch, total cholesterol / HDL\\n    - s5      ltg, possibly log of serum triglycerides level\\n    - s6      glu, blood sugar level\\n\\nNote: Each of these 10 feature variables have been mean centered and scaled by the standard deviation times the square root of `n_samples` (i.e. the sum of squares of each column totals 1).\\n\\nSource URL:\\nhttps://www4.stat.ncsu.edu/~boos/var.select/diabetes.html\\n\\nFor more information see:\\nBradley Efron, Trevor Hastie, Iain Johnstone and Robert Tibshirani (2004) \"Least Angle Regression,\" Annals of Statistics (with discussion), 407-499.\\n(https://web.stanford.edu/~hastie/Papers/LARS/LeastAngle_2002.pdf)\\n',\n",
       " 'feature_names': ['age',\n",
       "  'sex',\n",
       "  'bmi',\n",
       "  'bp',\n",
       "  's1',\n",
       "  's2',\n",
       "  's3',\n",
       "  's4',\n",
       "  's5',\n",
       "  's6'],\n",
       " 'data_filename': 'diabetes_data_raw.csv.gz',\n",
       " 'target_filename': 'diabetes_target.csv.gz',\n",
       " 'data_module': 'sklearn.datasets.data'}"
      ]
     },
     "execution_count": 195,
     "metadata": {},
     "output_type": "execute_result"
    }
   ],
   "source": [
    "data"
   ]
  },
  {
   "cell_type": "code",
   "execution_count": 196,
   "id": "ebe6d37c-a0fd-46ce-bdc9-f489285f97f8",
   "metadata": {},
   "outputs": [
    {
     "data": {
      "text/plain": [
       "array([ 0.03807591,  0.05068012,  0.06169621, ..., -0.03949338,\n",
       "       -0.00422151,  0.00306441])"
      ]
     },
     "execution_count": 196,
     "metadata": {},
     "output_type": "execute_result"
    }
   ],
   "source": [
    "X.flatten()"
   ]
  },
  {
   "cell_type": "code",
   "execution_count": 197,
   "id": "027cf280-9d3c-4207-9ecf-af9db3dacdcb",
   "metadata": {
    "scrolled": true
   },
   "outputs": [
    {
     "data": {
      "text/plain": [
       "array([151.,  75., 141., 206., 135.,  97., 138.,  63., 110., 310., 101.,\n",
       "        69., 179., 185., 118., 171., 166., 144.,  97., 168.,  68.,  49.,\n",
       "        68., 245., 184., 202., 137.,  85., 131., 283., 129.,  59., 341.,\n",
       "        87.,  65., 102., 265., 276., 252.,  90., 100.,  55.,  61.,  92.,\n",
       "       259.,  53., 190., 142.,  75., 142., 155., 225.,  59., 104., 182.,\n",
       "       128.,  52.,  37., 170., 170.,  61., 144.,  52., 128.,  71., 163.,\n",
       "       150.,  97., 160., 178.,  48., 270., 202., 111.,  85.,  42., 170.,\n",
       "       200., 252., 113., 143.,  51.,  52., 210.,  65., 141.,  55., 134.,\n",
       "        42., 111.,  98., 164.,  48.,  96.,  90., 162., 150., 279.,  92.,\n",
       "        83., 128., 102., 302., 198.,  95.,  53., 134., 144., 232.,  81.,\n",
       "       104.,  59., 246., 297., 258., 229., 275., 281., 179., 200., 200.,\n",
       "       173., 180.,  84., 121., 161.,  99., 109., 115., 268., 274., 158.,\n",
       "       107.,  83., 103., 272.,  85., 280., 336., 281., 118., 317., 235.,\n",
       "        60., 174., 259., 178., 128.,  96., 126., 288.,  88., 292.,  71.,\n",
       "       197., 186.,  25.,  84.,  96., 195.,  53., 217., 172., 131., 214.,\n",
       "        59.,  70., 220., 268., 152.,  47.,  74., 295., 101., 151., 127.,\n",
       "       237., 225.,  81., 151., 107.,  64., 138., 185., 265., 101., 137.,\n",
       "       143., 141.,  79., 292., 178.,  91., 116.,  86., 122.,  72., 129.,\n",
       "       142.,  90., 158.,  39., 196., 222., 277.,  99., 196., 202., 155.,\n",
       "        77., 191.,  70.,  73.,  49.,  65., 263., 248., 296., 214., 185.,\n",
       "        78.,  93., 252., 150.,  77., 208.,  77., 108., 160.,  53., 220.,\n",
       "       154., 259.,  90., 246., 124.,  67.,  72., 257., 262., 275., 177.,\n",
       "        71.,  47., 187., 125.,  78.,  51., 258., 215., 303., 243.,  91.,\n",
       "       150., 310., 153., 346.,  63.,  89.,  50.,  39., 103., 308., 116.,\n",
       "       145.,  74.,  45., 115., 264.,  87., 202., 127., 182., 241.,  66.,\n",
       "        94., 283.,  64., 102., 200., 265.,  94., 230., 181., 156., 233.,\n",
       "        60., 219.,  80.,  68., 332., 248.,  84., 200.,  55.,  85.,  89.,\n",
       "        31., 129.,  83., 275.,  65., 198., 236., 253., 124.,  44., 172.,\n",
       "       114., 142., 109., 180., 144., 163., 147.,  97., 220., 190., 109.,\n",
       "       191., 122., 230., 242., 248., 249., 192., 131., 237.,  78., 135.,\n",
       "       244., 199., 270., 164.,  72.,  96., 306.,  91., 214.,  95., 216.,\n",
       "       263., 178., 113., 200., 139., 139.,  88., 148.,  88., 243.,  71.,\n",
       "        77., 109., 272.,  60.,  54., 221.,  90., 311., 281., 182., 321.,\n",
       "        58., 262., 206., 233., 242., 123., 167.,  63., 197.,  71., 168.,\n",
       "       140., 217., 121., 235., 245.,  40.,  52., 104., 132.,  88.,  69.,\n",
       "       219.,  72., 201., 110.,  51., 277.,  63., 118.,  69., 273., 258.,\n",
       "        43., 198., 242., 232., 175.,  93., 168., 275., 293., 281.,  72.,\n",
       "       140., 189., 181., 209., 136., 261., 113., 131., 174., 257.,  55.,\n",
       "        84.,  42., 146., 212., 233.,  91., 111., 152., 120.,  67., 310.,\n",
       "        94., 183.,  66., 173.,  72.,  49.,  64.,  48., 178., 104., 132.,\n",
       "       220.,  57.])"
      ]
     },
     "execution_count": 197,
     "metadata": {},
     "output_type": "execute_result"
    }
   ],
   "source": [
    "y.flatten()"
   ]
  },
  {
   "cell_type": "markdown",
   "id": "8ffaacfe-311a-4369-a02c-b17f9fd66f4e",
   "metadata": {},
   "source": [
    "## Split dan scaling data\n",
    "Membagi data menjadi training set dan test set (contohnya 80:20). Lalu melakukan normalisasi menggunakan `StandardScaler` untuk memastikan semua fitur memiliki skala yang sebanding, sehingga pelatihan ANN lebih stabil."
   ]
  },
  {
   "cell_type": "code",
   "execution_count": 198,
   "id": "099be3e0-0615-41e3-85f2-382fb0923ca3",
   "metadata": {},
   "outputs": [],
   "source": [
    "X_train, X_test, y_train, y_test = train_test_split(X, y, test_size=0.2, random_state=42)\n",
    "scaler = StandardScaler()\n",
    "X_train = scaler.fit_transform(X_train)\n",
    "X_test = scaler.transform(X_test)"
   ]
  },
  {
   "cell_type": "markdown",
   "id": "fffd8e8c-e975-410c-bae7-05b5c8b772cb",
   "metadata": {},
   "source": [
    "## Model ANN untuk regresi\n",
    "Membangun arsitektur jaringan saraf dengan 1 layer input, 2 hidden layer (64 neuron & 32 neuron, aktivasi ReLU), dan 1 neuron output untuk memprediksi nilai kontinu."
   ]
  },
  {
   "cell_type": "code",
   "execution_count": 199,
   "id": "47112ff8-fea3-4dd0-8314-928b14af0deb",
   "metadata": {},
   "outputs": [],
   "source": [
    "model_reg = keras.Sequential([\n",
    "    layers.Input(shape=(X_train.shape[1],)), \n",
    "    layers.Dense(64, activation='relu'),\n",
    "    layers.Dense(32, activation='relu'),\n",
    "    layers.Dense(1)  # output 1 neuron untuk regresi\n",
    "])"
   ]
  },
  {
   "cell_type": "markdown",
   "id": "1d8bf903-5d97-4eb8-b26a-ca6c1c734c07",
   "metadata": {},
   "source": [
    "## Pembelajaran model regresi\n",
    "Melatih model menggunakan optimizer Adam dan loss function MSE. Proses ini menyesuaikan bobot jaringan untuk meminimalkan kesalahan antara prediksi dan target."
   ]
  },
  {
   "cell_type": "code",
   "execution_count": 200,
   "id": "2889a25f-7b76-4ea1-9cf1-d5640882f506",
   "metadata": {},
   "outputs": [],
   "source": [
    "model_reg.compile(optimizer='adam', loss='mse', metrics=['mae'])\n",
    "\n",
    "history_reg = model_reg.fit(X_train, y_train, validation_split=0.2, epochs=100, verbose=0)"
   ]
  },
  {
   "cell_type": "markdown",
   "id": "4cdbdc39-4ad3-42fa-a596-e00b32700572",
   "metadata": {},
   "source": [
    "## Evaluasi\n",
    "Mengevaluasi kinerja model dengan data test untuk melihat kemampuan generalisasi model terhadap data baru."
   ]
  },
  {
   "cell_type": "code",
   "execution_count": 201,
   "id": "c2a199c5-e9ce-45fe-8c9f-55b1739fb3a1",
   "metadata": {},
   "outputs": [],
   "source": [
    "mse, mae = model_reg.evaluate(X_test, y_test, verbose=0)"
   ]
  },
  {
   "cell_type": "code",
   "execution_count": 202,
   "id": "f39ae47d-8d90-4992-b1d1-9dee26612400",
   "metadata": {},
   "outputs": [
    {
     "name": "stdout",
     "output_type": "stream",
     "text": [
      "MSE: 3023.8918, \n",
      "MAE: 43.7518\n"
     ]
    }
   ],
   "source": [
    "print(f\"MSE: {mse:.4f}, \\nMAE: {mae:.4f}\")"
   ]
  },
  {
   "cell_type": "markdown",
   "id": "d0c35d1c-8973-46a3-8cdc-3471e861bef3",
   "metadata": {},
   "source": [
    "* MSE = 3023.89 → rata-rata kuadrat error masih cukup besar, menandakan selisih prediksi terhadap target bervariasi cukup lebar.\n",
    "* MAE = 43.75 → rata-rata prediksi meleset sekitar 43 poin dari nilai target."
   ]
  },
  {
   "cell_type": "markdown",
   "id": "ada52d11-a933-4252-b139-93da5a9f6c9e",
   "metadata": {},
   "source": [
    "## Plot Loss\n",
    "Menampilkan grafik penurunan loss selama epoch pelatihan. Grafik ini menunjukkan bagaimana error menurun seiring bertambahnya iterasi training."
   ]
  },
  {
   "cell_type": "code",
   "execution_count": 203,
   "id": "28179149-a5d4-419b-bcac-e09ee3f732e7",
   "metadata": {},
   "outputs": [
    {
     "data": {
      "image/png": "[encoded data removed]",
      "text/plain": [
       "<Figure size 640x480 with 1 Axes>"
      ]
     },
     "metadata": {},
     "output_type": "display_data"
    }
   ],
   "source": [
    "plt.plot(history_reg.history['loss'], label='Train Loss')\n",
    "plt.plot(history_reg.history['val_loss'], label='Val Loss')\n",
    "plt.title(\"Loss Curve - Regresi\")\n",
    "plt.xlabel(\"Epoch\")\n",
    "plt.ylabel(\"MSE\")\n",
    "plt.legend()\n",
    "plt.show()"
   ]
  },
  {
   "cell_type": "markdown",
   "id": "6c9cb370-aabd-463b-8dbb-fbe570f1b3ed",
   "metadata": {},
   "source": [
    "### Interpretasi\n",
    "* Train Loss dan Val Loss sama-sama menurun tajam pada awal epoch (0–20), menandakan model dengan cepat mempelajari pola dasar data.\n",
    "* Setelah sekitar epoch ke-40, penurunan loss melambat dan mulai stabil, menunjukkan model mendekati konvergensi.\n",
    "* Val Loss sedikit lebih rendah dari Train Loss di sebagian besar epoch, yang bisa terjadi akibat regularization effect dari data validation atau fluktuasi batch.\n",
    "* Tidak terlihat tanda overfitting yang jelas (Val Loss tidak naik di akhir pelatihan), sehingga model cukup stabil"
   ]
  },
  {
   "cell_type": "markdown",
   "id": "ebb2d5ad-c52e-490e-a553-95c5b3f71c16",
   "metadata": {},
   "source": [
    "## Prediksi"
   ]
  },
  {
   "cell_type": "code",
   "execution_count": 204,
   "id": "45ff5024-b544-4814-bda9-11bb6e3bf5ca",
   "metadata": {},
   "outputs": [
    {
     "name": "stdout",
     "output_type": "stream",
     "text": [
      "\u001b[1m3/3\u001b[0m \u001b[32m━━━━━━━━━━━━━━━━━━━━\u001b[0m\u001b[37m\u001b[0m \u001b[1m0s\u001b[0m 30ms/step\n"
     ]
    }
   ],
   "source": [
    "y_pred_test = model_reg.predict(X_test)"
   ]
  },
  {
   "cell_type": "markdown",
   "id": "4e157fab-41cd-4d80-b797-726be4353478",
   "metadata": {},
   "source": [
    "## Metriks evaluasi"
   ]
  },
  {
   "cell_type": "code",
   "execution_count": 205,
   "id": "923476c4-9a8d-4753-ac11-a17056ebbce7",
   "metadata": {},
   "outputs": [],
   "source": [
    "mse_test = mean_squared_error(y_test, y_pred_test)\n",
    "mae_test = mean_absolute_error(y_test, y_pred_test)\n",
    "mape_test = mean_absolute_percentage_error(y_test, y_pred_test)\n",
    "r2_test = r2_score(y_test, y_pred_test)"
   ]
  },
  {
   "cell_type": "code",
   "execution_count": 206,
   "id": "102cc12d-e3d6-47db-8891-55fa91c8c1ab",
   "metadata": {},
   "outputs": [
    {
     "name": "stdout",
     "output_type": "stream",
     "text": [
      "MSE Test : 3023.8919\n",
      "MAE Test : 43.7518\n",
      "MAPE Test: 0.38%\n",
      "R² Test  : 0.4293\n"
     ]
    }
   ],
   "source": [
    "print(f\"MSE Test : {mse_test:.4f}\")\n",
    "print(f\"MAE Test : {mae_test:.4f}\")\n",
    "print(f\"MAPE Test: {mape_test:.2f}%\")\n",
    "print(f\"R² Test  : {r2_test:.4f}\")"
   ]
  },
  {
   "cell_type": "markdown",
   "id": "aeb6cb1e-9d6f-445c-9b3e-716902043be7",
   "metadata": {},
   "source": [
    "### Interpretasi\n",
    "* MSE = 3023.89 → rata-rata kuadrat error cukup besar, menunjukkan prediksi masih sering meleset jauh dari target pada skala dataset diabetes.\n",
    "* MAE = 43.75 → rata-rata prediksi meleset sekitar 43 poin dari nilai target sebenarnya.\n",
    "* MAPE = 0.38% → persentase error relatif terhadap nilai target sangat kecil; ini tampaknya tidak konsisten dengan besarnya MAE, kemungkinan karena nilai target di dataset memiliki skala besar sehingga persen error terlihat kecil.\n",
    "* R² = 0.4293 → model hanya mampu menjelaskan sekitar 42.93% variasi data, sisanya tidak terjelaskan oleh model."
   ]
  },
  {
   "cell_type": "markdown",
   "id": "3eddba11-8af0-41bf-ae7b-7166d6ac59f6",
   "metadata": {},
   "source": [
    "## Tabel perbandingan target vs prediksi\n",
    "Membuat tabel yang membandingkan nilai target sebenarnya dengan hasil prediksi, dilengkapi error"
   ]
  },
  {
   "cell_type": "code",
   "execution_count": 207,
   "id": "e78f455a-e7c8-4dfe-a32e-d1f9354dca38",
   "metadata": {},
   "outputs": [],
   "source": [
    "df_eval = pd.DataFrame({\n",
    "    'y_target': y_test,\n",
    "    'y_prediksi': y_pred_test.flatten(),\n",
    "    'error': y_test - y_pred_test.flatten(),\n",
    "})"
   ]
  },
  {
   "cell_type": "code",
   "execution_count": 208,
   "id": "c312de71-1085-4e81-b195-c191cce8b0d9",
   "metadata": {
    "scrolled": true
   },
   "outputs": [
    {
     "data": {
      "text/html": [
       "<div>\n",
       "<style scoped>\n",
       "    .dataframe tbody tr th:only-of-type {\n",
       "        vertical-align: middle;\n",
       "    }\n",
       "\n",
       "    .dataframe tbody tr th {\n",
       "        vertical-align: top;\n",
       "    }\n",
       "\n",
       "    .dataframe thead th {\n",
       "        text-align: right;\n",
       "    }\n",
       "</style>\n",
       "<table border=\"1\" class=\"dataframe\">\n",
       "  <thead>\n",
       "    <tr style=\"text-align: right;\">\n",
       "      <th></th>\n",
       "      <th>y_target</th>\n",
       "      <th>y_prediksi</th>\n",
       "      <th>error</th>\n",
       "    </tr>\n",
       "  </thead>\n",
       "  <tbody>\n",
       "    <tr>\n",
       "      <th>0</th>\n",
       "      <td>219.0</td>\n",
       "      <td>163.102875</td>\n",
       "      <td>55.897125</td>\n",
       "    </tr>\n",
       "    <tr>\n",
       "      <th>1</th>\n",
       "      <td>70.0</td>\n",
       "      <td>199.191238</td>\n",
       "      <td>-129.191238</td>\n",
       "    </tr>\n",
       "    <tr>\n",
       "      <th>2</th>\n",
       "      <td>202.0</td>\n",
       "      <td>146.535339</td>\n",
       "      <td>55.464661</td>\n",
       "    </tr>\n",
       "    <tr>\n",
       "      <th>3</th>\n",
       "      <td>230.0</td>\n",
       "      <td>334.952484</td>\n",
       "      <td>-104.952484</td>\n",
       "    </tr>\n",
       "    <tr>\n",
       "      <th>4</th>\n",
       "      <td>111.0</td>\n",
       "      <td>86.956696</td>\n",
       "      <td>24.043304</td>\n",
       "    </tr>\n",
       "  </tbody>\n",
       "</table>\n",
       "</div>"
      ],
      "text/plain": [
       "   y_target  y_prediksi       error\n",
       "0     219.0  163.102875   55.897125\n",
       "1      70.0  199.191238 -129.191238\n",
       "2     202.0  146.535339   55.464661\n",
       "3     230.0  334.952484 -104.952484\n",
       "4     111.0   86.956696   24.043304"
      ]
     },
     "execution_count": 208,
     "metadata": {},
     "output_type": "execute_result"
    }
   ],
   "source": [
    "df_eval.head()"
   ]
  },
  {
   "cell_type": "markdown",
   "id": "079c38b9-a78d-4f68-9594-39cab438bb37",
   "metadata": {},
   "source": [
    "### Interpretasi\n",
    "Model menghasilkan error yang cukup besar di beberapa titik, baik overestimate maupun underestimate, yang menunjukkan bahwa prediksi belum stabil di seluruh rentang nilai target. Ada indikasi model masih kesulitan menangkap pola pada nilai ekstrem (sangat tinggi atau sangat rendah)."
   ]
  },
  {
   "cell_type": "markdown",
   "id": "bbacf9a6-2dfe-402b-b19e-d80752061fde",
   "metadata": {},
   "source": [
    "## Plot prediksi vs target\n",
    "Membuat scatter plot antara nilai target dan nilai prediksi. Garis diagonal merah menunjukkan prediksi sempurna. Semakin dekat titik-titik ke garis ini, semakin baik akurasi model."
   ]
  },
  {
   "cell_type": "code",
   "execution_count": 209,
   "id": "3e06d684-34ec-47e9-8759-2d9868e8f490",
   "metadata": {},
   "outputs": [
    {
     "data": {
      "image/png": "[encoded data removed]",
      "text/plain": [
       "<Figure size 600x400 with 1 Axes>"
      ]
     },
     "metadata": {},
     "output_type": "display_data"
    }
   ],
   "source": [
    "plt.figure(figsize=(6, 4))\n",
    "plt.scatter(y_test, y_pred_test, color='blue')\n",
    "plt.plot([y_test.min(), y_test.max()], [y_test.min(), y_test.max()], 'r--')\n",
    "plt.xlabel('Target')\n",
    "plt.ylabel('Prediksi')\n",
    "plt.title('Prediksi vs Target (Diabetes)')\n",
    "plt.show()"
   ]
  },
  {
   "cell_type": "markdown",
   "id": "12e47875-603e-4205-901d-4be3dda4542f",
   "metadata": {},
   "source": [
    "### Interpretasi\n",
    "* Garis merah putus-putus adalah garis ideal di mana prediksi = target (error = 0).\\\n",
    "  Semakin dekat titik biru ke garis ini, semakin akurat model.\n",
    "* Sebagian besar titik berada di sekitar garis, tetapi banyak juga yang menyebar cukup jauh, terutama di area nilai target yang tinggi dan rendah, menandakan error yang besar pada ekstrem data.\n",
    "* Penyebaran titik yang cukup lebar menunjukkan bahwa model belum mampu memetakan hubungan input-output secara presisi.\n",
    "* Ada indikasi bahwa model cenderung mengompresi rentang prediksi (nilai rendah diprediksi agak terlalu tinggi, nilai tinggi diprediksi agak terlalu rendah), pola umum pada model regresi yang underfitting."
   ]
  },
  {
   "cell_type": "code",
   "execution_count": 210,
   "id": "63525cfb-7491-4dc4-89e7-9509b4d38816",
   "metadata": {},
   "outputs": [
    {
     "data": {
      "image/png": "[encoded data removed]",
      "text/plain": [
       "<Figure size 800x500 with 1 Axes>"
      ]
     },
     "metadata": {},
     "output_type": "display_data"
    }
   ],
   "source": [
    "plt.figure(figsize=(8, 5))\n",
    "plt.scatter(range(len(y_test)), y_test, color='blue', label='Target', alpha=0.7)\n",
    "plt.scatter(range(len(y_pred_test)), y_pred_test, color='red', label='Prediksi', alpha=0.7)\n",
    "plt.xlabel('Index Data')\n",
    "plt.ylabel('y')\n",
    "plt.title('Prediksi vs Target (Diabetes)')\n",
    "plt.legend()\n",
    "plt.show()"
   ]
  },
  {
   "cell_type": "markdown",
   "id": "165d6675-2e4c-41fd-9d42-5b9f83b29a79",
   "metadata": {},
   "source": [
    "### Interpretasi\n",
    "* Pola titik merah cenderung mengikuti tren umum titik biru, artinya model menangkap sebagian hubungan antara fitur dan target.\n",
    "* Namun, terdapat penyebaran yang cukup besar antara nilai prediksi dan target di banyak titik, terutama pada nilai target yang sangat tinggi atau sangat rendah, ini mengindikasikan adanya error prediksi yang signifikan pada sebagian data.\n",
    "* Titik merah sering kali berada di tengah rentang nilai, yang menandakan model underfitting yaitu prediksi “tertarik” ke nilai rata-rata daripada benar-benar mengikuti variasi ekstrim pada data.\n",
    "* Secara visual, prediksi terlihat lebih “rapat” dibandingkan sebaran target yang lebih luas, memperkuat dugaan bahwa model kurang mampu memprediksi kasus ekstrem."
   ]
  },
  {
   "cell_type": "markdown",
   "id": "698fa199-04c0-4828-8419-711ea9804b0f",
   "metadata": {},
   "source": [
    "# ANN dengan Keras - Klasifikasi Binary (Dataset: make_moons)\n",
    "Membangun model artificial neural network sederhana untuk memisahkan dua kelas pada dataset sintetis make_moons, yang memiliki pola distribusi melengkung dan saling berbelit."
   ]
  },
  {
   "cell_type": "markdown",
   "id": "0021612e-a921-49e6-9dca-5d74526bf680",
   "metadata": {},
   "source": [
    "## Load dataset\n",
    "Menghasilkan dataset sintetis dua dimensi menggunakan `make_moons` dari `sklearn.datasets` dengan parameter noise untuk menambah variasi data."
   ]
  },
  {
   "cell_type": "code",
   "execution_count": 211,
   "id": "df666be2-6e18-4be3-8d26-712a47f867f5",
   "metadata": {},
   "outputs": [],
   "source": [
    "X, y = make_moons(n_samples=1000, noise=0.2, random_state=42)"
   ]
  },
  {
   "cell_type": "markdown",
   "id": "6ae15a91-099b-4b70-9080-b6629c440e27",
   "metadata": {},
   "source": [
    "## Split data\n",
    "Membagi data menjadi set training dan set testing agar model dapat diuji pada data yang belum pernah dilihat sebelumnya."
   ]
  },
  {
   "cell_type": "code",
   "execution_count": 212,
   "id": "d341f480-6d9a-4d18-857c-62842032bf57",
   "metadata": {},
   "outputs": [],
   "source": [
    "X_train, X_test, y_train, y_test = train_test_split(X, y, test_size=0.2, random_state=42)"
   ]
  },
  {
   "cell_type": "markdown",
   "id": "ece47efc-b96c-48f4-8395-99e31634c9d1",
   "metadata": {},
   "source": [
    "## Scaling data\n",
    "Menormalkan fitur menggunakan `StandardScaler` agar setiap fitur memiliki skala yang sebanding, membantu konvergensi pelatihan model."
   ]
  },
  {
   "cell_type": "code",
   "execution_count": 213,
   "id": "8f94232f-4f32-4613-9acd-5c4d43fb2f6d",
   "metadata": {},
   "outputs": [],
   "source": [
    "scaler = StandardScaler()\n",
    "X_train = scaler.fit_transform(X_train)\n",
    "X_test = scaler.transform(X_test)"
   ]
  },
  {
   "cell_type": "markdown",
   "id": "87ce2f18-299f-4be3-81fd-adc945e766c8",
   "metadata": {},
   "source": [
    "## Model klasifikasi biner\n",
    "Menyusun arsitektur ANN menggunakan Keras Sequential dengan dua hidden layer beraktivasi ReLU dan satu output layer beraktivasi sigmoid untuk menghasilkan probabilitas kelas."
   ]
  },
  {
   "cell_type": "code",
   "execution_count": 214,
   "id": "40cfecfa-0e0b-4c19-ab84-63cab21eb95a",
   "metadata": {},
   "outputs": [],
   "source": [
    "model_clf_bin = keras.Sequential([\n",
    "    layers.Input(shape=(X_train.shape[1],)), \n",
    "    layers.Dense(64, activation='relu'),\n",
    "    layers.Dense(32, activation='relu'),\n",
    "    layers.Dense(1, activation='sigmoid')\n",
    "])"
   ]
  },
  {
   "cell_type": "markdown",
   "id": "ecaf0ed7-6a2c-422e-8fd1-f070faced37d",
   "metadata": {},
   "source": [
    "## Pembelajaran model klasifikasi\n",
    "Melatih model menggunakan binary crossentropy sebagai fungsi loss dan Adam optimizer, sambil memantau akurasi pada data validasi di setiap epoch."
   ]
  },
  {
   "cell_type": "code",
   "execution_count": 215,
   "id": "b7fb6706-bc92-46f2-967f-bea33aead557",
   "metadata": {},
   "outputs": [],
   "source": [
    "model_clf_bin.compile(optimizer='adam', loss='binary_crossentropy', metrics=['accuracy'])\n",
    "\n",
    "history_bin = model_clf_bin.fit(X_train, y_train, validation_split=0.2, epochs=100, verbose=0)"
   ]
  },
  {
   "cell_type": "markdown",
   "id": "59a12f70-1815-485a-828e-032726783a2e",
   "metadata": {},
   "source": [
    "## Evaluasi\n",
    "Menghitung nilai loss dan akurasi pada data testing untuk menilai performa model setelah pembelajaran."
   ]
  },
  {
   "cell_type": "code",
   "execution_count": 216,
   "id": "5cc1615d-46f6-439e-98c4-6fdf5f59aa95",
   "metadata": {},
   "outputs": [
    {
     "name": "stdout",
     "output_type": "stream",
     "text": [
      "Akurasi: 0.9750\n"
     ]
    }
   ],
   "source": [
    "loss, acc = model_clf_bin.evaluate(X_test, y_test, verbose=0)\n",
    "print(f\"Akurasi: {acc:.4f}\")"
   ]
  },
  {
   "cell_type": "markdown",
   "id": "9c8682a6-fa6c-4dec-9bad-0eb04fa93e0f",
   "metadata": {},
   "source": [
    "### Interpretasi\n",
    "Akurasi 0.9750 berarti model mampu mengklasifikasikan data uji dengan benar sebesar 97,5%, menunjukkan kinerja yang sangat baik pada dataset ini."
   ]
  },
  {
   "cell_type": "markdown",
   "id": "e7737df3-a3c8-4bfc-b927-5029edb24d1c",
   "metadata": {},
   "source": [
    "## Plot akurasi\n",
    "Menampilkan grafik perkembangan akurasi pelatihan dan validasi per epoch untuk melihat stabilitas dan tren pembelajaran."
   ]
  },
  {
   "cell_type": "code",
   "execution_count": 217,
   "id": "578ab5ca-0a7c-4533-b946-800bc52c86a7",
   "metadata": {},
   "outputs": [
    {
     "data": {
      "image/png": "[encoded data removed]",
      "text/plain": [
       "<Figure size 640x480 with 1 Axes>"
      ]
     },
     "metadata": {},
     "output_type": "display_data"
    }
   ],
   "source": [
    "plt.plot(history_bin.history['accuracy'], label='Train Acc')\n",
    "plt.plot(history_bin.history['val_accuracy'], label='Val Acc')\n",
    "plt.title(\"Accuracy Curve - Binary Classification\")\n",
    "plt.xlabel(\"Epoch\")\n",
    "plt.ylabel(\"Accuracy\")\n",
    "plt.legend()\n",
    "plt.show()"
   ]
  },
  {
   "cell_type": "markdown",
   "id": "5eba3db4-250d-42ea-805c-e7fc38f74815",
   "metadata": {},
   "source": [
    "### Interpretasi\n",
    "* Kurva akurasi menunjukkan bahwa model klasifikasi biner ini mengalami peningkatan performa yang konsisten pada awal pelatihan, di mana akurasi training dan validasi sama-sama naik tajam hingga sekitar epoch ke-20.\n",
    "* Setelah itu, keduanya mendekati nilai ~98% dan stabil, dengan garis training (biru) dan validasi (oranye) hampir tumpang tindih. Kondisi ini mengindikasikan model mampu belajar dengan baik tanpa gejala overfitting yang signifikan, karena performa pada data validasi tidak menurun walaupun pelatihan berlanjut hingga epoch ke-100.\n",
    "* Secara umum, ini menunjukkan bahwa arsitektur dan hyperparameter yang digunakan sudah efektif untuk memisahkan kelas pada dataset make_moons dengan tingkat kesalahan yang sangat rendah."
   ]
  },
  {
   "cell_type": "markdown",
   "id": "218acbef-ecaf-4129-be21-587852f77ea8",
   "metadata": {},
   "source": [
    "## Prediksi\n",
    "Menghasilkan probabilitas prediksi pada data testing, lalu mengubahnya menjadi label biner (0 atau 1) berdasarkan ambang batas 0.5."
   ]
  },
  {
   "cell_type": "code",
   "execution_count": 218,
   "id": "a51f5f0e-afc2-4927-98e7-b2db1fa9cf4c",
   "metadata": {},
   "outputs": [
    {
     "name": "stdout",
     "output_type": "stream",
     "text": [
      "\u001b[1m7/7\u001b[0m \u001b[32m━━━━━━━━━━━━━━━━━━━━\u001b[0m\u001b[37m\u001b[0m \u001b[1m0s\u001b[0m 13ms/step\n"
     ]
    }
   ],
   "source": [
    "y_pred_prob = model_clf_bin.predict(X_test)\n",
    "y_pred = (y_pred_prob > 0.5).astype(int).flatten()"
   ]
  },
  {
   "cell_type": "code",
   "execution_count": 219,
   "id": "75a0d0df-984b-433e-81f4-99f615c43bc3",
   "metadata": {},
   "outputs": [
    {
     "data": {
      "text/plain": [
       "array([1, 0, 1, 0, 1, 1, 0, 0, 1, 0, 0, 1, 0, 1, 0, 1, 1, 0, 1, 0, 0, 0,\n",
       "       1, 0, 0, 0, 0, 0, 0, 1, 1, 0, 0, 1, 0, 1, 1, 1, 1, 1, 1, 1, 1, 0,\n",
       "       0, 1, 0, 0, 1, 1, 0, 0, 0, 0, 1, 0, 1, 1, 1, 0, 1, 0, 0, 1, 1, 1,\n",
       "       1, 0, 0, 0, 1, 0, 0, 1, 1, 1, 1, 0, 0, 0, 0, 1, 0, 1, 1, 1, 0, 0,\n",
       "       0, 0, 1, 1, 1, 1, 1, 0, 1, 1, 0, 1, 0, 0, 1, 1, 0, 0, 1, 0, 0, 1,\n",
       "       1, 1, 0, 1, 1, 0, 0, 0, 1, 0, 1, 0, 0, 1, 1, 0, 1, 1, 0, 1, 1, 0,\n",
       "       1, 0, 0, 0, 1, 0, 0, 1, 0, 0, 0, 1, 0, 0, 1, 0, 1, 0, 1, 0, 1, 0,\n",
       "       1, 1, 1, 0, 0, 1, 0, 1, 1, 0, 1, 0, 1, 0, 0, 1, 1, 1, 1, 0, 0, 0,\n",
       "       0, 1, 1, 0, 0, 1, 0, 1, 1, 0, 0, 0, 1, 1, 0, 1, 1, 0, 1, 0, 1, 0,\n",
       "       0, 1])"
      ]
     },
     "execution_count": 219,
     "metadata": {},
     "output_type": "execute_result"
    }
   ],
   "source": [
    "y_pred"
   ]
  },
  {
   "cell_type": "markdown",
   "id": "e689c8c3-8306-4d62-a5d2-38e72193ece4",
   "metadata": {},
   "source": [
    "## Metriks evaluasi\n",
    "Menghitung metrik akurasi, presisi, recall, dan F1-score untuk menilai kinerja model secara kuantitatif."
   ]
  },
  {
   "cell_type": "code",
   "execution_count": 220,
   "id": "93662fd3-47a6-4699-8172-8ba119b2b822",
   "metadata": {},
   "outputs": [],
   "source": [
    "acc = accuracy_score(y_test, y_pred)\n",
    "prec = precision_score(y_test, y_pred)\n",
    "rec = recall_score(y_test, y_pred)\n",
    "f1 = f1_score(y_test, y_pred)"
   ]
  },
  {
   "cell_type": "code",
   "execution_count": 221,
   "id": "9aaeb75a-9b41-4705-910c-dc95c769ef53",
   "metadata": {},
   "outputs": [
    {
     "name": "stdout",
     "output_type": "stream",
     "text": [
      "Akurasi     : 0.9750\n",
      "Precision   : 0.9798\n",
      "Recall      : 0.9700\n",
      "F1-score    : 0.9749\n"
     ]
    }
   ],
   "source": [
    "print(f\"Akurasi     : {acc:.4f}\")\n",
    "print(f\"Precision   : {prec:.4f}\")\n",
    "print(f\"Recall      : {rec:.4f}\")\n",
    "print(f\"F1-score    : {f1:.4f}\")"
   ]
  },
  {
   "cell_type": "markdown",
   "id": "21d5b604-472e-4e24-a29c-8601cbb60d4d",
   "metadata": {},
   "source": [
    "### Interpretasi\n",
    "* Akurasi 97,50% menunjukkan bahwa hampir seluruh data uji (97,5 dari setiap 100 sampel) diklasifikasikan dengan benar. Ini mencerminkan kemampuan generalisasi model yang baik terhadap data yang belum pernah dilihat.\n",
    "* Precision 97,98% berarti dari semua prediksi positif yang dihasilkan model, hanya sekitar 2% yang salah. Ini sangat penting jika kesalahan positif (false positive) berisiko tinggi, karena model jarang memberi \"alarm palsu\".\n",
    "* Recall 97,00% mengindikasikan bahwa model berhasil menangkap hampir semua kasus positif yang sebenarnya ada di data, hanya kehilangan sekitar 3% dari total kasus positif. Ini krusial dalam konteks di mana kehilangan kasus positif lebih berbahaya.\n",
    "* F1-score 97,49% berada hampir setara dengan precision dan recall, menandakan bahwa tidak ada ketimpangan signifikan di antara keduanya, dan model menjaga keseimbangan antara menghindari false positive dan false negative."
   ]
  },
  {
   "cell_type": "markdown",
   "id": "7f281f5a-61a3-48b5-8a57-2d2ae9cabd86",
   "metadata": {},
   "source": [
    "## Tabel perbandingan target vs prediksi\n",
    "Menampilkan perbandingan antara label sebenarnya dan label prediksi untuk sampel data testing guna melihat kesesuaian hasil."
   ]
  },
  {
   "cell_type": "code",
   "execution_count": 222,
   "id": "adcdc2b8-fdc5-490d-b126-e1fa5a72fb11",
   "metadata": {},
   "outputs": [],
   "source": [
    "df_eval = pd.DataFrame({\n",
    "    'y_target': y_test,\n",
    "    'y_prediksi': y_pred,\n",
    "    'prob_prediksi': y_pred_prob.flatten()\n",
    "})"
   ]
  },
  {
   "cell_type": "code",
   "execution_count": 223,
   "id": "20a85486-7996-481f-8ba9-b10b70aac723",
   "metadata": {},
   "outputs": [
    {
     "data": {
      "text/html": [
       "<div>\n",
       "<style scoped>\n",
       "    .dataframe tbody tr th:only-of-type {\n",
       "        vertical-align: middle;\n",
       "    }\n",
       "\n",
       "    .dataframe tbody tr th {\n",
       "        vertical-align: top;\n",
       "    }\n",
       "\n",
       "    .dataframe thead th {\n",
       "        text-align: right;\n",
       "    }\n",
       "</style>\n",
       "<table border=\"1\" class=\"dataframe\">\n",
       "  <thead>\n",
       "    <tr style=\"text-align: right;\">\n",
       "      <th></th>\n",
       "      <th>y_target</th>\n",
       "      <th>y_prediksi</th>\n",
       "      <th>prob_prediksi</th>\n",
       "    </tr>\n",
       "  </thead>\n",
       "  <tbody>\n",
       "    <tr>\n",
       "      <th>0</th>\n",
       "      <td>1</td>\n",
       "      <td>1</td>\n",
       "      <td>0.988182</td>\n",
       "    </tr>\n",
       "    <tr>\n",
       "      <th>1</th>\n",
       "      <td>0</td>\n",
       "      <td>0</td>\n",
       "      <td>0.000937</td>\n",
       "    </tr>\n",
       "    <tr>\n",
       "      <th>2</th>\n",
       "      <td>1</td>\n",
       "      <td>1</td>\n",
       "      <td>0.997832</td>\n",
       "    </tr>\n",
       "    <tr>\n",
       "      <th>3</th>\n",
       "      <td>0</td>\n",
       "      <td>0</td>\n",
       "      <td>0.000107</td>\n",
       "    </tr>\n",
       "    <tr>\n",
       "      <th>4</th>\n",
       "      <td>1</td>\n",
       "      <td>1</td>\n",
       "      <td>0.999996</td>\n",
       "    </tr>\n",
       "  </tbody>\n",
       "</table>\n",
       "</div>"
      ],
      "text/plain": [
       "   y_target  y_prediksi  prob_prediksi\n",
       "0         1           1       0.988182\n",
       "1         0           0       0.000937\n",
       "2         1           1       0.997832\n",
       "3         0           0       0.000107\n",
       "4         1           1       0.999996"
      ]
     },
     "execution_count": 223,
     "metadata": {},
     "output_type": "execute_result"
    }
   ],
   "source": [
    "df_eval.head()"
   ]
  },
  {
   "cell_type": "markdown",
   "id": "67305f6a-36a7-4a99-a681-0dd3c5b6bb2d",
   "metadata": {},
   "source": [
    "## Classification report\n",
    "Menyajikan ringkasan metrik evaluasi per kelas, termasuk presisi, recall, F1-score, dan jumlah sampel tiap kelas."
   ]
  },
  {
   "cell_type": "code",
   "execution_count": 224,
   "id": "bbc7e7dd-f10a-434d-a9f0-de0cc9a5cc25",
   "metadata": {},
   "outputs": [
    {
     "name": "stdout",
     "output_type": "stream",
     "text": [
      "\n",
      "Classification Report:\n",
      "              precision    recall  f1-score   support\n",
      "\n",
      "           0       0.97      0.98      0.98       100\n",
      "           1       0.98      0.97      0.97       100\n",
      "\n",
      "    accuracy                           0.97       200\n",
      "   macro avg       0.98      0.97      0.97       200\n",
      "weighted avg       0.98      0.97      0.97       200\n",
      "\n"
     ]
    }
   ],
   "source": [
    "print(\"\\nClassification Report:\")\n",
    "print(classification_report(y_test, y_pred))"
   ]
  },
  {
   "cell_type": "markdown",
   "id": "86dcec63-7f43-4a43-81d7-f53e6d2ed821",
   "metadata": {},
   "source": [
    "### Interpretasi\n",
    "* Kelas 0 → precision 0,97 dan recall 0,98 berarti model jarang salah saat memprediksi 0 dan mampu menangkap hampir semua data kelas 0 yang sebenarnya.\n",
    "* Kelas 1 → precision 0,98 dan recall 0,97 menunjukkan hasil yang setara, hanya terbalik sedikit dari kelas 0.\n",
    "* Akurasi total 97% memperlihatkan bahwa dari 200 data uji, hanya sekitar 6 data yang salah klasifikasi.\n",
    "* Macro average dan weighted average hampir identik (≈0,98 precision, 0,97 recall, 0,97 F1), yang menandakan distribusi data antar kelas seimbang dan performa model konsisten di keduanya.\n",
    "* Singkatnya, model tidak bias terhadap salah satu kelas dan mampu memberikan prediksi yang tepat serta seimbang dengan tingkat kesalahan yang sangat rendah."
   ]
  },
  {
   "cell_type": "markdown",
   "id": "5257931b-1bb0-41c1-9c08-7b5e143fa03a",
   "metadata": {},
   "source": [
    "## Confusion matrix\n",
    "Menunjukkan jumlah prediksi benar dan salah untuk tiap kelas dalam bentuk matriks, serta divisualisasikan dalam bentuk heatmap untuk memudahkan interpretasi."
   ]
  },
  {
   "cell_type": "code",
   "execution_count": 227,
   "id": "85d4398b-9d65-4479-96a9-4f0dc00dc5ef",
   "metadata": {},
   "outputs": [
    {
     "name": "stdout",
     "output_type": "stream",
     "text": [
      "\n",
      "Confusion Matrix:\n",
      "[[98  2]\n",
      " [ 3 97]]\n"
     ]
    }
   ],
   "source": [
    "cm = confusion_matrix(y_test, y_pred)\n",
    "print(\"\\nConfusion Matrix:\")\n",
    "print(cm)"
   ]
  },
  {
   "cell_type": "code",
   "execution_count": 226,
   "id": "97ae7a8f-078c-407f-bdad-e7182938b5b7",
   "metadata": {},
   "outputs": [
    {
     "data": {
      "image/png": "[encoded data removed]",
      "text/plain": [
       "<Figure size 500x400 with 1 Axes>"
      ]
     },
     "metadata": {},
     "output_type": "display_data"
    }
   ],
   "source": [
    "plt.figure(figsize=(5,4))\n",
    "sns.heatmap(cm, annot=True, fmt='d', cmap='Blues', cbar=False)\n",
    "plt.xlabel(\"Prediksi\")\n",
    "plt.ylabel(\"Target\")\n",
    "plt.title(\"Confusion Matrix (Heatmap)\")\n",
    "plt.show()"
   ]
  },
  {
   "cell_type": "markdown",
   "id": "ff447f6e-0118-41d0-b827-08972df083fb",
   "metadata": {},
   "source": [
    "### Interpretasi\n",
    "* Dari 100 data kelas 0 yang sebenarnya, 98 diprediksi benar sebagai kelas 0 (True Negative), dan 2 salah diprediksi sebagai kelas 1 (False Positive).\n",
    "* Dari 100 data kelas 1 yang sebenarnya, 97 diprediksi benar sebagai kelas 1 (True Positive), dan 3 salah diprediksi sebagai kelas 0 (False Negative).\n",
    "* Artinya, model sangat akurat, hanya membuat 5 kesalahan dari total 200 prediksi, dan kesalahan tersebut terbagi merata antar kelas, sehingga tidak ada indikasi bias yang signifikan."
   ]
  },
  {
   "cell_type": "markdown",
   "id": "a1fada66-73e6-458c-bb2f-ccbfd87983c7",
   "metadata": {},
   "source": [
    "## Decision Boundary\n",
    "Memvisualisasikan area klasifikasi yang dipelajari model, di mana setiap warna mewakili prediksi kelas tertentu, sehingga terlihat batas pemisah antar kelas dan distribusi titik data sebenarnya."
   ]
  },
  {
   "cell_type": "code",
   "execution_count": 228,
   "id": "9b4a3d64-2aec-45a6-a165-c9d3d830df0c",
   "metadata": {},
   "outputs": [
    {
     "name": "stdout",
     "output_type": "stream",
     "text": [
      "\u001b[1m5460/5460\u001b[0m \u001b[32m━━━━━━━━━━━━━━━━━━━━\u001b[0m\u001b[37m\u001b[0m \u001b[1m5s\u001b[0m 826us/step\n"
     ]
    },
    {
     "data": {
      "image/png": "[encoded data removed]",
      "text/plain": [
       "<Figure size 600x500 with 1 Axes>"
      ]
     },
     "metadata": {},
     "output_type": "display_data"
    }
   ],
   "source": [
    "x_min, x_max = X[:,0].min() - 0.5, X[:,0].max() + 0.5\n",
    "y_min, y_max = X[:,1].min() - 0.5, X[:,1].max() + 0.5\n",
    "xx, yy = np.meshgrid(np.arange(x_min, x_max, 0.01),\n",
    "                     np.arange(y_min, y_max, 0.01))\n",
    "\n",
    "Z = model_clf_bin.predict(scaler.transform(np.c_[xx.ravel(), yy.ravel()]))\n",
    "Z = (Z > 0.5).astype(int).reshape(xx.shape)\n",
    "\n",
    "plt.figure(figsize=(6,5))\n",
    "plt.contourf(xx, yy, Z, cmap=plt.cm.Pastel1, alpha=0.8)\n",
    "plt.scatter(X_test[:,0], X_test[:,1], c=y_test, cmap=plt.cm.coolwarm, edgecolors='k')\n",
    "plt.title(\"Decision Boundary ANN (Binary Classification)\")\n",
    "plt.xlabel(\"Fitur 1\")\n",
    "plt.ylabel(\"Fitur 2\")\n",
    "plt.show()"
   ]
  },
  {
   "cell_type": "markdown",
   "id": "45544ac1-def5-4b84-9ef3-31e7cc08bfc9",
   "metadata": {},
   "source": [
    "### Interpretasi\n",
    "* Plot ini memperlihatkan bagaimana model ANN Keras memisahkan dua kelas pada dataset make_moons.\n",
    "* Warna latar merah muda menunjukkan area yang diprediksi sebagai kelas 1, sedangkan warna abu-abu muda menunjukkan area yang diprediksi sebagai kelas 0.\n",
    "* Titik biru mewakili target kelas 0, dan titik merah gelap mewakili target kelas 1.\n",
    "* Batas keputusan terlihat melengkung dan mengikuti pola data, menunjukkan kemampuan ANN menangkap hubungan non-linear.\n",
    "* Meski sebagian besar titik berada di area yang benar, terdapat beberapa titik yang jatuh di area kelas lawan, menandakan adanya kesalahan prediksi terutama di dekat batas keputusan.\n",
    "* Hal ini wajar mengingat distribusi data make_moons yang saling berbelit dan tumpang tindih."
   ]
  },
  {
   "cell_type": "markdown",
   "id": "df116172-79ef-4e50-9a36-cb5787f0951b",
   "metadata": {},
   "source": [
    "# ANN dengan Keras - Klasifikasi Multi-Class (Dataset: Iris)\n",
    "Membuat model jaringan saraf tiruan berbasis Keras untuk mengklasifikasikan bunga iris menjadi tiga spesies berdasarkan fitur panjang dan lebar kelopak serta sepal."
   ]
  },
  {
   "cell_type": "markdown",
   "id": "277b87f1-f609-4674-9465-90578a8996bb",
   "metadata": {},
   "source": [
    "## Load dataset\n",
    "Memuat dataset Iris yang tersedia di scikit-learn, berisi 150 sampel dengan 4 fitur numerik dan label kelas 0, 1, atau 2."
   ]
  },
  {
   "cell_type": "code",
   "execution_count": 2,
   "id": "e8ff6569-af96-4ae4-8e0a-966d3b0b267d",
   "metadata": {},
   "outputs": [],
   "source": [
    "iris = load_iris()\n",
    "X = iris.data\n",
    "y = iris.target.reshape(-1, 1)"
   ]
  },
  {
   "cell_type": "markdown",
   "id": "d8ac65e0-14b7-490a-8421-883df07e2bc1",
   "metadata": {},
   "source": [
    "## Encoding\n",
    "Mengubah label kelas (0, 1, 2) menjadi format one-hot encoded agar dapat digunakan pada model multi-class, di mana setiap kelas direpresentasikan sebagai vektor biner."
   ]
  },
  {
   "cell_type": "code",
   "execution_count": 3,
   "id": "9f64b630-8660-4c89-8390-71d3455b6519",
   "metadata": {},
   "outputs": [],
   "source": [
    "encoder = OneHotEncoder()\n",
    "y_encoded = encoder.fit_transform(y).toarray()"
   ]
  },
  {
   "cell_type": "markdown",
   "id": "62641687-4307-4f29-a577-5401609fc2d6",
   "metadata": {},
   "source": [
    "## Split data\n",
    "Membagi data menjadi set pelatihan (training set) dan set pengujian (test set) untuk memisahkan data yang digunakan untuk membangun model dan untuk mengevaluasinya."
   ]
  },
  {
   "cell_type": "code",
   "execution_count": 4,
   "id": "f0515d9b-6ac1-4379-9b46-1439855e1005",
   "metadata": {},
   "outputs": [],
   "source": [
    "X_train, X_test, y_train, y_test = train_test_split(X, y_encoded, test_size=0.2, random_state=42)"
   ]
  },
  {
   "cell_type": "markdown",
   "id": "9a86d186-0122-4526-950b-916ee802e37c",
   "metadata": {},
   "source": [
    "## Scaling data\n",
    "Menstandarisasi fitur agar memiliki distribusi dengan rata-rata 0 dan standar deviasi 1, membantu model ANN belajar lebih efektif."
   ]
  },
  {
   "cell_type": "code",
   "execution_count": 5,
   "id": "e2d4e805-812a-475a-9320-c6025820c962",
   "metadata": {},
   "outputs": [],
   "source": [
    "scaler = StandardScaler()\n",
    "X_train = scaler.fit_transform(X_train)\n",
    "X_test = scaler.transform(X_test)"
   ]
  },
  {
   "cell_type": "markdown",
   "id": "9539ed7e-047b-46e9-8b03-7e4a8a26c1a5",
   "metadata": {},
   "source": [
    "## Model multi-class\n",
    "Membangun arsitektur ANN dengan Keras untuk klasifikasi multi-class, menggunakan lapisan Dense dengan aktivasi ReLU pada hidden layer dan Softmax pada output layer untuk menghasilkan probabilitas tiap kelas."
   ]
  },
  {
   "cell_type": "code",
   "execution_count": 6,
   "id": "bf577c82-a499-4337-b2de-d8c9882d5787",
   "metadata": {},
   "outputs": [],
   "source": [
    "model_clf_multi = keras.Sequential([\n",
    "    layers.Input(shape=(X_train.shape[1],)), \n",
    "    layers.Dense(64, activation='relu'),\n",
    "    layers.Dense(32, activation='relu'),\n",
    "    layers.Dense(3, activation='softmax')\n",
    "])"
   ]
  },
  {
   "cell_type": "markdown",
   "id": "88a8451f-d7fe-46e5-ae7a-3e2e310bb368",
   "metadata": {},
   "source": [
    "## Pembelajaran model multi-class\n",
    "Melatih model pada data training dengan loss function `categorical_crossentropy` dan optimizer seperti Adam, sambil memantau akurasi pada data training dan validation."
   ]
  },
  {
   "cell_type": "code",
   "execution_count": 7,
   "id": "d14006fd-a259-461b-8fa7-6a79b8a55292",
   "metadata": {},
   "outputs": [],
   "source": [
    "model_clf_multi.compile(optimizer='adam', loss='categorical_crossentropy', metrics=['accuracy'])\n",
    "\n",
    "history_multi = model_clf_multi.fit(X_train, y_train, validation_split=0.2, epochs=100, verbose=0)"
   ]
  },
  {
   "cell_type": "markdown",
   "id": "62906b70-80aa-4cfc-ba8f-d3d2c2c2cb4b",
   "metadata": {},
   "source": [
    "## Evaluasi\n",
    "Mengukur kinerja model pada data uji menggunakan metrik seperti akurasi untuk melihat seberapa baik model mengklasifikasikan data yang belum pernah dilihat."
   ]
  },
  {
   "cell_type": "code",
   "execution_count": 8,
   "id": "173daf2a-aa66-436e-a293-c1b440db26c5",
   "metadata": {},
   "outputs": [
    {
     "name": "stdout",
     "output_type": "stream",
     "text": [
      "Akurasi: 1.0000\n"
     ]
    }
   ],
   "source": [
    "loss, acc = model_clf_multi.evaluate(X_test, y_test, verbose=0)\n",
    "print(f\"Akurasi: {acc:.4f}\")"
   ]
  },
  {
   "cell_type": "markdown",
   "id": "7eaed83e-e1d3-435e-8ae7-533abd1b97ce",
   "metadata": {},
   "source": [
    "Akurasi 1.0000 berarti model berhasil mengklasifikasikan 100% data uji dengan benar, menunjukkan kinerja sempurna pada dataset ini (kemungkinan karena dataset sederhana seperti Iris)."
   ]
  },
  {
   "cell_type": "markdown",
   "id": "2dd63ae4-fcc4-4d83-8726-baa06284f2ca",
   "metadata": {},
   "source": [
    "## Plot akurasi\n",
    "Memvisualisasikan perkembangan akurasi model selama proses pelatihan untuk melihat pola peningkatan performa dan indikasi overfitting atau underfitting."
   ]
  },
  {
   "cell_type": "code",
   "execution_count": 9,
   "id": "9c3b6b5e-70d9-4d2c-9983-cd24c88b2638",
   "metadata": {},
   "outputs": [
    {
     "data": {
      "image/png": "[encoded data removed]",
      "text/plain": [
       "<Figure size 640x480 with 1 Axes>"
      ]
     },
     "metadata": {},
     "output_type": "display_data"
    }
   ],
   "source": [
    "plt.plot(history_multi.history['accuracy'], label='Train Acc')\n",
    "plt.plot(history_multi.history['val_accuracy'], label='Val Acc')\n",
    "plt.title(\"Accuracy Curve - Multi-Class Classification\")\n",
    "plt.xlabel(\"Epoch\")\n",
    "plt.ylabel(\"Accuracy\")\n",
    "plt.legend()\n",
    "plt.show()"
   ]
  },
  {
   "cell_type": "markdown",
   "id": "c3425783-597c-4d3e-ae4b-b6041b1d440d",
   "metadata": {},
   "source": [
    "### Interpretasi\n",
    "* Awal pelatihan (epoch < 20):\\\n",
    "  Akurasi training dan validasi meningkat tajam, dari sekitar 0.25 menuju 0.9, menandakan model cepat belajar pola data.\n",
    "* Pertengahan pelatihan (epoch 20–60):\\\n",
    "  Akurasi validasi sempat mencapai ~0.97 lebih dulu dibanding training, lalu mulai sedikit fluktuatif.\n",
    "* Akhir pelatihan (epoch > 60):\\\n",
    "  Akurasi training mendekati 1.0, sementara akurasi validasi sedikit di bawahnya (~0.92–0.97) dengan sedikit penurunan pada beberapa titik yang mengindikasikan mild overfitting (“terlalu pintar”).\n",
    "* Secara umum, model sangat baik dalam mempelajari data, meski sedikit gap antara train dan validation menunjukkan model mulai menghafal pola spesifik training."
   ]
  },
  {
   "cell_type": "markdown",
   "id": "570aad5d-3fcd-4c69-b38b-68d5443ccd03",
   "metadata": {},
   "source": [
    "## Prediksi"
   ]
  },
  {
   "cell_type": "code",
   "execution_count": 11,
   "id": "d3bc8203-2318-4ee1-9e2e-9594f81916ef",
   "metadata": {},
   "outputs": [
    {
     "name": "stdout",
     "output_type": "stream",
     "text": [
      "\u001b[1m1/1\u001b[0m \u001b[32m━━━━━━━━━━━━━━━━━━━━\u001b[0m\u001b[37m\u001b[0m \u001b[1m0s\u001b[0m 163ms/step\n"
     ]
    }
   ],
   "source": [
    "y_pred_proba = model_clf_multi.predict(X_test)\n",
    "y_pred_classes = np.argmax(y_pred_proba, axis=1)\n",
    "y_test_classes = np.argmax(y_test, axis=1)  # karena y_test sudah one-hot encoded"
   ]
  },
  {
   "cell_type": "markdown",
   "id": "a033c850-25ee-4b7f-92e5-d4c004b0fe8b",
   "metadata": {},
   "source": [
    "## Metrik evaluasi"
   ]
  },
  {
   "cell_type": "code",
   "execution_count": 26,
   "id": "3885923d-af5a-4821-abc4-7125f4cd67fc",
   "metadata": {},
   "outputs": [
    {
     "name": "stdout",
     "output_type": "stream",
     "text": [
      "\n",
      "Classification Report:\n",
      "               precision    recall  f1-score   support\n",
      "\n",
      "           0       1.00      1.00      1.00        10\n",
      "           1       1.00      1.00      1.00         9\n",
      "           2       1.00      1.00      1.00        11\n",
      "\n",
      "    accuracy                           1.00        30\n",
      "   macro avg       1.00      1.00      1.00        30\n",
      "weighted avg       1.00      1.00      1.00        30\n",
      "\n"
     ]
    }
   ],
   "source": [
    "acc = accuracy_score(y_test_classes, y_pred_classes)\n",
    "print(\"\\nClassification Report:\\n\", classification_report(y_test_classes, y_pred_classes))"
   ]
  },
  {
   "cell_type": "markdown",
   "id": "fef62b3c-9bc1-475c-be9d-f391636c05e7",
   "metadata": {},
   "source": [
    "### Interpretasi\n",
    "* Laporan klasifikasi ini menunjukkan performa sempurna pada ketiga kelas (0, 1, dan 2) di dataset iris.\n",
    "* Precision, Recall, dan F1-score semuanya 1.00 untuk setiap kelas, artinya model tidak membuat kesalahan sama sekali dalam memprediksi data uji.\n",
    "* Akurasi 1.00 menandakan semua 30 sampel di data uji terklasifikasi dengan benar.\n",
    "* Macro avg dan weighted avg juga 1.00, menguatkan bahwa kinerja konsisten di semua kelas tanpa bias ke kelas tertentu.\n",
    "* Dengan kata lain, model mampu mengenali pola antar kelas dengan sempurna di dataset ini, yang biasanya terjadi karena dataset iris cukup terpisah dengan jelas antar kelas.\n",
    "* Namun, akurasi sempurna di dataset kecil tetap perlu diwaspadai — bisa jadi hasil ini sulit direplikasi di data yang lebih kompleks atau noisy."
   ]
  },
  {
   "cell_type": "markdown",
   "id": "fbf9c68b-c191-41ce-9f41-1c482377a833",
   "metadata": {},
   "source": [
    "## Confusion Matrix"
   ]
  },
  {
   "cell_type": "code",
   "execution_count": 13,
   "id": "80541638-c7ed-436f-99f5-08afcd02672e",
   "metadata": {},
   "outputs": [
    {
     "data": {
      "image/png": "[encoded data removed]",
      "text/plain": [
       "<Figure size 500x400 with 1 Axes>"
      ]
     },
     "metadata": {},
     "output_type": "display_data"
    }
   ],
   "source": [
    "cm = confusion_matrix(y_test_classes, y_pred_classes)\n",
    "plt.figure(figsize=(5,4))\n",
    "sns.heatmap(cm, annot=True, fmt=\"d\", cmap=\"Blues\", cbar=False,\n",
    "            xticklabels=encoder.categories_[0],\n",
    "            yticklabels=encoder.categories_[0])\n",
    "plt.xlabel(\"Predicted\")\n",
    "plt.ylabel(\"True\")\n",
    "plt.title(\"Confusion Matrix\")\n",
    "plt.show()"
   ]
  },
  {
   "cell_type": "markdown",
   "id": "c68f6d30-ecbb-45d3-8ad0-d07527580e87",
   "metadata": {},
   "source": [
    "### Interpretasi\n",
    "* Confusion matrix ini menunjukkan kinerja model klasifikasi multi-class pada dataset Iris, dan hasilnya sempurna.\n",
    "* Kelas 0 → semua 10 sampel diprediksi sebagai kelas 0 (tidak ada kesalahan).\n",
    "* Kelas 1 → semua 9 sampel diprediksi sebagai kelas 1 (tidak ada kesalahan).\n",
    "* Kelas 2 → semua 11 sampel diprediksi sebagai kelas 2 (tidak ada kesalahan).\n",
    "* Tidak ada nilai di luar diagonal utama, artinya tidak ada satupun data yang salah klasifikasi.\n",
    "* Ini mengindikasikan pemisahan kelas yang sangat jelas pada data testing dan kemampuan model untuk mengenali pola dengan sangat baik."
   ]
  },
  {
   "cell_type": "markdown",
   "id": "8c6571a1-b742-494d-be5d-511f3c9b12e9",
   "metadata": {},
   "source": [
    "## Tabel perbandingan target vs prediksi"
   ]
  },
  {
   "cell_type": "code",
   "execution_count": 16,
   "id": "027826ad-a969-4b6b-8a7b-ce003272a469",
   "metadata": {},
   "outputs": [],
   "source": [
    "df_eval = pd.DataFrame({\n",
    "    'Target': y_test_classes,\n",
    "    'Prediksi': y_pred_classes\n",
    "})"
   ]
  },
  {
   "cell_type": "code",
   "execution_count": 17,
   "id": "a920f116-8146-4f06-a5d6-5f6588cc7a58",
   "metadata": {},
   "outputs": [
    {
     "data": {
      "text/html": [
       "<div>\n",
       "<style scoped>\n",
       "    .dataframe tbody tr th:only-of-type {\n",
       "        vertical-align: middle;\n",
       "    }\n",
       "\n",
       "    .dataframe tbody tr th {\n",
       "        vertical-align: top;\n",
       "    }\n",
       "\n",
       "    .dataframe thead th {\n",
       "        text-align: right;\n",
       "    }\n",
       "</style>\n",
       "<table border=\"1\" class=\"dataframe\">\n",
       "  <thead>\n",
       "    <tr style=\"text-align: right;\">\n",
       "      <th></th>\n",
       "      <th>Target</th>\n",
       "      <th>Prediksi</th>\n",
       "    </tr>\n",
       "  </thead>\n",
       "  <tbody>\n",
       "    <tr>\n",
       "      <th>0</th>\n",
       "      <td>1</td>\n",
       "      <td>1</td>\n",
       "    </tr>\n",
       "    <tr>\n",
       "      <th>1</th>\n",
       "      <td>0</td>\n",
       "      <td>0</td>\n",
       "    </tr>\n",
       "    <tr>\n",
       "      <th>2</th>\n",
       "      <td>2</td>\n",
       "      <td>2</td>\n",
       "    </tr>\n",
       "    <tr>\n",
       "      <th>3</th>\n",
       "      <td>1</td>\n",
       "      <td>1</td>\n",
       "    </tr>\n",
       "    <tr>\n",
       "      <th>4</th>\n",
       "      <td>1</td>\n",
       "      <td>1</td>\n",
       "    </tr>\n",
       "    <tr>\n",
       "      <th>5</th>\n",
       "      <td>0</td>\n",
       "      <td>0</td>\n",
       "    </tr>\n",
       "    <tr>\n",
       "      <th>6</th>\n",
       "      <td>1</td>\n",
       "      <td>1</td>\n",
       "    </tr>\n",
       "    <tr>\n",
       "      <th>7</th>\n",
       "      <td>2</td>\n",
       "      <td>2</td>\n",
       "    </tr>\n",
       "    <tr>\n",
       "      <th>8</th>\n",
       "      <td>1</td>\n",
       "      <td>1</td>\n",
       "    </tr>\n",
       "    <tr>\n",
       "      <th>9</th>\n",
       "      <td>1</td>\n",
       "      <td>1</td>\n",
       "    </tr>\n",
       "    <tr>\n",
       "      <th>10</th>\n",
       "      <td>2</td>\n",
       "      <td>2</td>\n",
       "    </tr>\n",
       "    <tr>\n",
       "      <th>11</th>\n",
       "      <td>0</td>\n",
       "      <td>0</td>\n",
       "    </tr>\n",
       "    <tr>\n",
       "      <th>12</th>\n",
       "      <td>0</td>\n",
       "      <td>0</td>\n",
       "    </tr>\n",
       "    <tr>\n",
       "      <th>13</th>\n",
       "      <td>0</td>\n",
       "      <td>0</td>\n",
       "    </tr>\n",
       "    <tr>\n",
       "      <th>14</th>\n",
       "      <td>0</td>\n",
       "      <td>0</td>\n",
       "    </tr>\n",
       "    <tr>\n",
       "      <th>15</th>\n",
       "      <td>1</td>\n",
       "      <td>1</td>\n",
       "    </tr>\n",
       "    <tr>\n",
       "      <th>16</th>\n",
       "      <td>2</td>\n",
       "      <td>2</td>\n",
       "    </tr>\n",
       "    <tr>\n",
       "      <th>17</th>\n",
       "      <td>1</td>\n",
       "      <td>1</td>\n",
       "    </tr>\n",
       "    <tr>\n",
       "      <th>18</th>\n",
       "      <td>1</td>\n",
       "      <td>1</td>\n",
       "    </tr>\n",
       "    <tr>\n",
       "      <th>19</th>\n",
       "      <td>2</td>\n",
       "      <td>2</td>\n",
       "    </tr>\n",
       "    <tr>\n",
       "      <th>20</th>\n",
       "      <td>0</td>\n",
       "      <td>0</td>\n",
       "    </tr>\n",
       "    <tr>\n",
       "      <th>21</th>\n",
       "      <td>2</td>\n",
       "      <td>2</td>\n",
       "    </tr>\n",
       "    <tr>\n",
       "      <th>22</th>\n",
       "      <td>0</td>\n",
       "      <td>0</td>\n",
       "    </tr>\n",
       "    <tr>\n",
       "      <th>23</th>\n",
       "      <td>2</td>\n",
       "      <td>2</td>\n",
       "    </tr>\n",
       "    <tr>\n",
       "      <th>24</th>\n",
       "      <td>2</td>\n",
       "      <td>2</td>\n",
       "    </tr>\n",
       "    <tr>\n",
       "      <th>25</th>\n",
       "      <td>2</td>\n",
       "      <td>2</td>\n",
       "    </tr>\n",
       "    <tr>\n",
       "      <th>26</th>\n",
       "      <td>2</td>\n",
       "      <td>2</td>\n",
       "    </tr>\n",
       "    <tr>\n",
       "      <th>27</th>\n",
       "      <td>2</td>\n",
       "      <td>2</td>\n",
       "    </tr>\n",
       "    <tr>\n",
       "      <th>28</th>\n",
       "      <td>0</td>\n",
       "      <td>0</td>\n",
       "    </tr>\n",
       "    <tr>\n",
       "      <th>29</th>\n",
       "      <td>0</td>\n",
       "      <td>0</td>\n",
       "    </tr>\n",
       "  </tbody>\n",
       "</table>\n",
       "</div>"
      ],
      "text/plain": [
       "    Target  Prediksi\n",
       "0        1         1\n",
       "1        0         0\n",
       "2        2         2\n",
       "3        1         1\n",
       "4        1         1\n",
       "5        0         0\n",
       "6        1         1\n",
       "7        2         2\n",
       "8        1         1\n",
       "9        1         1\n",
       "10       2         2\n",
       "11       0         0\n",
       "12       0         0\n",
       "13       0         0\n",
       "14       0         0\n",
       "15       1         1\n",
       "16       2         2\n",
       "17       1         1\n",
       "18       1         1\n",
       "19       2         2\n",
       "20       0         0\n",
       "21       2         2\n",
       "22       0         0\n",
       "23       2         2\n",
       "24       2         2\n",
       "25       2         2\n",
       "26       2         2\n",
       "27       2         2\n",
       "28       0         0\n",
       "29       0         0"
      ]
     },
     "execution_count": 17,
     "metadata": {},
     "output_type": "execute_result"
    }
   ],
   "source": [
    "df_eval"
   ]
  },
  {
   "cell_type": "markdown",
   "id": "17d144cc-a5ef-4974-a858-ae30a8a63c90",
   "metadata": {},
   "source": [
    "## Plot prediksi vs target"
   ]
  },
  {
   "cell_type": "code",
   "execution_count": 18,
   "id": "e5cf3021-b937-4cb2-a828-c6a041327183",
   "metadata": {},
   "outputs": [
    {
     "data": {
      "image/png": "[encoded data removed]",
      "text/plain": [
       "<Figure size 600x400 with 1 Axes>"
      ]
     },
     "metadata": {},
     "output_type": "display_data"
    }
   ],
   "source": [
    "plt.figure(figsize=(6,4))\n",
    "plt.scatter(range(len(y_test_classes)), y_test_classes, label=\"Target\", alpha=0.7)\n",
    "plt.scatter(range(len(y_pred_classes)), y_pred_classes, label=\"Prediksi\", alpha=0.7)\n",
    "plt.legend()\n",
    "plt.title(\"Prediksi vs Target (Iris)\")\n",
    "plt.xlabel(\"Index Sampel\")\n",
    "plt.ylabel(\"Kelas\")\n",
    "plt.show()"
   ]
  },
  {
   "cell_type": "markdown",
   "id": "4141d133-4a1f-4397-a951-ea2967ad911b",
   "metadata": {},
   "source": [
    "### Interpretasi\n",
    "* Plot ini menunjukkan perbandingan antara label target (biru) dan prediksi (oranye) untuk klasifikasi multi-class dataset Iris.\n",
    "* Semua titik oranye (prediksi) tumpang tindih sempurna dengan titik biru (target) pada setiap sampel. Tidak ada pergeseran atau titik yang salah posisi, yang berarti model memprediksi semua kelas dengan akurasi 100% pada data uji.\n",
    "* Hasil ini menguatkan temuan pada confusion matrix sebelumnya, bahwa model mampu memisahkan ketiga kelas dengan sangat baik tanpa kesalahan klasifikasi sama sekali."
   ]
  },
  {
   "cell_type": "markdown",
   "id": "190308d1-5d19-48eb-97a1-4e1812527691",
   "metadata": {},
   "source": [
    "## Kesimpulan\n",
    "Hasil akhir proyek ini menunjukkan bahwa ANN memiliki fleksibilitas dan kekuatan yang tinggi dalam mempelajari pola data, baik untuk klasifikasi biner maupun multi-class. Pada kasus make_moons, model mampu mencapai akurasi tinggi meskipun data memiliki distribusi yang kompleks, sedangkan pada dataset Iris, model berhasil mencapai performa sempurna pada data uji, tanpa kesalahan klasifikasi. Visualisasi seperti accuracy curve, decision boundary, dan prediksi vs target tidak hanya memperjelas performa model, tetapi juga memberikan gambaran intuitif tentang bagaimana ANN mengambil keputusan.\n",
    "\n",
    "Proyek ini bukan hanya membuktikan kemampuan ANN dalam menyelesaikan permasalahan klasifikasi, tetapi juga memberikan pemahaman menyeluruh terhadap alur kerja machine learning, mulai dari persiapan data hingga interpretasi hasil. Ke depan, model serupa dapat dikembangkan untuk dataset yang lebih kompleks, menambah lapisan atau neuron untuk meningkatkan kapasitas, atau menggabungkannya dengan teknik regularization guna mengatasi potensi overfitting. Dengan fondasi ini, langkah berikutnya adalah memperluas aplikasi ANN ke berbagai domain nyata yang memerlukan keputusan cerdas berbasis data."
   ]
  },
  {
   "cell_type": "markdown",
   "id": "113b6007-0beb-442d-b4eb-b03780a267df",
   "metadata": {},
   "source": [
    "# Thank You"
   ]
  },
  {
   "cell_type": "code",
   "execution_count": null,
   "id": "8bcfd20a-a808-42cd-9f55-89f8d14ea4c3",
   "metadata": {},
   "outputs": [],
   "source": []
  }
 ],
 "metadata": {
  "kernelspec": {
   "display_name": "Python 3 (ipykernel)",
   "language": "python",
   "name": "python3"
  },
  "language_info": {
   "codemirror_mode": {
    "name": "ipython",
    "version": 3
   },
   "file_extension": ".py",
   "mimetype": "text/x-python",
   "name": "python",
   "nbconvert_exporter": "python",
   "pygments_lexer": "ipython3",
   "version": "3.13.5"
  }
 },
 "nbformat": 4,
 "nbformat_minor": 5
}
