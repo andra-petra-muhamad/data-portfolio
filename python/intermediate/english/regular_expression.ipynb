{
 "cells": [
  {
   "cell_type": "markdown",
   "metadata": {
    "id": "6L37QFRSJDIh"
   },
   "source": [
    "# Regular Expression\n",
    "A regular expression (abbreviated as Regex) is a pattern used to match, search, and manipulate text based on specific rules. Regex is very useful for finding or changing specific parts of a text string, such as:\n",
    "* Searching for all phone numbers in a document.\n",
    "* Extracting email addresses from text.\n",
    "* Ensuring password formatting.\n",
    "* Cleaning text from unwanted symbols or characters.\n",
    "\n",
    "## Brief Examples of Regex Uses\n",
    "| Purpose | Regex Pattern | Matching Examples |\n",
    "| ---------------------------------- | -------------------------------- | ------------------------------------- |\n",
    "| Search for 3-digit numbers | `\\d{3}` | `123`, `456` |\n",
    "| Check if an email is valid | `\\w+@\\w+\\.\\w+` | `nama@email.com` |\n",
    "| Find words that begin with an uppercase letter | `\\b[A-Z]\\w+` | `Indonesia`, `Python` |\n",
    "| Replace all spaces with `-` | use `re.sub(\" \", \"-\", text)` | `Hello World` → `Hello-World` |"
   ]
  },
  {
   "cell_type": "markdown",
   "metadata": {},
   "source": [
    "## Search for the word \"application\" in a sentence\n",
    "* __re.search(r'application', s)__ searches for the first occurrence of the word \"application\" in the string s.\n",
    "* __match.start()__ returns the index of the first character in the match.\n",
    "* __match.end()__ returns the index of the character after the last character in the match."
   ]
  },
  {
   "cell_type": "code",
   "execution_count": 1,
   "metadata": {},
   "outputs": [
    {
     "name": "stdout",
     "output_type": "stream",
     "text": [
      "Start Index: 13\n",
      "End Index: 24\n"
     ]
    }
   ],
   "source": [
    "import re\n",
    "\n",
    "s = 'Facebook: an application that connects people regardless of space and time'\n",
    "\n",
    "# Search for the word \"application\" in the string\n",
    "match = re.search(r'application', s)\n",
    "\n",
    "# Print the starting index of the match\n",
    "print('Start Index:', match.start())\n",
    "\n",
    "# Print the ending index of the match\n",
    "print('End Index:', match.end())\n"
   ]
  },
  {
   "cell_type": "markdown",
   "metadata": {},
   "source": [
    "## Searching for a Number (GPA) in a String\n",
    "* The string name contains a decimal number representing the GPA.\n",
    "* The \\d+ pattern in the regular expression is used to find one or more digits.\n",
    "* The __re.search()__ function matches the first digit found in the string.\n",
    "* __.start()__ and __.end()__ return the index position of the digit."
   ]
  },
  {
   "cell_type": "code",
   "execution_count": 2,
   "metadata": {
    "colab": {
     "base_uri": "https://localhost:8080/"
    },
    "executionInfo": {
     "elapsed": 11,
     "status": "ok",
     "timestamp": 1688473913580,
     "user": {
      "displayName": "22. Muhammad Tsaqif",
      "userId": "11433106515517245195"
     },
     "user_tz": -420
    },
    "id": "yfABZBWbI-YR",
    "outputId": "bcd1f015-7fca-4870-aac0-f1987fa909c6"
   },
   "outputs": [
    {
     "name": "stdout",
     "output_type": "stream",
     "text": [
      "GPA starts at index: 15\n",
      "GPA ends at index: 18\n"
     ]
    }
   ],
   "source": [
    "import re\n",
    "\n",
    "name = 'Andra with GPA 287'\n",
    "\n",
    "# Search for the first sequence of digits (the GPA)\n",
    "match = re.search(r'\\d+', name)\n",
    "print('GPA starts at index:', match.start())\n",
    "print('GPA ends at index:', match.end())"
   ]
  },
  {
   "cell_type": "markdown",
   "metadata": {},
   "source": [
    "## Searching for the Word \"ke\" in a Sentence\n",
    "* __re.search(r'ke', A)__ searches for the first occurrence of the word \"ke\" in the string A.\n",
    "* The __.start()__ function returns the starting position index of the word.\n",
    "* The __.end()__ function returns the ending position index of the word."
   ]
  },
  {
   "cell_type": "code",
   "execution_count": 3,
   "metadata": {},
   "outputs": [
    {
     "name": "stdout",
     "output_type": "stream",
     "text": [
      "First index of \"to\": 13\n",
      "Last index of \"to\": 15\n"
     ]
    }
   ],
   "source": [
    "sentence = 'Today I want to go to the national library'\n",
    "\n",
    "# Search for the first occurrence of 'to'\n",
    "match = re.search(r'to', sentence)\n",
    "print('First index of \"to\":', match.start())\n",
    "print('Last index of \"to\":', match.end())"
   ]
  },
  {
   "cell_type": "markdown",
   "metadata": {},
   "source": [
    "## Detecting the First Number in a Sentence\n",
    "* The string try contains a sentence with a number at the end: 63.\n",
    "* The \\d+ pattern is used to match numbers with one or more digits.\n",
    "* The __re.search()__ function finds the first occurrence of a number in a string.\n",
    "* __.start()__ and __.end()__ are used to indicate the position index of the number in the string."
   ]
  },
  {
   "cell_type": "code",
   "execution_count": 4,
   "metadata": {},
   "outputs": [
    {
     "name": "stdout",
     "output_type": "stream",
     "text": [
      "Start index of the number: 45\n",
      "End index of the number: 47\n"
     ]
    }
   ],
   "source": [
    "text = 'Hallo my name is Winardi, my house number is 63'\n",
    "\n",
    "# Search for the first occurrence of a number in the text\n",
    "match = re.search(r'\\d+', text)\n",
    "\n",
    "# Print the start and end index of the matched number\n",
    "print('Start index of the number:', match.start())\n",
    "print('End index of the number:', match.end())"
   ]
  },
  {
   "cell_type": "markdown",
   "metadata": {},
   "source": [
    "## Detecting Dates and Specific Words\n",
    "* __re.search(r'\\d+', trial)__ searches for the first number that appears, which is 10.\n",
    "* Then __re.search(r'lahir', trial)__ is used to find the word \"lahir\" in the string.\n",
    "* __.start()__ and __.end()__ return the starting and ending index positions of the matching word \"lahir\"."
   ]
  },
  {
   "cell_type": "code",
   "execution_count": 5,
   "metadata": {},
   "outputs": [
    {
     "name": "stdout",
     "output_type": "stream",
     "text": [
      "First date index: 20\n",
      "First index: 6\n",
      "Last index: 10\n"
     ]
    }
   ],
   "source": [
    "trial = \"I was born on April 10, 1997\"\n",
    "match = re.search(r'\\d+', trial)\n",
    "print('First date index:', match.start())\n",
    "match = re.search(r'born', trial)\n",
    "print('First index:', match.start())\n",
    "print('Last index:', match.end())"
   ]
  },
  {
   "cell_type": "markdown",
   "metadata": {},
   "source": [
    "## Find All Numbers at Once\n",
    "* __re.findall(r, trial)__ searches for all patterns that match the expression (\\d+).\n",
    "* This pattern means all numbers with one digit or more.\n",
    "* The result of __re.findall__ is a list of all the numbers found in the string trial.\n",
    "* In the example string \"I was born on April 10, 1997,\" two numbers were found: '10' and '1997'."
   ]
  },
  {
   "cell_type": "code",
   "execution_count": 6,
   "metadata": {},
   "outputs": [
    {
     "name": "stdout",
     "output_type": "stream",
     "text": [
      "['10', '1997']\n"
     ]
    }
   ],
   "source": [
    "r = \"(\\d+)\"\n",
    "match = re.findall(r, trial)\n",
    "print (match)"
   ]
  },
  {
   "cell_type": "markdown",
   "metadata": {
    "id": "O7M8-KgJOa6M"
   },
   "source": [
    "# Metacharacter\n",
    "A metacharacter is a special symbol in regular expressions that does not represent a literal character but has a specific function for matching patterns in strings. Metacharacters help make searching flexible and powerful.\n",
    "\n",
    "Here is a summary of commonly used metacharacters:\n",
    "| Metacharacter | Meaning | Examples | | |\n",
    "| ------------- | ----------------------------------------------------- | ----------------------------------------------------- | -------- | -------------------------------- |\n",
    "| `.` | Represents any single character except a newline | `a.c` matches `abc`, `axc` | | |\n",
    "| `^` | Marks the beginning of a string | `^Hello` matches if the string begins with \"Hello\" | | |\n",
    "| `$` | Marks the end of a string | `rumah$` matches if the string ends with \"rumah\" | | |\n",
    "| `*` | **0 or more** of the previous character | `lo*` matches `l`, `lo`, `loo`, etc. | | |\n",
    "| `+` | **1 or more** of the previous character | `lo+` matches `lo`, `loo`, not `l` | | |\n",
    "| `?` | **0 or 1 times** of the previous character (optional) | `ru?mah` matches `rmah`, `rumah` | | |\n",
    "| `[]` | **Character set** (optional character) | `[aeiou]` matches vowels | | |\n",
    "| `[^]` | **Negation** of the character set | `[^0-9]` matches all but numbers | | |\n",
    "| `{m}` | **Exactly m times** previous character | `\\d{4}` matches any 4-digit number | | |\n",
    "| `{m,n}` | **Between m and n times** | `a{2,4}` matches `aa`, `aaa`, `aaaa` | | |"
   ]
  },
  {
   "cell_type": "markdown",
   "metadata": {
    "id": "nyACJF_-OdD5"
   },
   "source": [
    "## Matching a Single Character with `.`\n",
    "1. __re.search(r'.', s)__:\n",
    "* The period (.)` in regex is a metacharacter that matches any single character, except the newline (\\n) character.\n",
    "* The __re.search()__ function searches for the first matching character in the string.\n",
    "* In the string `'Adgan167@gmail.com'`, the first character is `'A'`, so the search result is `'A'`.\n",
    "2. __print(match)__ displays the match result object, for example: `<re.Match object; span=(0, 1), match='A'>`"
   ]
  },
  {
   "cell_type": "code",
   "execution_count": 7,
   "metadata": {},
   "outputs": [
    {
     "name": "stdout",
     "output_type": "stream",
     "text": [
      "<re.Match object; span=(0, 1), match='A'>\n"
     ]
    }
   ],
   "source": [
    "s = 'Adgan167@gmail.com'\n",
    "\n",
    "match = re.search(r'.', s)\n",
    "print(match)"
   ]
  },
  {
   "cell_type": "markdown",
   "metadata": {},
   "source": [
    "## Matching Literal Dot Characters with `\\.`\n",
    "1. __re.search(r'\\.', s)__:\n",
    "* The dot symbol `(.)` as a metacharacter needs to be escaped with `\\` to be matched as a literal dot character.\n",
    "* The pattern `r'\\.'` matches an actual dot, not any random character.\n",
    "* In the string 'Adgan167@gmail.com', there is a dot after gmail, which is 'gmail.com', so the regex matches that dot.\n",
    "2. __print(match)__ will display the dot match object, for example: `<re.Match object; span=(14, 15), match='.'>`"
   ]
  },
  {
   "cell_type": "code",
   "execution_count": 8,
   "metadata": {
    "colab": {
     "base_uri": "https://localhost:8080/"
    },
    "executionInfo": {
     "elapsed": 578,
     "status": "ok",
     "timestamp": 1688474236200,
     "user": {
      "displayName": "22. Muhammad Tsaqif",
      "userId": "11433106515517245195"
     },
     "user_tz": -420
    },
    "id": "VkYL85KxJFO4",
    "outputId": "800aa36f-54fe-4ec4-834a-d1804c7ced9e"
   },
   "outputs": [
    {
     "name": "stdout",
     "output_type": "stream",
     "text": [
      "<re.Match object; span=(14, 15), match='.'>\n"
     ]
    }
   ],
   "source": [
    "match = re.search(r'\\.', s)\n",
    "print(match)"
   ]
  },
  {
   "cell_type": "markdown",
   "metadata": {
    "id": "Opb1ORxrXthd"
   },
   "source": [
    "## Search for Specific Numbers and Letters Using __re.findall__"
   ]
  },
  {
   "cell_type": "markdown",
   "metadata": {},
   "source": [
    "### Target String"
   ]
  },
  {
   "cell_type": "code",
   "execution_count": 9,
   "metadata": {},
   "outputs": [
    {
     "name": "stdout",
     "output_type": "stream",
     "text": [
      "Extracted numbers from the text:\n",
      "923472387\n",
      "234130324\n",
      "082298221785\n"
     ]
    }
   ],
   "source": [
    "# Define a multiline string containing student numbers and a phone number\n",
    "string = \"\"\"Hello, my student number is 923472387 and\n",
    "          my friend's student number is 234130324\n",
    "          phone number of Aditya is 082298221785\n",
    "       \"\"\"\n",
    "\n",
    "# Find all sequences of digits (i.e., numbers) in the text\n",
    "matches = re.findall(r'\\d+', string)\n",
    "\n",
    "# Print all matched numbers\n",
    "print(\"Extracted numbers from the text:\")\n",
    "for number in matches:\n",
    "    print(number)\n"
   ]
  },
  {
   "cell_type": "markdown",
   "metadata": {},
   "source": [
    "### Digit Search Pattern `(\\d+)`\n",
    "* `\\d` is a metacharacter that matches a single digit (0–9).\n",
    "* `+` means one or more digits.\n",
    "* __re.findall(r'\\d+', string)__ searches for all sequences of digits in a string.\n",
    "* Result:\\\n",
    "  ['923472387', '234130324', '082298221785']\\\n",
    "  because those are the numbers in the string."
   ]
  },
  {
   "cell_type": "code",
   "execution_count": 10,
   "metadata": {},
   "outputs": [
    {
     "name": "stdout",
     "output_type": "stream",
     "text": [
      "['923472387', '234130324', '082298221785']\n"
     ]
    }
   ],
   "source": [
    "regex = r'\\d+'\n",
    "match = re.findall(regex, string)\n",
    "print(match)"
   ]
  },
  {
   "cell_type": "markdown",
   "metadata": {},
   "source": [
    "### Search Pattern for Letter a or e\n",
    "* `[ae]` is a character class, meaning it matches either a or e.\n",
    "* __re.findall(r'[ae]', string)__ returns all the characters 'a' or 'e' in the string, as a list.\n",
    "* The result can be a long list like:\\\n",
    "  ['a', 'o', 'a', 'a', 'a', 'a', 'a', 'a', 'a', 'e', 'a', 'e', ...]\\\n",
    "  depending on how many times the letter appears."
   ]
  },
  {
   "cell_type": "code",
   "execution_count": 12,
   "metadata": {
    "colab": {
     "base_uri": "https://localhost:8080/"
    },
    "executionInfo": {
     "elapsed": 524,
     "status": "ok",
     "timestamp": 1688474137636,
     "user": {
      "displayName": "22. Muhammad Tsaqif",
      "userId": "11433106515517245195"
     },
     "user_tz": -420
    },
    "id": "0QStCq8PWf2I",
    "outputId": "72e9f0d6-25f7-4dfe-a300-9a8a42f3b723"
   },
   "outputs": [
    {
     "name": "stdout",
     "output_type": "stream",
     "text": [
      "['e', 'e', 'e', 'a', 'e', 'e', 'e', 'e', 'e', 'a']\n"
     ]
    }
   ],
   "source": [
    "regex = r'[ae]'\n",
    "match = re.findall(regex, string)\n",
    "print(match)"
   ]
  },
  {
   "cell_type": "markdown",
   "metadata": {
    "id": "YUTc-KGAXv-M"
   },
   "source": [
    "## re.compile()"
   ]
  },
  {
   "cell_type": "markdown",
   "metadata": {},
   "source": [
    "## Searching for Specific Characters with re.compile() and findall()"
   ]
  },
  {
   "cell_type": "markdown",
   "metadata": {},
   "source": [
    "### Creating Regex Patterns with re.compile()\n",
    "* __re.compile()__ is used to create reusable regex pattern objects.\n",
    "* [a-e] is a character class that matches any letter from a to e (i.e., a, b, c, d, e).\n",
    "* __flags=re.IGNORECASE__ makes the search case-insensitive, so it will match both `A-E` and `a-e`."
   ]
  },
  {
   "cell_type": "code",
   "execution_count": 13,
   "metadata": {},
   "outputs": [],
   "source": [
    "p = re.compile('[a-e]', flags=re.IGNORECASE)"
   ]
  },
  {
   "cell_type": "markdown",
   "metadata": {},
   "source": [
    "### Find All Matching Characters\n",
    "* __findall()__ returns all characters in the string \"Muhamad Petra Piyunandra\" that match the pattern [a-e], both lowercase and uppercase.\n",
    "* Matching characters in the string are:\\\n",
    "'a', 'd', 'e', 'b', 'c' (if any).\n",
    "* Example result:\\\n",
    "  ['a', 'd', 'e', 'a', 'd', 'e', 'a']\\\n",
    "  (depending on the contents of the string)."
   ]
  },
  {
   "cell_type": "code",
   "execution_count": 14,
   "metadata": {
    "colab": {
     "base_uri": "https://localhost:8080/"
    },
    "executionInfo": {
     "elapsed": 20,
     "status": "ok",
     "timestamp": 1688474138054,
     "user": {
      "displayName": "22. Muhammad Tsaqif",
      "userId": "11433106515517245195"
     },
     "user_tz": -420
    },
    "id": "dCMp1TUJOmwz",
    "outputId": "b041e2d6-7c63-4eed-998e-6b087cba782e"
   },
   "outputs": [
    {
     "name": "stdout",
     "output_type": "stream",
     "text": [
      "['a', 'a', 'd', 'e', 'a', 'a', 'd', 'a']\n"
     ]
    }
   ],
   "source": [
    "print(p.findall(\"Muhamad Petra Piyunandra\"))"
   ]
  },
  {
   "cell_type": "markdown",
   "metadata": {},
   "source": [
    "## Match Numbers in Text with \\d and \\d+"
   ]
  },
  {
   "cell_type": "markdown",
   "metadata": {},
   "source": [
    "### `\\d` Pattern for Searching for Individual Numbers\n",
    "* `\\d` is a metacharacter in regex that matches a single digit (equivalent to [0-9]).\n",
    "* __findall()__ will search for and return each number as a separate element in the list."
   ]
  },
  {
   "cell_type": "code",
   "execution_count": 15,
   "metadata": {},
   "outputs": [
    {
     "name": "stdout",
     "output_type": "stream",
     "text": [
      "['1', '1', '0', '0', '4', '1', '8', '8', '6']\n"
     ]
    }
   ],
   "source": [
    "p = re.compile(r'\\d')\n",
    "print(p.findall(\"I met him at 11:00 a.m. on July 4, 1886\"))"
   ]
  },
  {
   "cell_type": "markdown",
   "metadata": {},
   "source": [
    "### `\\d+` Pattern for Finding Consecutive Numbers\n",
    "* `\\d+` matches one or more consecutive digits.\n",
    "* The `+` symbol means \"one or more.\"\n",
    "* Adjacent numbers (such as 11, 00, 1886) are treated as one."
   ]
  },
  {
   "cell_type": "code",
   "execution_count": 16,
   "metadata": {
    "colab": {
     "base_uri": "https://localhost:8080/"
    },
    "executionInfo": {
     "elapsed": 20,
     "status": "ok",
     "timestamp": 1688474138056,
     "user": {
      "displayName": "22. Muhammad Tsaqif",
      "userId": "11433106515517245195"
     },
     "user_tz": -420
    },
    "id": "C0XkS8gvYDwo",
    "outputId": "859e4bad-73d0-4e37-9e60-684a99f7b639"
   },
   "outputs": [
    {
     "name": "stdout",
     "output_type": "stream",
     "text": [
      "['11', '00', '4', '1886']\n"
     ]
    }
   ],
   "source": [
    "p = re.compile(r'\\d+')\n",
    "print(p.findall(\"I met him at 11:00 a.m. on July 4, 1886\"))"
   ]
  },
  {
   "cell_type": "markdown",
   "metadata": {
    "id": "Di4I7hv4aA3x"
   },
   "source": [
    "## re.split()"
   ]
  },
  {
   "cell_type": "markdown",
   "metadata": {
    "id": "GUH2mbQQaL0d"
   },
   "source": [
    "__re.split(pattern, string, maxsplit=0, flags=0)__"
   ]
  },
  {
   "cell_type": "markdown",
   "metadata": {},
   "source": [
    "### Splitting by Non-Alphanumeric Characters\n",
    "* `r'\\W+'` is a regular expression that matches one or more non-word characters (not letters, numbers, or underscores).\n",
    "* In `'Word, word, Word'`:\n",
    "  - Non-word characters are `,` and `space`\n",
    "  - The string is split in two places: after `Word,` and after `word`"
   ]
  },
  {
   "cell_type": "code",
   "execution_count": 18,
   "metadata": {},
   "outputs": [
    {
     "name": "stdout",
     "output_type": "stream",
     "text": [
      "['Word', 'word', 'Word']\n"
     ]
    }
   ],
   "source": [
    "print(re.split(r'\\W+', 'Word, word, Word'))"
   ]
  },
  {
   "cell_type": "markdown",
   "metadata": {},
   "source": [
    "### Separation based on non-alphanumeric characters again\n",
    "* Same as before, but with spaces as non-alphanumeric characters.\n",
    "* Spaces are used as separators."
   ]
  },
  {
   "cell_type": "code",
   "execution_count": 19,
   "metadata": {},
   "outputs": [
    {
     "name": "stdout",
     "output_type": "stream",
     "text": [
      "['Word', 'word', 'Word']\n"
     ]
    }
   ],
   "source": [
    "print(re.split(r'\\W+', \"Word word Word\"))"
   ]
  },
  {
   "cell_type": "markdown",
   "metadata": {},
   "source": [
    "### Split complex sentences based on non-alphanumeric characters\n",
    "* The `\\W+` regex splits a string at every space, comma (,), and colon (:)\n",
    "* The string is split into text and number parts."
   ]
  },
  {
   "cell_type": "code",
   "execution_count": 21,
   "metadata": {},
   "outputs": [
    {
     "name": "stdout",
     "output_type": "stream",
     "text": [
      "['On', 'January', '12', '2016', 'at', '11', '02', 'AM']\n"
     ]
    }
   ],
   "source": [
    "print(re.split(r'\\W+', 'On January 12, 2016, at 11:02 AM'))"
   ]
  },
  {
   "cell_type": "markdown",
   "metadata": {},
   "source": [
    "### Split string by number\n",
    "* Regex `\\d+` means match one or more numbers\n",
    "* Whenever a number (12, 2016, 11, 02) is found, the string will be cut there"
   ]
  },
  {
   "cell_type": "code",
   "execution_count": 23,
   "metadata": {},
   "outputs": [
    {
     "name": "stdout",
     "output_type": "stream",
     "text": [
      "['On January ', ', ', ', at ', ':', ' AM']\n"
     ]
    }
   ],
   "source": [
    "print(re.split(r'\\d+', 'On January 12, 2016, at 11:02 AM'))"
   ]
  },
  {
   "cell_type": "markdown",
   "metadata": {},
   "source": [
    "### Split with a limit on the number of splits (maxsplit=1)\n",
    "* The regular expression `\\d+` matches one or more digits.\n",
    "* The third argument: 1, the maxsplit parameter, means to split only once, in this case after the word \"Pada.\""
   ]
  },
  {
   "cell_type": "code",
   "execution_count": 48,
   "metadata": {},
   "outputs": [
    {
     "name": "stdout",
     "output_type": "stream",
     "text": [
      "['On January ', ', 2016, at 11:02 AM']\n"
     ]
    }
   ],
   "source": [
    "print(re.split(r'\\d+', 'On January 12, 2016, at 11:02 AM', maxsplit=1))"
   ]
  },
  {
   "cell_type": "markdown",
   "metadata": {},
   "source": [
    "### Split without limits (default maxsplit)\n",
    "* No maxsplit argument is given, so all `\\d+` (number) patterns will be used for splitting.\n",
    "* Same as the previous example (no limits)\n",
    "* Split is performed on all numbers, i.e., 12, 2016, 11, 02"
   ]
  },
  {
   "cell_type": "code",
   "execution_count": 25,
   "metadata": {},
   "outputs": [
    {
     "name": "stdout",
     "output_type": "stream",
     "text": [
      "['On January ', ', ', ', at ', ':', ' AM']\n"
     ]
    }
   ],
   "source": [
    "print(re.split(r'\\d+','On January 12, 2016, at 11:02 AM'))"
   ]
  },
  {
   "cell_type": "markdown",
   "metadata": {},
   "source": [
    "### Split with flags=re.IGNORECASE\n",
    "* The pattern `[a-f]+` matches one or more letters from a to f\n",
    "* __flags=re.IGNORECASE__ matches case-insensitively\n",
    "* Note: Because matching is case-insensitive (IGNORECASE), the letters A, B, etc. are also counted as matches. The results may appear complex because the pattern `[a-f]+` can match more text."
   ]
  },
  {
   "cell_type": "code",
   "execution_count": 26,
   "metadata": {},
   "outputs": [
    {
     "name": "stdout",
     "output_type": "stream",
     "text": [
      "['', 'y, ', 'oy oh ', 'oy, ', 'om', ' h', 'r', '']\n"
     ]
    }
   ],
   "source": [
    "print(re.split(r'[a-f]+', 'Aey, Boy oh boy, come here', flags=re.IGNORECASE))"
   ]
  },
  {
   "cell_type": "markdown",
   "metadata": {},
   "source": [
    "### Split without flags=re.IGNORECASE (case-sensitive)\n",
    "* The pattern `[a-f]+` (without IGNORECASE) only matches lowercase a-f\n",
    "* Capital letters like A, B will not be matched\n",
    "* Therefore, only lowercase e and a are matched"
   ]
  },
  {
   "cell_type": "code",
   "execution_count": 27,
   "metadata": {
    "colab": {
     "base_uri": "https://localhost:8080/"
    },
    "executionInfo": {
     "elapsed": 20,
     "status": "ok",
     "timestamp": 1688474138058,
     "user": {
      "displayName": "22. Muhammad Tsaqif",
      "userId": "11433106515517245195"
     },
     "user_tz": -420
    },
    "id": "Fhc5_IcMZABn",
    "outputId": "ffb35941-ef5d-483c-9757-ea5d60bbb61b"
   },
   "outputs": [
    {
     "name": "stdout",
     "output_type": "stream",
     "text": [
      "['A', 'y, Boy oh ', 'oy, ', 'om', ' h', 'r', '']\n"
     ]
    }
   ],
   "source": [
    "print(re.split(r'[a-f]+', 'Aey, Boy oh boy, come here'))"
   ]
  },
  {
   "cell_type": "markdown",
   "metadata": {
    "id": "26XUQBoYanqU"
   },
   "source": [
    "## re.sub()"
   ]
  },
  {
   "cell_type": "markdown",
   "metadata": {
    "id": "swvFj2Ehapxl"
   },
   "source": [
    "__re.sub(pattern, repl, string, count=0, flags=0)__\\\n",
    "re.sub(pattern, repl, string, count=0, flags=0) replaces all (or some if count is given) occurrences of a RegEx pattern with a new string in the text."
   ]
  },
  {
   "cell_type": "markdown",
   "metadata": {},
   "source": [
    "### Replacement with IGNORECASE Flag\n",
    "* Will replace `'ub'` (case-insensitive) with `'~*'` in the string 'Subject has ordered an Uber'.\n",
    "* `'ub'` will be recognized in both 'Subject' (Ub) and 'Uber' (Ub)."
   ]
  },
  {
   "cell_type": "code",
   "execution_count": 28,
   "metadata": {},
   "outputs": [
    {
     "name": "stdout",
     "output_type": "stream",
     "text": [
      "S~*ject has ordered an ~*er\n"
     ]
    }
   ],
   "source": [
    "print(re.sub('ub', '~*', 'Subject has ordered an Uber', flags=re.IGNORECASE))"
   ]
  },
  {
   "cell_type": "markdown",
   "metadata": {},
   "source": [
    "### Without the IGNORECASE Flag\n",
    "* Without the flags, it's case sensitive.\n",
    "* `'ub'` only matches all lowercase letters, it doesn't match `'Ub'`.\n",
    "* Only `'ub'` in 'Subject' is replaced, not `'Uber'`."
   ]
  },
  {
   "cell_type": "code",
   "execution_count": 29,
   "metadata": {},
   "outputs": [
    {
     "name": "stdout",
     "output_type": "stream",
     "text": [
      "S~*ject has ordered an Uber\n"
     ]
    }
   ],
   "source": [
    "print(re.sub('ub', '~*', 'Subject has ordered an Uber'))"
   ]
  },
  {
   "cell_type": "markdown",
   "metadata": {},
   "source": [
    "### Limit Number of Replacements (count=1)\n",
    "* Use IGNORECASE, but count=1 limits the number of replacements to 1.\n",
    "* `'ub'` in `'Subject'` is replaced, while `'Uber'` remains."
   ]
  },
  {
   "cell_type": "code",
   "execution_count": 30,
   "metadata": {},
   "outputs": [
    {
     "name": "stdout",
     "output_type": "stream",
     "text": [
      "S~*ject has ordered an Uber\n"
     ]
    }
   ],
   "source": [
    "print(re.sub('ub', '~*', 'Subject has ordered an Uber', count=1, flags=re.IGNORECASE))"
   ]
  },
  {
   "cell_type": "markdown",
   "metadata": {},
   "source": [
    "### Specific Patterns with the Escape Character `\\s`\n",
    "* Pattern: \\sAND\\s means space + 'AND' + space.\n",
    "* 'and' in the sentence does not match because 'AND' ≠ 'dan', unless 'and' is translated to 'and'.\n",
    "* However, because of IGNORECASE, 'and' matches.\n",
    "* Replaced with '&'."
   ]
  },
  {
   "cell_type": "code",
   "execution_count": 31,
   "metadata": {},
   "outputs": [
    {
     "name": "stdout",
     "output_type": "stream",
     "text": [
      "Baked Beans dan Spam\n"
     ]
    }
   ],
   "source": [
    "print(re.sub('\\sAND\\s', ' & ', 'Baked Beans dan Spam', flags=re.IGNORECASE))"
   ]
  },
  {
   "cell_type": "code",
   "execution_count": 32,
   "metadata": {},
   "outputs": [
    {
     "name": "stdout",
     "output_type": "stream",
     "text": [
      "Baked Beans & Spam\n"
     ]
    }
   ],
   "source": [
    "print(re.sub('\\sAND\\s', ' & ', 'Baked Beans and Spam', flags=re.IGNORECASE))"
   ]
  },
  {
   "cell_type": "markdown",
   "metadata": {},
   "source": [
    "### Substring replacement 'ti' with 'ty' once"
   ]
  },
  {
   "cell_type": "code",
   "execution_count": 33,
   "metadata": {},
   "outputs": [
    {
     "name": "stdout",
     "output_type": "stream",
     "text": [
      "Aditya adiTia pramana putra\n"
     ]
    }
   ],
   "source": [
    "print(re.sub('ti','ty','Aditia adiTia pramana putra', count = 1, flags = re.IGNORECASE))"
   ]
  },
  {
   "cell_type": "markdown",
   "metadata": {},
   "source": [
    "### Replace 'ti' without the IGNORECASE flag"
   ]
  },
  {
   "cell_type": "code",
   "execution_count": 34,
   "metadata": {},
   "outputs": [
    {
     "name": "stdout",
     "output_type": "stream",
     "text": [
      "Aditya adiTia pramana putra\n"
     ]
    }
   ],
   "source": [
    "print(re.sub(r'ti','ty','Aditia adiTia pramana putra'))"
   ]
  },
  {
   "cell_type": "markdown",
   "metadata": {
    "id": "8gsEAJdabfPQ"
   },
   "source": [
    "## re.subn()"
   ]
  },
  {
   "cell_type": "markdown",
   "metadata": {
    "id": "gFJYVaIAbg0U"
   },
   "source": [
    "__re.subn(pattern, repl, string, count=0, flags=0)__"
   ]
  },
  {
   "cell_type": "markdown",
   "metadata": {},
   "source": [
    "### Substitute blank characters '' with '~*' (twice)\n",
    "* This will insert `'~*'` twice into the string `'Subject has booked an Uber'` between characters.\n",
    "* `''` means the empty pattern means the match occurs between every character, including the beginning and end of the string.\n",
    "* `'~*'` means the replacement string to be inserted.\n",
    "* `count=2` means only perform the first two substitutions.\n",
    "* The result is the tuple `('~*~*Subject has booked an Uber', 2)` because only two insertions are performed."
   ]
  },
  {
   "cell_type": "code",
   "execution_count": 35,
   "metadata": {},
   "outputs": [
    {
     "name": "stdout",
     "output_type": "stream",
     "text": [
      "('~*T~*he subject has ordered an Uber', 2)\n"
     ]
    }
   ],
   "source": [
    "print(re.subn('', '~*', 'The subject has ordered an Uber', count=2))"
   ]
  },
  {
   "cell_type": "markdown",
   "metadata": {},
   "source": [
    "### Case-insensitive substitution\n",
    "* Replace all occurrences of the word `'ub'` with `'~*'` in a case-insensitive manner (re.IGNORECASE).\n",
    "* `'ub'` matches `'Ub'` in `\"Subject\"` and `\"Uber\"`."
   ]
  },
  {
   "cell_type": "code",
   "execution_count": 36,
   "metadata": {},
   "outputs": [
    {
     "name": "stdout",
     "output_type": "stream",
     "text": [
      "('The s~*ject has ordered an ~*er', 2)\n"
     ]
    }
   ],
   "source": [
    "print(re.subn('ub', '~*', 'The subject has ordered an Uber', flags=re.IGNORECASE))"
   ]
  },
  {
   "cell_type": "markdown",
   "metadata": {
    "id": "CWXq4MLLb_Sb"
   },
   "source": [
    "## re.escape()"
   ]
  },
  {
   "cell_type": "markdown",
   "metadata": {
    "id": "9-K8txogcCni"
   },
   "source": [
    "__re.escape(string)__"
   ]
  },
  {
   "cell_type": "markdown",
   "metadata": {},
   "source": [
    "### Adding escapes to spaces (single non-alphanumeric characters)\n",
    "* Non-alphanumeric characters mean that only spaces `' '` are considered non-alphanumeric.\n",
    "* __re.escape()__ will add a backslash `(\\)` before each space."
   ]
  },
  {
   "cell_type": "code",
   "execution_count": 37,
   "metadata": {},
   "outputs": [
    {
     "name": "stdout",
     "output_type": "stream",
     "text": [
      "It's\\ Amazing\\ Even\\ at\\ 1\\ AM\n"
     ]
    }
   ],
   "source": [
    "print(re.escape(\"It's Amazing Even at 1 AM\"))"
   ]
  },
  {
   "cell_type": "markdown",
   "metadata": {},
   "source": [
    "### Escape various non-alphanumeric (complex) characters\n",
    "* `\\[, \\]` means to escape the regex meaning of the square brackets (character class).\n",
    "* `\\-` means that the minus sign inside the character class can mean a range, so it is escaped.\n",
    "* `\\,` means that the comma is also escaped even though it is not special in the regex.\n",
    "* `\\\\t` means that the tab is changed to two backslashes because \\t is originally a tab.\n",
    "* `\\^` means that the caret is the regex anchor symbol (the beginning of the string), escaped to make it literal."
   ]
  },
  {
   "cell_type": "code",
   "execution_count": 38,
   "metadata": {},
   "outputs": [
    {
     "name": "stdout",
     "output_type": "stream",
     "text": [
      "I\\ Asked\\ What\\ This\\ Was\\ \\[a\\-9\\],\\ He\\ Said\\ \\\t\\ \\^WoW\n"
     ]
    }
   ],
   "source": [
    "print(re.escape(\"I Asked What This Was [a-9], He Said \\t ^WoW\"))"
   ]
  },
  {
   "cell_type": "markdown",
   "metadata": {
    "id": "0arHJutNcM86"
   },
   "source": [
    "## re.search()"
   ]
  },
  {
   "cell_type": "markdown",
   "metadata": {},
   "source": [
    "### Regex Pattern Definitions\n",
    "* `r\"...\"` means a raw string literal so that the backslash `(\\)` is not interpreted as an escape character.\n",
    "* `([a-zA-Z]+)` means the first group matches one or more letters of the alphabet (month names).\n",
    "* `(\\d+)` means the second group matches one or more digits (day/date)."
   ]
  },
  {
   "cell_type": "code",
   "execution_count": 39,
   "metadata": {},
   "outputs": [],
   "source": [
    "regex = r\"([a-zA-Z]+) (\\d+)\""
   ]
  },
  {
   "cell_type": "markdown",
   "metadata": {},
   "source": [
    "### Matching with re.search()\n",
    "* __re.search()__ searches for the first occurrence of a regular expression pattern in a string.\n",
    "* Returns a match object if it matches, or None if it doesn't."
   ]
  },
  {
   "cell_type": "code",
   "execution_count": 40,
   "metadata": {},
   "outputs": [
    {
     "name": "stdout",
     "output_type": "stream",
     "text": [
      "Match found at index 14, 21\n",
      "Full match: 24 June\n",
      "Day: 24\n",
      "Month: June\n"
     ]
    }
   ],
   "source": [
    "# Python program to demonstrate how re.search() works\n",
    "import re\n",
    "\n",
    "# Regex pattern definition:\n",
    "# - (\\d+)         → matches digits (day)\n",
    "# - ([a-zA-Z]+)   → matches month name (letters only)\n",
    "regex = r\"(\\d+) ([a-zA-Z]+)\"\n",
    "\n",
    "# String to be tested\n",
    "sentence = \"I was born on 24 June\"\n",
    "\n",
    "# Searching for the regex pattern in the sentence\n",
    "match = re.search(regex, sentence)\n",
    "\n",
    "# If a match is found\n",
    "if match is not None:\n",
    "    # Display the start and end index of the match\n",
    "    print(\"Match found at index %s, %s\" % (match.start(), match.end()))\n",
    "\n",
    "    # Display the full match (group 0)\n",
    "    print(\"Full match: %s\" % (match.group(0)))\n",
    "\n",
    "    # Display the first group result (Day)\n",
    "    print(\"Day: %s\" % (match.group(1)))\n",
    "\n",
    "    # Display the second group result (Month)\n",
    "    print(\"Month: %s\" % (match.group(2)))\n",
    "\n",
    "# If no match is found\n",
    "else:\n",
    "    print(\"No regex match found.\")\n"
   ]
  },
  {
   "cell_type": "markdown",
   "metadata": {
    "id": "XyCfLKdmcms8"
   },
   "source": [
    "# Match Object"
   ]
  },
  {
   "cell_type": "code",
   "execution_count": 41,
   "metadata": {},
   "outputs": [
    {
     "name": "stdout",
     "output_type": "stream",
     "text": [
      "Regex used (Example 1): re.compile('\\\\bN')\n",
      "Source string (Example 1): Universitas Negeri terbaik di Indonesia adalah ...\n",
      "Start index of the match for 'N': 12\n",
      "End index of the match for 'N': 13\n",
      "Match span (start, end): (12, 13)\n",
      "\n",
      "--------------------------------------------------\n",
      "\n",
      "Regex used (Example 2): re.compile('\\\\bM')\n",
      "Source string (Example 2): Gw kece dari lahir\n",
      "Muhamad Petra Piyunandra\n",
      "Start index of the match for 'M': 19\n",
      "End index of the match for 'M': 20\n",
      "Match span (start, end): (19, 20)\n"
     ]
    }
   ],
   "source": [
    "import re\n",
    "\n",
    "# Example 1: Search for the letter 'N' at the beginning of a word in a string\n",
    "s = \"Universitas Negeri terbaik di Indonesia adalah ...\"\n",
    "\n",
    "# \\bN means: find the letter 'N' at the beginning of a word\n",
    "res = re.search(r\"\\bN\", s)\n",
    "\n",
    "# Display the regex used\n",
    "print(\"Regex used (Example 1):\", res.re)\n",
    "\n",
    "# Display the source string\n",
    "print(\"Source string (Example 1):\", res.string)\n",
    "\n",
    "# Display the start index of the matched 'N'\n",
    "print(\"Start index of the match for 'N':\", res.start())\n",
    "\n",
    "# Display the end index of the match (right after 'N')\n",
    "print(\"End index of the match for 'N':\", res.end())\n",
    "\n",
    "# Display the match range as a tuple (start, end)\n",
    "print(\"Match span (start, end):\", res.span())\n",
    "\n",
    "\n",
    "print(\"\\n\" + \"-\"*50 + \"\\n\")  # Separator between examples\n",
    "\n",
    "\n",
    "# Example 2: Search for the letter 'M' at the beginning of a word in a string with newline\n",
    "a = 'Gw kece dari lahir\\nMuhamad Petra Piyunandra'\n",
    "\n",
    "# \\bM means: find the letter 'M' at the beginning of a word\n",
    "res = re.search(r\"\\bM\", a)\n",
    "\n",
    "# Display the regex used\n",
    "print(\"Regex used (Example 2):\", res.re)\n",
    "\n",
    "# Display the source string\n",
    "print(\"Source string (Example 2):\", res.string)\n",
    "\n",
    "# Display the start index of the matched 'M'\n",
    "print(\"Start index of the match for 'M':\", res.start())\n",
    "\n",
    "# Display the end index of the match (right after 'M')\n",
    "print(\"End index of the match for 'M':\", res.end())\n",
    "\n",
    "# Display the match range as a tuple (start, end)\n",
    "print(\"Match span (start, end):\", res.span())"
   ]
  },
  {
   "cell_type": "markdown",
   "metadata": {
    "id": "1HgcKLCUk7IW"
   },
   "source": [
    "## Matching pattern with text"
   ]
  },
  {
   "cell_type": "code",
   "execution_count": 42,
   "metadata": {
    "colab": {
     "base_uri": "https://localhost:8080/"
    },
    "executionInfo": {
     "elapsed": 417,
     "status": "ok",
     "timestamp": 1684919489805,
     "user": {
      "displayName": "Adi Winardi",
      "userId": "17059570974866336814"
     },
     "user_tz": -420
    },
    "id": "tLxJ8iP7jGR6",
    "outputId": "7bdfc0c3-d6ab-46f6-8b40-a4c7acb8761b"
   },
   "outputs": [
    {
     "name": "stdout",
     "output_type": "stream",
     "text": [
      "Not a valid date format\n",
      "\n",
      "Not a valid date format\n",
      "\n",
      "Not a valid date format\n",
      "\n",
      "Provided data: Januari 79\n",
      "Month: Januari\n",
      "Day: 79\n"
     ]
    }
   ],
   "source": [
    "# Python program to demonstrate the working of re.match()\n",
    "import re\n",
    "\n",
    "# Example function using regular expressions\n",
    "# to extract the month and day from a given date string.\n",
    "def findMonthAndDate(string):\n",
    "\n",
    "    regex = r\"([a-zA-Z]+) (\\d+)\"\n",
    "    match = re.match(regex, string)\n",
    "\n",
    "    if match == None:\n",
    "        print(\"Not a valid date format\")\n",
    "    else:\n",
    "        print(\"Provided data: %s\" % (match.group()))\n",
    "        print(\"Month: %s\" % (match.group(1)))\n",
    "        print(\"Day: %s\" % (match.group(2)))\n",
    "\n",
    "# Driver Code\n",
    "findMonthAndDate(\"24 April\")\n",
    "print(\"\")\n",
    "findMonthAndDate(\"24 Juni\")\n",
    "print(\"\")\n",
    "findMonthAndDate(\"24 Desember\")\n",
    "print(\"\")\n",
    "findMonthAndDate(\"Januari 79\")\n"
   ]
  },
  {
   "cell_type": "markdown",
   "metadata": {
    "id": "ot8H6djhlf-G"
   },
   "source": [
    "## Find all occurence in pattern"
   ]
  },
  {
   "cell_type": "code",
   "execution_count": 43,
   "metadata": {
    "colab": {
     "base_uri": "https://localhost:8080/"
    },
    "executionInfo": {
     "elapsed": 402,
     "status": "ok",
     "timestamp": 1681265907587,
     "user": {
      "displayName": "Fabin Wantara",
      "userId": "18317389429670588956"
     },
     "user_tz": -420
    },
    "id": "cDpdwqNPlCGG",
    "outputId": "0dbe6989-c90e-48c0-f288-7a717078763a"
   },
   "outputs": [
    {
     "name": "stdout",
     "output_type": "stream",
     "text": [
      "<re.Match object; span=(20, 29), match='123456789'>\n",
      "\n",
      "['123456789', '987654321']\n"
     ]
    }
   ],
   "source": [
    "# Python program to demonstrate the working of findall()\n",
    "# Example text string where regular expressions\n",
    "# will be applied.\n",
    "\n",
    "string = \"\"\"Hello, my number is 123456789 and\n",
    "        my friend's number is 987654321\"\"\"\n",
    "\n",
    "# Example regular expression to find digits.\n",
    "regex = r'\\d+'\n",
    "\n",
    "# Using re.search() to find the first match\n",
    "match = re.search(regex, string)\n",
    "print(match)\n",
    "print(\"\")\n",
    "\n",
    "# Using re.findall() to find all matches\n",
    "match = re.findall(regex, string)\n",
    "print(match)"
   ]
  },
  {
   "cell_type": "markdown",
   "metadata": {
    "id": "XCAsGl-Wnhwq"
   },
   "source": [
    "## re.VERBOSE"
   ]
  },
  {
   "cell_type": "code",
   "execution_count": 44,
   "metadata": {
    "id": "hsbH1AvxlmhX"
   },
   "outputs": [],
   "source": [
    "# Without using VERBOSE\n",
    "regex_email = re.compile(r'^([a-z0-9_\\.-]+)@([0-9a-z\\.-]+)\\.([a-z\\.]{2,6})$',\n",
    "                         re.IGNORECASE)\n",
    "\n",
    "# Using VERBOSE for better readability\n",
    "regex_email = re.compile(r\"\"\"\n",
    "                ^([a-z0-9_\\.-]+)     # Local part\n",
    "                @                    # Single @ symbol\n",
    "                ([0-9a-z\\.-]+)       # Domain name\n",
    "                \\.                   # A single dot .\n",
    "                ([a-z]{2,6})$        # Top-level domain (TLD)\n",
    "                \"\"\", re.VERBOSE | re.IGNORECASE)\n"
   ]
  },
  {
   "cell_type": "markdown",
   "metadata": {
    "id": "gal0XUPcn5ZM"
   },
   "source": [
    "This is passed as an argument to re.compile(), i.e., re.compile(RegularExpression, re.VERBOSE). re.compile() returns a RegExObject that is then matched against the given string.\n",
    "\n",
    "Let's consider an example where a user is asked to enter their email ID and we need to validate it using RegEx. The email format is as follows:"
   ]
  },
  {
   "cell_type": "markdown",
   "metadata": {
    "id": "fiF2TL_0n-H4"
   },
   "source": [
    "- Personal details/local sections such as john123\n",
    "- Single @\n",
    "- Domain names such as gmail/yahoo, etc.\n",
    "- Single dot (.)\n",
    "- Top-level domains such as .com/.org/.net"
   ]
  },
  {
   "cell_type": "markdown",
   "metadata": {
    "id": "3piG2tSDoFxR"
   },
   "source": [
    "Input : expectationvsreality@gmail.com\\\n",
    "Output : Valid\n",
    "\n",
    "Input : greatwonderland@yahoo.com@\\\n",
    "Output: Invalid\n",
    "\n",
    "invalid because there is @ after the top level domain name."
   ]
  },
  {
   "cell_type": "code",
   "execution_count": 45,
   "metadata": {
    "colab": {
     "base_uri": "https://localhost:8080/"
    },
    "executionInfo": {
     "elapsed": 11,
     "status": "ok",
     "timestamp": 1682178495245,
     "user": {
      "displayName": "12O41OO46_Gabriel Camoranesa Simarmata",
      "userId": "11218007227447981365"
     },
     "user_tz": -420
    },
    "id": "PU6MI5h_njj3",
    "outputId": "2ca4b485-7f69-4a91-95f5-7d7846c62176"
   },
   "outputs": [
    {
     "name": "stdout",
     "output_type": "stream",
     "text": [
      "aliceinwonderland@gmail.com is Valid. Details are as follows:\n",
      "Local: aliceinwonderland\n",
      "Domain: gmail\n",
      "Top-Level Domain: com\n",
      "\n",
      "harrypotter@yahoo.com@ is Invalid\n",
      "Crucialllife@.com is Invalid\n"
     ]
    }
   ],
   "source": [
    "# Python3 program to demonstrate implementation of VERBOSE in RegEX\n",
    "import re\n",
    "\n",
    "def validate_email(email):\n",
    "\n",
    "    # RegexObject = re.compile( Regular expression, flag )\n",
    "    # Compiling the regular expression pattern into a\n",
    "    # regular expression object\n",
    "    regex_email = re.compile(r\"\"\"\n",
    "                ^([a-z0-9_\\.-]+)     # Local part\n",
    "                @\n",
    "                ([0-9a-z\\.-]+)       # Domain name\n",
    "                \\.                   # Single dot .\n",
    "                ([a-z]{2,6})$        # Top-level domain\n",
    "                \"\"\", re.VERBOSE | re.IGNORECASE)\n",
    "\n",
    "    # RegexObject is matched with the input\n",
    "    # string using the fullmatch() function\n",
    "    # If a match is found, fullmatch()\n",
    "    # returns a MatchObject instance\n",
    "\n",
    "    res = regex_email.fullmatch(email)\n",
    "\n",
    "    # If match is found, the string is valid\n",
    "    if res:\n",
    "        print(\"{} is Valid. Details are as follows:\".format(email))\n",
    "\n",
    "        # Print the local/personal part of the email ID\n",
    "        print(\"Local: {}\".format(res.group(1)))\n",
    "\n",
    "        # Print the domain name of the email ID\n",
    "        print(\"Domain: {}\".format(res.group(2)))\n",
    "\n",
    "        # Print the top-level domain of the email ID\n",
    "        print(\"Top-Level Domain: {}\".format(res.group(3)))\n",
    "        print()\n",
    "\n",
    "    else:\n",
    "        # If no match is found, the string is invalid\n",
    "        print(\"{} is Invalid\".format(email))\n",
    "\n",
    "# Driver Code\n",
    "validate_email(\"aliceinwonderland@gmail.com\")\n",
    "validate_email(\"harrypotter@yahoo.com@\")\n",
    "validate_email(\"Crucialllife@.com\")\n"
   ]
  },
  {
   "cell_type": "code",
   "execution_count": 46,
   "metadata": {
    "colab": {
     "base_uri": "https://localhost:8080/"
    },
    "executionInfo": {
     "elapsed": 563,
     "status": "ok",
     "timestamp": 1685339613067,
     "user": {
      "displayName": "Adi Winardi",
      "userId": "17059570974866336814"
     },
     "user_tz": -420
    },
    "id": "ywuMNnQLQ3Bt",
    "outputId": "60fa9182-30c8-4ace-9825-79be39321d3c"
   },
   "outputs": [
    {
     "name": "stdout",
     "output_type": "stream",
     "text": [
      "@aditpramna is Valid. Details are as follows:\n",
      "Username: aditpramna\n",
      "aditya167 is Invalid\n",
      "aditya@pram is Invalid\n",
      "@winardi1004 is Valid. Details are as follows:\n",
      "Username: winardi1004\n"
     ]
    }
   ],
   "source": [
    "# Python3 program to demonstrate implementation of VERBOSE in RegEX\n",
    "import re\n",
    "\n",
    "def user_instagram(instagram):\n",
    "\n",
    "    regex_instagram = re.compile(r\"\"\"\n",
    "                    ^@              # single @ symbol\n",
    "                    ([a-z0-9_\\.-]+) # username part\n",
    "                    \"\"\", re.VERBOSE | re.IGNORECASE)\n",
    "\n",
    "    res = regex_instagram.fullmatch(instagram)\n",
    "\n",
    "    if res:\n",
    "        print(\"{} is Valid. Details are as follows:\".format(instagram))\n",
    "\n",
    "        print(\"Username: {}\".format(res.group(1)))\n",
    "\n",
    "    else:\n",
    "        # If no match is found, the string is invalid\n",
    "        print(\"{} is Invalid\".format(instagram))\n",
    "\n",
    "# Driver Code\n",
    "user_instagram(\"@aditpramna\")\n",
    "user_instagram(\"aditya167\")\n",
    "user_instagram(\"aditya@pram\")\n",
    "user_instagram(\"@winardi1004\")\n"
   ]
  },
  {
   "cell_type": "code",
   "execution_count": 47,
   "metadata": {
    "colab": {
     "base_uri": "https://localhost:8080/"
    },
    "executionInfo": {
     "elapsed": 383,
     "status": "ok",
     "timestamp": 1685344250361,
     "user": {
      "displayName": "Adi Winardi",
      "userId": "17059570974866336814"
     },
     "user_tz": -420
    },
    "id": "VGECdH66_ZB8",
    "outputId": "fbd0edfc-c30d-4796-f61e-427babcdd0b8"
   },
   "outputs": [
    {
     "name": "stdout",
     "output_type": "stream",
     "text": [
      "adgan167@gmail.com is Valid. The details are as follows:\n",
      "Local: adgan167\n",
      "Domain: gmail\n",
      "Top-level Domain: com\n",
      "\n",
      "aditpramna1@@gmail.com is not a valid email format\n",
      "adityapramana107@gmail.com is Valid. The details are as follows:\n",
      "Local: adityapramana107\n",
      "Domain: gmail\n",
      "Top-level Domain: com\n",
      "\n",
      "Awinardi1004@gmail.com is Valid. The details are as follows:\n",
      "Local: Awinardi1004\n",
      "Domain: gmail\n",
      "Top-level Domain: com\n",
      "\n"
     ]
    }
   ],
   "source": [
    "import re\n",
    "\n",
    "def validate_email(email):\n",
    "\n",
    "    regex_email = re.compile(r\"\"\"\n",
    "    ^([a-z0-9_\\.-]+)     # Local part\n",
    "    @                    # Single @ symbol\n",
    "    ([0-9a-z\\.-]+)       # Domain name\n",
    "    \\.                   # Single dot .\n",
    "    ([a-z]{2,6})$        # Top-level domain\n",
    "    \"\"\", re.VERBOSE | re.IGNORECASE)\n",
    "\n",
    "    res = regex_email.fullmatch(email)\n",
    "\n",
    "    if res:\n",
    "        print(\"{} is Valid. The details are as follows:\".format(email))\n",
    "\n",
    "        print(\"Local: {}\".format(res.group(1)))\n",
    "\n",
    "        print(\"Domain: {}\".format(res.group(2)))\n",
    "    \n",
    "        print(\"Top-level Domain: {}\".format(res.group(3)))\n",
    "        print()\n",
    "\n",
    "    else:\n",
    "        print(\"{} is not a valid email format\".format(email))\n",
    "\n",
    "# Driver Code\n",
    "validate_email(\"adgan167@gmail.com\")\n",
    "validate_email(\"aditpramna1@@gmail.com\")\n",
    "validate_email(\"adityapramana107@gmail.com\")\n",
    "validate_email(\"Awinardi1004@gmail.com\")\n"
   ]
  },
  {
   "cell_type": "markdown",
   "metadata": {
    "id": "gbowpmORpEXh"
   },
   "source": [
    "# Regex Function Summary\n",
    "\n",
    "| Function | Purpose |\n",
    "| ----------- | ------------------------------------------------------------- |\n",
    "| `findall()` | Gets all matches as a list |\n",
    "| `compile()` | Creates a regex object |\n",
    "| `split()` | Splits a string based on a pattern |\n",
    "| `sub()` | Replaces a pattern with a new string |\n",
    "| `subn()` | Like `sub`, but also gives the number of replacements |\n",
    "| `escape()` | Protects special characters from being interpreted as regex |\n",
    "| `search()` | Searches for the first **one** match |\n",
    "| `VERBOSE` | Makes regex more readable with comments and spaces |"
   ]
  },
  {
   "cell_type": "markdown",
   "metadata": {},
   "source": [
    "# Thank you"
   ]
  },
  {
   "cell_type": "code",
   "execution_count": null,
   "metadata": {},
   "outputs": [],
   "source": []
  }
 ],
 "metadata": {
  "colab": {
   "provenance": []
  },
  "kernelspec": {
   "display_name": "Python 3 (ipykernel)",
   "language": "python",
   "name": "python3"
  },
  "language_info": {
   "codemirror_mode": {
    "name": "ipython",
    "version": 3
   },
   "file_extension": ".py",
   "mimetype": "text/x-python",
   "name": "python",
   "nbconvert_exporter": "python",
   "pygments_lexer": "ipython3",
   "version": "3.13.5"
  }
 },
 "nbformat": 4,
 "nbformat_minor": 4
}
