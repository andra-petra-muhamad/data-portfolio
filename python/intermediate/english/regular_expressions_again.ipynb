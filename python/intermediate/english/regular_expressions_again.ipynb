{
 "cells": [
  {
   "cell_type": "markdown",
   "metadata": {},
   "source": [
    "# Some Examples of Regular Expressions"
   ]
  },
  {
   "cell_type": "markdown",
   "metadata": {
    "id": "3gtK-BGXQgh4"
   },
   "source": [
    "# Simple\n"
   ]
  },
  {
   "cell_type": "markdown",
   "metadata": {
    "id": "fXVTzM7iQkl3"
   },
   "source": [
    "## Example 1: Email Address Validation\n",
    "* `email_pattern` is a regular expression (regex) pattern for checking whether a string is a valid email address.\n",
    "* __re.match()__ matches the string from the beginning against the regular expression.\n",
    "* Outputs \"Valid email address.\" if it matches, and \"Invalid email address.\" if it does not."
   ]
  },
  {
   "cell_type": "code",
   "execution_count": 1,
   "metadata": {
    "colab": {
     "base_uri": "https://localhost:8080/"
    },
    "executionInfo": {
     "elapsed": 356,
     "status": "ok",
     "timestamp": 1697274175213,
     "user": {
      "displayName": "Z A Z A",
      "userId": "07938683278567556560"
     },
     "user_tz": -420
    },
    "id": "-Ikx2mt-MuAf",
    "outputId": "24ac3c88-07b8-47ed-c19f-0177a1351140"
   },
   "outputs": [
    {
     "name": "stdout",
     "output_type": "stream",
     "text": [
      "Valid email.\n"
     ]
    }
   ],
   "source": [
    "import re\n",
    "\n",
    "email_pattern = r'^[\\w\\.-]+@[\\w\\.-]+\\.\\w+$'\n",
    "email = \"example@email.com\"\n",
    "\n",
    "if re.match(email_pattern, email):\n",
    "    print(\"Valid email.\")\n",
    "else:\n",
    "    print(\"Invalid email.\")\n"
   ]
  },
  {
   "cell_type": "markdown",
   "metadata": {},
   "source": [
    "Explanation:\n",
    "* email_pattern: A more stringent and commonly used RegEx pattern for email validation.\n",
    "* The character before `@` can be a letter, number, underscore `(_)`, period `(.)`, plus sign `(+)`, or minus sign `(-)`.\n",
    "* After `@`, the domain name only accepts letters, numbers, and the - sign.\n",
    "* Ends with a top-level domain (such as .com, .id, etc.) with at least 2 letters.\n",
    "* The __re.match()__ function will match from the beginning of the string."
   ]
  },
  {
   "cell_type": "code",
   "execution_count": 4,
   "metadata": {},
   "outputs": [
    {
     "name": "stdout",
     "output_type": "stream",
     "text": [
      "Valid email.\n"
     ]
    }
   ],
   "source": [
    "import re\n",
    "\n",
    "email_pattern = r'^[a-zA-Z0-9_.+-]+@[a-zA-Z0-9-]+\\.[a-zA-Z]{2,}$'\n",
    "email = \"example@email.com\"\n",
    "\n",
    "if re.match(email_pattern, email):\n",
    "    print(\"Valid email.\")\n",
    "else:\n",
    "    print(\"Invalid email.\")"
   ]
  },
  {
   "cell_type": "markdown",
   "metadata": {
    "id": "sJp8E9vLIEbo"
   },
   "source": [
    "Explanation:\n",
    "* In this example, we use a regular expression (email_pattern) that matches properly formatted email addresses.\n",
    "* This expression checks the characters before and after the \"@\" (@), as well as the domain.\n",
    "* If the email address matches this pattern, we declare the email valid."
   ]
  },
  {
   "cell_type": "markdown",
   "metadata": {
    "id": "-AsgxIWPQtcf"
   },
   "source": [
    "## Example 2: Extracting Domains from Email Addresses\n",
    "* __re.search(r'@([\\w\\.-]+)', email)__ searches for the pattern `@` followed by one or more characters: letters, numbers, underscore `(_)`, period `(.)`, or minus sign `(-)`.\n",
    "* __.group(1)__ returns the portion enclosed in parentheses `()`, that is, just the domain, without the `@`."
   ]
  },
  {
   "cell_type": "code",
   "execution_count": 5,
   "metadata": {
    "colab": {
     "base_uri": "https://localhost:8080/"
    },
    "executionInfo": {
     "elapsed": 343,
     "status": "ok",
     "timestamp": 1697274221362,
     "user": {
      "displayName": "Z A Z A",
      "userId": "07938683278567556560"
     },
     "user_tz": -420
    },
    "id": "ouPk0znxQu04",
    "outputId": "44cba08a-5853-49f5-9bd7-d72eaad10c25"
   },
   "outputs": [
    {
     "name": "stdout",
     "output_type": "stream",
     "text": [
      "Domain: rocketmail.com\n"
     ]
    }
   ],
   "source": [
    "import re\n",
    "\n",
    "email = \"example@rocketmail.com\"\n",
    "\n",
    "# Find the domain part after the '@' symbol\n",
    "domain = re.search(r'@([\\w\\.-]+)', email).group(1)\n",
    "\n",
    "print(\"Domain:\", domain)"
   ]
  },
  {
   "cell_type": "markdown",
   "metadata": {},
   "source": [
    "Explanation:\n",
    "* `r'@([a-zA-Z0-9.-]+)'`: This pattern searches for the `@` symbol followed by any combination of letters, numbers, periods, or minus signs.\n",
    "* .group(1): Gets only the part inside the parentheses (i.e., rocketmail.com, without the @).\n",
    "* .group() (without numbers): Gets the entire match, i.e., @rocketmail.com.\n",
    "* re.search(...): Returns the match object along with the match position."
   ]
  },
  {
   "cell_type": "code",
   "execution_count": 6,
   "metadata": {},
   "outputs": [
    {
     "name": "stdout",
     "output_type": "stream",
     "text": [
      "Domain: rocketmail.com\n",
      "<re.Match object; span=(7, 22), match='@rocketmail.com'>\n",
      "@rocketmail.com\n"
     ]
    }
   ],
   "source": [
    "import re\n",
    "\n",
    "email = \"example@rocketmail.com\"\n",
    "\n",
    "# Find the domain part after the '@' symbol\n",
    "domain = re.search(r'@([a-zA-Z0-9.-]+)', email).group(1)\n",
    "\n",
    "print(\"Domain:\", domain)  # Prints domain only (without '@')\n",
    "\n",
    "# Print the match object\n",
    "print(re.search(r'@([a-zA-Z0-9.-]+)', email))\n",
    "\n",
    "# Print the full match including '@'\n",
    "print(re.search(r'@([a-zA-Z0-9.-]+)', email).group())"
   ]
  },
  {
   "cell_type": "markdown",
   "metadata": {
    "id": "olHloADAQ7s3"
   },
   "source": [
    "# Intermediate"
   ]
  },
  {
   "cell_type": "markdown",
   "metadata": {
    "id": "GciwF0IQQ__f"
   },
   "source": [
    "## Example 1: Extracting All Links from an HTML Page\n",
    "* __re.findall(...)__: Returns all strings that match a regular expression pattern.\n",
    "* __r'href=[\"\\'](https?://\\S+)[\"\\']'__: Finds the value of the href attribute that contains a link starting with `http://` or `https://`.\n",
    "* `\\S+`: Represents one or more non-whitespace characters up to the closing quotation mark."
   ]
  },
  {
   "cell_type": "code",
   "execution_count": 7,
   "metadata": {
    "colab": {
     "base_uri": "https://localhost:8080/"
    },
    "executionInfo": {
     "elapsed": 387,
     "status": "ok",
     "timestamp": 1697274405644,
     "user": {
      "displayName": "Z A Z A",
      "userId": "07938683278567556560"
     },
     "user_tz": -420
    },
    "id": "wE-hIOFWQ9hM",
    "outputId": "db9b4e51-ccda-4c39-c44f-2665d2872514"
   },
   "outputs": [
    {
     "name": "stdout",
     "output_type": "stream",
     "text": [
      "Link: https://example.com\n",
      "Link: https://openai.com\n"
     ]
    }
   ],
   "source": [
    "import re\n",
    "\n",
    "html = \"\"\"\n",
    "<a href=\"https://example.com\">Link 1</a>\n",
    "<a href=\"https://openai.com\">Link 2</a>\n",
    "<p>Not a link</p>\n",
    "\"\"\"\n",
    "\n",
    "# Find all links within href attributes\n",
    "links = re.findall(r'href=[\"\\'](https?://\\S+)[\"\\']', html)\n",
    "\n",
    "# Print each found link\n",
    "for link in links:\n",
    "    print(\"Link:\", link)\n"
   ]
  },
  {
   "cell_type": "markdown",
   "metadata": {},
   "source": [
    "Explanation:\n",
    "* __re.findall(...)__ searches for all matches of a pattern in an HTML string.\n",
    "* The pattern `r'href=[\"\\'](https?://\\S+)[\"\\']'` searches for links in the href attribute.\n",
    "* `https?` includes both http and https.\n",
    "* `\\S+` means one or more non-whitespace characters (up to the closing quotation mark).\n",
    "* __print(links)__ displays the entire extracted list."
   ]
  },
  {
   "cell_type": "code",
   "execution_count": 10,
   "metadata": {},
   "outputs": [
    {
     "name": "stdout",
     "output_type": "stream",
     "text": [
      "Link: https://example.com\n",
      "Link: https://openai.com\n",
      "['https://example.com', 'https://openai.com']\n"
     ]
    }
   ],
   "source": [
    "import re\n",
    "\n",
    "html = \"\"\"\n",
    "<a href=\"https://example.com\">Link 1</a>\n",
    "<a href=\"https://openai.com\">Link 2</a>\n",
    "<p>Not a link</p>\n",
    "\"\"\"\n",
    "\n",
    "# Find all URLs from href attributes starting with http or https\n",
    "links = re.findall(r'href=[\"\\'](https?://\\S+)[\"\\']', html)\n",
    "\n",
    "# Print each link one by one\n",
    "for link in links:\n",
    "    print(\"Link:\", link)\n",
    "\n",
    "# Print the full list of links\n",
    "print(links)"
   ]
  },
  {
   "cell_type": "markdown",
   "metadata": {},
   "source": [
    "Explanation:\n",
    "* `href=[\"\\']`: Searches for the word href= followed by a quotation mark (either \" or ').\n",
    "* `(https?://[^\\s\"\\'<>]+)`:\n",
    "  - `https?://`: Matches either http:// or https://.\n",
    "  - `[^\\s\"\\'<>]`+: Searches for one or more characters other than spaces, quotation marks (\" '), and the < > symbol.\n",
    "* `[\"\\']`: Closing quotation mark."
   ]
  },
  {
   "cell_type": "code",
   "execution_count": 11,
   "metadata": {},
   "outputs": [
    {
     "name": "stdout",
     "output_type": "stream",
     "text": [
      "Link: https://example.com\n",
      "Link: https://openai.com\n"
     ]
    }
   ],
   "source": [
    "import re\n",
    "\n",
    "html = \"\"\"\n",
    "<a href=\"https://example.com\">Link 1</a>\n",
    "<a href=\"https://openai.com\">Link 2</a>\n",
    "<p>Not a link</p>\n",
    "\"\"\"\n",
    "\n",
    "# Find all valid URLs from href attributes\n",
    "links = re.findall(r'href=[\"\\'](https?://[^\\s\"\\'<>]+)[\"\\']', html)\n",
    "\n",
    "# Print all found links\n",
    "for link in links:\n",
    "    print(\"Link:\", link)\n"
   ]
  },
  {
   "cell_type": "markdown",
   "metadata": {
    "id": "lATq4ukrRLEH"
   },
   "source": [
    "## Example 2: Extracting URLs from HTML Text\n",
    "* `<a [^>]*`: Matches the <a tag and any character (except >) as many times as possible.\n",
    "* `href=[\"\\']`: Matches the `href=` attribute followed by single or double quotes.\n",
    "* `(https?://\\S+)`: Captures links that start with `http://` or `https://` and are followed by any non-whitespace character.\n",
    "* `[\"\\']`: Closes a quote."
   ]
  },
  {
   "cell_type": "code",
   "execution_count": 12,
   "metadata": {
    "colab": {
     "base_uri": "https://localhost:8080/"
    },
    "executionInfo": {
     "elapsed": 4,
     "status": "ok",
     "timestamp": 1697274436184,
     "user": {
      "displayName": "Z A Z A",
      "userId": "07938683278567556560"
     },
     "user_tz": -420
    },
    "id": "e5PVPf-uRML8",
    "outputId": "717188eb-5920-4b80-eb0d-b92064da1f32"
   },
   "outputs": [
    {
     "name": "stdout",
     "output_type": "stream",
     "text": [
      "Link: https://example.com\n",
      "Link: https://openai.com\n"
     ]
    }
   ],
   "source": [
    "import re\n",
    "\n",
    "html = \"\"\"\n",
    "Visit our website at <a href=\"https://example.com\">Example</a>\n",
    "Click <a href=\"https://openai.com\">here</a> for more info.\n",
    "\"\"\"\n",
    "\n",
    "# Find all URLs from <a> elements containing href\n",
    "links = re.findall(r'<a [^>]*href=[\"\\'](https?://\\S+)[\"\\']', html)\n",
    "\n",
    "# Print all found links\n",
    "for link in links:\n",
    "    print(\"Link:\", link)\n"
   ]
  },
  {
   "cell_type": "markdown",
   "metadata": {
    "id": "Jn1LWdwQRV6u"
   },
   "source": [
    "# Advanced"
   ]
  },
  {
   "cell_type": "markdown",
   "metadata": {
    "id": "JCU8OuesRYWm"
   },
   "source": [
    "## Example 1: Validating Phone Numbers with Different Formats\n",
    "* `^` and `$`: Mark the beginning and end of the string.\n",
    "* `\\+`: Must start with a `+` sign (country code).\n",
    "* `\\d{1,3}`: 1–3 digit number (country code).\n",
    "* `\\s?`: Spaces are allowed after the country code.\n",
    "* `\\d{1,3}[-. ]\\d{1,4}[-. ]\\d{1,4}`: Number format (separated by `-`, ., or spaces)."
   ]
  },
  {
   "cell_type": "code",
   "execution_count": 13,
   "metadata": {
    "colab": {
     "base_uri": "https://localhost:8080/"
    },
    "executionInfo": {
     "elapsed": 338,
     "status": "ok",
     "timestamp": 1697274581994,
     "user": {
      "displayName": "Z A Z A",
      "userId": "07938683278567556560"
     },
     "user_tz": -420
    },
    "id": "8Y3ZQkATRX0p",
    "outputId": "6724e227-b46d-4e4d-de72-ffe089b9127d"
   },
   "outputs": [
    {
     "name": "stdout",
     "output_type": "stream",
     "text": [
      "Phone Number '+1 123-456-7890' is valid.\n",
      "Phone Number '555-5555' is not valid.\n",
      "Phone Number '123.456.7890' is not valid.\n",
      "Phone Number '+44 20 7123 1234' is valid.\n"
     ]
    }
   ],
   "source": [
    "import re\n",
    "\n",
    "phone_numbers = [\"+1 123-456-7890\", \"555-5555\", \"123.456.7890\", \"+44 20 7123 1234\"]\n",
    "\n",
    "# Regex pattern to match international phone numbers\n",
    "phone_pattern = r'^\\+\\d{1,3}\\s?\\d{1,3}[-. ]\\d{1,4}[-. ]\\d{1,4}$'\n",
    "\n",
    "# Loop through each phone number\n",
    "for phone in phone_numbers:\n",
    "    if re.match(phone_pattern, phone):\n",
    "        print(f\"Phone Number '{phone}' is valid.\")\n",
    "    else:\n",
    "        print(f\"Phone Number '{phone}' is not valid.\")\n"
   ]
  },
  {
   "cell_type": "markdown",
   "metadata": {},
   "source": [
    "This code wants to check whether the string \"+1 123-456-7890\" matches the international phone number pattern given by the regex phone_pattern.\\\n",
    "If it doesn't match, it will return `None`."
   ]
  },
  {
   "cell_type": "code",
   "execution_count": 14,
   "metadata": {},
   "outputs": [
    {
     "name": "stdout",
     "output_type": "stream",
     "text": [
      "<re.Match object; span=(0, 15), match='+1 123-456-7890'>\n"
     ]
    }
   ],
   "source": [
    "import re\n",
    "\n",
    "phone_numbers = [\"+1 123-456-7890\", \"555-5555\", \"123.456.7890\", \"+44 20 7123 1234\"]\n",
    "\n",
    "phone_pattern = r'^\\+\\d{1,3}\\s?\\d{1,3}[-. ]\\d{1,4}[-. ]\\d{1,4}$'\n",
    "\n",
    "print(re.match(phone_pattern, phone_numbers[0]))"
   ]
  },
  {
   "cell_type": "markdown",
   "metadata": {},
   "source": [
    "Explanation:\n",
    "* `^` and `$`: ensure a match from the beginning to the end of the string\n",
    "* `\\+?`: optional + character at the beginning (country code)\n",
    "* `(\\d{1,3})?`: country code (1–3 digits) → optional\n",
    "* `[-.\\s]?`: optional separator (can be -, . or space)\n",
    "* `(\\d{1,4})?`: beginning of the phone number → optional\n",
    "* `[-.\\s]?`: separator again\n",
    "* `(\\d{1,4})`: second part of the number (required)\n",
    "* `[-.\\s]?`: separator\n",
    "* `(\\d{1,9})`: end of the number (maximum 9 digits)"
   ]
  },
  {
   "cell_type": "code",
   "execution_count": 15,
   "metadata": {},
   "outputs": [
    {
     "name": "stdout",
     "output_type": "stream",
     "text": [
      "Phone number '+1 123-456-7890' is valid.\n",
      "Phone number '555-5555' is valid.\n",
      "Phone number '123.456.7890' is valid.\n",
      "Phone number '+44 20 7123 1234' is valid.\n"
     ]
    }
   ],
   "source": [
    "import re\n",
    "\n",
    "phone_numbers = [\"+1 123-456-7890\", \"555-5555\", \"123.456.7890\", \"+44 20 7123 1234\"]\n",
    "\n",
    "phone_pattern = r'^\\+?(\\d{1,3})?[-.\\s]?(\\d{1,4})?[-.\\s]?(\\d{1,4})[-.\\s]?(\\d{1,9})$'\n",
    "\n",
    "for phone in phone_numbers:\n",
    "    if re.match(phone_pattern, phone):\n",
    "        print(f\"Phone number '{phone}' is valid.\")\n",
    "    else:\n",
    "        print(f\"Phone number '{phone}' is not valid.\")\n"
   ]
  },
  {
   "cell_type": "markdown",
   "metadata": {
    "id": "J7dEFUCbRjRv"
   },
   "source": [
    "## Example 2: Extracting Area Codes from Phone Numbers\n",
    "* __re.search(r'\\+(\\d{1,3})', phone_number)__ searches for international area codes that begin with a plus sign +, followed by 1 to 3 digits.\n",
    "* `group(1)` retrieves the first capture group, which is the digits after the plus sign.\n",
    "* In the example +62 123-456-7890, the +62 part matches the pattern, so 62 is the Indonesian area code."
   ]
  },
  {
   "cell_type": "code",
   "execution_count": 16,
   "metadata": {
    "colab": {
     "base_uri": "https://localhost:8080/"
    },
    "executionInfo": {
     "elapsed": 8,
     "status": "ok",
     "timestamp": 1697274694233,
     "user": {
      "displayName": "Z A Z A",
      "userId": "07938683278567556560"
     },
     "user_tz": -420
    },
    "id": "8dA9I0wTRksq",
    "outputId": "f0056801-6a46-4e3d-e064-cae786cd2558"
   },
   "outputs": [
    {
     "name": "stdout",
     "output_type": "stream",
     "text": [
      "Area Code: 62\n"
     ]
    }
   ],
   "source": [
    "import re\n",
    "\n",
    "phone_number = \"+62 123-456-7890\"\n",
    "\n",
    "area_code = re.search(r'\\+(\\d{1,3})', phone_number).group(1)\n",
    "\n",
    "print(\"Area Code:\", area_code)\n"
   ]
  },
  {
   "cell_type": "code",
   "execution_count": 17,
   "metadata": {},
   "outputs": [
    {
     "name": "stdout",
     "output_type": "stream",
     "text": [
      "Number: +62 123-456-7890, Area Code: 62\n",
      "Number: +1 555-555-5555, Area Code: 1\n",
      "Number: +44 20 7123 1234, Area Code: 44\n",
      "Number: +81-3-1234-5678, Area Code: 81\n",
      "Number: 0812-3456-7890, Area Code: Not found\n"
     ]
    }
   ],
   "source": [
    "import re\n",
    "\n",
    "phone_numbers = [\n",
    "    \"+62 123-456-7890\",\n",
    "    \"+1 555-555-5555\",\n",
    "    \"+44 20 7123 1234\",\n",
    "    \"+81-3-1234-5678\",\n",
    "    \"0812-3456-7890\"  # No country code\n",
    "]\n",
    "\n",
    "for phone in phone_numbers:\n",
    "    match = re.search(r'^\\+(\\d{1,3})', phone)\n",
    "    if match:\n",
    "        print(f\"Number: {phone}, Area Code: {match.group(1)}\")\n",
    "    else:\n",
    "        print(f\"Number: {phone}, Area Code: Not found\")\n"
   ]
  },
  {
   "cell_type": "code",
   "execution_count": null,
   "metadata": {},
   "outputs": [],
   "source": []
  }
 ],
 "metadata": {
  "colab": {
   "provenance": []
  },
  "kernelspec": {
   "display_name": "Python 3 (ipykernel)",
   "language": "python",
   "name": "python3"
  },
  "language_info": {
   "codemirror_mode": {
    "name": "ipython",
    "version": 3
   },
   "file_extension": ".py",
   "mimetype": "text/x-python",
   "name": "python",
   "nbconvert_exporter": "python",
   "pygments_lexer": "ipython3",
   "version": "3.13.5"
  }
 },
 "nbformat": 4,
 "nbformat_minor": 4
}
