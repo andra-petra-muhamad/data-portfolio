{
 "cells": [
  {
   "cell_type": "markdown",
   "id": "58374352-c9bd-48d2-b168-ffd01cb0ad7b",
   "metadata": {},
   "source": [
    "# Advanced Regular Expressions\n",
    "In the world of data processing and text analysis, regular expressions (regex) are a versatile tool that can slice, extract, validate, and even reassemble pieces of information from raw data. Many people know them as simple pattern-finding tools, but in reality, regex has a much deeper layer of capabilities, from lookaround assertions and named groups to nested matching with recursion."
   ]
  },
  {
   "cell_type": "markdown",
   "id": "c51d4814-98cb-4755-922b-53c6b3290436",
   "metadata": {},
   "source": [
    "# Library and Dataset Preparation"
   ]
  },
  {
   "cell_type": "markdown",
   "id": "114c13d5-e700-42a2-bfb6-f152af158c13",
   "metadata": {},
   "source": [
    "## Import library"
   ]
  },
  {
   "cell_type": "code",
   "execution_count": 3,
   "id": "88f07f05-3df3-4f82-a30d-ed27b8453fc2",
   "metadata": {},
   "outputs": [],
   "source": [
    "import re\n",
    "import regex   \n",
    "import pandas as pd\n",
    "from datetime import datetime\n",
    "from dateutil import parser as dateparser\n",
    "import unicodedata"
   ]
  },
  {
   "cell_type": "markdown",
   "id": "1d4d994a-ab0c-4bab-8662-06c19987b0de",
   "metadata": {},
   "source": [
    "## Sample Dataset"
   ]
  },
  {
   "cell_type": "code",
   "execution_count": 4,
   "id": "d2b932d2-18a3-41a8-91fe-568f7d33c02d",
   "metadata": {},
   "outputs": [],
   "source": [
    "server_logs = '''127.0.0.1 - - [10/Oct/2023:13:55:36 +0700] \"GET /index.html HTTP/1.1\" 200 1024 \"-\" \"Mozilla/5.0\"\n",
    "192.168.1.5 - john [11/Oct/2023:08:20:10 +0700] \"POST /api/v1/login HTTP/1.1\" 500 512 \"-\" \"curl/7.64\"\n",
    "ERROR [2023-10-11 08:20:11] Traceback (most recent call last):\\n  File \"app.py\", line 23, in <module>\\n    main()\\n'''\n",
    "\n",
    "mixed_notes = '''Contact: Andra <andra@example.com>, tel:+62-812-3456-7890. Invoice #INV-2023/09/0001 Rp 1.250.000. Due 2023-10-20.\n",
    "Big sale: 50% off! Visit https://shop.example.com/deals?id=123&src=email\n",
    "DOB: 12 Aug 1990, alternative: 1990/08/12'''\n",
    "\n",
    "html_snippets = '''<div><p>Hello <span>World <b>bold</b></span></p><div>Nested <span>deep <i>italic</i></span></div></div>'''"
   ]
  },
  {
   "cell_type": "markdown",
   "id": "74a07285-c990-4cd1-b0c2-1979f656cebf",
   "metadata": {},
   "source": [
    "# Parsing Server Logs\n",
    "Captures IP address, timestamp, status code, and endpoint patterns from inconsistently formatted Apache/Nginx server logs. Uses named groups to directly map the extracted results."
   ]
  },
  {
   "cell_type": "code",
   "execution_count": 5,
   "id": "1e9a57a9-03cd-4cf5-bed6-14530756ad09",
   "metadata": {},
   "outputs": [
    {
     "name": "stdout",
     "output_type": "stream",
     "text": [
      "            ip  user                   timestamp method           path  \\\n",
      "0    127.0.0.1     -  10/Oct/2023:13:55:36 +0700    GET    /index.html   \n",
      "1  192.168.1.5  john  11/Oct/2023:08:20:10 +0700   POST  /api/v1/login   \n",
      "\n",
      "      proto status  size ref        agent  \n",
      "0  HTTP/1.1    200  1024   -  Mozilla/5.0  \n",
      "1  HTTP/1.1    500   512   -    curl/7.64  \n"
     ]
    }
   ],
   "source": [
    "log_pattern = re.compile(r'''\n",
    "    (?P<ip>\\d{1,3}(?:\\.\\d{1,3}){3})      # IP address\n",
    "    \\s+-\\s+                              # literal \" - \" separator\n",
    "    (?P<user>[^\\s\\[]+)                   # username (no space or '[')\n",
    "    \\s+\\[(?P<timestamp>[^\\]]+)\\]         # timestamp inside [ ]\n",
    "    \\s+\"(?P<method>GET|POST|PUT|DELETE|PATCH|OPTIONS)  # HTTP method\n",
    "    \\s+(?P<path>[^\\s]+)                  # URL path\n",
    "    \\s+(?P<proto>HTTP/\\d\\.\\d)\"           # HTTP protocol version\n",
    "    \\s+(?P<status>\\d{3})                 # 3-digit status code\n",
    "    \\s+(?P<size>\\d+|-)                   # response size (number or '-')\n",
    "    \\s+\"(?P<ref>.*?)\"                    # referer inside quotes\n",
    "    \\s+\"(?P<agent>.*?)\"                  # user-agent inside quotes\n",
    "    ''', re.VERBOSE)\n",
    "\n",
    "rows = []\n",
    "for m in log_pattern.finditer(server_logs):\n",
    "    d = m.groupdict()  # regex match result as a dictionary\n",
    "    try:\n",
    "        d['timestamp'] = dateparser.parse(d['timestamp'])  # convert to datetime\n",
    "    except Exception:\n",
    "        d['timestamp'] = d['timestamp']  # keep original string if parsing fails\n",
    "    rows.append(d)\n",
    "\n",
    "df_logs = pd.DataFrame(rows)\n",
    "print(df_logs)\n"
   ]
  },
  {
   "cell_type": "markdown",
   "id": "c1661a9b-18dd-46dc-8012-23dcafab6df8",
   "metadata": {},
   "source": [
    "Meaning:\n",
    "* ip → client address.\n",
    "* user → username (or - if missing).\n",
    "* timestamp → request time.\n",
    "* method → HTTP method (GET, POST).\n",
    "* path → requested URL path.\n",
    "* proto → HTTP protocol.\n",
    "* status → server status code.\n",
    "* size → response size in bytes.\n",
    "* ref → referer (here - means empty).\n",
    "* agent → application/device information used by the client."
   ]
  },
  {
   "cell_type": "markdown",
   "id": "0614664a-9941-469d-a204-c3deaa6ff939",
   "metadata": {},
   "source": [
    "# Advanced Text Cleaning and Normalization\n",
    "Removes invisible characters (zero-width spaces, soft hyphens), handles Unicode combinations, and cleans text from alphanumeric noise with lookahead/lookbehind assertions."
   ]
  },
  {
   "cell_type": "code",
   "execution_count": 6,
   "id": "1fb09f6e-1033-47ac-8f34-cedc7bb455c3",
   "metadata": {},
   "outputs": [
    {
     "name": "stdout",
     "output_type": "stream",
     "text": [
      "Andraexample — café\n"
     ]
    }
   ],
   "source": [
    "def normalize_text(s):\n",
    "    s = unicodedata.normalize('NFKC', s)\n",
    "    s = re.sub('[\\u200B\\u200C\\u200D\\uFEFF]', '', s)\n",
    "    s = s.replace('\\u00AD', '')  # soft hyphen\n",
    "    return s\n",
    "\n",
    "print(normalize_text('Andra\\u200Bexample — café'))"
   ]
  },
  {
   "cell_type": "markdown",
   "id": "4db08590-5c78-498a-a66c-19f14a5a165b",
   "metadata": {},
   "source": [
    "Description:\n",
    "* 'NFKC' → Normalization Form Compatibility Composition (tidies up shapes and symbols into their most standard form).\n",
    "* \\u200B (zero-width space)\n",
    "* \\u200C (zero-width non-joiner)\n",
    "* \\u200D (zero-width joiner)\n",
    "* \\uFEFF (zero-width no-break space)\n",
    "* s.replace('\\u00AD', '') → removes soft hyphens (\\u00AD), hyphens that only appear when hyphenating words."
   ]
  },
  {
   "cell_type": "markdown",
   "id": "3189d516-c2ca-4d15-944e-4a19bb570267",
   "metadata": {},
   "source": [
    "## Simple lookaround example"
   ]
  },
  {
   "cell_type": "code",
   "execution_count": 7,
   "id": "2d26cd61-ea06-426f-b7ea-31722323f375",
   "metadata": {},
   "outputs": [
    {
     "name": "stdout",
     "output_type": "stream",
     "text": [
      "Hello world. 3.14 not removed.\n"
     ]
    }
   ],
   "source": [
    "s = 'Hello. world. 3.14 not removed.'\n",
    "s2 = re.sub(r'(?<=\\w)\\.(?=\\s+[a-z])', '', s)\n",
    "print(s2)"
   ]
  },
  {
   "cell_type": "markdown",
   "id": "0f8f83db-e77a-4609-a73d-fecde84d2967",
   "metadata": {},
   "source": [
    "Note:\n",
    "* There is a letter/number ((?<=\\w)) before it.\n",
    "* There is a space followed by a lowercase letter ((?=\\s+[a-z])) after it."
   ]
  },
  {
   "cell_type": "markdown",
   "id": "07a3b680-5a1b-4052-8e87-52e063817377",
   "metadata": {},
   "source": [
    "# Named Entity Extraction without an NLP Library\n",
    "Using regular expressions (regex) to find emails, URLs, phone numbers, prices, and dates from raw text, leveraging name groups for a clean result structure."
   ]
  },
  {
   "cell_type": "code",
   "execution_count": 8,
   "id": "c8f607c7-0378-4d59-a28c-cb0f0ab60709",
   "metadata": {},
   "outputs": [
    {
     "name": "stdout",
     "output_type": "stream",
     "text": [
      "{'email': 'andra@example.com', 'url': None, 'phone': None, 'price': None, 'date': None}\n",
      "{'email': None, 'url': None, 'phone': '+62-812-3456-7890', 'price': None, 'date': None}\n",
      "{'email': None, 'url': None, 'phone': None, 'price': 'Rp 1.250.000.', 'date': None}\n",
      "{'email': None, 'url': None, 'phone': None, 'price': None, 'date': '2023-10-20'}\n",
      "{'email': None, 'url': 'https://shop.example.com/deals?id=123&src=email', 'phone': None, 'price': None, 'date': None}\n",
      "{'email': None, 'url': None, 'phone': None, 'price': None, 'date': '12 Aug 1990'}\n"
     ]
    }
   ],
   "source": [
    "EMAIL = r'(?P<email>[\\w.+-]+@[\\w-]+\\.[\\w.-]+)'\n",
    "URL = r'(?P<url>https?://[\\w./?=&%#-]+)'\n",
    "PHONE = r'(?P<phone>\\+?\\d{1,3}[\\-\\s]?\\d{1,4}[\\-\\s]?\\d{3,4}[\\-\\s]?\\d{3,4})'\n",
    "PRICE = r'(?P<price>Rp\\s?[\\d.,]+|\\$\\s?[\\d,]+(?:\\.\\d{2})?)'\n",
    "DATE = r'(?P<date>\\b\\d{1,2}[\\-\\s\\/][A-Za-z0-9]{2,4}[\\-\\s\\/]\\d{2,4}\\b|\\b\\d{4}-\\d{2}-\\d{2}\\b)'\n",
    "\n",
    "combined = re.compile('|'.join([EMAIL, URL, PHONE, PRICE, DATE]))\n",
    "\n",
    "for m in combined.finditer(mixed_notes):\n",
    "    print(m.groupdict())"
   ]
  },
  {
   "cell_type": "markdown",
   "id": "fee2ada7-f23e-4fda-813a-f68bef68e87e",
   "metadata": {},
   "source": [
    "Description:\n",
    "1. Email\n",
    "    * [\\w.+-]+ → The part before the @ can be a letter, number, period, plus sign, or minus sign.\n",
    "    * @ → separator.\n",
    "    * [\\w-]+ → domain name.\n",
    "    * \\. → period before the domain extension.\n",
    "    * [\\w.-]+ → domain extension (e.g., .com, .co.id).\n",
    "2. URL\n",
    "    * https?:// → http:// or https://.\n",
    "    * [\\w./?=&%#-]+ → URL content, can contain letters, numbers, periods, slashes, query strings, etc.\n",
    "3. Phone\n",
    "    * \\+?\\d{1,3} → optional country code (+62).\n",
    "    * [\\-\\s]? → may contain a minus sign or space.\n",
    "    * Then the numbers in the general telephone number format.\n",
    "4. Price\n",
    "    * Can be Rp or $ followed by a number.\n",
    "    * [\\d.,]+ → number, period, comma.\n",
    "    * The (?:\\.\\d{2})? part for prices in dollars with two decimal places.\n",
    "5. Date\n",
    "    * Format DD-MM-YYYY, DD Mon YYYY, or YYYY-MM-DD.\n",
    "6. Why so many Nones?\\\n",
    "Because only one pattern matches in each match, the rest are automatically empty (None).\n",
    "7. What is this for?\\\n",
    "Very useful for extracting entities from raw text (e.g., parsing incoming emails, meeting notes, or free text in web scraping)."
   ]
  },
  {
   "cell_type": "markdown",
   "id": "36fb461b-d06b-4997-ab56-1a69e6ee7c73",
   "metadata": {},
   "source": [
    "# Nested Pattern Matching (recursive with the regex module)\n",
    "Handle nested parentheses as in programming language parsing, using Python's regex module, which supports recursive matching."
   ]
  },
  {
   "cell_type": "code",
   "execution_count": 9,
   "id": "190758f6-b56f-41c0-a4b8-5a258bfa0387",
   "metadata": {},
   "outputs": [
    {
     "name": "stdout",
     "output_type": "stream",
     "text": [
      "Matched block:\n",
      "<div><p>Hello <span>World <b>bold</b></span></p><div>Nested <span>deep <i>italic</i></span></div>\n"
     ]
    }
   ],
   "source": [
    "pattern = regex.compile(r'(?P<tag><(?P<name>\\w+)(?:\\s[^>]*)?>)(?:(?:(?R))|.*?)(?P<close></(?P=name)>)', flags=regex.DOTALL)\n",
    "\n",
    "m = pattern.search(html_snippets)\n",
    "if m:\n",
    "    print('Matched block:')\n",
    "    print(m.group(0))"
   ]
  },
  {
   "cell_type": "markdown",
   "id": "e2c14495-72be-4857-80c4-2ddfff9ee771",
   "metadata": {},
   "source": [
    "# Password validation"
   ]
  },
  {
   "cell_type": "code",
   "execution_count": 10,
   "id": "5df90354-ad66-40f8-8de7-2cd1295b47cc",
   "metadata": {},
   "outputs": [
    {
     "name": "stdout",
     "output_type": "stream",
     "text": [
      "StrongPass!2023 -> True\n",
      "Short1! -> False\n",
      "strongpassword2023 -> False\n",
      "StrongPassword2023 -> False\n",
      "StrongPass!word -> False\n",
      "StrongPass!2023 -> False\n",
      "SuperSecure@99 -> True\n",
      "Password!1234 -> False\n",
      "Qwerty!Qwerty1 -> True\n"
     ]
    }
   ],
   "source": [
    "def validate_password(pw, username=None):\n",
    "    if len(pw) < 12:\n",
    "        return False\n",
    "    checks = [r'[A-Z]', r'[a-z]', r'\\d', r'[^A-Za-z0-9]']\n",
    "    if not all(re.search(c, pw) for c in checks):\n",
    "        return False\n",
    "    if username and username.lower() in pw.lower():\n",
    "        return False\n",
    "    return True\n",
    "\n",
    "tests = [\n",
    "    ('StrongPass!2023', 'andra'),\n",
    "    ('Short1!', 'andra'),\n",
    "    ('strongpassword2023', 'andra'),\n",
    "    ('StrongPassword2023', 'andra'),\n",
    "    ('StrongPass!word', 'andra'),\n",
    "    ('StrongPass!2023', 'StrongPass!2023'),\n",
    "    ('SuperSecure@99', 'andra'),\n",
    "    ('Password!1234', 'pass'),\n",
    "    ('Qwerty!Qwerty1', 'andra')\n",
    "]\n",
    "\n",
    "for pw, user in tests:\n",
    "    print(pw, '->', validate_password(pw, username=user))"
   ]
  },
  {
   "cell_type": "markdown",
   "id": "c1698f90-e5fb-4e05-976c-3e3e3d54beff",
   "metadata": {},
   "source": [
    "Description:\n",
    "| Password | Username | Reason Valid / Invalid |\n",
    "| -------------------- | ----------------- | ---------------------------------------------------------------------------------------------- |\n",
    "| `StrongPass!2023` | `andra` | ✅ **Valid** — length 15, contains uppercase and lowercase letters, numbers, symbols, and does not contain \"andra\". |\n",
    "| `Short1!` | `andra` | ❌ **Invalid** — less than 12 characters. |\n",
    "| `strongpassword2023` | `andra` | ❌ **Invalid** — no uppercase letters, no symbols. |\n",
    "| `StrongPassword2023` | `andra` | ❌ **Invalid** — no symbols. |\n",
    "| `StrongPass!word` | `andra` | ❌ **Invalid** — no numbers. |\n",
    "| `StrongPass!2023` | `StrongPass!2023` | ❌ **Invalid** — contains an exact username. |\n",
    "| `SuperSecure@99` | `andra` | ✅ **Valid** — length 14, contains uppercase and lowercase letters, numbers, symbols, no \"andra\" name. |\n",
    "| `Password!1234` | `pass` | ❌ **Invalid** — username `pass` is in the password (case-insensitive). |\n",
    "| `Qwerty!Qwerty1` | `andra` | ✅ **Valid** — length 15, all criteria met. |"
   ]
  },
  {
   "cell_type": "markdown",
   "id": "2ad6d617-e284-4783-8971-7311ebbb46dc",
   "metadata": {},
   "source": [
    "# Luhn Check"
   ]
  },
  {
   "cell_type": "code",
   "execution_count": 11,
   "id": "3a293395-3f6a-4a7e-b561-7e74e7b2d053",
   "metadata": {},
   "outputs": [
    {
     "name": "stdout",
     "output_type": "stream",
     "text": [
      "4111 1111 1111 1111 -> True\n",
      "5500-0000-0000-0004 -> True\n",
      "378282246310005 -> True\n",
      "6011111111111117 -> True\n",
      "4111 1111 1111 1112 -> False\n",
      "1234 5678 9012 3456 -> False\n",
      "4111 1111 111 -> Format tidak cocok\n",
      "4111 1111 1111 1111 1111 -> True\n"
     ]
    }
   ],
   "source": [
    "cc_re = re.compile(r'(?P<number>(?:\\d[ -]*?){13,19})') # Mencari nomor kartu kredit dengan panjang total digit 13 hingga 19 digit dan boleh dipisah \"-\"\n",
    "\n",
    "def luhn_check(number):\n",
    "    digits = [int(d) for d in re.sub(r'[^0-9]', '', number)][::-1]\n",
    "    total = 0\n",
    "    for i,d in enumerate(digits):\n",
    "        if i % 2 == 1:\n",
    "            d = d*2\n",
    "            if d>9: d-=9\n",
    "        total += d\n",
    "    return total % 10 == 0\n",
    "\n",
    "cards = [\n",
    "    '4111 1111 1111 1111',\n",
    "    '5500-0000-0000-0004',\n",
    "    '378282246310005',\n",
    "    '6011111111111117',\n",
    "    '4111 1111 1111 1112',\n",
    "    '1234 5678 9012 3456',\n",
    "    '4111 1111 111',\n",
    "    '4111 1111 1111 1111 1111'\n",
    "]\n",
    "\n",
    "for c in cards:\n",
    "    found = cc_re.search(c)\n",
    "    if found:\n",
    "        print(c, '->', luhn_check(found.group('number')))\n",
    "    else:\n",
    "        print(c, '->', 'Format tidak cocok')"
   ]
  },
  {
   "cell_type": "markdown",
   "id": "8f38fe16-3a7a-4447-bd0f-636497cf0002",
   "metadata": {},
   "source": [
    "Description:\n",
    "| Card Number | Valid / Invalid | Reason |\n",
    "| -------------------------- | ------------- | ------------------------------------------------------ |\n",
    "| `4111 1111 1111 1111` | ✅ Valid | Official Visa trial number, passed Luhn. |\n",
    "| `5500-0000-0000-0004` | ✅ Valid | Official Mastercard trial number, passed Luhn. |\n",
    "| `378282246310005` | ✅ Valid | American Express trial number, 15 digits, passed Luhn. |\n",
    "| `601111111111117` | ✅ Valid | Discover Card trial number, passed Luhn. |\n",
    "| `4111 1111 1111 1112` | ❌ Invalid | Failed Luhn calculation (last digit modified). |\n",
    "| `1234 5678 9012 3456` | ❌ Invalid | Does not meet Luhn rules. |\n",
    "| `4111 1111 111` | ❌ Invalid | Only 11 digits, less than the 13-digit minimum. |\n",
    "| `4111 1111 1111 1111 1111` | ❌ Invalid | More than 19 digits. |"
   ]
  },
  {
   "cell_type": "markdown",
   "id": "62cd3273-a24c-43ff-aa2c-d17105d47f3d",
   "metadata": {},
   "source": [
    "# Regex + Pandas for Data Wrangling\n",
    "Automatically split a text column containing a combination of name, invoice number, and date into separate columns using regular expressions in Pandas."
   ]
  },
  {
   "cell_type": "code",
   "execution_count": 12,
   "id": "374a4d24-0145-449f-b9fb-398bb8bbdc07",
   "metadata": {},
   "outputs": [
    {
     "name": "stdout",
     "output_type": "stream",
     "text": [
      "                                          note\n",
      "0  Name: Andra; INV: INV-001; Date: 2023-10-11\n",
      "1   Name: Budi; INV: INV-002; Date: 2023/10/12\n",
      "-----------------\n",
      "                                          note   name      inv        date  \\\n",
      "0  Name: Andra; INV: INV-001; Date: 2023-10-11  Andra  INV-001  2023-10-11   \n",
      "1   Name: Budi; INV: INV-002; Date: 2023/10/12   Budi  INV-002  2023/10/12   \n",
      "\n",
      "    date_norm  \n",
      "0  2023-10-11  \n",
      "1  2023-10-12  \n"
     ]
    }
   ],
   "source": [
    "data = pd.DataFrame({'note':[\"Name: Andra; INV: INV-001; Date: 2023-10-11\", \"Name: Budi; INV: INV-002; Date: 2023/10/12\"]})\n",
    "pattern = r'Name:\\s*(?P<name>[^;]+);\\s*INV:\\s*(?P<inv>[^;]+);\\s*Date:\\s*(?P<date>[^;]+)'\n",
    "extracted = data['note'].str.extract(pattern)\n",
    "extracted['date_norm'] = extracted['date'].apply(lambda x: dateparser.parse(x).date())\n",
    "result = pd.concat([data, extracted], axis=1)\n",
    "print(data)\n",
    "print(\"-----------------\")\n",
    "print(result)"
   ]
  },
  {
   "cell_type": "markdown",
   "id": "42d72ce2-3407-4f3e-828c-b7e0e3a5a3e7",
   "metadata": {},
   "source": [
    "# Text Redaction / Sensitive Data Masking\n",
    "Automatically obscure information such as email addresses, ID card numbers, or account numbers with regular expression replacement, and display before-after comparisons."
   ]
  },
  {
   "cell_type": "code",
   "execution_count": 13,
   "id": "1910ddb9-1c05-482d-8ad8-b5719b201145",
   "metadata": {},
   "outputs": [
    {
     "name": "stdout",
     "output_type": "stream",
     "text": [
      "and**@example.com\n",
      "+62-***-****-**90\n"
     ]
    }
   ],
   "source": [
    "# mask email\n",
    "s = 'andra@example.com'\n",
    "masked = re.sub(r'(?P<user>[^@]{1,3})([^@]*)(?=@)', lambda m: m.group('user') + '*'*len(m.group(2)), s)\n",
    "print(masked)\n",
    "\n",
    "# mask phone: save country code + last 2 digits\n",
    "s = '+62-812-3456-7890'\n",
    "masked_phone = re.sub(r'(\\+?\\d{1,3}[\\-\\s]?)([\\d\\-\\s]+)(\\d{2})$', lambda m: m.group(1) + re.sub(r'\\d','*',m.group(2)) + m.group(3), s)\n",
    "print(masked_phone)"
   ]
  },
  {
   "cell_type": "markdown",
   "id": "8afc8a59-ebf4-4b53-828b-0cbfc7a4877c",
   "metadata": {},
   "source": [
    "Email mask description: Keep the first 1–3 characters before the @, replace the rest *\n",
    "* (?P<user>[^@]{1,3}) → Capture the first 1–3 characters before the @ sign (the initial part of the email name).\n",
    "* ([^@]*) → Capture all other characters before the @ sign (the part of the username to be masked).\n",
    "* (?=@) → Lookahead to ensure we stop right before the @ without deleting it.\n",
    "* m.group('user') → Capture the first part of the username (1–3 characters).\n",
    "* '*' * len(m.group(2)) → Replace the rest of the username with asterisks according to its length.\n",
    "\n",
    "Phone mask description: Keep the country code and the last 2 digits, replace the rest *\n",
    "* (\\+?\\d{1,3}[\\-\\s]?) → Capture the country code (e.g., +62-).\n",
    "* ([\\d\\-\\s]+) → Capture the middle digits (all will be masked).\n",
    "* (\\d{2})$ → Capture the last 2 digits (keep the original).\n",
    "* m.group(1) → The country code is still displayed.\n",
    "* re.sub(r'\\d', '*', m.group(2)) → All middle digits are replaced with asterisks, the - sign remains.\n",
    "* m.group(3) → The last two digits are still displayed."
   ]
  },
  {
   "cell_type": "markdown",
   "id": "ff554575-ae60-4575-84cd-0773dcc0cd19",
   "metadata": {},
   "source": [
    "# Simple HTML/XML parsing (recursive)\n",
    "Uses the recursion feature in the regex module to find nested HTML/XML tag pairs and their contents, without the help of an external parser."
   ]
  },
  {
   "cell_type": "code",
   "execution_count": 14,
   "id": "16ef3b42-a864-4d0e-b09e-70bcc0691dd8",
   "metadata": {},
   "outputs": [
    {
     "name": "stdout",
     "output_type": "stream",
     "text": [
      "<div><p>Visitors <b>Bold</b></p><div>Section <span>Inside</span></div></div>\n",
      "-----\n",
      "regex.Regex('(?P<node><(?P<tag>\\\\w+)(?:\\\\s[^>]*)?>)\\\\s*(?P<content>(?:(?R)|.*?))\\\\s*(?P<close></(?P=tag)>)', flags=regex.S | regex.V0)\n",
      "-----\n",
      "TAG: div\n",
      "CONTENT: <p>Visitors <b>Bold</b></p><div>Section <span>Inside</span>\n",
      "CLOSE: </div>\n"
     ]
    }
   ],
   "source": [
    "html = '<div><p>Visitors <b>Bold</b></p><div>Section <span>Inside</span></div></div>'\n",
    "expr = regex.compile(\n",
    "    r'(?P<node><(?P<tag>\\w+)(?:\\s[^>]*)?>)\\s*'                # opening tag with optional attributes\n",
    "    r'(?P<content>(?:(?R)|.*?))\\s*'                           # content (can be nested tags, recursive match)\n",
    "    r'(?P<close></(?P=tag)>)',                                # matching closing tag\n",
    "    flags=regex.DOTALL\n",
    ")\n",
    "\n",
    "print(html)\n",
    "print(\"-\" * 5)\n",
    "print(expr)\n",
    "print(\"-\" * 5)\n",
    "\n",
    "for m in expr.finditer(html):\n",
    "    print('TAG:', m.group('tag'))\n",
    "    print('CONTENT:', m.group('content'))\n",
    "    print('CLOSE:', m.group('close'))"
   ]
  },
  {
   "cell_type": "markdown",
   "id": "0fe8d495-e604-495e-b314-e33c4410970a",
   "metadata": {},
   "source": [
    "# Performance Testing & Benchmark Suite"
   ]
  },
  {
   "cell_type": "code",
   "execution_count": 15,
   "id": "1e10ab4d-4fb9-4fbe-b202-616b85cd18cb",
   "metadata": {},
   "outputs": [
    {
     "name": "stdout",
     "output_type": "stream",
     "text": [
      "Time (sec): 0.022815465927124023\n"
     ]
    }
   ],
   "source": [
    "import time\n",
    "pat = regex.compile(r'^(?:[a-zA-Z0-9._%+-]+)@[a-zA-Z0-9.-]+\\.[a-zA-Z]{2,}$')\n",
    "emails = ['user{}@example.com'.format(i) for i in range(10000)]\n",
    "start = time.time()\n",
    "for e in emails:\n",
    "    pat.match(e)\n",
    "print('Time (sec):', time.time()-start)"
   ]
  },
  {
   "cell_type": "markdown",
   "id": "94348605-2871-4e70-a556-466423151392",
   "metadata": {},
   "source": [
    "# Thank You"
   ]
  }
 ],
 "metadata": {
  "kernelspec": {
   "display_name": "Python 3 (ipykernel)",
   "language": "python",
   "name": "python3"
  },
  "language_info": {
   "codemirror_mode": {
    "name": "ipython",
    "version": 3
   },
   "file_extension": ".py",
   "mimetype": "text/x-python",
   "name": "python",
   "nbconvert_exporter": "python",
   "pygments_lexer": "ipython3",
   "version": "3.13.5"
  }
 },
 "nbformat": 4,
 "nbformat_minor": 5
}
