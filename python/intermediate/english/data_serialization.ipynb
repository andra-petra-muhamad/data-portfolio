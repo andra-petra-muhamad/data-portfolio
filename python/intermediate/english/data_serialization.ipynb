{
 "cells": [
  {
   "cell_type": "markdown",
   "metadata": {},
   "source": [
    "# Data Serialization\n",
    "Data serialization is the process of converting a data structure or object in a program into a format that can be stored or transmitted, such as JSON, XML, or CSV. This process allows data to be saved to files, sent over networks, or reused across different systems. Once data is serialized, it can be deserialized back into its original form. Serialization plays a crucial role in software development as it supports interoperability between systems and enhances efficiency in data storage and exchange."
   ]
  },
  {
   "cell_type": "markdown",
   "metadata": {
    "id": "3gtK-BGXQgh4"
   },
   "source": [
    "# Simple"
   ]
  },
  {
   "cell_type": "markdown",
   "metadata": {
    "id": "fXVTzM7iQkl3"
   },
   "source": [
    "## Example 1"
   ]
  },
  {
   "cell_type": "markdown",
   "metadata": {
    "id": "3JLQ045xQ6h_"
   },
   "source": [
    "Serialization and Deserialization of Dictionary"
   ]
  },
  {
   "cell_type": "code",
   "execution_count": 1,
   "metadata": {
    "colab": {
     "base_uri": "https://localhost:8080/"
    },
    "executionInfo": {
     "elapsed": 339,
     "status": "ok",
     "timestamp": 1698457340582,
     "user": {
      "displayName": "Z A Z A",
      "userId": "07938683278567556560"
     },
     "user_tz": -420
    },
    "id": "-Ikx2mt-MuAf",
    "outputId": "3eeb629d-c1f6-4684-db53-15224de36d1b"
   },
   "outputs": [
    {
     "name": "stdout",
     "output_type": "stream",
     "text": [
      "{'name': 'Alice', 'age': 30, 'city': 'Jakarta'}\n",
      "{\n",
      "    \"name\": \"Alice\",\n",
      "    \"age\": 30,\n",
      "    \"city\": \"Jakarta\"\n",
      "}\n",
      "{'name': 'Alice', 'age': 30, 'city': 'Jakarta'}\n"
     ]
    }
   ],
   "source": [
    "import json\n",
    "\n",
    "data = {'name': 'Alice', 'age': 30, 'city': 'Jakarta'}\n",
    "\n",
    "# Serialize to JSON\n",
    "json_data = json.dumps(data, indent=4)\n",
    "\n",
    "# Save to a JSON file\n",
    "with open('data.json', 'w') as file:\n",
    "    file.write(json_data)\n",
    "\n",
    "# Deserialize from JSON\n",
    "with open('data.json', 'r') as file:\n",
    "    loaded_data = json.load(file)\n",
    "\n",
    "print(data)\n",
    "print(json_data)\n",
    "print(loaded_data)\n"
   ]
  },
  {
   "cell_type": "markdown",
   "metadata": {
    "id": "sJp8E9vLIEbo"
   },
   "source": [
    "We take a data dictionary, convert it to JSON, and store it in a JSON file. Then, we read the JSON file and deserialize the data back into the dictionary."
   ]
  },
  {
   "cell_type": "markdown",
   "metadata": {
    "id": "BmoboK5IYtas"
   },
   "source": [
    "## Example 2"
   ]
  },
  {
   "cell_type": "markdown",
   "metadata": {
    "id": "91hM4kn5gLw6"
   },
   "source": [
    "Serializing a Dictionary Containing a List in Python"
   ]
  },
  {
   "cell_type": "code",
   "execution_count": 2,
   "metadata": {
    "colab": {
     "base_uri": "https://localhost:8080/"
    },
    "executionInfo": {
     "elapsed": 311,
     "status": "ok",
     "timestamp": 1698457421765,
     "user": {
      "displayName": "Z A Z A",
      "userId": "07938683278567556560"
     },
     "user_tz": -420
    },
    "id": "yLLfsDdyYvc0",
    "outputId": "9cd7a8d9-82c6-44fa-f75c-7a73cc9963d7"
   },
   "outputs": [
    {
     "name": "stdout",
     "output_type": "stream",
     "text": [
      "{'name': 'Alice', 'hobbies': ['swimming', 'reading', 'gardening']}\n",
      "{\n",
      "          \"name\": \"Alice\",\n",
      "          \"hobbies\": [\n",
      "                    \"swimming\",\n",
      "                    \"reading\",\n",
      "                    \"gardening\"\n",
      "          ]\n",
      "}\n",
      "{'name': 'Alice', 'hobbies': ['swimming', 'reading', 'gardening']}\n"
     ]
    }
   ],
   "source": [
    "import json\n",
    "\n",
    "data = {'name': 'Alice', 'hobbies': ['swimming', 'reading', 'gardening']}\n",
    "\n",
    "# Serialize to JSON\n",
    "json_data = json.dumps(data, indent=10)\n",
    "\n",
    "# Save to a JSON file\n",
    "with open('data.json', 'w') as file:\n",
    "    file.write(json_data)\n",
    "\n",
    "# Deserialize from JSON\n",
    "with open('data.json', 'r') as file:\n",
    "    loaded_data = json.load(file)\n",
    "\n",
    "print(data)\n",
    "print(json_data)\n",
    "print(loaded_data)\n"
   ]
  },
  {
   "cell_type": "markdown",
   "metadata": {
    "id": "M8JDbT-3gX0j"
   },
   "source": [
    "We take a data dictionary containing lists and convert it to JSON. We then store it in a JSON file and deserialize it again."
   ]
  },
  {
   "cell_type": "markdown",
   "metadata": {
    "id": "olHloADAQ7s3"
   },
   "source": [
    "# Intermediate"
   ]
  },
  {
   "cell_type": "markdown",
   "metadata": {
    "id": "GciwF0IQQ__f"
   },
   "source": [
    "## Example 3"
   ]
  },
  {
   "cell_type": "markdown",
   "metadata": {
    "id": "bTxi07c1RC2n"
   },
   "source": [
    "Serialization and Deserialization of Custom Objects"
   ]
  },
  {
   "cell_type": "code",
   "execution_count": 3,
   "metadata": {
    "colab": {
     "base_uri": "https://localhost:8080/"
    },
    "executionInfo": {
     "elapsed": 313,
     "status": "ok",
     "timestamp": 1698457556769,
     "user": {
      "displayName": "Z A Z A",
      "userId": "07938683278567556560"
     },
     "user_tz": -420
    },
    "id": "wE-hIOFWQ9hM",
    "outputId": "0fda2747-3f88-4c98-c341-0dd359c292c1"
   },
   "outputs": [
    {
     "name": "stdout",
     "output_type": "stream",
     "text": [
      "[<__main__.Person object at 0x000001D9301FFCB0>, <__main__.Person object at 0x000001D9301DD310>]\n",
      "[\n",
      " {\n",
      "  \"name\": \"Alice\",\n",
      "  \"age\": 30\n",
      " },\n",
      " {\n",
      "  \"name\": \"Bob\",\n",
      "  \"age\": 25\n",
      " }\n",
      "]\n",
      "{'name': 'Alice', 'age': 30}\n",
      "{'name': 'Bob', 'age': 25}\n"
     ]
    }
   ],
   "source": [
    "import json\n",
    "\n",
    "class Person:\n",
    "    def __init__(self, name, age):\n",
    "        self.name = name\n",
    "        self.age = age\n",
    "\n",
    "people = [Person('Alice', 30), Person('Bob', 25)]\n",
    "\n",
    "# Serialization to JSON\n",
    "json_data = json.dumps([person.__dict__ for person in people], indent=1)\n",
    "\n",
    "# Deserialization from JSON\n",
    "loaded_people = [Person(item['name'], item['age']) for item in json.loads(json_data)]\n",
    "\n",
    "print(people)\n",
    "print(json_data)\n",
    "for person in loaded_people:\n",
    "    print(person.__dict__)\n"
   ]
  },
  {
   "cell_type": "markdown",
   "metadata": {
    "id": "0lDMlVrkXhMV"
   },
   "source": [
    "We create custom objects from the Person class, then convert the list of these objects to JSON format. We then deserialize them and print the results."
   ]
  },
  {
   "cell_type": "markdown",
   "metadata": {
    "id": "y6yo2xt8lhw5"
   },
   "source": [
    "## Example 4"
   ]
  },
  {
   "cell_type": "markdown",
   "metadata": {
    "id": "tw2Eq8wUhS9q"
   },
   "source": [
    "Complex Data Serialization and Deserialization"
   ]
  },
  {
   "cell_type": "code",
   "execution_count": 4,
   "metadata": {
    "colab": {
     "base_uri": "https://localhost:8080/"
    },
    "executionInfo": {
     "elapsed": 316,
     "status": "ok",
     "timestamp": 1698457592201,
     "user": {
      "displayName": "Z A Z A",
      "userId": "07938683278567556560"
     },
     "user_tz": -420
    },
    "id": "5EyIVyLqhSfq",
    "outputId": "a85f99b4-d8a5-4384-a086-63f729236ae1"
   },
   "outputs": [
    {
     "name": "stdout",
     "output_type": "stream",
     "text": [
      "{'name': 'Alice', 'score': 95, 'class': {'class_name': 'XII Science 1', 'students': ['Bob', 'Charlie', 'Dave']}}\n",
      "{\n",
      " \"name\": \"Alice\",\n",
      " \"score\": 95,\n",
      " \"class\": {\n",
      "  \"class_name\": \"XII Science 1\",\n",
      "  \"students\": [\n",
      "   \"Bob\",\n",
      "   \"Charlie\",\n",
      "   \"Dave\"\n",
      "  ]\n",
      " }\n",
      "}\n",
      "{'name': 'Alice', 'score': 95, 'class': {'class_name': 'XII Science 1', 'students': ['Bob', 'Charlie', 'Dave']}}\n",
      "dict_items([('name', 'Alice'), ('score', 95), ('class', {'class_name': 'XII Science 1', 'students': ['Bob', 'Charlie', 'Dave']})])\n",
      "dict_keys(['name', 'score', 'class'])\n",
      "dict_values(['Alice', 95, {'class_name': 'XII Science 1', 'students': ['Bob', 'Charlie', 'Dave']}])\n"
     ]
    }
   ],
   "source": [
    "import json\n",
    "\n",
    "data = {\n",
    "    'name': 'Alice',\n",
    "    'score': 95,\n",
    "    'class': {\n",
    "        'class_name': 'XII Science 1',\n",
    "        'students': ['Bob', 'Charlie', 'Dave']\n",
    "    }\n",
    "}\n",
    "\n",
    "# Serialization to JSON\n",
    "json_data = json.dumps(data, indent=1)\n",
    "\n",
    "# Deserialization from JSON\n",
    "loaded_data = json.loads(json_data)\n",
    "\n",
    "print(data)\n",
    "print(json_data)\n",
    "print(loaded_data)\n",
    "print(loaded_data.items())\n",
    "print(loaded_data.keys())\n",
    "print(loaded_data.values())\n"
   ]
  },
  {
   "cell_type": "markdown",
   "metadata": {
    "id": "W9t0NW4KheqD"
   },
   "source": [
    "We take data containing nested objects (classes in a dictionary) and convert it to JSON format. Then, we deserialize it again and print the results."
   ]
  },
  {
   "cell_type": "markdown",
   "metadata": {
    "id": "Jn1LWdwQRV6u"
   },
   "source": [
    "# Advanced"
   ]
  },
  {
   "cell_type": "markdown",
   "metadata": {
    "id": "JCU8OuesRYWm"
   },
   "source": [
    "## Example 5"
   ]
  },
  {
   "cell_type": "markdown",
   "metadata": {
    "id": "fn8hFR9_RahX"
   },
   "source": [
    "Serialization Program to Various Formats"
   ]
  },
  {
   "cell_type": "code",
   "execution_count": 5,
   "metadata": {
    "colab": {
     "base_uri": "https://localhost:8080/"
    },
    "executionInfo": {
     "elapsed": 5153,
     "status": "ok",
     "timestamp": 1698457715849,
     "user": {
      "displayName": "Z A Z A",
      "userId": "07938683278567556560"
     },
     "user_tz": -420
    },
    "id": "8Y3ZQkATRX0p",
    "outputId": "9a24c459-1c3d-4b00-ca38-08204347cc21"
   },
   "outputs": [
    {
     "name": "stdin",
     "output_type": "stream",
     "text": [
      "Choose format (json/xml/csv):  json\n"
     ]
    },
    {
     "name": "stdout",
     "output_type": "stream",
     "text": [
      "Serialized Data:\n",
      "{\n",
      "    \"name\": \"Alice\",\n",
      "    \"age\": 30,\n",
      "    \"city\": \"Jakarta\"\n",
      "}\n",
      "Deserialized Data:\n",
      "{'name': 'Alice', 'age': 30, 'city': 'Jakarta'}\n"
     ]
    }
   ],
   "source": [
    "import json\n",
    "import xml.etree.ElementTree as ET\n",
    "import csv\n",
    "\n",
    "def serialize_data(data, format):\n",
    "    if format == 'json':\n",
    "        return json.dumps(data, indent=4)\n",
    "    elif format == 'xml':\n",
    "        root = ET.Element('data')\n",
    "        for key, value in data.items():\n",
    "            element = ET.SubElement(root, key)\n",
    "            element.text = str(value)\n",
    "        return ET.tostring(root).decode('utf-8')\n",
    "    elif format == 'csv':\n",
    "        lines = [','.join([str(key), str(value)]) for key, value in data.items()]\n",
    "        return '\\n'.join(lines)\n",
    "\n",
    "def deserialize_data(data, format):\n",
    "    if format == 'json':\n",
    "        return json.loads(data)\n",
    "    elif format == 'xml':\n",
    "        root = ET.fromstring(data)\n",
    "        return {elem.tag: elem.text for elem in root}\n",
    "    elif format == 'csv':\n",
    "        lines = data.split('\\n')\n",
    "        items = [line.split(',') for line in lines]\n",
    "        return {item[0]: item[1] for item in items if len(item) == 2}\n",
    "\n",
    "# User chooses the format\n",
    "selected_format = input(\"Choose format (json/xml/csv): \")\n",
    "\n",
    "data = {'name': 'Alice', 'age': 30, 'city': 'Jakarta'}\n",
    "\n",
    "# Serialization\n",
    "serialized_data = serialize_data(data, selected_format)\n",
    "print(\"Serialized Data:\")\n",
    "print(serialized_data)\n",
    "\n",
    "# Deserialization\n",
    "deserialized_data = deserialize_data(serialized_data, selected_format)\n",
    "print(\"Deserialized Data:\")\n",
    "print(deserialized_data)\n"
   ]
  },
  {
   "cell_type": "markdown",
   "metadata": {
    "id": "oMw7UYSbhssD"
   },
   "source": [
    "This program allows users to select a format (JSON, XML, CSV) for data serialization and deserialization. The data is then re-serialized and printed."
   ]
  },
  {
   "cell_type": "code",
   "execution_count": 6,
   "metadata": {},
   "outputs": [
    {
     "name": "stdin",
     "output_type": "stream",
     "text": [
      "Choose format (json/xml/csv):  xml\n"
     ]
    },
    {
     "name": "stdout",
     "output_type": "stream",
     "text": [
      "Serialized Data:\n",
      "<data><name>Alice</name><age>30</age><city>Jakarta</city></data>\n",
      "Deserialized Data:\n",
      "{'name': 'Alice', 'age': '30', 'city': 'Jakarta'}\n"
     ]
    }
   ],
   "source": [
    "import json\n",
    "import xml.etree.ElementTree as ET\n",
    "import csv\n",
    "\n",
    "def serialize_data(data, format):\n",
    "    if format == 'json':\n",
    "        return json.dumps(data, indent=4)\n",
    "    elif format == 'xml':\n",
    "        root = ET.Element('data')\n",
    "        for key, value in data.items():\n",
    "            element = ET.SubElement(root, key)\n",
    "            element.text = str(value)\n",
    "        return ET.tostring(root).decode('utf-8')\n",
    "    elif format == 'csv':\n",
    "        return '\\n'.join([f\"{key},{value}\" for key, value in data.items()])\n",
    "\n",
    "def deserialize_data(data, format):\n",
    "    if format == 'json':\n",
    "        return json.loads(data)\n",
    "    elif format == 'xml':\n",
    "        root = ET.fromstring(data)\n",
    "        return {elem.tag: elem.text for elem in root}\n",
    "    elif format == 'csv':\n",
    "        return {line.split(',')[0]: line.split(',')[1] for line in data.split('\\n') if ',' in line}\n",
    "\n",
    "# User selects the format\n",
    "selected_format = input(\"Choose format (json/xml/csv): \")\n",
    "\n",
    "data = {'name': 'Alice', 'age': 30, 'city': 'Jakarta'}\n",
    "\n",
    "# Serialization\n",
    "serialized_data = serialize_data(data, selected_format)\n",
    "print(\"Serialized Data:\")\n",
    "print(serialized_data)\n",
    "\n",
    "# Deserialization\n",
    "deserialized_data = deserialize_data(serialized_data, selected_format)\n",
    "print(\"Deserialized Data:\")\n",
    "print(deserialized_data)\n"
   ]
  },
  {
   "cell_type": "markdown",
   "metadata": {
    "id": "ETWN5L0sZtqU"
   },
   "source": [
    "## Example 6"
   ]
  },
  {
   "cell_type": "markdown",
   "metadata": {
    "id": "wwJrJqdOhwXy"
   },
   "source": [
    "Serialization Program to Different Formats"
   ]
  },
  {
   "cell_type": "code",
   "execution_count": 7,
   "metadata": {
    "id": "5YsewVTPdpJR"
   },
   "outputs": [
    {
     "name": "stdout",
     "output_type": "stream",
     "text": [
      "Choose an operation:\n",
      "1. Serialize to JSON\n",
      "2. Deserialize from JSON\n",
      "3. Serialize to XML\n",
      "4. Deserialize from XML\n",
      "5. Serialize to CSV\n",
      "6. Deserialize from CSV\n"
     ]
    },
    {
     "name": "stdin",
     "output_type": "stream",
     "text": [
      "Select operation (1/2/3/4/5/6):  1\n"
     ]
    },
    {
     "name": "stdout",
     "output_type": "stream",
     "text": [
      "{\n",
      "    \"name\": \"Alice\",\n",
      "    \"age\": 30,\n",
      "    \"city\": \"Jakarta\"\n",
      "}\n"
     ]
    }
   ],
   "source": [
    "import json\n",
    "import xml.etree.ElementTree as ET\n",
    "import csv\n",
    "\n",
    "def serialize_to_json(data):\n",
    "    return json.dumps(data, indent=4)\n",
    "\n",
    "def deserialize_from_json(data):\n",
    "    return json.loads(data)\n",
    "\n",
    "def serialize_to_xml(data):\n",
    "    root = ET.Element('data')\n",
    "    for key, value in data.items():\n",
    "        element = ET.SubElement(root, key)\n",
    "        element.text = str(value)\n",
    "    return ET.tostring(root).decode('utf-8')\n",
    "\n",
    "def deserialize_from_xml(data):\n",
    "    root = ET.fromstring(data)\n",
    "    return {elem.tag: elem.text for elem in root}\n",
    "\n",
    "def serialize_to_csv(data):\n",
    "    lines = [','.join([str(key), str(value)]) for key, value in data.items()]\n",
    "    return '\\n'.join(lines)\n",
    "\n",
    "def deserialize_from_csv(data):\n",
    "    lines = data.split('\\n')\n",
    "    items = [line.split(',') for line in lines]\n",
    "    return {item[0]: item[1] for item in items if len(item) == 2}\n",
    "\n",
    "# User selects operation\n",
    "print(\"Choose an operation:\")\n",
    "print(\"1. Serialize to JSON\")\n",
    "print(\"2. Deserialize from JSON\")\n",
    "print(\"3. Serialize to XML\")\n",
    "print(\"4. Deserialize from XML\")\n",
    "print(\"5. Serialize to CSV\")\n",
    "print(\"6. Deserialize from CSV\")\n",
    "operation = input(\"Select operation (1/2/3/4/5/6): \")\n",
    "\n",
    "data = {'name': 'Alice', 'age': 30, 'city': 'Jakarta'}\n",
    "\n",
    "if operation == '1':\n",
    "    result = serialize_to_json(data)\n",
    "elif operation == '2':\n",
    "    json_data = serialize_to_json(data)  # Example: serialize first to create JSON string\n",
    "    result = deserialize_from_json(json_data)\n",
    "elif operation == '3':\n",
    "    result = serialize_to_xml(data)\n",
    "elif operation == '4':\n",
    "    xml_data = serialize_to_xml(data)  # Example: serialize first to create XML string\n",
    "    result = deserialize_from_xml(xml_data)\n",
    "elif operation == '5':\n",
    "    result = serialize_to_csv(data)\n",
    "elif operation == '6':\n",
    "    csv_data = serialize_to_csv(data)  # Example: serialize first to create CSV string\n",
    "    result = deserialize_from_csv(csv_data)\n",
    "\n",
    "print(result)\n"
   ]
  },
  {
   "cell_type": "markdown",
   "metadata": {
    "id": "cWdNr6GHZ2OM"
   },
   "source": [
    "This program allows users to select operations such as serialization to JSON, deserialization from JSON, serialization to XML, deserialization from XML, serialization to CSV, or deserialization from CSV. The data is then processed according to the selected operation and the results are printed."
   ]
  },
  {
   "cell_type": "markdown",
   "metadata": {
    "id": "KisPdlq5iqgq"
   },
   "source": [
    "Examples 5 and 6 in the \"Data Serialization (Introduction)\" outline are quite similar. Both examples cover serialization and deserialization, but they have different approaches.\n",
    "\n",
    "**Example 5:**\n",
    "- Allows the user to choose a format (JSON, XML, CSV) for serialization and deserialization.\n",
    "- Provides a different function for each operation (serialization and deserialization).\n",
    "- Based on user input, serializes or deserializes the data.\n",
    "\n",
    "**Example 6:**\n",
    "- Also allows the user to choose an operation (serialization or deserialization) but does not specifically address the different formats.\n",
    "- Defines a separate function for each serialization or deserialization operation.\n",
    "- The user selects an operation (1 for serialization, 2 for deserialization), and the code processes the data accordingly.\n",
    "\n",
    "While both examples illustrate the concepts of serialization and deserialization, Example 5 focuses more on using different serialization formats (JSON, XML, CSV) and provides the option to choose an operation. Example 6 is simpler and provides the option to serialize or deserialize, but it doesn't explicitly address different formats. You can choose the example that best suits your teaching needs."
   ]
  },
  {
   "cell_type": "code",
   "execution_count": null,
   "metadata": {
    "id": "9nLUS1BRZ4Gv"
   },
   "outputs": [],
   "source": []
  }
 ],
 "metadata": {
  "colab": {
   "provenance": []
  },
  "kernelspec": {
   "display_name": "Python 3 (ipykernel)",
   "language": "python",
   "name": "python3"
  },
  "language_info": {
   "codemirror_mode": {
    "name": "ipython",
    "version": 3
   },
   "file_extension": ".py",
   "mimetype": "text/x-python",
   "name": "python",
   "nbconvert_exporter": "python",
   "pygments_lexer": "ipython3",
   "version": "3.13.5"
  }
 },
 "nbformat": 4,
 "nbformat_minor": 4
}
