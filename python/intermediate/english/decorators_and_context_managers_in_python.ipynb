{
 "cells": [
  {
   "cell_type": "markdown",
   "metadata": {},
   "source": [
    "# Decorators and Context Managers\n",
    "Decorators are a feature in Python that allows you to add or modify the behavior of functions without changing their original code. They are commonly used for tasks such as logging, validation, caching, or measuring execution time. Decorators work by wrapping one function inside another and returning the modified version.\n",
    "\n",
    "Context managers are used to manage external resources such as files, database connections, or network sessions. By using the with statement, a context manager ensures that resources are properly opened and closed, even if an error occurs. This prevents resource leaks and helps keep code clean and safe."
   ]
  },
  {
   "cell_type": "markdown",
   "metadata": {
    "id": "3gtK-BGXQgh4"
   },
   "source": [
    "# Simple\n"
   ]
  },
  {
   "cell_type": "markdown",
   "metadata": {
    "id": "fXVTzM7iQkl3"
   },
   "source": [
    "## Example 1: Executing a Timing Function with decorator"
   ]
  },
  {
   "cell_type": "markdown",
   "metadata": {
    "id": "3JLQ045xQ6h_"
   },
   "source": [
    "This decorator measures and prints the execution time of the wrapped function. It's suitable for assessing function performance."
   ]
  },
  {
   "cell_type": "code",
   "execution_count": 1,
   "metadata": {
    "colab": {
     "base_uri": "https://localhost:8080/"
    },
    "executionInfo": {
     "elapsed": 7,
     "status": "ok",
     "timestamp": 1696039774371,
     "user": {
      "displayName": "Z A Z A",
      "userId": "07938683278567556560"
     },
     "user_tz": -420
    },
    "id": "-Ikx2mt-MuAf",
    "outputId": "47b3090b-d8ba-4c85-cd50-899a13858e5e"
   },
   "outputs": [
    {
     "name": "stdout",
     "output_type": "stream",
     "text": [
      "Function sample_function took 4.76837158203125e-07 seconds to execute.\n"
     ]
    },
    {
     "data": {
      "text/plain": [
       "250000"
      ]
     },
     "execution_count": 1,
     "metadata": {},
     "output_type": "execute_result"
    }
   ],
   "source": [
    "import time\n",
    "\n",
    "def timing_decorator(func):\n",
    "    def wrapper(*args, **kwargs):\n",
    "        start_time = time.time()\n",
    "        result = func(*args, **kwargs)\n",
    "        end_time = time.time()\n",
    "        print(f\"Function {func.__name__} took {end_time - start_time} seconds to execute.\")\n",
    "        return result\n",
    "    return wrapper\n",
    "\n",
    "@timing_decorator\n",
    "def sample_function():\n",
    "    return 500 ** 2\n",
    "\n",
    "sample_function()\n"
   ]
  },
  {
   "cell_type": "markdown",
   "metadata": {
    "id": "-AsgxIWPQtcf"
   },
   "source": [
    "## Example 2: Logging Function Execution with decorator"
   ]
  },
  {
   "cell_type": "markdown",
   "metadata": {
    "id": "24tCW-LyQ3_H"
   },
   "source": [
    "This decorator prints the arguments passed to the function and the returned results. Useful for debugging and function tracing."
   ]
  },
  {
   "cell_type": "code",
   "execution_count": 2,
   "metadata": {
    "colab": {
     "base_uri": "https://localhost:8080/"
    },
    "executionInfo": {
     "elapsed": 7,
     "status": "ok",
     "timestamp": 1696039902657,
     "user": {
      "displayName": "Z A Z A",
      "userId": "07938683278567556560"
     },
     "user_tz": -420
    },
    "id": "ouPk0znxQu04",
    "outputId": "a27f4a17-0294-4214-8021-2fa7f548e7a7"
   },
   "outputs": [
    {
     "name": "stdout",
     "output_type": "stream",
     "text": [
      "Calling add with args: (2, 3), kwargs: {}\n",
      "add returned 5\n"
     ]
    }
   ],
   "source": [
    "def log_decorator(func):\n",
    "    def wrapper(*args, **kwargs):\n",
    "        print(f\"Calling {func.__name__} with args: {args}, kwargs: {kwargs}\")\n",
    "        result = func(*args, **kwargs)\n",
    "        print(f\"{func.__name__} returned {result}\")\n",
    "        return result\n",
    "    return wrapper\n",
    "\n",
    "@log_decorator\n",
    "def add(a, b):\n",
    "    return a + b\n",
    "\n",
    "results = add(2, 3)\n"
   ]
  },
  {
   "cell_type": "code",
   "execution_count": 3,
   "metadata": {
    "colab": {
     "base_uri": "https://localhost:8080/"
    },
    "executionInfo": {
     "elapsed": 5,
     "status": "ok",
     "timestamp": 1696039912338,
     "user": {
      "displayName": "Z A Z A",
      "userId": "07938683278567556560"
     },
     "user_tz": -420
    },
    "id": "OPCumzMM2zUR",
    "outputId": "a168cf0b-d648-4e95-e491-9d876ed65b08"
   },
   "outputs": [
    {
     "data": {
      "text/plain": [
       "5"
      ]
     },
     "execution_count": 3,
     "metadata": {},
     "output_type": "execute_result"
    }
   ],
   "source": [
    "results"
   ]
  },
  {
   "cell_type": "markdown",
   "metadata": {
    "id": "olHloADAQ7s3"
   },
   "source": [
    "# Intermediate"
   ]
  },
  {
   "cell_type": "markdown",
   "metadata": {
    "id": "GciwF0IQQ__f"
   },
   "source": [
    "## Example 1: Timing Code Blocks with a Context Manager"
   ]
  },
  {
   "cell_type": "markdown",
   "metadata": {
    "id": "bTxi07c1RC2n"
   },
   "source": [
    "This context manager measures the time taken by a block of code inside with. It helps monitor the performance of a specific part of the program."
   ]
  },
  {
   "cell_type": "code",
   "execution_count": 4,
   "metadata": {
    "colab": {
     "base_uri": "https://localhost:8080/"
    },
    "executionInfo": {
     "elapsed": 3543,
     "status": "ok",
     "timestamp": 1696039973696,
     "user": {
      "displayName": "Z A Z A",
      "userId": "07938683278567556560"
     },
     "user_tz": -420
    },
    "id": "wE-hIOFWQ9hM",
    "outputId": "dbe0b935-2437-4e44-f44d-494a4385840e"
   },
   "outputs": [
    {
     "name": "stdout",
     "output_type": "stream",
     "text": [
      "Code block took 3.0002999305725098 seconds to run.\n"
     ]
    }
   ],
   "source": [
    "import time\n",
    "from contextlib import contextmanager\n",
    "\n",
    "@contextmanager\n",
    "def timer_context_manager():\n",
    "    start_time = time.time()\n",
    "    yield\n",
    "    end_time = time.time()\n",
    "    print(f\"Code block took {end_time - start_time} seconds to run.\")\n",
    "\n",
    "with timer_context_manager():\n",
    "    time.sleep(3)\n"
   ]
  },
  {
   "cell_type": "markdown",
   "metadata": {
    "id": "lATq4ukrRLEH"
   },
   "source": [
    "## Example 2: Custom Context Manager for Resource Management"
   ]
  },
  {
   "cell_type": "markdown",
   "metadata": {
    "id": "nRo-9d81RMpu"
   },
   "source": [
    "This context manager handles the process of opening and closing files automatically, ensuring that files are always closed even if errors occur."
   ]
  },
  {
   "cell_type": "code",
   "execution_count": 5,
   "metadata": {
    "executionInfo": {
     "elapsed": 6,
     "status": "ok",
     "timestamp": 1696040063539,
     "user": {
      "displayName": "Z A Z A",
      "userId": "07938683278567556560"
     },
     "user_tz": -420
    },
    "id": "e5PVPf-uRML8"
   },
   "outputs": [],
   "source": [
    "from contextlib import contextmanager\n",
    "\n",
    "@contextmanager\n",
    "def file_opener(filename, mode):\n",
    "    try:\n",
    "        file = open(filename, mode)\n",
    "        yield file\n",
    "    finally:\n",
    "        file.close()\n",
    "\n",
    "with file_opener(\"sample.txt\", \"w\") as file:\n",
    "    file.write(\"Hello, Context Managers!\")\n"
   ]
  },
  {
   "cell_type": "markdown",
   "metadata": {
    "id": "Jn1LWdwQRV6u"
   },
   "source": [
    "# Advanced"
   ]
  },
  {
   "cell_type": "markdown",
   "metadata": {
    "id": "JCU8OuesRYWm"
   },
   "source": [
    "## Example 1: Advanced Logging Decorator with Signature Function"
   ]
  },
  {
   "cell_type": "markdown",
   "metadata": {
    "id": "fn8hFR9_RahX"
   },
   "source": [
    "This decorator prints the function name, full arguments (both positional and keyword), and the return result. A more informative version of logging."
   ]
  },
  {
   "cell_type": "code",
   "execution_count": 6,
   "metadata": {
    "colab": {
     "base_uri": "https://localhost:8080/"
    },
    "executionInfo": {
     "elapsed": 552,
     "status": "ok",
     "timestamp": 1696040225316,
     "user": {
      "displayName": "Z A Z A",
      "userId": "07938683278567556560"
     },
     "user_tz": -420
    },
    "id": "8Y3ZQkATRX0p",
    "outputId": "08d6b3ba-b824-4ac5-8266-49983e49f652"
   },
   "outputs": [
    {
     "name": "stdout",
     "output_type": "stream",
     "text": [
      "Function multiply(4, 5) returned 20\n"
     ]
    },
    {
     "data": {
      "text/plain": [
       "20"
      ]
     },
     "execution_count": 6,
     "metadata": {},
     "output_type": "execute_result"
    }
   ],
   "source": [
    "def advanced_log_decorator(func):\n",
    "    def wrapper(*args, **kwargs):\n",
    "        args_str = ', '.join([str(arg) for arg in args])\n",
    "        kwargs_str = ', '.join([f\"{key}={value}\" for key, value in kwargs.items()])\n",
    "        all_args = ', '.join(filter(None, [args_str, kwargs_str]))\n",
    "\n",
    "        result = func(*args, **kwargs)\n",
    "        print(f\"Function {func.__name__}({all_args}) returned {result}\")\n",
    "        return result\n",
    "    return wrapper\n",
    "\n",
    "@advanced_log_decorator\n",
    "def multiply(x, y):\n",
    "    return x * y\n",
    "\n",
    "multiply(4, 5)\n"
   ]
  },
  {
   "cell_type": "markdown",
   "metadata": {
    "id": "J7dEFUCbRjRv"
   },
   "source": [
    "## Example 2: Advanced Context Managers for Exception Handling"
   ]
  },
  {
   "cell_type": "markdown",
   "metadata": {
    "id": "NETI1IYMRlMX"
   },
   "source": [
    "This context manager catches certain exceptions during the execution of the with block and prints an error message. This helps with more elegant error handling."
   ]
  },
  {
   "cell_type": "code",
   "execution_count": 7,
   "metadata": {
    "colab": {
     "base_uri": "https://localhost:8080/"
    },
    "executionInfo": {
     "elapsed": 5,
     "status": "ok",
     "timestamp": 1696040361621,
     "user": {
      "displayName": "Z A Z A",
      "userId": "07938683278567556560"
     },
     "user_tz": -420
    },
    "id": "8dA9I0wTRksq",
    "outputId": "17fc900a-eb17-410c-aca1-98c189765801"
   },
   "outputs": [
    {
     "name": "stdout",
     "output_type": "stream",
     "text": [
      "Caught exception: division by zero\n"
     ]
    }
   ],
   "source": [
    "from contextlib import contextmanager\n",
    "\n",
    "@contextmanager\n",
    "def exception_handler(exception_type):\n",
    "    try:\n",
    "        yield\n",
    "    except exception_type as e:\n",
    "        print(f\"Caught exception: {e}\")\n",
    "\n",
    "with exception_handler(ZeroDivisionError):\n",
    "    result = 10 / 0\n"
   ]
  },
  {
   "cell_type": "markdown",
   "metadata": {},
   "source": [
    "### Logging in Web Applications (Flask)\n",
    "\n",
    "Case Study: Monitoring API requests for debugging and analysis.\n",
    "\n",
    "Every API request to /home will be logged with the time and method.\n",
    "\n",
    "Can be used across multiple API endpoints without rewriting logging code."
   ]
  },
  {
   "cell_type": "code",
   "execution_count": 8,
   "metadata": {
    "id": "DozIPKzuSFCC"
   },
   "outputs": [
    {
     "name": "stdout",
     "output_type": "stream",
     "text": [
      " * Serving Flask app '__main__'\n",
      " * Debug mode: on\n"
     ]
    },
    {
     "name": "stderr",
     "output_type": "stream",
     "text": [
      "WARNING: This is a development server. Do not use it in a production deployment. Use a production WSGI server instead.\n",
      " * Running on http://127.0.0.1:5000\n",
      "Press CTRL+C to quit\n",
      " * Restarting with watchdog (windowsapi)\n"
     ]
    },
    {
     "ename": "SystemExit",
     "evalue": "1",
     "output_type": "error",
     "traceback": [
      "An exception has occurred, use %tb to see the full traceback.\n",
      "\u001b[1;31mSystemExit\u001b[0m\u001b[1;31m:\u001b[0m 1\n"
     ]
    },
    {
     "name": "stderr",
     "output_type": "stream",
     "text": [
      "C:\\Users\\LENOVO\\anaconda3\\Lib\\site-packages\\IPython\\core\\interactiveshell.py:3585: UserWarning: To exit: use 'exit', 'quit', or Ctrl-D.\n",
      "  warn(\"To exit: use 'exit', 'quit', or Ctrl-D.\", stacklevel=1)\n"
     ]
    }
   ],
   "source": [
    "from flask import Flask, request\n",
    "import datetime\n",
    "\n",
    "app = Flask(__name__)\n",
    "\n",
    "# Decorator for logging requests\n",
    "def request_logger(func):\n",
    "    def wrapper(*args, **kwargs):\n",
    "        print(f\"[{datetime.datetime.now()}] Request to {request.path} with {request.method}\")\n",
    "        return func(*args, **kwargs)\n",
    "    return wrapper\n",
    "\n",
    "@app.route(\"/home\", methods=[\"GET\"])\n",
    "@request_logger\n",
    "def home():\n",
    "    return \"Welcome to the Home Page\"\n",
    "\n",
    "if __name__ == \"__main__\":\n",
    "    app.run(debug=True)"
   ]
  },
  {
   "cell_type": "markdown",
   "metadata": {},
   "source": [
    "### Caching with Decorators\n",
    "\n",
    "Case: Speed up API responses by caching calculation results.\n",
    "\n",
    "If a function has already been executed, the results are cached.\n",
    "\n",
    "Speeds up applications, especially when calculations are expensive (e.g., database queries or image processing)."
   ]
  },
  {
   "cell_type": "code",
   "execution_count": 9,
   "metadata": {},
   "outputs": [
    {
     "name": "stdout",
     "output_type": "stream",
     "text": [
      "Computing...\n",
      "25\n",
      "Fetching from cache...\n",
      "25\n"
     ]
    }
   ],
   "source": [
    "import functools\n",
    "\n",
    "cache = {}\n",
    "\n",
    "def caching_decorator(func):\n",
    "    @functools.wraps(func)\n",
    "    def wrapper(*args):\n",
    "        if args in cache:\n",
    "            print(\"Fetching from cache...\")\n",
    "            return cache[args]\n",
    "        result = func(*args)\n",
    "        cache[args] = result\n",
    "        return result\n",
    "    return wrapper\n",
    "\n",
    "@caching_decorator\n",
    "def expensive_computation(x):\n",
    "    print(\"Computing...\")\n",
    "    return x ** 2  # expensive computation simulation\n",
    "\n",
    "print(expensive_computation(5)) # First time: Counting\n",
    "print(expensive_computation(5))  # Second time: Fetch from cache\n"
   ]
  },
  {
   "cell_type": "code",
   "execution_count": 10,
   "metadata": {},
   "outputs": [
    {
     "name": "stdout",
     "output_type": "stream",
     "text": [
      "Computing...\n",
      "100\n",
      "Computing...\n",
      "4\n"
     ]
    }
   ],
   "source": [
    "print(expensive_computation(10))\n",
    "print(expensive_computation(2))"
   ]
  },
  {
   "cell_type": "markdown",
   "metadata": {},
   "source": [
    "### Database Connection Management (SQLAlchemy)\n",
    "\n",
    "Case: Ensuring that database connections are closed after use.\n",
    "\n",
    "The context manager ensures that database connections are always closed after use.\n",
    "\n",
    "Prevents database connection leaks, which can cause system crashes."
   ]
  },
  {
   "cell_type": "code",
   "execution_count": 12,
   "metadata": {},
   "outputs": [
    {
     "name": "stdout",
     "output_type": "stream",
     "text": [
      "[('3.45.3',)]\n"
     ]
    }
   ],
   "source": [
    "from sqlalchemy import create_engine, text  # Add 'text'\n",
    "from sqlalchemy.orm import sessionmaker\n",
    "from contextlib import contextmanager\n",
    "\n",
    "# Initialize connection to SQLite database\n",
    "DATABASE_URL = \"sqlite:///example.db\"\n",
    "engine = create_engine(DATABASE_URL)\n",
    "SessionLocal = sessionmaker(bind=engine)\n",
    "\n",
    "# Context manager for database sessions\n",
    "@contextmanager\n",
    "def get_db_session():\n",
    "    db = SessionLocal()\n",
    "    try:\n",
    "        yield db\n",
    "    finally:\n",
    "        db.close()  # Make sure the connection is always closed\n",
    "\n",
    "# Use sessions to run queries\n",
    "with get_db_session() as session:\n",
    "    result = session.execute(text(\"SELECT sqlite_version();\"))  # Wrap the query with text()\n",
    "    print(result.fetchall())\n"
   ]
  },
  {
   "cell_type": "markdown",
   "metadata": {},
   "source": [
    "### Managing API Connections with Requests\n",
    "\n",
    "Case: Retrieving data from an external API using a secure connection.\n",
    "\n",
    "The context manager ensures the API connection is closed after use.\n",
    "\n",
    "Avoid HTTP session leaks, which can waste server resources."
   ]
  },
  {
   "cell_type": "code",
   "execution_count": 13,
   "metadata": {},
   "outputs": [
    {
     "name": "stdout",
     "output_type": "stream",
     "text": [
      "{'userId': 1, 'id': 1, 'title': 'delectus aut autem', 'completed': False}\n"
     ]
    }
   ],
   "source": [
    "import requests\n",
    "from contextlib import contextmanager\n",
    "\n",
    "@contextmanager\n",
    "def open_api_session(url):\n",
    "    session = requests.Session()\n",
    "    try:\n",
    "        yield session.get(url)  # Returns API response\n",
    "    finally:\n",
    "        session.close()  # Close the session after completion\n",
    "\n",
    "API_URL = \"https://jsonplaceholder.typicode.com/todos/1\"\n",
    "\n",
    "with open_api_session(API_URL) as response:\n",
    "    print(response.json())  # Retrieving data from API"
   ]
  },
  {
   "cell_type": "code",
   "execution_count": null,
   "metadata": {},
   "outputs": [],
   "source": []
  }
 ],
 "metadata": {
  "colab": {
   "provenance": []
  },
  "kernelspec": {
   "display_name": "Python 3 (ipykernel)",
   "language": "python",
   "name": "python3"
  },
  "language_info": {
   "codemirror_mode": {
    "name": "ipython",
    "version": 3
   },
   "file_extension": ".py",
   "mimetype": "text/x-python",
   "name": "python",
   "nbconvert_exporter": "python",
   "pygments_lexer": "ipython3",
   "version": "3.13.5"
  }
 },
 "nbformat": 4,
 "nbformat_minor": 4
}
