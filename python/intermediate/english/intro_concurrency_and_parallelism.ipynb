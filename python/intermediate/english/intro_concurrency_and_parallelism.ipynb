{
 "cells": [
  {
   "cell_type": "markdown",
   "metadata": {},
   "source": [
    "# Concurrency and Parallelism\n",
    "## Concurrency\n",
    "**Definition**\n",
    "Concurrency is the ability of a program to handle multiple tasks simultaneously (alternately and very quickly), although they don't necessarily run at the same time.\n",
    "**Analogy**\n",
    "Imagine a chef cooking three dishes. He or she switches between tasks rapidly: waiting for the water to boil, then chopping vegetables, then stirring the soup. They aren't done simultaneously, but they all run.\n",
    "**Technical**\n",
    "* Typically uses a single-core CPU\n",
    "* Assisted by threading, asynchronous I/O, or coroutines (such as async and await in Python)\n",
    "* Suitable for I/O-bound tasks (e.g., reading files, web scraping, database queries)\n",
    "## Parallelism\n",
    "**Definition**\n",
    "Parallelism is the ability to execute multiple tasks completely concurrently, at the same time, using multiple CPU cores or multiple processors.\n",
    "**Analogy**\n",
    "Imagine three chefs in three kitchens, each cooking a single dish. All tasks run in parallel and simultaneously.\n",
    "**Technical**\n",
    "* Requires a multi-core CPU\n",
    "* Uses parallel processing (multiprocessing, joblib, GPU processing)\n",
    "* Suitable for CPU-bound tasks (e.g., heavy computing, image processing, training ML models)\n",
    "\n",
    "\"All parallelism is concurrent, but not all concurrency is parallel.\""
   ]
  },
  {
   "cell_type": "markdown",
   "metadata": {
    "id": "3gtK-BGXQgh4"
   },
   "source": [
    "# Simple\n",
    "\n",
    "This program demonstrates how tasks can be executed separately but synchronized so that the main program waits for each task to complete before continuing with the final execution."
   ]
  },
  {
   "cell_type": "code",
   "execution_count": 1,
   "metadata": {},
   "outputs": [
    {
     "name": "stdout",
     "output_type": "stream",
     "text": [
      "Task started...\n",
      "Task completed!\n",
      "Task completed!\n",
      "All tasks completed!\n"
     ]
    }
   ],
   "source": [
    "import threading\n",
    "import time\n",
    "\n",
    "def task():\n",
    "    print(\"Task started...\")\n",
    "    time.sleep(5)\n",
    "    print(\"Task completed!\")\n",
    "    time.sleep(5)\n",
    "    print(\"Task completed!\")\n",
    "\n",
    "# Create a thread\n",
    "t = threading.Thread(target=task)\n",
    "\n",
    "# Start a thread\n",
    "t.start()\n",
    "\n",
    "# Wait for a thread to complete\n",
    "t.join()\n",
    "\n",
    "print(\"All tasks completed!\")"
   ]
  },
  {
   "cell_type": "markdown",
   "metadata": {},
   "source": [
    "This program illustrates how a task can run concurrently with the main program, allowing other parts of the program to continue running without having to wait for the task to complete."
   ]
  },
  {
   "cell_type": "code",
   "execution_count": 2,
   "metadata": {},
   "outputs": [
    {
     "name": "stdout",
     "output_type": "stream",
     "text": [
      "Task started...\n",
      "All tasks completed!\n",
      "Task completed!\n"
     ]
    },
    {
     "name": "stdout",
     "output_type": "stream",
     "text": [
      "Tugas selesai!\n"
     ]
    }
   ],
   "source": [
    "import threading\n",
    "import time\n",
    "\n",
    "def task():\n",
    "    print(\"Task started...\")\n",
    "    time.sleep(5)\n",
    "    print(\"Task completed!\")\n",
    "\n",
    "# Create a thread\n",
    "t = threading.Thread(target=task)\n",
    "\n",
    "# Start a thread\n",
    "t.start()\n",
    "\n",
    "print(\"All tasks completed!\")"
   ]
  },
  {
   "cell_type": "markdown",
   "metadata": {
    "id": "fXVTzM7iQkl3"
   },
   "source": [
    "## Example 1: Creating Threads for Parallel Execution"
   ]
  },
  {
   "cell_type": "markdown",
   "metadata": {},
   "source": [
    "This code illustrates two activities running simultaneously using two separate threads: one printing the numbers 1 through 5, and the other printing the letters ‘a’ through ‘e’. Both run simultaneously, allowing the numbers and letters to appear alternately depending on the execution speed of each thread. The main program waits for both threads to complete before ending execution."
   ]
  },
  {
   "cell_type": "code",
   "execution_count": 5,
   "metadata": {
    "colab": {
     "base_uri": "https://localhost:8080/"
    },
    "executionInfo": {
     "elapsed": 5261,
     "status": "ok",
     "timestamp": 1697272379954,
     "user": {
      "displayName": "Z A Z A",
      "userId": "07938683278567556560"
     },
     "user_tz": -420
    },
    "id": "-Ikx2mt-MuAf",
    "outputId": "9d1a125e-c41f-4af2-8bbf-3357dcd740b1"
   },
   "outputs": [
    {
     "name": "stdout",
     "output_type": "stream",
     "text": [
      "Number: 1\n",
      "Letter: a\n",
      "Number: 2Letter: b\n",
      "\n",
      "Letter: c\n",
      "Number: 3\n",
      "Letter: dNumber: 4\n",
      "\n",
      "Letter: eNumber: 5\n",
      "\n"
     ]
    }
   ],
   "source": [
    "import threading\n",
    "import time\n",
    "\n",
    "def print_numbers():\n",
    "    for i in range(1, 6):\n",
    "        print(f\"Number: {i}\")\n",
    "        time.sleep(1)\n",
    "\n",
    "def print_letters():\n",
    "    for letter in 'abcde':\n",
    "        print(f\"Letter: {letter}\")\n",
    "        time.sleep(1)\n",
    "\n",
    "thread1 = threading.Thread(target=print_numbers)\n",
    "thread2 = threading.Thread(target=print_letters)\n",
    "\n",
    "thread1.start()\n",
    "thread2.start()\n",
    "\n",
    "thread1.join()\n",
    "thread2.join()\n"
   ]
  },
  {
   "cell_type": "markdown",
   "metadata": {
    "id": "sJp8E9vLIEbo"
   },
   "source": [
    "Explanation:\n",
    "* In this example, there are two functions, print_numbers and print_letters, each simulating a task.\n",
    "* We create two threads, thread1 and thread2, to run these functions concurrently.\n",
    "* thread1.start() and thread2.start() start the threads.\n",
    "* We use thread1.join() and thread2.join() to wait for the threads to complete.\n",
    "* These threads run concurrently, printing numbers and letters, and sleeping for 1 second after printing each character.\n",
    "\n",
    "## Example 2: Thread Safety with Shared Resources\n",
    "This code demonstrates how two threads can work together to increment a shared variable (counter) 100,000 times each, while avoiding conflicts or errors due to concurrent access. By using locks, the code ensures that only one thread can modify the counter at a time, maintaining the accuracy of the final result. After both threads have finished executing, the program prints the final value of the counter, which should be 200,000 if all operations have been executed successfully without conflicts."
   ]
  },
  {
   "cell_type": "code",
   "execution_count": 6,
   "metadata": {
    "colab": {
     "base_uri": "https://localhost:8080/"
    },
    "executionInfo": {
     "elapsed": 359,
     "status": "ok",
     "timestamp": 1697272515116,
     "user": {
      "displayName": "Z A Z A",
      "userId": "07938683278567556560"
     },
     "user_tz": -420
    },
    "id": "ouPk0znxQu04",
    "outputId": "5239ab12-a98b-4701-ed68-20f9a594c39f"
   },
   "outputs": [
    {
     "name": "stdout",
     "output_type": "stream",
     "text": [
      "Counter: 200000\n"
     ]
    }
   ],
   "source": [
    "import threading\n",
    "\n",
    "counter = 0\n",
    "lock = threading.Lock()\n",
    "\n",
    "def increment():\n",
    "    global counter\n",
    "    for _ in range(100000):\n",
    "        with lock:\n",
    "            counter += 1\n",
    "\n",
    "thread1 = threading.Thread(target=increment)\n",
    "thread2 = threading.Thread(target=increment)\n",
    "\n",
    "thread1.start()\n",
    "thread2.start()\n",
    "\n",
    "thread1.join()\n",
    "thread2.join()\n",
    "\n",
    "print(\"Counter:\", counter)\n"
   ]
  },
  {
   "cell_type": "markdown",
   "metadata": {
    "id": "JDa_RjRmIJ3n"
   },
   "source": [
    "Explanation:\\\n",
    "This example illustrates a common problem in concurrent programming: shared resources.\n",
    "We have a global counter variable that is incremented by multiple threads simultaneously.\n",
    "To ensure thread safety, we use threading.Lock to protect the critical section where the counter is updated.\n",
    "Each thread, thread1 and thread2, increments the counter 100,000 times.\n",
    "After both threads complete, we print the final value of the counter. Using a lock ensures that the counter is updated safely."
   ]
  },
  {
   "cell_type": "markdown",
   "metadata": {
    "id": "olHloADAQ7s3"
   },
   "source": [
    "# Intermediate"
   ]
  },
  {
   "cell_type": "markdown",
   "metadata": {
    "id": "GciwF0IQQ__f"
   },
   "source": [
    "## Example 1: Producer-Consumer Scenario with Threads\n",
    "This code illustrates a producer-consumer scenario using two threads and a queue structure (queue.Queue) for communication between the threads. The producer thread produces five items and places them in the queue, while the consumer thread retrieves items one by one from the queue and prints them to indicate that they have been \"consumed.\" Once the producer is finished, it sends a special signal (None) to the consumer to indicate that no more items will be produced, allowing the consumer thread to terminate cleanly. This approach maintains synchronization and workflow between the two threads without conflicts."
   ]
  },
  {
   "cell_type": "code",
   "execution_count": 3,
   "metadata": {
    "colab": {
     "base_uri": "https://localhost:8080/"
    },
    "executionInfo": {
     "elapsed": 386,
     "status": "ok",
     "timestamp": 1697272743822,
     "user": {
      "displayName": "Z A Z A",
      "userId": "07938683278567556560"
     },
     "user_tz": -420
    },
    "id": "wE-hIOFWQ9hM",
    "outputId": "5676e0e5-ef18-4f02-a52d-fbd2f0c8c83e"
   },
   "outputs": [
    {
     "name": "stdout",
     "output_type": "stream",
     "text": [
      "Consumed: 0\n",
      "Consumed: 1\n",
      "Consumed: 2\n",
      "Consumed: 3\n",
      "Consumed: 4\n"
     ]
    }
   ],
   "source": [
    "import threading\n",
    "import queue\n",
    "\n",
    "def producer(q):\n",
    "    for i in range(5):\n",
    "        q.put(i)\n",
    "\n",
    "def consumer(q):\n",
    "    while True:\n",
    "        item = q.get()\n",
    "        if item is None:\n",
    "            break\n",
    "        print(\"Consumed:\", item)\n",
    "\n",
    "q = queue.Queue()\n",
    "producer_thread = threading.Thread(target=producer, args=(q,))\n",
    "consumer_thread = threading.Thread(target=consumer, args=(q,))\n",
    "\n",
    "producer_thread.start()\n",
    "consumer_thread.start()\n",
    "\n",
    "producer_thread.join()\n",
    "q.put(None) # Signal to consumer to stop\n",
    "consumer_thread.join()"
   ]
  },
  {
   "cell_type": "markdown",
   "metadata": {
    "id": "WQ3eERXaL5yD"
   },
   "source": [
    "Explanation:\n",
    "* In this example, we have two threads representing a producer and a consumer.\n",
    "* The producer thread, producer_thread, produces and adds items to a shared queue.\n",
    "* The consumer thread, consumer_thread, consumes items from the queue.\n",
    "* The consumer thread continues to consume items until it receives a \"stop\" (None) signal from the producer.\n",
    "* The use of queues ensures concurrency safety and allows secure communication between producers and consumers."
   ]
  },
  {
   "cell_type": "markdown",
   "metadata": {
    "id": "lATq4ukrRLEH"
   },
   "source": [
    "## Example 2: Thread Pool for Task Parallelism\n",
    "This code demonstrates the use of ThreadPoolExecutor from the concurrent.futures module to execute functions in parallel using threads. The square function calculates the square of a number after a one-second delay. The list of numbers [1, 2, 3, 4, 5] is processed simultaneously by up to three parallel threads. This approach results in a faster overall execution compared to running them individually, as multiple tasks are running concurrently. After all the results are calculated, the program prints a list of the squared results."
   ]
  },
  {
   "cell_type": "code",
   "execution_count": 8,
   "metadata": {
    "colab": {
     "base_uri": "https://localhost:8080/"
    },
    "executionInfo": {
     "elapsed": 2355,
     "status": "ok",
     "timestamp": 1697272916399,
     "user": {
      "displayName": "Z A Z A",
      "userId": "07938683278567556560"
     },
     "user_tz": -420
    },
    "id": "e5PVPf-uRML8",
    "outputId": "46bc8cf9-d2b4-4f01-d95f-05df92c39b36"
   },
   "outputs": [
    {
     "name": "stdout",
     "output_type": "stream",
     "text": [
      "Result: [1, 4, 9, 16, 25]\n"
     ]
    }
   ],
   "source": [
    "from concurrent.futures import ThreadPoolExecutor\n",
    "import time\n",
    "\n",
    "def square(x): \n",
    "    time.sleep(1) \n",
    "    return x*x\n",
    "\n",
    "data = [1, 2, 3, 4, 5]\n",
    "with ThreadPoolExecutor(max_workers=3) as executor: \n",
    "    result = list(executor.map(square, data))\n",
    "\n",
    "print(\"Result:\", result)"
   ]
  },
  {
   "cell_type": "markdown",
   "metadata": {
    "id": "6wH0c8EkL7qf"
   },
   "source": [
    "Explanation:\n",
    "In this example, we introduce ThreadPoolExecutor from the concurrent.futures module, which provides a convenient way to manage and execute tasks concurrently.\n",
    "We define a square function that simulates a task by squaring a number and sleeping for 1 second.\n",
    "We create a list of data and use the executor.map method for concurrent execution."
   ]
  },
  {
   "cell_type": "markdown",
   "metadata": {
    "id": "Jn1LWdwQRV6u"
   },
   "source": [
    "# Advanced"
   ]
  },
  {
   "cell_type": "markdown",
   "metadata": {
    "id": "JCU8OuesRYWm"
   },
   "source": [
    "## Example 1: Concurrent Execution with ThreadPoolExecutor\n",
    "This code is an implementation of concurrent programming using ThreadPoolExecutor from the concurrent.futures module to execute functions in parallel with threads. The square function will calculate the square of each number in a data list containing the numbers 0 through 99, with a one-second pause between each execution. Because max_workers=3, only three tasks will be executed concurrently by the three active threads. Although each calculation takes time, this approach speeds up the overall process compared to performing them sequentially. Once all squares have been calculated in parallel, the results are aggregated and displayed as a list."
   ]
  },
  {
   "cell_type": "code",
   "execution_count": 9,
   "metadata": {
    "colab": {
     "base_uri": "https://localhost:8080/"
    },
    "executionInfo": {
     "elapsed": 2340,
     "status": "ok",
     "timestamp": 1697273055589,
     "user": {
      "displayName": "Z A Z A",
      "userId": "07938683278567556560"
     },
     "user_tz": -420
    },
    "id": "8Y3ZQkATRX0p",
    "outputId": "dbe315d9-56e1-4247-b3e0-1146afe04c99"
   },
   "outputs": [
    {
     "name": "stdout",
     "output_type": "stream",
     "text": [
      "Result (Thread): [0, 1, 4, 9, 16, 25, 36, 49, 64, 81, 100, 121, 144, 169, 196, 225, 256, 289, 324, 361, 400, 441, 484, 529, 576, 625, 676, 729, 784, 841, 900, 961, 1024, 1089, 1156, 1225, 1296, 1369, 1444, 1521, 1600, 1681, 1764, 1849, 1936, 2025, 2116, 2209, 2304, 2401, 2500, 2601, 2704, 2809, 2916, 3025, 3136, 3249, 3364, 3481, 3600, 3721, 3844, 3969, 4096, 4225, 4356, 4489, 4624, 4761, 4900, 5041, 5184, 5329, 5476, 5625, 5776, 5929, 6084, 6241, 6400, 6561, 6724, 6889, 7056, 7225, 7396, 7569, 7744, 7921, 8100, 8281, 8464, 8649, 8836, 9025, 9216, 9409, 9604, 9801]\n"
     ]
    }
   ],
   "source": [
    "from concurrent.futures import ThreadPoolExecutor, ProcessPoolExecutor\n",
    "import time\n",
    "\n",
    "def square(x):\n",
    "    time.sleep(1)\n",
    "    return x * x\n",
    "\n",
    "data = [i for i in range(100)]\n",
    "with ThreadPoolExecutor(max_workers=3) as executor:\n",
    "    result = list(executor.map(square, data))\n",
    "\n",
    "print(\"Result (Thread):\", result)\n"
   ]
  },
  {
   "cell_type": "markdown",
   "metadata": {},
   "source": [
    "This code demonstrates parallel processing using ThreadPoolExecutor with a large number of workers (max_workers=100). The square function calculates the square of a number in a data list containing the numbers 0 through 99, with a one-second pause between each processing step to simulate a time-consuming process. Because the number of threads is 100 equals the number of elements in the data, all tasks can be processed simultaneously, so the total execution time is close to the execution time of a single function (about 1 second), rather than 100 seconds as with sequential processing. This approach demonstrates the power of concurrency in maximizing thread utilization for increased efficiency, although in practice, too many threads can put stress on the system depending on load and resources."
   ]
  },
  {
   "cell_type": "code",
   "execution_count": 10,
   "metadata": {},
   "outputs": [
    {
     "name": "stdout",
     "output_type": "stream",
     "text": [
      "Result (Thread): [0, 1, 4, 9, 16, 25, 36, 49, 64, 81, 100, 121, 144, 169, 196, 225, 256, 289, 324, 361, 400, 441, 484, 529, 576, 625, 676, 729, 784, 841, 900, 961, 1024, 1089, 1156, 1225, 1296, 1369, 1444, 1521, 1600, 1681, 1764, 1849, 1936, 2025, 2116, 2209, 2304, 2401, 2500, 2601, 2704, 2809, 2916, 3025, 3136, 3249, 3364, 3481, 3600, 3721, 3844, 3969, 4096, 4225, 4356, 4489, 4624, 4761, 4900, 5041, 5184, 5329, 5476, 5625, 5776, 5929, 6084, 6241, 6400, 6561, 6724, 6889, 7056, 7225, 7396, 7569, 7744, 7921, 8100, 8281, 8464, 8649, 8836, 9025, 9216, 9409, 9604, 9801]\n"
     ]
    }
   ],
   "source": [
    "from concurrent.futures import ThreadPoolExecutor, ProcessPoolExecutor\n",
    "import time\n",
    "\n",
    "def square(x):\n",
    "    time.sleep(1)\n",
    "    return x * x\n",
    "\n",
    "data = [i for i in range(100)]\n",
    "with ThreadPoolExecutor(max_workers=100) as executor:\n",
    "    result = list(executor.map(square, data))\n",
    "\n",
    "print(\"Result (Thread):\", result)"
   ]
  },
  {
   "cell_type": "markdown",
   "metadata": {
    "id": "aVkj7bgKME1H"
   },
   "source": [
    "Explanation:\n",
    "\n",
    "In this example, we use ThreadPoolExecutor to execute a square function concurrently with up to three threads.\n",
    "\n",
    "The square function simulates a task by squaring a number and sleeping for 1 second.\n",
    "\n",
    "The executor.map method maps the function to data and collects the results.\n",
    "\n",
    "This illustrates concurrent execution with threads."
   ]
  },
  {
   "cell_type": "markdown",
   "metadata": {
    "id": "J7dEFUCbRjRv"
   },
   "source": [
    "## Example 2: Concurrent Execution with ProcessPoolExecutor\n",
    "This code uses parallelism through ProcessPoolExecutor to execute a square function in parallel using separate processes. The square function will square each element in the data list, but with a 1-second delay to simulate a demanding task. Because max_workers=3, only three processes are running concurrently. The rest will wait until a process completes. This makes execution faster than sequential execution, but is still limited by the number of available workers. Because it uses processes (rather than threads), this approach is suitable for CPU-bound tasks that require higher performance and can efficiently utilize multiple CPU cores. The final result of the square calculation of all elements is displayed after all processes have completed."
   ]
  },
  {
   "cell_type": "code",
   "execution_count": 11,
   "metadata": {
    "colab": {
     "base_uri": "https://localhost:8080/"
    },
    "executionInfo": {
     "elapsed": 2133,
     "status": "ok",
     "timestamp": 1697273111294,
     "user": {
      "displayName": "Z A Z A",
      "userId": "07938683278567556560"
     },
     "user_tz": -420
    },
    "id": "8dA9I0wTRksq",
    "outputId": "36b0872a-a80e-43a5-f5cd-6d21ca3e9c79",
    "scrolled": true
   },
   "outputs": [
    {
     "ename": "BrokenProcessPool",
     "evalue": "A process in the process pool was terminated abruptly while the future was running or pending.",
     "output_type": "error",
     "traceback": [
      "\u001b[1;31m---------------------------------------------------------------------------\u001b[0m",
      "\u001b[1;31mBrokenProcessPool\u001b[0m                         Traceback (most recent call last)",
      "Cell \u001b[1;32mIn[11], line 10\u001b[0m\n\u001b[0;32m      8\u001b[0m data \u001b[38;5;241m=\u001b[39m [\u001b[38;5;241m1\u001b[39m, \u001b[38;5;241m2\u001b[39m, \u001b[38;5;241m3\u001b[39m, \u001b[38;5;241m4\u001b[39m, \u001b[38;5;241m5\u001b[39m, \u001b[38;5;241m10\u001b[39m]\n\u001b[0;32m      9\u001b[0m \u001b[38;5;28;01mwith\u001b[39;00m ProcessPoolExecutor(max_workers\u001b[38;5;241m=\u001b[39m\u001b[38;5;241m3\u001b[39m) \u001b[38;5;28;01mas\u001b[39;00m executor:\n\u001b[1;32m---> 10\u001b[0m     result \u001b[38;5;241m=\u001b[39m \u001b[38;5;28mlist\u001b[39m(executor\u001b[38;5;241m.\u001b[39mmap(square, data))\n\u001b[0;32m     12\u001b[0m \u001b[38;5;28mprint\u001b[39m(\u001b[38;5;124m\"\u001b[39m\u001b[38;5;124mResult (process):\u001b[39m\u001b[38;5;124m\"\u001b[39m, result)\n",
      "File \u001b[1;32m~\\anaconda3\\Lib\\concurrent\\futures\\process.py:617\u001b[0m, in \u001b[0;36m_chain_from_iterable_of_lists\u001b[1;34m(iterable)\u001b[0m\n\u001b[0;32m    611\u001b[0m \u001b[38;5;28;01mdef\u001b[39;00m\u001b[38;5;250m \u001b[39m\u001b[38;5;21m_chain_from_iterable_of_lists\u001b[39m(iterable):\n\u001b[0;32m    612\u001b[0m \u001b[38;5;250m    \u001b[39m\u001b[38;5;124;03m\"\"\"\u001b[39;00m\n\u001b[0;32m    613\u001b[0m \u001b[38;5;124;03m    Specialized implementation of itertools.chain.from_iterable.\u001b[39;00m\n\u001b[0;32m    614\u001b[0m \u001b[38;5;124;03m    Each item in *iterable* should be a list.  This function is\u001b[39;00m\n\u001b[0;32m    615\u001b[0m \u001b[38;5;124;03m    careful not to keep references to yielded objects.\u001b[39;00m\n\u001b[0;32m    616\u001b[0m \u001b[38;5;124;03m    \"\"\"\u001b[39;00m\n\u001b[1;32m--> 617\u001b[0m     \u001b[38;5;28;01mfor\u001b[39;00m element \u001b[38;5;129;01min\u001b[39;00m iterable:\n\u001b[0;32m    618\u001b[0m         element\u001b[38;5;241m.\u001b[39mreverse()\n\u001b[0;32m    619\u001b[0m         \u001b[38;5;28;01mwhile\u001b[39;00m element:\n",
      "File \u001b[1;32m~\\anaconda3\\Lib\\concurrent\\futures\\_base.py:619\u001b[0m, in \u001b[0;36mExecutor.map.<locals>.result_iterator\u001b[1;34m()\u001b[0m\n\u001b[0;32m    616\u001b[0m \u001b[38;5;28;01mwhile\u001b[39;00m fs:\n\u001b[0;32m    617\u001b[0m     \u001b[38;5;66;03m# Careful not to keep a reference to the popped future\u001b[39;00m\n\u001b[0;32m    618\u001b[0m     \u001b[38;5;28;01mif\u001b[39;00m timeout \u001b[38;5;129;01mis\u001b[39;00m \u001b[38;5;28;01mNone\u001b[39;00m:\n\u001b[1;32m--> 619\u001b[0m         \u001b[38;5;28;01myield\u001b[39;00m _result_or_cancel(fs\u001b[38;5;241m.\u001b[39mpop())\n\u001b[0;32m    620\u001b[0m     \u001b[38;5;28;01melse\u001b[39;00m:\n\u001b[0;32m    621\u001b[0m         \u001b[38;5;28;01myield\u001b[39;00m _result_or_cancel(fs\u001b[38;5;241m.\u001b[39mpop(), end_time \u001b[38;5;241m-\u001b[39m time\u001b[38;5;241m.\u001b[39mmonotonic())\n",
      "File \u001b[1;32m~\\anaconda3\\Lib\\concurrent\\futures\\_base.py:317\u001b[0m, in \u001b[0;36m_result_or_cancel\u001b[1;34m(***failed resolving arguments***)\u001b[0m\n\u001b[0;32m    315\u001b[0m \u001b[38;5;28;01mtry\u001b[39;00m:\n\u001b[0;32m    316\u001b[0m     \u001b[38;5;28;01mtry\u001b[39;00m:\n\u001b[1;32m--> 317\u001b[0m         \u001b[38;5;28;01mreturn\u001b[39;00m fut\u001b[38;5;241m.\u001b[39mresult(timeout)\n\u001b[0;32m    318\u001b[0m     \u001b[38;5;28;01mfinally\u001b[39;00m:\n\u001b[0;32m    319\u001b[0m         fut\u001b[38;5;241m.\u001b[39mcancel()\n",
      "File \u001b[1;32m~\\anaconda3\\Lib\\concurrent\\futures\\_base.py:456\u001b[0m, in \u001b[0;36mFuture.result\u001b[1;34m(self, timeout)\u001b[0m\n\u001b[0;32m    454\u001b[0m     \u001b[38;5;28;01mraise\u001b[39;00m CancelledError()\n\u001b[0;32m    455\u001b[0m \u001b[38;5;28;01melif\u001b[39;00m \u001b[38;5;28mself\u001b[39m\u001b[38;5;241m.\u001b[39m_state \u001b[38;5;241m==\u001b[39m FINISHED:\n\u001b[1;32m--> 456\u001b[0m     \u001b[38;5;28;01mreturn\u001b[39;00m \u001b[38;5;28mself\u001b[39m\u001b[38;5;241m.\u001b[39m__get_result()\n\u001b[0;32m    457\u001b[0m \u001b[38;5;28;01melse\u001b[39;00m:\n\u001b[0;32m    458\u001b[0m     \u001b[38;5;28;01mraise\u001b[39;00m \u001b[38;5;167;01mTimeoutError\u001b[39;00m()\n",
      "File \u001b[1;32m~\\anaconda3\\Lib\\concurrent\\futures\\_base.py:401\u001b[0m, in \u001b[0;36mFuture.__get_result\u001b[1;34m(self)\u001b[0m\n\u001b[0;32m    399\u001b[0m \u001b[38;5;28;01mif\u001b[39;00m \u001b[38;5;28mself\u001b[39m\u001b[38;5;241m.\u001b[39m_exception \u001b[38;5;129;01mis\u001b[39;00m \u001b[38;5;129;01mnot\u001b[39;00m \u001b[38;5;28;01mNone\u001b[39;00m:\n\u001b[0;32m    400\u001b[0m     \u001b[38;5;28;01mtry\u001b[39;00m:\n\u001b[1;32m--> 401\u001b[0m         \u001b[38;5;28;01mraise\u001b[39;00m \u001b[38;5;28mself\u001b[39m\u001b[38;5;241m.\u001b[39m_exception\n\u001b[0;32m    402\u001b[0m     \u001b[38;5;28;01mfinally\u001b[39;00m:\n\u001b[0;32m    403\u001b[0m         \u001b[38;5;66;03m# Break a reference cycle with the exception in self._exception\u001b[39;00m\n\u001b[0;32m    404\u001b[0m         \u001b[38;5;28mself\u001b[39m \u001b[38;5;241m=\u001b[39m \u001b[38;5;28;01mNone\u001b[39;00m\n",
      "\u001b[1;31mBrokenProcessPool\u001b[0m: A process in the process pool was terminated abruptly while the future was running or pending."
     ]
    }
   ],
   "source": [
    "from concurrent.futures import ThreadPoolExecutor, ProcessPoolExecutor\n",
    "import time\n",
    "\n",
    "def square(x):\n",
    "    time.sleep(1)\n",
    "    return x * x\n",
    "\n",
    "data = [1, 2, 3, 4, 5, 10]\n",
    "with ProcessPoolExecutor(max_workers=3) as executor:\n",
    "    result = list(executor.map(square, data))\n",
    "\n",
    "print(\"Result (process):\", result)"
   ]
  },
  {
   "cell_type": "code",
   "execution_count": 12,
   "metadata": {},
   "outputs": [
    {
     "ename": "BrokenProcessPool",
     "evalue": "A process in the process pool was terminated abruptly while the future was running or pending.",
     "output_type": "error",
     "traceback": [
      "\u001b[1;31m---------------------------------------------------------------------------\u001b[0m",
      "\u001b[1;31mBrokenProcessPool\u001b[0m                         Traceback (most recent call last)",
      "Cell \u001b[1;32mIn[12], line 11\u001b[0m\n\u001b[0;32m      9\u001b[0m data \u001b[38;5;241m=\u001b[39m [\u001b[38;5;241m1\u001b[39m, \u001b[38;5;241m2\u001b[39m, \u001b[38;5;241m3\u001b[39m, \u001b[38;5;241m4\u001b[39m, \u001b[38;5;241m5\u001b[39m, \u001b[38;5;241m10\u001b[39m]\n\u001b[0;32m     10\u001b[0m \u001b[38;5;28;01mwith\u001b[39;00m ProcessPoolExecutor(max_workers\u001b[38;5;241m=\u001b[39m\u001b[38;5;241m3\u001b[39m) \u001b[38;5;28;01mas\u001b[39;00m executor:\n\u001b[1;32m---> 11\u001b[0m     result \u001b[38;5;241m=\u001b[39m \u001b[38;5;28mlist\u001b[39m(executor\u001b[38;5;241m.\u001b[39mmap(square, data))\n\u001b[0;32m     13\u001b[0m \u001b[38;5;28mprint\u001b[39m(\u001b[38;5;124m\"\u001b[39m\u001b[38;5;124mResult (Process):\u001b[39m\u001b[38;5;124m\"\u001b[39m, result)\n",
      "File \u001b[1;32m~\\anaconda3\\Lib\\concurrent\\futures\\process.py:617\u001b[0m, in \u001b[0;36m_chain_from_iterable_of_lists\u001b[1;34m(iterable)\u001b[0m\n\u001b[0;32m    611\u001b[0m \u001b[38;5;28;01mdef\u001b[39;00m\u001b[38;5;250m \u001b[39m\u001b[38;5;21m_chain_from_iterable_of_lists\u001b[39m(iterable):\n\u001b[0;32m    612\u001b[0m \u001b[38;5;250m    \u001b[39m\u001b[38;5;124;03m\"\"\"\u001b[39;00m\n\u001b[0;32m    613\u001b[0m \u001b[38;5;124;03m    Specialized implementation of itertools.chain.from_iterable.\u001b[39;00m\n\u001b[0;32m    614\u001b[0m \u001b[38;5;124;03m    Each item in *iterable* should be a list.  This function is\u001b[39;00m\n\u001b[0;32m    615\u001b[0m \u001b[38;5;124;03m    careful not to keep references to yielded objects.\u001b[39;00m\n\u001b[0;32m    616\u001b[0m \u001b[38;5;124;03m    \"\"\"\u001b[39;00m\n\u001b[1;32m--> 617\u001b[0m     \u001b[38;5;28;01mfor\u001b[39;00m element \u001b[38;5;129;01min\u001b[39;00m iterable:\n\u001b[0;32m    618\u001b[0m         element\u001b[38;5;241m.\u001b[39mreverse()\n\u001b[0;32m    619\u001b[0m         \u001b[38;5;28;01mwhile\u001b[39;00m element:\n",
      "File \u001b[1;32m~\\anaconda3\\Lib\\concurrent\\futures\\_base.py:619\u001b[0m, in \u001b[0;36mExecutor.map.<locals>.result_iterator\u001b[1;34m()\u001b[0m\n\u001b[0;32m    616\u001b[0m \u001b[38;5;28;01mwhile\u001b[39;00m fs:\n\u001b[0;32m    617\u001b[0m     \u001b[38;5;66;03m# Careful not to keep a reference to the popped future\u001b[39;00m\n\u001b[0;32m    618\u001b[0m     \u001b[38;5;28;01mif\u001b[39;00m timeout \u001b[38;5;129;01mis\u001b[39;00m \u001b[38;5;28;01mNone\u001b[39;00m:\n\u001b[1;32m--> 619\u001b[0m         \u001b[38;5;28;01myield\u001b[39;00m _result_or_cancel(fs\u001b[38;5;241m.\u001b[39mpop())\n\u001b[0;32m    620\u001b[0m     \u001b[38;5;28;01melse\u001b[39;00m:\n\u001b[0;32m    621\u001b[0m         \u001b[38;5;28;01myield\u001b[39;00m _result_or_cancel(fs\u001b[38;5;241m.\u001b[39mpop(), end_time \u001b[38;5;241m-\u001b[39m time\u001b[38;5;241m.\u001b[39mmonotonic())\n",
      "File \u001b[1;32m~\\anaconda3\\Lib\\concurrent\\futures\\_base.py:317\u001b[0m, in \u001b[0;36m_result_or_cancel\u001b[1;34m(***failed resolving arguments***)\u001b[0m\n\u001b[0;32m    315\u001b[0m \u001b[38;5;28;01mtry\u001b[39;00m:\n\u001b[0;32m    316\u001b[0m     \u001b[38;5;28;01mtry\u001b[39;00m:\n\u001b[1;32m--> 317\u001b[0m         \u001b[38;5;28;01mreturn\u001b[39;00m fut\u001b[38;5;241m.\u001b[39mresult(timeout)\n\u001b[0;32m    318\u001b[0m     \u001b[38;5;28;01mfinally\u001b[39;00m:\n\u001b[0;32m    319\u001b[0m         fut\u001b[38;5;241m.\u001b[39mcancel()\n",
      "File \u001b[1;32m~\\anaconda3\\Lib\\concurrent\\futures\\_base.py:456\u001b[0m, in \u001b[0;36mFuture.result\u001b[1;34m(self, timeout)\u001b[0m\n\u001b[0;32m    454\u001b[0m     \u001b[38;5;28;01mraise\u001b[39;00m CancelledError()\n\u001b[0;32m    455\u001b[0m \u001b[38;5;28;01melif\u001b[39;00m \u001b[38;5;28mself\u001b[39m\u001b[38;5;241m.\u001b[39m_state \u001b[38;5;241m==\u001b[39m FINISHED:\n\u001b[1;32m--> 456\u001b[0m     \u001b[38;5;28;01mreturn\u001b[39;00m \u001b[38;5;28mself\u001b[39m\u001b[38;5;241m.\u001b[39m__get_result()\n\u001b[0;32m    457\u001b[0m \u001b[38;5;28;01melse\u001b[39;00m:\n\u001b[0;32m    458\u001b[0m     \u001b[38;5;28;01mraise\u001b[39;00m \u001b[38;5;167;01mTimeoutError\u001b[39;00m()\n",
      "File \u001b[1;32m~\\anaconda3\\Lib\\concurrent\\futures\\_base.py:401\u001b[0m, in \u001b[0;36mFuture.__get_result\u001b[1;34m(self)\u001b[0m\n\u001b[0;32m    399\u001b[0m \u001b[38;5;28;01mif\u001b[39;00m \u001b[38;5;28mself\u001b[39m\u001b[38;5;241m.\u001b[39m_exception \u001b[38;5;129;01mis\u001b[39;00m \u001b[38;5;129;01mnot\u001b[39;00m \u001b[38;5;28;01mNone\u001b[39;00m:\n\u001b[0;32m    400\u001b[0m     \u001b[38;5;28;01mtry\u001b[39;00m:\n\u001b[1;32m--> 401\u001b[0m         \u001b[38;5;28;01mraise\u001b[39;00m \u001b[38;5;28mself\u001b[39m\u001b[38;5;241m.\u001b[39m_exception\n\u001b[0;32m    402\u001b[0m     \u001b[38;5;28;01mfinally\u001b[39;00m:\n\u001b[0;32m    403\u001b[0m         \u001b[38;5;66;03m# Break a reference cycle with the exception in self._exception\u001b[39;00m\n\u001b[0;32m    404\u001b[0m         \u001b[38;5;28mself\u001b[39m \u001b[38;5;241m=\u001b[39m \u001b[38;5;28;01mNone\u001b[39;00m\n",
      "\u001b[1;31mBrokenProcessPool\u001b[0m: A process in the process pool was terminated abruptly while the future was running or pending."
     ]
    }
   ],
   "source": [
    "from concurrent.futures import ProcessPoolExecutor\n",
    "import time\n",
    "\n",
    "def square(x):\n",
    "    time.sleep(1)\n",
    "    return x * x\n",
    "\n",
    "if __name__ == \"__main__\":\n",
    "    data = [1, 2, 3, 4, 5, 10]\n",
    "    with ProcessPoolExecutor(max_workers=3) as executor:\n",
    "        result = list(executor.map(square, data))\n",
    "\n",
    "    print(\"Result (Process):\", result)"
   ]
  },
  {
   "cell_type": "markdown",
   "metadata": {
    "id": "9Spt68OAMOpI"
   },
   "source": [
    "Explanation:\n",
    "\n",
    "This example is similar to the previous one, but demonstrates concurrent execution using processes instead of threads.\n",
    "We use ProcessPoolExecutor to execute the square function with up to three processes.\n",
    "The square function simulates the task by squaring a number and sleeping for 1 second.\n",
    "The executor.map method maps the function to data, and the results are collected.\n",
    "Process-based execution is suitable for tasks that require a lot of CPU resources."
   ]
  },
  {
   "cell_type": "markdown",
   "metadata": {},
   "source": [
    "The code below demonstrates the process of sequentially downloading five images from the internet using the requests module. Each image is downloaded one at a time, saved to a local file, and the total processing time is measured using the time module. This approach is sequential, so the execution time will increase as more images are downloaded."
   ]
  },
  {
   "cell_type": "code",
   "execution_count": 13,
   "metadata": {},
   "outputs": [
    {
     "name": "stdout",
     "output_type": "stream",
     "text": [
      "Image 0 has finished downloading.\n",
      "Image 1 has finished downloading.\n",
      "Image 2 has finished downloading.\n",
      "Image 3 has finished downloading.\n",
      "Image 4 has finished downloading.\n",
      "Done in 9.45 seconds\n"
     ]
    }
   ],
   "source": [
    "import requests\n",
    "import time\n",
    "\n",
    "urls = [ \n",
    "    \"https://picsum.photos/200/300\", # Image 1 \n",
    "    \"https://picsum.photos/200/301\", # Image 2 \n",
    "    \"https://picsum.photos/200/302\", # Image 3 \n",
    "    \"https://picsum.photos/200/303\", # Image 4 \n",
    "    \"https://picsum.photos/200/304\", # Image 5\n",
    "]\n",
    "\n",
    "def download_image(url, index): \n",
    "    response = requests.get(url) \n",
    "    with open(f\"image_{index}.jpg\", \"wb\") as file: \n",
    "        file.write(response.content) \n",
    "    print(f\"Image {index} has finished downloading.\")\n",
    "\n",
    "start_time = time.time()\n",
    "for i, url in enumerate(urls): \n",
    "    download_image(url, i)\n",
    "\n",
    "print(f\"Done in {time.time() - start_time:.2f} seconds\")"
   ]
  },
  {
   "cell_type": "markdown",
   "metadata": {},
   "source": [
    "This code demonstrates the process of downloading five images from the internet in parallel using ThreadPoolExecutor. By utilizing three threads, multiple images can be downloaded simultaneously, making the total execution time more efficient than a sequential approach."
   ]
  },
  {
   "cell_type": "code",
   "execution_count": 14,
   "metadata": {},
   "outputs": [
    {
     "name": "stdout",
     "output_type": "stream",
     "text": [
      "Image 2 has finished downloading.\n",
      "Image 0 has finished downloading.\n",
      "Image 1 has finished downloading.\n",
      "Image 3 has finished downloading.\n",
      "Image 4 has finished downloading.\n",
      "Completed in 3.61 seconds\n"
     ]
    }
   ],
   "source": [
    "from concurrent.futures import ThreadPoolExecutor\n",
    "import requests\n",
    "import time\n",
    "\n",
    "urls = [ \n",
    "    \"https://picsum.photos/200/300\", \n",
    "    \"https://picsum.photos/200/301\", \n",
    "    \"https://picsum.photos/200/302\", \n",
    "    \"https://picsum.photos/200/303\", \n",
    "    \"https://picsum.photos/200/304\",\n",
    "]\n",
    "\n",
    "def download_image(url, index): \n",
    "    response = requests.get(url) \n",
    "    with open(f\"image_{index}.jpg\", \"wb\") as file: \n",
    "        file.write(response.content) \n",
    "    print(f\"Image {index} has finished downloading.\")\n",
    "\n",
    "start_time = time.time()\n",
    "with ThreadPoolExecutor(max_workers=3) as executor: \n",
    "    executor.map(download_image, urls, range(len(urls)))\n",
    "\n",
    "print(f\"Completed in {time.time() - start_time:.2f} seconds\")"
   ]
  },
  {
   "cell_type": "markdown",
   "metadata": {},
   "source": [
    "This code attempts to download five images in parallel using ProcessPoolExecutor, which runs tasks across multiple separate processes. While theoretically suitable for CPU-bound tasks, using requests (which cannot be picked directly) in multiprocessing can lead to errors. The primary goal is to speed up the download process by leveraging process-based parallel processing."
   ]
  },
  {
   "cell_type": "code",
   "execution_count": 15,
   "metadata": {},
   "outputs": [
    {
     "name": "stdout",
     "output_type": "stream",
     "text": [
      "Completed in 0.45 seconds\n"
     ]
    }
   ],
   "source": [
    "from concurrent.futures import ProcessPoolExecutor\n",
    "import requests\n",
    "import time\n",
    "\n",
    "urls = [ \n",
    "    \"https://picsum.photos/200/300\", \n",
    "    \"https://picsum.photos/200/301\", \n",
    "    \"https://picsum.photos/200/302\", \n",
    "    \"https://picsum.photos/200/303\", \n",
    "    \"https://picsum.photos/200/304\",\n",
    "]\n",
    "\n",
    "def download_image(url, index): \n",
    "    response = requests.get(url) \n",
    "    with open(f\"image_{index}.jpg\", \"wb\") as file: \n",
    "        file.write(response.content) \n",
    "    print(f\"Image {index} has finished downloading.\")\n",
    "\n",
    "start_time = time.time()\n",
    "with ProcessPoolExecutor(max_workers=3) as executor: \n",
    "    executor.map(download_image, urls, range(len(urls)))\n",
    "\n",
    "print(f\"Completed in {time.time() - start_time:.2f} seconds\")"
   ]
  },
  {
   "cell_type": "markdown",
   "metadata": {},
   "source": [
    "Experiments showed that downloading images one by one (sequentially) took the longest time, at around 9.45 seconds. Using ThreadPoolExecutor significantly reduced the time to around 3.61 seconds because it allows multiple downloads to run concurrently within a single process using multiple threads. Interestingly, ProcessPoolExecutor recorded the fastest time, at around 0.45 seconds, although it is generally better suited for CPU-intensive tasks (rather than I/O tasks like requests). However, these results can be inconsistent because parallel processing can be affected by cache, network, or the system environment.\n",
    "\n",
    "Practically, for I/O-bound tasks like downloading from the internet, ThreadPoolExecutor is a safer and more efficient choice. The very fast results from ProcessPoolExecutor should be retested, as system anomalies or internal caching could be present."
   ]
  },
  {
   "cell_type": "code",
   "execution_count": null,
   "metadata": {},
   "outputs": [],
   "source": []
  }
 ],
 "metadata": {
  "colab": {
   "provenance": []
  },
  "kernelspec": {
   "display_name": "Python 3 (ipykernel)",
   "language": "python",
   "name": "python3"
  },
  "language_info": {
   "codemirror_mode": {
    "name": "ipython",
    "version": 3
   },
   "file_extension": ".py",
   "mimetype": "text/x-python",
   "name": "python",
   "nbconvert_exporter": "python",
   "pygments_lexer": "ipython3",
   "version": "3.13.5"
  }
 },
 "nbformat": 4,
 "nbformat_minor": 4
}
