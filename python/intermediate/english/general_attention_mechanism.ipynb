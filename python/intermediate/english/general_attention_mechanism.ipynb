{
 "cells": [
  {
   "cell_type": "markdown",
   "id": "f8c07dd8-7895-4939-8b9a-481a34081f23",
   "metadata": {},
   "source": [
    "# General Attention Mechanism\n",
    "In the modern deep learning era, the attention mechanism has become one of the biggest breakthroughs in processing sequential data, particularly in natural language processing (NLP). The basic concept is simple yet revolutionary: each element in a sequence can \"pay attention\" to other elements, then weigh the relevant information to produce a richer representation. This mechanism overcomes the limitations of traditional approaches such as RNNs, which struggle to capture long-range dependencies.\n",
    "\n",
    "This notebook is designed to provide readers with an intuitive understanding of this mechanism. It begins by constructing representations of Query (Q), Key (K), and Value (V), and then directly examines how attention weights are calculated and applied. Heatmap visualizations, including interactive versions, are used to demonstrate that attention is not always static. Before training, its distribution is random; after training, the pattern becomes directed and meaningful.\n",
    "\n",
    "The urgency is clear: without a deep understanding of attention, we will simply use Transformers or similar models as \"black boxes\" without truly understanding how information is transferred and processed within them. By mastering this mechanism, we can not only understand the model but also adapt it to various challenges, from machine translation and sentiment analysis to processing non-text data such as images and time series. The advantages of attention include its ability to capture relationships between elements without order constraints, ease of computational parallelization, and flexibility for use in various domains."
   ]
  },
  {
   "cell_type": "markdown",
   "id": "cae4d160-8272-44f1-8122-bd064676e243",
   "metadata": {},
   "source": [
    "# Import Library"
   ]
  },
  {
   "cell_type": "code",
   "execution_count": 1,
   "id": "df53f425-7ec9-46ba-a169-a8a6f82e4645",
   "metadata": {},
   "outputs": [],
   "source": [
    "import numpy as np\n",
    "import matplotlib.pyplot as plt"
   ]
  },
  {
   "cell_type": "markdown",
   "id": "dfb67c78-dc5d-45b4-bc69-af39111e5220",
   "metadata": {},
   "source": [
    "# Create a softmax function\n",
    "Converts numbers into probabilities that total 1, while preventing the calculated result from being too large or too small so the computer can still calculate it accurately."
   ]
  },
  {
   "cell_type": "code",
   "execution_count": 2,
   "id": "61bb3212-efa2-4335-964b-8cf86e97b728",
   "metadata": {},
   "outputs": [],
   "source": [
    "def softmax(x):\n",
    "    \"\"\"Numerically stable softmax, row-by-row (axis=-1).\"\"\"\n",
    "    x = np.asarray(x, dtype=np.float64)\n",
    "    x_shift = x - np.max(x, axis=-1, keepdims=True)\n",
    "    exp_x = np.exp(x_shift)\n",
    "    return exp_x / np.sum(exp_x, axis=-1, keepdims=True)"
   ]
  },
  {
   "cell_type": "markdown",
   "id": "78e5e7ab-7d4c-4c69-8188-6211d9f90f75",
   "metadata": {},
   "source": [
    "# Attention Heatmap Visualization\n",
    "Displays a heatmap that illustrates the attention weights of each query token relative to the key token, allowing for visual representation of the relationships between words."
   ]
  },
  {
   "cell_type": "code",
   "execution_count": 3,
   "id": "96e76475-5df0-4f2d-9250-79c41de8e3e5",
   "metadata": {},
   "outputs": [],
   "source": [
    "def heatmap_attention(weights, xlabels, ylabels, title):\n",
    "    \"\"\"Displaying attention heatmap using matplotlib (without seaborn).\"\"\"\n",
    "    fig = plt.figure(figsize=(6.5, 5.5))\n",
    "    plt.imshow(weights, aspect='auto')\n",
    "    plt.title(title)\n",
    "    plt.xlabel('Key (K)')\n",
    "    plt.ylabel('Query (Q)')\n",
    "    plt.xticks(ticks=np.arange(len(xlabels)), labels=xlabels, rotation=45, ha='right')\n",
    "    plt.yticks(ticks=np.arange(len(ylabels)), labels=ylabels)\n",
    "    plt.colorbar()\n",
    "    plt.tight_layout()\n",
    "    plt.show()"
   ]
  },
  {
   "cell_type": "markdown",
   "id": "125ff984-4a0e-4dde-8657-0c04ddd44b2d",
   "metadata": {},
   "source": [
    "# Token Representation: One-Hot ➜ Q, K, V Projections\n",
    "* One-hot is the simplest way to represent words/tokens in vector form.\n",
    "* While it doesn't convey semantic meaning, it makes it easier to understand the initial Transformer process because each word is represented by a distinct vector.\n",
    "* The Q, K, and V projections are linear transformations of these representations to prepare for attention calculations."
   ]
  },
  {
   "cell_type": "markdown",
   "id": "a71ea247-92c8-492e-982b-a164fc801ef6",
   "metadata": {},
   "source": [
    "## Definition of token and one-hot\n",
    "* A token is a basic unit of text (word, subword, or character) that serves as input to the model.\n",
    "* One-hot represents each token as a vector of length n (the number of unique tokens), with one element equal to 1 and the rest equal to 0.\n",
    "* The goal is to ensure the identity of each token is preserved before being projected into a more meaningful vector space."
   ]
  },
  {
   "cell_type": "code",
   "execution_count": 24,
   "id": "16010c48-9065-4541-8281-2a78f8db1193",
   "metadata": {},
   "outputs": [],
   "source": [
    "tokens = [\"A\", \"B\", \"C\", \"D\"]\n",
    "I = np.eye(len(tokens))  # identity matrix -> one-hot for 4 tokens"
   ]
  },
  {
   "cell_type": "code",
   "execution_count": 25,
   "id": "c974494e-fc8e-4d01-8c32-c7335151afd6",
   "metadata": {},
   "outputs": [
    {
     "name": "stdout",
     "output_type": "stream",
     "text": [
      "Tokens: ['A', 'B', 'C', 'D']\n",
      "\n",
      "One-hot (I):\n",
      " [[1. 0. 0. 0.]\n",
      " [0. 1. 0. 0.]\n",
      " [0. 0. 1. 0.]\n",
      " [0. 0. 0. 1.]]\n"
     ]
    }
   ],
   "source": [
    "print(\"Tokens:\", tokens)\n",
    "print(\"\\nOne-hot (I):\\n\", I)"
   ]
  },
  {
   "cell_type": "markdown",
   "id": "73002eab-8c73-473e-a43c-9979f6e7aeb5",
   "metadata": {},
   "source": [
    "## Random weight matrix\n",
    "* Random weights are used instead of the training weights to simplify the simulation.\n",
    "* This matrix transforms the one-hot representation into Q, K, and V vectors.\n",
    "* Although random, it illustrates how the weights act as a \"bridge\" between the initial representation and the attention calculation."
   ]
  },
  {
   "cell_type": "code",
   "execution_count": 6,
   "id": "78373c92-2efa-481f-ab85-46a5f7ad1abf",
   "metadata": {},
   "outputs": [],
   "source": [
    "np.random.seed(42)\n",
    "W_Q = np.random.randint(0, 3, size=(4, 4))  # 4x4 for easy navigation\n",
    "W_K = np.random.randint(0, 3, size=(4, 4))\n",
    "W_V = np.random.randint(0, 3, size=(4, 4))"
   ]
  },
  {
   "cell_type": "code",
   "execution_count": 7,
   "id": "342b5932-855c-4ade-bd11-edfedcc93ebf",
   "metadata": {},
   "outputs": [
    {
     "name": "stdout",
     "output_type": "stream",
     "text": [
      "\n",
      "W_Q:\n",
      " [[2 0 2 2]\n",
      " [0 0 2 1]\n",
      " [2 2 2 2]\n",
      " [0 2 1 0]]\n",
      "\n",
      "W_K:\n",
      " [[1 1 1 1]\n",
      " [0 0 1 1]\n",
      " [0 0 0 2]\n",
      " [2 2 1 2]]\n",
      "\n",
      "W_V:\n",
      " [[1 1 2 1]\n",
      " [2 2 0 2]\n",
      " [0 2 2 0]\n",
      " [0 2 1 0]]\n"
     ]
    }
   ],
   "source": [
    "print(\"\\nW_Q:\\n\", W_Q)\n",
    "print(\"\\nW_K:\\n\", W_K)\n",
    "print(\"\\nW_V:\\n\", W_V)"
   ]
  },
  {
   "cell_type": "markdown",
   "id": "0fd49ce6-3076-4f87-a8c8-85bd16aa06cf",
   "metadata": {},
   "source": [
    "## Projection Q, K, V\n",
    "* Projection is a matrix multiplication operation that produces three vectors: Query (Q), Key (K), and Value (V).\n",
    "* Q represents what a token is searching for.\n",
    "* K stores what other tokens have.\n",
    "* V contains the information to be shared."
   ]
  },
  {
   "cell_type": "code",
   "execution_count": 8,
   "id": "0e2e7bd3-06c4-4daa-922f-b3d93fb36e89",
   "metadata": {},
   "outputs": [],
   "source": [
    "Q = I @ W_Q\n",
    "K = I @ W_K\n",
    "V = I @ W_V"
   ]
  },
  {
   "cell_type": "code",
   "execution_count": 9,
   "id": "6a8c1d9f-d3e7-4a8c-8a3d-c2fc682e4b79",
   "metadata": {},
   "outputs": [
    {
     "name": "stdout",
     "output_type": "stream",
     "text": [
      "\n",
      "Q = I @ W_Q:\n",
      " [[2. 0. 2. 2.]\n",
      " [0. 0. 2. 1.]\n",
      " [2. 2. 2. 2.]\n",
      " [0. 2. 1. 0.]]\n",
      "\n",
      "K = I @ W_K:\n",
      " [[1. 1. 1. 1.]\n",
      " [0. 0. 1. 1.]\n",
      " [0. 0. 0. 2.]\n",
      " [2. 2. 1. 2.]]\n",
      "\n",
      "V = I @ W_V:\n",
      " [[1. 1. 2. 1.]\n",
      " [2. 2. 0. 2.]\n",
      " [0. 2. 2. 0.]\n",
      " [0. 2. 1. 0.]]\n"
     ]
    }
   ],
   "source": [
    "print(\"\\nQ = I @ W_Q:\\n\", Q)\n",
    "print(\"\\nK = I @ W_K:\\n\", K)\n",
    "print(\"\\nV = I @ W_V:\\n\", V)"
   ]
  },
  {
   "cell_type": "markdown",
   "id": "ecf1f101-d139-42bd-ba4f-b68a307f934f",
   "metadata": {},
   "source": [
    "# Scaled Dot-Product Attention\n",
    "* This is the core mechanism that measures how relevant one token is to another.\n",
    "* It relies on the similarity of Q to K, then uses those weights to aggregate the values of V."
   ]
  },
  {
   "cell_type": "markdown",
   "id": "4c7fe265-bb7c-4e93-b3df-a6ba9a595a50",
   "metadata": {},
   "source": [
    "## Similarity score Q vs. K\n",
    "* Calculated by the dot product of Q and K.T.\n",
    "* The higher the score, the higher the match between the two tokens.\n",
    "* This represents the level of attention that should be given."
   ]
  },
  {
   "cell_type": "code",
   "execution_count": 10,
   "id": "f1a83d3b-d797-4411-8891-2f40b5d09484",
   "metadata": {},
   "outputs": [],
   "source": [
    "scores = Q @ K.T"
   ]
  },
  {
   "cell_type": "code",
   "execution_count": 11,
   "id": "5c7e9944-5284-4899-85a5-9283e30a71ba",
   "metadata": {},
   "outputs": [
    {
     "name": "stdout",
     "output_type": "stream",
     "text": [
      "Scores (Q @ K.T):\n",
      " [[ 6.  4.  4. 10.]\n",
      " [ 3.  3.  2.  4.]\n",
      " [ 8.  4.  4. 14.]\n",
      " [ 3.  1.  0.  5.]]\n"
     ]
    }
   ],
   "source": [
    "print(\"Scores (Q @ K.T):\\n\", scores)"
   ]
  },
  {
   "cell_type": "markdown",
   "id": "929bf2e6-2a85-4744-9f24-9b5e5794c09d",
   "metadata": {},
   "source": [
    "### Interpretation\n",
    "* Large numbers indicate a query is more similar to that key. These are raw scores before scaling and softmax.\n",
    "* Q(A) is the highest relative to K(D) with a value of 10.\n",
    "* Q(B) is the highest relative to K(D) with a value of 4.\n",
    "* Q(C) is the highest relative to K(D) with a value of 14.\n",
    "* Q(D) is the highest relative to K(D) with a value of 5, and is 0 to K(C), indicating it is almost unrelated.\n",
    "* Column D has the highest total score compared to other columns, so it will likely dominate attention after softmax.\n",
    "* There is potential for attention collapse to token D.\n",
    "* A value of 0 in row Q(D) of column K(C) will remain very small after softmax, so D will not extract much information from C."
   ]
  },
  {
   "cell_type": "markdown",
   "id": "5a233e6f-7f23-409a-b473-9b718422f27a",
   "metadata": {},
   "source": [
    "## Scale by \\sqrt(d_k)\n",
    "* Scores are divided by the square root of the dimension K(sqrt(d_k)) to prevent too large values that can make the softmax too “sharp” and numerically unstable."
   ]
  },
  {
   "cell_type": "code",
   "execution_count": 12,
   "id": "0fe337eb-b855-4d06-86c9-ad97691ab5fe",
   "metadata": {},
   "outputs": [],
   "source": [
    "d_k = K.shape[1]\n",
    "scaled_scores = scores / np.sqrt(d_k)"
   ]
  },
  {
   "cell_type": "code",
   "execution_count": 13,
   "id": "0ea4b148-af47-42d9-bd4a-a37c5aeba4f0",
   "metadata": {},
   "outputs": [
    {
     "name": "stdout",
     "output_type": "stream",
     "text": [
      "\n",
      "Scaled Scores (scores / sqrt(d_k)):\n",
      " [[3.  2.  2.  5. ]\n",
      " [1.5 1.5 1.  2. ]\n",
      " [4.  2.  2.  7. ]\n",
      " [1.5 0.5 0.  2.5]]\n"
     ]
    }
   ],
   "source": [
    "print(\"\\nScaled Scores (scores / sqrt(d_k)):\\n\", scaled_scores)"
   ]
  },
  {
   "cell_type": "markdown",
   "id": "74946762-1ab2-4b34-95f6-d6c158ae484a",
   "metadata": {},
   "source": [
    "## Softmax ➜ attention weights\n",
    "* Softmax converts scores into a probability distribution so that the attention weights between tokens are always between 0–1 and sum to 1.\n",
    "* These weights determine the portion of information extracted from each other token."
   ]
  },
  {
   "cell_type": "code",
   "execution_count": 14,
   "id": "6a00f3be-622f-4c2f-ba38-3dd8187858b5",
   "metadata": {},
   "outputs": [],
   "source": [
    "weights = softmax(scaled_scores)"
   ]
  },
  {
   "cell_type": "code",
   "execution_count": 15,
   "id": "6294e208-1e09-4a39-b22f-f4a1eeae4cc7",
   "metadata": {},
   "outputs": [
    {
     "name": "stdout",
     "output_type": "stream",
     "text": [
      "\n",
      "Attention Weights (softmax):\n",
      " [[0.10959126 0.04031637 0.04031637 0.80977599]\n",
      " [0.23500371 0.23500371 0.14253696 0.38745562]\n",
      " [0.04682479 0.00633705 0.00633705 0.94050111]\n",
      " [0.23205671 0.08536889 0.05177885 0.63079554]]\n"
     ]
    }
   ],
   "source": [
    "print(\"\\nAttention Weights (softmax):\\n\", weights)"
   ]
  },
  {
   "cell_type": "markdown",
   "id": "bf03882c-b632-4deb-9c8c-6b23bf34d1f0",
   "metadata": {},
   "source": [
    "### Interpretation\n",
    "* The values in each row represent the probability of attention for a query across all keys.\n",
    "* Q(A) focuses 80.98% on K(D), with the remainder being divided slightly among K(A), K(B), and K(C).\n",
    "* Q(B) has a more balanced attention distribution, but still tends to favor K(D) (38.75%).\n",
    "* Q(C) is highly focused on K(D) (94.05%), almost ignoring other tokens.\n",
    "* Q(D) focuses the majority of attention on K(D) (63.08%), with the remainder being moderately focused on K(A) and K(B).\n",
    "* Token D is the primary focus of attention for almost all queries.\n",
    "* This distribution shows an attention bias pattern centered on a particular token."
   ]
  },
  {
   "cell_type": "markdown",
   "id": "1d75cb85-189d-447d-9488-ae41bcc76807",
   "metadata": {},
   "source": [
    "## Weighted sum over V\n",
    "* Attention weights are used to combine the values of V, resulting in a final context vector that already “takes into account” the relationships between tokens."
   ]
  },
  {
   "cell_type": "code",
   "execution_count": 16,
   "id": "6ea47f8a-8e1e-44c1-a183-c784987c01d8",
   "metadata": {},
   "outputs": [],
   "source": [
    "attention_output = weights @ V"
   ]
  },
  {
   "cell_type": "code",
   "execution_count": 17,
   "id": "562630b1-8976-4d1e-98bf-640d9e993e49",
   "metadata": {},
   "outputs": [
    {
     "name": "stdout",
     "output_type": "stream",
     "text": [
      "\n",
      "Attention Output (weights @ V):\n",
      " [[0.19022401 1.89040874 1.10959126 0.19022401]\n",
      " [0.70501114 1.76499629 1.14253696 0.70501114]\n",
      " [0.05949889 1.95317521 1.04682479 0.05949889]\n",
      " [0.4027945  1.76794329 1.19846667 0.4027945 ]]\n"
     ]
    }
   ],
   "source": [
    "print(\"\\nAttention Output (weights @ V):\\n\", attention_output)"
   ]
  },
  {
   "cell_type": "markdown",
   "id": "2da9db1c-30ca-414d-9c7f-a00e18db39d7",
   "metadata": {},
   "source": [
    "### Interpretation\n",
    "* Each row is the final representation per query after combining the rows of V according to their attention weights.\n",
    "* The pattern of the highest values is consistent in the 2nd and 3rd columns, indicating that the Value dimension is most \"taken\" by the majority of queries.\n",
    "* Q(A) is heavily influenced by the V of token D, so its output is closer to a combination dominated by V[D].\n",
    "* Q(B) is more mixed because its attention distribution is more balanced; contributions from V[A], V[B], and V[D] are visible.\n",
    "* Q(C) almost entirely follows V[D] because its weight to K(D) is ~94%; its output is closest to row V[D].\n",
    "* Q(D) remains dominated by V[D] but still takes portions of V[A] and V[B] according to their weights.\n",
    "* The values in the 1st and 4th columns are identical in each row, indicating that columns 1 and 4 in the V matrix are identical or very similar.\n",
    "* In general, the output is a convex combination (weighted sum) of the rows of V; the dominance of attention to D makes the entire output lean towards the information carried by token D."
   ]
  },
  {
   "cell_type": "markdown",
   "id": "5bb71973-7fe2-4e30-baed-a67f9fdd55c6",
   "metadata": {},
   "source": [
    "# Heatmap Attention Weights\n",
    "* This visualization shows the attention weight between each query and key.\n",
    "* Darker/lighter colors indicate different levels of attention, so we can see which tokens influence others the most."
   ]
  },
  {
   "cell_type": "code",
   "execution_count": 18,
   "id": "6b5e5c80-2b00-470a-9f00-614d27c54672",
   "metadata": {},
   "outputs": [
    {
     "data": {
      "image/png": "[encoded data removed]",
      "text/plain": [
       "<Figure size 650x550 with 2 Axes>"
      ]
     },
     "metadata": {},
     "output_type": "display_data"
    }
   ],
   "source": [
    "heatmap_attention(\n",
    "    weights,\n",
    "    xlabels=tokens,\n",
    "    ylabels=tokens,\n",
    "    title=\"Attention Weights — Token-to-Token (One-Hot ➜ Q,K,V)\"\n",
    ")"
   ]
  },
  {
   "cell_type": "markdown",
   "id": "fbaa5b81-8d00-4c38-bfac-0f46975d968d",
   "metadata": {},
   "source": [
    "### Interpretation\n",
    "* The vertical axis represents the query, the horizontal axis represents the key.\n",
    "* Lighter colors indicate higher attention weights, darker colors indicate lower attention weights.\n",
    "* Q(A) strongly favors K(D) (bright green), with low attention to other tokens.\n",
    "* Q(B) is more balanced, with medium intensity toward all keys, but still tends toward K(D).\n",
    "* Q(C) pays almost all attention to K(D) (very bright yellow), with other tokens almost ignored.\n",
    "* Q(D) is dominant toward K(D) but still gives some attention to K(A) and K(B).\n",
    "* Token D is the primary focus of attention for almost all queries, which aligns with the previous interpretation of the attention weights matrix.\n",
    "* This pattern illustrates \"single-focus attention\" that potentially ignores information from tokens other than D."
   ]
  },
  {
   "cell_type": "markdown",
   "id": "19e4ee22-d590-412c-8ef5-280f2150449f",
   "metadata": {},
   "source": [
    "# Token Representation: Random Embedding ➜ Q, K, V\n",
    "* This approach uses a randomly generated, fixed-dimensional embedding vector for each token, rather than one-hot.\n",
    "* This reflects the way modern NLP models represent words, where embeddings can contain semantic information and relationships between words."
   ]
  },
  {
   "cell_type": "markdown",
   "id": "e92049f7-b8d2-4739-ae38-c778b7818bd6",
   "metadata": {},
   "source": [
    "## Random embedding\n",
    "* The `np.random.seed(7)` code ensures consistent random embedding results every time it is run.\n",
    "* The embedding matrix E is generated with random values, representing each token in a richer numerical dimension than one-hot."
   ]
  },
  {
   "cell_type": "code",
   "execution_count": 4,
   "id": "47d7834c-f36a-485e-afc2-dfb50e9fdd85",
   "metadata": {},
   "outputs": [],
   "source": [
    "np.random.seed(7)\n",
    "n_tokens = 6\n",
    "d_embed = 4\n",
    "\n",
    "tokens2 = [\"The\", \"cat\", \"sat\", \"on\", \"the\", \"mat\"]\n",
    "E = np.random.rand(n_tokens, d_embed)  # embedding acak"
   ]
  },
  {
   "cell_type": "code",
   "execution_count": 5,
   "id": "5324595e-4cb6-41ad-aeef-20f8e72099f9",
   "metadata": {},
   "outputs": [
    {
     "name": "stdout",
     "output_type": "stream",
     "text": [
      "Tokens: ['The', 'cat', 'sat', 'on', 'the', 'mat']\n",
      "\n",
      "Random embedding: \n",
      " [[0.07630829 0.77991879 0.43840923 0.72346518]\n",
      " [0.97798951 0.53849587 0.50112046 0.07205113]\n",
      " [0.26843898 0.4998825  0.67923    0.80373904]\n",
      " [0.38094113 0.06593635 0.2881456  0.90959353]\n",
      " [0.21338535 0.45212396 0.93120602 0.02489923]\n",
      " [0.60054892 0.9501295  0.23030288 0.54848992]]\n"
     ]
    }
   ],
   "source": [
    "print(\"Tokens:\", tokens2)\n",
    "print(\"\\nRandom embedding: \\n\", E)"
   ]
  },
  {
   "cell_type": "markdown",
   "id": "94247f09-b36b-467e-8973-b07aff2f9278",
   "metadata": {},
   "source": [
    "## Random weight matrices\n",
    "* Three weight matrices (W_Q, W_K, W_V) are randomly initialized.\n",
    "* Each matrix projects the initial embedding into a different vector space to generate the Query, Key, and Value."
   ]
  },
  {
   "cell_type": "code",
   "execution_count": 6,
   "id": "42dac58b-7f3e-42d6-94bd-16743f5adce4",
   "metadata": {},
   "outputs": [],
   "source": [
    "W_Q2 = np.random.randn(d_embed, d_embed)\n",
    "W_K2 = np.random.randn(d_embed, d_embed)\n",
    "W_V2 = np.random.randn(d_embed, d_embed)"
   ]
  },
  {
   "cell_type": "code",
   "execution_count": 7,
   "id": "301c62c8-f9f6-4885-a4a5-9d9febdd888e",
   "metadata": {},
   "outputs": [
    {
     "name": "stdout",
     "output_type": "stream",
     "text": [
      "\n",
      "W_Q2:\n",
      " [[ 1.65069969  0.15433554 -0.38713994  2.02907222]\n",
      " [-0.04538603 -1.4506787  -0.40522786 -2.2883151 ]\n",
      " [ 1.04939655 -0.41647432 -0.74255353  1.07247013]\n",
      " [-1.65107559  0.53542936 -2.0644148  -0.66215934]]\n",
      "\n",
      "W_K2:\n",
      " [[-1.20421985  1.46197563  1.76616088 -0.32941375]\n",
      " [ 0.84073324 -0.1799864   0.56806189 -0.7528372 ]\n",
      " [-1.7083392  -1.80309866  0.38312185  2.24759505]\n",
      " [ 0.26941163 -0.52460462  1.91201886  0.23730185]]\n",
      "\n",
      "W_V2:\n",
      " [[ 0.10143399  0.25257774 -0.1323772  -0.30947634]\n",
      " [-1.43496347  0.50162412 -0.09477545  1.19308592]\n",
      " [-0.36881847 -1.90636988 -0.09961063  1.6995373 ]\n",
      " [-0.38342312 -0.88985686 -1.19359192 -1.05001681]]\n"
     ]
    }
   ],
   "source": [
    "print(\"\\nW_Q2:\\n\", W_Q2)\n",
    "print(\"\\nW_K2:\\n\", W_K2)\n",
    "print(\"\\nW_V2:\\n\", W_V2)"
   ]
  },
  {
   "cell_type": "markdown",
   "id": "cc147ea7-bacf-4a67-b27d-0e034dcc7406",
   "metadata": {},
   "source": [
    "## Projection of Q, K, V\n",
    "* Embedding E is multiplied by each weight matrix to produce Q, K, and V.\n",
    "* Q is used to find relevant information.\n",
    "* K acts as an index or marker.\n",
    "* V contains the information to be retrieved."
   ]
  },
  {
   "cell_type": "code",
   "execution_count": 9,
   "id": "11ae429c-75f6-4b50-86cd-bc2a905f9ccf",
   "metadata": {},
   "outputs": [],
   "source": [
    "Q2 = E @ W_Q2\n",
    "K2 = E @ W_K2\n",
    "V2 = E @ W_V2"
   ]
  },
  {
   "cell_type": "code",
   "execution_count": 10,
   "id": "f4e3dbb9-0769-46b6-b428-de0482103cee",
   "metadata": {},
   "outputs": [
    {
     "name": "stdout",
     "output_type": "stream",
     "text": [
      "\n",
      "Q2 = E @ W_Q2:\n",
      " [[-0.64386591 -0.91485619 -2.16466135 -1.63873334]\n",
      " [ 1.99683901 -0.80037147 -1.11768452  1.24189052]\n",
      " [-0.19382783 -0.5362756  -2.47010516 -0.40295602]\n",
      " [-0.57360185  0.33015813 -2.26593865  0.32880563]\n",
      " [ 1.2678089  -0.99744527 -1.00869586  0.38057559]\n",
      " [ 0.28428404 -1.08788422 -1.92083834 -1.07183332]]\n",
      "\n",
      "K2 = E @ W_K2:\n",
      " [[ 0.00976995 -1.19884219  2.12905808  0.54475717]\n",
      " [-1.56165532  0.3915069   2.36293912  0.41585083]\n",
      " [-0.8468103  -1.34388471  2.55506267  1.2526051 ]\n",
      " [-0.65049734 -0.4516729   2.55981411  0.68835626]\n",
      " [-1.46095484 -1.46153055  1.03808042  1.68821487]\n",
      " [-0.17005334  0.00397833  2.7373555  -0.26533662]]\n",
      "\n",
      "V2 = E @ W_V2:\n",
      " [[-1.55050142 -1.06905075 -0.99121105  0.89233676]\n",
      " [-0.88596908 -0.50229526 -0.31641628  1.11582524]\n",
      " [-1.24876899 -1.69152147 -1.10990674  0.82376447]\n",
      " [-0.51100848 -1.22942762 -1.17106292 -0.50459884]\n",
      " [-0.98012976 -1.51668718 -0.19357514  2.02985977]\n",
      " [-1.59772872 -0.29882683 -0.84716169  0.76321515]]\n"
     ]
    }
   ],
   "source": [
    "print(\"\\nQ2 = E @ W_Q2:\\n\", Q2)\n",
    "print(\"\\nK2 = E @ W_K2:\\n\", K2)\n",
    "print(\"\\nV2 = E @ W_V2:\\n\", V2)"
   ]
  },
  {
   "cell_type": "markdown",
   "id": "8f0c7dbd-9d38-42bb-8366-414b1d0fee5b",
   "metadata": {},
   "source": [
    "## Similarity score Q vs K\n",
    "* Using the dot product operation Q @ K.T, a score is obtained that measures the closeness or relevance between tokens."
   ]
  },
  {
   "cell_type": "code",
   "execution_count": 11,
   "id": "2db22e1b-89dc-4d76-9c47-913ab7165769",
   "metadata": {},
   "outputs": [],
   "source": [
    "scores2 = Q2 @ K2.T"
   ]
  },
  {
   "cell_type": "code",
   "execution_count": 12,
   "id": "9ba313e9-f2db-456e-b6b8-b016dbe979c9",
   "metadata": {},
   "outputs": [
    {
     "name": "stdout",
     "output_type": "stream",
     "text": [
      "Scores (Q @ K2.T):\n",
      " [[-4.41092381 -5.14910749 -5.80883763 -5.83711421 -2.73587727 -5.38477973]\n",
      " [-0.7240584  -5.55630451 -1.91549247 -2.94363386 -0.81119266 -3.7317722 ]\n",
      " [-4.8374944  -5.91154104 -5.93119028 -6.23208169 -2.17748728 -6.62380936]\n",
      " [-5.04660732 -4.19251341 -5.33571416 -5.35004331 -1.44166179 -6.1910674 ]\n",
      " [-0.73208489 -4.59561147 -1.8337124  -2.69428963 -0.79902887 -3.08170312]\n",
      " [-3.36648632 -5.85441469 -5.02918991 -5.34835045 -2.62881974 -5.02629217]]\n"
     ]
    }
   ],
   "source": [
    "print(\"Scores (Q @ K2.T):\\n\", scores2)"
   ]
  },
  {
   "cell_type": "markdown",
   "id": "0f6f4e2b-eb95-4808-a9a7-25dadbce3642",
   "metadata": {},
   "source": [
    "## Scale by sqrt(d_k)\n",
    "* Scores are divided by the square root of the Key dimension (sqrt(d_k)) to prevent excessively large values that could cause the softmax distribution to be too sharp."
   ]
  },
  {
   "cell_type": "code",
   "execution_count": 13,
   "id": "f6f0a36e-eba7-4b0b-980b-8b772cb6777b",
   "metadata": {},
   "outputs": [],
   "source": [
    "scaled_scores2 = scores2 / np.sqrt(K2.shape[1])"
   ]
  },
  {
   "cell_type": "code",
   "execution_count": 14,
   "id": "f495a310-1653-402c-beac-c88c6a26b94a",
   "metadata": {},
   "outputs": [
    {
     "name": "stdout",
     "output_type": "stream",
     "text": [
      "\n",
      "Scaled Scores (scores / sqrt(d_k)):\n",
      " [[-2.2054619  -2.57455375 -2.90441881 -2.91855711 -1.36793863 -2.69238987]\n",
      " [-0.3620292  -2.77815226 -0.95774624 -1.47181693 -0.40559633 -1.8658861 ]\n",
      " [-2.4187472  -2.95577052 -2.96559514 -3.11604085 -1.08874364 -3.31190468]\n",
      " [-2.52330366 -2.09625671 -2.66785708 -2.67502165 -0.7208309  -3.0955337 ]\n",
      " [-0.36604244 -2.29780574 -0.9168562  -1.34714482 -0.39951444 -1.54085156]\n",
      " [-1.68324316 -2.92720734 -2.51459495 -2.67417522 -1.31440987 -2.51314608]]\n"
     ]
    }
   ],
   "source": [
    "print(\"\\nScaled Scores (scores / sqrt(d_k)):\\n\", scaled_scores2)"
   ]
  },
  {
   "cell_type": "markdown",
   "id": "8c7d3cac-2276-4408-a960-4185280826a2",
   "metadata": {},
   "source": [
    "## Softmax ➜ attention weights\n",
    "* Softmax converts escalated scores into probabilities, indicating how much attention each token gives to other tokens."
   ]
  },
  {
   "cell_type": "code",
   "execution_count": 16,
   "id": "c9f16e6d-0d9a-4955-a072-cb6235f6fec3",
   "metadata": {},
   "outputs": [],
   "source": [
    "weights2 = softmax(scaled_scores2)"
   ]
  },
  {
   "cell_type": "code",
   "execution_count": 17,
   "id": "f0298fd9-ba19-45d9-927b-b379b03f6b5f",
   "metadata": {},
   "outputs": [
    {
     "name": "stdout",
     "output_type": "stream",
     "text": [
      "\n",
      "Attention Weights (softmax):\n",
      " [[0.17845229 0.12337512 0.08870927 0.0874639  0.41233848 0.10966095]\n",
      " [0.31749028 0.02834141 0.17499024 0.10465398 0.30395513 0.07056895]\n",
      " [0.14595119 0.08530635 0.08447235 0.07267363 0.55184973 0.05974675]\n",
      " [0.09185895 0.14079448 0.07949554 0.07892802 0.55709015 0.05183286]\n",
      " [0.29653963 0.04296636 0.17094932 0.111172   0.28677814 0.09159455]\n",
      " [0.2514415  0.07247533 0.10949278 0.09334276 0.36359611 0.10965153]]\n"
     ]
    }
   ],
   "source": [
    "print(\"\\nAttention Weights (softmax):\\n\", weights2)"
   ]
  },
  {
   "cell_type": "markdown",
   "id": "7b61dc79-d719-4378-9c5b-26435b8185e8",
   "metadata": {},
   "source": [
    "## Weighted sum over V\n",
    "* Probability weights are used to combine the values (V) into a final representation that focuses on the most important information."
   ]
  },
  {
   "cell_type": "code",
   "execution_count": 18,
   "id": "98d2bf86-7f3f-40b5-92f6-951bbb79d3b4",
   "metadata": {},
   "outputs": [],
   "source": [
    "out2 = weights2 @ V2"
   ]
  },
  {
   "cell_type": "code",
   "execution_count": 19,
   "id": "645af1cf-db49-4d45-9962-06bb68f0fbb6",
   "metadata": {},
   "outputs": [
    {
     "name": "stdout",
     "output_type": "stream",
     "text": [
      "\n",
      "Attention Output (weights2 @ V):\n",
      " [[-1.12082291 -1.16848757 -0.58952555  1.24653016]\n",
      " [-1.20004572 -1.26040597 -0.75906827  1.07712036]\n",
      " [-1.08084305 -1.28594931 -0.50796212  1.42411608]\n",
      " [-1.03560692 -1.26084751 -0.4680132   1.43510427]\n",
      " [-1.19556106 -1.22676372 -0.76056433  1.04930664]\n",
      " [-1.17006619 -1.18940366 -0.66627672  1.17007272]]\n"
     ]
    }
   ],
   "source": [
    "print(\"\\nAttention Output (weights2 @ V):\\n\", out2)"
   ]
  },
  {
   "cell_type": "markdown",
   "id": "b0db1c03-740c-4048-a0c6-b064c1d423de",
   "metadata": {},
   "source": [
    "## Summary"
   ]
  },
  {
   "cell_type": "code",
   "execution_count": 20,
   "id": "979e0b4b-ef2e-4e08-9951-9f4b9e15d178",
   "metadata": {},
   "outputs": [
    {
     "name": "stdout",
     "output_type": "stream",
     "text": [
      "Random Embedding (E):\n",
      " [[0.07630829 0.77991879 0.43840923 0.72346518]\n",
      " [0.97798951 0.53849587 0.50112046 0.07205113]\n",
      " [0.26843898 0.4998825  0.67923    0.80373904]\n",
      " [0.38094113 0.06593635 0.2881456  0.90959353]\n",
      " [0.21338535 0.45212396 0.93120602 0.02489923]\n",
      " [0.60054892 0.9501295  0.23030288 0.54848992]]\n",
      "\n",
      "Attention Weights (random embedding):\n",
      " [[0.17845229 0.12337512 0.08870927 0.0874639  0.41233848 0.10966095]\n",
      " [0.31749028 0.02834141 0.17499024 0.10465398 0.30395513 0.07056895]\n",
      " [0.14595119 0.08530635 0.08447235 0.07267363 0.55184973 0.05974675]\n",
      " [0.09185895 0.14079448 0.07949554 0.07892802 0.55709015 0.05183286]\n",
      " [0.29653963 0.04296636 0.17094932 0.111172   0.28677814 0.09159455]\n",
      " [0.2514415  0.07247533 0.10949278 0.09334276 0.36359611 0.10965153]]\n",
      "\n",
      "Attention Output (weights @ V:\n",
      " [[-1.12082291 -1.16848757 -0.58952555  1.24653016]\n",
      " [-1.20004572 -1.26040597 -0.75906827  1.07712036]\n",
      " [-1.08084305 -1.28594931 -0.50796212  1.42411608]\n",
      " [-1.03560692 -1.26084751 -0.4680132   1.43510427]\n",
      " [-1.19556106 -1.22676372 -0.76056433  1.04930664]\n",
      " [-1.17006619 -1.18940366 -0.66627672  1.17007272]]\n"
     ]
    }
   ],
   "source": [
    "print(\"Random Embedding (E):\\n\", E)\n",
    "print(\"\\nAttention Weights (random embedding):\\n\", weights2)\n",
    "print(\"\\nAttention Output (weights @ V:\\n\", out2)"
   ]
  },
  {
   "cell_type": "markdown",
   "id": "9e3020a3-3ee4-4310-a9c4-85d81aa33a05",
   "metadata": {},
   "source": [
    "### Interpretation\n",
    "1. Value Characteristics\n",
    "    - Values range from -1.28 to 1.43.\n",
    "    - The fourth dimension (last column) is generally positive and quite large, while the other dimensions tend to be negative.\n",
    "    - There is slight variation between tokens, but the distribution pattern is relatively consistent.\n",
    "2. Dominantly Positive Dimension\n",
    "    - The fourth column (1.24, 1.07, 1.42, etc.) has the largest and consistently positive value → attention likely \"pulls\" highly important information to this dimension (which can be associated with certain semantic features).\n",
    "3. Consistently Negative Dimension\n",
    "    - Columns 1, 2, and 3 are predominantly negative, indicating that after combining the V values, this dimension emphasizes or decreases the contribution of certain features.\n",
    "4. General Interpretation\n",
    "    - Dimension 4 has the largest positive value across all tokens, indicating that this feature is most dominant after the attention process.\n",
    "    - Dimensions 1, 2, and 3 are generally negative, indicating that the contribution of certain features is emphasized or decreased.\n",
    "    - The difference in values between tokens is relatively small, indicating that the model's attention distribution tends to be even.\n",
    "    - The representation of each token already contains information from other tokens according to the attention weight, making it more contextual.\n",
    "    - Consistent value patterns indicate that the model is extracting certain semantic features that are equally important across tokens."
   ]
  },
  {
   "cell_type": "markdown",
   "id": "55350e2e-e4c3-45c2-84e0-45eb2be509ef",
   "metadata": {},
   "source": [
    "## Heatmap Attention Weights\n",
    "* Visualizes the distribution of attention between tokens using a color map, helping to understand the model's focus patterns."
   ]
  },
  {
   "cell_type": "code",
   "execution_count": 21,
   "id": "df90a6b6-b084-435b-8a17-6375c7876a04",
   "metadata": {},
   "outputs": [
    {
     "data": {
      "image/png": "[encoded data removed]",
      "text/plain": [
       "<Figure size 650x550 with 2 Axes>"
      ]
     },
     "metadata": {},
     "output_type": "display_data"
    }
   ],
   "source": [
    "heatmap_attention(\n",
    "    weights2,\n",
    "    xlabels=tokens2,\n",
    "    ylabels=tokens2,\n",
    "    title=\"Attention Weights — Token-to-Token (Random Embedding ➜ Q,K,V)\"\n",
    ")"
   ]
  },
  {
   "cell_type": "markdown",
   "id": "69a5c95e-33ee-4d26-823e-37ee127b1394",
   "metadata": {},
   "source": [
    "### Interpretation\n",
    "- The token \"the\" (lowercase) receives the highest attention out of several other tokens, as indicated by its bright yellow color in its column.\n",
    "- The tokens \"sat\" and \"on\" pay the most attention to the token \"the,\" indicating a dominant relationship to that word.\n",
    "- The tokens \"cat,\" \"the,\" and \"mat\" have a more even distribution of attention across several other tokens, with no single, extreme focus.\n",
    "- The first token \"The\" (uppercase) tends to receive moderate attention to the token \"the\" (lowercase), indicating a difference even though they are the same word but in different positions/capitalization.\n",
    "- The lowest attention scores are generally found on the diagonal other than the dominant token, indicating that the token pays less attention to itself."
   ]
  },
  {
   "cell_type": "markdown",
   "id": "a2396a64-bcfb-48d8-9af8-6516639ed635",
   "metadata": {},
   "source": [
    "## Interactive Heatmap\n",
    "* The interactive version facilitates direct exploration of attention values, allowing detailed observation of specific token pairs."
   ]
  },
  {
   "cell_type": "code",
   "execution_count": 26,
   "id": "45c1c277-36a9-4057-b288-2d37871b7fdd",
   "metadata": {},
   "outputs": [
    {
     "data": {
      "application/vnd.jupyter.widget-view+json": {
       "model_id": "dd654610fb914e6a959b8cf548cd86cb",
       "version_major": 2,
       "version_minor": 0
      },
      "text/plain": [
       "interactive(children=(IntSlider(value=0, description='seed', max=50), Output()), _dom_classes=('widget-interac…"
      ]
     },
     "metadata": {},
     "output_type": "display_data"
    }
   ],
   "source": [
    "try:\n",
    "    from ipywidgets import interact, IntSlider\n",
    "\n",
    "    def recompute(seed=0):\n",
    "        np.random.seed(seed)\n",
    "        W_Qi = np.random.randint(0, 3, size=(4, 4))\n",
    "        W_Ki = np.random.randint(0, 3, size=(4, 4))\n",
    "        W_Vi = np.random.randint(0, 3, size=(4, 4))\n",
    "\n",
    "        Q_i = I @ W_Qi\n",
    "        K_i = I @ W_Ki\n",
    "        V_i = I @ W_Vi\n",
    "\n",
    "        scores_i = Q_i @ K_i.T\n",
    "        scaled_i = scores_i / np.sqrt(K_i.shape[1])\n",
    "        weights_i = softmax(scaled_i)\n",
    "\n",
    "        heatmap_attention(\n",
    "            weights_i,\n",
    "            xlabels=tokens,\n",
    "            ylabels=tokens,\n",
    "            title=f\"Attention Weights — seed={seed}\"\n",
    "        )\n",
    "\n",
    "    interact(recompute, seed=IntSlider(min=0, max=50, step=1, value=0));\n",
    "except Exception as e:\n",
    "    print(\"ipywidgets interaction is not available in this environment:\", e)"
   ]
  },
  {
   "cell_type": "markdown",
   "id": "ffbaeb92-a3b9-41ad-927b-b86e70933611",
   "metadata": {},
   "source": [
    "### Interpretation\n",
    "- The color block pattern changes → indicating which tokens are paying attention to each other.\\\n",
    "This proves that initial attention is entirely determined by the initial weights and has no semantic meaning.\n",
    "- Sometimes there are dominant tokens → a bright color in one column indicates many tokens are \"paying attention\" to that token, but this is purely a random number generator, not based on meaning.\n",
    "- The distribution can be even or concentrated → some seeds produce a nearly even attention pattern (uniform color), while others are more concentrated (bright colors in certain areas).\n",
    "- The relationship between tokens is inconsistent → for example, in certain seeds, the word \"cat\" might receive a lot of attention, but not at all in other seeds.\n",
    "- This means there is no stable knowledge yet."
   ]
  },
  {
   "cell_type": "markdown",
   "id": "d80a369c-c87e-4e06-933a-df6b721f0dcf",
   "metadata": {},
   "source": [
    "# Conclusion\n",
    "The attention mechanism is more than just matrix operations; it is at the heart of modern models' ability to understand context. Seed experiments that generate different attention patterns show that before training, a model's focus is simply a random result of parameter initialization. However, through training, this mechanism evolves into a system capable of selecting important information and ignoring irrelevant ones.\n",
    "\n",
    "From a practical perspective, this understanding is invaluable. We no longer view attention as a mysterious process, but as a tool we can control and optimize. Its key advantages, capturing long-range relationships, working efficiently in parallel, and being flexible across different types of data, make it a key pillar of many advanced models today. In conclusion, understanding the attention mechanism opens the door to mastering modern architectures like the Transformer and its derivatives."
   ]
  },
  {
   "cell_type": "markdown",
   "id": "59494a8f-1b66-4a08-87ab-58cfc61ddae6",
   "metadata": {},
   "source": [
    "# Thank You"
   ]
  },
  {
   "cell_type": "code",
   "execution_count": null,
   "id": "e9cb4418-3a1e-43fe-9442-33684e06e81a",
   "metadata": {},
   "outputs": [],
   "source": []
  }
 ],
 "metadata": {
  "kernelspec": {
   "display_name": "Python 3 (ipykernel)",
   "language": "python",
   "name": "python3"
  },
  "language_info": {
   "codemirror_mode": {
    "name": "ipython",
    "version": 3
   },
   "file_extension": ".py",
   "mimetype": "text/x-python",
   "name": "python",
   "nbconvert_exporter": "python",
   "pygments_lexer": "ipython3",
   "version": "3.13.5"
  }
 },
 "nbformat": 4,
 "nbformat_minor": 5
}
