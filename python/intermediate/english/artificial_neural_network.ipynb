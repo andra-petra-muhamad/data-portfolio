{
 "cells": [
  {
   "cell_type": "markdown",
   "id": "43fda858-028b-4a7e-ad00-ed5d8034b80b",
   "metadata": {},
   "source": [
    "# Artificial Neural Network (ANN) Fundamentals for Regression & Classification\n",
    "\n",
    "This project began with a simple yet essential goal: to build, train, and evaluate an Artificial Neural Network (ANN) model using Keras to solve classification problems, both in binary and multi-class cases. As a first step, the synthetic dataset make_moons was used to test the ANN's ability to handle non-linear data patterns in binary classification. The entire process began with data loading, dividing the dataset into training and test data, feature normalization, and creating an appropriate ANN model architecture.\n",
    "\n",
    "Learning outcomes were analyzed using accuracy metrics, classification reports, confusion matrices, and decision boundaries, which visually show class boundaries. After mastering the process for the binary case, the project continued with a multi-class challenge using the Iris dataset. Here, the process of encoding labels into one-hot vectors was a crucial step in adapting the ANN model to the multi-class target format. Accuracy curve visualization, target vs. prediction comparison tables, and confusion matrix analysis concluded the evaluation phase."
   ]
  },
  {
   "cell_type": "markdown",
   "id": "fb413bd7-f313-4ead-be6f-cb929a51435e",
   "metadata": {},
   "source": [
    "# Import Library"
   ]
  },
  {
   "cell_type": "code",
   "execution_count": 1,
   "id": "fd3f1841-1fd5-4876-9482-a9b721210043",
   "metadata": {},
   "outputs": [],
   "source": [
    "import pandas as pd\n",
    "import numpy as np\n",
    "import matplotlib.pyplot as plt\n",
    "from sklearn.datasets import make_moons, load_iris, load_diabetes\n",
    "from sklearn.model_selection import train_test_split\n",
    "from sklearn.preprocessing import StandardScaler, OneHotEncoder\n",
    "from sklearn.metrics import mean_squared_error, classification_report, confusion_matrix, mean_absolute_error\n",
    "from sklearn.metrics import mean_absolute_percentage_error, r2_score\n",
    "from sklearn.metrics import accuracy_score, precision_score, recall_score, f1_score\n",
    "import seaborn as sns\n",
    "\n",
    "import tensorflow as tf\n",
    "from tensorflow import keras\n",
    "from tensorflow.keras import layers"
   ]
  },
  {
   "cell_type": "markdown",
   "id": "bb6c03e1-6ff9-4da1-88cc-36b4a04583ba",
   "metadata": {},
   "source": [
    "# Manual ANN for Regression (NumPy)\n",
    "\n",
    "We will manually create an Artificial Neural Network (ANN) model using only NumPy to predict numerical values (regression). The chosen case study is predicting a sine wave pattern with noise. The goal is to understand the basic ANN flow (forward pass, backpropagation, weight update) without the aid of high-level libraries like Keras or PyTorch."
   ]
  },
  {
   "cell_type": "markdown",
   "id": "b6090e72-ff59-47e0-b9b6-e1e0fa373a25",
   "metadata": {},
   "source": [
    "## Artificial data for regression\n",
    "Data is created synthetically using the equation y=sin(x)+noise.\n",
    "Reasons for using artificial data:\n",
    "* The patterns are clear and easy to visualize.\n",
    "* The complexity and amount of data can be controlled.\n",
    "* Suitable for learning basic concepts before attempting real-world datasets."
   ]
  },
  {
   "cell_type": "code",
   "execution_count": 21,
   "id": "36704ef0-dee3-4239-ac9f-9e485ea9049b",
   "metadata": {},
   "outputs": [],
   "source": [
    "np.random.seed(42)\n",
    "X = np.linspace(-2*np.pi, 2*np.pi, 200).reshape(-1, 1)\n",
    "y = np.sin(X) + 0.1 * np.random.randn(*X.shape)"
   ]
  },
  {
   "cell_type": "code",
   "execution_count": 22,
   "id": "80f2a054-6d65-4468-b261-d8e3a608d605",
   "metadata": {},
   "outputs": [
    {
     "data": {
      "text/plain": [
       "(200, 1)"
      ]
     },
     "execution_count": 22,
     "metadata": {},
     "output_type": "execute_result"
    }
   ],
   "source": [
    "y.shape"
   ]
  },
  {
   "cell_type": "code",
   "execution_count": 23,
   "id": "0a284d6f-a2e5-4bbc-bd59-9f4c9c2fcf1f",
   "metadata": {},
   "outputs": [
    {
     "data": {
      "text/html": [
       "<div>\n",
       "<style scoped>\n",
       "    .dataframe tbody tr th:only-of-type {\n",
       "        vertical-align: middle;\n",
       "    }\n",
       "\n",
       "    .dataframe tbody tr th {\n",
       "        vertical-align: top;\n",
       "    }\n",
       "\n",
       "    .dataframe thead th {\n",
       "        text-align: right;\n",
       "    }\n",
       "</style>\n",
       "<table border=\"1\" class=\"dataframe\">\n",
       "  <thead>\n",
       "    <tr style=\"text-align: right;\">\n",
       "      <th></th>\n",
       "      <th>X</th>\n",
       "      <th>y</th>\n",
       "    </tr>\n",
       "  </thead>\n",
       "  <tbody>\n",
       "    <tr>\n",
       "      <th>0</th>\n",
       "      <td>-6.283185</td>\n",
       "      <td>0.049671</td>\n",
       "    </tr>\n",
       "    <tr>\n",
       "      <th>1</th>\n",
       "      <td>-6.220038</td>\n",
       "      <td>0.049279</td>\n",
       "    </tr>\n",
       "    <tr>\n",
       "      <th>2</th>\n",
       "      <td>-6.156890</td>\n",
       "      <td>0.190729</td>\n",
       "    </tr>\n",
       "    <tr>\n",
       "      <th>3</th>\n",
       "      <td>-6.093743</td>\n",
       "      <td>0.340615</td>\n",
       "    </tr>\n",
       "    <tr>\n",
       "      <th>4</th>\n",
       "      <td>-6.030595</td>\n",
       "      <td>0.226498</td>\n",
       "    </tr>\n",
       "    <tr>\n",
       "      <th>...</th>\n",
       "      <td>...</td>\n",
       "      <td>...</td>\n",
       "    </tr>\n",
       "    <tr>\n",
       "      <th>195</th>\n",
       "      <td>6.030595</td>\n",
       "      <td>-0.211381</td>\n",
       "    </tr>\n",
       "    <tr>\n",
       "      <th>196</th>\n",
       "      <td>6.093743</td>\n",
       "      <td>-0.276697</td>\n",
       "    </tr>\n",
       "    <tr>\n",
       "      <th>197</th>\n",
       "      <td>6.156890</td>\n",
       "      <td>-0.110587</td>\n",
       "    </tr>\n",
       "    <tr>\n",
       "      <th>198</th>\n",
       "      <td>6.220038</td>\n",
       "      <td>-0.057285</td>\n",
       "    </tr>\n",
       "    <tr>\n",
       "      <th>199</th>\n",
       "      <td>6.283185</td>\n",
       "      <td>-0.114297</td>\n",
       "    </tr>\n",
       "  </tbody>\n",
       "</table>\n",
       "<p>200 rows × 2 columns</p>\n",
       "</div>"
      ],
      "text/plain": [
       "            X         y\n",
       "0   -6.283185  0.049671\n",
       "1   -6.220038  0.049279\n",
       "2   -6.156890  0.190729\n",
       "3   -6.093743  0.340615\n",
       "4   -6.030595  0.226498\n",
       "..        ...       ...\n",
       "195  6.030595 -0.211381\n",
       "196  6.093743 -0.276697\n",
       "197  6.156890 -0.110587\n",
       "198  6.220038 -0.057285\n",
       "199  6.283185 -0.114297\n",
       "\n",
       "[200 rows x 2 columns]"
      ]
     },
     "execution_count": 23,
     "metadata": {},
     "output_type": "execute_result"
    }
   ],
   "source": [
    "df = pd.DataFrame({\n",
    "    'X': X.flatten(),\n",
    "    'y': y.flatten()\n",
    "})\n",
    "df"
   ]
  },
  {
   "cell_type": "markdown",
   "id": "0afa985e-12fe-4579-bdd1-27817786cd01",
   "metadata": {},
   "source": [
    "## Artificial data visualization\n",
    "Create a scatterplot of data points from a sine function with noise and compare it to a pure sine curve. The goal is to visualize the shape of the data that will be used in ANN training."
   ]
  },
  {
   "cell_type": "code",
   "execution_count": 25,
   "id": "4bbc2b05-de89-4404-8d69-ba74245b6755",
   "metadata": {},
   "outputs": [
    {
     "data": {
      "image/png": "[encoded data removed]",
      "text/plain": [
       "<Figure size 800x500 with 1 Axes>"
      ]
     },
     "metadata": {},
     "output_type": "display_data"
    }
   ],
   "source": [
    "plt.figure(figsize=(8,5))\n",
    "plt.scatter(df['X'], df['y'], color='blue', alpha=0.7, label='Data')\n",
    "plt.plot(df['X'], np.sin(df['X']), color='red', linewidth=2, label='Ideal Sin Function')\n",
    "plt.title(\"Artificial Data: y = sin(x) + noise\", fontsize=14)\n",
    "plt.xlabel(\"X\")\n",
    "plt.ylabel(\"y\")\n",
    "plt.legend()\n",
    "plt.grid(True)\n",
    "plt.show()"
   ]
  },
  {
   "cell_type": "markdown",
   "id": "8b2a8f09-3732-4b18-a5f4-68df01e5bb0e",
   "metadata": {},
   "source": [
    "## Normalization\n",
    "Feature X is normalized using `StandardScaler` to have a mean of 0 and a standard deviation of 1. This helps the ANN learn more stably and quickly, as the data scale becomes uniform."
   ]
  },
  {
   "cell_type": "code",
   "execution_count": 26,
   "id": "5cf47ab7-328f-4d8c-a9d2-a8b18d4b99e9",
   "metadata": {},
   "outputs": [],
   "source": [
    "scaler_x = StandardScaler()\n",
    "X_scaled = scaler_x.fit_transform(X)"
   ]
  },
  {
   "cell_type": "markdown",
   "id": "7a7cd5d6-186c-4b55-b4ce-d8120fa023e0",
   "metadata": {},
   "source": [
    "## Split data\n",
    "The dataset is split into a training set and a testing set using `train_test_split`. The training data is used to train the model, while the testing data is used to measure the model's performance on unseen data."
   ]
  },
  {
   "cell_type": "code",
   "execution_count": 27,
   "id": "72849f08-7000-4a31-a2ee-7cfcf674462c",
   "metadata": {},
   "outputs": [],
   "source": [
    "X_train, X_test, y_train, y_test = train_test_split(X_scaled, y, test_size=0.2, random_state=42)"
   ]
  },
  {
   "cell_type": "markdown",
   "id": "466d6bde-aeab-45b0-9834-8cc17463095d",
   "metadata": {},
   "source": [
    "## Manual ANN architecture with 1 hidden layer (10 neurons, ReLU), 1 neuron output"
   ]
  },
  {
   "cell_type": "code",
   "execution_count": 28,
   "id": "f53386d0-c548-42bc-97e8-93f3f62e6e19",
   "metadata": {},
   "outputs": [],
   "source": [
    "input_dim = X_train.shape[1]\n",
    "hidden_neurons = 10\n",
    "output_dim = 1\n",
    "lr = 0.01\n",
    "epochs = 500"
   ]
  },
  {
   "cell_type": "markdown",
   "id": "a1bb6a64-4798-4593-a493-4aa505c5f111",
   "metadata": {},
   "source": [
    "## Weight initialization\n",
    "The weights (W1, W2) are randomly initialized, and the biases (b1, b2) are initialized to zero. Random initialization helps the model begin the learning process without symmetry between neurons."
   ]
  },
  {
   "cell_type": "code",
   "execution_count": 29,
   "id": "b639c0dc-b0dc-453a-869b-089995665aa7",
   "metadata": {},
   "outputs": [],
   "source": [
    "W1 = np.random.randn(input_dim, hidden_neurons)\n",
    "b1 = np.zeros((1, hidden_neurons))\n",
    "W2 = np.random.randn(hidden_neurons, output_dim)\n",
    "b2 = np.zeros((1, output_dim))"
   ]
  },
  {
   "cell_type": "code",
   "execution_count": 30,
   "id": "6b40c2dd-7a85-4d02-ae75-c56d77067241",
   "metadata": {},
   "outputs": [],
   "source": [
    "losses = []"
   ]
  },
  {
   "cell_type": "markdown",
   "id": "020316bb-6ae3-49cb-8009-165df8dfefe5",
   "metadata": {},
   "source": [
    "## Model learning\n",
    "Iterations (for epochs in range (epochs)) will be performed to train the model:\n",
    "* Forward pass: calculate the output from input → hidden layer → output.\n",
    "* Calculate the loss (MSE).\n",
    "* Backward pass (backpropagation): calculate the derivative of the loss with respect to the weights.\n",
    "* Update the weights with gradient descent using a learning rate of 0.01."
   ]
  },
  {
   "cell_type": "code",
   "execution_count": 31,
   "id": "30a68862-94a2-46bb-b3cd-85daa259baca",
   "metadata": {},
   "outputs": [],
   "source": [
    "for epoch in range(epochs):\n",
    "    # Forward pass\n",
    "    z1 = X_train @ W1 + b1\n",
    "    a1 = np.maximum(0, z1)  # ReLU\n",
    "    z2 = a1 @ W2 + b2\n",
    "    y_pred = z2\n",
    "\n",
    "    # Calculate loss (MSE)\n",
    "    loss = np.mean((y_pred - y_train) ** 2)\n",
    "    losses.append(loss)\n",
    "\n",
    "    # Backpropagation\n",
    "    dloss_dy = 2 * (y_pred - y_train) / y_train.shape[0]\n",
    "    dW2 = a1.T @ dloss_dy\n",
    "    db2 = np.sum(dloss_dy, axis=0, keepdims=True)\n",
    "\n",
    "    da1 = dloss_dy @ W2.T\n",
    "    dz1 = da1.copy()\n",
    "    dz1[z1 <= 0] = 0\n",
    "    dW1 = X_train.T @ dz1\n",
    "    db1 = np.sum(dz1, axis=0, keepdims=True)\n",
    "\n",
    "    # Update weight\n",
    "    W1 -= lr * dW1\n",
    "    b1 -= lr * db1\n",
    "    W2 -= lr * dW2\n",
    "    b2 -= lr * db2"
   ]
  },
  {
   "cell_type": "markdown",
   "id": "54e2e124-224f-40b8-acd5-ff8bdd82f1fd",
   "metadata": {},
   "source": [
    "## Loss Plot\n",
    "A loss per epoch graph is created to monitor the learning process. A decrease in loss indicates that the learning model is adjusting its weights to bring predictions closer to the target."
   ]
  },
  {
   "cell_type": "code",
   "execution_count": 32,
   "id": "967a285e-ac4a-4145-bf69-c04a80c2ebd5",
   "metadata": {},
   "outputs": [
    {
     "data": {
      "image/png": "[encoded data removed]",
      "text/plain": [
       "<Figure size 640x480 with 1 Axes>"
      ]
     },
     "metadata": {},
     "output_type": "display_data"
    }
   ],
   "source": [
    "plt.plot(losses)\n",
    "plt.title(\"Loss Regression - ANN Manual\")\n",
    "plt.xlabel(\"Epoch\")\n",
    "plt.ylabel(\"MSE\")\n",
    "plt.show()"
   ]
  },
  {
   "cell_type": "markdown",
   "id": "8eb252ed-bcbb-465c-97bc-e10d918d67a6",
   "metadata": {},
   "source": [
    "### Interpretation\n",
    "* Sharp drop at the beginning (epochs 0–50) → the model quickly learns basic patterns from the data.\n",
    "* Slower drop afterward → the model fine-tunes the weights to gradually reduce the error.\n",
    "* Loss stabilizes starting around epochs 200–300 → the learning process has almost reached its optimal point; there is no longer a significant drop.\n",
    "* Small final MSE value (<0.3) → indicates the model is quite capable of learning the relationship between X and y in the training data."
   ]
  },
  {
   "cell_type": "markdown",
   "id": "7635e018-71ff-4a9d-88e7-12c905311fcd",
   "metadata": {},
   "source": [
    "## Forward pass on the test set\n",
    "After training, the model performs a forward pass on the testing data to generate predictions. There is no backpropagation at this stage, only output calculations."
   ]
  },
  {
   "cell_type": "code",
   "execution_count": 33,
   "id": "42a2d0b9-de6a-4fba-99b7-01c62c428925",
   "metadata": {},
   "outputs": [],
   "source": [
    "z1_test = X_test @ W1 + b1\n",
    "a1_test = np.maximum(0, z1_test)\n",
    "y_pred_test = a1_test @ W2 + b2"
   ]
  },
  {
   "cell_type": "code",
   "execution_count": 34,
   "id": "478a8757-7ca9-4c4c-8e65-6ad4ccb59c9c",
   "metadata": {},
   "outputs": [
    {
     "data": {
      "text/plain": [
       "array([ 0.0581018 ,  0.5507339 ,  0.34552219, -0.14384434,  0.34736001,\n",
       "        0.44543454, -0.18802825, -0.34032608, -0.40582   ,  0.14031048,\n",
       "       -0.14698591, -0.53680783, -0.25845869, -0.31115528, -0.60230174,\n",
       "       -0.45494043, -0.0101781 , -0.04560347, -0.34002014, -0.17434747,\n",
       "        0.41285393,  0.53705312,  0.01989044, -0.02381022, -0.13330513,\n",
       "       -0.06490123, -0.31835464, -0.16066669,  0.39648045,  0.2818661 ,\n",
       "        0.63281859,  0.50969156,  0.00350268, -0.27011294, -0.01285651,\n",
       "        0.38708589,  0.23274566,  0.19999871, -0.24208521, -0.28379372])"
      ]
     },
     "execution_count": 34,
     "metadata": {},
     "output_type": "execute_result"
    }
   ],
   "source": [
    "y_pred_test.flatten()"
   ]
  },
  {
   "cell_type": "markdown",
   "id": "fb74c768-5d13-4987-a1ed-8b6fdf80173e",
   "metadata": {},
   "source": [
    "## Evaluation metrics"
   ]
  },
  {
   "cell_type": "code",
   "execution_count": 35,
   "id": "caeb37f1-1144-4fa6-a415-5cb24f62f7cd",
   "metadata": {},
   "outputs": [],
   "source": [
    "mse_test = mean_squared_error(y_test, y_pred_test)\n",
    "mae_test = mean_absolute_error(y_test, y_pred_test)\n",
    "mape_test = mean_absolute_percentage_error(y_test, y_pred_test)\n",
    "r2_test = r2_score(y_test, y_pred_test)"
   ]
  },
  {
   "cell_type": "code",
   "execution_count": 36,
   "id": "862bb237-aeea-4771-8948-482c4129250b",
   "metadata": {},
   "outputs": [
    {
     "name": "stdout",
     "output_type": "stream",
     "text": [
      "MSE Test : 0.2590\n",
      "MAE Test : 0.4575\n",
      "MAPE Test: 0.64%\n",
      "R² Test  : 0.5440\n"
     ]
    }
   ],
   "source": [
    "print(f\"MSE Test : {mse_test:.4f}\")\n",
    "print(f\"MAE Test : {mae_test:.4f}\")\n",
    "print(f\"MAPE Test: {mape_test:.2f}%\")\n",
    "print(f\"R² Test  : {r2_test:.4f}\")"
   ]
  },
  {
   "cell_type": "markdown",
   "id": "9d7838ca-dbfa-4934-8114-a0893e7e3858",
   "metadata": {},
   "source": [
    "### Interpretation\n",
    "* MSE Test = 0.2590 → The mean squared error is relatively small, meaning the prediction is quite close to the target value.\n",
    "* MAE Test = 0.4575 → The mean absolute error is around 0.46 units, quite moderate for this scale of data.\n",
    "* MAPE Test = 64% → The mean percentage error is high (>50%), indicating there are several points where the prediction is far from the target value (possibly as the target value approaches zero, the MAPE becomes large).\n",
    "* R² Test = 0.5440 → The model only explains about 54% of the variation in the test data. This indicates adequate performance, but there is still much room for improvement.\n",
    "* General conclusion: The model has captured most of the sinusoidal data pattern, but the percentage accuracy is still low, likely due to high noise and the capacity limitations of this simple manual ANN."
   ]
  },
  {
   "cell_type": "markdown",
   "id": "9331582c-b8a1-4d0d-9470-9bce2f10a8da",
   "metadata": {},
   "source": [
    "## Target and prediction comparison table"
   ]
  },
  {
   "cell_type": "code",
   "execution_count": 37,
   "id": "e03c78b0-b77c-4ad6-85f9-6970c5e7ebb8",
   "metadata": {},
   "outputs": [],
   "source": [
    "df_eval = pd.DataFrame({\n",
    "    'X': scaler_x.inverse_transform(X_test).flatten(),\n",
    "    'y_target': y_test.flatten(),\n",
    "    'y_prediction': y_pred_test.flatten()\n",
    "})"
   ]
  },
  {
   "cell_type": "code",
   "execution_count": 38,
   "id": "561321a0-b7df-41ea-b720-4b430e571a96",
   "metadata": {
    "scrolled": true
   },
   "outputs": [
    {
     "data": {
      "text/html": [
       "<div>\n",
       "<style scoped>\n",
       "    .dataframe tbody tr th:only-of-type {\n",
       "        vertical-align: middle;\n",
       "    }\n",
       "\n",
       "    .dataframe tbody tr th {\n",
       "        vertical-align: top;\n",
       "    }\n",
       "\n",
       "    .dataframe thead th {\n",
       "        text-align: right;\n",
       "    }\n",
       "</style>\n",
       "<table border=\"1\" class=\"dataframe\">\n",
       "  <thead>\n",
       "    <tr style=\"text-align: right;\">\n",
       "      <th></th>\n",
       "      <th>X</th>\n",
       "      <th>y_target</th>\n",
       "      <th>y_prediction</th>\n",
       "    </tr>\n",
       "  </thead>\n",
       "  <tbody>\n",
       "    <tr>\n",
       "      <th>0</th>\n",
       "      <td>-0.284164</td>\n",
       "      <td>-0.426707</td>\n",
       "      <td>0.058102</td>\n",
       "    </tr>\n",
       "    <tr>\n",
       "      <th>1</th>\n",
       "      <td>-5.335971</td>\n",
       "      <td>0.755563</td>\n",
       "      <td>0.550734</td>\n",
       "    </tr>\n",
       "    <tr>\n",
       "      <th>2</th>\n",
       "      <td>-4.388758</td>\n",
       "      <td>0.887916</td>\n",
       "      <td>0.345522</td>\n",
       "    </tr>\n",
       "    <tr>\n",
       "      <th>3</th>\n",
       "      <td>3.694134</td>\n",
       "      <td>-0.643983</td>\n",
       "      <td>-0.143844</td>\n",
       "    </tr>\n",
       "    <tr>\n",
       "      <th>4</th>\n",
       "      <td>1.799706</td>\n",
       "      <td>0.983879</td>\n",
       "      <td>0.347360</td>\n",
       "    </tr>\n",
       "    <tr>\n",
       "      <th>5</th>\n",
       "      <td>0.978788</td>\n",
       "      <td>0.859976</td>\n",
       "      <td>0.445435</td>\n",
       "    </tr>\n",
       "    <tr>\n",
       "      <th>6</th>\n",
       "      <td>-1.926002</td>\n",
       "      <td>-1.002087</td>\n",
       "      <td>-0.188028</td>\n",
       "    </tr>\n",
       "    <tr>\n",
       "      <th>7</th>\n",
       "      <td>4.451905</td>\n",
       "      <td>-1.055217</td>\n",
       "      <td>-0.340326</td>\n",
       "    </tr>\n",
       "    <tr>\n",
       "      <th>8</th>\n",
       "      <td>4.704496</td>\n",
       "      <td>-0.972300</td>\n",
       "      <td>-0.405820</td>\n",
       "    </tr>\n",
       "    <tr>\n",
       "      <th>9</th>\n",
       "      <td>-3.441544</td>\n",
       "      <td>0.223489</td>\n",
       "      <td>0.140310</td>\n",
       "    </tr>\n",
       "    <tr>\n",
       "      <th>10</th>\n",
       "      <td>-2.115444</td>\n",
       "      <td>-0.862511</td>\n",
       "      <td>-0.146986</td>\n",
       "    </tr>\n",
       "    <tr>\n",
       "      <th>11</th>\n",
       "      <td>5.209676</td>\n",
       "      <td>-0.985969</td>\n",
       "      <td>-0.536808</td>\n",
       "    </tr>\n",
       "    <tr>\n",
       "      <th>12</th>\n",
       "      <td>4.136167</td>\n",
       "      <td>-0.797249</td>\n",
       "      <td>-0.258459</td>\n",
       "    </tr>\n",
       "    <tr>\n",
       "      <th>13</th>\n",
       "      <td>-1.357673</td>\n",
       "      <td>-0.968199</td>\n",
       "      <td>-0.311155</td>\n",
       "    </tr>\n",
       "    <tr>\n",
       "      <th>14</th>\n",
       "      <td>5.462267</td>\n",
       "      <td>-0.684449</td>\n",
       "      <td>-0.602302</td>\n",
       "    </tr>\n",
       "    <tr>\n",
       "      <th>15</th>\n",
       "      <td>4.893938</td>\n",
       "      <td>-0.838212</td>\n",
       "      <td>-0.454940</td>\n",
       "    </tr>\n",
       "    <tr>\n",
       "      <th>16</th>\n",
       "      <td>-2.746920</td>\n",
       "      <td>-0.468428</td>\n",
       "      <td>-0.010178</td>\n",
       "    </tr>\n",
       "    <tr>\n",
       "      <th>17</th>\n",
       "      <td>3.315249</td>\n",
       "      <td>-0.240787</td>\n",
       "      <td>-0.045603</td>\n",
       "    </tr>\n",
       "    <tr>\n",
       "      <th>18</th>\n",
       "      <td>-1.105083</td>\n",
       "      <td>-0.745712</td>\n",
       "      <td>-0.340020</td>\n",
       "    </tr>\n",
       "    <tr>\n",
       "      <th>19</th>\n",
       "      <td>-1.989149</td>\n",
       "      <td>-0.877596</td>\n",
       "      <td>-0.174347</td>\n",
       "    </tr>\n",
       "    <tr>\n",
       "      <th>20</th>\n",
       "      <td>1.547116</td>\n",
       "      <td>1.058405</td>\n",
       "      <td>0.412854</td>\n",
       "    </tr>\n",
       "    <tr>\n",
       "      <th>21</th>\n",
       "      <td>-5.272824</td>\n",
       "      <td>0.745741</td>\n",
       "      <td>0.537053</td>\n",
       "    </tr>\n",
       "    <tr>\n",
       "      <th>22</th>\n",
       "      <td>3.062658</td>\n",
       "      <td>0.131047</td>\n",
       "      <td>0.019890</td>\n",
       "    </tr>\n",
       "    <tr>\n",
       "      <th>23</th>\n",
       "      <td>-0.410459</td>\n",
       "      <td>-0.431797</td>\n",
       "      <td>-0.023810</td>\n",
       "    </tr>\n",
       "    <tr>\n",
       "      <th>24</th>\n",
       "      <td>-2.178592</td>\n",
       "      <td>-0.685285</td>\n",
       "      <td>-0.133305</td>\n",
       "    </tr>\n",
       "    <tr>\n",
       "      <th>25</th>\n",
       "      <td>-2.494330</td>\n",
       "      <td>-0.650923</td>\n",
       "      <td>-0.064901</td>\n",
       "    </tr>\n",
       "    <tr>\n",
       "      <th>26</th>\n",
       "      <td>-0.978788</td>\n",
       "      <td>-0.910671</td>\n",
       "      <td>-0.318355</td>\n",
       "    </tr>\n",
       "    <tr>\n",
       "      <th>27</th>\n",
       "      <td>-2.052297</td>\n",
       "      <td>-0.785948</td>\n",
       "      <td>-0.160667</td>\n",
       "    </tr>\n",
       "    <tr>\n",
       "      <th>28</th>\n",
       "      <td>1.610264</td>\n",
       "      <td>1.218267</td>\n",
       "      <td>0.396480</td>\n",
       "    </tr>\n",
       "    <tr>\n",
       "      <th>29</th>\n",
       "      <td>2.052297</td>\n",
       "      <td>0.780071</td>\n",
       "      <td>0.281866</td>\n",
       "    </tr>\n",
       "    <tr>\n",
       "      <th>30</th>\n",
       "      <td>-5.714857</td>\n",
       "      <td>0.592480</td>\n",
       "      <td>0.632819</td>\n",
       "    </tr>\n",
       "    <tr>\n",
       "      <th>31</th>\n",
       "      <td>-5.146529</td>\n",
       "      <td>0.816430</td>\n",
       "      <td>0.509692</td>\n",
       "    </tr>\n",
       "    <tr>\n",
       "      <th>32</th>\n",
       "      <td>-2.810068</td>\n",
       "      <td>-0.232357</td>\n",
       "      <td>0.003503</td>\n",
       "    </tr>\n",
       "    <tr>\n",
       "      <th>33</th>\n",
       "      <td>-1.547116</td>\n",
       "      <td>-0.917529</td>\n",
       "      <td>-0.270113</td>\n",
       "    </tr>\n",
       "    <tr>\n",
       "      <th>34</th>\n",
       "      <td>3.188953</td>\n",
       "      <td>-0.022294</td>\n",
       "      <td>-0.012857</td>\n",
       "    </tr>\n",
       "    <tr>\n",
       "      <th>35</th>\n",
       "      <td>0.284164</td>\n",
       "      <td>0.264227</td>\n",
       "      <td>0.387086</td>\n",
       "    </tr>\n",
       "    <tr>\n",
       "      <th>36</th>\n",
       "      <td>2.241739</td>\n",
       "      <td>0.938229</td>\n",
       "      <td>0.232746</td>\n",
       "    </tr>\n",
       "    <tr>\n",
       "      <th>37</th>\n",
       "      <td>2.368035</td>\n",
       "      <td>0.666479</td>\n",
       "      <td>0.199999</td>\n",
       "    </tr>\n",
       "    <tr>\n",
       "      <th>38</th>\n",
       "      <td>4.073020</td>\n",
       "      <td>-0.706135</td>\n",
       "      <td>-0.242085</td>\n",
       "    </tr>\n",
       "    <tr>\n",
       "      <th>39</th>\n",
       "      <td>-1.483968</td>\n",
       "      <td>-0.987528</td>\n",
       "      <td>-0.283794</td>\n",
       "    </tr>\n",
       "  </tbody>\n",
       "</table>\n",
       "</div>"
      ],
      "text/plain": [
       "           X  y_target  y_prediction\n",
       "0  -0.284164 -0.426707      0.058102\n",
       "1  -5.335971  0.755563      0.550734\n",
       "2  -4.388758  0.887916      0.345522\n",
       "3   3.694134 -0.643983     -0.143844\n",
       "4   1.799706  0.983879      0.347360\n",
       "5   0.978788  0.859976      0.445435\n",
       "6  -1.926002 -1.002087     -0.188028\n",
       "7   4.451905 -1.055217     -0.340326\n",
       "8   4.704496 -0.972300     -0.405820\n",
       "9  -3.441544  0.223489      0.140310\n",
       "10 -2.115444 -0.862511     -0.146986\n",
       "11  5.209676 -0.985969     -0.536808\n",
       "12  4.136167 -0.797249     -0.258459\n",
       "13 -1.357673 -0.968199     -0.311155\n",
       "14  5.462267 -0.684449     -0.602302\n",
       "15  4.893938 -0.838212     -0.454940\n",
       "16 -2.746920 -0.468428     -0.010178\n",
       "17  3.315249 -0.240787     -0.045603\n",
       "18 -1.105083 -0.745712     -0.340020\n",
       "19 -1.989149 -0.877596     -0.174347\n",
       "20  1.547116  1.058405      0.412854\n",
       "21 -5.272824  0.745741      0.537053\n",
       "22  3.062658  0.131047      0.019890\n",
       "23 -0.410459 -0.431797     -0.023810\n",
       "24 -2.178592 -0.685285     -0.133305\n",
       "25 -2.494330 -0.650923     -0.064901\n",
       "26 -0.978788 -0.910671     -0.318355\n",
       "27 -2.052297 -0.785948     -0.160667\n",
       "28  1.610264  1.218267      0.396480\n",
       "29  2.052297  0.780071      0.281866\n",
       "30 -5.714857  0.592480      0.632819\n",
       "31 -5.146529  0.816430      0.509692\n",
       "32 -2.810068 -0.232357      0.003503\n",
       "33 -1.547116 -0.917529     -0.270113\n",
       "34  3.188953 -0.022294     -0.012857\n",
       "35  0.284164  0.264227      0.387086\n",
       "36  2.241739  0.938229      0.232746\n",
       "37  2.368035  0.666479      0.199999\n",
       "38  4.073020 -0.706135     -0.242085\n",
       "39 -1.483968 -0.987528     -0.283794"
      ]
     },
     "execution_count": 38,
     "metadata": {},
     "output_type": "execute_result"
    }
   ],
   "source": [
    "df_eval"
   ]
  },
  {
   "cell_type": "markdown",
   "id": "a8a8a10f-c4cf-4c9f-80b4-bd8485551a60",
   "metadata": {},
   "source": [
    "## Plot of predicted results vs. actual data\n",
    "A scatter plot is created to compare the model's predicted points (different colors) with the actual target data. This makes it easy to visualize how close the predictions are to the actual values."
   ]
  },
  {
   "cell_type": "code",
   "execution_count": 39,
   "id": "d80df6c4-d1bf-4334-8271-6e6595220d77",
   "metadata": {},
   "outputs": [
    {
     "data": {
      "image/png": "[encoded data removed]",
      "text/plain": [
       "<Figure size 800x500 with 1 Axes>"
      ]
     },
     "metadata": {},
     "output_type": "display_data"
    }
   ],
   "source": [
    "plt.figure(figsize=(8,5))\n",
    "plt.scatter(scaler_x.inverse_transform(X_test), y_test, color='blue', label='Target')\n",
    "plt.scatter(scaler_x.inverse_transform(X_test), y_pred_test, color='red', label='Prediction')\n",
    "plt.title(\"Manual ANN Prediction vs Target\")\n",
    "plt.xlabel(\"X\")\n",
    "plt.ylabel(\"y\")\n",
    "plt.legend()\n",
    "plt.grid(True)\n",
    "plt.show()"
   ]
  },
  {
   "cell_type": "markdown",
   "id": "e6c60d08-b4a5-4921-be3a-6eeb18ecb0d3",
   "metadata": {},
   "source": [
    "### Interpretation\n",
    "* The general sine pattern is still captured by the model, but there are large deviations in some areas, particularly at the peaks and valleys of the curve.\n",
    "* The model tends to smooth the predictions, so extreme variations in the data (due to noise or the original sine shape) are not fully captured.\n",
    "* Prediction errors appear larger in areas of rapid transition (e.g., around x ≈ −5, x ≈ 2, and x ≈ 4).\n",
    "* This is consistent with previous metrics (R² = 0.544 and high MAPE), indicating that this simple model only partially captures the pattern but is less able to model the full variation of the data."
   ]
  },
  {
   "cell_type": "markdown",
   "id": "396e13e5-a0ed-4adc-ae6d-49c6e36ef439",
   "metadata": {},
   "source": [
    "# ANN with Keras - Regression (Dataset: Diabetes)\n",
    "Building an Artificial Neural Network model using Keras to predict diabetes disease progression based on 10 medical features, using a regression approach."
   ]
  },
  {
   "cell_type": "markdown",
   "id": "af886be7-7d26-484c-80e1-f7eb9af15438",
   "metadata": {},
   "source": [
    "## Load diabetes data\n",
    "Retrieves the Diabetes dataset from `sklearn.datasets`. This dataset contains features such as age, BMI, blood pressure, and biochemical measurements used to predict disease progression."
   ]
  },
  {
   "cell_type": "code",
   "execution_count": 40,
   "id": "c8525fdc-ed4d-451b-b91d-c0139d13f65c",
   "metadata": {},
   "outputs": [],
   "source": [
    "data = load_diabetes()\n",
    "X = data.data\n",
    "y = data.target"
   ]
  },
  {
   "cell_type": "code",
   "execution_count": 41,
   "id": "e4636e24-f281-4eb8-9682-c7608c828236",
   "metadata": {
    "scrolled": true
   },
   "outputs": [
    {
     "data": {
      "text/plain": [
       "{'data': array([[ 0.03807591,  0.05068012,  0.06169621, ..., -0.00259226,\n",
       "          0.01990749, -0.01764613],\n",
       "        [-0.00188202, -0.04464164, -0.05147406, ..., -0.03949338,\n",
       "         -0.06833155, -0.09220405],\n",
       "        [ 0.08529891,  0.05068012,  0.04445121, ..., -0.00259226,\n",
       "          0.00286131, -0.02593034],\n",
       "        ...,\n",
       "        [ 0.04170844,  0.05068012, -0.01590626, ..., -0.01107952,\n",
       "         -0.04688253,  0.01549073],\n",
       "        [-0.04547248, -0.04464164,  0.03906215, ...,  0.02655962,\n",
       "          0.04452873, -0.02593034],\n",
       "        [-0.04547248, -0.04464164, -0.0730303 , ..., -0.03949338,\n",
       "         -0.00422151,  0.00306441]]),\n",
       " 'target': array([151.,  75., 141., 206., 135.,  97., 138.,  63., 110., 310., 101.,\n",
       "         69., 179., 185., 118., 171., 166., 144.,  97., 168.,  68.,  49.,\n",
       "         68., 245., 184., 202., 137.,  85., 131., 283., 129.,  59., 341.,\n",
       "         87.,  65., 102., 265., 276., 252.,  90., 100.,  55.,  61.,  92.,\n",
       "        259.,  53., 190., 142.,  75., 142., 155., 225.,  59., 104., 182.,\n",
       "        128.,  52.,  37., 170., 170.,  61., 144.,  52., 128.,  71., 163.,\n",
       "        150.,  97., 160., 178.,  48., 270., 202., 111.,  85.,  42., 170.,\n",
       "        200., 252., 113., 143.,  51.,  52., 210.,  65., 141.,  55., 134.,\n",
       "         42., 111.,  98., 164.,  48.,  96.,  90., 162., 150., 279.,  92.,\n",
       "         83., 128., 102., 302., 198.,  95.,  53., 134., 144., 232.,  81.,\n",
       "        104.,  59., 246., 297., 258., 229., 275., 281., 179., 200., 200.,\n",
       "        173., 180.,  84., 121., 161.,  99., 109., 115., 268., 274., 158.,\n",
       "        107.,  83., 103., 272.,  85., 280., 336., 281., 118., 317., 235.,\n",
       "         60., 174., 259., 178., 128.,  96., 126., 288.,  88., 292.,  71.,\n",
       "        197., 186.,  25.,  84.,  96., 195.,  53., 217., 172., 131., 214.,\n",
       "         59.,  70., 220., 268., 152.,  47.,  74., 295., 101., 151., 127.,\n",
       "        237., 225.,  81., 151., 107.,  64., 138., 185., 265., 101., 137.,\n",
       "        143., 141.,  79., 292., 178.,  91., 116.,  86., 122.,  72., 129.,\n",
       "        142.,  90., 158.,  39., 196., 222., 277.,  99., 196., 202., 155.,\n",
       "         77., 191.,  70.,  73.,  49.,  65., 263., 248., 296., 214., 185.,\n",
       "         78.,  93., 252., 150.,  77., 208.,  77., 108., 160.,  53., 220.,\n",
       "        154., 259.,  90., 246., 124.,  67.,  72., 257., 262., 275., 177.,\n",
       "         71.,  47., 187., 125.,  78.,  51., 258., 215., 303., 243.,  91.,\n",
       "        150., 310., 153., 346.,  63.,  89.,  50.,  39., 103., 308., 116.,\n",
       "        145.,  74.,  45., 115., 264.,  87., 202., 127., 182., 241.,  66.,\n",
       "         94., 283.,  64., 102., 200., 265.,  94., 230., 181., 156., 233.,\n",
       "         60., 219.,  80.,  68., 332., 248.,  84., 200.,  55.,  85.,  89.,\n",
       "         31., 129.,  83., 275.,  65., 198., 236., 253., 124.,  44., 172.,\n",
       "        114., 142., 109., 180., 144., 163., 147.,  97., 220., 190., 109.,\n",
       "        191., 122., 230., 242., 248., 249., 192., 131., 237.,  78., 135.,\n",
       "        244., 199., 270., 164.,  72.,  96., 306.,  91., 214.,  95., 216.,\n",
       "        263., 178., 113., 200., 139., 139.,  88., 148.,  88., 243.,  71.,\n",
       "         77., 109., 272.,  60.,  54., 221.,  90., 311., 281., 182., 321.,\n",
       "         58., 262., 206., 233., 242., 123., 167.,  63., 197.,  71., 168.,\n",
       "        140., 217., 121., 235., 245.,  40.,  52., 104., 132.,  88.,  69.,\n",
       "        219.,  72., 201., 110.,  51., 277.,  63., 118.,  69., 273., 258.,\n",
       "         43., 198., 242., 232., 175.,  93., 168., 275., 293., 281.,  72.,\n",
       "        140., 189., 181., 209., 136., 261., 113., 131., 174., 257.,  55.,\n",
       "         84.,  42., 146., 212., 233.,  91., 111., 152., 120.,  67., 310.,\n",
       "         94., 183.,  66., 173.,  72.,  49.,  64.,  48., 178., 104., 132.,\n",
       "        220.,  57.]),\n",
       " 'frame': None,\n",
       " 'DESCR': '.. _diabetes_dataset:\\n\\nDiabetes dataset\\n----------------\\n\\nTen baseline variables, age, sex, body mass index, average blood\\npressure, and six blood serum measurements were obtained for each of n =\\n442 diabetes patients, as well as the response of interest, a\\nquantitative measure of disease progression one year after baseline.\\n\\n**Data Set Characteristics:**\\n\\n:Number of Instances: 442\\n\\n:Number of Attributes: First 10 columns are numeric predictive values\\n\\n:Target: Column 11 is a quantitative measure of disease progression one year after baseline\\n\\n:Attribute Information:\\n    - age     age in years\\n    - sex\\n    - bmi     body mass index\\n    - bp      average blood pressure\\n    - s1      tc, total serum cholesterol\\n    - s2      ldl, low-density lipoproteins\\n    - s3      hdl, high-density lipoproteins\\n    - s4      tch, total cholesterol / HDL\\n    - s5      ltg, possibly log of serum triglycerides level\\n    - s6      glu, blood sugar level\\n\\nNote: Each of these 10 feature variables have been mean centered and scaled by the standard deviation times the square root of `n_samples` (i.e. the sum of squares of each column totals 1).\\n\\nSource URL:\\nhttps://www4.stat.ncsu.edu/~boos/var.select/diabetes.html\\n\\nFor more information see:\\nBradley Efron, Trevor Hastie, Iain Johnstone and Robert Tibshirani (2004) \"Least Angle Regression,\" Annals of Statistics (with discussion), 407-499.\\n(https://web.stanford.edu/~hastie/Papers/LARS/LeastAngle_2002.pdf)\\n',\n",
       " 'feature_names': ['age',\n",
       "  'sex',\n",
       "  'bmi',\n",
       "  'bp',\n",
       "  's1',\n",
       "  's2',\n",
       "  's3',\n",
       "  's4',\n",
       "  's5',\n",
       "  's6'],\n",
       " 'data_filename': 'diabetes_data_raw.csv.gz',\n",
       " 'target_filename': 'diabetes_target.csv.gz',\n",
       " 'data_module': 'sklearn.datasets.data'}"
      ]
     },
     "execution_count": 41,
     "metadata": {},
     "output_type": "execute_result"
    }
   ],
   "source": [
    "data"
   ]
  },
  {
   "cell_type": "code",
   "execution_count": 42,
   "id": "ebe6d37c-a0fd-46ce-bdc9-f489285f97f8",
   "metadata": {},
   "outputs": [
    {
     "data": {
      "text/plain": [
       "array([ 0.03807591,  0.05068012,  0.06169621, ..., -0.03949338,\n",
       "       -0.00422151,  0.00306441])"
      ]
     },
     "execution_count": 42,
     "metadata": {},
     "output_type": "execute_result"
    }
   ],
   "source": [
    "X.flatten()"
   ]
  },
  {
   "cell_type": "code",
   "execution_count": 43,
   "id": "027cf280-9d3c-4207-9ecf-af9db3dacdcb",
   "metadata": {
    "scrolled": true
   },
   "outputs": [
    {
     "data": {
      "text/plain": [
       "array([151.,  75., 141., 206., 135.,  97., 138.,  63., 110., 310., 101.,\n",
       "        69., 179., 185., 118., 171., 166., 144.,  97., 168.,  68.,  49.,\n",
       "        68., 245., 184., 202., 137.,  85., 131., 283., 129.,  59., 341.,\n",
       "        87.,  65., 102., 265., 276., 252.,  90., 100.,  55.,  61.,  92.,\n",
       "       259.,  53., 190., 142.,  75., 142., 155., 225.,  59., 104., 182.,\n",
       "       128.,  52.,  37., 170., 170.,  61., 144.,  52., 128.,  71., 163.,\n",
       "       150.,  97., 160., 178.,  48., 270., 202., 111.,  85.,  42., 170.,\n",
       "       200., 252., 113., 143.,  51.,  52., 210.,  65., 141.,  55., 134.,\n",
       "        42., 111.,  98., 164.,  48.,  96.,  90., 162., 150., 279.,  92.,\n",
       "        83., 128., 102., 302., 198.,  95.,  53., 134., 144., 232.,  81.,\n",
       "       104.,  59., 246., 297., 258., 229., 275., 281., 179., 200., 200.,\n",
       "       173., 180.,  84., 121., 161.,  99., 109., 115., 268., 274., 158.,\n",
       "       107.,  83., 103., 272.,  85., 280., 336., 281., 118., 317., 235.,\n",
       "        60., 174., 259., 178., 128.,  96., 126., 288.,  88., 292.,  71.,\n",
       "       197., 186.,  25.,  84.,  96., 195.,  53., 217., 172., 131., 214.,\n",
       "        59.,  70., 220., 268., 152.,  47.,  74., 295., 101., 151., 127.,\n",
       "       237., 225.,  81., 151., 107.,  64., 138., 185., 265., 101., 137.,\n",
       "       143., 141.,  79., 292., 178.,  91., 116.,  86., 122.,  72., 129.,\n",
       "       142.,  90., 158.,  39., 196., 222., 277.,  99., 196., 202., 155.,\n",
       "        77., 191.,  70.,  73.,  49.,  65., 263., 248., 296., 214., 185.,\n",
       "        78.,  93., 252., 150.,  77., 208.,  77., 108., 160.,  53., 220.,\n",
       "       154., 259.,  90., 246., 124.,  67.,  72., 257., 262., 275., 177.,\n",
       "        71.,  47., 187., 125.,  78.,  51., 258., 215., 303., 243.,  91.,\n",
       "       150., 310., 153., 346.,  63.,  89.,  50.,  39., 103., 308., 116.,\n",
       "       145.,  74.,  45., 115., 264.,  87., 202., 127., 182., 241.,  66.,\n",
       "        94., 283.,  64., 102., 200., 265.,  94., 230., 181., 156., 233.,\n",
       "        60., 219.,  80.,  68., 332., 248.,  84., 200.,  55.,  85.,  89.,\n",
       "        31., 129.,  83., 275.,  65., 198., 236., 253., 124.,  44., 172.,\n",
       "       114., 142., 109., 180., 144., 163., 147.,  97., 220., 190., 109.,\n",
       "       191., 122., 230., 242., 248., 249., 192., 131., 237.,  78., 135.,\n",
       "       244., 199., 270., 164.,  72.,  96., 306.,  91., 214.,  95., 216.,\n",
       "       263., 178., 113., 200., 139., 139.,  88., 148.,  88., 243.,  71.,\n",
       "        77., 109., 272.,  60.,  54., 221.,  90., 311., 281., 182., 321.,\n",
       "        58., 262., 206., 233., 242., 123., 167.,  63., 197.,  71., 168.,\n",
       "       140., 217., 121., 235., 245.,  40.,  52., 104., 132.,  88.,  69.,\n",
       "       219.,  72., 201., 110.,  51., 277.,  63., 118.,  69., 273., 258.,\n",
       "        43., 198., 242., 232., 175.,  93., 168., 275., 293., 281.,  72.,\n",
       "       140., 189., 181., 209., 136., 261., 113., 131., 174., 257.,  55.,\n",
       "        84.,  42., 146., 212., 233.,  91., 111., 152., 120.,  67., 310.,\n",
       "        94., 183.,  66., 173.,  72.,  49.,  64.,  48., 178., 104., 132.,\n",
       "       220.,  57.])"
      ]
     },
     "execution_count": 43,
     "metadata": {},
     "output_type": "execute_result"
    }
   ],
   "source": [
    "y.flatten()"
   ]
  },
  {
   "cell_type": "markdown",
   "id": "8ffaacfe-311a-4369-a02c-b17f9fd66f4e",
   "metadata": {},
   "source": [
    "## Split and scale data\n",
    "Split the data into a training set and a test set (e.g., 80:20). Then, normalize using StandardScaler to ensure all features have comparable scales, resulting in more stable ANN training."
   ]
  },
  {
   "cell_type": "code",
   "execution_count": 44,
   "id": "099be3e0-0615-41e3-85f2-382fb0923ca3",
   "metadata": {},
   "outputs": [],
   "source": [
    "X_train, X_test, y_train, y_test = train_test_split(X, y, test_size=0.2, random_state=42)\n",
    "scaler = StandardScaler()\n",
    "X_train = scaler.fit_transform(X_train)\n",
    "X_test = scaler.transform(X_test)"
   ]
  },
  {
   "cell_type": "markdown",
   "id": "fffd8e8c-e975-410c-bae7-05b5c8b772cb",
   "metadata": {},
   "source": [
    "## ANN model for regression\n",
    "Building a neural network architecture with 1 input layer, 2 hidden layers (64 neurons & 32 neurons, ReLU activation), and 1 output neuron to predict continuous values."
   ]
  },
  {
   "cell_type": "code",
   "execution_count": 45,
   "id": "47112ff8-fea3-4dd0-8314-928b14af0deb",
   "metadata": {},
   "outputs": [],
   "source": [
    "model_reg = keras.Sequential([\n",
    "    layers.Input(shape=(X_train.shape[1],)), \n",
    "    layers.Dense(64, activation='relu'),\n",
    "    layers.Dense(32, activation='relu'),\n",
    "    layers.Dense(1)  # output 1 neuron for regression\n",
    "])"
   ]
  },
  {
   "cell_type": "markdown",
   "id": "1d8bf903-5d97-4eb8-b26a-ca6c1c734c07",
   "metadata": {},
   "source": [
    "## Regression Model Learning\n",
    "Train the model using the Adam optimizer and the MSE loss function. This process adjusts the network weights to minimize the error between the prediction and the target."
   ]
  },
  {
   "cell_type": "code",
   "execution_count": 46,
   "id": "2889a25f-7b76-4ea1-9cf1-d5640882f506",
   "metadata": {},
   "outputs": [],
   "source": [
    "model_reg.compile(optimizer='adam', loss='mse', metrics=['mae'])\n",
    "\n",
    "history_reg = model_reg.fit(X_train, y_train, validation_split=0.2, epochs=100, verbose=0)"
   ]
  },
  {
   "cell_type": "markdown",
   "id": "4cdbdc39-4ad3-42fa-a596-e00b32700572",
   "metadata": {},
   "source": [
    "## Evaluation\n",
    "Evaluate model performance with test data to see how well the model generalizes to new data."
   ]
  },
  {
   "cell_type": "code",
   "execution_count": 47,
   "id": "c2a199c5-e9ce-45fe-8c9f-55b1739fb3a1",
   "metadata": {},
   "outputs": [],
   "source": [
    "mse, mae = model_reg.evaluate(X_test, y_test, verbose=0)"
   ]
  },
  {
   "cell_type": "code",
   "execution_count": 48,
   "id": "f39ae47d-8d90-4992-b1d1-9dee26612400",
   "metadata": {},
   "outputs": [
    {
     "name": "stdout",
     "output_type": "stream",
     "text": [
      "MSE: 3016.2910, \n",
      "MAE: 44.4712\n"
     ]
    }
   ],
   "source": [
    "print(f\"MSE: {mse:.4f}, \\nMAE: {mae:.4f}\")"
   ]
  },
  {
   "cell_type": "markdown",
   "id": "d0c35d1c-8973-46a3-8cdc-3471e861bef3",
   "metadata": {},
   "source": [
    "* MSE = 3016.29 → The mean squared error is still quite large, indicating that the difference between the prediction and the target varies quite widely.\n",
    "* MAE = 44.47 → The average prediction is off by about 44 points from the target value."
   ]
  },
  {
   "cell_type": "markdown",
   "id": "ada52d11-a933-4252-b139-93da5a9f6c9e",
   "metadata": {},
   "source": [
    "## Loss Plot\n",
    "Displays a graph of the loss decrease over training epochs. This graph shows how the error decreases with increasing training iterations."
   ]
  },
  {
   "cell_type": "code",
   "execution_count": 49,
   "id": "28179149-a5d4-419b-bcac-e09ee3f732e7",
   "metadata": {},
   "outputs": [
    {
     "data": {
      "image/png": "[encoded data removed]",
      "text/plain": [
       "<Figure size 640x480 with 1 Axes>"
      ]
     },
     "metadata": {},
     "output_type": "display_data"
    }
   ],
   "source": [
    "plt.plot(history_reg.history['loss'], label='Train Loss')\n",
    "plt.plot(history_reg.history['val_loss'], label='Val Loss')\n",
    "plt.title(\"Loss Curve - Regression\")\n",
    "plt.xlabel(\"Epoch\")\n",
    "plt.ylabel(\"MSE\")\n",
    "plt.legend()\n",
    "plt.show()"
   ]
  },
  {
   "cell_type": "markdown",
   "id": "6c9cb370-aabd-463b-8dbb-fbe570f1b3ed",
   "metadata": {},
   "source": [
    "### Interpretation\n",
    "* Train Loss and Val Loss both decrease sharply at the beginning of epochs (0–20), indicating the model is quickly learning the underlying patterns of the data.\n",
    "* After around the 40th epoch, the loss decline slows and begins to stabilize, indicating the model is approaching convergence.\n",
    "* Val Loss is slightly lower than Train Loss for most epochs, which could be due to the regularization effect of the validation data or batch fluctuations.\n",
    "* There are no obvious signs of overfitting (Val Loss does not increase at the end of training), indicating the model is quite stable."
   ]
  },
  {
   "cell_type": "markdown",
   "id": "ebb2d5ad-c52e-490e-a553-95c5b3f71c16",
   "metadata": {},
   "source": [
    "## Prediction"
   ]
  },
  {
   "cell_type": "code",
   "execution_count": 50,
   "id": "45ff5024-b544-4814-bda9-11bb6e3bf5ca",
   "metadata": {},
   "outputs": [
    {
     "name": "stdout",
     "output_type": "stream",
     "text": [
      "\u001b[1m3/3\u001b[0m \u001b[32m━━━━━━━━━━━━━━━━━━━━\u001b[0m\u001b[37m\u001b[0m \u001b[1m0s\u001b[0m 29ms/step\n"
     ]
    }
   ],
   "source": [
    "y_pred_test = model_reg.predict(X_test)"
   ]
  },
  {
   "cell_type": "markdown",
   "id": "4e157fab-41cd-4d80-b797-726be4353478",
   "metadata": {},
   "source": [
    "## Evaluation metrics"
   ]
  },
  {
   "cell_type": "code",
   "execution_count": 51,
   "id": "923476c4-9a8d-4753-ac11-a17056ebbce7",
   "metadata": {},
   "outputs": [],
   "source": [
    "mse_test = mean_squared_error(y_test, y_pred_test)\n",
    "mae_test = mean_absolute_error(y_test, y_pred_test)\n",
    "mape_test = mean_absolute_percentage_error(y_test, y_pred_test)\n",
    "r2_test = r2_score(y_test, y_pred_test)"
   ]
  },
  {
   "cell_type": "code",
   "execution_count": 52,
   "id": "102cc12d-e3d6-47db-8891-55fa91c8c1ab",
   "metadata": {},
   "outputs": [
    {
     "name": "stdout",
     "output_type": "stream",
     "text": [
      "MSE Test : 3016.2912\n",
      "MAE Test : 44.4712\n",
      "MAPE Test: 0.39%\n",
      "R² Test  : 0.4307\n"
     ]
    }
   ],
   "source": [
    "print(f\"MSE Test : {mse_test:.4f}\")\n",
    "print(f\"MAE Test : {mae_test:.4f}\")\n",
    "print(f\"MAPE Test: {mape_test:.2f}%\")\n",
    "print(f\"R² Test  : {r2_test:.4f}\")"
   ]
  },
  {
   "cell_type": "markdown",
   "id": "aeb6cb1e-9d6f-445c-9b3e-716902043be7",
   "metadata": {},
   "source": [
    "### Interpretation\n",
    "* MSE = 3016.29 → The mean squared error is quite large, indicating that predictions often miss the target value at the diabetes dataset scale.\n",
    "* MAE = 44.47 → The average prediction misses the actual target value by about 44 points.\n",
    "* MAPE = 0.39% → The percentage error relative to the target value is very small; this seems inconsistent with the magnitude of the MAE, likely because the target value in the dataset is large, making the percentage error appear small.\n",
    "* R² = 0.4307 → The model only explains about 43.07% of the variation in the data, with the remainder unexplained by the model."
   ]
  },
  {
   "cell_type": "markdown",
   "id": "3eddba11-8af0-41bf-ae7b-7166d6ac59f6",
   "metadata": {},
   "source": [
    "## Target-prediction comparison table\n",
    "Create a table comparing the actual target value with the predicted result, including errors."
   ]
  },
  {
   "cell_type": "code",
   "execution_count": 53,
   "id": "e78f455a-e7c8-4dfe-a32e-d1f9354dca38",
   "metadata": {},
   "outputs": [],
   "source": [
    "df_eval = pd.DataFrame({\n",
    "    'y_target': y_test,\n",
    "    'y_prediction': y_pred_test.flatten(),\n",
    "    'error': y_test - y_pred_test.flatten(),\n",
    "})"
   ]
  },
  {
   "cell_type": "code",
   "execution_count": 54,
   "id": "c312de71-1085-4e81-b195-c191cce8b0d9",
   "metadata": {
    "scrolled": true
   },
   "outputs": [
    {
     "data": {
      "text/html": [
       "<div>\n",
       "<style scoped>\n",
       "    .dataframe tbody tr th:only-of-type {\n",
       "        vertical-align: middle;\n",
       "    }\n",
       "\n",
       "    .dataframe tbody tr th {\n",
       "        vertical-align: top;\n",
       "    }\n",
       "\n",
       "    .dataframe thead th {\n",
       "        text-align: right;\n",
       "    }\n",
       "</style>\n",
       "<table border=\"1\" class=\"dataframe\">\n",
       "  <thead>\n",
       "    <tr style=\"text-align: right;\">\n",
       "      <th></th>\n",
       "      <th>y_target</th>\n",
       "      <th>y_prediction</th>\n",
       "      <th>error</th>\n",
       "    </tr>\n",
       "  </thead>\n",
       "  <tbody>\n",
       "    <tr>\n",
       "      <th>0</th>\n",
       "      <td>219.0</td>\n",
       "      <td>168.725327</td>\n",
       "      <td>50.274673</td>\n",
       "    </tr>\n",
       "    <tr>\n",
       "      <th>1</th>\n",
       "      <td>70.0</td>\n",
       "      <td>181.413879</td>\n",
       "      <td>-111.413879</td>\n",
       "    </tr>\n",
       "    <tr>\n",
       "      <th>2</th>\n",
       "      <td>202.0</td>\n",
       "      <td>147.275620</td>\n",
       "      <td>54.724380</td>\n",
       "    </tr>\n",
       "    <tr>\n",
       "      <th>3</th>\n",
       "      <td>230.0</td>\n",
       "      <td>321.422333</td>\n",
       "      <td>-91.422333</td>\n",
       "    </tr>\n",
       "    <tr>\n",
       "      <th>4</th>\n",
       "      <td>111.0</td>\n",
       "      <td>88.561729</td>\n",
       "      <td>22.438271</td>\n",
       "    </tr>\n",
       "  </tbody>\n",
       "</table>\n",
       "</div>"
      ],
      "text/plain": [
       "   y_target  y_prediction       error\n",
       "0     219.0    168.725327   50.274673\n",
       "1      70.0    181.413879 -111.413879\n",
       "2     202.0    147.275620   54.724380\n",
       "3     230.0    321.422333  -91.422333\n",
       "4     111.0     88.561729   22.438271"
      ]
     },
     "execution_count": 54,
     "metadata": {},
     "output_type": "execute_result"
    }
   ],
   "source": [
    "df_eval.head()"
   ]
  },
  {
   "cell_type": "markdown",
   "id": "079c38b9-a78d-4f68-9594-39cab438bb37",
   "metadata": {},
   "source": [
    "### Interpretation\n",
    "The model produces significant errors at several points, both overestimating and underestimating, indicating that the predictions are not yet stable across the target value range. There are indications that the model still has difficulty capturing patterns at extreme values (very high or very low)."
   ]
  },
  {
   "cell_type": "markdown",
   "id": "bbacf9a6-2dfe-402b-b19e-d80752061fde",
   "metadata": {},
   "source": [
    "## Prediction vs. Target Plot\n",
    "Creates a scatterplot between the target and predicted values. The red diagonal line indicates perfect prediction. The closer the points are to this line, the better the model's accuracy."
   ]
  },
  {
   "cell_type": "code",
   "execution_count": 55,
   "id": "3e06d684-34ec-47e9-8759-2d9868e8f490",
   "metadata": {},
   "outputs": [
    {
     "data": {
      "image/png": "[encoded data removed]",
      "text/plain": [
       "<Figure size 600x400 with 1 Axes>"
      ]
     },
     "metadata": {},
     "output_type": "display_data"
    }
   ],
   "source": [
    "plt.figure(figsize=(6, 4))\n",
    "plt.scatter(y_test, y_pred_test, color='blue')\n",
    "plt.plot([y_test.min(), y_test.max()], [y_test.min(), y_test.max()], 'r--')\n",
    "plt.xlabel('Target')\n",
    "plt.ylabel('Prediction')\n",
    "plt.title('ANN vs Target Prediction (Diabetes)')\n",
    "plt.show()"
   ]
  },
  {
   "cell_type": "markdown",
   "id": "12e47875-603e-4205-901d-4be3dda4542f",
   "metadata": {},
   "source": [
    "### Interpretation\n",
    "* The dashed red line is the ideal line where prediction = target (error = 0).\\\n",
    "The closer the blue dots are to this line, the more accurate the model.\n",
    "* Most of the dots fall around the line, but many are quite spread out, especially in the high and low target values, indicating large errors at the extremes of the data.\n",
    "* The wide spread of the dots indicates that the model has not been able to precisely map the input-output relationship.\n",
    "* There are indications that the model tends to compress the prediction range (low values are slightly overpredicted, high values are slightly underpredicted), a common pattern in underfitting regression models."
   ]
  },
  {
   "cell_type": "code",
   "execution_count": 56,
   "id": "63525cfb-7491-4dc4-89e7-9509b4d38816",
   "metadata": {},
   "outputs": [
    {
     "data": {
      "image/png": "[encoded data removed]",
      "text/plain": [
       "<Figure size 800x500 with 1 Axes>"
      ]
     },
     "metadata": {},
     "output_type": "display_data"
    }
   ],
   "source": [
    "plt.figure(figsize=(8, 5))\n",
    "plt.scatter(range(len(y_test)), y_test, color='blue', label='Target', alpha=0.7)\n",
    "plt.scatter(range(len(y_pred_test)), y_pred_test, color='red', label='Prediction', alpha=0.7)\n",
    "plt.xlabel('Index Data')\n",
    "plt.ylabel('y')\n",
    "plt.title('ANN vs Target Prediction (Diabetes)')\n",
    "plt.legend()\n",
    "plt.show()"
   ]
  },
  {
   "cell_type": "markdown",
   "id": "165d6675-2e4c-41fd-9d42-5b9f83b29a79",
   "metadata": {},
   "source": [
    "### Interpretation\n",
    "* The pattern of red dots tends to follow the general trend of the blue dots, indicating that the model partially captures the relationship between the feature and the target.\n",
    "* However, there is a significant spread between the predicted and target values at many points, especially at very high or very low target values, indicating significant prediction error in some of the data.\n",
    "* The red dots often fall in the middle of the range, indicating model underfitting, meaning the predictions are \"pulled\" toward the mean rather than truly following the extreme variations in the data.\n",
    "* Visually, the predictions appear \"tighter\" than the wider distribution of the target data, reinforcing the notion that the model is less able to predict extreme cases."
   ]
  },
  {
   "cell_type": "markdown",
   "id": "698fa199-04c0-4828-8419-711ea9804b0f",
   "metadata": {},
   "source": [
    "# ANN with Keras - Binary Classification (Dataset: make_moons)\n",
    "Building a simple artificial neural network model to separate two classes on the synthetic dataset make_moons, which has a curved and intertwined distribution pattern."
   ]
  },
  {
   "cell_type": "markdown",
   "id": "0021612e-a921-49e6-9dca-5d74526bf680",
   "metadata": {},
   "source": [
    "## Load dataset\n",
    "Generates a two-dimensional synthetic dataset using `make_moons` from `sklearn.datasets` with a noise parameter to add variety to the data."
   ]
  },
  {
   "cell_type": "code",
   "execution_count": 57,
   "id": "df666be2-6e18-4be3-8d26-712a47f867f5",
   "metadata": {},
   "outputs": [],
   "source": [
    "X, y = make_moons(n_samples=1000, noise=0.2, random_state=42)"
   ]
  },
  {
   "cell_type": "markdown",
   "id": "6ae15a91-099b-4b70-9080-b6629c440e27",
   "metadata": {},
   "source": [
    "## Split data\n",
    "Divide the data into a training set and a testing set so that the model can be tested on previously unseen data."
   ]
  },
  {
   "cell_type": "code",
   "execution_count": 58,
   "id": "d341f480-6d9a-4d18-857c-62842032bf57",
   "metadata": {},
   "outputs": [],
   "source": [
    "X_train, X_test, y_train, y_test = train_test_split(X, y, test_size=0.2, random_state=42)"
   ]
  },
  {
   "cell_type": "markdown",
   "id": "ece47efc-b96c-48f4-8395-99e31634c9d1",
   "metadata": {},
   "source": [
    "## Scaling data\n",
    "Normalize features using `StandardScaler` to ensure each feature has a comparable scale, aiding model training convergence."
   ]
  },
  {
   "cell_type": "code",
   "execution_count": 59,
   "id": "8f94232f-4f32-4613-9acd-5c4d43fb2f6d",
   "metadata": {},
   "outputs": [],
   "source": [
    "scaler = StandardScaler()\n",
    "X_train = scaler.fit_transform(X_train)\n",
    "X_test = scaler.transform(X_test)"
   ]
  },
  {
   "cell_type": "markdown",
   "id": "87ce2f18-299f-4be3-81fd-adc945e766c8",
   "metadata": {},
   "source": [
    "## Binary classification model\n",
    "Developing an ANN architecture using Keras Sequential with two hidden layers with ReLU activation and one output layer with sigmoid activation to generate class probabilities."
   ]
  },
  {
   "cell_type": "code",
   "execution_count": 60,
   "id": "40cfecfa-0e0b-4c19-ab84-63cab21eb95a",
   "metadata": {},
   "outputs": [],
   "source": [
    "model_clf_bin = keras.Sequential([\n",
    "    layers.Input(shape=(X_train.shape[1],)), \n",
    "    layers.Dense(64, activation='relu'),\n",
    "    layers.Dense(32, activation='relu'),\n",
    "    layers.Dense(1, activation='sigmoid')\n",
    "])"
   ]
  },
  {
   "cell_type": "markdown",
   "id": "ecaf0ed7-6a2c-422e-8fd1-f070faced37d",
   "metadata": {},
   "source": [
    "## Classification model learning\n",
    "Training a model using binary crossentropy as the loss function and the Adam optimizer, while monitoring accuracy on validation data at each epoch."
   ]
  },
  {
   "cell_type": "code",
   "execution_count": 61,
   "id": "b7fb6706-bc92-46f2-967f-bea33aead557",
   "metadata": {},
   "outputs": [],
   "source": [
    "model_clf_bin.compile(optimizer='adam', loss='binary_crossentropy', metrics=['accuracy'])\n",
    "\n",
    "history_bin = model_clf_bin.fit(X_train, y_train, validation_split=0.2, epochs=100, verbose=0)"
   ]
  },
  {
   "cell_type": "markdown",
   "id": "59a12f70-1815-485a-828e-032726783a2e",
   "metadata": {},
   "source": [
    "## Evaluation\n",
    "Calculate loss and accuracy values on the testing data to assess the model's performance after learning."
   ]
  },
  {
   "cell_type": "code",
   "execution_count": 62,
   "id": "5cc1615d-46f6-439e-98c4-6fdf5f59aa95",
   "metadata": {},
   "outputs": [
    {
     "name": "stdout",
     "output_type": "stream",
     "text": [
      "Accuracy: 0.9750\n"
     ]
    }
   ],
   "source": [
    "loss, acc = model_clf_bin.evaluate(X_test, y_test, verbose=0)\n",
    "print(f\"Accuracy: {acc:.4f}\")"
   ]
  },
  {
   "cell_type": "markdown",
   "id": "9c8682a6-fa6c-4dec-9bad-0eb04fa93e0f",
   "metadata": {},
   "source": [
    "### Interpretation\n",
    "An accuracy of 0.9750 means the model was able to correctly classify the test data 97.5% of the time, indicating excellent performance on this dataset."
   ]
  },
  {
   "cell_type": "markdown",
   "id": "e7737df3-a3c8-4bfc-b927-5029edb24d1c",
   "metadata": {},
   "source": [
    "## Accuracy Plot\n",
    "Displays a graph of the training and validation accuracy progression per epoch to see learning stability and trends."
   ]
  },
  {
   "cell_type": "code",
   "execution_count": 63,
   "id": "578ab5ca-0a7c-4533-b946-800bc52c86a7",
   "metadata": {},
   "outputs": [
    {
     "data": {
      "image/png": "[encoded data removed]",
      "text/plain": [
       "<Figure size 640x480 with 1 Axes>"
      ]
     },
     "metadata": {},
     "output_type": "display_data"
    }
   ],
   "source": [
    "plt.plot(history_bin.history['accuracy'], label='Train Acc')\n",
    "plt.plot(history_bin.history['val_accuracy'], label='Val Acc')\n",
    "plt.title(\"Accuracy Curve - Binary Classification\")\n",
    "plt.xlabel(\"Epoch\")\n",
    "plt.ylabel(\"Accuracy\")\n",
    "plt.legend()\n",
    "plt.show()"
   ]
  },
  {
   "cell_type": "markdown",
   "id": "5eba3db4-250d-42ea-805c-e7fc38f74815",
   "metadata": {},
   "source": [
    "### Interpretation\n",
    "* The accuracy curve shows that this binary classification model experiences a consistent performance increase early in training, with both training and validation accuracies rising sharply until around the 20th epoch.\n",
    "* After that, they approach ~98% and stabilize, with the training (blue) and validation (orange) lines nearly overlapping. This indicates the model is learning well without significant overfitting, as performance on the validation data does not decline even after training continues until the 100th epoch.\n",
    "* Overall, this indicates that the architecture and hyperparameters used are effective in separating classes on the make_moons dataset with a very low error rate."
   ]
  },
  {
   "cell_type": "markdown",
   "id": "218acbef-ecaf-4129-be21-587852f77ea8",
   "metadata": {},
   "source": [
    "## Prediction\n",
    "Generates a predicted probability on the testing data, then converts it to a binary label (0 or 1) based on a threshold of 0.5."
   ]
  },
  {
   "cell_type": "code",
   "execution_count": 64,
   "id": "a51f5f0e-afc2-4927-98e7-b2db1fa9cf4c",
   "metadata": {},
   "outputs": [
    {
     "name": "stdout",
     "output_type": "stream",
     "text": [
      "\u001b[1m7/7\u001b[0m \u001b[32m━━━━━━━━━━━━━━━━━━━━\u001b[0m\u001b[37m\u001b[0m \u001b[1m0s\u001b[0m 10ms/step\n"
     ]
    }
   ],
   "source": [
    "y_pred_prob = model_clf_bin.predict(X_test)\n",
    "y_pred = (y_pred_prob > 0.5).astype(int).flatten()"
   ]
  },
  {
   "cell_type": "code",
   "execution_count": 65,
   "id": "75a0d0df-984b-433e-81f4-99f615c43bc3",
   "metadata": {},
   "outputs": [
    {
     "data": {
      "text/plain": [
       "array([1, 0, 1, 0, 1, 1, 0, 0, 1, 0, 0, 1, 0, 1, 0, 1, 1, 0, 1, 0, 0, 0,\n",
       "       1, 0, 0, 0, 0, 0, 0, 1, 1, 0, 0, 1, 0, 1, 1, 1, 1, 1, 1, 1, 1, 0,\n",
       "       0, 1, 0, 0, 1, 1, 0, 0, 0, 0, 1, 0, 1, 1, 1, 0, 1, 0, 0, 1, 1, 1,\n",
       "       1, 0, 0, 0, 1, 0, 0, 1, 1, 1, 1, 0, 0, 0, 0, 1, 0, 1, 1, 1, 0, 0,\n",
       "       0, 0, 1, 1, 1, 1, 1, 0, 1, 1, 0, 1, 0, 0, 1, 1, 0, 0, 1, 0, 0, 1,\n",
       "       1, 1, 0, 1, 1, 0, 0, 0, 1, 0, 1, 0, 0, 1, 1, 0, 1, 1, 0, 1, 1, 0,\n",
       "       1, 0, 0, 0, 1, 0, 0, 1, 0, 0, 0, 1, 0, 0, 1, 0, 1, 0, 1, 0, 1, 0,\n",
       "       1, 1, 1, 0, 0, 1, 0, 1, 1, 0, 1, 0, 1, 0, 0, 1, 1, 1, 1, 0, 0, 0,\n",
       "       0, 1, 1, 0, 0, 1, 0, 1, 1, 0, 0, 0, 1, 1, 0, 1, 1, 0, 1, 0, 1, 0,\n",
       "       0, 1])"
      ]
     },
     "execution_count": 65,
     "metadata": {},
     "output_type": "execute_result"
    }
   ],
   "source": [
    "y_pred"
   ]
  },
  {
   "cell_type": "markdown",
   "id": "e689c8c3-8306-4d62-a5d2-38e72193ece4",
   "metadata": {},
   "source": [
    "## Evaluation metrics\n",
    "Calculate accuracy, precision, recall, and F1-score metrics to quantitatively assess model performance."
   ]
  },
  {
   "cell_type": "code",
   "execution_count": 66,
   "id": "93662fd3-47a6-4699-8172-8ba119b2b822",
   "metadata": {},
   "outputs": [],
   "source": [
    "acc = accuracy_score(y_test, y_pred)\n",
    "prec = precision_score(y_test, y_pred)\n",
    "rec = recall_score(y_test, y_pred)\n",
    "f1 = f1_score(y_test, y_pred)"
   ]
  },
  {
   "cell_type": "code",
   "execution_count": 67,
   "id": "9aaeb75a-9b41-4705-910c-dc95c769ef53",
   "metadata": {},
   "outputs": [
    {
     "name": "stdout",
     "output_type": "stream",
     "text": [
      "Accuracy     : 0.9750\n",
      "Precision   : 0.9798\n",
      "Recall      : 0.9700\n",
      "F1-score    : 0.9749\n"
     ]
    }
   ],
   "source": [
    "print(f\"Accuracy     : {acc:.4f}\")\n",
    "print(f\"Precision   : {prec:.4f}\")\n",
    "print(f\"Recall      : {rec:.4f}\")\n",
    "print(f\"F1-score    : {f1:.4f}\")"
   ]
  },
  {
   "cell_type": "markdown",
   "id": "21d5b604-472e-4e24-a29c-8601cbb60d4d",
   "metadata": {},
   "source": [
    "### Interpretation\n",
    "* An accuracy of 97.50% indicates that almost all of the test data (97.5 out of every 100 samples) was correctly classified. This reflects the model's good generalization ability to unseen data.\n",
    "* A precision of 97.98% means that of all positive predictions the model made, only about 2% were incorrect. This is especially important when the risk of false positives is high, as the model rarely generates false alarms.\n",
    "* A recall of 97.00% indicates that the model successfully captured almost all of the true positive cases in the data, missing only about 3% of the total positive cases. This is crucial in contexts where missing positive cases is more dangerous.\n",
    "* An F1-score of 97.49% is nearly equal for precision and recall, indicating that there is no significant imbalance between the two, and that the model maintains a balance between avoiding false positives and false negatives."
   ]
  },
  {
   "cell_type": "markdown",
   "id": "7f281f5a-61a3-48b5-8a57-2d2ae9cabd86",
   "metadata": {},
   "source": [
    "## Target vs. Prediction Comparison Table\n",
    "Shows a comparison between the actual and predicted labels for a sample of testing data to see how the results match."
   ]
  },
  {
   "cell_type": "code",
   "execution_count": 68,
   "id": "adcdc2b8-fdc5-490d-b126-e1fa5a72fb11",
   "metadata": {},
   "outputs": [],
   "source": [
    "df_eval = pd.DataFrame({\n",
    "    'y_target': y_test,\n",
    "    'y_prediction': y_pred,\n",
    "    'predict_prob': y_pred_prob.flatten()\n",
    "})"
   ]
  },
  {
   "cell_type": "code",
   "execution_count": 69,
   "id": "20a85486-7996-481f-8ba9-b10b70aac723",
   "metadata": {},
   "outputs": [
    {
     "data": {
      "text/html": [
       "<div>\n",
       "<style scoped>\n",
       "    .dataframe tbody tr th:only-of-type {\n",
       "        vertical-align: middle;\n",
       "    }\n",
       "\n",
       "    .dataframe tbody tr th {\n",
       "        vertical-align: top;\n",
       "    }\n",
       "\n",
       "    .dataframe thead th {\n",
       "        text-align: right;\n",
       "    }\n",
       "</style>\n",
       "<table border=\"1\" class=\"dataframe\">\n",
       "  <thead>\n",
       "    <tr style=\"text-align: right;\">\n",
       "      <th></th>\n",
       "      <th>y_target</th>\n",
       "      <th>y_prediction</th>\n",
       "      <th>predict_prob</th>\n",
       "    </tr>\n",
       "  </thead>\n",
       "  <tbody>\n",
       "    <tr>\n",
       "      <th>0</th>\n",
       "      <td>1</td>\n",
       "      <td>1</td>\n",
       "      <td>0.994613</td>\n",
       "    </tr>\n",
       "    <tr>\n",
       "      <th>1</th>\n",
       "      <td>0</td>\n",
       "      <td>0</td>\n",
       "      <td>0.000954</td>\n",
       "    </tr>\n",
       "    <tr>\n",
       "      <th>2</th>\n",
       "      <td>1</td>\n",
       "      <td>1</td>\n",
       "      <td>0.997109</td>\n",
       "    </tr>\n",
       "    <tr>\n",
       "      <th>3</th>\n",
       "      <td>0</td>\n",
       "      <td>0</td>\n",
       "      <td>0.000078</td>\n",
       "    </tr>\n",
       "    <tr>\n",
       "      <th>4</th>\n",
       "      <td>1</td>\n",
       "      <td>1</td>\n",
       "      <td>0.999978</td>\n",
       "    </tr>\n",
       "  </tbody>\n",
       "</table>\n",
       "</div>"
      ],
      "text/plain": [
       "   y_target  y_prediction  predict_prob\n",
       "0         1             1      0.994613\n",
       "1         0             0      0.000954\n",
       "2         1             1      0.997109\n",
       "3         0             0      0.000078\n",
       "4         1             1      0.999978"
      ]
     },
     "execution_count": 69,
     "metadata": {},
     "output_type": "execute_result"
    }
   ],
   "source": [
    "df_eval.head()"
   ]
  },
  {
   "cell_type": "markdown",
   "id": "67305f6a-36a7-4a99-a681-0dd3c5b6bb2d",
   "metadata": {},
   "source": [
    "## Classification report\n",
    "Presents a summary of evaluation metrics per class, including precision, recall, F1-score, and the number of samples per class."
   ]
  },
  {
   "cell_type": "code",
   "execution_count": 70,
   "id": "bbc7e7dd-f10a-434d-a9f0-de0cc9a5cc25",
   "metadata": {},
   "outputs": [
    {
     "name": "stdout",
     "output_type": "stream",
     "text": [
      "\n",
      "Classification Report:\n",
      "              precision    recall  f1-score   support\n",
      "\n",
      "           0       0.97      0.98      0.98       100\n",
      "           1       0.98      0.97      0.97       100\n",
      "\n",
      "    accuracy                           0.97       200\n",
      "   macro avg       0.98      0.97      0.97       200\n",
      "weighted avg       0.98      0.97      0.97       200\n",
      "\n"
     ]
    }
   ],
   "source": [
    "print(\"\\nClassification Report:\")\n",
    "print(classification_report(y_test, y_pred))"
   ]
  },
  {
   "cell_type": "markdown",
   "id": "86dcec63-7f43-4a43-81d7-f53e6d2ed821",
   "metadata": {},
   "source": [
    "### Interpretation\n",
    "* Class 0 → precision of 0.97 and recall of 0.98 means the model rarely mispredicts class 0 and is able to capture almost all true class 0 data.\n",
    "* Class 1 → precision of 0.98 and recall of 0.97 shows comparable results, only slightly different from class 0.\n",
    "* A total accuracy of 97% indicates that out of 200 test data sets, only about 6 were misclassified.\n",
    "* The macro average and weighted average are nearly identical (≈0.98 precision, 0.97 recall, 0.97 F1), indicating a balanced distribution of data between classes and consistent model performance across both classes.\n",
    "* In short, the model is not biased toward either class and is able to provide accurate and balanced predictions with a very low error rate."
   ]
  },
  {
   "cell_type": "markdown",
   "id": "5257931b-1bb0-41c1-9c08-7b5e143fa03a",
   "metadata": {},
   "source": [
    "## Confusion matrix\n",
    "Shows the number of correct and incorrect predictions for each class in matrix form, and is visualized as a heatmap for easier interpretation."
   ]
  },
  {
   "cell_type": "code",
   "execution_count": 71,
   "id": "85d4398b-9d65-4479-96a9-4f0dc00dc5ef",
   "metadata": {},
   "outputs": [
    {
     "name": "stdout",
     "output_type": "stream",
     "text": [
      "\n",
      "Confusion Matrix:\n",
      "[[98  2]\n",
      " [ 3 97]]\n"
     ]
    }
   ],
   "source": [
    "cm = confusion_matrix(y_test, y_pred)\n",
    "print(\"\\nConfusion Matrix:\")\n",
    "print(cm)"
   ]
  },
  {
   "cell_type": "code",
   "execution_count": 72,
   "id": "97ae7a8f-078c-407f-bdad-e7182938b5b7",
   "metadata": {},
   "outputs": [
    {
     "data": {
      "image/png": "[encoded data removed]",
      "text/plain": [
       "<Figure size 500x400 with 1 Axes>"
      ]
     },
     "metadata": {},
     "output_type": "display_data"
    }
   ],
   "source": [
    "plt.figure(figsize=(5,4))\n",
    "sns.heatmap(cm, annot=True, fmt='d', cmap='Blues', cbar=False)\n",
    "plt.xlabel(\"Prediction\")\n",
    "plt.ylabel(\"Target\")\n",
    "plt.title(\"Confusion Matrix\")\n",
    "plt.show()"
   ]
  },
  {
   "cell_type": "markdown",
   "id": "ff447f6e-0118-41d0-b827-08972df083fb",
   "metadata": {},
   "source": [
    "### Interpretation\n",
    "* Of the 100 actual class 0 data sets, 98 were correctly predicted as class 0 (True Negative), and 2 were incorrectly predicted as class 1 (False Positive).\n",
    "* Of the 100 actual class 1 data sets, 97 were correctly predicted as class 1 (True Positive), and 3 were incorrectly predicted as class 0 (False Negative).\n",
    "* This means the model is very accurate, making only 5 errors out of a total of 200 predictions, and these errors are evenly distributed across classes, so there is no indication of significant bias."
   ]
  },
  {
   "cell_type": "markdown",
   "id": "a1fada66-73e6-458c-bb2f-ccbfd87983c7",
   "metadata": {},
   "source": [
    "## Decision Boundary\n",
    "Visualizes the classification area learned by the model, where each color represents a specific class prediction, thus showing the class boundaries and the actual distribution of data points."
   ]
  },
  {
   "cell_type": "code",
   "execution_count": 73,
   "id": "9b4a3d64-2aec-45a6-a165-c9d3d830df0c",
   "metadata": {},
   "outputs": [
    {
     "name": "stdout",
     "output_type": "stream",
     "text": [
      "\u001b[1m5460/5460\u001b[0m \u001b[32m━━━━━━━━━━━━━━━━━━━━\u001b[0m\u001b[37m\u001b[0m \u001b[1m5s\u001b[0m 931us/step\n"
     ]
    },
    {
     "data": {
      "image/png": "[encoded data removed]",
      "text/plain": [
       "<Figure size 600x500 with 1 Axes>"
      ]
     },
     "metadata": {},
     "output_type": "display_data"
    }
   ],
   "source": [
    "x_min, x_max = X[:,0].min() - 0.5, X[:,0].max() + 0.5\n",
    "y_min, y_max = X[:,1].min() - 0.5, X[:,1].max() + 0.5\n",
    "xx, yy = np.meshgrid(np.arange(x_min, x_max, 0.01),\n",
    "                     np.arange(y_min, y_max, 0.01))\n",
    "\n",
    "Z = model_clf_bin.predict(scaler.transform(np.c_[xx.ravel(), yy.ravel()]))\n",
    "Z = (Z > 0.5).astype(int).reshape(xx.shape)\n",
    "\n",
    "plt.figure(figsize=(6,5))\n",
    "plt.contourf(xx, yy, Z, cmap=plt.cm.Pastel1, alpha=0.8)\n",
    "plt.scatter(X_test[:,0], X_test[:,1], c=y_test, cmap=plt.cm.coolwarm, edgecolors='k')\n",
    "plt.title(\"Decision Boundary ANN (Binary Classification)\")\n",
    "plt.xlabel(\"Feature 1\")\n",
    "plt.ylabel(\"Feature 2\")\n",
    "plt.show()"
   ]
  },
  {
   "cell_type": "markdown",
   "id": "45544ac1-def5-4b84-9ef3-31e7cc08bfc9",
   "metadata": {},
   "source": [
    "### Interpretation\n",
    "* This plot shows how the ANN model separates the two classes in the make_moons dataset.\n",
    "* The pink background color indicates the area predicted as class 1, while the light gray color indicates the area predicted as class 0.\n",
    "* The blue dots represent the target class 0 data, and the dark red dots represent the target class 1 data.\n",
    "* The decision boundary appears curved and follows the pattern of the data, demonstrating the ANN's ability to capture non-linear relationships.\n",
    "* While most of the points fall in the correct area, a few fall in the opposite class area, indicating prediction errors, especially near the decision boundary.\n",
    "* This is understandable given the convoluted and overlapping distribution of the make_moons data."
   ]
  },
  {
   "cell_type": "markdown",
   "id": "df116172-79ef-4e50-9a36-cb5787f0951b",
   "metadata": {},
   "source": [
    "# ANN with Keras - Multi-Class Classification (Dataset: Iris)\n",
    "Creating a Keras-based artificial neural network model to classify iris flowers into three species based on the length and width of petals and sepals."
   ]
  },
  {
   "cell_type": "markdown",
   "id": "277b87f1-f609-4674-9465-90578a8996bb",
   "metadata": {},
   "source": [
    "## Load dataset\n",
    "Loads the Iris dataset available in scikit-learn, containing 150 samples with 4 numeric features and class labels of 0, 1, or 2."
   ]
  },
  {
   "cell_type": "code",
   "execution_count": 2,
   "id": "e8ff6569-af96-4ae4-8e0a-966d3b0b267d",
   "metadata": {},
   "outputs": [],
   "source": [
    "iris = load_iris()\n",
    "X = iris.data\n",
    "y = iris.target.reshape(-1, 1)"
   ]
  },
  {
   "cell_type": "markdown",
   "id": "d8ac65e0-14b7-490a-8421-883df07e2bc1",
   "metadata": {},
   "source": [
    "## Encoding\n",
    "Converts the class labels (0, 1, 2) into a one-hot encoded format for use in multi-class models, where each class is represented as a binary vector."
   ]
  },
  {
   "cell_type": "code",
   "execution_count": 3,
   "id": "9f64b630-8660-4c89-8390-71d3455b6519",
   "metadata": {},
   "outputs": [],
   "source": [
    "encoder = OneHotEncoder()\n",
    "y_encoded = encoder.fit_transform(y).toarray()"
   ]
  },
  {
   "cell_type": "markdown",
   "id": "62641687-4307-4f29-a577-5401609fc2d6",
   "metadata": {},
   "source": [
    "## Split data\n",
    "Divide the data into a training set and a test set to separate the data used to build the model and to evaluate it."
   ]
  },
  {
   "cell_type": "code",
   "execution_count": 4,
   "id": "f0515d9b-6ac1-4379-9b46-1439855e1005",
   "metadata": {},
   "outputs": [],
   "source": [
    "X_train, X_test, y_train, y_test = train_test_split(X, y_encoded, test_size=0.2, random_state=42)"
   ]
  },
  {
   "cell_type": "markdown",
   "id": "9a86d186-0122-4526-950b-916ee802e37c",
   "metadata": {},
   "source": [
    "## Data Scaling\n",
    "Standardizing features to have a distribution with a mean of 0 and a standard deviation of 1 helps the ANN model learn more effectively."
   ]
  },
  {
   "cell_type": "code",
   "execution_count": 5,
   "id": "e2d4e805-812a-475a-9320-c6025820c962",
   "metadata": {},
   "outputs": [],
   "source": [
    "scaler = StandardScaler()\n",
    "X_train = scaler.fit_transform(X_train)\n",
    "X_test = scaler.transform(X_test)"
   ]
  },
  {
   "cell_type": "markdown",
   "id": "9539ed7e-047b-46e9-8b03-7e4a8a26c1a5",
   "metadata": {},
   "source": [
    "## Multi-class Model\n",
    "Building an ANN architecture with Keras for multi-class classification, using Dense layers with ReLU activation in the hidden layer and Softmax in the output layer to generate probabilities for each class."
   ]
  },
  {
   "cell_type": "code",
   "execution_count": 6,
   "id": "bf577c82-a499-4337-b2de-d8c9882d5787",
   "metadata": {},
   "outputs": [],
   "source": [
    "model_clf_multi = keras.Sequential([\n",
    "    layers.Input(shape=(X_train.shape[1],)), \n",
    "    layers.Dense(64, activation='relu'),\n",
    "    layers.Dense(32, activation='relu'),\n",
    "    layers.Dense(3, activation='softmax')\n",
    "])"
   ]
  },
  {
   "cell_type": "markdown",
   "id": "88a8451f-d7fe-46e5-ae7a-3e2e310bb368",
   "metadata": {},
   "source": [
    "## Multi-class model learning\n",
    "Train a model on the training data with the `categorical_crossentropy` loss function and an optimizer like Adam, while monitoring accuracy on the training and validation data."
   ]
  },
  {
   "cell_type": "code",
   "execution_count": 7,
   "id": "d14006fd-a259-461b-8fa7-6a79b8a55292",
   "metadata": {},
   "outputs": [],
   "source": [
    "model_clf_multi.compile(optimizer='adam', loss='categorical_crossentropy', metrics=['accuracy'])\n",
    "\n",
    "history_multi = model_clf_multi.fit(X_train, y_train, validation_split=0.2, epochs=100, verbose=0)"
   ]
  },
  {
   "cell_type": "markdown",
   "id": "62906b70-80aa-4cfc-ba8f-d3d2c2c2cb4b",
   "metadata": {},
   "source": [
    "## Evaluation\n",
    "Measure the model's performance on test data using metrics such as accuracy to see how well the model classifies data it has never seen before."
   ]
  },
  {
   "cell_type": "code",
   "execution_count": 8,
   "id": "173daf2a-aa66-436e-a293-c1b440db26c5",
   "metadata": {},
   "outputs": [
    {
     "name": "stdout",
     "output_type": "stream",
     "text": [
      "Accuracy: 0.9667\n"
     ]
    }
   ],
   "source": [
    "loss, acc = model_clf_multi.evaluate(X_test, y_test, verbose=0)\n",
    "print(f\"Accuracy: {acc:.4f}\")"
   ]
  },
  {
   "cell_type": "markdown",
   "id": "14f5d2d9-211f-4348-ac17-05a17bfa8eca",
   "metadata": {},
   "source": [
    "An accuracy of 0.9667 means that the model successfully predicted approximately 96.67% of all samples in the test data, indicating excellent classification performance."
   ]
  },
  {
   "cell_type": "markdown",
   "id": "2dd63ae4-fcc4-4d83-8726-baa06284f2ca",
   "metadata": {},
   "source": [
    "## Accuracy Plot\n",
    "Visualizes the development of model accuracy during the training process to see patterns of performance improvement and indications of overfitting or underfitting."
   ]
  },
  {
   "cell_type": "code",
   "execution_count": 9,
   "id": "9c3b6b5e-70d9-4d2c-9983-cd24c88b2638",
   "metadata": {},
   "outputs": [
    {
     "data": {
      "image/png": "[encoded data removed]",
      "text/plain": [
       "<Figure size 640x480 with 1 Axes>"
      ]
     },
     "metadata": {},
     "output_type": "display_data"
    }
   ],
   "source": [
    "plt.plot(history_multi.history['accuracy'], label='Train Acc')\n",
    "plt.plot(history_multi.history['val_accuracy'], label='Val Acc')\n",
    "plt.title(\"Accuracy Curve - Multi-Class Classification\")\n",
    "plt.xlabel(\"Epoch\")\n",
    "plt.ylabel(\"Accuracy\")\n",
    "plt.legend()\n",
    "plt.show()"
   ]
  },
  {
   "cell_type": "markdown",
   "id": "2761357d-06b0-4e0b-9cc6-f496726153e9",
   "metadata": {},
   "source": [
    "### Interpretation\n",
    "* Early training (epochs < 20):\\\n",
    "Training and validation accuracy increased rapidly, from around 0.33 to the 0.85–0.88 range, indicating the model quickly captured basic patterns in the data.\n",
    "* Mid-training (epochs 20–60):\\\n",
    "Validation accuracy reached around 0.95 faster than training, then stabilized high with little fluctuation. The training curve continued to climb slowly, indicating the refinement of the model weights.\n",
    "* End of training (epochs > 60):\\\n",
    "Training accuracy approached 0.97–0.98, while validation accuracy remained consistently in the same range, with no significant drop. There was no indication of severe overfitting, only a small, but normal, difference between the two curves.\n",
    "* Overall, the model learned efficiently, maintaining a balance between accuracy on the training and validation data, thus maintaining its generalization ability."
   ]
  },
  {
   "cell_type": "markdown",
   "id": "925a3258-9719-4566-81e2-44f373161db1",
   "metadata": {},
   "source": [
    "## Prediction"
   ]
  },
  {
   "cell_type": "code",
   "execution_count": 10,
   "id": "e3de8c64-0f86-4515-b003-027343ce1189",
   "metadata": {},
   "outputs": [
    {
     "name": "stdout",
     "output_type": "stream",
     "text": [
      "\u001b[1m1/1\u001b[0m \u001b[32m━━━━━━━━━━━━━━━━━━━━\u001b[0m\u001b[37m\u001b[0m \u001b[1m0s\u001b[0m 80ms/step\n"
     ]
    }
   ],
   "source": [
    "y_pred_proba = model_clf_multi.predict(X_test)\n",
    "y_pred_classes = np.argmax(y_pred_proba, axis=1)\n",
    "y_test_classes = np.argmax(y_test, axis=1)  # because y_test is already one-hot encoded"
   ]
  },
  {
   "cell_type": "markdown",
   "id": "44c757f4-3b8f-41e3-b61b-3d479512d5f0",
   "metadata": {},
   "source": [
    "## Evaluation metrics"
   ]
  },
  {
   "cell_type": "code",
   "execution_count": 11,
   "id": "c94fdbf3-4774-477d-9e35-ff0d2802a75d",
   "metadata": {},
   "outputs": [
    {
     "name": "stdout",
     "output_type": "stream",
     "text": [
      "\n",
      "Classification Report:\n",
      "               precision    recall  f1-score   support\n",
      "\n",
      "           0       1.00      1.00      1.00        10\n",
      "           1       1.00      0.89      0.94         9\n",
      "           2       0.92      1.00      0.96        11\n",
      "\n",
      "    accuracy                           0.97        30\n",
      "   macro avg       0.97      0.96      0.97        30\n",
      "weighted avg       0.97      0.97      0.97        30\n",
      "\n"
     ]
    }
   ],
   "source": [
    "acc = accuracy_score(y_test_classes, y_pred_classes)\n",
    "print(\"\\nClassification Report:\\n\", classification_report(y_test_classes, y_pred_classes))"
   ]
  },
  {
   "cell_type": "markdown",
   "id": "1601f370-6e9c-4cf9-b5f5-fdce591ad640",
   "metadata": {},
   "source": [
    "### Interpretation\n",
    "* This classification report shows excellent model performance across all three classes (0, 1, and 2) in the Iris dataset.\n",
    "* Class 0 was perfectly predicted with a precision, recall, and f1-score of 1.00.\n",
    "* Class 1 had a precision of 1.00 but a slightly lower recall (0.89), indicating that a small percentage of class 1 samples were misclassified into another class.\n",
    "* Class 2, on the other hand, had a perfect recall (1.00) but the precision dropped slightly to 0.92, indicating that some class 2 samples were predicted to belong to another class.\n",
    "* The overall accuracy reached 0.97, meaning that 29 out of 30 samples in the test data were correctly classified.\n",
    "* The macro average and weighted average were both high (~0.97), indicating stable performance across all classes with no dominance in any particular class.\n",
    "* In other words, the model was able to recognize patterns between classes very well, although there were still small errors in classes 1 and 2."
   ]
  },
  {
   "cell_type": "markdown",
   "id": "9af6579f-c674-43d5-8df2-6f0e109182b7",
   "metadata": {},
   "source": [
    "## Confusion Matrix"
   ]
  },
  {
   "cell_type": "code",
   "execution_count": 12,
   "id": "7e321650-2a05-4f22-9876-85b620144e64",
   "metadata": {},
   "outputs": [
    {
     "data": {
      "image/png": "[encoded data removed]",
      "text/plain": [
       "<Figure size 500x400 with 1 Axes>"
      ]
     },
     "metadata": {},
     "output_type": "display_data"
    }
   ],
   "source": [
    "cm = confusion_matrix(y_test_classes, y_pred_classes)\n",
    "plt.figure(figsize=(5,4))\n",
    "sns.heatmap(cm, annot=True, fmt=\"d\", cmap=\"Blues\", cbar=False,\n",
    "            xticklabels=encoder.categories_[0],\n",
    "            yticklabels=encoder.categories_[0])\n",
    "plt.xlabel(\"Predicted\")\n",
    "plt.ylabel(\"True\")\n",
    "plt.title(\"Confusion Matrix\")\n",
    "plt.show()"
   ]
  },
  {
   "cell_type": "markdown",
   "id": "96a2b765-9af9-42bb-a504-9730fc7e7529",
   "metadata": {},
   "source": [
    "### Interpretation\n",
    "* This confusion matrix shows the performance of a multi-class classification model on the Iris dataset, with near-perfect results.\n",
    "* Class 0 → All 10 samples were successfully predicted as class 0 (no errors).\n",
    "* Class 1 → Of the 9 samples, 8 were correctly predicted as class 1, while 1 sample was incorrectly predicted as class 2.\n",
    "* Class 2 → All 11 samples were successfully predicted as class 2 (no errors).\n",
    "* There was only 1 misprediction across the entire test data, seen in the class 1 row.\n",
    "* High values on the main diagonal indicate that the model is very good at recognizing the patterns of each class, although there is some confusion between class 1 and class 2."
   ]
  },
  {
   "cell_type": "markdown",
   "id": "47d14357-801c-45f4-8b9c-c9182db9b3b9",
   "metadata": {},
   "source": [
    "## Target and prediction comparison table"
   ]
  },
  {
   "cell_type": "code",
   "execution_count": 13,
   "id": "46d09050-ac04-471c-9e64-ac0392447234",
   "metadata": {},
   "outputs": [],
   "source": [
    "df_eval = pd.DataFrame({\n",
    "    'Target': y_test_classes,\n",
    "    'Prediction': y_pred_classes\n",
    "})"
   ]
  },
  {
   "cell_type": "code",
   "execution_count": 14,
   "id": "dc1fab35-dfcf-49f0-9616-ddaf88429d4a",
   "metadata": {},
   "outputs": [
    {
     "data": {
      "text/html": [
       "<div>\n",
       "<style scoped>\n",
       "    .dataframe tbody tr th:only-of-type {\n",
       "        vertical-align: middle;\n",
       "    }\n",
       "\n",
       "    .dataframe tbody tr th {\n",
       "        vertical-align: top;\n",
       "    }\n",
       "\n",
       "    .dataframe thead th {\n",
       "        text-align: right;\n",
       "    }\n",
       "</style>\n",
       "<table border=\"1\" class=\"dataframe\">\n",
       "  <thead>\n",
       "    <tr style=\"text-align: right;\">\n",
       "      <th></th>\n",
       "      <th>Target</th>\n",
       "      <th>Prediction</th>\n",
       "    </tr>\n",
       "  </thead>\n",
       "  <tbody>\n",
       "    <tr>\n",
       "      <th>0</th>\n",
       "      <td>1</td>\n",
       "      <td>1</td>\n",
       "    </tr>\n",
       "    <tr>\n",
       "      <th>1</th>\n",
       "      <td>0</td>\n",
       "      <td>0</td>\n",
       "    </tr>\n",
       "    <tr>\n",
       "      <th>2</th>\n",
       "      <td>2</td>\n",
       "      <td>2</td>\n",
       "    </tr>\n",
       "    <tr>\n",
       "      <th>3</th>\n",
       "      <td>1</td>\n",
       "      <td>1</td>\n",
       "    </tr>\n",
       "    <tr>\n",
       "      <th>4</th>\n",
       "      <td>1</td>\n",
       "      <td>1</td>\n",
       "    </tr>\n",
       "    <tr>\n",
       "      <th>5</th>\n",
       "      <td>0</td>\n",
       "      <td>0</td>\n",
       "    </tr>\n",
       "    <tr>\n",
       "      <th>6</th>\n",
       "      <td>1</td>\n",
       "      <td>1</td>\n",
       "    </tr>\n",
       "    <tr>\n",
       "      <th>7</th>\n",
       "      <td>2</td>\n",
       "      <td>2</td>\n",
       "    </tr>\n",
       "    <tr>\n",
       "      <th>8</th>\n",
       "      <td>1</td>\n",
       "      <td>2</td>\n",
       "    </tr>\n",
       "    <tr>\n",
       "      <th>9</th>\n",
       "      <td>1</td>\n",
       "      <td>1</td>\n",
       "    </tr>\n",
       "    <tr>\n",
       "      <th>10</th>\n",
       "      <td>2</td>\n",
       "      <td>2</td>\n",
       "    </tr>\n",
       "    <tr>\n",
       "      <th>11</th>\n",
       "      <td>0</td>\n",
       "      <td>0</td>\n",
       "    </tr>\n",
       "    <tr>\n",
       "      <th>12</th>\n",
       "      <td>0</td>\n",
       "      <td>0</td>\n",
       "    </tr>\n",
       "    <tr>\n",
       "      <th>13</th>\n",
       "      <td>0</td>\n",
       "      <td>0</td>\n",
       "    </tr>\n",
       "    <tr>\n",
       "      <th>14</th>\n",
       "      <td>0</td>\n",
       "      <td>0</td>\n",
       "    </tr>\n",
       "    <tr>\n",
       "      <th>15</th>\n",
       "      <td>1</td>\n",
       "      <td>1</td>\n",
       "    </tr>\n",
       "    <tr>\n",
       "      <th>16</th>\n",
       "      <td>2</td>\n",
       "      <td>2</td>\n",
       "    </tr>\n",
       "    <tr>\n",
       "      <th>17</th>\n",
       "      <td>1</td>\n",
       "      <td>1</td>\n",
       "    </tr>\n",
       "    <tr>\n",
       "      <th>18</th>\n",
       "      <td>1</td>\n",
       "      <td>1</td>\n",
       "    </tr>\n",
       "    <tr>\n",
       "      <th>19</th>\n",
       "      <td>2</td>\n",
       "      <td>2</td>\n",
       "    </tr>\n",
       "    <tr>\n",
       "      <th>20</th>\n",
       "      <td>0</td>\n",
       "      <td>0</td>\n",
       "    </tr>\n",
       "    <tr>\n",
       "      <th>21</th>\n",
       "      <td>2</td>\n",
       "      <td>2</td>\n",
       "    </tr>\n",
       "    <tr>\n",
       "      <th>22</th>\n",
       "      <td>0</td>\n",
       "      <td>0</td>\n",
       "    </tr>\n",
       "    <tr>\n",
       "      <th>23</th>\n",
       "      <td>2</td>\n",
       "      <td>2</td>\n",
       "    </tr>\n",
       "    <tr>\n",
       "      <th>24</th>\n",
       "      <td>2</td>\n",
       "      <td>2</td>\n",
       "    </tr>\n",
       "    <tr>\n",
       "      <th>25</th>\n",
       "      <td>2</td>\n",
       "      <td>2</td>\n",
       "    </tr>\n",
       "    <tr>\n",
       "      <th>26</th>\n",
       "      <td>2</td>\n",
       "      <td>2</td>\n",
       "    </tr>\n",
       "    <tr>\n",
       "      <th>27</th>\n",
       "      <td>2</td>\n",
       "      <td>2</td>\n",
       "    </tr>\n",
       "    <tr>\n",
       "      <th>28</th>\n",
       "      <td>0</td>\n",
       "      <td>0</td>\n",
       "    </tr>\n",
       "    <tr>\n",
       "      <th>29</th>\n",
       "      <td>0</td>\n",
       "      <td>0</td>\n",
       "    </tr>\n",
       "  </tbody>\n",
       "</table>\n",
       "</div>"
      ],
      "text/plain": [
       "    Target  Prediction\n",
       "0        1           1\n",
       "1        0           0\n",
       "2        2           2\n",
       "3        1           1\n",
       "4        1           1\n",
       "5        0           0\n",
       "6        1           1\n",
       "7        2           2\n",
       "8        1           2\n",
       "9        1           1\n",
       "10       2           2\n",
       "11       0           0\n",
       "12       0           0\n",
       "13       0           0\n",
       "14       0           0\n",
       "15       1           1\n",
       "16       2           2\n",
       "17       1           1\n",
       "18       1           1\n",
       "19       2           2\n",
       "20       0           0\n",
       "21       2           2\n",
       "22       0           0\n",
       "23       2           2\n",
       "24       2           2\n",
       "25       2           2\n",
       "26       2           2\n",
       "27       2           2\n",
       "28       0           0\n",
       "29       0           0"
      ]
     },
     "execution_count": 14,
     "metadata": {},
     "output_type": "execute_result"
    }
   ],
   "source": [
    "df_eval"
   ]
  },
  {
   "cell_type": "markdown",
   "id": "c310967f-6ad8-4566-b5af-e4e283a7ef24",
   "metadata": {},
   "source": [
    "## Prediction and target plots"
   ]
  },
  {
   "cell_type": "code",
   "execution_count": 15,
   "id": "3e1cccd0-56b6-4320-8ccc-3333577b60bb",
   "metadata": {},
   "outputs": [
    {
     "data": {
      "image/png": "[encoded data removed]",
      "text/plain": [
       "<Figure size 600x400 with 1 Axes>"
      ]
     },
     "metadata": {},
     "output_type": "display_data"
    }
   ],
   "source": [
    "plt.figure(figsize=(6,4))\n",
    "plt.scatter(range(len(y_test_classes)), y_test_classes, label=\"Target\", alpha=0.7)\n",
    "plt.scatter(range(len(y_pred_classes)), y_pred_classes, label=\"Prediction\", alpha=0.7)\n",
    "plt.legend()\n",
    "plt.title(\"Prediction vs Target (Iris)\")\n",
    "plt.xlabel(\"Sample Index\")\n",
    "plt.ylabel(\"Class\")\n",
    "plt.show()"
   ]
  },
  {
   "cell_type": "markdown",
   "id": "13a4e612-d187-41fc-9d79-4b52655a1eab",
   "metadata": {},
   "source": [
    "### Interpretation\n",
    "* This Prediction vs. Target plot shows the comparison between the actual classes (blue) and the model-predicted classes (orange) on the Iris dataset.\n",
    "* Nearly all predicted points (orange) perfectly overlap with the target (blue), indicating the model predicted with very high accuracy.\n",
    "* There is only one non-overlapping point, seen in class 1 (blue label), which was predicted as class 2 (orange label).\n",
    "* The class distribution pattern is neat, indicating the data is well-separated enough for the model to learn it well.\n",
    "* Overall, this plot confirms that the model is nearly perfect at recognizing the patterns of each class, with very minimal errors."
   ]
  },
  {
   "cell_type": "markdown",
   "id": "190308d1-5d19-48eb-97a1-4e1812527691",
   "metadata": {},
   "source": [
    "## Conclusion\n",
    "The final results of this project demonstrate the flexibility and power of ANNs in learning data patterns, for both binary and multi-class classification. In the make_moons case, the model achieved high accuracy despite the complex distribution of the data, while on the Iris dataset, the model achieved excellent performance on the test data, with no misclassifications. Visualizations such as the accuracy curve, decision boundary, and prediction vs. target not only highlight the model's performance but also provide an intuitive understanding of how the ANN makes decisions.\n",
    "\n",
    "This project not only demonstrated the ANN's ability to solve classification problems but also provided a comprehensive understanding of the machine learning workflow, from data preparation to result interpretation. In the future, similar models can be developed for more complex datasets, adding layers or neurons to increase capacity, or combining them with regularization techniques to address potential overfitting. With this foundation, the next step is to expand the application of ANNs to various real-world domains that require intelligent, data-driven decisions."
   ]
  },
  {
   "cell_type": "markdown",
   "id": "59c0508e-f754-4561-81e0-8f8560373e49",
   "metadata": {},
   "source": [
    "# Thank You"
   ]
  }
 ],
 "metadata": {
  "kernelspec": {
   "display_name": "Python 3 (ipykernel)",
   "language": "python",
   "name": "python3"
  },
  "language_info": {
   "codemirror_mode": {
    "name": "ipython",
    "version": 3
   },
   "file_extension": ".py",
   "mimetype": "text/x-python",
   "name": "python",
   "nbconvert_exporter": "python",
   "pygments_lexer": "ipython3",
   "version": "3.13.5"
  }
 },
 "nbformat": 4,
 "nbformat_minor": 5
}
