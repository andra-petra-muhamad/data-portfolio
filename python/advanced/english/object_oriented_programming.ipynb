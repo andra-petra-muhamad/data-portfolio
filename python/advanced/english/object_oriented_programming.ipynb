{
 "cells": [
  {
   "cell_type": "markdown",
   "id": "6fc52218-832b-40df-b688-cdd253d6c4cb",
   "metadata": {},
   "source": [
    "# Object-Oriented Programming (OOP)\n",
    "Object-Oriented Programming (OOP) is a paradigm that views software as a collection of independent, interacting objects. Each object combines data and behavior, allowing it to naturally represent both real-world entities and abstract concepts. With its core pillars of abstraction, encapsulation, inheritance, and polymorphism, OOP facilitates the design of modular, extensible, and reusable systems. This approach also paves the way for scalable architectures, efficient team collaboration, and the integration of advanced concepts such as object relationships, metaclasses, and design patterns to elegantly solve complex problems."
   ]
  },
  {
   "cell_type": "markdown",
   "id": "90a7ff5f-fbbe-4c60-a40b-c9c08134487b",
   "metadata": {},
   "source": [
    "# Abstraction\n",
    "Abstraction is the technique of hiding implementation details and exposing only essential functionality to the user.\n",
    "\n",
    "Abstraction is a way of viewing an object only from the perspective that matters to us, while hiding unnecessary details. In object-oriented programming, this means simply defining what an object can do without explaining how it does it. This way, we can work with clear and simple concepts, while leaving the technical details to the parts responsible for implementing them.\n",
    "\n",
    "Think of a vehicle. We know it can run, stop, and turn, but we don't need to think about how the engine works every time we want to use it. Similarly, in code, abstraction gives us a framework for interacting with objects through predefined behaviors, without having to understand or change the underlying mechanisms."
   ]
  },
  {
   "cell_type": "markdown",
   "id": "df4b74dd-8acb-4d3a-99b6-fd1e1ecd79ce",
   "metadata": {},
   "source": [
    "## Payment System Case Study\n",
    "In this example, the concept of abstraction is used to design a flexible and extensible payment system. The `Payment` class is defined as an abstract class that defines the `pay` method without providing detailed implementation. With this approach, each type of payment method is required to have the same behavior, namely the ability to pay any amount, but is free to determine its own implementation method.\n",
    "\n",
    "The `CreditCardPayment` and `EWalletPayment` classes are derived from `Payment`, implementing the pay method according to their respective mechanisms. When a `CreditCardPayment` object is called to make a payment, the system executes the process defined within it without affecting or depending on other payment types.\n",
    "\n",
    "This structure allows the addition of new payment methods, such as `BankTransferPayment` or `CryptoPayment`, without changing existing code. This is the power of OOP: we build a stable framework while remaining open to future development."
   ]
  },
  {
   "cell_type": "code",
   "execution_count": 4,
   "id": "5fbc9012-e104-457a-bdac-f051d64c1342",
   "metadata": {},
   "outputs": [],
   "source": [
    "from abc import ABC, abstractmethod\n",
    "\n",
    "class Payment(ABC):\n",
    "    @abstractmethod\n",
    "    def pay(self, amount):\n",
    "        pass\n",
    "\n",
    "class CreditCardPayment(Payment):\n",
    "    def pay(self, amount):\n",
    "        print(f\"Paying {amount} using Credit Card.\")\n",
    "\n",
    "class EWalletPayment(Payment):\n",
    "    def pay(self, amount):\n",
    "        print(f\"Paying {amount} using E-Wallet.\")\n",
    "\n",
    "class BankTransferPayment(Payment):\n",
    "    def pay(self, amount):\n",
    "        print(f\"Paying {amount} via Bank Transfer.\")\n",
    "\n",
    "class CryptoPayment(Payment):\n",
    "    def pay(self, amount):\n",
    "        print(f\"Paying {amount} with Cryptocurrency.\")\n",
    "\n",
    "class QRISPayment(Payment):\n",
    "    def pay(self, amount):\n",
    "        print(f\"Paying {amount} using QRIS.\")\n",
    "\n",
    "class VoucherPayment(Payment):\n",
    "    def pay(self, amount):\n",
    "        print(f\"Paying {amount} using Voucher.\")"
   ]
  },
  {
   "cell_type": "markdown",
   "id": "1f352a45-6658-4d32-a316-c2034612e165",
   "metadata": {},
   "source": [
    "Use"
   ]
  },
  {
   "cell_type": "code",
   "execution_count": 5,
   "id": "e628535a-dc35-4e94-b01b-00f631a8e4ec",
   "metadata": {},
   "outputs": [
    {
     "name": "stdout",
     "output_type": "stream",
     "text": [
      "Paying 50000 using Credit Card.\n",
      "Paying 50000 using E-Wallet.\n",
      "Paying 50000 via Bank Transfer.\n",
      "Paying 50000 with Cryptocurrency.\n",
      "Paying 50000 using QRIS.\n",
      "Paying 50000 using Voucher.\n"
     ]
    }
   ],
   "source": [
    "payments = [\n",
    "    CreditCardPayment(),\n",
    "    EWalletPayment(),\n",
    "    BankTransferPayment(),\n",
    "    CryptoPayment(),\n",
    "    QRISPayment(),\n",
    "    VoucherPayment()\n",
    "]\n",
    "\n",
    "for method in payments:\n",
    "    method.pay(50000)"
   ]
  },
  {
   "cell_type": "markdown",
   "id": "279f95dd-1712-4c08-8f84-fc373986cc78",
   "metadata": {},
   "source": [
    "With abstraction, the `Checkout` code doesn't need to know what payment method is being used.\n",
    "It simply calls `.pay(amount)`, and the implementation details are handled by the respective subclasses."
   ]
  },
  {
   "cell_type": "markdown",
   "id": "8ef22507-e7c6-4ac6-bc8b-89e140969b3c",
   "metadata": {},
   "source": [
    "# Encapsulation\n",
    "Encapsulation protects data by restricting direct access to attributes and methods.\n",
    "\n",
    "Encapsulation is the principle of combining data and the behavior that processes it into a single entity, while simultaneously restricting direct access from the outside. Like a box with buttons and levers on its surface, we can only interact through the provided interface without knowing or tampering with the contents inside. This method protects data from unwanted changes, maintains behavioral consistency, and gives developers the freedom to change the internals without disrupting how it is used from the outside.\n",
    "\n",
    "In everyday life, we often utilize encapsulation without realizing it. For example, when using a mobile phone, we simply touch the screen or press a button, without needing to understand how the operating system processes those commands or how the hardware works. Similarly, in OOP, encapsulation makes interacting with objects simple, safe, and predictable, even though the underlying logic can be quite complex."
   ]
  },
  {
   "cell_type": "markdown",
   "id": "e30a0ef0-ae66-446c-a1e6-c683b7ddde28",
   "metadata": {},
   "source": [
    "## Bank Account Case Study\n",
    "This example illustrates the principle of encapsulation in OOP. The `BankAccoun` class has a private `__balance` attribute, making it inaccessible or unmodified from outside the class. This protection ensures that sensitive data, such as the balance, can only be changed through provided methods, such as `deposit`.\n",
    "\n",
    "This way, all balance changes can be controlled and validated beforehand, for example, ensuring that the deposit amount is always positive. Access to the balance is granted through the `get_balance` method, so the information remains visible without the risk of direct manipulation.\n",
    "\n",
    "This approach protects data integrity, minimizes errors caused by unauthorized access, and keeps business logic consistent across the system. In the real world, this principle is crucial in financial systems, where data security and accuracy are top priorities."
   ]
  },
  {
   "cell_type": "code",
   "execution_count": 6,
   "id": "253d4ea0-d289-4109-be3e-320846e57686",
   "metadata": {},
   "outputs": [],
   "source": [
    "class BankAccount:\n",
    "    def __init__(self, owner, balance):\n",
    "        self.owner = owner\n",
    "        self.__balance = balance  # private attributes\n",
    "\n",
    "    def deposit(self, amount):\n",
    "        if amount > 0:\n",
    "            self.__balance += amount\n",
    "        else:\n",
    "            print(\"Deposit must be positive.\")\n",
    "\n",
    "    def get_balance(self):\n",
    "        return self.__balance\n"
   ]
  },
  {
   "cell_type": "markdown",
   "id": "78252244-6f9d-46c4-b70a-9c7ff6096fff",
   "metadata": {},
   "source": [
    "Use"
   ]
  },
  {
   "cell_type": "code",
   "execution_count": 7,
   "id": "00c90432-82f9-4925-892d-18dad425be7f",
   "metadata": {},
   "outputs": [
    {
     "name": "stdout",
     "output_type": "stream",
     "text": [
      "150000\n"
     ]
    }
   ],
   "source": [
    "acc = BankAccount(\"Andra\", 100000)\n",
    "acc.deposit(50000)\n",
    "print(acc.get_balance())"
   ]
  },
  {
   "cell_type": "markdown",
   "id": "1e72d206-7e86-43bb-ac92-34ac5023c68e",
   "metadata": {},
   "source": [
    "Encapsulation protects the balance from being directly modified, thus keeping the data secure."
   ]
  },
  {
   "cell_type": "markdown",
   "id": "2890d5ba-9543-4639-af23-4ef90cddaca7",
   "metadata": {},
   "source": [
    "# Inheritance\n",
    "Inheritance allows one class to inherit the attributes and methods of another class.\n",
    "\n",
    "Inheritance is a mechanism by which a class can inherit the properties and behaviors of another class, eliminating the need to rewrite existing code. This allows us to build a hierarchy that describes the \"is\" relationship between objects. A parent class defines general characteristics, while derived classes add or modify details as needed.\n",
    "\n",
    "A simple example is the relationship between animals in general and specific types of animals. The \"Animal\" class might have properties like breathing and moving, and the \"Bird\" class that inherits it would retain those properties but also add the ability to fly. Through inheritance, we can create a structured design, reduce repetition, and simplify code management, especially as systems become larger and more complex."
   ]
  },
  {
   "cell_type": "markdown",
   "id": "13d880ae-9323-4f3d-a8f6-6a6c2985fe0d",
   "metadata": {},
   "source": [
    "## Vehicle Case Study\n",
    "This example demonstrates the application of inheritance and polymorphism in OOP. The `Vehicle` class acts as a parent class with a brand attribute and a common `move` method. Two derived classes, `Car` and `Bike`, inherit this basic structure but each modify the behavior of the `move` method to suit their own characteristics.\n",
    "\n",
    "Through inheritance, we can avoid rewriting the same code for common attributes and behavior, while polymorphism allows each object to respond to the same method differently. When `move` is called on a `Car` object, the result will be a message that the car is moving, while on a `Bike` object, the message will be tailored to the bicycle.\n",
    "\n",
    "This structure simplifies the development of systems with multiple object types with similar but specific behaviors. We can simply add a new class that inherits from `Vehicle` to extend the vehicle class without changing the existing core logic."
   ]
  },
  {
   "cell_type": "code",
   "execution_count": 8,
   "id": "3ac5287e-1586-4c33-a7b5-6cc21810cdb6",
   "metadata": {},
   "outputs": [],
   "source": [
    "class Vehicle:\n",
    "    def __init__(self, brand):\n",
    "        self.brand = brand\n",
    "\n",
    "    def move(self):\n",
    "        print(\"Moving...\")\n",
    "\n",
    "class Car(Vehicle):\n",
    "    def move(self):\n",
    "        print(f\"{self.brand} car is driving.\")\n",
    "\n",
    "class Bike(Vehicle):\n",
    "    def move(self):\n",
    "        print(f\"{self.brand} bike is riding.\")"
   ]
  },
  {
   "cell_type": "markdown",
   "id": "facdeafa-5b86-43aa-8680-7c1294cc82e9",
   "metadata": {},
   "source": [
    "Use"
   ]
  },
  {
   "cell_type": "code",
   "execution_count": 9,
   "id": "aec2ce7c-adb3-463b-ac7d-8d2fea7bc391",
   "metadata": {},
   "outputs": [
    {
     "name": "stdout",
     "output_type": "stream",
     "text": [
      "Toyota car is driving.\n"
     ]
    }
   ],
   "source": [
    "v1 = Car(\"Toyota\")\n",
    "v1.move()"
   ]
  },
  {
   "cell_type": "markdown",
   "id": "5b171254-8189-4db9-8d7b-1a0c25ce4086",
   "metadata": {},
   "source": [
    "With inheritance, we can create many types of vehicles without rewriting the `brand` attribute."
   ]
  },
  {
   "cell_type": "markdown",
   "id": "7446710c-ba57-4f03-a276-f7a6cf0cfd03",
   "metadata": {},
   "source": [
    "# Polymorphism\n",
    "Polymorphism allows the same method to be called on different objects with different results.\n",
    "\n",
    "Polymorphism is the ability of different objects to respond to the same command in their own ways. In OOP, this concept allows us to use a single, consistent interface for different types of objects, even if the underlying implementations are different. This makes the code more flexible, extensible, and able to adapt to changes without disrupting the existing structure.\n",
    "\n",
    "Imagine a trainer giving the command \"move\" to different animals. A bird will fly, a fish will swim, and a horse will run. The command is the same, but each animal executes it according to its own capabilities. The same principle applies in code: a single method can be called on multiple objects, and each object will determine how the command is executed."
   ]
  },
  {
   "cell_type": "markdown",
   "id": "74c82a58-c555-402c-8aff-63143bc3d846",
   "metadata": {},
   "source": [
    "## Zoo Case Study\n",
    "This example demonstrates the concept of polymorphism, where different objects can respond to the same message in different ways. The `Animal` class serves as a base class that defines the `sound` method without a specific implementation, giving its derived classes the freedom to define their own sounds.\n",
    "\n",
    "`Dog` and `Cat` inherit the structure from `Animal`, but implement the `sound` method according to their own nature. When the method is called on a `Dog` object, the result is `“Woof!”`, while on a `Cat` object, the result is `“Meow!”`. These different behaviors are generated by methods with the same name, so the caller does not need to know the details of the object type to get the correct response.\n",
    "\n",
    "This approach is particularly useful in large-scale systems, such as zoo simulations or educational games, where each animal has unique behavior but can be processed uniformly through a common interface."
   ]
  },
  {
   "cell_type": "code",
   "execution_count": 10,
   "id": "6bead594-e10c-4a39-ba18-9948605219b8",
   "metadata": {},
   "outputs": [],
   "source": [
    "class Animal:\n",
    "    def sound(self):\n",
    "        pass\n",
    "\n",
    "class Dog(Animal):\n",
    "    def sound(self):\n",
    "        return \"Woof!\"\n",
    "\n",
    "class Cat(Animal):\n",
    "    def sound(self):\n",
    "        return \"Meow!\"\n"
   ]
  },
  {
   "cell_type": "markdown",
   "id": "5202652b-4214-4930-a343-d563523bb5ed",
   "metadata": {},
   "source": [
    "Use"
   ]
  },
  {
   "cell_type": "code",
   "execution_count": 11,
   "id": "029990b8-8d50-4ef4-918f-1aefd64081d5",
   "metadata": {},
   "outputs": [
    {
     "name": "stdout",
     "output_type": "stream",
     "text": [
      "Woof!\n",
      "Meow!\n"
     ]
    }
   ],
   "source": [
    "animals = [Dog(), Cat()]\n",
    "for animal in animals:\n",
    "    print(animal.sound())"
   ]
  },
  {
   "cell_type": "markdown",
   "id": "7aef5c34-43cc-4331-bf9e-67d6414f3f90",
   "metadata": {},
   "source": [
    "Polymorphism makes code flexible: we can add new animals without changing the loop logic."
   ]
  },
  {
   "cell_type": "markdown",
   "id": "20ca3820-d5fe-458b-86bd-262c529974e6",
   "metadata": {},
   "source": [
    "# Relationships Between Objects\n",
    "In OOP, objects can interact with each other through relationships. Some of the main relationship types are:\n",
    "1. Association – A general relationship between two objects (e.g., a lecturer teaches a student).\n",
    "2. Aggregation – An object is composed of other objects, but the constituent objects can stand alone (e.g., a team consists of players).\n",
    "3. Composition – An object is composed of other objects that cannot stand alone (e.g., a house has a door).\n",
    "\n",
    "In OOP-based systems, objects rarely stand alone. Most are interconnected and work together to achieve a specific goal. Relationships between objects describe how one object interacts with or depends on another object. These relationships can be loose, where objects only know each other to exchange information, or tight, where one object is completely part of another.\n",
    "\n",
    "For example, in an online store application, a Customer object might have a relationship with an Order, and an Order might have a relationship with a Product. Some relationships are simply mutually exclusive, such as a customer ordering a specific product, while others are stronger, such as an order not existing without its product list. Understanding the relationships between objects helps us design a structured system architecture, minimize unnecessary dependencies, and simplify future development."
   ]
  },
  {
   "cell_type": "markdown",
   "id": "16853964-0d99-4bbd-9d7a-969f0a5f6ae7",
   "metadata": {},
   "source": [
    "## Library System Case Study\n",
    "This example summarizes three forms of relationships between objects frequently used in OOP: association, aggregation, and composition.\n",
    "\n",
    "In an association, a relationship is formed between two objects that know each other but can still exist independently. The `Book` class has a reference to the `Author` object, allowing it to display complete information about the title and author. However, both `Book` and `Author` can exist without being completely dependent on each other.\n",
    "\n",
    "In an aggregation, the relationship is loosely coupled. The `Team` class maintains a list of `Players` that can be added or removed at any time. `Players` are not permanently attached to the `team`—they can move to another `team` or remain even if the `team` is disbanded.\n",
    "\n",
    "Meanwhile, composition demonstrates a much tighter, interdependent relationship. In the `House` class, the `Door` object is created directly within the constructor and becomes an integral part of the house. If the house is deleted, the door disappears as well. This relationship demonstrates the inseparable, full ownership between the parent object and its sub-objects.\n",
    "\n",
    "This example demonstrates the different levels of cohesion between objects in OOP, which play a crucial role in building a structured, flexible, and manageable software architecture."
   ]
  },
  {
   "cell_type": "code",
   "execution_count": 12,
   "id": "80b452c6-be8e-456f-a234-4a670411f95f",
   "metadata": {},
   "outputs": [],
   "source": [
    "# Association\n",
    "class Author:\n",
    "    def __init__(self, name):\n",
    "        self.name = name\n",
    "\n",
    "class Book:\n",
    "    def __init__(self, title, author: Author):\n",
    "        self.title = title\n",
    "        self.author = author  # association\n",
    "\n",
    "    def info(self):\n",
    "        return f\"{self.title} by {self.author.name}\"\n",
    "\n",
    "# Aggregation\n",
    "class Team:\n",
    "    def __init__(self, name):\n",
    "        self.name = name\n",
    "        self.members = []  # aggregation\n",
    "\n",
    "    def add_member(self, player):\n",
    "        self.members.append(player)\n",
    "\n",
    "class Player:\n",
    "    def __init__(self, name):\n",
    "        self.name = name\n",
    "\n",
    "# Composition\n",
    "class House:\n",
    "    def __init__(self, address):\n",
    "        self.address = address\n",
    "        self.door = self.Door()  # composition\n",
    "\n",
    "    class Door:\n",
    "        def open(self):\n",
    "            print(\"Door is opened.\")"
   ]
  },
  {
   "cell_type": "markdown",
   "id": "9214d222-f6b7-4d4b-8400-ad88d8a7eef4",
   "metadata": {},
   "source": [
    "Use"
   ]
  },
  {
   "cell_type": "code",
   "execution_count": 13,
   "id": "c515d44c-37f7-4a56-9eb8-5c0b7d196274",
   "metadata": {},
   "outputs": [
    {
     "name": "stdout",
     "output_type": "stream",
     "text": [
      "Bumi by Tere Liye\n"
     ]
    }
   ],
   "source": [
    "author = Author(\"Tere Liye\")\n",
    "book = Book(\"Bumi\", author)\n",
    "print(book.info())"
   ]
  },
  {
   "cell_type": "code",
   "execution_count": 14,
   "id": "cbe56677-c86d-4469-8cf6-09c525261453",
   "metadata": {},
   "outputs": [
    {
     "name": "stdout",
     "output_type": "stream",
     "text": [
      "['Alice', 'Bob']\n"
     ]
    }
   ],
   "source": [
    "team = Team(\"Red Dragons\")\n",
    "team.add_member(Player(\"Alice\"))\n",
    "team.add_member(Player(\"Bob\"))\n",
    "print([p.name for p in team.members])"
   ]
  },
  {
   "cell_type": "code",
   "execution_count": 15,
   "id": "1c2f664f-ea74-4570-8683-4d5af8ea64ad",
   "metadata": {},
   "outputs": [
    {
     "name": "stdout",
     "output_type": "stream",
     "text": [
      "Door is opened.\n"
     ]
    }
   ],
   "source": [
    "house = House(\"Jl. Mawar 1\")\n",
    "house.door.open()"
   ]
  },
  {
   "cell_type": "markdown",
   "id": "58b2984d-d154-4908-bcc2-51a5d2af1682",
   "metadata": {},
   "source": [
    "By understanding relationship types, we can create class designs that are clearer and easier to maintain."
   ]
  },
  {
   "cell_type": "markdown",
   "id": "669e0250-23f2-42e9-b265-d9350aecf834",
   "metadata": {},
   "source": [
    "# Metaclass\n",
    "A metaclass is a 'class of a class'. If an object is created from a class, then the class is created from a metaclass.\n",
    "A metaclass allows us to control the creation of a class, such as automatically modifying attributes or methods.\n",
    "\n",
    "A metaclass is a \"class of a class,\" a mechanism that governs how a class itself is created. While a class is used to create an object, a metaclass is used to create and manage the behavior of the class itself. With a metaclass, we can control the class creation process, automatically modify attributes or methods, and even enforce certain rules that all derived classes must adhere to.\n",
    "\n",
    "Think of a class as a cookie cutter, and an object as the resulting cookie. A metaclass is the cookie cutter used to create the cookie cutter itself. By modifying the cookie cutter at the metaclass level, we indirectly affect all the classes it generates. This concept is rarely used at the beginner level, but it is very useful for building frameworks, implementing automatic validation, or creating dynamic behavior in complex systems."
   ]
  },
  {
   "cell_type": "markdown",
   "id": "4048a4ae-91ad-48e6-a639-397655d06ae6",
   "metadata": {},
   "source": [
    "## Case Study: Creating a Class with Automatic Validation\n",
    "This example demonstrates the use of a metaclass to control automatic class creation. The metaclass `UpperAttrMetaclass` is defined to check all attributes a class has at the time of class creation. If an attribute name does not begin with `__` (which typically indicates a Python-specific attribute), the metaclass capitalizes the attribute name.\n",
    "\n",
    "A class `MyClass` that uses this metaclass will automatically have the attribute `FOO` instead of `foo`, without the developer having to manually capitalize it. This process occurs before any object of the class is created, during the class definition stage.\n",
    "\n",
    "This approach is very useful for enforcing naming rules or standards throughout code, ensuring consistency, and preventing errors caused by mis-written attributes. With metaclasses, validation and transformation can be performed at the structural level, rather than just at object execution, providing very fine-grained control over class design."
   ]
  },
  {
   "cell_type": "code",
   "execution_count": 16,
   "id": "efa6400c-b4b7-40e9-91b9-b3c6c512ba15",
   "metadata": {},
   "outputs": [],
   "source": [
    "# Metaclass that forces all class attributes to be in upper case\n",
    "class UpperAttrMetaclass(type):\n",
    "    def __new__(cls, name, bases, dct):\n",
    "        uppercase_attr = {}\n",
    "        for attr_name, attr_value in dct.items():\n",
    "            if not attr_name.startswith(\"__\"):\n",
    "                uppercase_attr[attr_name.upper()] = attr_value\n",
    "            else:\n",
    "                uppercase_attr[attr_name] = attr_value\n",
    "        return super().__new__(cls, name, bases, uppercase_attr)\n",
    "\n",
    "# Classes that use metaclasses\n",
    "class MyClass(metaclass=UpperAttrMetaclass):\n",
    "    foo = \"bar\"\n",
    "    def hello(self):\n",
    "        return \"Hello\""
   ]
  },
  {
   "cell_type": "markdown",
   "id": "6b061c52-b2cb-49f1-a1cd-63ac78c03d01",
   "metadata": {},
   "source": [
    "Use"
   ]
  },
  {
   "cell_type": "code",
   "execution_count": 17,
   "id": "afc5e3f2-eefd-4fc0-8863-2c7a79e1efa4",
   "metadata": {},
   "outputs": [
    {
     "name": "stdout",
     "output_type": "stream",
     "text": [
      "False\n",
      "True\n",
      "Hello\n"
     ]
    }
   ],
   "source": [
    "obj = MyClass()\n",
    "print(hasattr(MyClass, \"foo\"))  # False\n",
    "print(hasattr(MyClass, \"FOO\"))  # True\n",
    "print(obj.HELLO())"
   ]
  },
  {
   "cell_type": "markdown",
   "id": "f581e698-37a1-4dfa-93bd-86dcb92f4663",
   "metadata": {},
   "source": [
    "Metaclasses are useful when we want to create global rules for all classes defined with that metaclass.\n",
    "The example above forces all class attributes to be capitalized."
   ]
  },
  {
   "cell_type": "markdown",
   "id": "41d715a3-4d5c-4fc7-97d0-2e9ac671aa69",
   "metadata": {},
   "source": [
    "# Combining All Concepts\n",
    "This project will:\n",
    "- Use abstraction, encapsulation, inheritance, and polymorphism\n",
    "- Use relationships between objects (association, aggregation, and composition)\n",
    "- Implement metaclasses for class rule validation\n",
    "- Combine everything into a mini-system\n",
    "\n",
    "Description:\n",
    "- Metaclass: Ensure all entity classes have docstrings.\n",
    "- Abstraction: Abstract class Transport.\n",
    "- Inheritance & Polymorphism: Subclasses Plane, Train, and Bus.\n",
    "- Relationships Between Objects:\n",
    "    * Association: Booking is related to Customer and Transport.\n",
    "    * Aggregation: TravelAgency has many Bookings.\n",
    "    * Composition: Ticket has a QR code."
   ]
  },
  {
   "cell_type": "code",
   "execution_count": 18,
   "id": "f32fc8ae-0df0-4d42-bacb-2ab7b4ff7223",
   "metadata": {},
   "outputs": [],
   "source": [
    "from abc import ABC, ABCMeta, abstractmethod\n",
    "\n",
    "# Metaclass: ensures all classes have a docstring\n",
    "class DocstringChecker(ABCMeta):  # inherits from ABCMeta to be compatible with ABC\n",
    "    def __new__(cls, name, bases, dct):\n",
    "        if \"__doc__\" not in dct or not dct[\"__doc__\"].strip():\n",
    "            raise TypeError(f\"Class {name} must have a docstring.\")\n",
    "        return super().__new__(cls, name, bases, dct)\n",
    "\n",
    "# Abstraction\n",
    "class Transport(ABC, metaclass=DocstringChecker):\n",
    "    \"\"\"Abstract class for transportation.\"\"\"\n",
    "    def __init__(self, brand):\n",
    "        self.brand = brand\n",
    "\n",
    "    @abstractmethod\n",
    "    def travel(self, origin, destination):\n",
    "        pass\n",
    "\n",
    "# Inheritance + Polymorphism\n",
    "class Plane(Transport):\n",
    "    \"\"\"Airplane transportation.\"\"\"\n",
    "    def travel(self, origin, destination):\n",
    "        return f\"Flying from {origin} to {destination} with {self.brand}.\"\n",
    "\n",
    "class Train(Transport):\n",
    "    \"\"\"Train transportation.\"\"\"\n",
    "    def travel(self, origin, destination):\n",
    "        return f\"Travelling by train from {origin} to {destination} with {self.brand}.\"\n",
    "\n",
    "# Association\n",
    "class Customer:\n",
    "    \"\"\"Customer data.\"\"\"\n",
    "    def __init__(self, name):\n",
    "        self.name = name\n",
    "\n",
    "# Composition\n",
    "class Ticket:\n",
    "    \"\"\"Travel ticket.\"\"\"\n",
    "    def __init__(self, code):\n",
    "        self.code = code\n",
    "        self.qrcode = self.QRcode(code)\n",
    "\n",
    "    class QRcode:\n",
    "        def __init__(self, data):\n",
    "            self.data = data\n",
    "        def scan(self):\n",
    "            return f\"QR Code Data: {self.data}\"\n",
    "\n",
    "# Aggregation\n",
    "class TravelAgency:\n",
    "    \"\"\"Travel agency.\"\"\"\n",
    "    def __init__(self, name):\n",
    "        self.name = name\n",
    "        self.bookings = []\n",
    "\n",
    "    def add_booking(self, booking):\n",
    "        self.bookings.append(booking)\n",
    "\n",
    "class Booking:\n",
    "    \"\"\"Travel booking.\"\"\"\n",
    "    def __init__(self, customer: Customer, transport: Transport, ticket: Ticket):\n",
    "        self.customer = customer\n",
    "        self.transport = transport\n",
    "        self.ticket = ticket\n",
    "\n",
    "    def info(self, origin, destination):\n",
    "        return f\"{self.customer.name} - {self.transport.travel(origin, destination)} | Ticket: {self.ticket.code}\""
   ]
  },
  {
   "cell_type": "code",
   "execution_count": 19,
   "id": "ba1fc3de-baba-49f1-af71-3cae74423c2c",
   "metadata": {},
   "outputs": [],
   "source": [
    "agency = TravelAgency(\"GoTravel\")\n",
    "cust = Customer(\"Andra\")\n",
    "trans = Plane(\"Garuda\")\n",
    "ticket = Ticket(\"GT123\")\n",
    "booking = Booking(cust, trans, ticket)\n",
    "agency.add_booking(booking)"
   ]
  },
  {
   "cell_type": "code",
   "execution_count": 20,
   "id": "52fb4a06-abfa-42b6-aa12-fd98273e7494",
   "metadata": {},
   "outputs": [
    {
     "name": "stdout",
     "output_type": "stream",
     "text": [
      "Andra - Flying from Jakarta to Bali with Garuda. | Ticket: GT123\n",
      "QR Code Data: GT123\n"
     ]
    }
   ],
   "source": [
    "for b in agency.bookings:\n",
    "    print(b.info(\"Jakarta\", \"Bali\"))\n",
    "    print(b.ticket.qrcode.scan())"
   ]
  },
  {
   "cell_type": "markdown",
   "id": "42a44b21-da0e-4355-8ae5-276839afc420",
   "metadata": {},
   "source": [
    "# Thank You"
   ]
  },
  {
   "cell_type": "code",
   "execution_count": null,
   "id": "a884f729-aa7e-4d11-b92c-6126ea036fcf",
   "metadata": {},
   "outputs": [],
   "source": []
  }
 ],
 "metadata": {
  "kernelspec": {
   "display_name": "Python 3 (ipykernel)",
   "language": "python",
   "name": "python3"
  },
  "language_info": {
   "codemirror_mode": {
    "name": "ipython",
    "version": 3
   },
   "file_extension": ".py",
   "mimetype": "text/x-python",
   "name": "python",
   "nbconvert_exporter": "python",
   "pygments_lexer": "ipython3",
   "version": "3.13.5"
  }
 },
 "nbformat": 4,
 "nbformat_minor": 5
}
