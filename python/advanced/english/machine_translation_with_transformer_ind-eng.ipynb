{
  "cells": [
    {
      "cell_type": "markdown",
      "metadata": {
        "id": "khsuxDLIoIrs"
      },
      "source": [
        "# Machine Translation with Transformer\n",
        "Machine translation is a key milestone in the development of Natural Language Processing (NLP). The Transformer model, introduced by Vaswani et al. (2017), was a major revolution because it replaced RNN and CNN-based architectures with a more efficient attention mechanism.\n",
        "\n",
        "In this notebook, we will build a Transformer model from scratch to automatically translate from English to Indonesian. This approach does not use a pre-trained model, but instead implements the core components of the Transformer, from positional coding, multi-head awareness, encoder-decoder layers, to the training process.\n",
        "\n",
        "The main focus is not only on the translation results, but also on the implementation capabilities and understanding of the Transformer's internal mechanisms. This is relevant because the Transformer is the foundation of various modern models such as BERT, GPT, and ChatGPT, so mastering its basic architecture is essential for both Machine Learning Engineers and Data Scientists.\n",
        "\n",
        "Dataset source: www.manythings.org/anki\n",
        "\n",
        "## Sequence-to-sequence learning"
      ]
    },
    {
      "cell_type": "markdown",
      "metadata": {
        "id": "fZ98ptbtoRii"
      },
      "source": [
        "### Import Library"
      ]
    },
    {
      "cell_type": "code",
      "execution_count": null,
      "metadata": {
        "id": "3cJAoIeTXqIx"
      },
      "outputs": [],
      "source": [
        "import os\n",
        "import re\n",
        "import pathlib\n",
        "import random\n",
        "import string\n",
        "import zipfile\n",
        "import numpy as np\n",
        "import tensorflow as tf\n",
        "from nltk.translate.bleu_score import sentence_bleu\n",
        "import tensorflow as tf\n",
        "from tensorflow import keras\n",
        "from tensorflow.keras import layers\n",
        "from tensorflow.keras.layers import TextVectorization\n",
        "from tensorflow.keras.layers import Bidirectional,GRU,LSTM,Embedding\n",
        "from tensorflow.keras.layers import Dense,MultiHeadAttention,LayerNormalization,Embedding,Dropout,Layer\n",
        "from tensorflow.keras import Sequential,Input\n",
        "from tensorflow.keras.callbacks import ModelCheckpoint"
      ]
    },
    {
      "cell_type": "markdown",
      "metadata": {
        "id": "ps4nkpcHoW7D"
      },
      "source": [
        "### Download and Extract Dataset"
      ]
    },
    {
      "cell_type": "markdown",
      "metadata": {
        "id": "v6XlGLpdsPuv"
      },
      "source": [
        "#### Download ZIP (no auto-extract)"
      ]
    },
    {
      "cell_type": "code",
      "execution_count": null,
      "metadata": {
        "id": "BQw2xDl6sPuw"
      },
      "outputs": [],
      "source": [
        "#path_to_zip = keras.utils.get_file(\n",
        "#    \"ind-eng.zip\",\n",
        "#    origin=\"http://storage.googleapis.com/download.tensorflow.org/data/ind-eng.zip\",\n",
        "#    extract=False)"
      ]
    },
    {
      "cell_type": "markdown",
      "metadata": {
        "id": "RzvCMw47sPuw"
      },
      "source": [
        "#### Manual extraction"
      ]
    },
    {
      "cell_type": "code",
      "execution_count": null,
      "metadata": {
        "id": "jvNjBfBUsPuw"
      },
      "outputs": [],
      "source": [
        "#with zipfile.ZipFile(path_to_zip, 'r') as zip_ref:\n",
        "#    zip_ref.extractall(pathlib.Path(path_to_zip).parent)\n",
        "\n",
        "#text_file = pathlib.Path(path_to_zip).parent / \"ind-eng\" / \"ind.txt\""
      ]
    },
    {
      "cell_type": "markdown",
      "metadata": {
        "id": "GEZ32xHhsPuw"
      },
      "source": [
        "#### View all extracted files"
      ]
    },
    {
      "cell_type": "code",
      "execution_count": null,
      "metadata": {
        "id": "fLp7e1CTsPuw"
      },
      "outputs": [],
      "source": [
        "text_file = \"ind.txt\"\n",
        "\n",
        "with open(text_file, encoding=\"utf-8\") as f:\n",
        "    lines = f.read().split(\"\\n\")[:-1]"
      ]
    },
    {
      "cell_type": "markdown",
      "metadata": {
        "id": "PIWHVxF-oZfa"
      },
      "source": [
        "### Prepare Text Pairs"
      ]
    },
    {
      "cell_type": "markdown",
      "metadata": {
        "id": "NR4qXBuAp6TN"
      },
      "source": [
        "Each line contains an English sentence and a corresponding Indonesian sentence. The English sentence is the source sequence, and the Indonesian sentence is the target sequence. We add a \"[start]\" token at the front and an \"[end]\" token at the end of the Indonesian sentence."
      ]
    },
    {
      "cell_type": "code",
      "execution_count": null,
      "metadata": {
        "id": "8XXQjzxlXxBq"
      },
      "outputs": [],
      "source": [
        "# Start and end indicate when the translation of the word/phrase starts and stops.\n",
        "\n",
        "text_pairs = []\n",
        "for line in lines:\n",
        "    parts = line.split(\"\\t\")\n",
        "    if len(parts) >= 2:  # make sure there are at least 2 columns\n",
        "        english = parts[0]\n",
        "        indonesian = parts[1]\n",
        "        indonesian = \"[start] \" + indonesian + \" [end]\"\n",
        "        text_pairs.append((english, indonesian))"
      ]
    },
    {
      "cell_type": "code",
      "execution_count": null,
      "metadata": {
        "colab": {
          "base_uri": "https://localhost:8080/"
        },
        "id": "YNV4qYbApu7K",
        "outputId": "15abf71a-f671-4b1f-ad51-e6109a9aef10"
      },
      "outputs": [
        {
          "name": "stdout",
          "output_type": "stream",
          "text": [
            "Number of pairs: 14881\n",
            "Example text: ('Can it be repaired?', '[start] Bisakah diperbaiki? [end]')\n"
          ]
        }
      ],
      "source": [
        "print(\"Number of pairs:\", len(text_pairs))\n",
        "print(\"Example text:\", text_pairs[2900])"
      ]
    },
    {
      "cell_type": "markdown",
      "metadata": {
        "id": "McidSg9oqA5e"
      },
      "source": [
        "Printing random text pairs English - Indonesian"
      ]
    },
    {
      "cell_type": "code",
      "execution_count": null,
      "metadata": {
        "colab": {
          "base_uri": "https://localhost:8080/"
        },
        "id": "dau5SsHEqDt2",
        "outputId": "14d1e85c-3f7e-4566-dfc6-c01415c609e9"
      },
      "outputs": [
        {
          "name": "stdout",
          "output_type": "stream",
          "text": [
            "('I forgot to close the door.', '[start] Aku lupa menutup pintunya. [end]')\n"
          ]
        }
      ],
      "source": [
        "import random\n",
        "print(random.choice(text_pairs))"
      ]
    },
    {
      "cell_type": "markdown",
      "metadata": {
        "id": "pUOejgj9ob6C"
      },
      "source": [
        "### Split Data"
      ]
    },
    {
      "cell_type": "markdown",
      "metadata": {
        "id": "LOtPnpe-qL-0"
      },
      "source": [
        "- train_pairs: initial 70% of the data\n",
        "- val_pairs: next 15%\n",
        "- test_pairs: last 15%\n",
        "- 70% training: large enough to learn patterns.\n",
        "- 15% validation: sufficient for hyperparameter tuning.\n",
        "- 15% test: sufficient to measure the model's generalization performance."
      ]
    },
    {
      "cell_type": "markdown",
      "metadata": {
        "id": "WDGmxQl7sPuy"
      },
      "source": [
        "#### Determine the amount of validation data 15% of the total data"
      ]
    },
    {
      "cell_type": "code",
      "execution_count": null,
      "metadata": {
        "id": "wamdOVfEsPuy"
      },
      "outputs": [],
      "source": [
        "random.shuffle(text_pairs)\n",
        "\n",
        "num_val_samples = int(0.15 * len(text_pairs))"
      ]
    },
    {
      "cell_type": "markdown",
      "metadata": {
        "id": "r1LyvqiasPuy"
      },
      "source": [
        "#### Taking the remaining data for training, after setting aside 15% for validation and 15% for testing."
      ]
    },
    {
      "cell_type": "code",
      "execution_count": null,
      "metadata": {
        "id": "8aMQvgqjXzre"
      },
      "outputs": [],
      "source": [
        "num_train_samples = len(text_pairs) - 2 * num_val_samples\n",
        "train_pairs = text_pairs[:num_train_samples]\n",
        "val_pairs = text_pairs[num_train_samples:num_train_samples + num_val_samples]\n",
        "test_pairs = text_pairs[num_train_samples + num_val_samples:]"
      ]
    },
    {
      "cell_type": "code",
      "execution_count": null,
      "metadata": {
        "colab": {
          "base_uri": "https://localhost:8080/"
        },
        "id": "ymKGiQPLqOF1",
        "outputId": "a15be42b-c3ce-42fb-fab7-c1d0a2e84098"
      },
      "outputs": [
        {
          "name": "stdout",
          "output_type": "stream",
          "text": [
            "Number of train data: 10417\n",
            "Number of validation data: 2232\n",
            "Number of test data: 2232\n"
          ]
        }
      ],
      "source": [
        "print(\"Number of train data:\", len(train_pairs))\n",
        "print(\"Number of validation data:\", len(val_pairs))\n",
        "print(\"Number of test data:\", len(test_pairs))"
      ]
    },
    {
      "cell_type": "markdown",
      "metadata": {
        "id": "k8wh2_Ahoe-S"
      },
      "source": [
        "### Preprocessing dan Vectorization"
      ]
    },
    {
      "cell_type": "markdown",
      "metadata": {
        "id": "Otldv3LkqiUO"
      },
      "source": [
        "* string.punctuation is a Python built-in that contains all common punctuation characters\n",
        "* Creates a list of all characters that are considered \"punctuation that you want to remove or clean from the text\"."
      ]
    },
    {
      "cell_type": "code",
      "execution_count": null,
      "metadata": {
        "id": "0-7VqsMGqkrM"
      },
      "outputs": [],
      "source": [
        "def custom_standardization(input_string):\n",
        "    lowercase = tf.strings.lower(input_string)\n",
        "    return tf.strings.regex_replace(lowercase, f\"[{re.escape(string.punctuation)}¿]\", \"\")"
      ]
    },
    {
      "cell_type": "code",
      "execution_count": null,
      "metadata": {
        "id": "doKPFLU8qnHy"
      },
      "outputs": [],
      "source": [
        "vocab_size = 15000"
      ]
    },
    {
      "cell_type": "markdown",
      "metadata": {
        "id": "jYtXL__vsPuz"
      },
      "source": [
        "This means that only the 15,000 most frequently occurring words will be used in the dictionary (vocab). Next, determine the maximum length of the token sequence after the text is tokenized."
      ]
    },
    {
      "cell_type": "code",
      "execution_count": null,
      "metadata": {
        "id": "BNR9pZ6msPuz"
      },
      "outputs": [],
      "source": [
        "sequence_length = 20"
      ]
    },
    {
      "cell_type": "markdown",
      "metadata": {
        "id": "VWkolLapqxD-"
      },
      "source": [
        "* Vectorizes input (English)\n",
        "* Used for encoders, which only need plain text sequences (without special tokens like [start] / [end])."
      ]
    },
    {
      "cell_type": "code",
      "execution_count": null,
      "metadata": {
        "id": "tWaJKgRwqyc0"
      },
      "outputs": [],
      "source": [
        "source_vectorization = layers.TextVectorization(\n",
        "    max_tokens=vocab_size,\n",
        "    output_mode=\"int\",\n",
        "    output_sequence_length=sequence_length,\n",
        ")"
      ]
    },
    {
      "cell_type": "markdown",
      "metadata": {
        "id": "88rmdmeqq1M1"
      },
      "source": [
        "* Vectorizes the target (Indonesian)\n",
        "* output_sequence_length=20: Since the target has [start] and [end] tokens, the target is 1 token longer than the input.\n",
        "* standardize=custom_standardization: Uses a custom text cleaning function (e.g., removes certain punctuation but retains [start] and [end])."
      ]
    },
    {
      "cell_type": "code",
      "execution_count": null,
      "metadata": {
        "id": "_jiWvg3SX2DK"
      },
      "outputs": [],
      "source": [
        "target_vectorization = layers.TextVectorization(\n",
        "    max_tokens=vocab_size,\n",
        "    output_mode=\"int\",\n",
        "    output_sequence_length=sequence_length + 1,\n",
        "    standardize=custom_standardization,\n",
        ")"
      ]
    },
    {
      "cell_type": "markdown",
      "metadata": {
        "id": "bpltvbkGsPu0"
      },
      "source": [
        "#### Extract all English sentences from training data pairs."
      ]
    },
    {
      "cell_type": "code",
      "execution_count": null,
      "metadata": {
        "id": "WsDX3K1GsPu0"
      },
      "outputs": [],
      "source": [
        "train_english_texts = [pair[0] for pair in train_pairs]"
      ]
    },
    {
      "cell_type": "markdown",
      "metadata": {
        "id": "Dd5S9wS8sPu0"
      },
      "source": [
        "#### Extract all Indonesian sentences (with [start] and [end])"
      ]
    },
    {
      "cell_type": "code",
      "execution_count": null,
      "metadata": {
        "id": "jsPb8AISsPu0"
      },
      "outputs": [],
      "source": [
        "train_indonesian_texts = [pair[1] for pair in train_pairs]"
      ]
    },
    {
      "cell_type": "markdown",
      "metadata": {
        "id": "52I1eo6KsPu0"
      },
      "source": [
        "#### Train the TextVectorization layer to build a vocabulary based on the training text.\n",
        "`.adapt()` is essential for vectorization to recognize common words and efficiently construct the vocabulary."
      ]
    },
    {
      "cell_type": "code",
      "execution_count": null,
      "metadata": {
        "id": "FfrvQO_cq4ud"
      },
      "outputs": [],
      "source": [
        "source_vectorization.adapt(train_english_texts)\n",
        "target_vectorization.adapt(train_indonesian_texts)"
      ]
    },
    {
      "cell_type": "markdown",
      "metadata": {
        "id": "h8Ow3sX6oiMk"
      },
      "source": [
        "### Dataset Format"
      ]
    },
    {
      "cell_type": "code",
      "execution_count": null,
      "metadata": {
        "id": "9NmGx00XsPvB"
      },
      "outputs": [],
      "source": [
        "batch_size = 64"
      ]
    },
    {
      "cell_type": "markdown",
      "metadata": {
        "id": "KPWuaaYrsPvB"
      },
      "source": [
        "Meaning: The model will process 64 sentence pairs (English–Indonesian) in one step."
      ]
    },
    {
      "cell_type": "code",
      "execution_count": null,
      "metadata": {
        "id": "eSuhef1WX4FO"
      },
      "outputs": [],
      "source": [
        "def format_dataset(eng, ind):\n",
        "    eng = source_vectorization(eng) # Input tokenization (English)\n",
        "    ind = target_vectorization(ind) # Target tokenization (Indonesian)\n",
        "    return ({\"english\": eng, \"indonesian\": ind[:, :-1]}, ind[:, 1:])\n",
        "    # All target tokens EXCEPT the last or EXCEPT the first\n",
        "\n",
        "def make_dataset(pairs):\n",
        "    # Split the (eng, ind) pair into 2 lists\n",
        "    eng_texts, ind_texts = zip(*pairs)\n",
        "\n",
        "    # Create a tf.data.Dataset from text pairs\n",
        "    dataset = tf.data.Dataset.from_tensor_slices((list(eng_texts), list(ind_texts)))\n",
        "    dataset = dataset.batch(batch_size) # Split data into batches of size 64\n",
        "    dataset = dataset.map(format_dataset, num_parallel_calls=tf.data.AUTOTUNE) # Batch content format with dataset format\n",
        "    return dataset.shuffle(2048).prefetch(tf.data.AUTOTUNE).cache() # Store the transformed data in memory for efficiency."
      ]
    },
    {
      "cell_type": "code",
      "execution_count": null,
      "metadata": {
        "id": "SKDjMiwlsPvB"
      },
      "outputs": [],
      "source": [
        "train_ds = make_dataset(train_pairs)\n",
        "val_ds = make_dataset(val_pairs)"
      ]
    },
    {
      "cell_type": "code",
      "execution_count": null,
      "metadata": {
        "colab": {
          "base_uri": "https://localhost:8080/"
        },
        "id": "9EXsSyv-rgWa",
        "outputId": "5334380e-b261-4a06-91b0-65bca89b00f3"
      },
      "outputs": [
        {
          "data": {
            "text/plain": [
              "<CacheDataset element_spec=({'english': TensorSpec(shape=(None, 20), dtype=tf.int64, name=None), 'indonesian': TensorSpec(shape=(None, 20), dtype=tf.int64, name=None)}, TensorSpec(shape=(None, 20), dtype=tf.int64, name=None))>"
            ]
          },
          "execution_count": 28,
          "metadata": {},
          "output_type": "execute_result"
        }
      ],
      "source": [
        "train_ds"
      ]
    },
    {
      "cell_type": "code",
      "execution_count": null,
      "metadata": {
        "colab": {
          "base_uri": "https://localhost:8080/"
        },
        "id": "ery4gUVhrhut",
        "outputId": "18b928f5-c522-431b-cc49-8484132a59ab"
      },
      "outputs": [
        {
          "data": {
            "text/plain": [
              "<CacheDataset element_spec=({'english': TensorSpec(shape=(None, 20), dtype=tf.int64, name=None), 'indonesian': TensorSpec(shape=(None, 20), dtype=tf.int64, name=None)}, TensorSpec(shape=(None, 20), dtype=tf.int64, name=None))>"
            ]
          },
          "execution_count": 29,
          "metadata": {},
          "output_type": "execute_result"
        }
      ],
      "source": [
        "val_ds"
      ]
    },
    {
      "cell_type": "code",
      "execution_count": null,
      "metadata": {
        "colab": {
          "base_uri": "https://localhost:8080/"
        },
        "id": "yx12crftrkjQ",
        "outputId": "c1da22c4-d5dc-43d9-9480-dc091b432a9a"
      },
      "outputs": [
        {
          "name": "stdout",
          "output_type": "stream",
          "text": [
            "english [[  86    8 1113 ...    0    0    0]\n",
            " [   2   17   33 ...    0    0    0]\n",
            " [   2   15    6 ...    0    0    0]\n",
            " ...\n",
            " [  23   20    5 ...    0    0    0]\n",
            " [  20    5 2448 ...    0    0    0]\n",
            " [   2  323   95 ...    0    0    0]],\n",
            "\n",
            "\n",
            " inputs['english'].shape: (64, 20)\n",
            "indonesian [[  2 816  36 ...   0   0   0]\n",
            " [  2   5   6 ...   0   0   0]\n",
            " [  2   5  33 ...   0   0   0]\n",
            " ...\n",
            " [  2  14   7 ...   0   0   0]\n",
            " [  2  10 173 ...   0   0   0]\n",
            " [  2   9 340 ...   0   0   0]],\n",
            "\n",
            "\n",
            " inputs['indonesian'].shape: (64, 20)\n",
            "targets [[ 816   36  519 ...    0    0    0]\n",
            " [   5    6   61 ...    0    0    0]\n",
            " [   5   33  329 ...    0    0    0]\n",
            " ...\n",
            " [  14    7   41 ...    0    0    0]\n",
            " [  10  173 2307 ...    0    0    0]\n",
            " [   9  340   42 ...    0    0    0]], \n",
            "\n",
            "\n",
            " targets.shape: (64, 20)\n"
          ]
        }
      ],
      "source": [
        "for inputs, targets in train_ds.take(1):\n",
        "    print(f\"english {inputs['english']},\\n\\n\\n inputs['english'].shape: {inputs['english'].shape}\")\n",
        "    print(f\"indonesian {inputs['indonesian']},\\n\\n\\n inputs['indonesian'].shape: {inputs['indonesian'].shape}\")\n",
        "    print(f\"targets {targets}, \\n\\n\\n targets.shape: {targets.shape}\")"
      ]
    },
    {
      "cell_type": "markdown",
      "metadata": {
        "id": "x6BfulGQrnwE"
      },
      "source": [
        "## Sequence-to-sequence learning with Transformer"
      ]
    },
    {
      "cell_type": "markdown",
      "metadata": {
        "id": "sBXzMh2xol1S"
      },
      "source": [
        "### Positional Embedding\n",
        "This layer combines word/token embeddings with positional embeddings so that the transformer model can understand the order of words in a sentence. Positional Embedding ensures that the transformer knows not only what words are present, but also their order in the sentence. Without this component, the transformer would simply see words as an unordered \"bag of words.\""
      ]
    },
    {
      "cell_type": "code",
      "execution_count": null,
      "metadata": {
        "id": "kfr7tYlIYcio"
      },
      "outputs": [],
      "source": [
        "class PositionalEmbedding(Layer):\n",
        "    def __init__(self, sequence_length, input_dim, output_dim, **kwargs):\n",
        "        super().__init__(**kwargs)\n",
        "\n",
        "        #Translates ID tokens (numbers) into a vector of dimension output_dim.\n",
        "        self.token_embeddings = Embedding(\n",
        "            input_dim=input_dim, output_dim=output_dim, mask_zero=True  # enable auto masking!\n",
        "        )\n",
        "\n",
        "      # intermediate = self.getPositionEncoding(seq_len=input_dim,d=vocab_size,n=output_dim)\n",
        "      # Positions 0, 1, 2, ..., sequence_length-1 are embedded like regular tokens.\n",
        "      # Difference: The input here is a sequence of positions, not word IDs.\n",
        "\n",
        "        self.position_embeddings = Embedding(\n",
        "            input_dim=sequence_length, output_dim=output_dim\n",
        "        )\n",
        "        self.sequence_length = sequence_length\n",
        "        self.input_dim = input_dim\n",
        "        self.output_dim = output_dim\n",
        "\n",
        "    def call(self, inputs):\n",
        "        # Use fixed length of self.sequence_length\n",
        "        positions = tf.range(start=0, limit=tf.shape(inputs)[-1], delta=1)\n",
        "        positions = self.position_embeddings(positions) # (1, sequence_length)\n",
        "        x = self.token_embeddings(inputs)\n",
        "        return x + positions\n",
        "\n",
        "    def get_config(self):\n",
        "        config = super().get_config()\n",
        "        config.update({\n",
        "            \"sequence_length\": self.sequence_length,\n",
        "            \"input_dim\": self.input_dim,\n",
        "            \"output_dim\": self.output_dim,\n",
        "        })\n",
        "        return config"
      ]
    },
    {
      "cell_type": "markdown",
      "metadata": {
        "id": "hIiAG8fWoxSS"
      },
      "source": [
        "### Transformer Encoder\n",
        "The TransformerEncoder is the encoder block of the transformer architecture, which captures the relationships between words in a sentence using self-attention and a feed-forward network.\n",
        "\n",
        "`TransformerEncoder = Self-Attention + Feed-Forward + Residual + Normalization`\n",
        "\n",
        "Its function is to build a contextual representation of words → each word does not stand alone, but understands its relationship to other words in the sentence."
      ]
    },
    {
      "cell_type": "code",
      "execution_count": null,
      "metadata": {
        "id": "hK4vdx9cX7Uj"
      },
      "outputs": [],
      "source": [
        "class TransformerEncoder(layers.Layer):\n",
        "    def __init__(self, embed_dim, dense_dim, num_heads):\n",
        "        super().__init__()\n",
        "        self.attention = layers.MultiHeadAttention(num_heads=num_heads, key_dim=embed_dim)\n",
        "        self.dense_proj = keras.Sequential([\n",
        "            layers.Dense(dense_dim, activation=\"relu\"),\n",
        "            layers.Dense(embed_dim),\n",
        "        ])\n",
        "        self.layernorm_1 = layers.LayerNormalization()\n",
        "        self.layernorm_2 = layers.LayerNormalization()\n",
        "\n",
        "    def call(self, inputs, mask=None):\n",
        "        attention_output = self.attention(inputs, inputs, attention_mask=None)\n",
        "        proj_input = self.layernorm_1(inputs + attention_output)\n",
        "        proj_output = self.dense_proj(proj_input)\n",
        "        return self.layernorm_2(proj_input + proj_output)"
      ]
    },
    {
      "cell_type": "markdown",
      "metadata": {
        "id": "S_MkR9QyozOk"
      },
      "source": [
        "### Transformer Decoder\n",
        "The `TransformerDecoder` is responsible for generating an output sequence based on the representation provided by the encoder, while ensuring that the generation process is autoregressive (only looking at the previous token).\n",
        "\n",
        "In short, the decoder combines two aspects:\n",
        "* Autoregressive generation (only looking at the past through masked self-attention).\n",
        "* The global context of the input (through cross-attention to the encoder)."
      ]
    },
    {
      "cell_type": "code",
      "execution_count": null,
      "metadata": {
        "id": "hpLNJHi-X9pC"
      },
      "outputs": [],
      "source": [
        "class TransformerDecoder(layers.Layer):\n",
        "    # A constructor containing multihead plus masked self attention\n",
        "    def __init__(self, embed_dim, dense_dim, num_heads):\n",
        "        super().__init__()\n",
        "\n",
        "        #Masked self-attention: only looking at the previous token, so as not to “peek into the future”.\n",
        "        self.attention_1 = layers.MultiHeadAttention(num_heads=num_heads, key_dim=embed_dim)\n",
        "\n",
        "        #Cross-attention: connects the output of the encoder to the decoder (input from the source language).\n",
        "        self.attention_2 = layers.MultiHeadAttention(num_heads=num_heads, key_dim=embed_dim)\n",
        "\n",
        "        #Feedforward network: 2 Dense layers as non-linear processing.\n",
        "        self.dense_proj = keras.Sequential([\n",
        "            layers.Dense(dense_dim, activation=\"relu\"),\n",
        "            layers.Dense(embed_dim),\n",
        "        ])\n",
        "\n",
        "        #Normalization at each stage (after residual connection).\n",
        "        self.layernorm_1 = layers.LayerNormalization()\n",
        "        self.layernorm_2 = layers.LayerNormalization()\n",
        "        self.layernorm_3 = layers.LayerNormalization()\n",
        "\n",
        "        #Creates a lower triangular mask (causal mask) of size [batch, seq_len, seq_len]\n",
        "        #Prevents position i from looking at token j > i.\n",
        "        #Used to prevent the decoder model from learning the next token (future blindness) during training.\n",
        "    def get_causal_attention_mask(self, inputs):\n",
        "        i = tf.range(tf.shape(inputs)[1])[:, tf.newaxis]\n",
        "        j = tf.range(tf.shape(inputs)[1])\n",
        "        mask = tf.cast(i >= j, dtype=\"int32\")\n",
        "        return tf.reshape(mask, (1, tf.shape(inputs)[1], tf.shape(inputs)[1]))\n",
        "\n",
        "    def call(self, inputs, encoder_outputs, mask=None):\n",
        "\n",
        "        #Make a mask for self-attention, so as not to “peek ahead”.\n",
        "        causal_mask = self.get_causal_attention_mask(inputs)\n",
        "\n",
        "        #Masked Self-Attention\n",
        "        #Focus only on the previous or current token. Add residual + layernorm\n",
        "        attention_output_1 = self.attention_1(inputs, inputs, attention_mask=causal_mask)\n",
        "        attention_output_1 = self.layernorm_1(inputs + attention_output_1)\n",
        "\n",
        "        #Cross Attention (Decoder attends to Encoder)\n",
        "        #Connecting the target representation with the representation\n",
        "        #generated by the encoder (e.g., from an English sentence).\n",
        "        attention_output_2 = self.attention_2(attention_output_1, encoder_outputs, encoder_outputs)\n",
        "        attention_output_2 = self.layernorm_2(attention_output_1 + attention_output_2)\n",
        "\n",
        "        #FFN strengthens the token representation. Then, residual connection and layer normalization are performed.\n",
        "        proj_output = self.dense_proj(attention_output_2)\n",
        "        return self.layernorm_3(attention_output_2 + proj_output)"
      ]
    },
    {
      "cell_type": "markdown",
      "metadata": {
        "id": "XZ29cZR3o3Ws"
      },
      "source": [
        "### Build a Transformer Model"
      ]
    },
    {
      "cell_type": "markdown",
      "metadata": {
        "id": "0zAme_MwsPvD"
      },
      "source": [
        "#### Determines the size of the representation vector for each token."
      ]
    },
    {
      "cell_type": "code",
      "execution_count": null,
      "metadata": {
        "id": "hi7br5MgsPvD"
      },
      "outputs": [],
      "source": [
        "embed_dim = 256"
      ]
    },
    {
      "cell_type": "markdown",
      "metadata": {
        "id": "hRe3_YRcsPvD"
      },
      "source": [
        "#### Determines the size of the hidden layer in the FFN block in the encoder and decoder"
      ]
    },
    {
      "cell_type": "code",
      "execution_count": null,
      "metadata": {
        "id": "rytvDdQusPvE"
      },
      "outputs": [],
      "source": [
        "dense_dim = 2048"
      ]
    },
    {
      "cell_type": "markdown",
      "metadata": {
        "id": "167EFvYbsPvE"
      },
      "source": [
        "#### Determines the size of the number of parallel attention heads in the attention layer."
      ]
    },
    {
      "cell_type": "code",
      "execution_count": null,
      "metadata": {
        "id": "GuSijZNIsPvE"
      },
      "outputs": [],
      "source": [
        "num_heads = 8"
      ]
    },
    {
      "cell_type": "markdown",
      "metadata": {
        "id": "ZJ-wq-egsPvE"
      },
      "source": [
        "#### Defines the input for the source language (English) in the form of a sequence of ID tokens, with dynamic length (None)."
      ]
    },
    {
      "cell_type": "code",
      "execution_count": null,
      "metadata": {
        "id": "ha5ZtLC-sPvE"
      },
      "outputs": [],
      "source": [
        "encoder_inputs = keras.Input(shape=(None,), dtype=\"int64\", name=\"english\")"
      ]
    },
    {
      "cell_type": "markdown",
      "metadata": {
        "id": "WNmf59rdsPvE"
      },
      "source": [
        "#### English token representation that takes into account word order/position."
      ]
    },
    {
      "cell_type": "code",
      "execution_count": null,
      "metadata": {
        "id": "pP9t34wFsPvF"
      },
      "outputs": [],
      "source": [
        "x = PositionalEmbedding(sequence_length, vocab_size, embed_dim)(encoder_inputs)"
      ]
    },
    {
      "cell_type": "markdown",
      "metadata": {
        "id": "gTIQqcYWsPvF"
      },
      "source": [
        "#### Full context representation for the entire input sentence (English)."
      ]
    },
    {
      "cell_type": "code",
      "execution_count": null,
      "metadata": {
        "id": "JokWGTClsPvF"
      },
      "outputs": [],
      "source": [
        "encoder_outputs = TransformerEncoder(embed_dim, dense_dim, num_heads)(x)"
      ]
    },
    {
      "cell_type": "markdown",
      "metadata": {
        "id": "N9sohP_psPvF"
      },
      "source": [
        "#### Input in the form of an ID token for the target language (Indonesian), used during training."
      ]
    },
    {
      "cell_type": "code",
      "execution_count": null,
      "metadata": {
        "id": "6cXSxHirX_lU"
      },
      "outputs": [],
      "source": [
        "decoder_inputs = keras.Input(shape=(None,), dtype=\"int64\", name=\"indonesian\")\n",
        "x = PositionalEmbedding(sequence_length, vocab_size, embed_dim)(decoder_inputs)\n",
        "x = TransformerDecoder(embed_dim, dense_dim, num_heads)(x, encoder_outputs)\n",
        "x = layers.Dropout(0.5)(x)\n",
        "decoder_outputs = layers.Dense(vocab_size, activation=\"softmax\")(x)"
      ]
    },
    {
      "cell_type": "code",
      "execution_count": null,
      "metadata": {
        "id": "_qF7A-SOsPvF"
      },
      "outputs": [],
      "source": [
        "transformer = keras.Model([encoder_inputs, decoder_inputs], decoder_outputs)"
      ]
    },
    {
      "cell_type": "code",
      "execution_count": null,
      "metadata": {
        "colab": {
          "base_uri": "https://localhost:8080/",
          "height": 506
        },
        "id": "q4nZmezpsPvF",
        "outputId": "2d56771c-4350-4193-de68-b0930dbca281"
      },
      "outputs": [
        {
          "data": {
            "text/html": [
              "<pre style=\"white-space:pre;overflow-x:auto;line-height:normal;font-family:Menlo,'DejaVu Sans Mono',consolas,'Courier New',monospace\"><span style=\"font-weight: bold\">Model: \"functional_2\"</span>\n",
              "</pre>\n"
            ],
            "text/plain": [
              "\u001b[1mModel: \"functional_2\"\u001b[0m\n"
            ]
          },
          "metadata": {},
          "output_type": "display_data"
        },
        {
          "data": {
            "text/html": [
              "<pre style=\"white-space:pre;overflow-x:auto;line-height:normal;font-family:Menlo,'DejaVu Sans Mono',consolas,'Courier New',monospace\">┏━━━━━━━━━━━━━━━━━━━━━┳━━━━━━━━━━━━━━━━━━━┳━━━━━━━━━━━━┳━━━━━━━━━━━━━━━━━━━┓\n",
              "┃<span style=\"font-weight: bold\"> Layer (type)        </span>┃<span style=\"font-weight: bold\"> Output Shape      </span>┃<span style=\"font-weight: bold\">    Param # </span>┃<span style=\"font-weight: bold\"> Connected to      </span>┃\n",
              "┡━━━━━━━━━━━━━━━━━━━━━╇━━━━━━━━━━━━━━━━━━━╇━━━━━━━━━━━━╇━━━━━━━━━━━━━━━━━━━┩\n",
              "│ english             │ (<span style=\"color: #00d7ff; text-decoration-color: #00d7ff\">None</span>, <span style=\"color: #00d7ff; text-decoration-color: #00d7ff\">None</span>)      │          <span style=\"color: #00af00; text-decoration-color: #00af00\">0</span> │ -                 │\n",
              "│ (<span style=\"color: #0087ff; text-decoration-color: #0087ff\">InputLayer</span>)        │                   │            │                   │\n",
              "├─────────────────────┼───────────────────┼────────────┼───────────────────┤\n",
              "│ indonesian          │ (<span style=\"color: #00d7ff; text-decoration-color: #00d7ff\">None</span>, <span style=\"color: #00d7ff; text-decoration-color: #00d7ff\">None</span>)      │          <span style=\"color: #00af00; text-decoration-color: #00af00\">0</span> │ -                 │\n",
              "│ (<span style=\"color: #0087ff; text-decoration-color: #0087ff\">InputLayer</span>)        │                   │            │                   │\n",
              "├─────────────────────┼───────────────────┼────────────┼───────────────────┤\n",
              "│ positional_embeddi… │ (<span style=\"color: #00d7ff; text-decoration-color: #00d7ff\">None</span>, <span style=\"color: #00d7ff; text-decoration-color: #00d7ff\">None</span>, <span style=\"color: #00af00; text-decoration-color: #00af00\">256</span>) │  <span style=\"color: #00af00; text-decoration-color: #00af00\">3,845,120</span> │ english[<span style=\"color: #00af00; text-decoration-color: #00af00\">0</span>][<span style=\"color: #00af00; text-decoration-color: #00af00\">0</span>]     │\n",
              "│ (<span style=\"color: #0087ff; text-decoration-color: #0087ff\">PositionalEmbeddi…</span> │                   │            │                   │\n",
              "├─────────────────────┼───────────────────┼────────────┼───────────────────┤\n",
              "│ positional_embeddi… │ (<span style=\"color: #00d7ff; text-decoration-color: #00d7ff\">None</span>, <span style=\"color: #00d7ff; text-decoration-color: #00d7ff\">None</span>, <span style=\"color: #00af00; text-decoration-color: #00af00\">256</span>) │  <span style=\"color: #00af00; text-decoration-color: #00af00\">3,845,120</span> │ indonesian[<span style=\"color: #00af00; text-decoration-color: #00af00\">0</span>][<span style=\"color: #00af00; text-decoration-color: #00af00\">0</span>]  │\n",
              "│ (<span style=\"color: #0087ff; text-decoration-color: #0087ff\">PositionalEmbeddi…</span> │                   │            │                   │\n",
              "├─────────────────────┼───────────────────┼────────────┼───────────────────┤\n",
              "│ transformer_encoder │ (<span style=\"color: #00d7ff; text-decoration-color: #00d7ff\">None</span>, <span style=\"color: #00d7ff; text-decoration-color: #00d7ff\">None</span>, <span style=\"color: #00af00; text-decoration-color: #00af00\">256</span>) │  <span style=\"color: #00af00; text-decoration-color: #00af00\">3,155,456</span> │ positional_embed… │\n",
              "│ (<span style=\"color: #0087ff; text-decoration-color: #0087ff\">TransformerEncode…</span> │                   │            │                   │\n",
              "├─────────────────────┼───────────────────┼────────────┼───────────────────┤\n",
              "│ transformer_decoder │ (<span style=\"color: #00d7ff; text-decoration-color: #00d7ff\">None</span>, <span style=\"color: #00d7ff; text-decoration-color: #00d7ff\">None</span>, <span style=\"color: #00af00; text-decoration-color: #00af00\">256</span>) │  <span style=\"color: #00af00; text-decoration-color: #00af00\">5,259,520</span> │ positional_embed… │\n",
              "│ (<span style=\"color: #0087ff; text-decoration-color: #0087ff\">TransformerDecode…</span> │                   │            │ transformer_enco… │\n",
              "├─────────────────────┼───────────────────┼────────────┼───────────────────┤\n",
              "│ dropout_3 (<span style=\"color: #0087ff; text-decoration-color: #0087ff\">Dropout</span>) │ (<span style=\"color: #00d7ff; text-decoration-color: #00d7ff\">None</span>, <span style=\"color: #00d7ff; text-decoration-color: #00d7ff\">None</span>, <span style=\"color: #00af00; text-decoration-color: #00af00\">256</span>) │          <span style=\"color: #00af00; text-decoration-color: #00af00\">0</span> │ transformer_deco… │\n",
              "├─────────────────────┼───────────────────┼────────────┼───────────────────┤\n",
              "│ dense_4 (<span style=\"color: #0087ff; text-decoration-color: #0087ff\">Dense</span>)     │ (<span style=\"color: #00d7ff; text-decoration-color: #00d7ff\">None</span>, <span style=\"color: #00d7ff; text-decoration-color: #00d7ff\">None</span>,      │  <span style=\"color: #00af00; text-decoration-color: #00af00\">3,855,000</span> │ dropout_3[<span style=\"color: #00af00; text-decoration-color: #00af00\">0</span>][<span style=\"color: #00af00; text-decoration-color: #00af00\">0</span>]   │\n",
              "│                     │ <span style=\"color: #00af00; text-decoration-color: #00af00\">15000</span>)            │            │                   │\n",
              "└─────────────────────┴───────────────────┴────────────┴───────────────────┘\n",
              "</pre>\n"
            ],
            "text/plain": [
              "┏━━━━━━━━━━━━━━━━━━━━━┳━━━━━━━━━━━━━━━━━━━┳━━━━━━━━━━━━┳━━━━━━━━━━━━━━━━━━━┓\n",
              "┃\u001b[1m \u001b[0m\u001b[1mLayer (type)       \u001b[0m\u001b[1m \u001b[0m┃\u001b[1m \u001b[0m\u001b[1mOutput Shape     \u001b[0m\u001b[1m \u001b[0m┃\u001b[1m \u001b[0m\u001b[1m   Param #\u001b[0m\u001b[1m \u001b[0m┃\u001b[1m \u001b[0m\u001b[1mConnected to     \u001b[0m\u001b[1m \u001b[0m┃\n",
              "┡━━━━━━━━━━━━━━━━━━━━━╇━━━━━━━━━━━━━━━━━━━╇━━━━━━━━━━━━╇━━━━━━━━━━━━━━━━━━━┩\n",
              "│ english             │ (\u001b[38;5;45mNone\u001b[0m, \u001b[38;5;45mNone\u001b[0m)      │          \u001b[38;5;34m0\u001b[0m │ -                 │\n",
              "│ (\u001b[38;5;33mInputLayer\u001b[0m)        │                   │            │                   │\n",
              "├─────────────────────┼───────────────────┼────────────┼───────────────────┤\n",
              "│ indonesian          │ (\u001b[38;5;45mNone\u001b[0m, \u001b[38;5;45mNone\u001b[0m)      │          \u001b[38;5;34m0\u001b[0m │ -                 │\n",
              "│ (\u001b[38;5;33mInputLayer\u001b[0m)        │                   │            │                   │\n",
              "├─────────────────────┼───────────────────┼────────────┼───────────────────┤\n",
              "│ positional_embeddi… │ (\u001b[38;5;45mNone\u001b[0m, \u001b[38;5;45mNone\u001b[0m, \u001b[38;5;34m256\u001b[0m) │  \u001b[38;5;34m3,845,120\u001b[0m │ english[\u001b[38;5;34m0\u001b[0m][\u001b[38;5;34m0\u001b[0m]     │\n",
              "│ (\u001b[38;5;33mPositionalEmbeddi…\u001b[0m │                   │            │                   │\n",
              "├─────────────────────┼───────────────────┼────────────┼───────────────────┤\n",
              "│ positional_embeddi… │ (\u001b[38;5;45mNone\u001b[0m, \u001b[38;5;45mNone\u001b[0m, \u001b[38;5;34m256\u001b[0m) │  \u001b[38;5;34m3,845,120\u001b[0m │ indonesian[\u001b[38;5;34m0\u001b[0m][\u001b[38;5;34m0\u001b[0m]  │\n",
              "│ (\u001b[38;5;33mPositionalEmbeddi…\u001b[0m │                   │            │                   │\n",
              "├─────────────────────┼───────────────────┼────────────┼───────────────────┤\n",
              "│ transformer_encoder │ (\u001b[38;5;45mNone\u001b[0m, \u001b[38;5;45mNone\u001b[0m, \u001b[38;5;34m256\u001b[0m) │  \u001b[38;5;34m3,155,456\u001b[0m │ positional_embed… │\n",
              "│ (\u001b[38;5;33mTransformerEncode…\u001b[0m │                   │            │                   │\n",
              "├─────────────────────┼───────────────────┼────────────┼───────────────────┤\n",
              "│ transformer_decoder │ (\u001b[38;5;45mNone\u001b[0m, \u001b[38;5;45mNone\u001b[0m, \u001b[38;5;34m256\u001b[0m) │  \u001b[38;5;34m5,259,520\u001b[0m │ positional_embed… │\n",
              "│ (\u001b[38;5;33mTransformerDecode…\u001b[0m │                   │            │ transformer_enco… │\n",
              "├─────────────────────┼───────────────────┼────────────┼───────────────────┤\n",
              "│ dropout_3 (\u001b[38;5;33mDropout\u001b[0m) │ (\u001b[38;5;45mNone\u001b[0m, \u001b[38;5;45mNone\u001b[0m, \u001b[38;5;34m256\u001b[0m) │          \u001b[38;5;34m0\u001b[0m │ transformer_deco… │\n",
              "├─────────────────────┼───────────────────┼────────────┼───────────────────┤\n",
              "│ dense_4 (\u001b[38;5;33mDense\u001b[0m)     │ (\u001b[38;5;45mNone\u001b[0m, \u001b[38;5;45mNone\u001b[0m,      │  \u001b[38;5;34m3,855,000\u001b[0m │ dropout_3[\u001b[38;5;34m0\u001b[0m][\u001b[38;5;34m0\u001b[0m]   │\n",
              "│                     │ \u001b[38;5;34m15000\u001b[0m)            │            │                   │\n",
              "└─────────────────────┴───────────────────┴────────────┴───────────────────┘\n"
            ]
          },
          "metadata": {},
          "output_type": "display_data"
        },
        {
          "data": {
            "text/html": [
              "<pre style=\"white-space:pre;overflow-x:auto;line-height:normal;font-family:Menlo,'DejaVu Sans Mono',consolas,'Courier New',monospace\"><span style=\"font-weight: bold\"> Total params: </span><span style=\"color: #00af00; text-decoration-color: #00af00\">19,960,216</span> (76.14 MB)\n",
              "</pre>\n"
            ],
            "text/plain": [
              "\u001b[1m Total params: \u001b[0m\u001b[38;5;34m19,960,216\u001b[0m (76.14 MB)\n"
            ]
          },
          "metadata": {},
          "output_type": "display_data"
        },
        {
          "data": {
            "text/html": [
              "<pre style=\"white-space:pre;overflow-x:auto;line-height:normal;font-family:Menlo,'DejaVu Sans Mono',consolas,'Courier New',monospace\"><span style=\"font-weight: bold\"> Trainable params: </span><span style=\"color: #00af00; text-decoration-color: #00af00\">19,960,216</span> (76.14 MB)\n",
              "</pre>\n"
            ],
            "text/plain": [
              "\u001b[1m Trainable params: \u001b[0m\u001b[38;5;34m19,960,216\u001b[0m (76.14 MB)\n"
            ]
          },
          "metadata": {},
          "output_type": "display_data"
        },
        {
          "data": {
            "text/html": [
              "<pre style=\"white-space:pre;overflow-x:auto;line-height:normal;font-family:Menlo,'DejaVu Sans Mono',consolas,'Courier New',monospace\"><span style=\"font-weight: bold\"> Non-trainable params: </span><span style=\"color: #00af00; text-decoration-color: #00af00\">0</span> (0.00 B)\n",
              "</pre>\n"
            ],
            "text/plain": [
              "\u001b[1m Non-trainable params: \u001b[0m\u001b[38;5;34m0\u001b[0m (0.00 B)\n"
            ]
          },
          "metadata": {},
          "output_type": "display_data"
        }
      ],
      "source": [
        "transformer.summary()"
      ]
    },
    {
      "cell_type": "markdown",
      "metadata": {
        "id": "Bety16-nsPvG"
      },
      "source": [
        "#### Model Interpretation\n",
        "1. Input Layer\n",
        "  * english (InputLayer) → (None, None)\n",
        "  Input English text sequence (sequence length is flexible).\n",
        "  * indonesian (InputLayer) → (None, None)\n",
        "  Input Indonesian text sequence (target sequence).\n",
        "2. Positional Embedding\n",
        "  * positional_embedding (english) → (None, None, 256) | 3,845,120 parameters\n",
        "  * positional_embedding (spanish) → (None, None, 256) | 3,845,120 parameters\n",
        "  * Each token (both input and target) is converted into a 256-dimensional embedding vector, then positional information is added so the model knows the word order.\n",
        "  * Parameter = vocab_size * embedding_dim (here approximately 15k * 256 = 3.8 million).\n",
        "3. Transformer Encoder\n",
        "  * transformer_encoder → (None, None, 256) | 3,155,456 parameters\n",
        "  * Accepts an English embedding input and processes it through:\n",
        "    - Multi-Head Self-Attention (relationships between words in English sentences).\n",
        "    - Feedforward Network (dense projection) for nonlinear transformation.\n",
        "    - Residual + Normalization for stability\n",
        "  * Output is a contextual representation of English.\n",
        "4. Transformer Decoder\n",
        "  * transformer_decoder → (None, None, 256) | 5,259,520 parameters\n",
        "  * Accepts:\n",
        "    - Target sequence embedding (Indonesian)\n",
        "    - Encoder representation (English)\n",
        "  * Processing includes:\n",
        "    - Masked Self-Attention (only allows the previous token to be seen in Indonesian).\n",
        "    - Cross-Attention (connects Indonesian tokens with the English encoder representation).\n",
        "    - Feedforward Network.\n",
        "  * The output is a representation of the target token that already knows the context of the previous input + output.\n",
        "5. Dropout\n",
        "  * dropout_3 → (None, None, 256)\n",
        "  Regularization layer to prevent overfitting.\n",
        "6. Dense (Output Layer)\n",
        "  * dense_4 (Dense) → (None, None, 15000) | 3,855,000 parameters\n",
        "  * A linear layer that maps the 256-dimensionality to the target vocabulary size (15k).\n",
        "  * Each target token is projected onto a word probability distribution via softmax.\n",
        "7. Total Parameters\n",
        "  * Total parameters = ~20 million (76 MB)\n",
        "  * All trainable (no frozen parameters).\n",
        "8. Core Architecture\n",
        "  * This model is a seq2seq Transformer for machine translation (English → Spanish) with:\n",
        "    - 256-dimensional embedding\n",
        "    - Encoder + Decoder stack\n",
        "    - Target vocabulary size 15k\n",
        "    - 20 million parameters in total"
      ]
    },
    {
      "cell_type": "code",
      "execution_count": null,
      "metadata": {
        "colab": {
          "base_uri": "https://localhost:8080/",
          "height": 790
        },
        "id": "0gXDlsdHSJsA",
        "outputId": "53725654-f46a-4eab-d476-bc5a422c140d"
      },
      "outputs": [
        {
          "data": {
            "image/png": "[encoded data removed]",
            "text/plain": [
              "<IPython.core.display.Image object>"
            ]
          },
          "execution_count": 43,
          "metadata": {},
          "output_type": "execute_result"
        }
      ],
      "source": [
        "from tensorflow.keras.utils import plot_model\n",
        "from IPython.display import Image\n",
        "\n",
        "plot_model(transformer, to_file='transformer.png', show_shapes=True)\n",
        "Image(filename='transformer.png')"
      ]
    },
    {
      "cell_type": "markdown",
      "metadata": {
        "id": "UWZOsUxrx-9b"
      },
      "source": [
        "The lighter setting (faster training) will be named vanguard and the initial setting will be named transformer"
      ]
    },
    {
      "cell_type": "markdown",
      "metadata": {
        "id": "2xED9aMjsPvG"
      },
      "source": [
        "## Build a Vanguard Model"
      ]
    },
    {
      "cell_type": "markdown",
      "metadata": {
        "id": "3-C4zHCrsPvG"
      },
      "source": [
        "### Determine the initial configuration"
      ]
    },
    {
      "cell_type": "code",
      "execution_count": null,
      "metadata": {
        "id": "JwfcNwoOsPvH"
      },
      "outputs": [],
      "source": [
        "embed_dim = 128\n",
        "dense_dim = 512\n",
        "num_heads = 4\n",
        "sequence_length = 20\n",
        "batch_size = 32"
      ]
    },
    {
      "cell_type": "markdown",
      "metadata": {
        "id": "lLax_bQfsPvH"
      },
      "source": [
        "### Defines the input for the source language (English) in the form of a sequence of ID tokens, with dynamic length (None)."
      ]
    },
    {
      "cell_type": "code",
      "execution_count": null,
      "metadata": {
        "id": "5O5DMVoSsPvH"
      },
      "outputs": [],
      "source": [
        "encoder_inputs = keras.Input(shape=(None,), dtype=\"int64\", name=\"english\")"
      ]
    },
    {
      "cell_type": "markdown",
      "metadata": {
        "id": "2RxOBUyZsPvH"
      },
      "source": [
        "### English token representation that takes into account word order/position."
      ]
    },
    {
      "cell_type": "code",
      "execution_count": null,
      "metadata": {
        "id": "2J0PR4WssPvH"
      },
      "outputs": [],
      "source": [
        "x = PositionalEmbedding(sequence_length, vocab_size, embed_dim)(encoder_inputs)"
      ]
    },
    {
      "cell_type": "markdown",
      "metadata": {
        "id": "VxcCATQzsPvH"
      },
      "source": [
        "### Full context representation for the entire input sentence (English)."
      ]
    },
    {
      "cell_type": "code",
      "execution_count": null,
      "metadata": {
        "id": "m1D1AaLcsPvH"
      },
      "outputs": [],
      "source": [
        "encoder_outputs = TransformerEncoder(embed_dim, dense_dim, num_heads)(x)"
      ]
    },
    {
      "cell_type": "markdown",
      "metadata": {
        "id": "1KKnSmvhsPvI"
      },
      "source": [
        "### Input in the form of an ID token for the target language (Indonesian), used during training."
      ]
    },
    {
      "cell_type": "code",
      "execution_count": null,
      "metadata": {
        "id": "m5_AHHrbyFhh"
      },
      "outputs": [],
      "source": [
        "decoder_inputs = keras.Input(shape=(None,), dtype=\"int64\", name=\"indonesian\")\n",
        "x = PositionalEmbedding(sequence_length, vocab_size, embed_dim)(decoder_inputs)\n",
        "x = TransformerDecoder(embed_dim, dense_dim, num_heads)(x, encoder_outputs)\n",
        "x = layers.Dropout(0.5)(x)\n",
        "decoder_outputs = layers.Dense(vocab_size, activation=\"softmax\")(x)"
      ]
    },
    {
      "cell_type": "code",
      "execution_count": null,
      "metadata": {
        "id": "07iDT1zvsPvI"
      },
      "outputs": [],
      "source": [
        "vanguard = keras.Model([encoder_inputs, decoder_inputs], decoder_outputs)"
      ]
    },
    {
      "cell_type": "code",
      "execution_count": null,
      "metadata": {
        "colab": {
          "base_uri": "https://localhost:8080/",
          "height": 506
        },
        "id": "85D7P-YgsPvI",
        "outputId": "f47789f5-5306-4496-b5f7-2f58dee9f25e"
      },
      "outputs": [
        {
          "data": {
            "text/html": [
              "<pre style=\"white-space:pre;overflow-x:auto;line-height:normal;font-family:Menlo,'DejaVu Sans Mono',consolas,'Courier New',monospace\"><span style=\"font-weight: bold\">Model: \"functional_5\"</span>\n",
              "</pre>\n"
            ],
            "text/plain": [
              "\u001b[1mModel: \"functional_5\"\u001b[0m\n"
            ]
          },
          "metadata": {},
          "output_type": "display_data"
        },
        {
          "data": {
            "text/html": [
              "<pre style=\"white-space:pre;overflow-x:auto;line-height:normal;font-family:Menlo,'DejaVu Sans Mono',consolas,'Courier New',monospace\">┏━━━━━━━━━━━━━━━━━━━━━┳━━━━━━━━━━━━━━━━━━━┳━━━━━━━━━━━━┳━━━━━━━━━━━━━━━━━━━┓\n",
              "┃<span style=\"font-weight: bold\"> Layer (type)        </span>┃<span style=\"font-weight: bold\"> Output Shape      </span>┃<span style=\"font-weight: bold\">    Param # </span>┃<span style=\"font-weight: bold\"> Connected to      </span>┃\n",
              "┡━━━━━━━━━━━━━━━━━━━━━╇━━━━━━━━━━━━━━━━━━━╇━━━━━━━━━━━━╇━━━━━━━━━━━━━━━━━━━┩\n",
              "│ english             │ (<span style=\"color: #00d7ff; text-decoration-color: #00d7ff\">None</span>, <span style=\"color: #00d7ff; text-decoration-color: #00d7ff\">None</span>)      │          <span style=\"color: #00af00; text-decoration-color: #00af00\">0</span> │ -                 │\n",
              "│ (<span style=\"color: #0087ff; text-decoration-color: #0087ff\">InputLayer</span>)        │                   │            │                   │\n",
              "├─────────────────────┼───────────────────┼────────────┼───────────────────┤\n",
              "│ indonesian          │ (<span style=\"color: #00d7ff; text-decoration-color: #00d7ff\">None</span>, <span style=\"color: #00d7ff; text-decoration-color: #00d7ff\">None</span>)      │          <span style=\"color: #00af00; text-decoration-color: #00af00\">0</span> │ -                 │\n",
              "│ (<span style=\"color: #0087ff; text-decoration-color: #0087ff\">InputLayer</span>)        │                   │            │                   │\n",
              "├─────────────────────┼───────────────────┼────────────┼───────────────────┤\n",
              "│ positional_embeddi… │ (<span style=\"color: #00d7ff; text-decoration-color: #00d7ff\">None</span>, <span style=\"color: #00d7ff; text-decoration-color: #00d7ff\">None</span>, <span style=\"color: #00af00; text-decoration-color: #00af00\">128</span>) │  <span style=\"color: #00af00; text-decoration-color: #00af00\">1,922,560</span> │ english[<span style=\"color: #00af00; text-decoration-color: #00af00\">0</span>][<span style=\"color: #00af00; text-decoration-color: #00af00\">0</span>]     │\n",
              "│ (<span style=\"color: #0087ff; text-decoration-color: #0087ff\">PositionalEmbeddi…</span> │                   │            │                   │\n",
              "├─────────────────────┼───────────────────┼────────────┼───────────────────┤\n",
              "│ positional_embeddi… │ (<span style=\"color: #00d7ff; text-decoration-color: #00d7ff\">None</span>, <span style=\"color: #00d7ff; text-decoration-color: #00d7ff\">None</span>, <span style=\"color: #00af00; text-decoration-color: #00af00\">128</span>) │  <span style=\"color: #00af00; text-decoration-color: #00af00\">1,922,560</span> │ indonesian[<span style=\"color: #00af00; text-decoration-color: #00af00\">0</span>][<span style=\"color: #00af00; text-decoration-color: #00af00\">0</span>]  │\n",
              "│ (<span style=\"color: #0087ff; text-decoration-color: #0087ff\">PositionalEmbeddi…</span> │                   │            │                   │\n",
              "├─────────────────────┼───────────────────┼────────────┼───────────────────┤\n",
              "│ transformer_encode… │ (<span style=\"color: #00d7ff; text-decoration-color: #00d7ff\">None</span>, <span style=\"color: #00d7ff; text-decoration-color: #00d7ff\">None</span>, <span style=\"color: #00af00; text-decoration-color: #00af00\">128</span>) │    <span style=\"color: #00af00; text-decoration-color: #00af00\">396,032</span> │ positional_embed… │\n",
              "│ (<span style=\"color: #0087ff; text-decoration-color: #0087ff\">TransformerEncode…</span> │                   │            │                   │\n",
              "├─────────────────────┼───────────────────┼────────────┼───────────────────┤\n",
              "│ transformer_decode… │ (<span style=\"color: #00d7ff; text-decoration-color: #00d7ff\">None</span>, <span style=\"color: #00d7ff; text-decoration-color: #00d7ff\">None</span>, <span style=\"color: #00af00; text-decoration-color: #00af00\">128</span>) │    <span style=\"color: #00af00; text-decoration-color: #00af00\">660,096</span> │ positional_embed… │\n",
              "│ (<span style=\"color: #0087ff; text-decoration-color: #0087ff\">TransformerDecode…</span> │                   │            │ transformer_enco… │\n",
              "├─────────────────────┼───────────────────┼────────────┼───────────────────┤\n",
              "│ dropout_7 (<span style=\"color: #0087ff; text-decoration-color: #0087ff\">Dropout</span>) │ (<span style=\"color: #00d7ff; text-decoration-color: #00d7ff\">None</span>, <span style=\"color: #00d7ff; text-decoration-color: #00d7ff\">None</span>, <span style=\"color: #00af00; text-decoration-color: #00af00\">128</span>) │          <span style=\"color: #00af00; text-decoration-color: #00af00\">0</span> │ transformer_deco… │\n",
              "├─────────────────────┼───────────────────┼────────────┼───────────────────┤\n",
              "│ dense_9 (<span style=\"color: #0087ff; text-decoration-color: #0087ff\">Dense</span>)     │ (<span style=\"color: #00d7ff; text-decoration-color: #00d7ff\">None</span>, <span style=\"color: #00d7ff; text-decoration-color: #00d7ff\">None</span>,      │  <span style=\"color: #00af00; text-decoration-color: #00af00\">1,935,000</span> │ dropout_7[<span style=\"color: #00af00; text-decoration-color: #00af00\">0</span>][<span style=\"color: #00af00; text-decoration-color: #00af00\">0</span>]   │\n",
              "│                     │ <span style=\"color: #00af00; text-decoration-color: #00af00\">15000</span>)            │            │                   │\n",
              "└─────────────────────┴───────────────────┴────────────┴───────────────────┘\n",
              "</pre>\n"
            ],
            "text/plain": [
              "┏━━━━━━━━━━━━━━━━━━━━━┳━━━━━━━━━━━━━━━━━━━┳━━━━━━━━━━━━┳━━━━━━━━━━━━━━━━━━━┓\n",
              "┃\u001b[1m \u001b[0m\u001b[1mLayer (type)       \u001b[0m\u001b[1m \u001b[0m┃\u001b[1m \u001b[0m\u001b[1mOutput Shape     \u001b[0m\u001b[1m \u001b[0m┃\u001b[1m \u001b[0m\u001b[1m   Param #\u001b[0m\u001b[1m \u001b[0m┃\u001b[1m \u001b[0m\u001b[1mConnected to     \u001b[0m\u001b[1m \u001b[0m┃\n",
              "┡━━━━━━━━━━━━━━━━━━━━━╇━━━━━━━━━━━━━━━━━━━╇━━━━━━━━━━━━╇━━━━━━━━━━━━━━━━━━━┩\n",
              "│ english             │ (\u001b[38;5;45mNone\u001b[0m, \u001b[38;5;45mNone\u001b[0m)      │          \u001b[38;5;34m0\u001b[0m │ -                 │\n",
              "│ (\u001b[38;5;33mInputLayer\u001b[0m)        │                   │            │                   │\n",
              "├─────────────────────┼───────────────────┼────────────┼───────────────────┤\n",
              "│ indonesian          │ (\u001b[38;5;45mNone\u001b[0m, \u001b[38;5;45mNone\u001b[0m)      │          \u001b[38;5;34m0\u001b[0m │ -                 │\n",
              "│ (\u001b[38;5;33mInputLayer\u001b[0m)        │                   │            │                   │\n",
              "├─────────────────────┼───────────────────┼────────────┼───────────────────┤\n",
              "│ positional_embeddi… │ (\u001b[38;5;45mNone\u001b[0m, \u001b[38;5;45mNone\u001b[0m, \u001b[38;5;34m128\u001b[0m) │  \u001b[38;5;34m1,922,560\u001b[0m │ english[\u001b[38;5;34m0\u001b[0m][\u001b[38;5;34m0\u001b[0m]     │\n",
              "│ (\u001b[38;5;33mPositionalEmbeddi…\u001b[0m │                   │            │                   │\n",
              "├─────────────────────┼───────────────────┼────────────┼───────────────────┤\n",
              "│ positional_embeddi… │ (\u001b[38;5;45mNone\u001b[0m, \u001b[38;5;45mNone\u001b[0m, \u001b[38;5;34m128\u001b[0m) │  \u001b[38;5;34m1,922,560\u001b[0m │ indonesian[\u001b[38;5;34m0\u001b[0m][\u001b[38;5;34m0\u001b[0m]  │\n",
              "│ (\u001b[38;5;33mPositionalEmbeddi…\u001b[0m │                   │            │                   │\n",
              "├─────────────────────┼───────────────────┼────────────┼───────────────────┤\n",
              "│ transformer_encode… │ (\u001b[38;5;45mNone\u001b[0m, \u001b[38;5;45mNone\u001b[0m, \u001b[38;5;34m128\u001b[0m) │    \u001b[38;5;34m396,032\u001b[0m │ positional_embed… │\n",
              "│ (\u001b[38;5;33mTransformerEncode…\u001b[0m │                   │            │                   │\n",
              "├─────────────────────┼───────────────────┼────────────┼───────────────────┤\n",
              "│ transformer_decode… │ (\u001b[38;5;45mNone\u001b[0m, \u001b[38;5;45mNone\u001b[0m, \u001b[38;5;34m128\u001b[0m) │    \u001b[38;5;34m660,096\u001b[0m │ positional_embed… │\n",
              "│ (\u001b[38;5;33mTransformerDecode…\u001b[0m │                   │            │ transformer_enco… │\n",
              "├─────────────────────┼───────────────────┼────────────┼───────────────────┤\n",
              "│ dropout_7 (\u001b[38;5;33mDropout\u001b[0m) │ (\u001b[38;5;45mNone\u001b[0m, \u001b[38;5;45mNone\u001b[0m, \u001b[38;5;34m128\u001b[0m) │          \u001b[38;5;34m0\u001b[0m │ transformer_deco… │\n",
              "├─────────────────────┼───────────────────┼────────────┼───────────────────┤\n",
              "│ dense_9 (\u001b[38;5;33mDense\u001b[0m)     │ (\u001b[38;5;45mNone\u001b[0m, \u001b[38;5;45mNone\u001b[0m,      │  \u001b[38;5;34m1,935,000\u001b[0m │ dropout_7[\u001b[38;5;34m0\u001b[0m][\u001b[38;5;34m0\u001b[0m]   │\n",
              "│                     │ \u001b[38;5;34m15000\u001b[0m)            │            │                   │\n",
              "└─────────────────────┴───────────────────┴────────────┴───────────────────┘\n"
            ]
          },
          "metadata": {},
          "output_type": "display_data"
        },
        {
          "data": {
            "text/html": [
              "<pre style=\"white-space:pre;overflow-x:auto;line-height:normal;font-family:Menlo,'DejaVu Sans Mono',consolas,'Courier New',monospace\"><span style=\"font-weight: bold\"> Total params: </span><span style=\"color: #00af00; text-decoration-color: #00af00\">6,836,248</span> (26.08 MB)\n",
              "</pre>\n"
            ],
            "text/plain": [
              "\u001b[1m Total params: \u001b[0m\u001b[38;5;34m6,836,248\u001b[0m (26.08 MB)\n"
            ]
          },
          "metadata": {},
          "output_type": "display_data"
        },
        {
          "data": {
            "text/html": [
              "<pre style=\"white-space:pre;overflow-x:auto;line-height:normal;font-family:Menlo,'DejaVu Sans Mono',consolas,'Courier New',monospace\"><span style=\"font-weight: bold\"> Trainable params: </span><span style=\"color: #00af00; text-decoration-color: #00af00\">6,836,248</span> (26.08 MB)\n",
              "</pre>\n"
            ],
            "text/plain": [
              "\u001b[1m Trainable params: \u001b[0m\u001b[38;5;34m6,836,248\u001b[0m (26.08 MB)\n"
            ]
          },
          "metadata": {},
          "output_type": "display_data"
        },
        {
          "data": {
            "text/html": [
              "<pre style=\"white-space:pre;overflow-x:auto;line-height:normal;font-family:Menlo,'DejaVu Sans Mono',consolas,'Courier New',monospace\"><span style=\"font-weight: bold\"> Non-trainable params: </span><span style=\"color: #00af00; text-decoration-color: #00af00\">0</span> (0.00 B)\n",
              "</pre>\n"
            ],
            "text/plain": [
              "\u001b[1m Non-trainable params: \u001b[0m\u001b[38;5;34m0\u001b[0m (0.00 B)\n"
            ]
          },
          "metadata": {},
          "output_type": "display_data"
        }
      ],
      "source": [
        "vanguard.summary()"
      ]
    },
    {
      "cell_type": "markdown",
      "metadata": {
        "id": "72vor9TisPvI"
      },
      "source": [
        "### Model Interpretation\n",
        "1. Input Layer\n",
        "  * english (InputLayer): accepts input in the form of English sequence tokens.\n",
        "  * indonesian (InputLayer): accepts input in the form of Indonesian sequence tokens.\n",
        "  * Both are in the form (None, None) → meaning the sequence length is flexible, and the batch size is also flexible.\n",
        "2. Positional Embedding\n",
        "  * english → positional_embedding:\n",
        "    - Token embedding + positional embedding, resulting in a 128-dimensional representation.\n",
        "    - Number of parameters: 1,922,560\n",
        "    - → This is derived from the vocabulary size (input_dim) × output_dim (128).\n",
        "  * indonesian → positional_embedding_1:\n",
        "    - Same as above, for Indonesian.\n",
        "    - The parameters are also 1,922,560.\n",
        "    - These two embeddings ensure that both English and Indonesian tokens have a vector representation + positional information in the sequence.\n",
        "3. Transformer Encoder\n",
        "  * Input: English embedding.\n",
        "  * Process: self-attention + feedforward network + residual + norm layer.\n",
        "  * Output: 128-dimensional English contextual representation.\n",
        "  * Parameters: 396,032 (quite light because embed_dim is only 128 and the number of heads is limited).\n",
        "4. Transformer Decoder\n",
        "  * Main input: Indonesian embedding.\n",
        "  * Additional input: the result of the encoder (English).\n",
        "  * Process: masked self-attention for the decoder, cross-attention to the encoder output, then feedforward network.\n",
        "  * Output: Indonesian representation connected to the English context.\n",
        "  * Parameters: 660,096 (larger than the encoder, due to additional cross-attention).\n",
        "5. Dropout\n",
        "  * dropout_7: maintains generalization, prevents overfitting.\n",
        "6. Dense Output Layer\n",
        "  * dense_9 (Dense, 15,000 units):\n",
        "  * Output is a probability distribution over 15,000 words (assuming target vocabulary size = 15k).\n",
        "  * Parameters: 1,935,000 (128 × 15,000 + bias).\n",
        "7. Total Parameters\n",
        "  * 6,836,248 (~6.8M parameters)\n",
        "  * Very lightweight compared to standard Transformer models (for example, the original Transformer can have hundreds of millions of parameters).\n",
        "  * It's reasonable to call it \"vanguard\" because it's compact and easy to train with limited resources.\n",
        "8. Concise Interpretation\n",
        "  * This vanguard model is a seq2seq Transformer for English → Spanish translation.\n",
        "  * The encoder understands English sentences.\n",
        "  * The decoder generates Spanish sentences based on the encoder's output.\n",
        "  * The small embedding size (128) and limited vocabulary (15k) make this model lightweight, with only 6.8 million parameters.\n",
        "  * This makes the model suitable for academic experiments, portfolios, or training on laptops without large GPUs, while still maintaining the typical Transformer (encoder–decoder) architecture."
      ]
    },
    {
      "cell_type": "code",
      "execution_count": null,
      "metadata": {
        "colab": {
          "base_uri": "https://localhost:8080/",
          "height": 790
        },
        "id": "guado_pXSMAc",
        "outputId": "d520ded6-1cf6-4542-8fdd-1e979fd56755"
      },
      "outputs": [
        {
          "data": {
            "image/png": "[encoded data removed]",
            "text/plain": [
              "<IPython.core.display.Image object>"
            ]
          },
          "execution_count": 51,
          "metadata": {},
          "output_type": "execute_result"
        }
      ],
      "source": [
        "from tensorflow.keras.utils import plot_model\n",
        "plot_model(vanguard, to_file='vanguard.png', show_shapes=True)\n",
        "from IPython.display import Image\n",
        "Image(\"vanguard.png\")"
      ]
    },
    {
      "cell_type": "markdown",
      "metadata": {
        "id": "tx45csyNo6sc"
      },
      "source": [
        "## Compile and Training"
      ]
    },
    {
      "cell_type": "markdown",
      "metadata": {
        "id": "pmQTQRymsPvJ"
      },
      "source": [
        "#### Transformer model"
      ]
    },
    {
      "cell_type": "code",
      "execution_count": null,
      "metadata": {
        "colab": {
          "base_uri": "https://localhost:8080/"
        },
        "id": "DlV-JNHuYBWM",
        "outputId": "0aad80bd-fafb-4a29-d6cf-b7c55524f257"
      },
      "outputs": [
        {
          "name": "stdout",
          "output_type": "stream",
          "text": [
            "Epoch 1/5\n",
            "\u001b[1m163/163\u001b[0m \u001b[32m━━━━━━━━━━━━━━━━━━━━\u001b[0m\u001b[37m\u001b[0m \u001b[1m0s\u001b[0m 7s/step - accuracy: 0.7104 - loss: 3.1959\n",
            "Epoch 1: saving model to language_translation_checkpoint.weights.h5\n",
            "\u001b[1m163/163\u001b[0m \u001b[32m━━━━━━━━━━━━━━━━━━━━\u001b[0m\u001b[37m\u001b[0m \u001b[1m1253s\u001b[0m 8s/step - accuracy: 0.7106 - loss: 3.1896 - val_accuracy: 0.7716 - val_loss: 1.6012\n",
            "Epoch 2/5\n",
            "\u001b[1m163/163\u001b[0m \u001b[32m━━━━━━━━━━━━━━━━━━━━\u001b[0m\u001b[37m\u001b[0m \u001b[1m0s\u001b[0m 7s/step - accuracy: 0.7737 - loss: 1.5829\n",
            "Epoch 2: saving model to language_translation_checkpoint.weights.h5\n",
            "\u001b[1m163/163\u001b[0m \u001b[32m━━━━━━━━━━━━━━━━━━━━\u001b[0m\u001b[37m\u001b[0m \u001b[1m1258s\u001b[0m 8s/step - accuracy: 0.7737 - loss: 1.5828 - val_accuracy: 0.7785 - val_loss: 1.5094\n",
            "Epoch 3/5\n",
            "\u001b[1m163/163\u001b[0m \u001b[32m━━━━━━━━━━━━━━━━━━━━\u001b[0m\u001b[37m\u001b[0m \u001b[1m0s\u001b[0m 7s/step - accuracy: 0.7800 - loss: 1.4736\n",
            "Epoch 3: saving model to language_translation_checkpoint.weights.h5\n",
            "\u001b[1m163/163\u001b[0m \u001b[32m━━━━━━━━━━━━━━━━━━━━\u001b[0m\u001b[37m\u001b[0m \u001b[1m1270s\u001b[0m 8s/step - accuracy: 0.7800 - loss: 1.4735 - val_accuracy: 0.7829 - val_loss: 1.4524\n",
            "Epoch 4/5\n",
            "\u001b[1m163/163\u001b[0m \u001b[32m━━━━━━━━━━━━━━━━━━━━\u001b[0m\u001b[37m\u001b[0m \u001b[1m0s\u001b[0m 8s/step - accuracy: 0.7840 - loss: 1.3978\n",
            "Epoch 4: saving model to language_translation_checkpoint.weights.h5\n",
            "\u001b[1m163/163\u001b[0m \u001b[32m━━━━━━━━━━━━━━━━━━━━\u001b[0m\u001b[37m\u001b[0m \u001b[1m1295s\u001b[0m 8s/step - accuracy: 0.7840 - loss: 1.3977 - val_accuracy: 0.7903 - val_loss: 1.4068\n",
            "Epoch 5/5\n",
            "\u001b[1m163/163\u001b[0m \u001b[32m━━━━━━━━━━━━━━━━━━━━\u001b[0m\u001b[37m\u001b[0m \u001b[1m0s\u001b[0m 7s/step - accuracy: 0.7995 - loss: 1.2937\n",
            "Epoch 5: saving model to language_translation_checkpoint.weights.h5\n",
            "\u001b[1m163/163\u001b[0m \u001b[32m━━━━━━━━━━━━━━━━━━━━\u001b[0m\u001b[37m\u001b[0m \u001b[1m1265s\u001b[0m 8s/step - accuracy: 0.7995 - loss: 1.2935 - val_accuracy: 0.8121 - val_loss: 1.2692\n"
          ]
        },
        {
          "data": {
            "text/plain": [
              "<keras.src.callbacks.history.History at 0x7853328f61e0>"
            ]
          },
          "execution_count": 52,
          "metadata": {},
          "output_type": "execute_result"
        }
      ],
      "source": [
        "transformer.compile(\n",
        "    optimizer=\"rmsprop\",\n",
        "    loss=\"sparse_categorical_crossentropy\",\n",
        "    metrics=[\"accuracy\"]\n",
        ")\n",
        "\n",
        "checkpoint = keras.callbacks.ModelCheckpoint(\n",
        "    filepath=\"language_translation_checkpoint.weights.h5\",\n",
        "    save_weights_only=True,\n",
        "    verbose=1,\n",
        "    monitor=\"val_accuracy\"\n",
        ")\n",
        "\n",
        "transformer.fit(train_ds, epochs=5, validation_data=val_ds, callbacks=[checkpoint])"
      ]
    },
    {
      "cell_type": "markdown",
      "metadata": {
        "id": "f8mHnyfmyJaR"
      },
      "source": [
        "#### Vanguard model"
      ]
    },
    {
      "cell_type": "code",
      "execution_count": null,
      "metadata": {
        "colab": {
          "base_uri": "https://localhost:8080/"
        },
        "id": "oMsWkXCOyK2o",
        "outputId": "4a9aee2d-32a1-4c48-8a5a-5752d7c7d1b4"
      },
      "outputs": [
        {
          "name": "stdout",
          "output_type": "stream",
          "text": [
            "Epoch 1/5\n",
            "\u001b[1m163/163\u001b[0m \u001b[32m━━━━━━━━━━━━━━━━━━━━\u001b[0m\u001b[37m\u001b[0m \u001b[1m0s\u001b[0m 2s/step - accuracy: 0.6960 - loss: 4.4981\n",
            "Epoch 1: saving model to language_translation_checkpoint.weights.h5\n",
            "\u001b[1m163/163\u001b[0m \u001b[32m━━━━━━━━━━━━━━━━━━━━\u001b[0m\u001b[37m\u001b[0m \u001b[1m376s\u001b[0m 2s/step - accuracy: 0.6963 - loss: 4.4878 - val_accuracy: 0.7667 - val_loss: 1.6719\n",
            "Epoch 2/5\n",
            "\u001b[1m163/163\u001b[0m \u001b[32m━━━━━━━━━━━━━━━━━━━━\u001b[0m\u001b[37m\u001b[0m \u001b[1m0s\u001b[0m 2s/step - accuracy: 0.7688 - loss: 1.6582\n",
            "Epoch 2: saving model to language_translation_checkpoint.weights.h5\n",
            "\u001b[1m163/163\u001b[0m \u001b[32m━━━━━━━━━━━━━━━━━━━━\u001b[0m\u001b[37m\u001b[0m \u001b[1m374s\u001b[0m 2s/step - accuracy: 0.7688 - loss: 1.6580 - val_accuracy: 0.7759 - val_loss: 1.5622\n",
            "Epoch 3/5\n",
            "\u001b[1m163/163\u001b[0m \u001b[32m━━━━━━━━━━━━━━━━━━━━\u001b[0m\u001b[37m\u001b[0m \u001b[1m0s\u001b[0m 2s/step - accuracy: 0.7760 - loss: 1.5470\n",
            "Epoch 3: saving model to language_translation_checkpoint.weights.h5\n",
            "\u001b[1m163/163\u001b[0m \u001b[32m━━━━━━━━━━━━━━━━━━━━\u001b[0m\u001b[37m\u001b[0m \u001b[1m361s\u001b[0m 2s/step - accuracy: 0.7760 - loss: 1.5469 - val_accuracy: 0.7784 - val_loss: 1.5056\n",
            "Epoch 4/5\n",
            "\u001b[1m163/163\u001b[0m \u001b[32m━━━━━━━━━━━━━━━━━━━━\u001b[0m\u001b[37m\u001b[0m \u001b[1m0s\u001b[0m 2s/step - accuracy: 0.7806 - loss: 1.4768\n",
            "Epoch 4: saving model to language_translation_checkpoint.weights.h5\n",
            "\u001b[1m163/163\u001b[0m \u001b[32m━━━━━━━━━━━━━━━━━━━━\u001b[0m\u001b[37m\u001b[0m \u001b[1m383s\u001b[0m 2s/step - accuracy: 0.7806 - loss: 1.4767 - val_accuracy: 0.7830 - val_loss: 1.4635\n",
            "Epoch 5/5\n",
            "\u001b[1m163/163\u001b[0m \u001b[32m━━━━━━━━━━━━━━━━━━━━\u001b[0m\u001b[37m\u001b[0m \u001b[1m0s\u001b[0m 2s/step - accuracy: 0.7866 - loss: 1.4114\n",
            "Epoch 5: saving model to language_translation_checkpoint.weights.h5\n",
            "\u001b[1m163/163\u001b[0m \u001b[32m━━━━━━━━━━━━━━━━━━━━\u001b[0m\u001b[37m\u001b[0m \u001b[1m361s\u001b[0m 2s/step - accuracy: 0.7867 - loss: 1.4112 - val_accuracy: 0.8026 - val_loss: 1.3401\n"
          ]
        },
        {
          "data": {
            "text/plain": [
              "<keras.src.callbacks.history.History at 0x7853326dafc0>"
            ]
          },
          "execution_count": 53,
          "metadata": {},
          "output_type": "execute_result"
        }
      ],
      "source": [
        "vanguard.compile(\n",
        "    optimizer=\"rmsprop\",\n",
        "    loss=\"sparse_categorical_crossentropy\",\n",
        "    metrics=[\"accuracy\"]\n",
        ")\n",
        "\n",
        "checkpoint = keras.callbacks.ModelCheckpoint(\n",
        "    filepath=\"language_translation_checkpoint.weights.h5\",\n",
        "    save_weights_only=True,\n",
        "    verbose=1,\n",
        "    monitor=\"val_accuracy\"\n",
        ")\n",
        "\n",
        "vanguard.fit(train_ds, epochs=5, validation_data=val_ds, callbacks=[checkpoint])"
      ]
    },
    {
      "cell_type": "markdown",
      "metadata": {
        "id": "ciKB-5RCsPvJ"
      },
      "source": [
        "#### Training Performance Comparison\n",
        "1. Initial Training (Epoch 1)\n",
        "  * Transformer: train acc 71%, val acc 77%, loss is still high (3.18 → 1.60) (quite high from the start → quick adaptation).\n",
        "  * Vanguard: train acc 69%, val acc 76%, higher loss (4.49 → 1.67 (start heavier than Transformer).\n",
        "2. Progress Over 5 Epochs\n",
        "  * Transformer: consistent increase, train acc 79.9%, val acc 81.2%, val loss decreased to 1.26.\n",
        "  * Vanguard: also steadily increased, train acc 78.6%, val acc 80.2%, val loss 1.34.\n",
        "  * Transformer has approximately +1% better validation accuracy and lower val loss → slightly better generalization.\n",
        "3. Training Speed\n",
        "  * Transformer: ± 1260 seconds/epoch (~21 minutes).\n",
        "  * Vanguard: ± 370 seconds/epoch (~6 minutes).\n",
        "  * Vanguard is 3x faster than Transformer.\n",
        "#### Interpretation\n",
        "  * Transformer is more accurate (81.2% vs. 80.2%) and has lower val loss, indicating Slightly better translation quality.\n",
        "  * Vanguard is lighter, training is 3x faster, and the results are only slightly different (~1%) than Transformer.\n",
        "  * If the goal is maximum accuracy (production, deployment with large servers, high-quality real-time applications) → Transformer is more appropriate.\n",
        "  * If the goal is resource efficiency and speed of experimentation (prototyping, training on laptops, edge devices) → Vanguard is very practical.\n",
        "  * The small performance gap indicates that Vanguard successfully maintains the trade-off between accuracy and efficiency."
      ]
    },
    {
      "cell_type": "markdown",
      "metadata": {
        "id": "T2-E06uKo9ff"
      },
      "source": [
        "## Evaluate BLEU Score"
      ]
    },
    {
      "cell_type": "markdown",
      "metadata": {
        "id": "AjeiEAlxsPvK"
      },
      "source": [
        "#### Transformer model"
      ]
    },
    {
      "cell_type": "code",
      "execution_count": null,
      "metadata": {
        "colab": {
          "base_uri": "https://localhost:8080/"
        },
        "id": "trM8O_CIZovW",
        "outputId": "2a97f90e-4f9a-4bd6-e4a0-7b6517fb14ea"
      },
      "outputs": [
        {
          "name": "stdout",
          "output_type": "stream",
          "text": [
            "Input: What do you call this animal in Japanese?\n",
            "Prediction: apa yang kamu lakukan dengan apa yang kamu lakukan end          \n",
            "Target: [['Apa', 'nama', 'hewan', 'ini', 'dalam', 'bahasa', 'Jepang?']]\n",
            "BLEU: 0.0000\n",
            "\n",
            "Input: It was really cheap.\n",
            "Prediction: itu tidak akan terjadi end               \n",
            "Target: [['Itu', 'sangat', 'murah.']]\n",
            "BLEU: 0.0000\n",
            "\n",
            "Input: My bicycle's been stolen.\n",
            "Prediction: saya tidak akan pernah makan malam ini end            \n",
            "Target: [['Sepedaku', 'dicuri.']]\n",
            "BLEU: 0.0000\n",
            "\n",
            "Input: Tom's parents were both teachers.\n",
            "Prediction: tom tidak akan pernah makan malam ini end            \n",
            "Target: [['Kedua', 'orang', 'tua', 'Tom', 'adalah', 'guru.']]\n",
            "BLEU: 0.0000\n",
            "\n"
          ]
        },
        {
          "name": "stderr",
          "output_type": "stream",
          "text": [
            "/usr/local/lib/python3.12/dist-packages/nltk/translate/bleu_score.py:577: UserWarning: \n",
            "The hypothesis contains 0 counts of 2-gram overlaps.\n",
            "Therefore the BLEU score evaluates to 0, independently of\n",
            "how many N-gram overlaps of lower order it contains.\n",
            "Consider using lower n-gram order or use SmoothingFunction()\n",
            "  warnings.warn(_msg)\n",
            "/usr/local/lib/python3.12/dist-packages/nltk/translate/bleu_score.py:577: UserWarning: \n",
            "The hypothesis contains 0 counts of 3-gram overlaps.\n",
            "Therefore the BLEU score evaluates to 0, independently of\n",
            "how many N-gram overlaps of lower order it contains.\n",
            "Consider using lower n-gram order or use SmoothingFunction()\n",
            "  warnings.warn(_msg)\n",
            "/usr/local/lib/python3.12/dist-packages/nltk/translate/bleu_score.py:577: UserWarning: \n",
            "The hypothesis contains 0 counts of 4-gram overlaps.\n",
            "Therefore the BLEU score evaluates to 0, independently of\n",
            "how many N-gram overlaps of lower order it contains.\n",
            "Consider using lower n-gram order or use SmoothingFunction()\n",
            "  warnings.warn(_msg)\n"
          ]
        },
        {
          "name": "stdout",
          "output_type": "stream",
          "text": [
            "Input: We can go some other time.\n",
            "Prediction: kami tidak akan pergi ke mana end             \n",
            "Target: [['Kita', 'bisa', 'pergi', 'lain', 'kali.']]\n",
            "BLEU: 0.0000\n",
            "\n"
          ]
        }
      ],
      "source": [
        "# Assume test_pairs = [(eng, ind), ...]\n",
        "def decode_sequence(input_sentence):\n",
        "    tokenized_input = source_vectorization([input_sentence])\n",
        "    decoded_sentence = \"[start]\"\n",
        "    for i in range(sequence_length):\n",
        "        tokenized_target = target_vectorization([decoded_sentence])[:, :-1]\n",
        "        predictions = transformer.predict({\"english\": tokenized_input, \"indonesian\": tokenized_target}, verbose=0)\n",
        "        sampled_token_index = np.argmax(predictions[0, i, :])\n",
        "        sampled_token = target_vectorization.get_vocabulary()[sampled_token_index]\n",
        "        if sampled_token == \"[end]\":\n",
        "            break\n",
        "        decoded_sentence += \" \" + sampled_token\n",
        "    return decoded_sentence.replace(\"[start] \", \"\")\n",
        "\n",
        "# BLEU Evaluation\n",
        "for _ in range(5):\n",
        "    input_text, target_text = random.choice(test_pairs)\n",
        "    prediction = decode_sequence(input_text)\n",
        "    reference = [target_text.replace(\"[start] \", \"\").replace(\" [end]\", \"\").split()]\n",
        "    candidate = prediction.split()\n",
        "    bleu_score = sentence_bleu(reference, candidate)\n",
        "    print(f\"Input: {input_text}\\nPrediction: {prediction}\\nTarget: {reference}\\nBLEU: {bleu_score:.4f}\\n\")\n",
        "\n",
        "### Save Final Model\n",
        "transformer.save(\"transformer_translation_model.keras\")"
      ]
    },
    {
      "cell_type": "markdown",
      "metadata": {
        "id": "5lSAj01_yNE6"
      },
      "source": [
        "#### Vanguard model"
      ]
    },
    {
      "cell_type": "code",
      "execution_count": null,
      "metadata": {
        "colab": {
          "base_uri": "https://localhost:8080/"
        },
        "id": "KBqC-zkMyOI6",
        "outputId": "51e76809-6f0e-48c5-a62d-da325f4163fb"
      },
      "outputs": [
        {
          "name": "stdout",
          "output_type": "stream",
          "text": [
            "Input: I'm sure Tom would agree with me.\n",
            "Prediction: aku tidak tahu tom tidak bisa melakukannya end            \n",
            "Target: [['Aku', 'yakin', 'Tom', 'akan', 'setuju', 'denganku.']]\n",
            "BLEU: 0.0000\n",
            "\n",
            "Input: You should've paid your bills on time.\n",
            "Prediction: kamu tidak bisa melakukannya end               \n",
            "Target: [['Kau', 'seharusnya', 'membayar', 'tagihanmu', 'tepat', 'waktu.']]\n",
            "BLEU: 0.0000\n",
            "\n",
            "Input: Can anyone drive?\n",
            "Prediction: aku tidak bisa melakukannya end               \n",
            "Target: [['Apakah', 'ada', 'orang', 'yang', 'bisa', 'mengemudi?']]\n",
            "BLEU: 0.0000\n",
            "\n",
            "Input: Where is the closest hospital?\n",
            "Prediction: di mana kamu tidak ada di sini end            \n",
            "Target: [['Di', 'mana', 'rumah', 'sakit', 'yang', 'paling', 'dekat?']]\n",
            "BLEU: 0.0000\n",
            "\n",
            "Input: Tom and Mary aren't religious at all.\n",
            "Prediction: tom tidak tahu apa yang tom end             \n",
            "Target: [['Tom', 'dan', 'Mary', 'tidak', 'religius', 'sama', 'sekali.']]\n",
            "BLEU: 0.0000\n",
            "\n"
          ]
        }
      ],
      "source": [
        "# Assume test_pairs = [(eng, ind), ...]\n",
        "def decode_sequence(input_sentence):\n",
        "    tokenized_input = source_vectorization([input_sentence])\n",
        "    decoded_sentence = \"[start]\"\n",
        "    for i in range(sequence_length):\n",
        "        tokenized_target = target_vectorization([decoded_sentence])[:, :-1]\n",
        "        predictions = vanguard.predict({\"english\": tokenized_input, \"indonesian\": tokenized_target}, verbose=0)\n",
        "        sampled_token_index = np.argmax(predictions[0, i, :])\n",
        "        sampled_token = target_vectorization.get_vocabulary()[sampled_token_index]\n",
        "        if sampled_token == \"[end]\":\n",
        "            break\n",
        "        decoded_sentence += \" \" + sampled_token\n",
        "    return decoded_sentence.replace(\"[start] \", \"\")\n",
        "\n",
        "# BLEU Evaluation\n",
        "for _ in range(5):\n",
        "    input_text, target_text = random.choice(test_pairs)\n",
        "    prediction = decode_sequence(input_text)\n",
        "    reference = [target_text.replace(\"[start] \", \"\").replace(\" [end]\", \"\").split()]\n",
        "    candidate = prediction.split()\n",
        "    bleu_score = sentence_bleu(reference, candidate)\n",
        "    print(f\"Input: {input_text}\\nPrediction: {prediction}\\nTarget: {reference}\\nBLEU: {bleu_score:.4f}\\n\")\n",
        "\n",
        "### Save Final Model\n",
        "vanguard.save(\"vanguard_translation_model.keras\")"
      ]
    },
    {
      "cell_type": "markdown",
      "metadata": {
        "id": "_ZwysUrQpBA0"
      },
      "source": [
        "### Saving model architecture in json file"
      ]
    },
    {
      "cell_type": "code",
      "execution_count": null,
      "metadata": {
        "id": "SYqvQ-BXm8wd"
      },
      "outputs": [],
      "source": [
        "model_json = transformer.to_json()\n",
        "with open(\"translator.json\", \"w\") as json_file:\n",
        "    json_file.write(model_json)"
      ]
    },
    {
      "cell_type": "markdown",
      "metadata": {
        "id": "cV78i6xYnCyg"
      },
      "source": [
        "**Translate new sentences with Transformer model**"
      ]
    },
    {
      "cell_type": "code",
      "execution_count": null,
      "metadata": {
        "id": "3atnDjYMnCgy"
      },
      "outputs": [],
      "source": [
        "ind_vocab = target_vectorization.get_vocabulary()\n",
        "ind_index_lookup = dict(zip(range(len(ind_vocab)), ind_vocab))\n",
        "max_decoded_sentence_length = 20"
      ]
    },
    {
      "cell_type": "markdown",
      "metadata": {
        "id": "KIsz7TWOyPOS"
      },
      "source": [
        "**Translate new sentences with vanguard model**"
      ]
    },
    {
      "cell_type": "code",
      "execution_count": null,
      "metadata": {
        "id": "eaeM28gVyQkC"
      },
      "outputs": [],
      "source": [
        "ind_vocab = target_vectorization.get_vocabulary()\n",
        "ind_index_lookup = dict(zip(range(len(ind_vocab)), ind_vocab))\n",
        "max_decoded_sentence_length = 20"
      ]
    },
    {
      "cell_type": "markdown",
      "metadata": {
        "id": "W5h5iutFnGO7"
      },
      "source": [
        "### Output Testing and Decoding the output sequence with transformers"
      ]
    },
    {
      "cell_type": "code",
      "execution_count": null,
      "metadata": {
        "id": "nOcRWT4em95P"
      },
      "outputs": [],
      "source": [
        "def transformer_decode_sequence(input_sentence):\n",
        "    tokenized_input_sentence = source_vectorization([input_sentence])\n",
        "    transformer_decoded_sentence = \"[start]\"\n",
        "    for i in range(max_decoded_sentence_length):\n",
        "        tokenized_target_sentence = target_vectorization(\n",
        "            [transformer_decoded_sentence])[:, :-1]\n",
        "        predictions = transformer(\n",
        "            [tokenized_input_sentence, tokenized_target_sentence])\n",
        "        sampled_token_index = np.argmax(predictions[0, i, :])\n",
        "        sampled_token = ind_index_lookup[sampled_token_index]\n",
        "        transformer_decoded_sentence += \" \" + sampled_token\n",
        "        if sampled_token == \"[end]\":\n",
        "            break\n",
        "    return transformer_decoded_sentence"
      ]
    },
    {
      "cell_type": "markdown",
      "metadata": {
        "id": "6rnNJqhHsPvM"
      },
      "source": [
        "### Output Testing and Decoding the output sequence with vanguard"
      ]
    },
    {
      "cell_type": "code",
      "execution_count": null,
      "metadata": {
        "id": "Cd5XpsiusPvM"
      },
      "outputs": [],
      "source": [
        "def vanguard_decode_sequence(input_sentence):\n",
        "    tokenized_input_sentence = source_vectorization([input_sentence])\n",
        "    vanguard_decoded_sentence = \"[start]\"\n",
        "    for i in range(max_decoded_sentence_length):\n",
        "        tokenized_target_sentence = target_vectorization(\n",
        "            [vanguard_decoded_sentence])[:, :-1]\n",
        "        predictions = vanguard(\n",
        "            [tokenized_input_sentence, tokenized_target_sentence])\n",
        "        sampled_token_index = np.argmax(predictions[0, i, :])\n",
        "        sampled_token = ind_index_lookup[sampled_token_index]\n",
        "        vanguard_decoded_sentence += \" \" + sampled_token\n",
        "        if sampled_token == \"[end]\":\n",
        "            break\n",
        "    return vanguard_decoded_sentence"
      ]
    },
    {
      "cell_type": "markdown",
      "metadata": {
        "id": "CPBhqPZhnLBK"
      },
      "source": [
        "### Transformer translating output"
      ]
    },
    {
      "cell_type": "code",
      "execution_count": null,
      "metadata": {
        "colab": {
          "base_uri": "https://localhost:8080/"
        },
        "id": "r1SlMTGunHxH",
        "outputId": "9bf16012-c96a-4a8a-bc3b-ccc289062b53"
      },
      "outputs": [
        {
          "name": "stdout",
          "output_type": "stream",
          "text": [
            "-\n",
            "I got off the bus.\n",
            "[start] aku tidak akan pernah makan malam ini end            \n",
            "-\n",
            "The French flag is blue, white and red.\n",
            "[start] rumah itu tidak ada di sini end             \n",
            "-\n",
            "Tom was eating.\n",
            "[start] tom tidak suka dengan tom end              \n",
            "-\n",
            "Their birth mother abandoned them.\n",
            "[start] tolong nyalakan radionya end                \n",
            "-\n",
            "He has an uncontrollable temper.\n",
            "[start] dia tidak akan pernah makan malam ini end            \n"
          ]
        }
      ],
      "source": [
        "test_eng_texts = [pair[0] for pair in test_pairs]\n",
        "for _ in range(5):\n",
        "    input_sentence = random.choice(test_eng_texts)\n",
        "    print(\"-\")\n",
        "    print(input_sentence)\n",
        "    print(transformer_decode_sequence(input_sentence))"
      ]
    },
    {
      "cell_type": "markdown",
      "metadata": {
        "id": "ATLqYk6VySob"
      },
      "source": [
        "### Vanguard translating output"
      ]
    },
    {
      "cell_type": "code",
      "execution_count": null,
      "metadata": {
        "colab": {
          "base_uri": "https://localhost:8080/"
        },
        "id": "jLyavKBmyTh1",
        "outputId": "b9b963e3-0c4a-4dca-e1e5-0583026ad649"
      },
      "outputs": [
        {
          "name": "stdout",
          "output_type": "stream",
          "text": [
            "-\n",
            "Tom touched Mary.\n",
            "[start] tom tidak suka end                \n",
            "-\n",
            "I just finished breakfast.\n",
            "[start] aku tidak bisa melakukannya end               \n",
            "-\n",
            "I have a younger sister who lives in Boston.\n",
            "[start] aku tidak tahu apa yang bisa melakukannya end            \n",
            "-\n",
            "What are you worried about?\n",
            "[start] apa kamu tidak bisa melakukannya end              \n",
            "-\n",
            "I wrote three letters last night.\n",
            "[start] aku tidak bisa melakukannya end               \n"
          ]
        }
      ],
      "source": [
        "test_eng_texts = [pair[0] for pair in test_pairs]\n",
        "for _ in range(5):\n",
        "    input_sentence = random.choice(test_eng_texts)\n",
        "    print(\"-\")\n",
        "    print(input_sentence)\n",
        "    print(vanguard_decode_sequence(input_sentence))"
      ]
    },
    {
      "cell_type": "markdown",
      "metadata": {
        "id": "mGgfTe4vnOBY"
      },
      "source": [
        "## Evaluation using the BLEU score"
      ]
    },
    {
      "cell_type": "markdown",
      "metadata": {
        "id": "Q9ENUwaWsPvN"
      },
      "source": [
        "### Transformer BLEU Score"
      ]
    },
    {
      "cell_type": "code",
      "execution_count": null,
      "metadata": {
        "colab": {
          "base_uri": "https://localhost:8080/"
        },
        "id": "c0ZkyI6KnJBQ",
        "outputId": "c8b6dc71-6512-49df-fdaf-910a87ede049",
        "scrolled": true
      },
      "outputs": [
        {
          "name": "stdout",
          "output_type": "stream",
          "text": [
            "aku tidak tahu apa yang kamu tidak bisa melakukannya end           [start] aku cuma ingin kamu mengingat perasaan ini. [end]\n",
            "Transformer Score:0.19696969696969696\n",
            "aku suka end                  [start] mari berpesta. [end]\n",
            "Transformer Score:0.20689655172413796\n",
            "jangan pergi end                  [start] kancingkan bajumu. [end]\n",
            "Transformer Score:0.2727272727272727\n",
            "tolong jangan end                  [start] bukalah kotak itu. [end]\n",
            "Transformer Score:0.23529411764705885\n",
            "aku tidak suka kopi end                [start] aku suka mawar merah. [end]\n",
            "Transformer Score:0.23684210526315785\n",
            "tom tidak tahu apa yang tom end              [start] tom menipu mary. [end]\n",
            "Transformer Score:0.2727272727272727\n",
            "apakah kamu suka end                 [start] tidak diragukan. [end]\n",
            "Transformer Score:0.2222222222222222\n",
            "tom tidak bisa melakukannya dengan hal itu end             [start] kami mengumpulkan perangko dari seluruh dunia. [end]\n",
            "Transformer Score:0.25862068965517243\n",
            "kamu tidak bisa melakukannya end                [start] kamu sedang menipu dirimu sendiri. [end]\n",
            "Transformer Score:0.23404255319148937\n",
            "aku tidak bisa melakukannya end                [start] aku sangat suka gaya rambutmu. [end]\n",
            "Transformer Score:0.2608695652173913\n",
            "tom tidak bisa melakukannya end                [start] mereka tidak akan menjual apa pun. [end]\n",
            "Transformer Score:0.2608695652173913\n",
            "tom tidak tahu apa yang tom end              [start] semua orang terkejut kecuali tom. [end]\n",
            "Transformer Score:0.2727272727272727\n",
            "aku tidak tahu apa yang aku tidak bisa end            [start] saya tidak tahu cara memasak. [end]\n",
            "Transformer Score:0.22641509433962262\n",
            "aku tidak tahu apa yang tom tidak bisa melakukannya end           [start] saya satu-satunya orang yang tidak tahu tom telah dipenjara. [end]\n",
            "Transformer Score:0.26153846153846155\n",
            "tom tidak suka kopi end                [start] kami semua sangat bersemangat. [end]\n",
            "Transformer Score:0.2894736842105263\n",
            "tom tidak tahu apa yang tom end              [start] kita harus melakukan yang tom lakukan. [end]\n",
            "Transformer Score:0.3181818181818182\n",
            "kamu tidak bisa melakukannya end                [start] kamu harus berhati-hati dalam memilih teman. [end]\n",
            "Transformer Score:0.276595744680851\n",
            "aku tidak suka end                 [start] aku mengerti. [end]\n",
            "Transformer Score:0.29411764705882354\n",
            "aku tidak suka end                 [start] aku benci wawancara. [end]\n",
            "Transformer Score:0.29411764705882354\n",
            "aku tidak bisa melakukannya end                [start] bolehkah saya meminjam itu? [end]\n",
            "Transformer Score:0.3043478260869566\n",
            "\n",
            "Transformer BLEU score : 5.2/20\n"
          ]
        }
      ],
      "source": [
        "test_eng_texts = [pair[0] for pair in test_pairs]\n",
        "test_ind_texts = [pair[1] for pair in test_pairs]\n",
        "transformer_score = 0\n",
        "transformer_bleu  = 0\n",
        "for i in range(20):\n",
        "    candidate = decode_sequence(test_eng_texts[i])\n",
        "    reference = test_ind_texts[i].lower()\n",
        "    print(candidate,reference)\n",
        "    transformer_score = sentence_bleu(reference, candidate, weights=(1, 0, 0, 0))\n",
        "    transformer_bleu+=transformer_score\n",
        "    print(f\"Transformer Score:{transformer_score}\")\n",
        "print(f\"\\nTransformer BLEU score : {round(transformer_bleu,2)}/20\")"
      ]
    },
    {
      "cell_type": "code",
      "execution_count": null,
      "metadata": {
        "colab": {
          "base_uri": "https://localhost:8080/"
        },
        "id": "enU_rcSFnPVG",
        "outputId": "81f28f6b-5758-4403-f547-367a05d3c194"
      },
      "outputs": [
        {
          "name": "stdout",
          "output_type": "stream",
          "text": [
            "Transformer BLEU score : 5.2/20\n"
          ]
        }
      ],
      "source": [
        "print(f\"Transformer BLEU score : {round(transformer_bleu,2)}/20\")"
      ]
    },
    {
      "cell_type": "markdown",
      "metadata": {
        "id": "ozCcSkc8yVfT"
      },
      "source": [
        "### Vanguard BLEU Score"
      ]
    },
    {
      "cell_type": "code",
      "execution_count": null,
      "metadata": {
        "colab": {
          "base_uri": "https://localhost:8080/"
        },
        "id": "S6GPXSWKyWkL",
        "outputId": "ed9f03a2-a56a-4e3f-9b38-0dcfd8f71ba7",
        "scrolled": true
      },
      "outputs": [
        {
          "name": "stdout",
          "output_type": "stream",
          "text": [
            "aku tidak tahu apa yang kamu tidak bisa melakukannya end           [start] aku cuma ingin kamu mengingat perasaan ini. [end]\n",
            "Vanguard Score:0.19696969696969696\n",
            "aku suka end                  [start] mari berpesta. [end]\n",
            "Vanguard Score:0.20689655172413796\n",
            "jangan pergi end                  [start] kancingkan bajumu. [end]\n",
            "Vanguard Score:0.2727272727272727\n",
            "tolong jangan end                  [start] bukalah kotak itu. [end]\n",
            "Vanguard Score:0.23529411764705885\n",
            "aku tidak suka kopi end                [start] aku suka mawar merah. [end]\n",
            "Vanguard Score:0.23684210526315785\n",
            "tom tidak tahu apa yang tom end              [start] tom menipu mary. [end]\n",
            "Vanguard Score:0.2727272727272727\n",
            "apakah kamu suka end                 [start] tidak diragukan. [end]\n",
            "Vanguard Score:0.2222222222222222\n",
            "tom tidak bisa melakukannya dengan hal itu end             [start] kami mengumpulkan perangko dari seluruh dunia. [end]\n",
            "Vanguard Score:0.25862068965517243\n",
            "kamu tidak bisa melakukannya end                [start] kamu sedang menipu dirimu sendiri. [end]\n",
            "Vanguard Score:0.23404255319148937\n",
            "aku tidak bisa melakukannya end                [start] aku sangat suka gaya rambutmu. [end]\n",
            "Vanguard Score:0.2608695652173913\n",
            "tom tidak bisa melakukannya end                [start] mereka tidak akan menjual apa pun. [end]\n",
            "Vanguard Score:0.2608695652173913\n",
            "tom tidak tahu apa yang tom end              [start] semua orang terkejut kecuali tom. [end]\n",
            "Vanguard Score:0.2727272727272727\n",
            "aku tidak tahu apa yang aku tidak bisa end            [start] saya tidak tahu cara memasak. [end]\n",
            "Vanguard Score:0.22641509433962262\n",
            "aku tidak tahu apa yang tom tidak bisa melakukannya end           [start] saya satu-satunya orang yang tidak tahu tom telah dipenjara. [end]\n",
            "Vanguard Score:0.26153846153846155\n",
            "tom tidak suka kopi end                [start] kami semua sangat bersemangat. [end]\n",
            "Vanguard Score:0.2894736842105263\n",
            "tom tidak tahu apa yang tom end              [start] kita harus melakukan yang tom lakukan. [end]\n",
            "Vanguard Score:0.3181818181818182\n",
            "kamu tidak bisa melakukannya end                [start] kamu harus berhati-hati dalam memilih teman. [end]\n",
            "Vanguard Score:0.276595744680851\n",
            "aku tidak suka end                 [start] aku mengerti. [end]\n",
            "Vanguard Score:0.29411764705882354\n",
            "aku tidak suka end                 [start] aku benci wawancara. [end]\n",
            "Vanguard Score:0.29411764705882354\n",
            "aku tidak bisa melakukannya end                [start] bolehkah saya meminjam itu? [end]\n",
            "Vanguard Score:0.3043478260869566\n",
            "Vanguard BLEU score : 5.2/20\n"
          ]
        }
      ],
      "source": [
        "test_eng_texts = [pair[0] for pair in test_pairs]\n",
        "test_ind_texts = [pair[1] for pair in test_pairs]\n",
        "vanguard_score = 0\n",
        "vanguard_bleu  = 0\n",
        "for i in range(20):\n",
        "    candidate = decode_sequence(test_eng_texts[i])\n",
        "    reference = test_ind_texts[i].lower()\n",
        "    print(candidate,reference)\n",
        "    vanguard_score = sentence_bleu(reference, candidate, weights=(1, 0, 0, 0))\n",
        "    vanguard_bleu+=vanguard_score\n",
        "    print(f\"Vanguard Score:{vanguard_score}\")\n",
        "print(f\"Vanguard BLEU score : {round(vanguard_bleu,2)}/20\")"
      ]
    },
    {
      "cell_type": "code",
      "execution_count": null,
      "metadata": {
        "colab": {
          "base_uri": "https://localhost:8080/"
        },
        "id": "bBnMmCeryXq1",
        "outputId": "3493080f-86a5-4b8d-b4cb-d151bb8e77ff"
      },
      "outputs": [
        {
          "name": "stdout",
          "output_type": "stream",
          "text": [
            "Vanguard BLEU score : 5.2/20\n"
          ]
        }
      ],
      "source": [
        "print(f\"Vanguard BLEU score : {round(vanguard_bleu,2)}/20\")"
      ]
    },
    {
      "cell_type": "markdown",
      "metadata": {
        "id": "lcPY_KYIsPvO"
      },
      "source": [
        "### Translation"
      ]
    },
    {
      "cell_type": "markdown",
      "metadata": {
        "id": "CgeiMoHzsPvO"
      },
      "source": [
        "#### Translation with transformers"
      ]
    },
    {
      "cell_type": "code",
      "execution_count": null,
      "metadata": {
        "colab": {
          "base_uri": "https://localhost:8080/"
        },
        "id": "O2MEOEv1nXTq",
        "outputId": "9e28356a-6f91-4088-c590-8fda8ce3f5fb",
        "scrolled": true
      },
      "outputs": [
        {
          "name": "stdout",
          "output_type": "stream",
          "text": [
            "ENGLISH   : Do you have any idea why Tom doesn't like Mary?\n",
            "PREDICTED : [start] kamu tidak tahu apa yang tom tidak akan pergi end          \n",
            "TARGET    : Apa kau tahu kenapa Tom tidak suka dengan Mary?\n",
            "BLEU SCORE: 0.0000\n",
            "\n",
            "ENGLISH   : I crouched beneath the window.\n",
            "PREDICTED : [start] aku tidak akan pernah makan malam ini end            \n",
            "TARGET    : Aku berjongkok di bawah jendela.\n",
            "BLEU SCORE: 0.0000\n",
            "\n",
            "ENGLISH   : Are you at home?\n",
            "PREDICTED : [start] apa kamu suka dengan apa pun end             \n",
            "TARGET    : Apa kamu ada di rumah?\n",
            "BLEU SCORE: 0.0000\n",
            "\n",
            "ENGLISH   : So, what do you think?\n",
            "PREDICTED : [start] apa kamu tahu apa yang kamu lakukan end            \n",
            "TARGET    : Jadi bagaimana menurutmu?\n",
            "BLEU SCORE: 0.0000\n",
            "\n",
            "ENGLISH   : I will take both this one and that one.\n",
            "PREDICTED : [start] aku tidak tahu apa yang tidak ada yang aku tidak bisa berbahasa prancis end      \n",
            "TARGET    : Aku akan mengambil baik yang ini dan yang itu.\n",
            "BLEU SCORE: 0.0000\n",
            "\n"
          ]
        }
      ],
      "source": [
        "from nltk.translate.bleu_score import sentence_bleu\n",
        "\n",
        "# Ambil sampel acak dari data validasi\n",
        "for _ in range(5):\n",
        "    input_text, target_text = random.choice(val_pairs)\n",
        "    prediction = transformer_decode_sequence(input_text)\n",
        "\n",
        "    # Format referensi dan prediksi\n",
        "    reference = [target_text.replace(\"[start] \", \"\").replace(\" [end]\", \"\").split()]\n",
        "    candidate = prediction.split()\n",
        "\n",
        "    transformer_bleu = sentence_bleu(reference, candidate)\n",
        "\n",
        "    print(f\"ENGLISH   : {input_text}\")\n",
        "    print(f\"PREDICTED : {prediction}\")\n",
        "    print(f\"TARGET    : {' '.join(reference[0])}\")\n",
        "    print(f\"BLEU SCORE: {transformer_bleu:.4f}\\n\")"
      ]
    },
    {
      "cell_type": "markdown",
      "metadata": {
        "id": "HI80AqunyZO8"
      },
      "source": [
        "#### Translation with vanguard"
      ]
    },
    {
      "cell_type": "code",
      "execution_count": null,
      "metadata": {
        "colab": {
          "base_uri": "https://localhost:8080/"
        },
        "id": "8Ivp5gnLncjx",
        "outputId": "a322dd06-1ee9-44c0-ed1a-049d55b6ffef",
        "scrolled": true
      },
      "outputs": [
        {
          "name": "stdout",
          "output_type": "stream",
          "text": [
            "ENGLISH   : These gloves belong to Tom.\n",
            "PREDICTED : [start] ini tom tidak bisa melakukannya end              \n",
            "TARGET    : Sarung tangan ini milik Tom.\n",
            "BLEU SCORE: 0.0000\n",
            "\n",
            "ENGLISH   : My cassette tape recorder needs fixing.\n",
            "PREDICTED : [start] tolong jangan pergi ke mana end              \n",
            "TARGET    : Perekam pita kasetku perlu diperbaiki.\n",
            "BLEU SCORE: 0.0000\n",
            "\n",
            "ENGLISH   : Gold is more precious than iron.\n",
            "PREDICTED : [start] dia tidak bisa melakukannya end               \n",
            "TARGET    : Emas lebih berharga ketimbang besi.\n",
            "BLEU SCORE: 0.0000\n",
            "\n",
            "ENGLISH   : The stamp came off.\n",
            "PREDICTED : [start] itu adalah seorang yang baik end              \n",
            "TARGET    : Perangkonya lepas.\n",
            "BLEU SCORE: 0.0000\n",
            "\n",
            "ENGLISH   : Let's do it.\n",
            "PREDICTED : [start] aku suka end                 \n",
            "TARGET    : Mari kita lakukan.\n",
            "BLEU SCORE: 0.0000\n",
            "\n"
          ]
        }
      ],
      "source": [
        "from nltk.translate.bleu_score import sentence_bleu\n",
        "\n",
        "# Ambil sampel acak dari data validasi\n",
        "for _ in range(5):\n",
        "    input_text, target_text = random.choice(val_pairs)\n",
        "    prediction = vanguard_decode_sequence(input_text)\n",
        "\n",
        "    # Format referensi dan prediksi\n",
        "    reference = [target_text.replace(\"[start] \", \"\").replace(\" [end]\", \"\").split()]\n",
        "    candidate = prediction.split()\n",
        "\n",
        "    vanguard_bleu = sentence_bleu(reference, candidate)\n",
        "\n",
        "    print(f\"ENGLISH   : {input_text}\")\n",
        "    print(f\"PREDICTED : {prediction}\")\n",
        "    print(f\"TARGET    : {' '.join(reference[0])}\")\n",
        "    print(f\"BLEU SCORE: {vanguard_bleu:.4f}\\n\")"
      ]
    },
    {
      "cell_type": "code",
      "execution_count": null,
      "metadata": {
        "colab": {
          "base_uri": "https://localhost:8080/"
        },
        "id": "Q48-S3JwsPvP",
        "outputId": "42e69a52-7609-401f-c7e4-b5969d376839"
      },
      "outputs": [
        {
          "name": "stdout",
          "output_type": "stream",
          "text": [
            "Corpus Transformer BLEU score: 0.0057\n"
          ]
        }
      ],
      "source": [
        "from nltk.translate.bleu_score import corpus_bleu\n",
        "\n",
        "# Prepare lists for references and candidates\n",
        "references = []\n",
        "candidates = []\n",
        "\n",
        "# Loop over all sentence pairs in the test set\n",
        "for input_text, target_text in test_pairs:\n",
        "    prediction = transformer_decode_sequence(input_text)\n",
        "\n",
        "    # Clear target (remove start/end tokens)\n",
        "    reference = target_text.replace(\"[start] \", \"\").replace(\" [end]\", \"\").split()\n",
        "    candidate = prediction.split()\n",
        "\n",
        "    # Add to list for BLEU corpus\n",
        "    references.append([reference])   # important: list of list\n",
        "    candidates.append(candidate)\n",
        "\n",
        "# Calculate the BLEU corpus\n",
        "transformer_bleu_score = corpus_bleu(references, candidates)\n",
        "print(f\"Corpus Transformer BLEU score: {transformer_bleu_score:.4f}\")"
      ]
    },
    {
      "cell_type": "code",
      "execution_count": null,
      "metadata": {
        "colab": {
          "base_uri": "https://localhost:8080/"
        },
        "id": "JgDOxhFdsPvP",
        "outputId": "2f8c1f0d-215d-4163-d84f-b83f0fc2b33e"
      },
      "outputs": [
        {
          "name": "stdout",
          "output_type": "stream",
          "text": [
            "Corpus Vanguard BLEU score: 0.0031\n"
          ]
        }
      ],
      "source": [
        "from nltk.translate.bleu_score import corpus_bleu\n",
        "\n",
        "# Prepare a list for references and candidates\n",
        "references = []\n",
        "candidates = []\n",
        "\n",
        "# Loop over all sentence pairs in the test set\n",
        "for input_text, target_text in test_pairs:\n",
        "    prediction = vanguard_decode_sequence(input_text)\n",
        "\n",
        "    # Clear target (remove start/end tokens)\n",
        "    reference = target_text.replace(\"[start] \", \"\").replace(\" [end]\", \"\").split()\n",
        "    candidate = prediction.split()\n",
        "\n",
        "    # Add to list for BLEU corpus\n",
        "    references.append([reference])   # important: list of list\n",
        "    candidates.append(candidate)\n",
        "\n",
        "# Calculate the BLEU corpus\n",
        "vanguard_bleu_score = corpus_bleu(references, candidates)\n",
        "print(f\"Corpus Vanguard BLEU score: {vanguard_bleu_score:.4f}\")"
      ]
    },
    {
      "cell_type": "markdown",
      "metadata": {
        "id": "wYidx7rzsPvP"
      },
      "source": [
        "## Evaluation Model"
      ]
    },
    {
      "cell_type": "code",
      "execution_count": null,
      "metadata": {
        "colab": {
          "base_uri": "https://localhost:8080/"
        },
        "id": "FqfXVURfygdb",
        "outputId": "a125f722-258e-4115-d3a8-e7cfb7f267fb"
      },
      "outputs": [
        {
          "name": "stdout",
          "output_type": "stream",
          "text": [
            "\u001b[1m35/35\u001b[0m \u001b[32m━━━━━━━━━━━━━━━━━━━━\u001b[0m\u001b[37m\u001b[0m \u001b[1m58s\u001b[0m 2s/step - accuracy: 0.8075 - loss: 1.2993\n",
            "\u001b[1m35/35\u001b[0m \u001b[32m━━━━━━━━━━━━━━━━━━━━\u001b[0m\u001b[37m\u001b[0m \u001b[1m26s\u001b[0m 747ms/step - accuracy: 0.7987 - loss: 1.3702\n",
            "Transformer Evaluation: \n",
            "Validation Accuracy: 0.8121\n",
            "Validation Loss: 1.2692\n",
            "Transformer BLEU score : 0.01/20\n",
            "\n",
            "Vanguard Evaluation: \n",
            "Validation Accuracy: 0.8026\n",
            "Validation Loss: 1.3401\n",
            "Vanguard BLEU score : 0/20\n"
          ]
        }
      ],
      "source": [
        "transformer_loss, transformer_acc = transformer.evaluate(val_ds)\n",
        "vanguard_loss, vanguard_acc = vanguard.evaluate(val_ds)\n",
        "print(\"Transformer Evaluation: \")\n",
        "print(f\"Validation Accuracy: {transformer_acc:.4f}\")\n",
        "print(f\"Validation Loss: {transformer_loss:.4f}\")\n",
        "print(f\"Transformer BLEU score : {round(transformer_bleu_score,2)}/20\")\n",
        "print(\"\\nVanguard Evaluation: \")\n",
        "print(f\"Validation Accuracy: {vanguard_acc:.4f}\")\n",
        "print(f\"Validation Loss: {vanguard_loss:.4f}\")\n",
        "print(f\"Vanguard BLEU score : {round(vanguard_bleu,2)}/20\")"
      ]
    },
    {
      "cell_type": "code",
      "execution_count": null,
      "metadata": {
        "colab": {
          "base_uri": "https://localhost:8080/"
        },
        "id": "0rMbHXSvsPvQ",
        "outputId": "7136100d-521f-437f-edd1-cb2dff35369f"
      },
      "outputs": [
        {
          "name": "stdout",
          "output_type": "stream",
          "text": [
            "\u001b[1m35/35\u001b[0m \u001b[32m━━━━━━━━━━━━━━━━━━━━\u001b[0m\u001b[37m\u001b[0m \u001b[1m55s\u001b[0m 2s/step - accuracy: 0.8075 - loss: 1.2993\n",
            "\u001b[1m35/35\u001b[0m \u001b[32m━━━━━━━━━━━━━━━━━━━━\u001b[0m\u001b[37m\u001b[0m \u001b[1m26s\u001b[0m 746ms/step - accuracy: 0.7987 - loss: 1.3702\n",
            "Transformer Evaluation: \n",
            "Validation Accuracy: 0.8121\n",
            "Validation Loss: 1.2692\n",
            "Corpus Transformer BLEU score : 0.0057\n",
            "\n",
            "Vanguard Evaluation: \n",
            "Validation Accuracy: 0.8026\n",
            "Validation Loss: 1.3401\n",
            "Corpus Vanguard BLEU score : 0.0031\n"
          ]
        }
      ],
      "source": [
        "transformer_loss, transformer_acc = transformer.evaluate(val_ds)\n",
        "vanguard_loss, vanguard_acc = vanguard.evaluate(val_ds)\n",
        "print(\"Transformer Evaluation: \")\n",
        "print(f\"Validation Accuracy: {transformer_acc:.4f}\")\n",
        "print(f\"Validation Loss: {transformer_loss:.4f}\")\n",
        "print(f\"Corpus Transformer BLEU score : {transformer_bleu_score:.4f}\")\n",
        "print(\"\\nVanguard Evaluation: \")\n",
        "print(f\"Validation Accuracy: {vanguard_acc:.4f}\")\n",
        "print(f\"Validation Loss: {vanguard_loss:.4f}\")\n",
        "print(f\"Corpus Vanguard BLEU score : {vanguard_bleu_score:.4f}\")"
      ]
    },
    {
      "cell_type": "markdown",
      "metadata": {
        "id": "oiGi9ZyrsPvQ"
      },
      "source": [
        "### Interpretation\n",
        "1. Accuracy and Loss\n",
        "  * Transformer has a higher accuracy (81.21% vs. 80.26%) and lower loss (1.2692 vs. 1.3401).\n",
        "  * This means that at the token-by-token prediction level, Transformer is more accurate at guessing the correct word than Vanguard.\n",
        "2. Corpus BLEU\n",
        "  * Both models have very low BLEU scores (Transformer 0.0057, Vanguard 0.0031).\n",
        "  * This indicates that although individual words are often guessed correctly, the models are not yet able to construct sentences that match the ground truth.\n",
        "  * Transformer still has a higher BLEU score, although the difference is small.\n",
        "3. Inter-metric Concordance\n",
        "  * High accuracy + very low BLEU → indicates the model can correctly guess tokens but fails to preserve word order, context, or sentence structure.\n",
        "  * Transformer has a slight advantage in both accuracy and BLEU, resulting in more consistent word predictions and constructing n-grams that are more similar to the target.\n",
        "4. Conclusion\n",
        "  * Transformer outperforms Vanguard in all metrics (accuracy, loss, and corpus BLEU).\n",
        "  * The very low BLEU scores confirm that both models are still far from achieving natural translation capabilities.\n",
        "  * This evaluation demonstrates the importance of using additional metrics (such as BLEU) beyond accuracy, as text quality is not only about the correctness of tokens, but also how sentences are structured to match the target language."
      ]
    },
    {
      "cell_type": "markdown",
      "metadata": {
        "id": "wu94sO_w3j-b"
      },
      "source": [
        "# Conclusion\n",
        "The evaluation results show that Transformer has advantages in accuracy and loss, indicating better token prediction accuracy than Vanguard. However, the relatively low Corpus BLEU scores for both models indicate that sentence structure is still far from ideal, even though word-by-word prediction is quite accurate. This means that the syntactic and semantic quality of the sentences are not fully maintained. This situation emphasizes that accuracy and BLEU should not be viewed in isolation, but rather complement each other: accuracy for assessing token prediction, and BLEU for assessing sentence fluency. With improved decoding strategies (e.g., beam search) and more sophisticated fine-tuning, BLEU scores can be improved, bringing Transformer closer to its potential as a foundation for modern generative language models."
      ]
    },
    {
      "cell_type": "markdown",
      "metadata": {
        "id": "rVGV0PR5sPvQ"
      },
      "source": [
        "# Thank You"
      ]
    },
    {
      "cell_type": "code",
      "execution_count": null,
      "metadata": {
        "id": "bavlpLYlsPvQ"
      },
      "outputs": [],
      "source": []
    }
  ],
  "metadata": {
    "colab": {
      "provenance": [],
      "toc_visible": true
    },
    "kernelspec": {
      "display_name": "Python 3 (ipykernel)",
      "language": "python",
      "name": "python3"
    },
    "language_info": {
      "codemirror_mode": {
        "name": "ipython",
        "version": 3
      },
      "file_extension": ".py",
      "mimetype": "text/x-python",
      "name": "python",
      "nbconvert_exporter": "python",
      "pygments_lexer": "ipython3",
      "version": "3.13.5"
    }
  },
  "nbformat": 4,
  "nbformat_minor": 0
}
