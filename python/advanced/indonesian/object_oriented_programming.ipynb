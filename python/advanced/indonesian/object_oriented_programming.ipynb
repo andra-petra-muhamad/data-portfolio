{
 "cells": [
  {
   "cell_type": "markdown",
   "id": "6fc52218-832b-40df-b688-cdd253d6c4cb",
   "metadata": {},
   "source": [
    "# Object-Oriented Programming (OOP)\n",
    "Pemrograman Berorientasi Objek (Object-Oriented Programming, OOP) adalah paradigma yang memandang perangkat lunak sebagai kumpulan objek mandiri yang saling berinteraksi. Setiap objek menggabungkan data dan perilaku, sehingga mampu merepresentasikan entitas dunia nyata maupun konsep abstrak secara alami. Dengan pilar utama berupa abstraksi, enkapsulasi, pewarisan, dan polimorfisme, OOP memfasilitasi desain sistem yang modular, mudah dikembangkan, dan dapat digunakan kembali. Pendekatan ini juga membuka jalan bagi arsitektur yang terukur, kolaborasi tim yang efisien, serta integrasi konsep lanjutan seperti relasi antar objek, metakelas, dan pola desain untuk menyelesaikan masalah kompleks secara elegan."
   ]
  },
  {
   "cell_type": "markdown",
   "id": "90a7ff5f-fbbe-4c60-a40b-c9c08134487b",
   "metadata": {},
   "source": [
    "# Abstraksi\n",
    "Abstraksi adalah teknik menyembunyikan detail implementasi dan hanya menampilkan fungsi penting kepada pengguna.\n",
    "\n",
    "Abstraksi adalah cara memandang sebuah objek hanya dari sisi yang penting bagi kita, sambil menyembunyikan detail yang tidak perlu diketahui. Dalam pemrograman berorientasi objek, hal ini berarti kita cukup mendefinisikan apa yang bisa dilakukan oleh sebuah objek tanpa harus menjelaskan bagaimana caranya. Dengan begitu, kita bisa bekerja dengan konsep yang jelas dan sederhana, sementara detail teknis diserahkan pada bagian yang memang bertugas mengimplementasikannya.\n",
    "\n",
    "Bayangkan kita berbicara tentang sebuah kendaraan. Kita tahu kendaraan bisa berjalan, berhenti, dan berbelok, tapi kita tidak perlu memikirkan bagaimana mesin di dalamnya bekerja setiap kali ingin menggunakannya. Begitu pula di dalam kode, abstraksi memberi kita kerangka untuk berinteraksi dengan objek melalui perilaku yang sudah didefinisikan, tanpa harus memahami atau mengubah mekanisme di baliknya."
   ]
  },
  {
   "cell_type": "markdown",
   "id": "df4b74dd-8acb-4d3a-99b6-fd1e1ecd79ce",
   "metadata": {},
   "source": [
    "## Studi Kasus Sistem Pembayaran\n",
    "Dalam contoh ini, konsep abstraksi digunakan untuk merancang sistem pembayaran yang fleksibel dan mudah diperluas. Kelas `Payment` didefinisikan sebagai kelas abstrak yang menetapkan metode `pay` tanpa memberikan implementasi detailnya. Dengan pendekatan ini, setiap jenis metode pembayaran diharuskan memiliki perilaku yang sama, yaitu kemampuan membayar sejumlah nominal, namun bebas menentukan cara pelaksanaannya sendiri.\n",
    "\n",
    "Kelas `CreditCardPayment` dan `EWalletPayment` merupakan turunan dari `Payment` yang mengimplementasikan metode pay sesuai mekanisme masing-masing. Saat objek `CreditCardPayment` dipanggil untuk melakukan pembayaran, sistem akan mengeksekusi proses yang telah ditentukan di dalamnya tanpa memengaruhi atau bergantung pada jenis pembayaran lainnya.\n",
    "\n",
    "Struktur ini memungkinkan penambahan metode pembayaran baru, seperti `BankTransferPayment` atau `CryptoPayment`, tanpa mengubah kode yang sudah ada. Inilah kekuatan OOP, kita membangun kerangka yang stabil, namun tetap terbuka untuk pengembangan di masa depan."
   ]
  },
  {
   "cell_type": "code",
   "execution_count": 4,
   "id": "5fbc9012-e104-457a-bdac-f051d64c1342",
   "metadata": {},
   "outputs": [],
   "source": [
    "from abc import ABC, abstractmethod\n",
    "\n",
    "class Payment(ABC):\n",
    "    @abstractmethod\n",
    "    def pay(self, amount):\n",
    "        pass\n",
    "\n",
    "class CreditCardPayment(Payment):\n",
    "    def pay(self, amount):\n",
    "        print(f\"Paying {amount} using Credit Card.\")\n",
    "\n",
    "class EWalletPayment(Payment):\n",
    "    def pay(self, amount):\n",
    "        print(f\"Paying {amount} using E-Wallet.\")\n",
    "\n",
    "class BankTransferPayment(Payment):\n",
    "    def pay(self, amount):\n",
    "        print(f\"Paying {amount} via Bank Transfer.\")\n",
    "\n",
    "class CryptoPayment(Payment):\n",
    "    def pay(self, amount):\n",
    "        print(f\"Paying {amount} with Cryptocurrency.\")\n",
    "\n",
    "class QRISPayment(Payment):\n",
    "    def pay(self, amount):\n",
    "        print(f\"Paying {amount} using QRIS.\")\n",
    "\n",
    "class VoucherPayment(Payment):\n",
    "    def pay(self, amount):\n",
    "        print(f\"Paying {amount} using Voucher.\")"
   ]
  },
  {
   "cell_type": "markdown",
   "id": "1f352a45-6658-4d32-a316-c2034612e165",
   "metadata": {},
   "source": [
    "Penggunaan"
   ]
  },
  {
   "cell_type": "code",
   "execution_count": 5,
   "id": "e628535a-dc35-4e94-b01b-00f631a8e4ec",
   "metadata": {},
   "outputs": [
    {
     "name": "stdout",
     "output_type": "stream",
     "text": [
      "Paying 50000 using Credit Card.\n",
      "Paying 50000 using E-Wallet.\n",
      "Paying 50000 via Bank Transfer.\n",
      "Paying 50000 with Cryptocurrency.\n",
      "Paying 50000 using QRIS.\n",
      "Paying 50000 using Voucher.\n"
     ]
    }
   ],
   "source": [
    "payments = [\n",
    "    CreditCardPayment(),\n",
    "    EWalletPayment(),\n",
    "    BankTransferPayment(),\n",
    "    CryptoPayment(),\n",
    "    QRISPayment(),\n",
    "    VoucherPayment()\n",
    "]\n",
    "\n",
    "for method in payments:\n",
    "    method.pay(50000)"
   ]
  },
  {
   "cell_type": "markdown",
   "id": "279f95dd-1712-4c08-8f84-fc373986cc78",
   "metadata": {},
   "source": [
    "Dengan abstraksi, kode `Checkout` tidak perlu tahu metode pembayaran apa yang digunakan.\n",
    "Cukup memanggil `.pay(amount)` dan implementasi detail ditangani oleh subclass masing-masing."
   ]
  },
  {
   "cell_type": "markdown",
   "id": "8ef22507-e7c6-4ac6-bc8b-89e140969b3c",
   "metadata": {},
   "source": [
    "# Enkapsulasi\n",
    "Enkapsulasi melindungi data dengan membatasi akses langsung ke atribut dan method.\n",
    "\n",
    "Enkapsulasi adalah prinsip menyatukan data dan perilaku yang mengolahnya ke dalam satu kesatuan, sekaligus membatasi akses langsung dari luar. Ibarat sebuah kotak yang memiliki tombol dan tuas di permukaannya, kita hanya bisa berinteraksi melalui antarmuka yang disediakan tanpa mengetahui atau mengutak-atik isi di dalamnya. Cara ini melindungi data dari perubahan yang tidak diinginkan, menjaga konsistensi perilaku, dan memberi kebebasan bagi pengembang untuk mengubah bagian dalam tanpa mengganggu cara penggunaannya dari luar.\n",
    "\n",
    "Dalam kehidupan sehari-hari, kita sering memanfaatkan enkapsulasi tanpa sadar. Misalnya, saat menggunakan ponsel, kita hanya menyentuh layar atau menekan tombol, tanpa perlu tahu bagaimana sistem operasi mengolah perintah itu atau bagaimana perangkat keras bekerja. Begitu pula dalam OOP, enkapsulasi membuat interaksi dengan objek menjadi sederhana, aman, dan terprediksi, meskipun logika di baliknya bisa sangat kompleks."
   ]
  },
  {
   "cell_type": "markdown",
   "id": "e30a0ef0-ae66-446c-a1e6-c683b7ddde28",
   "metadata": {},
   "source": [
    "## Studi Kasus Akun Bank\n",
    "Contoh ini mengilustrasikan prinsip enkapsulasi dalam OOP. Kelas `BankAccoun` memiliki atribut `__balance` yang bersifat privat, sehingga tidak dapat diakses atau dimodifikasi langsung dari luar kelas. Perlindungan ini memastikan data sensitif seperti saldo hanya dapat diubah melalui metode yang telah disediakan, seperti `deposit`.\n",
    "\n",
    "Dengan cara ini, semua perubahan saldo dapat dikontrol dan divalidasi terlebih dahulu, misalnya memastikan jumlah deposit selalu positif. Akses terhadap saldo diberikan melalui metode `get_balance`, sehingga informasi tetap dapat dilihat tanpa risiko manipulasi langsung.\n",
    "\n",
    "Pendekatan ini melindungi integritas data, meminimalkan kesalahan akibat akses sembarangan, dan menjaga logika bisnis tetap konsisten di seluruh sistem. Dalam dunia nyata, prinsip seperti ini sangat penting pada sistem keuangan, di mana keamanan dan akurasi data menjadi prioritas utama."
   ]
  },
  {
   "cell_type": "code",
   "execution_count": 6,
   "id": "253d4ea0-d289-4109-be3e-320846e57686",
   "metadata": {},
   "outputs": [],
   "source": [
    "class BankAccount:\n",
    "    def __init__(self, owner, balance):\n",
    "        self.owner = owner\n",
    "        self.__balance = balance  # atribut private\n",
    "\n",
    "    def deposit(self, amount):\n",
    "        if amount > 0:\n",
    "            self.__balance += amount\n",
    "        else:\n",
    "            print(\"Deposit harus positif.\")\n",
    "\n",
    "    def get_balance(self):\n",
    "        return self.__balance\n"
   ]
  },
  {
   "cell_type": "markdown",
   "id": "78252244-6f9d-46c4-b70a-9c7ff6096fff",
   "metadata": {},
   "source": [
    "Penggunaan"
   ]
  },
  {
   "cell_type": "code",
   "execution_count": 7,
   "id": "00c90432-82f9-4925-892d-18dad425be7f",
   "metadata": {},
   "outputs": [
    {
     "name": "stdout",
     "output_type": "stream",
     "text": [
      "150000\n"
     ]
    }
   ],
   "source": [
    "acc = BankAccount(\"Andra\", 100000)\n",
    "acc.deposit(50000)\n",
    "print(acc.get_balance())"
   ]
  },
  {
   "cell_type": "markdown",
   "id": "1e72d206-7e86-43bb-ac92-34ac5023c68e",
   "metadata": {},
   "source": [
    "Enkapsulasi melindungi saldo agar tidak bisa dimodifikasi langsung, sehingga data tetap aman."
   ]
  },
  {
   "cell_type": "markdown",
   "id": "2890d5ba-9543-4639-af23-4ef90cddaca7",
   "metadata": {},
   "source": [
    "# Pewarisan\n",
    "Pewarisan memungkinkan satu class mewarisi atribut dan method dari class lain.\n",
    "\n",
    "Pewarisan adalah mekanisme di mana sebuah kelas dapat mewarisi sifat dan perilaku dari kelas lain, sehingga kita tidak perlu menulis ulang kode yang sudah ada. Dengan cara ini, kita bisa membangun hierarki yang menggambarkan hubungan “adalah” di antara objek. Sebuah kelas induk mendefinisikan karakteristik umum, sementara kelas turunan menambahkan atau memodifikasi detail sesuai kebutuhan.\n",
    "\n",
    "Gambaran sederhananya adalah hubungan antara hewan secara umum dengan jenis hewan tertentu. Kelas “Hewan” dapat memiliki sifat seperti bernapas dan bergerak, lalu kelas “Burung” yang mewarisinya akan tetap memiliki sifat tersebut, tetapi juga menambahkan kemampuan terbang. Melalui pewarisan, kita bisa membuat desain yang terstruktur, mengurangi pengulangan, dan memudahkan pengelolaan kode, terutama saat sistem menjadi semakin besar dan kompleks."
   ]
  },
  {
   "cell_type": "markdown",
   "id": "13d880ae-9323-4f3d-a8f6-6a6c2985fe0d",
   "metadata": {},
   "source": [
    "## Studi Kasus Kendaraan\n",
    "Contoh ini memperlihatkan penerapan pewarisan dan polimorfisme dalam OOP. Kelas `Vehicle` bertindak sebagai kelas induk yang memiliki atribut brand dan metode umum `move`. Dua kelas turunan, `Car` dan `Bike`, mewarisi struktur dasar ini namun masing-masing mengubah perilaku metode `move` sesuai karakteristiknya.\n",
    "\n",
    "Melalui pewarisan, kita dapat menghindari penulisan ulang kode yang sama untuk atribut dan perilaku umum, sementara polimorfisme memungkinkan setiap objek merespons metode yang sama dengan cara berbeda. Ketika `move` dipanggil pada objek `Car`, hasilnya akan berupa pesan bahwa mobil sedang berjalan, sedangkan pada objek Bike, pesan akan menyesuaikan untuk sepeda.\n",
    "\n",
    "Struktur seperti ini mempermudah pengembangan sistem yang memiliki banyak jenis objek dengan perilaku serupa namun spesifik. Kita cukup menambahkan kelas baru yang mewarisi dari `Vehicle` untuk memperluas jenis kendaraan tanpa mengubah logika inti yang sudah ada.\n"
   ]
  },
  {
   "cell_type": "code",
   "execution_count": 8,
   "id": "3ac5287e-1586-4c33-a7b5-6cc21810cdb6",
   "metadata": {},
   "outputs": [],
   "source": [
    "class Vehicle:\n",
    "    def __init__(self, brand):\n",
    "        self.brand = brand\n",
    "\n",
    "    def move(self):\n",
    "        print(\"Moving...\")\n",
    "\n",
    "class Car(Vehicle):\n",
    "    def move(self):\n",
    "        print(f\"{self.brand} car is driving.\")\n",
    "\n",
    "class Bike(Vehicle):\n",
    "    def move(self):\n",
    "        print(f\"{self.brand} bike is riding.\")"
   ]
  },
  {
   "cell_type": "markdown",
   "id": "facdeafa-5b86-43aa-8680-7c1294cc82e9",
   "metadata": {},
   "source": [
    "Penggunaan"
   ]
  },
  {
   "cell_type": "code",
   "execution_count": 9,
   "id": "aec2ce7c-adb3-463b-ac7d-8d2fea7bc391",
   "metadata": {},
   "outputs": [
    {
     "name": "stdout",
     "output_type": "stream",
     "text": [
      "Toyota car is driving.\n"
     ]
    }
   ],
   "source": [
    "v1 = Car(\"Toyota\")\n",
    "v1.move()"
   ]
  },
  {
   "cell_type": "markdown",
   "id": "5b171254-8189-4db9-8d7b-1a0c25ce4086",
   "metadata": {},
   "source": [
    "Dengan inheritance, kita bisa membuat banyak jenis kendaraan tanpa menulis ulang atribut `brand`."
   ]
  },
  {
   "cell_type": "markdown",
   "id": "7446710c-ba57-4f03-a276-f7a6cf0cfd03",
   "metadata": {},
   "source": [
    "# Polimorfisme\n",
    "Polimorfisme memungkinkan method yang sama dipanggil pada objek yang berbeda dengan hasil berbeda.\n",
    "\n",
    "Polimorfisme adalah kemampuan objek yang berbeda untuk merespons perintah yang sama dengan cara mereka masing-masing. Dalam OOP, konsep ini memungkinkan kita menggunakan satu antarmuka yang konsisten untuk berbagai jenis objek, meskipun implementasi di baliknya berbeda. Dengan begitu, kode menjadi lebih fleksibel, mudah diperluas, dan mampu beradaptasi terhadap perubahan tanpa mengganggu struktur yang sudah ada.\n",
    "\n",
    "Bayangkan seorang pelatih memberi perintah “bergerak” kepada berbagai hewan. Seekor burung akan terbang, seekor ikan akan berenang, dan seekor kuda akan berlari. Perintah yang diberikan sama, tetapi masing-masing hewan mengeksekusinya sesuai kemampuannya sendiri. Prinsip yang sama berlaku di dalam kode: satu metode dapat dipanggil pada berbagai objek, dan masing-masing objek akan menentukan sendiri bagaimana perintah tersebut dijalankan."
   ]
  },
  {
   "cell_type": "markdown",
   "id": "74c82a58-c555-402c-8aff-63143bc3d846",
   "metadata": {},
   "source": [
    "## Studi Kasus Kebun Binatang\n",
    "Contoh ini menampilkan konsep polimorfisme, di mana berbagai objek dapat merespons pesan yang sama dengan cara yang berbeda. Kelas `Animal` menjadi kelas dasar yang mendefinisikan metode `sound` tanpa implementasi spesifik, memberi kebebasan kepada kelas turunannya untuk menentukan suara masing-masing.\n",
    "\n",
    "`Dog` dan `Cat` mewarisi struktur dari `Animal`, tetapi mengimplementasikan metode `sound` sesuai sifat alaminya. Ketika metode tersebut dipanggil pada objek `Dog`, hasilnya adalah `“Woof!”`, sedangkan pada objek `Cat`, hasilnya adalah `“Meow!”`. Perilaku yang berbeda ini dihasilkan dari metode dengan nama sama, sehingga pemanggil tidak perlu mengetahui detail tipe objek untuk mendapatkan respon yang tepat.\n",
    "\n",
    "Pendekatan seperti ini sangat berguna dalam sistem berskala besar, misalnya simulasi kebun binatang atau permainan edukasi, di mana setiap hewan memiliki perilaku unik, namun dapat diproses secara seragam melalui antarmuka yang sama."
   ]
  },
  {
   "cell_type": "code",
   "execution_count": 10,
   "id": "6bead594-e10c-4a39-ba18-9948605219b8",
   "metadata": {},
   "outputs": [],
   "source": [
    "class Animal:\n",
    "    def sound(self):\n",
    "        pass\n",
    "\n",
    "class Dog(Animal):\n",
    "    def sound(self):\n",
    "        return \"Woof!\"\n",
    "\n",
    "class Cat(Animal):\n",
    "    def sound(self):\n",
    "        return \"Meow!\"\n"
   ]
  },
  {
   "cell_type": "markdown",
   "id": "5202652b-4214-4930-a343-d563523bb5ed",
   "metadata": {},
   "source": [
    "Penggunaan"
   ]
  },
  {
   "cell_type": "code",
   "execution_count": 11,
   "id": "029990b8-8d50-4ef4-918f-1aefd64081d5",
   "metadata": {},
   "outputs": [
    {
     "name": "stdout",
     "output_type": "stream",
     "text": [
      "Woof!\n",
      "Meow!\n"
     ]
    }
   ],
   "source": [
    "animals = [Dog(), Cat()]\n",
    "for animal in animals:\n",
    "    print(animal.sound())"
   ]
  },
  {
   "cell_type": "markdown",
   "id": "7aef5c34-43cc-4331-bf9e-67d6414f3f90",
   "metadata": {},
   "source": [
    "Polimorfisme membuat kode fleksibel: kita bisa menambahkan hewan baru tanpa mengubah logika loop."
   ]
  },
  {
   "cell_type": "markdown",
   "id": "20ca3820-d5fe-458b-86bd-262c529974e6",
   "metadata": {},
   "source": [
    "# Relasi Antar Objek\n",
    "Dalam OOP, objek dapat berinteraksi satu sama lain melalui relasi. Beberapa tipe relasi utama:\n",
    "1. Association – Hubungan umum antara dua objek (contoh: Dosen mengajar Mahasiswa).\n",
    "2. Aggregation – Objek terdiri dari objek lain, tetapi objek bagian bisa berdiri sendiri (contoh: Tim terdiri dari Pemain).\n",
    "3. Composition – Objek terdiri dari objek lain yang tidak bisa berdiri sendiri (contoh: Rumah memiliki Pintu).\n",
    "\n",
    "Dalam sistem berbasis OOP, jarang ada objek yang berdiri sendiri. Sebagian besar saling terhubung dan bekerja sama untuk mencapai tujuan tertentu. Relasi antar objek menggambarkan bagaimana satu objek berinteraksi atau bergantung pada objek lainnya. Hubungan ini bisa bersifat longgar, di mana objek hanya saling mengenal untuk bertukar informasi, atau bersifat erat, di mana satu objek sepenuhnya menjadi bagian dari objek lainnya.\n",
    "\n",
    "Misalnya dalam sebuah aplikasi toko online, objek Pelanggan mungkin memiliki relasi dengan Pesanan, dan Pesanan memiliki relasi dengan Produk. Ada hubungan yang sekadar saling mengenal, seperti pelanggan yang memesan produk tertentu, dan ada pula hubungan yang lebih kuat, seperti pesanan yang tidak bisa ada tanpa daftar produknya. Memahami relasi antar objek membantu kita merancang arsitektur sistem yang terstruktur, meminimalkan ketergantungan yang tidak perlu, dan mempermudah pengembangan di masa depan."
   ]
  },
  {
   "cell_type": "markdown",
   "id": "16853964-0d99-4bbd-9d7a-969f0a5f6ae7",
   "metadata": {},
   "source": [
    "## Studi Kasus Sistem Perpustakaan\n",
    "Contoh ini merangkum tiga bentuk relasi antar objek yang sering digunakan dalam OOP, yaitu association, aggregation, dan composition.\n",
    "\n",
    "Pada association, hubungan dibentuk antara dua objek yang saling mengenal namun tetap dapat berdiri sendiri. Kelas `Book` memiliki referensi ke objek `Author`, sehingga dapat menampilkan informasi lengkap tentang judul dan penulis. Meski demikian, baik `Book` maupun `Author` tetap dapat eksis tanpa bergantung sepenuhnya satu sama lain.\n",
    "\n",
    "Dalam aggregation, hubungan bersifat “memiliki” namun longgar. Kelas `Team` menyimpan daftar `Player` yang dapat ditambahkan atau dilepas kapan saja. `Player` tidak sepenuhnya menjadi bagian yang melekat pada `team` secara permanen—mereka bisa saja pindah `team` atau tetap ada meski `team` dibubarkan.\n",
    "\n",
    "Sementara itu, composition menunjukkan hubungan yang jauh lebih erat dan saling bergantung. Pada kelas `House`, objek `Door` dibuat langsung di dalam konstruktur dan menjadi bagian tak terpisahkan dari rumah. Jika rumah dihapus, pintu pun ikut hilang. Hubungan ini menunjukkan kepemilikan penuh yang tak terpisahkan antara objek induk dan objek bagiannya.\n",
    "\n",
    "Melalui contoh ini, kita dapat memahami perbedaan tingkat keterikatan antar objek dalam OOP, yang berperan penting dalam membangun arsitektur perangkat lunak yang terstruktur, fleksibel, dan mudah dikelola."
   ]
  },
  {
   "cell_type": "code",
   "execution_count": 12,
   "id": "80b452c6-be8e-456f-a234-4a670411f95f",
   "metadata": {},
   "outputs": [],
   "source": [
    "# Association\n",
    "class Author:\n",
    "    def __init__(self, name):\n",
    "        self.name = name\n",
    "\n",
    "class Book:\n",
    "    def __init__(self, title, author: Author):\n",
    "        self.title = title\n",
    "        self.author = author  # association\n",
    "\n",
    "    def info(self):\n",
    "        return f\"{self.title} by {self.author.name}\"\n",
    "\n",
    "# Aggregation\n",
    "class Team:\n",
    "    def __init__(self, name):\n",
    "        self.name = name\n",
    "        self.members = []  # aggregation\n",
    "\n",
    "    def add_member(self, player):\n",
    "        self.members.append(player)\n",
    "\n",
    "class Player:\n",
    "    def __init__(self, name):\n",
    "        self.name = name\n",
    "\n",
    "# Composition\n",
    "class House:\n",
    "    def __init__(self, address):\n",
    "        self.address = address\n",
    "        self.door = self.Door()  # composition\n",
    "\n",
    "    class Door:\n",
    "        def open(self):\n",
    "            print(\"Door is opened.\")"
   ]
  },
  {
   "cell_type": "markdown",
   "id": "9214d222-f6b7-4d4b-8400-ad88d8a7eef4",
   "metadata": {},
   "source": [
    "Penggunaan"
   ]
  },
  {
   "cell_type": "code",
   "execution_count": 13,
   "id": "c515d44c-37f7-4a56-9eb8-5c0b7d196274",
   "metadata": {},
   "outputs": [
    {
     "name": "stdout",
     "output_type": "stream",
     "text": [
      "Bumi by Tere Liye\n"
     ]
    }
   ],
   "source": [
    "author = Author(\"Tere Liye\")\n",
    "book = Book(\"Bumi\", author)\n",
    "print(book.info())"
   ]
  },
  {
   "cell_type": "code",
   "execution_count": 14,
   "id": "cbe56677-c86d-4469-8cf6-09c525261453",
   "metadata": {},
   "outputs": [
    {
     "name": "stdout",
     "output_type": "stream",
     "text": [
      "['Alice', 'Bob']\n"
     ]
    }
   ],
   "source": [
    "team = Team(\"Red Dragons\")\n",
    "team.add_member(Player(\"Alice\"))\n",
    "team.add_member(Player(\"Bob\"))\n",
    "print([p.name for p in team.members])"
   ]
  },
  {
   "cell_type": "code",
   "execution_count": 15,
   "id": "1c2f664f-ea74-4570-8683-4d5af8ea64ad",
   "metadata": {},
   "outputs": [
    {
     "name": "stdout",
     "output_type": "stream",
     "text": [
      "Door is opened.\n"
     ]
    }
   ],
   "source": [
    "house = House(\"Jl. Mawar 1\")\n",
    "house.door.open()"
   ]
  },
  {
   "cell_type": "markdown",
   "id": "58b2984d-d154-4908-bcc2-51a5d2af1682",
   "metadata": {},
   "source": [
    "Dengan memahami jenis relasi, kita dapat membuat desain class yang lebih jelas dan mudah dipelihara."
   ]
  },
  {
   "cell_type": "markdown",
   "id": "669e0250-23f2-42e9-b265-d9350aecf834",
   "metadata": {},
   "source": [
    "# Metakelas\n",
    "Metakelas adalah 'class dari class'. Jika objek dibuat dari class, maka class dibuat dari metaclass.\n",
    "Metakelas memungkinkan kita mengontrol pembuatan class, seperti memodifikasi atribut atau method secara otomatis.\n",
    "\n",
    "Metakelas adalah “kelas dari kelas”, yaitu mekanisme yang mengatur bagaimana sebuah kelas itu sendiri dibentuk. Jika kelas biasa digunakan untuk membuat objek, maka metakelas digunakan untuk membuat dan mengatur perilaku kelas itu sendiri. Dengan metakelas, kita dapat mengendalikan proses pembuatan kelas, memodifikasi atribut atau metode secara otomatis, bahkan menerapkan aturan tertentu yang harus dipatuhi semua kelas turunan.\n",
    "\n",
    "Bayangkan kelas sebagai cetakan kue, dan objek sebagai kue yang dihasilkan. Metakelas adalah cetakan yang digunakan untuk membuat cetakan kue itu sendiri. Dengan mengubah cetakan pada tingkat metakelas, kita secara tidak langsung memengaruhi semua kelas yang dihasilkannya. Konsep ini jarang digunakan pada tingkat pemula, tetapi sangat berguna untuk membangun kerangka kerja (framework), menerapkan validasi otomatis, atau menciptakan perilaku dinamis pada sistem yang kompleks."
   ]
  },
  {
   "cell_type": "markdown",
   "id": "4048a4ae-91ad-48e6-a639-397655d06ae6",
   "metadata": {},
   "source": [
    "## Studi Kasus Membuat Class dengan Validasi Otomatis\n",
    "Contoh ini memperlihatkan penggunaan metaclass untuk mengontrol pembentukan kelas secara otomatis. Metaclass `UpperAttrMetaclass` didefinisikan untuk memeriksa semua atribut yang dimiliki suatu kelas pada saat kelas tersebut dibuat. Jika nama atribut tidak diawali dengan `__` (yang biasanya menandakan atribut khusus Python), maka metaclass akan mengubah nama atribut tersebut menjadi huruf kapital.\n",
    "\n",
    "Kelas `MyClass` yang menggunakan metaclass ini secara otomatis akan memiliki atribut `FOO` alih-alih `foo`, tanpa perlu pengembang menuliskannya dengan huruf besar secara manual. Proses ini terjadi sebelum objek dari kelas tersebut dibuat, yaitu pada tahap definisi kelas.\n",
    "\n",
    "Pendekatan seperti ini sangat berguna untuk menerapkan aturan atau standar penamaan di seluruh kode, memastikan konsistensi, dan mencegah kesalahan akibat penulisan atribut yang tidak sesuai konvensi. Dengan metaclass, validasi dan transformasi dapat dilakukan di tingkat struktural, bukan hanya pada saat eksekusi objek, sehingga memberi kontrol yang sangat mendalam terhadap desain kelas.\n",
    "\n"
   ]
  },
  {
   "cell_type": "code",
   "execution_count": 16,
   "id": "efa6400c-b4b7-40e9-91b9-b3c6c512ba15",
   "metadata": {},
   "outputs": [],
   "source": [
    "# Metaclass yang memaksa semua atribut class dalam huruf kapital\n",
    "class UpperAttrMetaclass(type):\n",
    "    def __new__(cls, name, bases, dct):\n",
    "        uppercase_attr = {}\n",
    "        for attr_name, attr_value in dct.items():\n",
    "            if not attr_name.startswith(\"__\"):\n",
    "                uppercase_attr[attr_name.upper()] = attr_value\n",
    "            else:\n",
    "                uppercase_attr[attr_name] = attr_value\n",
    "        return super().__new__(cls, name, bases, uppercase_attr)\n",
    "\n",
    "# Class yang memakai metaclass\n",
    "class MyClass(metaclass=UpperAttrMetaclass):\n",
    "    foo = \"bar\"\n",
    "    def hello(self):\n",
    "        return \"Hello\""
   ]
  },
  {
   "cell_type": "markdown",
   "id": "6b061c52-b2cb-49f1-a1cd-63ac78c03d01",
   "metadata": {},
   "source": [
    "Penggunaan"
   ]
  },
  {
   "cell_type": "code",
   "execution_count": 17,
   "id": "afc5e3f2-eefd-4fc0-8863-2c7a79e1efa4",
   "metadata": {},
   "outputs": [
    {
     "name": "stdout",
     "output_type": "stream",
     "text": [
      "False\n",
      "True\n",
      "Hello\n"
     ]
    }
   ],
   "source": [
    "obj = MyClass()\n",
    "print(hasattr(MyClass, \"foo\"))  # False\n",
    "print(hasattr(MyClass, \"FOO\"))  # True\n",
    "print(obj.HELLO())"
   ]
  },
  {
   "cell_type": "markdown",
   "id": "f581e698-37a1-4dfa-93bd-86dcb92f4663",
   "metadata": {},
   "source": [
    "Metakelas berguna saat kita ingin membuat aturan global untuk semua class yang didefinisikan dengan metaclass tersebut.\n",
    "Contoh di atas memaksa semua atribut class ditulis dalam huruf kapital."
   ]
  },
  {
   "cell_type": "markdown",
   "id": "41d715a3-4d5c-4fc7-97d0-2e9ac671aa69",
   "metadata": {},
   "source": [
    "# Menggabungkan Semua Konsep\n",
    "Proyek ini akan:\n",
    "- Menggunakan abstraksi, enkapsulasi, pewarisan, polimorfisme\n",
    "- Memakai relasi antar objek (association, aggregation, composition)\n",
    "- Menerapkan metakelas untuk validasi aturan class\n",
    "- Menggabungkan semua dalam sistem mini\n",
    "\n",
    "Keterangan:\n",
    "- Metakelas: Memastikan semua class entity punya docstring.\n",
    "- Abstraksi: Abstract class Transport.\n",
    "- Pewarisan & Polimorfisme: Subclass Plane, Train, Bus.\n",
    "- Relasi Antar Objek:\n",
    "  * Association: Booking berhubungan dengan Customer dan Transport.\n",
    "  * Aggregation: TravelAgency memiliki banyak Booking.\n",
    "  * Composition: Ticket memiliki QRcode."
   ]
  },
  {
   "cell_type": "code",
   "execution_count": 18,
   "id": "f32fc8ae-0df0-4d42-bacb-2ab7b4ff7223",
   "metadata": {},
   "outputs": [],
   "source": [
    "from abc import ABC, ABCMeta, abstractmethod\n",
    "\n",
    "# Metaclass: memastikan semua class punya docstring\n",
    "class DocstringChecker(ABCMeta):  # mewarisi dari ABCMeta agar kompatibel dengan ABC\n",
    "    def __new__(cls, name, bases, dct):\n",
    "        if \"__doc__\" not in dct or not dct[\"__doc__\"].strip():\n",
    "            raise TypeError(f\"Class {name} harus memiliki docstring.\")\n",
    "        return super().__new__(cls, name, bases, dct)\n",
    "\n",
    "# Abstraksi\n",
    "class Transport(ABC, metaclass=DocstringChecker):\n",
    "    \"\"\"Abstract class untuk transportasi.\"\"\"\n",
    "    def __init__(self, brand):\n",
    "        self.brand = brand\n",
    "\n",
    "    @abstractmethod\n",
    "    def travel(self, origin, destination):\n",
    "        pass\n",
    "\n",
    "# Pewarisan + Polimorfisme\n",
    "class Plane(Transport):\n",
    "    \"\"\"Transportasi Pesawat\"\"\"\n",
    "    def travel(self, origin, destination):\n",
    "        return f\"Flying from {origin} to {destination} with {self.brand}.\"\n",
    "\n",
    "class Train(Transport):\n",
    "    \"\"\"Transportasi Kereta\"\"\"\n",
    "    def travel(self, origin, destination):\n",
    "        return f\"Travelling by train from {origin} to {destination} with {self.brand}.\"\n",
    "\n",
    "# Association\n",
    "class Customer:\n",
    "    \"\"\"Data pelanggan.\"\"\"\n",
    "    def __init__(self, name):\n",
    "        self.name = name\n",
    "\n",
    "# Composition\n",
    "class Ticket:\n",
    "    \"\"\"Tiket perjalanan.\"\"\"\n",
    "    def __init__(self, code):\n",
    "        self.code = code\n",
    "        self.qrcode = self.QRcode(code)\n",
    "\n",
    "    class QRcode:\n",
    "        def __init__(self, data):\n",
    "            self.data = data\n",
    "        def scan(self):\n",
    "            return f\"QR Code Data: {self.data}\"\n",
    "\n",
    "# Aggregation\n",
    "class TravelAgency:\n",
    "    \"\"\"Agen perjalanan.\"\"\"\n",
    "    def __init__(self, name):\n",
    "        self.name = name\n",
    "        self.bookings = []\n",
    "\n",
    "    def add_booking(self, booking):\n",
    "        self.bookings.append(booking)\n",
    "\n",
    "class Booking:\n",
    "    \"\"\"Pemesanan perjalanan.\"\"\"\n",
    "    def __init__(self, customer: Customer, transport: Transport, ticket: Ticket):\n",
    "        self.customer = customer\n",
    "        self.transport = transport\n",
    "        self.ticket = ticket\n",
    "\n",
    "    def info(self, origin, destination):\n",
    "        return f\"{self.customer.name} - {self.transport.travel(origin, destination)} | Ticket: {self.ticket.code}\""
   ]
  },
  {
   "cell_type": "code",
   "execution_count": 19,
   "id": "ba1fc3de-baba-49f1-af71-3cae74423c2c",
   "metadata": {},
   "outputs": [],
   "source": [
    "agency = TravelAgency(\"GoTravel\")\n",
    "cust = Customer(\"Andra\")\n",
    "trans = Plane(\"Garuda\")\n",
    "ticket = Ticket(\"GT123\")\n",
    "booking = Booking(cust, trans, ticket)\n",
    "agency.add_booking(booking)"
   ]
  },
  {
   "cell_type": "code",
   "execution_count": 20,
   "id": "52fb4a06-abfa-42b6-aa12-fd98273e7494",
   "metadata": {},
   "outputs": [
    {
     "name": "stdout",
     "output_type": "stream",
     "text": [
      "Andra - Flying from Jakarta to Bali with Garuda. | Ticket: GT123\n",
      "QR Code Data: GT123\n"
     ]
    }
   ],
   "source": [
    "for b in agency.bookings:\n",
    "    print(b.info(\"Jakarta\", \"Bali\"))\n",
    "    print(b.ticket.qrcode.scan())"
   ]
  },
  {
   "cell_type": "markdown",
   "id": "42a44b21-da0e-4355-8ae5-276839afc420",
   "metadata": {},
   "source": [
    "# Thank You"
   ]
  },
  {
   "cell_type": "code",
   "execution_count": null,
   "id": "a884f729-aa7e-4d11-b92c-6126ea036fcf",
   "metadata": {},
   "outputs": [],
   "source": []
  }
 ],
 "metadata": {
  "kernelspec": {
   "display_name": "Python 3 (ipykernel)",
   "language": "python",
   "name": "python3"
  },
  "language_info": {
   "codemirror_mode": {
    "name": "ipython",
    "version": 3
   },
   "file_extension": ".py",
   "mimetype": "text/x-python",
   "name": "python",
   "nbconvert_exporter": "python",
   "pygments_lexer": "ipython3",
   "version": "3.13.5"
  }
 },
 "nbformat": 4,
 "nbformat_minor": 5
}
