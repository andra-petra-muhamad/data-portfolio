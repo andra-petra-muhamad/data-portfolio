{
 "cells": [
  {
   "cell_type": "markdown",
   "id": "0381e903-f763-4ecf-9735-ffa167d4448c",
   "metadata": {},
   "source": [
    "Program ini adalah permainan sederhana \"Batu Gunting Kertas\" antara pengguna dan komputer menggunakan bahasa Python. Pengguna diminta memasukkan pilihan mereka (batu, gunting, atau kertas), sementara komputer secara acak memilih salah satu dari ketiganya. Program kemudian menentukan pemenang berdasarkan aturan standar permainan:\n",
    "* Batu mengalahkan gunting\n",
    "* Gunting mengalahkan kertas\n",
    "* Kertas mengalahkan batu\\\n",
    "Hasil permainan ditampilkan kepada pengguna."
   ]
  },
  {
   "cell_type": "code",
   "execution_count": 1,
   "id": "c3c9ac2a",
   "metadata": {},
   "outputs": [],
   "source": [
    "import random\n",
    "\n",
    "# Konstanta\n",
    "BATU = 0\n",
    "GUNTING = 1\n",
    "KERTAS = 2\n",
    "PILIHAN = [\"Batu\", \"Gunting\", \"Kertas\"]"
   ]
  },
  {
   "cell_type": "code",
   "execution_count": 2,
   "id": "cef8e50a",
   "metadata": {},
   "outputs": [],
   "source": [
    "def get_user_choice():\n",
    "    \"\"\"Mendapatkan input valid dari pengguna.\"\"\"\n",
    "    while True:\n",
    "        try:\n",
    "            pilihan = int(input(\"Masukkan pilihan (0: Batu, 1: Gunting, 2: Kertas): \"))\n",
    "            if pilihan in [0, 1, 2]:\n",
    "                return pilihan\n",
    "            else:\n",
    "                print(\"Masukkan hanya angka 0, 1, atau 2.\")\n",
    "        except ValueError:\n",
    "            print(\"Input tidak valid. Masukkan angka 0, 1, atau 2.\")"
   ]
  },
  {
   "cell_type": "code",
   "execution_count": 3,
   "id": "84cd57e8",
   "metadata": {},
   "outputs": [],
   "source": [
    "def komputer_choice():\n",
    "    \"\"\"Menghasilkan pilihan komputer secara acak.\"\"\"\n",
    "    return random.randint(0, 2)"
   ]
  },
  {
   "cell_type": "code",
   "execution_count": 4,
   "id": "4344ada9",
   "metadata": {},
   "outputs": [],
   "source": [
    "def tentukan_pemenang(player, komputer):\n",
    "    \"\"\"Menentukan hasil dari satu ronde permainan.\n",
    "    Return: (hasil, deskripsi)\n",
    "    - hasil:  1 jika player menang\n",
    "              0 jika seri\n",
    "             -1 jika komputer menang\n",
    "    \"\"\"\n",
    "    if player == komputer:\n",
    "        return (0, \"Seri\")\n",
    "    elif (player == BATU and komputer == GUNTING) or \\\n",
    "         (player == GUNTING and komputer == KERTAS) or \\\n",
    "         (player == KERTAS and komputer == BATU):\n",
    "        return (1, \"Kamu menang\")\n",
    "    else:\n",
    "        return (-1, \"Komputer menang\")"
   ]
  },
  {
   "cell_type": "code",
   "execution_count": 5,
   "id": "b2461b7e",
   "metadata": {},
   "outputs": [],
   "source": [
    "def tampilkan_hasil(ronde, player, komputer, status, skor_player, skor_komputer):\n",
    "    \"\"\"Menampilkan hasil satu ronde ke layar.\"\"\"\n",
    "    print(f\"\"\"\n",
    "{'='*50}\n",
    "Ronde ke-{ronde}\n",
    "Kamu memilih     : {PILIHAN[player]}\n",
    "Komputer memilih : {PILIHAN[komputer]}\n",
    "Hasil            : {status}\n",
    "Skor             : Kamu {skor_player} - Komputer {skor_komputer}\n",
    "History          : {PILIHAN[player]} - {PILIHAN[komputer]}\n",
    "{'='*50}\n",
    "\"\"\")"
   ]
  },
  {
   "cell_type": "code",
   "execution_count": 6,
   "id": "1afa71fd",
   "metadata": {},
   "outputs": [],
   "source": [
    "def main():\n",
    "    print(\"Permainan Batu Gunting Kertas\".center(50, \"=\"))\n",
    "    skor_kamu = 0\n",
    "    skor_komputer = 0\n",
    "    ronde = 0\n",
    "    batas_menang = 3  # Siapa duluan menang 3 kali\n",
    "\n",
    "    while skor_kamu < batas_menang and skor_komputer < batas_menang:\n",
    "        ronde += 1\n",
    "        player = get_user_choice()\n",
    "        komputer = komputer_choice()\n",
    "        hasil, status = tentukan_pemenang(player, komputer)\n",
    "\n",
    "        if hasil == 1:\n",
    "            skor_kamu += 1\n",
    "        elif hasil == -1:\n",
    "            skor_komputer += 1\n",
    "\n",
    "        tampilkan_hasil(ronde, player, komputer, status, skor_kamu, skor_komputer)\n",
    "\n",
    "    # Tampilkan hasil akhir\n",
    "    if skor_kamu > skor_komputer:\n",
    "        print(f\"\\nPermainan selesai! Kamu menang dengan skor {skor_kamu} - {skor_komputer}.\")\n",
    "    else:\n",
    "        print(f\"\\nPermainan selesai! Komputer menang dengan skor {skor_komputer} - {skor_kamu}.\")\n"
   ]
  },
  {
   "cell_type": "code",
   "execution_count": 7,
   "id": "14783d0e",
   "metadata": {},
   "outputs": [
    {
     "name": "stdout",
     "output_type": "stream",
     "text": [
      "==========Permainan Batu Gunting Kertas===========\n"
     ]
    },
    {
     "name": "stdin",
     "output_type": "stream",
     "text": [
      "Masukkan pilihan (0: Batu, 1: Gunting, 2: Kertas):  3\n"
     ]
    },
    {
     "name": "stdout",
     "output_type": "stream",
     "text": [
      "Masukkan hanya angka 0, 1, atau 2.\n"
     ]
    },
    {
     "name": "stdin",
     "output_type": "stream",
     "text": [
      "Masukkan pilihan (0: Batu, 1: Gunting, 2: Kertas):  2\n"
     ]
    },
    {
     "name": "stdout",
     "output_type": "stream",
     "text": [
      "\n",
      "==================================================\n",
      "Ronde ke-1\n",
      "Kamu memilih     : Kertas\n",
      "Komputer memilih : Batu\n",
      "Hasil            : Kamu menang\n",
      "Skor             : Kamu 1 - Komputer 0\n",
      "History          : Kertas - Batu\n",
      "==================================================\n",
      "\n"
     ]
    },
    {
     "name": "stdin",
     "output_type": "stream",
     "text": [
      "Masukkan pilihan (0: Batu, 1: Gunting, 2: Kertas):  1\n"
     ]
    },
    {
     "name": "stdout",
     "output_type": "stream",
     "text": [
      "\n",
      "==================================================\n",
      "Ronde ke-2\n",
      "Kamu memilih     : Gunting\n",
      "Komputer memilih : Kertas\n",
      "Hasil            : Kamu menang\n",
      "Skor             : Kamu 2 - Komputer 0\n",
      "History          : Gunting - Kertas\n",
      "==================================================\n",
      "\n"
     ]
    },
    {
     "name": "stdin",
     "output_type": "stream",
     "text": [
      "Masukkan pilihan (0: Batu, 1: Gunting, 2: Kertas):  2\n"
     ]
    },
    {
     "name": "stdout",
     "output_type": "stream",
     "text": [
      "\n",
      "==================================================\n",
      "Ronde ke-3\n",
      "Kamu memilih     : Kertas\n",
      "Komputer memilih : Kertas\n",
      "Hasil            : Seri\n",
      "Skor             : Kamu 2 - Komputer 0\n",
      "History          : Kertas - Kertas\n",
      "==================================================\n",
      "\n"
     ]
    },
    {
     "name": "stdin",
     "output_type": "stream",
     "text": [
      "Masukkan pilihan (0: Batu, 1: Gunting, 2: Kertas):  2\n"
     ]
    },
    {
     "name": "stdout",
     "output_type": "stream",
     "text": [
      "\n",
      "==================================================\n",
      "Ronde ke-4\n",
      "Kamu memilih     : Kertas\n",
      "Komputer memilih : Gunting\n",
      "Hasil            : Komputer menang\n",
      "Skor             : Kamu 2 - Komputer 1\n",
      "History          : Kertas - Gunting\n",
      "==================================================\n",
      "\n"
     ]
    },
    {
     "name": "stdin",
     "output_type": "stream",
     "text": [
      "Masukkan pilihan (0: Batu, 1: Gunting, 2: Kertas):  2\n"
     ]
    },
    {
     "name": "stdout",
     "output_type": "stream",
     "text": [
      "\n",
      "==================================================\n",
      "Ronde ke-5\n",
      "Kamu memilih     : Kertas\n",
      "Komputer memilih : Kertas\n",
      "Hasil            : Seri\n",
      "Skor             : Kamu 2 - Komputer 1\n",
      "History          : Kertas - Kertas\n",
      "==================================================\n",
      "\n"
     ]
    },
    {
     "name": "stdin",
     "output_type": "stream",
     "text": [
      "Masukkan pilihan (0: Batu, 1: Gunting, 2: Kertas):  2\n"
     ]
    },
    {
     "name": "stdout",
     "output_type": "stream",
     "text": [
      "\n",
      "==================================================\n",
      "Ronde ke-6\n",
      "Kamu memilih     : Kertas\n",
      "Komputer memilih : Gunting\n",
      "Hasil            : Komputer menang\n",
      "Skor             : Kamu 2 - Komputer 2\n",
      "History          : Kertas - Gunting\n",
      "==================================================\n",
      "\n"
     ]
    },
    {
     "name": "stdin",
     "output_type": "stream",
     "text": [
      "Masukkan pilihan (0: Batu, 1: Gunting, 2: Kertas):  1\n"
     ]
    },
    {
     "name": "stdout",
     "output_type": "stream",
     "text": [
      "\n",
      "==================================================\n",
      "Ronde ke-7\n",
      "Kamu memilih     : Gunting\n",
      "Komputer memilih : Kertas\n",
      "Hasil            : Kamu menang\n",
      "Skor             : Kamu 3 - Komputer 2\n",
      "History          : Gunting - Kertas\n",
      "==================================================\n",
      "\n",
      "\n",
      "Permainan selesai! Kamu menang dengan skor 3 - 2.\n"
     ]
    }
   ],
   "source": [
    "if __name__ == \"__main__\":\n",
    "    main()"
   ]
  },
  {
   "cell_type": "code",
   "execution_count": null,
   "id": "261e2fd2",
   "metadata": {},
   "outputs": [],
   "source": []
  }
 ],
 "metadata": {
  "kernelspec": {
   "display_name": "Python 3 (ipykernel)",
   "language": "python",
   "name": "python3"
  },
  "language_info": {
   "codemirror_mode": {
    "name": "ipython",
    "version": 3
   },
   "file_extension": ".py",
   "mimetype": "text/x-python",
   "name": "python",
   "nbconvert_exporter": "python",
   "pygments_lexer": "ipython3",
   "version": "3.13.5"
  }
 },
 "nbformat": 4,
 "nbformat_minor": 5
}
