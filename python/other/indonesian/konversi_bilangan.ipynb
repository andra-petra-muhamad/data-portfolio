{
 "cells": [
  {
   "cell_type": "markdown",
   "id": "a67701af-cb42-4748-ac52-6f28696216b7",
   "metadata": {},
   "source": [
    "Program ini adalah konverter bilangan berbasis Python yang memungkinkan pengguna mengubah angka dari satu sistem bilangan ke sistem lainnya, yaitu: biner, oktal, desimal, dan heksadesimal. Pengguna memilih basis angka input, memasukkan nilainya, lalu program menampilkan hasil konversi ke semua basis lainnya. Program dilengkapi dengan validasi input dan antarmuka berbasis teks yang interaktif.\n",
    "\n",
    "[User memilih basis] → [User memasukkan nilai] → \n",
    "[Fungsi to_decimal] → [Konversi ke desimal] → \n",
    "[Fungsi from_decimal] → [Konversi ke basis lain] → \n",
    "[Hasil ditampilkan] → [Tanya: ingin konversi lagi?]"
   ]
  },
  {
   "cell_type": "code",
   "execution_count": 1,
   "id": "c3c9ac2a",
   "metadata": {},
   "outputs": [],
   "source": [
    "def dari_desimal(nilai, basis):\n",
    "    if basis == 'biner':\n",
    "        return bin(nilai)[2:]\n",
    "    elif basis == 'oktal':\n",
    "        return oct(nilai)[2:]\n",
    "    elif basis == 'heksadesimal':\n",
    "        return hex(nilai)[2:]\n",
    "    else:\n",
    "        return str(nilai)"
   ]
  },
  {
   "cell_type": "code",
   "execution_count": 2,
   "id": "cef8e50a",
   "metadata": {},
   "outputs": [],
   "source": [
    "def ke_desimal(nilai, basis):\n",
    "    try:\n",
    "        if basis == 'biner':\n",
    "            return int(nilai, 2)\n",
    "        elif basis == 'oktal':\n",
    "            return int(nilai, 8)\n",
    "        elif basis == 'heksadesimal':\n",
    "            return int(nilai, 16)\n",
    "        elif basis == 'desimal':\n",
    "            return int(nilai)\n",
    "    except ValueError:\n",
    "        return None"
   ]
  },
  {
   "cell_type": "code",
   "execution_count": 3,
   "id": "84cd57e8",
   "metadata": {},
   "outputs": [],
   "source": [
    "def tampilkan_hasil(nilai_input, basis_input):\n",
    "    desimal = ke_desimal(nilai_input, basis_input)\n",
    "    if desimal is None:\n",
    "        print(\"Input tidak valid!\")\n",
    "        return\n",
    "\n",
    "    print(f\"\\nKonversi dari {basis_input.capitalize()} ke basis lain:\")\n",
    "    print(f\"Desimal      : {desimal}\")\n",
    "    print(f\"Biner        : {dari_desimal(desimal, 'biner')}\")\n",
    "    print(f\"Oktal        : {dari_desimal(desimal, 'oktal')}\")\n",
    "    print(f\"Heksadesimal : {dari_desimal(desimal, 'heksadesimal')}\")"
   ]
  },
  {
   "cell_type": "code",
   "execution_count": 4,
   "id": "4344ada9",
   "metadata": {},
   "outputs": [],
   "source": [
    "def menu():\n",
    "    print(\"=== Konversi Bilangan ===\")\n",
    "    print(\"1. Biner\")\n",
    "    print(\"2. Oktal\")\n",
    "    print(\"3. Desimal\")\n",
    "    print(\"4. Heksadesimal\")\n",
    "    pilihan = input(\"Pilih basis input (1-4): \")\n",
    "\n",
    "    basis_dict = {'1': 'biner', '2': 'oktal', '3': 'desimal', '4': 'heksadesimal'}\n",
    "    basis = basis_dict.get(pilihan)\n",
    "\n",
    "    if basis is None:\n",
    "        print(\"Pilihan tidak valid!\")\n",
    "        return\n",
    "\n",
    "    nilai = input(f\"Masukkan nilai dalam basis {basis}: \")\n",
    "    tampilkan_hasil(nilai, basis)"
   ]
  },
  {
   "cell_type": "code",
   "execution_count": 6,
   "id": "b2461b7e",
   "metadata": {},
   "outputs": [
    {
     "name": "stdout",
     "output_type": "stream",
     "text": [
      "=== Konversi Bilangan ===\n",
      "1. Biner\n",
      "2. Oktal\n",
      "3. Desimal\n",
      "4. Heksadesimal\n",
      "\n",
      "Konversi dari Biner ke basis lain:\n",
      "Desimal      : 33\n",
      "Biner        : 100001\n",
      "Oktal        : 41\n",
      "Heksadesimal : 21\n",
      "=== Konversi Bilangan ===\n",
      "1. Biner\n",
      "2. Oktal\n",
      "3. Desimal\n",
      "4. Heksadesimal\n",
      "\n",
      "Konversi dari Desimal ke basis lain:\n",
      "Desimal      : 1928913\n",
      "Biner        : 111010110111011010001\n",
      "Oktal        : 7267321\n",
      "Heksadesimal : 1d6ed1\n"
     ]
    }
   ],
   "source": [
    "if __name__ == \"__main__\":\n",
    "    while True:\n",
    "        menu()\n",
    "        lagi = input(\"\\nIngin konversi lagi? (y/n): \")\n",
    "        if lagi.lower() != 'y':\n",
    "            break"
   ]
  },
  {
   "cell_type": "code",
   "execution_count": null,
   "id": "261e2fd2",
   "metadata": {},
   "outputs": [],
   "source": []
  }
 ],
 "metadata": {
  "kernelspec": {
   "display_name": "Python 3 (ipykernel)",
   "language": "python",
   "name": "python3"
  },
  "language_info": {
   "codemirror_mode": {
    "name": "ipython",
    "version": 3
   },
   "file_extension": ".py",
   "mimetype": "text/x-python",
   "name": "python",
   "nbconvert_exporter": "python",
   "pygments_lexer": "ipython3",
   "version": "3.13.5"
  }
 },
 "nbformat": 4,
 "nbformat_minor": 5
}
