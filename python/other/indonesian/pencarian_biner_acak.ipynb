{
 "cells": [
  {
   "cell_type": "markdown",
   "id": "0f3543ea",
   "metadata": {},
   "source": [
    "Kode ini bertujuan untuk melakukan pencarian biner (binary search) pada sebuah list A berisi bilangan unik yang diacak, dan mencari apakah sebuah nilai target (t) ada dalam list tersebut.Tujuan kode yang Anda tampilkan adalah untuk mendemonstrasikan tiga pendekatan berbeda dalam mencari suatu nilai (target) di dalam sebuah list (A), dengan masing-masing fungsi memiliki tujuan dan output yang berbeda."
   ]
  },
  {
   "cell_type": "code",
   "execution_count": 4,
   "id": "cef8e50a",
   "metadata": {},
   "outputs": [],
   "source": [
    "# Fungsi pencarian biner (binary search) secara rekursif\n",
    "def caribiner(A, awal, akhir, target):\n",
    "    if awal > akhir:\n",
    "        return -1  # Target tidak ditemukan\n",
    "    tengah = (awal + akhir) // 2\n",
    "    print(f\"Mengecek indeks tengah {tengah} -> nilai {A[tengah]}\")\n",
    "    if A[tengah] == target:\n",
    "        return tengah\n",
    "    elif A[tengah] < target:\n",
    "        return caribiner(A, tengah + 1, akhir, target)\n",
    "    else:\n",
    "        return caribiner(A, awal, tengah - 1, target)"
   ]
  },
  {
   "cell_type": "code",
   "execution_count": 6,
   "id": "84cd57e8",
   "metadata": {},
   "outputs": [
    {
     "name": "stdin",
     "output_type": "stream",
     "text": [
      "Masukkan banyak bilangan dalam list:  92\n",
      "\n",
      "Masukkan bilangan yang ingin dicari:  1\n"
     ]
    },
    {
     "name": "stdout",
     "output_type": "stream",
     "text": [
      "Mengecek indeks tengah 45 -> nilai 486\n",
      "Mengecek indeks tengah 22 -> nilai 237\n",
      "Mengecek indeks tengah 10 -> nilai 122\n",
      "Mengecek indeks tengah 4 -> nilai 79\n",
      "Mengecek indeks tengah 1 -> nilai 21\n",
      "Mengecek indeks tengah 0 -> nilai 16\n",
      "\n",
      "Bilangan 1 tidak ditemukan dalam list\n",
      "\n",
      "Jumlah elemen dalam list: 92\n",
      "\n",
      "Isi list A (terurut):\n",
      "[16, 21, 45, 51, 79, 85, 97, 100, 105, 118, 122, 124, 162, 166, 170, 177, 180, 183, 194, 206, 212, 221, 237, 238, 239, 260, 265, 277, 281, 309, 314, 327, 334, 347, 357, 366, 384, 388, 395, 419, 425, 445, 452, 453, 470, 486, 504, 513, 529, 530, 546, 553, 561, 570, 584, 605, 606, 610, 617, 622, 633, 634, 644, 681, 688, 695, 720, 729, 734, 741, 750, 760, 761, 789, 807, 809, 820, 830, 832, 841, 875, 890, 893, 896, 897, 921, 952, 956, 963, 969, 978, 991]\n"
     ]
    }
   ],
   "source": [
    "import random\n",
    "\n",
    "# Meminta jumlah elemen list dari pengguna\n",
    "n = int(input(\"Masukkan banyak bilangan dalam list: \"))\n",
    "\n",
    "# Membuat list A yang berisi n angka unik acak dari 1 hingga 1001\n",
    "A = sorted(random.sample(range(1, 1002), n))  # Harus terurut untuk binary search\n",
    "\n",
    "# Meminta bilangan target dari pengguna\n",
    "t = int(input(\"\\nMasukkan bilangan yang ingin dicari: \"))\n",
    "\n",
    "# Menjalankan pencarian\n",
    "hasil = caribiner(A, 0, len(A) - 1, t)\n",
    "\n",
    "# Menampilkan hasil pencarian\n",
    "if hasil != -1:\n",
    "    print(f\"\\nBilangan {t} ditemukan di indeks ke-{hasil}\")\n",
    "else:\n",
    "    print(f\"\\nBilangan {t} tidak ditemukan dalam list\")\n",
    "\n",
    "# Menampilkan jumlah total elemen dalam list\n",
    "print(\"\\nJumlah elemen dalam list:\", len(A))\n",
    "\n",
    "# Tampilkan isi list\n",
    "print(\"\\nIsi list A (terurut):\")\n",
    "print(A)"
   ]
  },
  {
   "cell_type": "code",
   "execution_count": null,
   "id": "261e2fd2",
   "metadata": {},
   "outputs": [],
   "source": []
  }
 ],
 "metadata": {
  "kernelspec": {
   "display_name": "Python 3 (ipykernel)",
   "language": "python",
   "name": "python3"
  },
  "language_info": {
   "codemirror_mode": {
    "name": "ipython",
    "version": 3
   },
   "file_extension": ".py",
   "mimetype": "text/x-python",
   "name": "python",
   "nbconvert_exporter": "python",
   "pygments_lexer": "ipython3",
   "version": "3.13.5"
  }
 },
 "nbformat": 4,
 "nbformat_minor": 5
}
