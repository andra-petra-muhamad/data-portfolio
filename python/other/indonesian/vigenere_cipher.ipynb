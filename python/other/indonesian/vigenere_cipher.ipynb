{
 "cells": [
  {
   "cell_type": "markdown",
   "id": "2f029ffb",
   "metadata": {},
   "source": [
    "# Vigenère Cipher"
   ]
  },
  {
   "cell_type": "markdown",
   "id": "104f3c5d",
   "metadata": {},
   "source": [
    "# 1. Apa Itu Vigenère Cipher?\n",
    "\n",
    "- **Definisi:**\n",
    "  Vigenère Cipher adalah algoritma kriptografi klasik berbasis penggeseran huruf,\n",
    "  menggunakan kunci berupa kata atau frasa.\n",
    "- Cipher ini merupakan penyempurnaan dari Caesar Cipher yang hanya memakai 1 angka sebagai kunci.\n",
    "- Vigenère mengenkripsi setiap huruf dari plaintext dengan huruf kunci yang sesuai posisinya,\n",
    "  menggunakan penjumlahan modulo 26 (jumlah huruf alfabet).\n",
    "\n",
    "---\n",
    "\n",
    "# 2. Contoh Vigenère Cipher\n",
    "\n",
    "Misal:\\\n",
    "Plaintext : R A H A S I A\\\n",
    "Key : K A T A K A T\\\n",
    "Cipher : B A A B C I T\n",
    "\n",
    "Penjelasan:\n",
    "\n",
    "- Huruf R (17) + K (10) = 27 → 27 mod 26 = 1 → B  \n",
    "- Huruf A (0) + A (0) = 0 → A  \n",
    "- Huruf H (7) + T (19) = 26 → 0 → A  \n",
    "- dan seterusnya...\n",
    "\n",
    "---\n",
    "\n",
    "# 3. Rumus Umum\n",
    "\n",
    "Untuk huruf pada posisi ke-*i*:\n",
    "\n",
    "## Enkripsi:\n",
    "\n",
    "Cᵢ = (Pᵢ + Kᵢ) mod 26\n",
    "\n",
    "## Dekripsi:\n",
    "\n",
    "Pᵢ = (Cᵢ - Kᵢ) mod 26\n",
    "\n",
    "\n",
    "Keterangan:\n",
    "\n",
    "- `P` = Plaintext (huruf asli)\n",
    "- `K` = Key (huruf kunci)\n",
    "- `C` = Ciphertext (hasil enkripsi)\n",
    "\n",
    "Semua huruf diubah ke angka sesuai alfabet:\n",
    "\n",
    "a = 0, b = 1, ..., z = 25"
   ]
  },
  {
   "cell_type": "code",
   "execution_count": 1,
   "id": "cc0802d0",
   "metadata": {},
   "outputs": [],
   "source": [
    "def vigenere_encrypt(plaintext, key):\n",
    "    huruf = [chr(i) for i in range(97,123)]  # alfabet kecil a-z\n",
    "    simbol = [\"'\", \",\", \".\", \"?\", \"-\", \" \"]\n",
    "    ciphertext = \"\"\n",
    "    key = key.lower()\n",
    "    plaintext = plaintext.lower()\n",
    "\n",
    "    # perluas key agar sepanjang plaintext (tanpa simbol)\n",
    "    key_full = \"\"\n",
    "    j = 0\n",
    "    for i in range(len(plaintext)):\n",
    "        if plaintext[i] in huruf:\n",
    "            #keyfull: membuat kunci baru sepanjang teks asli.\n",
    "            #Jika karakter di plaintext adalah huruf, maka masukkan huruf dari kunci.\n",
    "            # Jika karakter adalah simbol/spasi, maka tambahkan langsung ke key_full \n",
    "            # (agar posisi sinkron).\n",
    "            key_full += key[j % len(key)]\n",
    "            j += 1\n",
    "        else:\n",
    "            key_full += plaintext[i]\n",
    "\n",
    "    # enkripsi\n",
    "    for i, char in enumerate(plaintext):\n",
    "        # Ambil huruf ke-i dari plaintext dan kunci.\n",
    "        # Konversi ke angka (misalnya 'a' → 0, 'b' → 1, dst).\n",
    "        # Geser: (p_idx + k_idx) % 26\n",
    "        # Simbol langsung dimasukkan tanpa diubah.\n",
    "\n",
    "        if char in huruf:\n",
    "            p_idx = huruf.index(char)\n",
    "            k_idx = huruf.index(key_full[i])\n",
    "            c_idx = (p_idx + k_idx) % 26\n",
    "            ciphertext += huruf[c_idx]\n",
    "        else:\n",
    "            ciphertext += char  # simbol dibiarkan\n",
    "\n",
    "    return ciphertext"
   ]
  },
  {
   "cell_type": "code",
   "execution_count": 2,
   "id": "6bb16524",
   "metadata": {},
   "outputs": [],
   "source": [
    "def vigenere_decrypt(ciphertext, key):\n",
    "    huruf = [chr(i) for i in range(97,123)]\n",
    "    simbol = [\"'\", \",\", \".\", \"?\", \"-\", \" \"]\n",
    "    plaintext = \"\"\n",
    "    key = key.lower()\n",
    "    ciphertext = ciphertext.lower()\n",
    "\n",
    "    # perluas key agar sepanjang ciphertext (tanpa simbol)\n",
    "    key_full = \"\"\n",
    "    j = 0\n",
    "    for i in range(len(ciphertext)):\n",
    "        if ciphertext[i] in huruf:\n",
    "            key_full += key[j % len(key)]\n",
    "            j += 1\n",
    "        else:\n",
    "            key_full += ciphertext[i]\n",
    "\n",
    "    # dekripsi\n",
    "    for i, char in enumerate(ciphertext):\n",
    "        if char in huruf:\n",
    "            c_idx = huruf.index(char)\n",
    "            k_idx = huruf.index(key_full[i])\n",
    "            p_idx = (c_idx - k_idx) % 26\n",
    "            plaintext += huruf[p_idx]\n",
    "        else:\n",
    "            plaintext += char\n",
    "\n",
    "    return plaintext"
   ]
  },
  {
   "cell_type": "code",
   "execution_count": 7,
   "id": "47739027",
   "metadata": {},
   "outputs": [
    {
     "name": "stdin",
     "output_type": "stream",
     "text": [
      "Masukkan teks yang ingin disandikan:  menuliskan dirimu hanya untukku aku takkan menahan bila jalan suratan\n",
      "Masukkan kunci:  demiayahibuyangtelahmenitipkankamuakukanmenjadipasanganhidupmusatudanselamanya\n"
     ]
    },
    {
     "name": "stdout",
     "output_type": "stream",
     "text": [
      "Hasil Enkripsi: pizclgsrio xgrvsn llnfm yabnsze axe tmekkh weamlnw bltp jslnt shyiwuc\n",
      "Hasil Dekripsi: menuliskan dirimu hanya untukku aku takkan menahan bila jalan suratan\n"
     ]
    }
   ],
   "source": [
    "kata_asli = input(\"Masukkan teks yang ingin disandikan: \")\n",
    "kunci = input(\"Masukkan kunci: \")\n",
    "\n",
    "teks_terenkripsi = vigenere_encrypt(kata_asli, kunci)\n",
    "teks_terdekripsi = vigenere_decrypt(teks_terenkripsi, kunci)\n",
    "\n",
    "print(\"Hasil Enkripsi:\", teks_terenkripsi)\n",
    "print(\"Hasil Dekripsi:\", teks_terdekripsi)"
   ]
  },
  {
   "cell_type": "code",
   "execution_count": null,
   "id": "8a6e53da",
   "metadata": {},
   "outputs": [],
   "source": []
  }
 ],
 "metadata": {
  "kernelspec": {
   "display_name": "Python 3 (ipykernel)",
   "language": "python",
   "name": "python3"
  },
  "language_info": {
   "codemirror_mode": {
    "name": "ipython",
    "version": 3
   },
   "file_extension": ".py",
   "mimetype": "text/x-python",
   "name": "python",
   "nbconvert_exporter": "python",
   "pygments_lexer": "ipython3",
   "version": "3.13.5"
  }
 },
 "nbformat": 4,
 "nbformat_minor": 5
}
