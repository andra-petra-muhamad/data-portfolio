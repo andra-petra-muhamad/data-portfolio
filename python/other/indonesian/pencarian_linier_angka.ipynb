{
 "cells": [
  {
   "cell_type": "markdown",
   "id": "0f3543ea",
   "metadata": {},
   "source": [
    "Tujuan kode yang Anda tampilkan adalah untuk mendemonstrasikan tiga pendekatan berbeda dalam mencari suatu nilai (target) di dalam sebuah list (A), dengan masing-masing fungsi memiliki tujuan dan output yang berbeda."
   ]
  },
  {
   "cell_type": "code",
   "execution_count": 1,
   "id": "c3c9ac2a",
   "metadata": {},
   "outputs": [],
   "source": [
    "def cek_keberadaan(A, target):\n",
    "    \"\"\"Mengecek apakah target ada dalam list A. Output: 'Ada' / 'Tidak ada'.\"\"\"\n",
    "    for nilai in A:\n",
    "        if nilai == target:\n",
    "            print(\"Ada\")\n",
    "            return\n",
    "    print(\"Tidak ada\")"
   ]
  },
  {
   "cell_type": "code",
   "execution_count": 2,
   "id": "cef8e50a",
   "metadata": {},
   "outputs": [],
   "source": [
    "def cari_indeks(A, target):\n",
    "    \"\"\"Mengembalikan indeks dari target jika ditemukan, jika tidak -1.\"\"\"\n",
    "    for i, nilai in enumerate(A):\n",
    "        print(f\"Mengecek indeks {i}...\")\n",
    "        if nilai == target:\n",
    "            return i\n",
    "    return -1"
   ]
  },
  {
   "cell_type": "code",
   "execution_count": 3,
   "id": "84cd57e8",
   "metadata": {},
   "outputs": [],
   "source": [
    "def ada_di_list(A, target):\n",
    "    \"\"\"Mengembalikan True jika target ada di A, False jika tidak.\"\"\"\n",
    "    return target in A"
   ]
  },
  {
   "cell_type": "code",
   "execution_count": 7,
   "id": "4344ada9",
   "metadata": {},
   "outputs": [
    {
     "name": "stdout",
     "output_type": "stream",
     "text": [
      "Hasil cek_keberadaan:\n",
      "Ada\n",
      "\n",
      "Hasil cari_indeks:\n",
      "Mengecek indeks 0...\n",
      "Mengecek indeks 1...\n",
      "Hasil: 1\n",
      "\n",
      "Hasil ada_di_list:\n",
      "True\n"
     ]
    }
   ],
   "source": [
    "A = [2 * i for i in range(10)]\n",
    "target = 2\n",
    "\n",
    "print(\"Hasil cek_keberadaan:\")\n",
    "cek_keberadaan(A, target)\n",
    "\n",
    "print(\"\\nHasil cari_indeks:\")\n",
    "hasil_indeks = cari_indeks(A, target)\n",
    "print(f\"Hasil: {hasil_indeks}\")\n",
    "\n",
    "print(\"\\nHasil ada_di_list:\")\n",
    "print(ada_di_list(A, target))"
   ]
  },
  {
   "cell_type": "code",
   "execution_count": null,
   "id": "261e2fd2",
   "metadata": {},
   "outputs": [],
   "source": []
  }
 ],
 "metadata": {
  "kernelspec": {
   "display_name": "Python 3 (ipykernel)",
   "language": "python",
   "name": "python3"
  },
  "language_info": {
   "codemirror_mode": {
    "name": "ipython",
    "version": 3
   },
   "file_extension": ".py",
   "mimetype": "text/x-python",
   "name": "python",
   "nbconvert_exporter": "python",
   "pygments_lexer": "ipython3",
   "version": "3.13.5"
  }
 },
 "nbformat": 4,
 "nbformat_minor": 5
}
