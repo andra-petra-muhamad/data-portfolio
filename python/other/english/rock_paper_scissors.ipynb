{
 "cells": [
  {
   "cell_type": "markdown",
   "id": "23060530-5921-4c56-ab47-fa7bbec3d1ce",
   "metadata": {},
   "source": [
    "This program is a simple game of \"Rock, Paper, Scissors\" between a user and a computer using Python. The user is prompted to enter their choice (rock, scissors, or paper), while the computer randomly chooses one of the three. The program then determines the winner based on the standard rules of the game:\n",
    "* Rock beats scissors\n",
    "* Scissors beats paper\n",
    "* Paper beats rock\n",
    "The result of the game is displayed to the user."
   ]
  },
  {
   "cell_type": "code",
   "execution_count": 16,
   "id": "c3c9ac2a",
   "metadata": {},
   "outputs": [],
   "source": [
    "import random\n",
    "\n",
    "# Constants\n",
    "ROCK = 0\n",
    "SCISSORS = 1\n",
    "PAPER = 2\n",
    "CHOICE = [\"Rock\", \"Scissors\", \"Paper\"]"
   ]
  },
  {
   "cell_type": "code",
   "execution_count": 17,
   "id": "c8d5a241-7770-4af9-8924-6754cf1165fa",
   "metadata": {},
   "outputs": [],
   "source": [
    "def get_user_choice():\n",
    "    \"\"\"Gets valid input from the user.\"\"\"\n",
    "    while True:\n",
    "        try:\n",
    "            choice = int(input(\"Enter choice (0: Rock, 1: Scissors, 2: Paper): \"))\n",
    "            if choice in [0, 1, 2]:\n",
    "                return choice\n",
    "            else:\n",
    "                print(\"Enter only the numbers 0, 1, or 2.\")\n",
    "        except ValueError:\n",
    "            print(\"Invalid input. Enter the number 0, 1, or 2.\")"
   ]
  },
  {
   "cell_type": "code",
   "execution_count": 18,
   "id": "84cd57e8",
   "metadata": {},
   "outputs": [],
   "source": [
    "def computer_choice():\n",
    "    \"\"\"Generates a random computer choice.\"\"\"\n",
    "    return random.randint(0, 2)"
   ]
  },
  {
   "cell_type": "code",
   "execution_count": 19,
   "id": "ac78c479-7ac6-4e1a-9d28-21bdc736a02b",
   "metadata": {},
   "outputs": [],
   "source": [
    "def determine_winner(player, computer):\n",
    "    \"\"\"Determines the outcome of a round of play.\n",
    "    Return: (result, description)\n",
    "    -result: 1 if the player wins\n",
    "             0 if it's a tie\n",
    "             -1 if the computer wins\n",
    "    \"\"\"\n",
    "    if player == computer:\n",
    "        return (0, \"Draw\")\n",
    "    elif (player == ROCK and computer == SCISSORS) or \\\n",
    "        (player == SCISSORS and computer == PAPER) or \\\n",
    "        (player == PAPER and computer == ROCK):\n",
    "        return (1, \"You win\")\n",
    "    else:\n",
    "        return (-1, \"Computer wins\")"
   ]
  },
  {
   "cell_type": "code",
   "execution_count": 20,
   "id": "97804525-7872-45f8-a678-2b163bba8808",
   "metadata": {},
   "outputs": [],
   "source": [
    "def display_result(round, player, computer, status, player_score, computer_score):\n",
    "    \"\"\"Displays the results of one round on the screen.\"\"\"\n",
    "    print(f\"\"\"\n",
    "{'='*50}\n",
    "Round {round}\n",
    "You chose     : {CHOICE[player]}\n",
    "Computer chose: {CHOICE[computer]}\n",
    "Result        : {status}\n",
    "Score         : You {player_score} - Computer {computer_score}\n",
    "History       : {CHOICE[player]} - {CHOICE[computer]}\n",
    "{'='*50}\n",
    "\"\"\")"
   ]
  },
  {
   "cell_type": "code",
   "execution_count": 21,
   "id": "8c26e741-177b-4be0-99a7-7daffd46a459",
   "metadata": {},
   "outputs": [],
   "source": [
    "def main():\n",
    "    print(\"Rock Paper Scissors Game\".center(50, \"=\"))\n",
    "    your_score = 0\n",
    "    computer_score = 0\n",
    "    round = 0\n",
    "    win_limit = 3 # Whoever gets it first wins 3 times\n",
    "\n",
    "    while your_score < win_limit and computer_score < win_limit:\n",
    "        round += 1\n",
    "        player = get_user_choice()\n",
    "        computer = computer_choice()\n",
    "        result, status = determine_winner(player, computer)\n",
    "\n",
    "        if result == 1:\n",
    "            your_score += 1\n",
    "        elif result == -1:\n",
    "            computer_score += 1\n",
    "        display_result(round, player, computer, status, your_score, computer_score)\n",
    "\n",
    "    # Display the final result\n",
    "    if your_score > computer_score:\n",
    "        print(f\"\\nGame over! You win with a score of {your_score} - {computer_score}.\")\n",
    "    else:\n",
    "        print(f\"\\nGame over! Computer wins with a score of {computer_score} - {your_score}.\")"
   ]
  },
  {
   "cell_type": "code",
   "execution_count": 22,
   "id": "14783d0e",
   "metadata": {},
   "outputs": [
    {
     "name": "stdout",
     "output_type": "stream",
     "text": [
      "=============Rock Paper Scissors Game=============\n"
     ]
    },
    {
     "name": "stdin",
     "output_type": "stream",
     "text": [
      "Enter choice (0: Rock, 1: Scissors, 2: Paper):  2\n"
     ]
    },
    {
     "name": "stdout",
     "output_type": "stream",
     "text": [
      "\n",
      "==================================================\n",
      "Round 1\n",
      "You chose     : Paper\n",
      "Computer chose: Paper\n",
      "Result        : Draw\n",
      "Score         : You 0 - Computer 0\n",
      "History       : Paper - Paper\n",
      "==================================================\n",
      "\n"
     ]
    },
    {
     "name": "stdin",
     "output_type": "stream",
     "text": [
      "Enter choice (0: Rock, 1: Scissors, 2: Paper):  2\n"
     ]
    },
    {
     "name": "stdout",
     "output_type": "stream",
     "text": [
      "\n",
      "==================================================\n",
      "Round 2\n",
      "You chose     : Paper\n",
      "Computer chose: Scissors\n",
      "Result        : Computer wins\n",
      "Score         : You 0 - Computer 1\n",
      "History       : Paper - Scissors\n",
      "==================================================\n",
      "\n"
     ]
    },
    {
     "name": "stdin",
     "output_type": "stream",
     "text": [
      "Enter choice (0: Rock, 1: Scissors, 2: Paper):  1\n"
     ]
    },
    {
     "name": "stdout",
     "output_type": "stream",
     "text": [
      "\n",
      "==================================================\n",
      "Round 3\n",
      "You chose     : Scissors\n",
      "Computer chose: Paper\n",
      "Result        : You win\n",
      "Score         : You 1 - Computer 1\n",
      "History       : Scissors - Paper\n",
      "==================================================\n",
      "\n"
     ]
    },
    {
     "name": "stdin",
     "output_type": "stream",
     "text": [
      "Enter choice (0: Rock, 1: Scissors, 2: Paper):  2\n"
     ]
    },
    {
     "name": "stdout",
     "output_type": "stream",
     "text": [
      "\n",
      "==================================================\n",
      "Round 4\n",
      "You chose     : Paper\n",
      "Computer chose: Rock\n",
      "Result        : You win\n",
      "Score         : You 2 - Computer 1\n",
      "History       : Paper - Rock\n",
      "==================================================\n",
      "\n"
     ]
    },
    {
     "name": "stdin",
     "output_type": "stream",
     "text": [
      "Enter choice (0: Rock, 1: Scissors, 2: Paper):  1\n"
     ]
    },
    {
     "name": "stdout",
     "output_type": "stream",
     "text": [
      "\n",
      "==================================================\n",
      "Round 5\n",
      "You chose     : Scissors\n",
      "Computer chose: Scissors\n",
      "Result        : Draw\n",
      "Score         : You 2 - Computer 1\n",
      "History       : Scissors - Scissors\n",
      "==================================================\n",
      "\n"
     ]
    },
    {
     "name": "stdin",
     "output_type": "stream",
     "text": [
      "Enter choice (0: Rock, 1: Scissors, 2: Paper):  2\n"
     ]
    },
    {
     "name": "stdout",
     "output_type": "stream",
     "text": [
      "\n",
      "==================================================\n",
      "Round 6\n",
      "You chose     : Paper\n",
      "Computer chose: Paper\n",
      "Result        : Draw\n",
      "Score         : You 2 - Computer 1\n",
      "History       : Paper - Paper\n",
      "==================================================\n",
      "\n"
     ]
    },
    {
     "name": "stdin",
     "output_type": "stream",
     "text": [
      "Enter choice (0: Rock, 1: Scissors, 2: Paper):  1\n"
     ]
    },
    {
     "name": "stdout",
     "output_type": "stream",
     "text": [
      "\n",
      "==================================================\n",
      "Round 7\n",
      "You chose     : Scissors\n",
      "Computer chose: Paper\n",
      "Result        : You win\n",
      "Score         : You 3 - Computer 1\n",
      "History       : Scissors - Paper\n",
      "==================================================\n",
      "\n",
      "\n",
      "Game over! You win with a score of 3 - 1.\n"
     ]
    }
   ],
   "source": [
    "if __name__ == \"__main__\":\n",
    "    main()"
   ]
  },
  {
   "cell_type": "code",
   "execution_count": null,
   "id": "820aa28f-87a2-48c2-beb2-8a5c819a1c1e",
   "metadata": {},
   "outputs": [],
   "source": []
  }
 ],
 "metadata": {
  "kernelspec": {
   "display_name": "Python 3 (ipykernel)",
   "language": "python",
   "name": "python3"
  },
  "language_info": {
   "codemirror_mode": {
    "name": "ipython",
    "version": 3
   },
   "file_extension": ".py",
   "mimetype": "text/x-python",
   "name": "python",
   "nbconvert_exporter": "python",
   "pygments_lexer": "ipython3",
   "version": "3.13.5"
  }
 },
 "nbformat": 4,
 "nbformat_minor": 5
}
