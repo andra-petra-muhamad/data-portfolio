{
 "cells": [
  {
   "cell_type": "markdown",
   "id": "2f029ffb",
   "metadata": {},
   "source": [
    "# Vigenère Cipher"
   ]
  },
  {
   "cell_type": "markdown",
   "id": "104f3c5d",
   "metadata": {},
   "source": [
    "# 1. What Is the Vigenère Cipher?\n",
    "\n",
    "- **Definition:**\n",
    "  The Vigenère Cipher is a classical cryptographic algorithm based on letter shifting,\n",
    "  using a keyword or phrase as the encryption key.\n",
    "\n",
    "- It is an improvement over the Caesar Cipher, which only uses a single number as key.\n",
    "\n",
    "- The Vigenère cipher encrypts each letter of the plaintext using a different key letter\n",
    "  based on its position, with modular addition mod 26 (number of alphabet letters).\n",
    "\n",
    "---\n",
    "\n",
    "# 2. Vigenère Cipher Example\n",
    "\n",
    "Example:\\\n",
    "Plaintext : R A H A S I A\\\n",
    "Key : K A T A K A T\\\n",
    "Cipher : B A A B C I T\\\n",
    "\n",
    "Explanation:\n",
    "\n",
    "- Letter R (17) + K (10) = 27 → 27 mod 26 = 1 → B  \n",
    "- Letter A (0) + A (0) = 0 → A  \n",
    "- Letter H (7) + T (19) = 26 → 0 → A  \n",
    "- and so on...\n",
    "\n",
    "---\n",
    "\n",
    "# 3. General Formula\n",
    "\n",
    "For the letter at position *i*:\n",
    "\n",
    "## Encryption:\n",
    "Cᵢ = (Pᵢ + Kᵢ) mod 26\n",
    "## Decryption:\n",
    "Pᵢ = (Cᵢ - Kᵢ) mod 26\n",
    "\n",
    "Where:\n",
    "\n",
    "- `P` = Plaintext (original letter)\n",
    "- `K` = Key (key letter)\n",
    "- `C` = Ciphertext (encrypted result)\n",
    "\n",
    "All letters are converted to indices:\n",
    "\n",
    "a = 0, b = 1, ..., z = 25"
   ]
  },
  {
   "cell_type": "code",
   "execution_count": 1,
   "id": "cc0802d0",
   "metadata": {},
   "outputs": [],
   "source": [
    "def vigenere_encrypt(plaintext, key):\n",
    "    letters = [chr(i) for i in range(97, 123)]  # lowercase alphabet a-z\n",
    "    symbols = [\"'\", \",\", \".\", \"?\", \"-\", \" \"]\n",
    "    ciphertext = \"\"\n",
    "    key = key.lower()\n",
    "    plaintext = plaintext.lower()\n",
    "\n",
    "    # Extend the key to match the length of the plaintext (ignoring symbols)\n",
    "    full_key = \"\"\n",
    "    j = 0\n",
    "    for i in range(len(plaintext)):\n",
    "        if plaintext[i] in letters:\n",
    "            # If the character is a letter, use a key letter\n",
    "            # If it's a symbol/space, preserve it in full_key to maintain alignment\n",
    "            full_key += key[j % len(key)]\n",
    "            j += 1\n",
    "        else:\n",
    "            full_key += plaintext[i]\n",
    "\n",
    "    # Encryption process\n",
    "    for i, char in enumerate(plaintext):\n",
    "        # Get the index of the i-th letter of plaintext and key\n",
    "        # Shift: (p_idx + k_idx) % 26\n",
    "        # Leave symbols unchanged\n",
    "        if char in letters:\n",
    "            p_idx = letters.index(char)\n",
    "            k_idx = letters.index(full_key[i])\n",
    "            c_idx = (p_idx + k_idx) % 26\n",
    "            ciphertext += letters[c_idx]\n",
    "        else:\n",
    "            ciphertext += char  # keep symbols as is\n",
    "\n",
    "    return ciphertext"
   ]
  },
  {
   "cell_type": "code",
   "execution_count": 2,
   "id": "6bb16524",
   "metadata": {},
   "outputs": [],
   "source": [
    "def vigenere_decrypt(ciphertext, key):\n",
    "    letters = [chr(i) for i in range(97, 123)]\n",
    "    symbols = [\"'\", \",\", \".\", \"?\", \"-\", \" \"]\n",
    "    plaintext = \"\"\n",
    "    key = key.lower()\n",
    "    ciphertext = ciphertext.lower()\n",
    "\n",
    "    # Extend the key to match the length of the ciphertext (ignoring symbols)\n",
    "    full_key = \"\"\n",
    "    j = 0\n",
    "    for i in range(len(ciphertext)):\n",
    "        if ciphertext[i] in letters:\n",
    "            full_key += key[j % len(key)]\n",
    "            j += 1\n",
    "        else:\n",
    "            full_key += ciphertext[i]\n",
    "\n",
    "    # Decryption process\n",
    "    for i, char in enumerate(ciphertext):\n",
    "        if char in letters:\n",
    "            c_idx = letters.index(char)\n",
    "            k_idx = letters.index(full_key[i])\n",
    "            p_idx = (c_idx - k_idx) % 26\n",
    "            plaintext += letters[p_idx]\n",
    "        else:\n",
    "            plaintext += char\n",
    "\n",
    "    return plaintext"
   ]
  },
  {
   "cell_type": "code",
   "execution_count": 3,
   "id": "47739027",
   "metadata": {},
   "outputs": [
    {
     "name": "stdin",
     "output_type": "stream",
     "text": [
      "Enter the text to encrypt:  He said, \"Son, when you grow up Would you be the savior of the broken The beaten and the damned?\n",
      "Enter the key:  blackparade\n"
     ]
    },
    {
     "name": "stdout",
     "output_type": "stream",
     "text": [
      "Encrypted Result: ip scss, \"sfn, zlfy yqe vrfw xt xzunn nol bh xip scfxoi oi xip btyzee tki cpavoc aed wlf oaoxtd?\n",
      "Decrypted Result: he said, \"son, when you grow up would you be the savior of the broken the beaten and the damned?\n"
     ]
    }
   ],
   "source": [
    "# Input from user\n",
    "original_text = input(\"Enter the text to encrypt: \")\n",
    "key = input(\"Enter the key: \")\n",
    "\n",
    "# Encrypt and decrypt\n",
    "encrypted_text = vigenere_encrypt(original_text, key)\n",
    "decrypted_text = vigenere_decrypt(encrypted_text, key)\n",
    "\n",
    "# Display result\n",
    "print(\"Encrypted Result:\", encrypted_text)\n",
    "print(\"Decrypted Result:\", decrypted_text)"
   ]
  },
  {
   "cell_type": "code",
   "execution_count": null,
   "id": "8a6e53da",
   "metadata": {},
   "outputs": [],
   "source": []
  }
 ],
 "metadata": {
  "kernelspec": {
   "display_name": "Python 3 (ipykernel)",
   "language": "python",
   "name": "python3"
  },
  "language_info": {
   "codemirror_mode": {
    "name": "ipython",
    "version": 3
   },
   "file_extension": ".py",
   "mimetype": "text/x-python",
   "name": "python",
   "nbconvert_exporter": "python",
   "pygments_lexer": "ipython3",
   "version": "3.13.5"
  }
 },
 "nbformat": 4,
 "nbformat_minor": 5
}
