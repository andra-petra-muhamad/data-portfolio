{
 "cells": [
  {
   "cell_type": "markdown",
   "id": "0f3543ea",
   "metadata": {},
   "source": [
    "This code aims to perform a binary search on a list A containing random unique numbers, and find whether a target value (t) is present in the list. The purpose of the code you show is to demonstrate three different approaches to finding a value (target) in a list (A), with each function having a different purpose and output."
   ]
  },
  {
   "cell_type": "code",
   "execution_count": 1,
   "id": "cef8e50a",
   "metadata": {},
   "outputs": [],
   "source": [
    "# Recursive Binary Search Function\n",
    "def binary_search(A, start, end, target):\n",
    "    if start > end:\n",
    "        return -1  # Target not found\n",
    "    mid = (start + end) // 2\n",
    "    print(f\"Checking middle index {mid} -> value {A[mid]}\")\n",
    "    if A[mid] == target:\n",
    "        return mid\n",
    "    elif A[mid] < target:\n",
    "        return binary_search(A, mid + 1, end, target)\n",
    "    else:\n",
    "        return binary_search(A, start, mid - 1, target)"
   ]
  },
  {
   "cell_type": "code",
   "execution_count": 2,
   "id": "84cd57e8",
   "metadata": {},
   "outputs": [
    {
     "name": "stdin",
     "output_type": "stream",
     "text": [
      "Enter the number of elements in the list:  10\n",
      "\n",
      "Enter the number to search for:  2\n"
     ]
    },
    {
     "name": "stdout",
     "output_type": "stream",
     "text": [
      "Checking middle index 4 -> value 541\n",
      "Checking middle index 1 -> value 85\n",
      "Checking middle index 0 -> value 63\n",
      "\n",
      "Number 2 not found in the list\n",
      "\n",
      "Total number of elements in the list: 10\n",
      "\n",
      "Contents of list A (sorted):\n",
      "[63, 85, 94, 208, 541, 766, 769, 836, 897, 989]\n"
     ]
    }
   ],
   "source": [
    "import random\n",
    "\n",
    "# Ask user for number of elements in the list\n",
    "n = int(input(\"Enter the number of elements in the list: \"))\n",
    "\n",
    "# Create list A containing n unique random numbers from 1 to 1001\n",
    "A = sorted(random.sample(range(1, 1002), n))  # Must be sorted for binary search\n",
    "\n",
    "# Ask user for the target number to search\n",
    "t = int(input(\"\\nEnter the number to search for: \"))\n",
    "\n",
    "# Perform the search\n",
    "result = binary_search(A, 0, len(A) - 1, t)\n",
    "\n",
    "# Display the result\n",
    "if result != -1:\n",
    "    print(f\"\\nNumber {t} found at index {result}\")\n",
    "else:\n",
    "    print(f\"\\nNumber {t} not found in the list\")\n",
    "\n",
    "# Display total number of elements\n",
    "print(\"\\nTotal number of elements in the list:\", len(A))\n",
    "\n",
    "# Display the sorted list\n",
    "print(\"\\nContents of list A (sorted):\")\n",
    "print(A)"
   ]
  },
  {
   "cell_type": "code",
   "execution_count": null,
   "id": "261e2fd2",
   "metadata": {},
   "outputs": [],
   "source": []
  }
 ],
 "metadata": {
  "kernelspec": {
   "display_name": "Python 3 (ipykernel)",
   "language": "python",
   "name": "python3"
  },
  "language_info": {
   "codemirror_mode": {
    "name": "ipython",
    "version": 3
   },
   "file_extension": ".py",
   "mimetype": "text/x-python",
   "name": "python",
   "nbconvert_exporter": "python",
   "pygments_lexer": "ipython3",
   "version": "3.13.5"
  }
 },
 "nbformat": 4,
 "nbformat_minor": 5
}
