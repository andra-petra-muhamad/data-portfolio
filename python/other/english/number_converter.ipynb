{
 "cells": [
  {
   "cell_type": "markdown",
   "id": "d3bb26d5-bd3f-46a1-8113-60e270c41ea4",
   "metadata": {},
   "source": [
    "This is a Python-based number base converter that allows users to convert numbers between different numeral systems: binary, octal, decimal, and hexadecimal. The user selects the input base, enters the value, and the program displays the conversion results in all other bases. The program includes input validation and provides a simple, interactive text-based interface.\n",
    "\n",
    "[User selects base] → [User enters value] →\n",
    "[To_decimal function] → [Convert to decimal] →\n",
    "[From_decimal function] → [Convert to another base] →\n",
    "[Results displayed] → [Question: want to convert again?]"
   ]
  },
  {
   "cell_type": "code",
   "execution_count": 1,
   "id": "c3c9ac2a",
   "metadata": {},
   "outputs": [],
   "source": [
    "def from_decimal(value, base):\n",
    "    if base == 'binary':\n",
    "        return bin(value)[2:]\n",
    "    elif base == 'octal':\n",
    "        return oct(value)[2:]\n",
    "    elif base == 'hexadecimal':\n",
    "        return hex(value)[2:]\n",
    "    else:\n",
    "        return str(value)"
   ]
  },
  {
   "cell_type": "code",
   "execution_count": 2,
   "id": "cef8e50a",
   "metadata": {},
   "outputs": [],
   "source": [
    "def to_decimal(value, base):\n",
    "    try:\n",
    "        if base == 'binary':\n",
    "            return int(value, 2)\n",
    "        elif base == 'octal':\n",
    "            return int(value, 8)\n",
    "        elif base == 'hexadecimal':\n",
    "            return int(value, 16)\n",
    "        elif base == 'decimal':\n",
    "            return int(value)\n",
    "    except ValueError:\n",
    "        return None"
   ]
  },
  {
   "cell_type": "code",
   "execution_count": 3,
   "id": "84cd57e8",
   "metadata": {},
   "outputs": [],
   "source": [
    "def display_result(input_value, input_base):\n",
    "    decimal = to_decimal(input_value, input_base)\n",
    "    if decimal is None:\n",
    "        print(\"Invalid input!\")\n",
    "        return\n",
    "\n",
    "    print(f\"\\nConversion from {input_base.capitalize()} to other bases:\")\n",
    "    print(f\"Decimal      : {decimal}\")\n",
    "    print(f\"Binary       : {from_decimal(decimal, 'binary')}\")\n",
    "    print(f\"Octal        : {from_decimal(decimal, 'octal')}\")\n",
    "    print(f\"Hexadecimal  : {from_decimal(decimal, 'hexadecimal')}\")\n"
   ]
  },
  {
   "cell_type": "code",
   "execution_count": 4,
   "id": "4344ada9",
   "metadata": {},
   "outputs": [],
   "source": [
    "def menu():\n",
    "    print(\"=== Number Base Converter ===\")\n",
    "    print(\"1. Binary\")\n",
    "    print(\"2. Octal\")\n",
    "    print(\"3. Decimal\")\n",
    "    print(\"4. Hexadecimal\")\n",
    "    choice = input(\"Choose input base (1–4): \")\n",
    "\n",
    "    base_dict = {'1': 'binary', '2': 'octal', '3': 'decimal', '4': 'hexadecimal'}\n",
    "    base = base_dict.get(choice)\n",
    "\n",
    "    if base is None:\n",
    "        print(\"Invalid choice!\")\n",
    "        return\n",
    "\n",
    "    value = input(f\"Enter a value in {base} base: \")\n",
    "    display_result(value, base)\n"
   ]
  },
  {
   "cell_type": "code",
   "execution_count": 7,
   "id": "b2461b7e",
   "metadata": {},
   "outputs": [
    {
     "name": "stdout",
     "output_type": "stream",
     "text": [
      "=== Number Base Converter ===\n",
      "1. Binary\n",
      "2. Octal\n",
      "3. Decimal\n",
      "4. Hexadecimal\n"
     ]
    },
    {
     "name": "stdin",
     "output_type": "stream",
     "text": [
      "Choose input base (1–4):  1\n",
      "Enter a value in binary base:  10000111\n"
     ]
    },
    {
     "name": "stdout",
     "output_type": "stream",
     "text": [
      "\n",
      "Conversion from Binary to other bases:\n",
      "Decimal      : 135\n",
      "Binary       : 10000111\n",
      "Octal        : 207\n",
      "Hexadecimal  : 87\n"
     ]
    },
    {
     "name": "stdin",
     "output_type": "stream",
     "text": [
      "\n",
      "Do you want to convert again? (y/n):  y\n"
     ]
    },
    {
     "name": "stdout",
     "output_type": "stream",
     "text": [
      "=== Number Base Converter ===\n",
      "1. Binary\n",
      "2. Octal\n",
      "3. Decimal\n",
      "4. Hexadecimal\n"
     ]
    },
    {
     "name": "stdin",
     "output_type": "stream",
     "text": [
      "Choose input base (1–4):  2\n",
      "Enter a value in octal base:  28731\n"
     ]
    },
    {
     "name": "stdout",
     "output_type": "stream",
     "text": [
      "Invalid input!\n"
     ]
    },
    {
     "name": "stdin",
     "output_type": "stream",
     "text": [
      "\n",
      "Do you want to convert again? (y/n):  n\n"
     ]
    }
   ],
   "source": [
    "if __name__ == \"__main__\":\n",
    "    while True:\n",
    "        menu()\n",
    "        again = input(\"\\nDo you want to convert again? (y/n): \")\n",
    "        if again.lower() != 'y':\n",
    "            break\n"
   ]
  },
  {
   "cell_type": "code",
   "execution_count": null,
   "id": "261e2fd2",
   "metadata": {},
   "outputs": [],
   "source": []
  }
 ],
 "metadata": {
  "kernelspec": {
   "display_name": "Python 3 (ipykernel)",
   "language": "python",
   "name": "python3"
  },
  "language_info": {
   "codemirror_mode": {
    "name": "ipython",
    "version": 3
   },
   "file_extension": ".py",
   "mimetype": "text/x-python",
   "name": "python",
   "nbconvert_exporter": "python",
   "pygments_lexer": "ipython3",
   "version": "3.13.5"
  }
 },
 "nbformat": 4,
 "nbformat_minor": 5
}
