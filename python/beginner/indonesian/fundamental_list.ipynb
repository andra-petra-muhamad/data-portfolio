{
 "cells": [
  {
   "cell_type": "markdown",
   "metadata": {
    "id": "Kt5Ecu1WYdNY"
   },
   "source": [
    "# Python List"
   ]
  },
  {
   "cell_type": "code",
   "execution_count": 1,
   "metadata": {
    "id": "z2-clEzfYbYl"
   },
   "outputs": [],
   "source": [
    "mylist = [\"faras\", \"Tata\", \"Fauziah\"]"
   ]
  },
  {
   "cell_type": "markdown",
   "metadata": {
    "id": "Th4Ff1TrbhpK"
   },
   "source": [
    "### Allow duplicates"
   ]
  },
  {
   "cell_type": "code",
   "execution_count": 2,
   "metadata": {
    "colab": {
     "base_uri": "https://localhost:8080/"
    },
    "executionInfo": {
     "elapsed": 30,
     "status": "ok",
     "timestamp": 1678680939986,
     "user": {
      "displayName": "Ayum Putri Riuni",
      "userId": "17972070449528959812"
     },
     "user_tz": -420
    },
    "id": "4-njajABYjkd",
    "outputId": "5b58bf54-4d42-4def-e058-a1b561979af7"
   },
   "outputs": [
    {
     "name": "stdout",
     "output_type": "stream",
     "text": [
      "['coding', 'learning', 'portal', 'design', 'student']\n",
      "<class 'list'>\n",
      "<class 'tuple'>\n",
      "False\n"
     ]
    }
   ],
   "source": [
    "mylists = [\"coding\", \"learning\", \"portal\", \"design\", \"student\"]\n",
    "mylists1 = (\"coding\", \"learning\", \"portal\", \"design\", \"student\")\n",
    "\n",
    "print(mylists)\n",
    "print(type(mylists))\n",
    "print(type(mylists1))\n",
    "print(mylists == mylists1)  "
   ]
  },
  {
   "cell_type": "markdown",
   "metadata": {
    "id": "VqnLHSXgbvGK"
   },
   "source": [
    "### list length"
   ]
  },
  {
   "cell_type": "code",
   "execution_count": 3,
   "metadata": {
    "colab": {
     "base_uri": "https://localhost:8080/"
    },
    "executionInfo": {
     "elapsed": 28,
     "status": "ok",
     "timestamp": 1678680939986,
     "user": {
      "displayName": "Ayum Putri Riuni",
      "userId": "17972070449528959812"
     },
     "user_tz": -420
    },
    "id": "jNsWv1pSbqBw",
    "outputId": "332fbab7-ede9-41f0-9fec-d6c5e1eadeb4"
   },
   "outputs": [
    {
     "name": "stdout",
     "output_type": "stream",
     "text": [
      "5\n"
     ]
    }
   ],
   "source": [
    "print(len(mylists))"
   ]
  },
  {
   "cell_type": "markdown",
   "metadata": {
    "id": "LQ3V69XAcDJO"
   },
   "source": [
    "### any datatype in list"
   ]
  },
  {
   "cell_type": "code",
   "execution_count": 4,
   "metadata": {
    "id": "aYCdatLtbzFZ"
   },
   "outputs": [],
   "source": [
    "list1 = [\"Langit\", \"Cerah\", \"Sekali\"]\n",
    "list2 = [1, 2, 3, 4, 5]\n",
    "list3 = [True, False, False]"
   ]
  },
  {
   "cell_type": "code",
   "execution_count": 5,
   "metadata": {
    "id": "dg-WRR9Jc-tm"
   },
   "outputs": [],
   "source": [
    "lists = [\"Math\", 25, False, 23, \"student\"]"
   ]
  },
  {
   "cell_type": "markdown",
   "metadata": {
    "id": "BJ-BwfbvdTPR"
   },
   "source": [
    "### type()"
   ]
  },
  {
   "cell_type": "code",
   "execution_count": 6,
   "metadata": {
    "colab": {
     "base_uri": "https://localhost:8080/"
    },
    "executionInfo": {
     "elapsed": 27,
     "status": "ok",
     "timestamp": 1678680939987,
     "user": {
      "displayName": "Ayum Putri Riuni",
      "userId": "17972070449528959812"
     },
     "user_tz": -420
    },
    "id": "OMXLUtl2dSXV",
    "outputId": "9f88f95b-e624-491e-990f-119d5e87ef20"
   },
   "outputs": [
    {
     "name": "stdout",
     "output_type": "stream",
     "text": [
      "<class 'list'>\n"
     ]
    }
   ],
   "source": [
    "print(type(lists))"
   ]
  },
  {
   "cell_type": "markdown",
   "metadata": {
    "id": "_TQHm2Zldt_f"
   },
   "source": [
    "### list konstruktor"
   ]
  },
  {
   "cell_type": "code",
   "execution_count": 7,
   "metadata": {
    "colab": {
     "base_uri": "https://localhost:8080/"
    },
    "executionInfo": {
     "elapsed": 27,
     "status": "ok",
     "timestamp": 1678680939988,
     "user": {
      "displayName": "Ayum Putri Riuni",
      "userId": "17972070449528959812"
     },
     "user_tz": -420
    },
    "id": "Ke-1qJAtdVrD",
    "outputId": "3caae3ac-ad0b-4a3c-fdab-f8a29bd59ba2"
   },
   "outputs": [
    {
     "name": "stdout",
     "output_type": "stream",
     "text": [
      "['apps', 'os', 'version']\n"
     ]
    }
   ],
   "source": [
    "mylist = list((\"apps\", \"os\", \"version\")) # hrs menggunakan double kurung siku\n",
    "print(mylist)"
   ]
  },
  {
   "cell_type": "markdown",
   "metadata": {
    "id": "OD8phuAcfcDw"
   },
   "source": [
    "# Modification of List"
   ]
  },
  {
   "cell_type": "markdown",
   "metadata": {
    "id": "65JwVpouiMOV"
   },
   "source": [
    "### index"
   ]
  },
  {
   "cell_type": "code",
   "execution_count": 8,
   "metadata": {
    "colab": {
     "base_uri": "https://localhost:8080/"
    },
    "executionInfo": {
     "elapsed": 26,
     "status": "ok",
     "timestamp": 1678680939988,
     "user": {
      "displayName": "Ayum Putri Riuni",
      "userId": "17972070449528959812"
     },
     "user_tz": -420
    },
    "id": "-s0FI3Pcd4zh",
    "outputId": "7efab8d9-500c-4f74-a3fa-5829629a6a95"
   },
   "outputs": [
    {
     "name": "stdout",
     "output_type": "stream",
     "text": [
      "apps\n"
     ]
    }
   ],
   "source": [
    "print(mylist[0])"
   ]
  },
  {
   "cell_type": "markdown",
   "metadata": {
    "id": "L2VKDN3Figbv"
   },
   "source": [
    "### negative index"
   ]
  },
  {
   "cell_type": "code",
   "execution_count": 9,
   "metadata": {
    "colab": {
     "base_uri": "https://localhost:8080/"
    },
    "executionInfo": {
     "elapsed": 25,
     "status": "ok",
     "timestamp": 1678680939989,
     "user": {
      "displayName": "Ayum Putri Riuni",
      "userId": "17972070449528959812"
     },
     "user_tz": -420
    },
    "id": "lnG4MOomiOeN",
    "outputId": "5162f139-b10e-40d7-8981-f5e5975367c3"
   },
   "outputs": [
    {
     "name": "stdout",
     "output_type": "stream",
     "text": [
      "version\n"
     ]
    }
   ],
   "source": [
    "print(mylist[-1])"
   ]
  },
  {
   "cell_type": "markdown",
   "metadata": {
    "id": "YSiPIcnejApI"
   },
   "source": [
    "### index range"
   ]
  },
  {
   "cell_type": "code",
   "execution_count": 10,
   "metadata": {
    "colab": {
     "base_uri": "https://localhost:8080/"
    },
    "executionInfo": {
     "elapsed": 23,
     "status": "ok",
     "timestamp": 1678680939989,
     "user": {
      "displayName": "Ayum Putri Riuni",
      "userId": "17972070449528959812"
     },
     "user_tz": -420
    },
    "id": "h-IDxb8qijWj",
    "outputId": "fca96c39-32dc-4216-b106-209464a5cda1"
   },
   "outputs": [
    {
     "name": "stdout",
     "output_type": "stream",
     "text": [
      "['os', 'version']\n"
     ]
    }
   ],
   "source": [
    "print(mylist[1:4])"
   ]
  },
  {
   "cell_type": "code",
   "execution_count": 11,
   "metadata": {
    "colab": {
     "base_uri": "https://localhost:8080/"
    },
    "executionInfo": {
     "elapsed": 22,
     "status": "ok",
     "timestamp": 1678680939989,
     "user": {
      "displayName": "Ayum Putri Riuni",
      "userId": "17972070449528959812"
     },
     "user_tz": -420
    },
    "id": "cKS1UCHIjFVE",
    "outputId": "1516e853-2138-4152-b92f-6057a0adcb89"
   },
   "outputs": [
    {
     "name": "stdout",
     "output_type": "stream",
     "text": [
      "['apps', 'os']\n"
     ]
    }
   ],
   "source": [
    "print(mylist[:2])"
   ]
  },
  {
   "cell_type": "code",
   "execution_count": 12,
   "metadata": {
    "colab": {
     "base_uri": "https://localhost:8080/"
    },
    "executionInfo": {
     "elapsed": 21,
     "status": "ok",
     "timestamp": 1678680939990,
     "user": {
      "displayName": "Ayum Putri Riuni",
      "userId": "17972070449528959812"
     },
     "user_tz": -420
    },
    "id": "8ZwDocN2mCkE",
    "outputId": "85c9d770-a10f-4a22-a536-f7e072df8df2"
   },
   "outputs": [
    {
     "name": "stdout",
     "output_type": "stream",
     "text": [
      "['os', 'version']\n"
     ]
    }
   ],
   "source": [
    "print(mylist[1:])"
   ]
  },
  {
   "cell_type": "markdown",
   "metadata": {
    "id": "N-FVTXVgmy_R"
   },
   "source": [
    "### change element value"
   ]
  },
  {
   "cell_type": "code",
   "execution_count": 13,
   "metadata": {
    "colab": {
     "base_uri": "https://localhost:8080/"
    },
    "executionInfo": {
     "elapsed": 513,
     "status": "ok",
     "timestamp": 1700013815430,
     "user": {
      "displayName": "Bayu Sedana",
      "userId": "01675995496272843487"
     },
     "user_tz": -420
    },
    "id": "n32RKVjSmMyE",
    "outputId": "194215e3-f96f-456a-b673-65d9e64e090c"
   },
   "outputs": [
    {
     "name": "stdout",
     "output_type": "stream",
     "text": [
      "['macos', 'os', 'version']\n"
     ]
    }
   ],
   "source": [
    "mylist[0] = \"macos\"\n",
    "print(mylist)"
   ]
  },
  {
   "cell_type": "code",
   "execution_count": 14,
   "metadata": {
    "colab": {
     "base_uri": "https://localhost:8080/"
    },
    "executionInfo": {
     "elapsed": 7,
     "status": "ok",
     "timestamp": 1700013819120,
     "user": {
      "displayName": "Bayu Sedana",
      "userId": "01675995496272843487"
     },
     "user_tz": -420
    },
    "id": "2yHJ_yn_m-rt",
    "outputId": "67ac9257-4033-4789-b1ad-4d6135794ea6"
   },
   "outputs": [
    {
     "name": "stdout",
     "output_type": "stream",
     "text": [
      "['macos', 'android', 'nougat']\n"
     ]
    }
   ],
   "source": [
    "mylist[1:3] = [\"android\", \"nougat\"]\n",
    "print(mylist)"
   ]
  },
  {
   "cell_type": "markdown",
   "metadata": {
    "id": "C4GA6Kf0oDXW"
   },
   "source": [
    "Jika kita memasukkan lebih banyak item daripada yang kita ganti, item baru akan disisipkan di tempat yang kita tentukan, dan item yang tersisa akan bergerak:"
   ]
  },
  {
   "cell_type": "code",
   "execution_count": 15,
   "metadata": {
    "colab": {
     "base_uri": "https://localhost:8080/"
    },
    "executionInfo": {
     "elapsed": 1,
     "status": "ok",
     "timestamp": 1700013821437,
     "user": {
      "displayName": "Bayu Sedana",
      "userId": "01675995496272843487"
     },
     "user_tz": -420
    },
    "id": "AK4Ql8L2nn7O",
    "outputId": "a9346351-6845-4211-8429-d95aa8ee3f7c"
   },
   "outputs": [
    {
     "name": "stdout",
     "output_type": "stream",
     "text": [
      "['apple', 'blackcurrant', 'watermelon', 'cherry']\n"
     ]
    }
   ],
   "source": [
    "thislist = [\"apple\", \"banana\", \"cherry\"]\n",
    "thislist[1:2] = [\"blackcurrant\", \"watermelon\"]\n",
    "print(thislist)"
   ]
  },
  {
   "cell_type": "markdown",
   "metadata": {
    "id": "UhsHcyRwoXfQ"
   },
   "source": [
    "Jika kita memasukkan lebih sedikit item daripada yang kita ganti, item baru akan disisipkan di tempat yang kita tentukan, dan item yang tersisa akan bergerak:"
   ]
  },
  {
   "cell_type": "code",
   "execution_count": 16,
   "metadata": {
    "colab": {
     "base_uri": "https://localhost:8080/"
    },
    "executionInfo": {
     "elapsed": 492,
     "status": "ok",
     "timestamp": 1700013823828,
     "user": {
      "displayName": "Bayu Sedana",
      "userId": "01675995496272843487"
     },
     "user_tz": -420
    },
    "id": "-MsW9UULn0iU",
    "outputId": "6915f923-0543-4f47-aba5-bf1e6b2b78f5"
   },
   "outputs": [
    {
     "name": "stdout",
     "output_type": "stream",
     "text": [
      "['apple', 'watermelon']\n"
     ]
    }
   ],
   "source": [
    "thislist = [\"apple\", \"banana\", \"cherry\"]\n",
    "thislist[1:5] = [\"watermelon\"]\n",
    "print(thislist)"
   ]
  },
  {
   "cell_type": "markdown",
   "metadata": {
    "id": "ALSc6fY2pT8m"
   },
   "source": [
    "### Add Item to list"
   ]
  },
  {
   "cell_type": "markdown",
   "metadata": {
    "id": "rIpYAxHKpYeW"
   },
   "source": [
    "append()"
   ]
  },
  {
   "cell_type": "code",
   "execution_count": 17,
   "metadata": {
    "colab": {
     "base_uri": "https://localhost:8080/"
    },
    "executionInfo": {
     "elapsed": 400,
     "status": "ok",
     "timestamp": 1700013866167,
     "user": {
      "displayName": "Bayu Sedana",
      "userId": "01675995496272843487"
     },
     "user_tz": -420
    },
    "id": "TJfHDR_UpPwU",
    "outputId": "95489807-6dfe-4cad-e89f-0d16c71999e6"
   },
   "outputs": [
    {
     "name": "stdout",
     "output_type": "stream",
     "text": [
      "['apple', 'banana', 'cherry', 'orange']\n"
     ]
    }
   ],
   "source": [
    "thislist = [\"apple\", \"banana\", \"cherry\"]\n",
    "thislist.append(\"orange\")\n",
    "print(thislist)"
   ]
  },
  {
   "cell_type": "markdown",
   "metadata": {
    "id": "hOvNw0PNpZyj"
   },
   "source": [
    "insert()"
   ]
  },
  {
   "cell_type": "code",
   "execution_count": 18,
   "metadata": {
    "colab": {
     "base_uri": "https://localhost:8080/"
    },
    "executionInfo": {
     "elapsed": 699,
     "status": "ok",
     "timestamp": 1700013875434,
     "user": {
      "displayName": "Bayu Sedana",
      "userId": "01675995496272843487"
     },
     "user_tz": -420
    },
    "id": "s7EmIExlpXzg",
    "outputId": "b3d94ca0-ea2f-413d-ffa9-136a48bba2de"
   },
   "outputs": [
    {
     "name": "stdout",
     "output_type": "stream",
     "text": [
      "['apple', 'orange', 'banana', 'cherry']\n"
     ]
    }
   ],
   "source": [
    "thislist = [\"apple\", \"banana\", \"cherry\"]\n",
    "thislist.insert(1, \"orange\")\n",
    "print(thislist)"
   ]
  },
  {
   "cell_type": "markdown",
   "metadata": {
    "id": "pzf5tBHmpf9m"
   },
   "source": [
    "extend()"
   ]
  },
  {
   "cell_type": "code",
   "execution_count": 19,
   "metadata": {
    "colab": {
     "base_uri": "https://localhost:8080/"
    },
    "executionInfo": {
     "elapsed": 517,
     "status": "ok",
     "timestamp": 1700013884141,
     "user": {
      "displayName": "Bayu Sedana",
      "userId": "01675995496272843487"
     },
     "user_tz": -420
    },
    "id": "_pmnxxRxpcMD",
    "outputId": "aa03fb8b-5e9e-4365-aeae-466dd4811c46"
   },
   "outputs": [
    {
     "name": "stdout",
     "output_type": "stream",
     "text": [
      "['apple', 'banana', 'cherry', 'mango', 'pineapple', 'papaya']\n"
     ]
    }
   ],
   "source": [
    "thislist = [\"apple\", \"banana\", \"cherry\"]\n",
    "tropical = [\"mango\", \"pineapple\", \"papaya\"]\n",
    "thislist.extend(tropical)\n",
    "print(thislist)"
   ]
  },
  {
   "cell_type": "code",
   "execution_count": 20,
   "metadata": {
    "colab": {
     "base_uri": "https://localhost:8080/"
    },
    "executionInfo": {
     "elapsed": 542,
     "status": "ok",
     "timestamp": 1678680940521,
     "user": {
      "displayName": "Ayum Putri Riuni",
      "userId": "17972070449528959812"
     },
     "user_tz": -420
    },
    "id": "tSiVVD4upiCw",
    "outputId": "058a2408-b395-4555-e8fe-46379067f7d4"
   },
   "outputs": [
    {
     "name": "stdout",
     "output_type": "stream",
     "text": [
      "['apple', 'banana', 'cherry', 'kiwi', 'orange']\n"
     ]
    }
   ],
   "source": [
    "thislist = [\"apple\", \"banana\", \"cherry\"]\n",
    "thistuple = (\"kiwi\", \"orange\")\n",
    "thislist.extend(thistuple)\n",
    "print(thislist)"
   ]
  },
  {
   "cell_type": "markdown",
   "metadata": {
    "id": "2tIRyywup4Eb"
   },
   "source": [
    "### Remove item from list"
   ]
  },
  {
   "cell_type": "markdown",
   "metadata": {
    "id": "2SGwGRgRqN8Z"
   },
   "source": [
    "remove()"
   ]
  },
  {
   "cell_type": "code",
   "execution_count": 21,
   "metadata": {
    "colab": {
     "base_uri": "https://localhost:8080/"
    },
    "executionInfo": {
     "elapsed": 33,
     "status": "ok",
     "timestamp": 1678680940521,
     "user": {
      "displayName": "Ayum Putri Riuni",
      "userId": "17972070449528959812"
     },
     "user_tz": -420
    },
    "id": "aPAXRQsqpj7q",
    "outputId": "f561cb88-d77d-4aa9-f080-d82a24b05a2b"
   },
   "outputs": [
    {
     "name": "stdout",
     "output_type": "stream",
     "text": [
      "['apple', 'cherry']\n"
     ]
    }
   ],
   "source": [
    "thislist = [\"apple\", \"banana\", \"cherry\"]\n",
    "thislist.remove(\"banana\")\n",
    "print(thislist)"
   ]
  },
  {
   "cell_type": "markdown",
   "metadata": {
    "id": "hQBqFl_OqtVG"
   },
   "source": [
    "pop()"
   ]
  },
  {
   "cell_type": "code",
   "execution_count": 22,
   "metadata": {
    "colab": {
     "base_uri": "https://localhost:8080/"
    },
    "executionInfo": {
     "elapsed": 513,
     "status": "ok",
     "timestamp": 1700013904208,
     "user": {
      "displayName": "Bayu Sedana",
      "userId": "01675995496272843487"
     },
     "user_tz": -420
    },
    "id": "y7yHE3CcqPPE",
    "outputId": "189ade3d-b985-4566-9b26-c1896368ddb8"
   },
   "outputs": [
    {
     "name": "stdout",
     "output_type": "stream",
     "text": [
      "['apple', 'cherry']\n"
     ]
    }
   ],
   "source": [
    "thislist = [\"apple\", \"banana\", \"cherry\"]\n",
    "thislist.pop(1)\n",
    "print(thislist)"
   ]
  },
  {
   "cell_type": "markdown",
   "metadata": {
    "id": "jACrv3l1q1Do"
   },
   "source": [
    "del"
   ]
  },
  {
   "cell_type": "code",
   "execution_count": 23,
   "metadata": {
    "colab": {
     "base_uri": "https://localhost:8080/"
    },
    "executionInfo": {
     "elapsed": 586,
     "status": "ok",
     "timestamp": 1700014558869,
     "user": {
      "displayName": "Bayu Sedana",
      "userId": "01675995496272843487"
     },
     "user_tz": -420
    },
    "id": "yUHIalaaqw2A",
    "outputId": "c6d95f2e-60f1-4526-aced-306d0d8def06"
   },
   "outputs": [
    {
     "name": "stdout",
     "output_type": "stream",
     "text": [
      "['apple', 'cherry']\n"
     ]
    }
   ],
   "source": [
    "thislist = [\"apple\", \"banana\", \"cherry\"]\n",
    "del thislist[1]\n",
    "print(thislist)"
   ]
  },
  {
   "cell_type": "markdown",
   "metadata": {
    "id": "dgcjrL0Bq5cx"
   },
   "source": [
    "clear()"
   ]
  },
  {
   "cell_type": "code",
   "execution_count": 24,
   "metadata": {
    "colab": {
     "base_uri": "https://localhost:8080/"
    },
    "executionInfo": {
     "elapsed": 514,
     "status": "ok",
     "timestamp": 1700014602816,
     "user": {
      "displayName": "Bayu Sedana",
      "userId": "01675995496272843487"
     },
     "user_tz": -420
    },
    "id": "DIOaubf3q2na",
    "outputId": "22d6ce08-d7ee-493b-ee16-d1f939a07be3"
   },
   "outputs": [
    {
     "name": "stdout",
     "output_type": "stream",
     "text": [
      "[]\n"
     ]
    }
   ],
   "source": [
    "thislist = [\"apple\", \"banana\", \"cherry\"]\n",
    "thislist.clear()\n",
    "print(thislist)"
   ]
  },
  {
   "cell_type": "markdown",
   "metadata": {
    "id": "6VGFCKz2zJOZ"
   },
   "source": [
    "### Loop in List"
   ]
  },
  {
   "cell_type": "markdown",
   "metadata": {
    "id": "i6FHBjRTz20X"
   },
   "source": [
    "for loop"
   ]
  },
  {
   "cell_type": "code",
   "execution_count": 25,
   "metadata": {
    "colab": {
     "base_uri": "https://localhost:8080/"
    },
    "executionInfo": {
     "elapsed": 500,
     "status": "ok",
     "timestamp": 1700014617545,
     "user": {
      "displayName": "Bayu Sedana",
      "userId": "01675995496272843487"
     },
     "user_tz": -420
    },
    "id": "Tw1DbtOlq6xa",
    "outputId": "5f57a9c7-cc2a-43b2-e1ed-929fae03ed2c"
   },
   "outputs": [
    {
     "name": "stdout",
     "output_type": "stream",
     "text": [
      "apple\n",
      "banana\n",
      "cherry\n"
     ]
    }
   ],
   "source": [
    "thislist = [\"apple\", \"banana\", \"cherry\"]\n",
    "for x in thislist:\n",
    "  print(x)"
   ]
  },
  {
   "cell_type": "code",
   "execution_count": 26,
   "metadata": {
    "id": "ncajAs-fzPgw"
   },
   "outputs": [
    {
     "name": "stdout",
     "output_type": "stream",
     "text": [
      "apple\n",
      "banana\n",
      "cherry\n"
     ]
    }
   ],
   "source": [
    "thislist = [\"apple\", \"banana\", \"cherry\"]\n",
    "for i in range(len(thislist)):\n",
    "  print(thislist[i])"
   ]
  },
  {
   "cell_type": "markdown",
   "metadata": {
    "id": "TVqFG3A2z7bI"
   },
   "source": [
    "while loop"
   ]
  },
  {
   "cell_type": "code",
   "execution_count": 27,
   "metadata": {
    "colab": {
     "base_uri": "https://localhost:8080/"
    },
    "executionInfo": {
     "elapsed": 27,
     "status": "ok",
     "timestamp": 1678680940523,
     "user": {
      "displayName": "Ayum Putri Riuni",
      "userId": "17972070449528959812"
     },
     "user_tz": -420
    },
    "id": "YeR6fb3UzSiS",
    "outputId": "0df976ce-610e-48bc-9e4f-96b69ca3c6ab"
   },
   "outputs": [
    {
     "name": "stdout",
     "output_type": "stream",
     "text": [
      "apple\n",
      "banana\n",
      "cherry\n"
     ]
    }
   ],
   "source": [
    "thislist = [\"apple\", \"banana\", \"cherry\"]\n",
    "i = 0\n",
    "while i < len(thislist):\n",
    "  print(thislist[i])\n",
    "  i = i + 1"
   ]
  },
  {
   "cell_type": "markdown",
   "metadata": {
    "id": "-pMcUOwx0W2u"
   },
   "source": [
    "list comprehension"
   ]
  },
  {
   "cell_type": "code",
   "execution_count": 28,
   "metadata": {
    "colab": {
     "base_uri": "https://localhost:8080/"
    },
    "executionInfo": {
     "elapsed": 26,
     "status": "ok",
     "timestamp": 1678680940523,
     "user": {
      "displayName": "Ayum Putri Riuni",
      "userId": "17972070449528959812"
     },
     "user_tz": -420
    },
    "id": "8tAduRSIz-kH",
    "outputId": "ed7907ae-9f6c-4241-e025-9f71692cb37c"
   },
   "outputs": [
    {
     "name": "stdout",
     "output_type": "stream",
     "text": [
      "['apple', 'banana', 'cherry']\n"
     ]
    }
   ],
   "source": [
    "thislists = [\"apple\", \"banana\", \"cherry\"]\n",
    "print([x for x in thislists])"
   ]
  },
  {
   "cell_type": "markdown",
   "metadata": {
    "id": "yV3y_T7M1i-D"
   },
   "source": [
    "### List Comprehension"
   ]
  },
  {
   "cell_type": "markdown",
   "metadata": {
    "id": "Vfd4ypHv1mpA"
   },
   "source": [
    "newlist = [expression for item in iterable if condition == True]"
   ]
  },
  {
   "cell_type": "code",
   "execution_count": 29,
   "metadata": {
    "colab": {
     "base_uri": "https://localhost:8080/"
    },
    "executionInfo": {
     "elapsed": 25,
     "status": "ok",
     "timestamp": 1678680940523,
     "user": {
      "displayName": "Ayum Putri Riuni",
      "userId": "17972070449528959812"
     },
     "user_tz": -420
    },
    "id": "n4P0Em1V0YDh",
    "outputId": "8da0b80a-37f5-469f-f166-7169250354ec"
   },
   "outputs": [
    {
     "name": "stdout",
     "output_type": "stream",
     "text": [
      "['apple', 'banana', 'mango']\n",
      "[0, 1, 2, 3, 4, 5, 6, 7, 8, 9]\n"
     ]
    }
   ],
   "source": [
    "fruits = [\"apple\", \"banana\", \"cherry\", \"kiwi\", \"mango\"]\n",
    "\n",
    "newlist = [x for x in fruits if \"a\" in x]\n",
    "\n",
    "print(newlist)\n",
    "\n",
    "angka = [x for x in range(10)]\n",
    "print(angka)"
   ]
  },
  {
   "cell_type": "code",
   "execution_count": 30,
   "metadata": {
    "colab": {
     "base_uri": "https://localhost:8080/"
    },
    "executionInfo": {
     "elapsed": 4,
     "status": "ok",
     "timestamp": 1688023541106,
     "user": {
      "displayName": "Vanessa Novalia",
      "userId": "12966432642838726058"
     },
     "user_tz": -420
    },
    "id": "7PpbKglLBodI",
    "outputId": "894e2613-5ac8-4020-d86e-7abee82b50ad"
   },
   "outputs": [
    {
     "name": "stdout",
     "output_type": "stream",
     "text": [
      "apple\n",
      "banana\n",
      "mango\n"
     ]
    }
   ],
   "source": [
    "fruits = [\"apple\", \"banana\", \"cherry\", \"kiwi\", \"mango\"]\n",
    "\n",
    "for x in fruits:\n",
    "    if \"a\" in x:\n",
    "        print(x)"
   ]
  },
  {
   "cell_type": "markdown",
   "metadata": {
    "id": "mDzJWvyR2MyJ"
   },
   "source": [
    "menggunakan kondisi"
   ]
  },
  {
   "cell_type": "code",
   "execution_count": 31,
   "metadata": {
    "colab": {
     "base_uri": "https://localhost:8080/"
    },
    "executionInfo": {
     "elapsed": 23,
     "status": "ok",
     "timestamp": 1678680940523,
     "user": {
      "displayName": "Ayum Putri Riuni",
      "userId": "17972070449528959812"
     },
     "user_tz": -420
    },
    "id": "QfTAJXZB1q0A",
    "outputId": "76b17aaf-d131-4111-e094-721e0cf3be34"
   },
   "outputs": [
    {
     "name": "stdout",
     "output_type": "stream",
     "text": [
      "['banana', 'cherry', 'kiwi', 'mango']\n"
     ]
    }
   ],
   "source": [
    "newlist = [x for x in fruits if x != \"apple\"]\n",
    "print(newlist)"
   ]
  },
  {
   "cell_type": "markdown",
   "metadata": {
    "id": "cC-yqrnw2ZGU"
   },
   "source": [
    "iteratif"
   ]
  },
  {
   "cell_type": "code",
   "execution_count": 32,
   "metadata": {
    "colab": {
     "base_uri": "https://localhost:8080/"
    },
    "executionInfo": {
     "elapsed": 3,
     "status": "ok",
     "timestamp": 1688023229089,
     "user": {
      "displayName": "Vanessa Novalia",
      "userId": "12966432642838726058"
     },
     "user_tz": -420
    },
    "id": "HQA0_7682RJ2",
    "outputId": "a6b47216-1983-4e4c-c781-ecb92a937872"
   },
   "outputs": [
    {
     "name": "stdout",
     "output_type": "stream",
     "text": [
      "[0, 1, 2, 3, 4, 5, 6, 7, 8, 9]\n"
     ]
    }
   ],
   "source": [
    "newlist = [x for x in range(10)]\n",
    "print(newlist)"
   ]
  },
  {
   "cell_type": "markdown",
   "metadata": {
    "id": "CmqUkYyA2guF"
   },
   "source": [
    "expression"
   ]
  },
  {
   "cell_type": "code",
   "execution_count": 33,
   "metadata": {
    "colab": {
     "base_uri": "https://localhost:8080/"
    },
    "executionInfo": {
     "elapsed": 22,
     "status": "ok",
     "timestamp": 1678680940524,
     "user": {
      "displayName": "Ayum Putri Riuni",
      "userId": "17972070449528959812"
     },
     "user_tz": -420
    },
    "id": "vmFNg5RP2aPh",
    "outputId": "05de10e9-a448-4216-d758-0a0525238ad4"
   },
   "outputs": [
    {
     "name": "stdout",
     "output_type": "stream",
     "text": [
      "['APPLE', 'BANANA', 'CHERRY', 'KIWI', 'MANGO']\n"
     ]
    }
   ],
   "source": [
    "newlist = [x.upper() for x in fruits]\n",
    "print(newlist)"
   ]
  },
  {
   "cell_type": "markdown",
   "metadata": {
    "id": "FKWm4fiF2kM7"
   },
   "source": [
    "multiple condition"
   ]
  },
  {
   "cell_type": "code",
   "execution_count": 34,
   "metadata": {
    "colab": {
     "base_uri": "https://localhost:8080/"
    },
    "executionInfo": {
     "elapsed": 21,
     "status": "ok",
     "timestamp": 1678680940524,
     "user": {
      "displayName": "Ayum Putri Riuni",
      "userId": "17972070449528959812"
     },
     "user_tz": -420
    },
    "id": "9-40cuGZ2jGA",
    "outputId": "abdd696d-1db2-4885-a60b-ec6ab5bbee60"
   },
   "outputs": [
    {
     "name": "stdout",
     "output_type": "stream",
     "text": [
      "['apple', 'orange', 'cherry', 'kiwi', 'mango']\n"
     ]
    }
   ],
   "source": [
    "newlist = [x if x != \"banana\" else \"orange\" for x in fruits]\n",
    "print(newlist)"
   ]
  },
  {
   "cell_type": "markdown",
   "metadata": {
    "id": "-US4lDsV4M_H"
   },
   "source": [
    "### List Sorting"
   ]
  },
  {
   "cell_type": "markdown",
   "metadata": {
    "id": "nv0mlDIW4SQk"
   },
   "source": [
    "sort ascending"
   ]
  },
  {
   "cell_type": "code",
   "execution_count": 35,
   "metadata": {
    "colab": {
     "base_uri": "https://localhost:8080/"
    },
    "executionInfo": {
     "elapsed": 20,
     "status": "ok",
     "timestamp": 1678680940524,
     "user": {
      "displayName": "Ayum Putri Riuni",
      "userId": "17972070449528959812"
     },
     "user_tz": -420
    },
    "id": "iiMnHX0S2oCn",
    "outputId": "e045946a-a039-4cdd-d20e-689182da61eb"
   },
   "outputs": [
    {
     "name": "stdout",
     "output_type": "stream",
     "text": [
      "['banana', 'kiwi', 'mango', 'orange', 'pineapple']\n"
     ]
    }
   ],
   "source": [
    "thislist = [\"orange\", \"mango\", \"kiwi\", \"pineapple\", \"banana\"]\n",
    "thislist.sort()\n",
    "print(thislist)"
   ]
  },
  {
   "cell_type": "code",
   "execution_count": 36,
   "metadata": {
    "colab": {
     "base_uri": "https://localhost:8080/"
    },
    "executionInfo": {
     "elapsed": 19,
     "status": "ok",
     "timestamp": 1678680940525,
     "user": {
      "displayName": "Ayum Putri Riuni",
      "userId": "17972070449528959812"
     },
     "user_tz": -420
    },
    "id": "m4fcmKLc4UKi",
    "outputId": "ee6bb17b-23fa-48b0-c326-651287479346"
   },
   "outputs": [
    {
     "name": "stdout",
     "output_type": "stream",
     "text": [
      "[23, 50, 65, 82, 100]\n",
      "[100, 82, 65, 50, 23]\n"
     ]
    }
   ],
   "source": [
    "thislist = [100, 50, 65, 82, 23]\n",
    "thislist.sort()\n",
    "print(thislist)\n",
    "thislist.sort(reverse=True)\n",
    "print(thislist)"
   ]
  },
  {
   "cell_type": "markdown",
   "metadata": {
    "id": "IMJYZQrL4hPl"
   },
   "source": [
    "sort descending"
   ]
  },
  {
   "cell_type": "code",
   "execution_count": 37,
   "metadata": {
    "colab": {
     "base_uri": "https://localhost:8080/"
    },
    "executionInfo": {
     "elapsed": 18,
     "status": "ok",
     "timestamp": 1678680940525,
     "user": {
      "displayName": "Ayum Putri Riuni",
      "userId": "17972070449528959812"
     },
     "user_tz": -420
    },
    "id": "Lm3za_lt4XWH",
    "outputId": "2f906542-f9d5-47cc-843e-0bd706dc025e"
   },
   "outputs": [
    {
     "name": "stdout",
     "output_type": "stream",
     "text": [
      "['pineapple', 'orange', 'mango', 'kiwi', 'banana']\n"
     ]
    }
   ],
   "source": [
    "thislist = [\"orange\", \"mango\", \"kiwi\", \"pineapple\", \"banana\"]\n",
    "thislist.sort(reverse = True)\n",
    "print(thislist)"
   ]
  },
  {
   "cell_type": "code",
   "execution_count": 38,
   "metadata": {
    "colab": {
     "base_uri": "https://localhost:8080/"
    },
    "executionInfo": {
     "elapsed": 17,
     "status": "ok",
     "timestamp": 1678680940525,
     "user": {
      "displayName": "Ayum Putri Riuni",
      "userId": "17972070449528959812"
     },
     "user_tz": -420
    },
    "id": "6dwVkvsX4Zon",
    "outputId": "caf0eb5c-15ca-42a8-aa33-b52c708ebded"
   },
   "outputs": [
    {
     "name": "stdout",
     "output_type": "stream",
     "text": [
      "[100, 82, 65, 50, 23]\n"
     ]
    }
   ],
   "source": [
    "thislist = [100, 50, 65, 82, 23]\n",
    "thislist.sort(reverse = True)\n",
    "print(thislist)"
   ]
  },
  {
   "cell_type": "markdown",
   "metadata": {
    "id": "9tYOZb7947ZZ"
   },
   "source": [
    "### Copy List"
   ]
  },
  {
   "cell_type": "code",
   "execution_count": 39,
   "metadata": {
    "colab": {
     "base_uri": "https://localhost:8080/"
    },
    "executionInfo": {
     "elapsed": 15,
     "status": "ok",
     "timestamp": 1678680940525,
     "user": {
      "displayName": "Ayum Putri Riuni",
      "userId": "17972070449528959812"
     },
     "user_tz": -420
    },
    "id": "tNk7sfeP4eSS",
    "outputId": "9f152980-2ec0-412f-cf51-7edce5830082"
   },
   "outputs": [
    {
     "name": "stdout",
     "output_type": "stream",
     "text": [
      "['apple', 'banana', 'cherry']\n"
     ]
    }
   ],
   "source": [
    "thislist = [\"apple\", \"banana\", \"cherry\"]\n",
    "mylist = thislist.copy()\n",
    "print(mylist)"
   ]
  },
  {
   "cell_type": "markdown",
   "metadata": {
    "id": "MHcXNt_Z5a5b"
   },
   "source": [
    "### Joining List"
   ]
  },
  {
   "cell_type": "code",
   "execution_count": 40,
   "metadata": {
    "colab": {
     "base_uri": "https://localhost:8080/"
    },
    "executionInfo": {
     "elapsed": 15,
     "status": "ok",
     "timestamp": 1678680940526,
     "user": {
      "displayName": "Ayum Putri Riuni",
      "userId": "17972070449528959812"
     },
     "user_tz": -420
    },
    "id": "QJeWr-Uk5BE5",
    "outputId": "8465c749-3062-4ec1-8027-f1685c35ccec"
   },
   "outputs": [
    {
     "name": "stdout",
     "output_type": "stream",
     "text": [
      "['a', 'b', 'c', 1, 2, 3]\n"
     ]
    }
   ],
   "source": [
    "list1 = [\"a\", \"b\", \"c\"]\n",
    "list2 = [1, 2, 3]\n",
    "\n",
    "list3 = list1 + list2\n",
    "print(list3)"
   ]
  },
  {
   "cell_type": "code",
   "execution_count": 41,
   "metadata": {
    "colab": {
     "base_uri": "https://localhost:8080/"
    },
    "executionInfo": {
     "elapsed": 14,
     "status": "ok",
     "timestamp": 1678680940526,
     "user": {
      "displayName": "Ayum Putri Riuni",
      "userId": "17972070449528959812"
     },
     "user_tz": -420
    },
    "id": "2UYVpgXY5g4g",
    "outputId": "51d49c12-b9bd-471c-9c23-39e3bd3f5457"
   },
   "outputs": [
    {
     "name": "stdout",
     "output_type": "stream",
     "text": [
      "['a', 'b', 'c', 1, 2, 3]\n"
     ]
    }
   ],
   "source": [
    "list1 = [\"a\", \"b\" , \"c\"]\n",
    "list2 = [1, 2, 3]\n",
    "\n",
    "for x in list2:\n",
    "  list1.append(x)\n",
    "\n",
    "print(list1)"
   ]
  },
  {
   "cell_type": "code",
   "execution_count": 42,
   "metadata": {
    "colab": {
     "base_uri": "https://localhost:8080/"
    },
    "executionInfo": {
     "elapsed": 12,
     "status": "ok",
     "timestamp": 1678680940526,
     "user": {
      "displayName": "Ayum Putri Riuni",
      "userId": "17972070449528959812"
     },
     "user_tz": -420
    },
    "id": "PitDNIqB5ip9",
    "outputId": "8f33fa04-c6fd-4792-fcb1-1bb273c9e911"
   },
   "outputs": [
    {
     "name": "stdout",
     "output_type": "stream",
     "text": [
      "[0, 1, 2, 3, 4, 5, 6, 7, 8, 9, 10, 11, 12, 13, 14, 15, 16, 17, 18, 19, 20, 21, 22, 23, 24, 25, 26, 27, 28, 29, 30, 31, 32, 33, 34, 35, 36, 37, 38, 39, 40, 41, 42, 43, 44, 45, 46, 47, 48, 49, 50, 51, 52, 53, 54, 55, 56, 57, 58, 59, 60, 61, 62, 63, 64, 65, 66, 67, 68, 69, 70, 71, 72, 73, 74, 75, 76, 77, 78, 79, 80, 81, 82, 83, 84, 85, 86, 87, 88, 89, 90, 91, 92, 93, 94, 95, 96, 97, 98, 99]\n"
     ]
    }
   ],
   "source": [
    "list1 = [\"a\", \"b\" , \"c\"]\n",
    "list2 = [x for x in range(100)]\n",
    "\n",
    "list1.extend(list2)\n",
    "print(list2)"
   ]
  },
  {
   "cell_type": "markdown",
   "metadata": {
    "id": "utuTTJBN6RXD"
   },
   "source": [
    "# Thank you!"
   ]
  },
  {
   "cell_type": "code",
   "execution_count": 43,
   "metadata": {},
   "outputs": [
    {
     "name": "stdout",
     "output_type": "stream",
     "text": [
      "Print\n",
      "Print\n",
      "Print\n",
      "Print\n",
      "Print\n",
      "Print\n",
      "Print\n",
      "Print\n",
      "Print\n",
      "Print\n",
      "Print\n",
      "Print\n",
      "Print\n",
      "Print\n",
      "Print\n",
      "Print\n",
      "Print\n",
      "Print\n",
      "Print\n",
      "Print\n",
      "Print\n"
     ]
    }
   ],
   "source": [
    "i = 0\n",
    "while True:\n",
    "    print(\"Print\")\n",
    "    if i == 20:\n",
    "        break\n",
    "    i+=1"
   ]
  }
 ],
 "metadata": {
  "colab": {
   "provenance": []
  },
  "kernelspec": {
   "display_name": "Python 3 (ipykernel)",
   "language": "python",
   "name": "python3"
  },
  "language_info": {
   "codemirror_mode": {
    "name": "ipython",
    "version": 3
   },
   "file_extension": ".py",
   "mimetype": "text/x-python",
   "name": "python",
   "nbconvert_exporter": "python",
   "pygments_lexer": "ipython3",
   "version": "3.13.5"
  }
 },
 "nbformat": 4,
 "nbformat_minor": 4
}
