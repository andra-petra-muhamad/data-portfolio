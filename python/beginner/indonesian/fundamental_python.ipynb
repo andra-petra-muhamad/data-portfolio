{
 "cells": [
  {
   "cell_type": "code",
   "execution_count": null,
   "metadata": {
    "id": "mOzvGopqQJ8_"
   },
   "outputs": [],
   "source": []
  },
  {
   "cell_type": "markdown",
   "metadata": {
    "id": "6FkIx88TcBmf"
   },
   "source": [
    "# Common Data Structure"
   ]
  },
  {
   "cell_type": "code",
   "execution_count": 2,
   "metadata": {
    "colab": {
     "base_uri": "https://localhost:8080/"
    },
    "executionInfo": {
     "elapsed": 573,
     "status": "ok",
     "timestamp": 1663505921649,
     "user": {
      "displayName": "Z A Z A",
      "userId": "07938683278567556560"
     },
     "user_tz": -420
    },
    "id": "Lx0kEFO7b9lo",
    "outputId": "344bb4c5-2ecc-4c0e-8365-14ec95da125b"
   },
   "outputs": [
    {
     "name": "stdout",
     "output_type": "stream",
     "text": [
      "[]\n",
      "[1, 2, 219, 'example', 3.14]\n"
     ]
    }
   ],
   "source": [
    "# Lists\n",
    "\n",
    "my_list = [] #membuat list kosong\n",
    "print(my_list)\n",
    "my_list = [1, 2, 219, 'example', 3.14] #membuat list dengan data\n",
    "print(my_list)"
   ]
  },
  {
   "cell_type": "code",
   "execution_count": 1,
   "metadata": {
    "colab": {
     "base_uri": "https://localhost:8080/"
    },
    "executionInfo": {
     "elapsed": 4,
     "status": "ok",
     "timestamp": 1663505967139,
     "user": {
      "displayName": "Z A Z A",
      "userId": "07938683278567556560"
     },
     "user_tz": -420
    },
    "id": "sWHhP_Nicjqn",
    "outputId": "55e75e4e-87ba-4e38-d133-8892704adef6"
   },
   "outputs": [
    {
     "name": "stdout",
     "output_type": "stream",
     "text": [
      "{'Pertama': 'Python', 'Kedua': 'Java'}\n",
      "{'Pertama': 'Python', 'Kedua': 'C++'}\n",
      "{'Pertama': 'Python', 'Kedua': 'C++', 'Ketiga': 'Ruby'}\n",
      "{'Pertama': 'Python', 'Kedua': 'C++', 'Ketiga': 'Ruby', 'Empat': 'OOP'}\n",
      "{'Pertama': 'Python', 'Kedua': 'C++', 'Ketiga': 'Ruby', 'Empat': {'Nul': 'Awal'}}\n"
     ]
    }
   ],
   "source": [
    "# Dictionary\n",
    "my_dict = {'Pertama': 'Python', 'Kedua': 'Java'}\n",
    "print(my_dict)\n",
    "my_dict['Kedua'] = 'C++' #mengubah elemen\n",
    "print(my_dict)\n",
    "my_dict['Ketiga'] = 'Ruby' #menambahkan pasangan key value\n",
    "print(my_dict)\n",
    "my_dict['Empat'] = 'OOP'\n",
    "print(my_dict)\n",
    "my_dict['Empat'] = {'Nul':'Awal'}\n",
    "print(my_dict)"
   ]
  },
  {
   "cell_type": "code",
   "execution_count": 9,
   "metadata": {
    "colab": {
     "base_uri": "https://localhost:8080/"
    },
    "executionInfo": {
     "elapsed": 2,
     "status": "ok",
     "timestamp": 1663506064339,
     "user": {
      "displayName": "Z A Z A",
      "userId": "07938683278567556560"
     },
     "user_tz": -420
    },
    "id": "WRds9hqsc9-H",
    "outputId": "e8efeba8-fc99-446d-9b59-d98356f8e92d"
   },
   "outputs": [
    {
     "name": "stdout",
     "output_type": "stream",
     "text": [
      "(1, 2, 3, 'army')\n",
      "1\n",
      "(1, 2, 3, 'army')\n",
      "3\n"
     ]
    }
   ],
   "source": [
    "# Tuple\n",
    "my_tuple = (1, 2, 3, 'army') #create tuple\n",
    "print(my_tuple) \n",
    "print(my_tuple[0])\n",
    "print(my_tuple[:])\n",
    "#print(my_tuple[3][4])\n",
    "print(my_tuple[2])"
   ]
  },
  {
   "cell_type": "code",
   "execution_count": 10,
   "metadata": {
    "colab": {
     "base_uri": "https://localhost:8080/"
    },
    "executionInfo": {
     "elapsed": 339,
     "status": "ok",
     "timestamp": 1663506167071,
     "user": {
      "displayName": "Z A Z A",
      "userId": "07938683278567556560"
     },
     "user_tz": -420
    },
    "id": "oLCB1mvcdYem",
    "outputId": "27d111e0-6f8d-4810-f2cf-e56fd0ec092f"
   },
   "outputs": [
    {
     "name": "stdout",
     "output_type": "stream",
     "text": [
      "{1, 2, 3, 4, 5}\n",
      "{1, 2, 3, 4, 5}\n"
     ]
    }
   ],
   "source": [
    "# Sets\n",
    "my_set = {1, 2, 3, 4, 5, 5, 5} #create set\n",
    "print(my_set)\n",
    "my_set.add(4) #add element to set\n",
    "print(my_set)\n"
   ]
  },
  {
   "cell_type": "code",
   "execution_count": 11,
   "metadata": {
    "colab": {
     "base_uri": "https://localhost:8080/"
    },
    "executionInfo": {
     "elapsed": 338,
     "status": "ok",
     "timestamp": 1663506228780,
     "user": {
      "displayName": "Z A Z A",
      "userId": "07938683278567556560"
     },
     "user_tz": -420
    },
    "id": "QG9GEVeKd7pT",
    "outputId": "d3223e7e-5b62-4aad-966a-bed28c42653a"
   },
   "outputs": [
    {
     "name": "stdout",
     "output_type": "stream",
     "text": [
      "{1, 2, 3, 4, 5, 6, 7} ---------- {1, 2, 3, 4, 5, 6, 7}\n",
      "{3, 4, 5} ---------- {3, 4, 5}\n",
      "{1, 2, 7} ---------- {1, 2, 7}\n",
      "{6} ---------- {6}\n",
      "{1, 2, 6, 7} ---------- {1, 2, 6, 7}\n",
      "{1, 2, 6, 7} ---------- {1, 2, 6, 7}\n",
      "True\n",
      "False\n",
      "False\n",
      "True\n",
      "set()\n",
      "True\n"
     ]
    }
   ],
   "source": [
    "my_set = {1, 2, 3, 4, 5, 7}\n",
    "my_set_2 = {3, 4, 5, 6}\n",
    "my_set_3 = {1,2}\n",
    "print(my_set.union(my_set_2), '----------', my_set | my_set_2)\n",
    "print(my_set.intersection(my_set_2), '----------', my_set & my_set_2)\n",
    "print(my_set.difference(my_set_2), '----------', my_set - my_set_2)\n",
    "print(my_set_2.difference(my_set), '----------', my_set_2 - my_set)\n",
    "print(my_set.symmetric_difference(my_set_2), '----------', my_set ^ my_set_2)\n",
    "print(my_set.symmetric_difference(my_set_2), '----------', my_set_2 ^ my_set)\n",
    "print(my_set_3.issubset(my_set))\n",
    "print(my_set_3.issuperset(my_set))\n",
    "print(my_set.issuperset(my_set_2))\n",
    "print(my_set_3.isdisjoint(my_set_2))\n",
    "my_set.clear()\n",
    "print(my_set)\n",
    "print(my_set.issubset(my_set_2))\n"
   ]
  },
  {
   "cell_type": "markdown",
   "metadata": {
    "id": "sR7UNjM0eOhu"
   },
   "source": [
    "# Conditional Statement"
   ]
  },
  {
   "cell_type": "code",
   "execution_count": 3,
   "metadata": {
    "colab": {
     "base_uri": "https://localhost:8080/"
    },
    "executionInfo": {
     "elapsed": 354,
     "status": "ok",
     "timestamp": 1663506396316,
     "user": {
      "displayName": "Z A Z A",
      "userId": "07938683278567556560"
     },
     "user_tz": -420
    },
    "id": "r3UO38JOd7-8",
    "outputId": "9d42f993-7692-4c65-f461-299e34c6f4bf"
   },
   "outputs": [
    {
     "name": "stdout",
     "output_type": "stream",
     "text": [
      "Ini bilangan negatif.\n",
      "Ini adalah pernyataan yang benar.\n"
     ]
    }
   ],
   "source": [
    "# IF Statement\n",
    "num = -2\n",
    "if num > 0:\n",
    "    print(num, \"adalah bilangan positif.\")\n",
    "else:\n",
    "    print(\"Ini bilangan negatif.\")\n",
    "print(\"Ini adalah pernyataan yang benar.\")"
   ]
  },
  {
   "cell_type": "code",
   "execution_count": 16,
   "metadata": {
    "colab": {
     "base_uri": "https://localhost:8080/"
    },
    "executionInfo": {
     "elapsed": 551,
     "status": "ok",
     "timestamp": 1663506509866,
     "user": {
      "displayName": "Z A Z A",
      "userId": "07938683278567556560"
     },
     "user_tz": -420
    },
    "id": "QB1JSi4WezHH",
    "outputId": "186db9b8-6929-42f1-cd00-7a4a338480dd"
   },
   "outputs": [
    {
     "name": "stdout",
     "output_type": "stream",
     "text": [
      "Bilangan negatif\n"
     ]
    }
   ],
   "source": [
    "# IF Else Statement\n",
    "num = -2\n",
    "if num >= 0:\n",
    "    print(\"Positif atau nol\")\n",
    "else:\n",
    "     print(\"Bilangan negatif\")"
   ]
  },
  {
   "cell_type": "code",
   "execution_count": 19,
   "metadata": {
    "colab": {
     "base_uri": "https://localhost:8080/"
    },
    "executionInfo": {
     "elapsed": 343,
     "status": "ok",
     "timestamp": 1663506593518,
     "user": {
      "displayName": "Z A Z A",
      "userId": "07938683278567556560"
     },
     "user_tz": -420
    },
    "id": "Pb3vXO87e5Pj",
    "outputId": "f6c74025-1bb2-4aaa-fb33-440d0e787ad7"
   },
   "outputs": [
    {
     "name": "stdout",
     "output_type": "stream",
     "text": [
      "Bilangan positif\n"
     ]
    }
   ],
   "source": [
    "# IF, Elif, Else Statement\n",
    "num = 10*2\n",
    "if num > 0:\n",
    "    print(\"Bilangan positif\")\n",
    "elif num == 0:\n",
    "    print(\"Nol\")\n",
    "else:\n",
    "    print(\"Bilangan negatif\")"
   ]
  },
  {
   "cell_type": "code",
   "execution_count": 20,
   "metadata": {
    "colab": {
     "base_uri": "https://localhost:8080/"
    },
    "executionInfo": {
     "elapsed": 345,
     "status": "ok",
     "timestamp": 1663506678940,
     "user": {
      "displayName": "Z A Z A",
      "userId": "07938683278567556560"
     },
     "user_tz": -420
    },
    "id": "BawBG_BIfBaY",
    "outputId": "19d228e2-7209-4dd5-88d0-f6f520749582"
   },
   "outputs": [
    {
     "name": "stdout",
     "output_type": "stream",
     "text": [
      "Bilangan positif\n"
     ]
    }
   ],
   "source": [
    "# IF nested\n",
    "num = 8\n",
    "if num >= 0:\n",
    "    if num == 0:\n",
    "        print(\"nol\")\n",
    "    else:\n",
    "        print(\"Bilangan positif\")\n",
    "else:\n",
    "    print(\"Bilangan negatif\")"
   ]
  },
  {
   "cell_type": "markdown",
   "metadata": {
    "id": "Ji_S7jQrfUX-"
   },
   "source": [
    "# Loops"
   ]
  },
  {
   "cell_type": "code",
   "execution_count": 22,
   "metadata": {
    "colab": {
     "base_uri": "https://localhost:8080/"
    },
    "executionInfo": {
     "elapsed": 363,
     "status": "ok",
     "timestamp": 1663506840649,
     "user": {
      "displayName": "Z A Z A",
      "userId": "07938683278567556560"
     },
     "user_tz": -420
    },
    "id": "AekaXj1LfGQA",
    "outputId": "8bb74e3c-9e1b-4525-ecb4-5787c7dcfc2a"
   },
   "outputs": [
    {
     "name": "stdout",
     "output_type": "stream",
     "text": [
      "Bilangan ganjil:  [1, 3, 5, 7, 9, 11, 13, 15, 17, 19]\n"
     ]
    }
   ],
   "source": [
    "# While Loop\n",
    "num = 1\n",
    "odd_nums = []\n",
    "while num:\n",
    "    if num % 2 != 0:\n",
    "        odd_nums.append(num)\n",
    "    elif num >=20:\n",
    "        break\n",
    "    num += 1\n",
    "print(\"Bilangan ganjil: \", odd_nums)"
   ]
  },
  {
   "cell_type": "code",
   "execution_count": 23,
   "metadata": {
    "colab": {
     "base_uri": "https://localhost:8080/"
    },
    "executionInfo": {
     "elapsed": 342,
     "status": "ok",
     "timestamp": 1663506948788,
     "user": {
      "displayName": "Z A Z A",
      "userId": "07938683278567556560"
     },
     "user_tz": -420
    },
    "id": "cnuqb4-BfXMT",
    "outputId": "de33a9b0-13ec-4689-a9fc-bb47d7869e36"
   },
   "outputs": [
    {
     "name": "stdout",
     "output_type": "stream",
     "text": [
      "1\n",
      "2\n",
      "3\n",
      "4\n",
      "5\n",
      "100\n"
     ]
    }
   ],
   "source": [
    "# For Loop\n",
    "lists = [1, 2, 3, 4, 5,100]\n",
    "for num in lists:\n",
    "    print(num)"
   ]
  },
  {
   "cell_type": "markdown",
   "metadata": {
    "id": "u5L9Dm2CfvkA"
   },
   "source": [
    "# Function"
   ]
  },
  {
   "cell_type": "code",
   "execution_count": 24,
   "metadata": {
    "colab": {
     "base_uri": "https://localhost:8080/"
    },
    "executionInfo": {
     "elapsed": 4,
     "status": "ok",
     "timestamp": 1663507068332,
     "user": {
      "displayName": "Z A Z A",
      "userId": "07938683278567556560"
     },
     "user_tz": -420
    },
    "id": "Ocye-dt0ft3-",
    "outputId": "defc40a6-2648-4a7b-a844-e3ea5c004735"
   },
   "outputs": [
    {
     "name": "stdout",
     "output_type": "stream",
     "text": [
      "4\n",
      "4\n"
     ]
    }
   ],
   "source": [
    "# Function with Return\n",
    "def pow(a):\n",
    "  return a**2\n",
    "\n",
    "pow(3)\n",
    "print(pow(2))\n",
    "power = pow(2)\n",
    "print(power)"
   ]
  },
  {
   "cell_type": "code",
   "execution_count": 25,
   "metadata": {
    "colab": {
     "base_uri": "https://localhost:8080/"
    },
    "executionInfo": {
     "elapsed": 6,
     "status": "ok",
     "timestamp": 1663507124680,
     "user": {
      "displayName": "Z A Z A",
      "userId": "07938683278567556560"
     },
     "user_tz": -420
    },
    "id": "2ySEDgvfr3fd",
    "outputId": "f14a7af2-55c8-40b7-872b-e00523aee8c0"
   },
   "outputs": [
    {
     "name": "stdout",
     "output_type": "stream",
     "text": [
      "1000000\n",
      "None\n",
      "4\n"
     ]
    }
   ],
   "source": [
    "def pow(a):\n",
    "  print(a**2)\n",
    "print(pow(1000))\n",
    "pow(2)"
   ]
  },
  {
   "cell_type": "code",
   "execution_count": null,
   "metadata": {
    "id": "yqHMkRVEwEzR"
   },
   "outputs": [],
   "source": []
  }
 ],
 "metadata": {
  "colab": {
   "provenance": []
  },
  "kernelspec": {
   "display_name": "Python 3 (ipykernel)",
   "language": "python",
   "name": "python3"
  },
  "language_info": {
   "codemirror_mode": {
    "name": "ipython",
    "version": 3
   },
   "file_extension": ".py",
   "mimetype": "text/x-python",
   "name": "python",
   "nbconvert_exporter": "python",
   "pygments_lexer": "ipython3",
   "version": "3.13.5"
  }
 },
 "nbformat": 4,
 "nbformat_minor": 4
}
