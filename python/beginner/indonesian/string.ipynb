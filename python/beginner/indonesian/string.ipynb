{
 "cells": [
  {
   "cell_type": "markdown",
   "metadata": {
    "id": "6FkIx88TcBmf"
   },
   "source": [
    "# Apa itu string?\n"
   ]
  },
  {
   "cell_type": "code",
   "execution_count": 1,
   "metadata": {
    "colab": {
     "base_uri": "https://localhost:8080/",
     "height": 35
    },
    "executionInfo": {
     "elapsed": 10,
     "status": "ok",
     "timestamp": 1688438728241,
     "user": {
      "displayName": "Ayub Indra",
      "userId": "11567623462666320598"
     },
     "user_tz": -420
    },
    "id": "FD5OVwDqoAce",
    "outputId": "6a048705-d277-4001-9d12-cf4ce6799662"
   },
   "outputs": [
    {
     "data": {
      "text/plain": [
       "'Benar'"
      ]
     },
     "execution_count": 1,
     "metadata": {},
     "output_type": "execute_result"
    }
   ],
   "source": [
    "\"Benar\" or 'Salah'"
   ]
  },
  {
   "cell_type": "code",
   "execution_count": 2,
   "metadata": {
    "colab": {
     "base_uri": "https://localhost:8080/"
    },
    "executionInfo": {
     "elapsed": 329,
     "status": "ok",
     "timestamp": 1689261603227,
     "user": {
      "displayName": "M ridho_account",
      "userId": "00944093947512696093"
     },
     "user_tz": -420
    },
    "id": "OdTbFPYWg9kv",
    "outputId": "2e0fbea9-14d9-4c74-dbdc-0f5179f6c92b"
   },
   "outputs": [
    {
     "name": "stdout",
     "output_type": "stream",
     "text": [
      "t\n",
      "a\n"
     ]
    }
   ],
   "source": [
    "print(\"Muhamad Petra Piyunandra\"[10])\n",
    "print(\"Muhamad Pettra Piyunandra\"[-20])"
   ]
  },
  {
   "cell_type": "markdown",
   "metadata": {
    "id": "HJM61Rdjh0cD"
   },
   "source": [
    "## Create String"
   ]
  },
  {
   "cell_type": "markdown",
   "metadata": {},
   "source": [
    "Dengan tanda kutip tunggal"
   ]
  },
  {
   "cell_type": "code",
   "execution_count": 3,
   "metadata": {},
   "outputs": [
    {
     "name": "stdout",
     "output_type": "stream",
     "text": [
      "String dengan tanda kutip tunggal: \n",
      "Selamat datang di Universitas Negeri Yogyakarta\n"
     ]
    }
   ],
   "source": [
    "string1 = 'Selamat datang di Universitas Negeri Yogyakarta'\n",
    "print(\"String dengan tanda kutip tunggal: \")\n",
    "print(string1)"
   ]
  },
  {
   "cell_type": "markdown",
   "metadata": {},
   "source": [
    "Dengan tanda kutip ganda"
   ]
  },
  {
   "cell_type": "code",
   "execution_count": 4,
   "metadata": {},
   "outputs": [
    {
     "name": "stdout",
     "output_type": "stream",
     "text": [
      "String dengan tanda kutip ganda: \n",
      "Saya Andra\n"
     ]
    }
   ],
   "source": [
    "string2 = \"Saya Andra\"\n",
    "print(\"String dengan tanda kutip ganda: \")\n",
    "print(string2)"
   ]
  },
  {
   "cell_type": "markdown",
   "metadata": {},
   "source": [
    "Dengan tanda kutip tiga"
   ]
  },
  {
   "cell_type": "code",
   "execution_count": 5,
   "metadata": {},
   "outputs": [
    {
     "name": "stdout",
     "output_type": "stream",
     "text": [
      "String dengan tanda kutip tiga: \n",
      "Saya mahasiswa Matematika dan tertarik dengan apapun berkaitan dengan \"data\"\n"
     ]
    }
   ],
   "source": [
    "string3 = '''Saya mahasiswa Matematika dan tertarik dengan apapun berkaitan dengan \"data\"'''\n",
    "print(\"String dengan tanda kutip tiga: \")\n",
    "print(string3)"
   ]
  },
  {
   "cell_type": "code",
   "execution_count": 6,
   "metadata": {},
   "outputs": [
    {
     "name": "stdout",
     "output_type": "stream",
     "text": [
      "Saya ingin berbicara tentang, berapa gaji di pekerjaan \"Analis Data\"\n"
     ]
    }
   ],
   "source": [
    "string4 = '''Saya ingin berbicara tentang, berapa gaji di pekerjaan \"Analis Data\"'''\n",
    "print(string4)"
   ]
  },
  {
   "cell_type": "markdown",
   "metadata": {},
   "source": [
    "Dengan tanda kutip tiga yang memungkinkan multibaris"
   ]
  },
  {
   "cell_type": "code",
   "execution_count": 7,
   "metadata": {},
   "outputs": [
    {
     "name": "stdout",
     "output_type": "stream",
     "text": [
      "Membuat String multibaris: \n",
      "\n",
      "Matematika\n",
      "Adalah\n",
      "Suatu\n",
      "Keindahan\n",
      "\n"
     ]
    }
   ],
   "source": [
    "string5 = '''\n",
    "Matematika\n",
    "Adalah\n",
    "Suatu\n",
    "Keindahan\n",
    "'''\n",
    "print(\"Membuat String multibaris: \")\n",
    "print(string5)"
   ]
  },
  {
   "cell_type": "code",
   "execution_count": 8,
   "metadata": {},
   "outputs": [
    {
     "name": "stdout",
     "output_type": "stream",
     "text": [
      "\n",
      "Muhamad \n",
      "Petra\n",
      "Piyunandra\n",
      "\n"
     ]
    }
   ],
   "source": [
    "string6 = '''\n",
    "Muhamad \n",
    "Petra\n",
    "Piyunandra\n",
    "'''\n",
    "print(string6)"
   ]
  },
  {
   "cell_type": "markdown",
   "metadata": {
    "id": "8MfAwXKBxv1c"
   },
   "source": [
    "# Akses Karakter dalam String Python"
   ]
  },
  {
   "cell_type": "code",
   "execution_count": 9,
   "metadata": {
    "colab": {
     "base_uri": "https://localhost:8080/"
    },
    "executionInfo": {
     "elapsed": 636,
     "status": "ok",
     "timestamp": 1680688763779,
     "user": {
      "displayName": "Dadan Rahmat Maulana",
      "userId": "12258131335967819548"
     },
     "user_tz": -420
    },
    "id": "2G9uKP45p42K",
    "outputId": "36459f0c-458c-4053-ff47-41f6df7270b6"
   },
   "outputs": [
    {
     "name": "stdout",
     "output_type": "stream",
     "text": [
      "Initial String: \n",
      "Matematika\n",
      "Karakter pertama dari string adalah: \n",
      "M\n",
      "Karakter terakhir dari string adalah: \n",
      "a\n"
     ]
    }
   ],
   "source": [
    "string7 = \"Matematika\"\n",
    "print(\"Initial String: \")\n",
    "print(string7)\n",
    "\n",
    "# Print karakter pertama\n",
    "print(\"Karakter pertama dari string adalah: \")\n",
    "print(string7[0])\n",
    "\n",
    "# Print karaketer terakhir\n",
    "print(\"Karakter terakhir dari string adalah: \")\n",
    "print(string7[-1])"
   ]
  },
  {
   "cell_type": "markdown",
   "metadata": {
    "id": "EvdjJfK9l9Nq"
   },
   "source": [
    "## Reverse (membalikan) String"
   ]
  },
  {
   "cell_type": "markdown",
   "metadata": {
    "id": "IicxJ-r4mL3S"
   },
   "source": [
    "Dengan Mengakses Karakter dari sebuah string, kita juga dapat membalikkannya. Kita dapat Membalikkan string dengan menulis [::-1] dan string akan dibalik."
   ]
  },
  {
   "cell_type": "code",
   "execution_count": 10,
   "metadata": {
    "colab": {
     "base_uri": "https://localhost:8080/"
    },
    "executionInfo": {
     "elapsed": 12,
     "status": "ok",
     "timestamp": 1678494887134,
     "user": {
      "displayName": "Aditya Pramana putra",
      "userId": "16321676382628062029"
     },
     "user_tz": -420
    },
    "id": "kAYsNPBsl_NG",
    "outputId": "ffdfd4b7-a7c7-4072-c642-f7c4d3096ad4"
   },
   "outputs": [
    {
     "name": "stdout",
     "output_type": "stream",
     "text": [
      "akitametam\n",
      "andra\n",
      "irahgasuf oppah amihsokoy amihsakas\n"
     ]
    }
   ],
   "source": [
    "mtk = \"matematika\"\n",
    "print(mtk[::-1])\n",
    "\n",
    "balik_nama = \"ardna\"\n",
    "print(balik_nama[::-1])\n",
    "\n",
    "jurus = \"Sakashima Yokoshima Happo Fusaghari\"\n",
    "print((jurus[::-1]).lower())"
   ]
  },
  {
   "cell_type": "markdown",
   "metadata": {},
   "source": [
    "Reverse string menggunakan fungsi reversed dan join"
   ]
  },
  {
   "cell_type": "code",
   "execution_count": 11,
   "metadata": {
    "colab": {
     "base_uri": "https://localhost:8080/"
    },
    "executionInfo": {
     "elapsed": 12,
     "status": "ok",
     "timestamp": 1678494994012,
     "user": {
      "displayName": "Aditya Pramana putra",
      "userId": "16321676382628062029"
     },
     "user_tz": -420
    },
    "id": "mVQAi9Dim3vs",
    "outputId": "769e8ecd-efb8-43c1-b7fb-5cac47a0d17b"
   },
   "outputs": [
    {
     "name": "stdout",
     "output_type": "stream",
     "text": [
      "akitametam\n",
      "andra\n"
     ]
    }
   ],
   "source": [
    "mtk = \"\".join(reversed(mtk))\n",
    "print(mtk)\n",
    "\n",
    "balik_nama = \"ardna\"\n",
    "balik_nama = \"\".join(reversed(balik_nama))\n",
    "print(balik_nama)\n"
   ]
  },
  {
   "cell_type": "markdown",
   "metadata": {
    "id": "g1JBN8eFn_gB"
   },
   "source": [
    "## String Slicing"
   ]
  },
  {
   "cell_type": "markdown",
   "metadata": {
    "id": "EFXQS3-woFd7"
   },
   "source": [
    "Untuk mengakses berbagai karakter dalam String, metode slicing digunakan. Mengiris dalam sebuah String dilakukan dengan menggunakan operator Slicing (titik dua)."
   ]
  },
  {
   "cell_type": "markdown",
   "metadata": {},
   "source": [
    "Membuat string"
   ]
  },
  {
   "cell_type": "code",
   "execution_count": 12,
   "metadata": {},
   "outputs": [
    {
     "name": "stdout",
     "output_type": "stream",
     "text": [
      "String Lengkap: \n",
      "Muhamad Petra Piyunandra\n"
     ]
    }
   ],
   "source": [
    "nama = \"Muhamad Petra Piyunandra\"\n",
    "print(\"String Lengkap: \")\n",
    "print(nama)"
   ]
  },
  {
   "cell_type": "markdown",
   "metadata": {},
   "source": [
    "Print karakter 3 hingga 12"
   ]
  },
  {
   "cell_type": "code",
   "execution_count": 13,
   "metadata": {},
   "outputs": [
    {
     "name": "stdout",
     "output_type": "stream",
     "text": [
      "Slicing karakter dari 3-12: \n",
      "hamad Petr\n"
     ]
    }
   ],
   "source": [
    "print(\"Slicing karakter dari 3-12: \")\n",
    "print(nama[2:12])"
   ]
  },
  {
   "cell_type": "markdown",
   "metadata": {},
   "source": [
    "Print karakter ke 3 dan karakter ke 2 yang akhir"
   ]
  },
  {
   "cell_type": "code",
   "execution_count": 14,
   "metadata": {},
   "outputs": [
    {
     "name": "stdout",
     "output_type": "stream",
     "text": [
      "Slicing karakter antara karakter ke 3 dan karakter ke 2 yang akhir: \n",
      "amad Petra Piyunandr\n"
     ]
    }
   ],
   "source": [
    "print(\"Slicing karakter antara \" +\n",
    "\t\"karakter ke 3 dan karakter ke 2 yang akhir: \")\n",
    "print(nama[3:-1])"
   ]
  },
  {
   "cell_type": "code",
   "execution_count": 15,
   "metadata": {
    "colab": {
     "base_uri": "https://localhost:8080/"
    },
    "executionInfo": {
     "elapsed": 305,
     "status": "ok",
     "timestamp": 1689262160897,
     "user": {
      "displayName": "M ridho_account",
      "userId": "00944093947512696093"
     },
     "user_tz": -420
    },
    "id": "3YYxTTR5oBrg",
    "outputId": "3254bcb5-0800-4252-ba02-1846e742c146"
   },
   "outputs": [
    {
     "name": "stdout",
     "output_type": "stream",
     "text": [
      "a\n",
      "Muhamad Petra Piyunandra\n"
     ]
    }
   ],
   "source": [
    "print(nama[-1])\n",
    "print(nama[:])"
   ]
  },
  {
   "cell_type": "markdown",
   "metadata": {
    "id": "aBelpviLyl0B"
   },
   "source": [
    "## Delete and Update String"
   ]
  },
  {
   "cell_type": "markdown",
   "metadata": {
    "id": "YjQFL16bs5NW"
   },
   "source": [
    "## Update Character"
   ]
  },
  {
   "cell_type": "code",
   "execution_count": 16,
   "metadata": {},
   "outputs": [
    {
     "name": "stdout",
     "output_type": "stream",
     "text": [
      "String Lengkap: \n",
      "MUHAMAD PETRA PIYUNANDRA\n"
     ]
    }
   ],
   "source": [
    "stringlengkap = \"MUHAMAD PETRA PIYUNANDRA\"\n",
    "print(\"String Lengkap: \")\n",
    "print(stringlengkap)"
   ]
  },
  {
   "cell_type": "markdown",
   "metadata": {},
   "source": [
    "Karena string Python bersifat immutable, string tersebut tidak mendukung pembaruan item secara langsung. Ada dua cara berikut:"
   ]
  },
  {
   "cell_type": "markdown",
   "metadata": {},
   "source": [
    "Cara 1"
   ]
  },
  {
   "cell_type": "code",
   "execution_count": 17,
   "metadata": {},
   "outputs": [
    {
     "name": "stdout",
     "output_type": "stream",
     "text": [
      "['M', 'U', 'H', 'A', 'M', 'A', 'D', ' ', 'P', 'E', 'T', 'R', 'A', ' ', 'P', 'I', 'Y', 'U', 'N', 'A', 'N', 'D', 'R', 'A']\n",
      "<class 'list'>\n",
      "Memperbarui karakter pada Indeks ke-2: \n",
      "MUHAYAD PETRA PIYUNANDRA\n",
      "<class 'str'>\n"
     ]
    }
   ],
   "source": [
    "list1 = list(stringlengkap)\n",
    "print(list1)\n",
    "print(type(list1))\n",
    "list1[4] = 'Y'\n",
    "String2 = ''.join(list1)\n",
    "print(\"Memperbarui karakter pada Indeks ke-2: \")\n",
    "print(String2)\n",
    "print(type(String2))"
   ]
  },
  {
   "cell_type": "markdown",
   "metadata": {},
   "source": [
    "Cara 2"
   ]
  },
  {
   "cell_type": "code",
   "execution_count": 18,
   "metadata": {},
   "outputs": [
    {
     "name": "stdout",
     "output_type": "stream",
     "text": [
      "MUHAYAD PETRA PIYUNANDRA\n"
     ]
    }
   ],
   "source": [
    "String3 = stringlengkap[0:4] + 'Y' + stringlengkap[5:]\n",
    "print(String3)"
   ]
  },
  {
   "cell_type": "markdown",
   "metadata": {
    "id": "QZIYZAA5twAT"
   },
   "source": [
    "## Update Seluruh String"
   ]
  },
  {
   "cell_type": "code",
   "execution_count": 19,
   "metadata": {
    "colab": {
     "base_uri": "https://localhost:8080/"
    },
    "id": "dWI41gq-s_J-",
    "outputId": "59c68613-7ef2-4967-a246-05c0ec0c9efe"
   },
   "outputs": [
    {
     "name": "stdout",
     "output_type": "stream",
     "text": [
      "Sebelum diubah: \n",
      "Hello, I'm Andra\n",
      "Setelah diubah: \n",
      "Selamat datang di Indonesia\n"
     ]
    }
   ],
   "source": [
    "sebelum = \"Hello, I'm Andra\"\n",
    "print(\"Sebelum diubah: \")\n",
    "print(sebelum)\n",
    "\n",
    "# Update string\n",
    "sesudah = \"Selamat datang di Indonesia\"\n",
    "print(\"Setelah diubah: \")\n",
    "print(sesudah)"
   ]
  },
  {
   "cell_type": "markdown",
   "metadata": {
    "id": "jyfGK7Dut-l2"
   },
   "source": [
    "## Delete Character"
   ]
  },
  {
   "cell_type": "code",
   "execution_count": 20,
   "metadata": {},
   "outputs": [
    {
     "name": "stdout",
     "output_type": "stream",
     "text": [
      "String Lengkap: \n",
      "MUHAMAD PETRA PIYUNANDRA\n"
     ]
    }
   ],
   "source": [
    "stringlengkap = \"MUHAMAD PETRA PIYUNANDRA\"\n",
    "print(\"String Lengkap: \")\n",
    "print(stringlengkap)"
   ]
  },
  {
   "cell_type": "markdown",
   "metadata": {},
   "source": [
    "Menghapus string"
   ]
  },
  {
   "cell_type": "code",
   "execution_count": 21,
   "metadata": {
    "colab": {
     "base_uri": "https://localhost:8080/"
    },
    "executionInfo": {
     "elapsed": 448,
     "status": "ok",
     "timestamp": 1678495539447,
     "user": {
      "displayName": "Aditya Pramana putra",
      "userId": "16321676382628062029"
     },
     "user_tz": -420
    },
    "id": "6SrGj9iXt3Vt",
    "outputId": "1ab685d6-b73d-4012-8b56-6371792806a0"
   },
   "outputs": [
    {
     "name": "stdout",
     "output_type": "stream",
     "text": [
      "Menghapus karakter indeks ke-2: \n",
      "MHAMAD PETRA PIYUNANDRA\n"
     ]
    }
   ],
   "source": [
    "hapus2 = stringlengkap[0:1] + stringlengkap[2:]\n",
    "print(\"Menghapus karakter indeks ke-2: \")\n",
    "print(hapus2)"
   ]
  },
  {
   "cell_type": "markdown",
   "metadata": {
    "id": "BxsvUsRouiXB"
   },
   "source": [
    "## Menghapus Seluruh String"
   ]
  },
  {
   "cell_type": "code",
   "execution_count": 22,
   "metadata": {},
   "outputs": [
    {
     "name": "stdout",
     "output_type": "stream",
     "text": [
      "String Lengkap: \n",
      "MUHAMAD PETRA PIYUNANDRA\n"
     ]
    }
   ],
   "source": [
    "stringlengkap = \"MUHAMAD PETRA PIYUNANDRA\"\n",
    "print(\"String Lengkap: \")\n",
    "print(stringlengkap)"
   ]
  },
  {
   "cell_type": "markdown",
   "metadata": {},
   "source": [
    "Menghapus menggunakan __del__"
   ]
  },
  {
   "cell_type": "code",
   "execution_count": 23,
   "metadata": {
    "colab": {
     "base_uri": "https://localhost:8080/",
     "height": 276
    },
    "id": "shSLxlX1uG6x",
    "outputId": "c110a0a7-7396-4aff-fef0-27e0aacc51f3"
   },
   "outputs": [
    {
     "name": "stdout",
     "output_type": "stream",
     "text": [
      "Menghapus seluruh string: hasilnya error\n"
     ]
    },
    {
     "ename": "NameError",
     "evalue": "name 'stringlengkap' is not defined",
     "output_type": "error",
     "traceback": [
      "\u001b[1;31m---------------------------------------------------------------------------\u001b[0m",
      "\u001b[1;31mNameError\u001b[0m                                 Traceback (most recent call last)",
      "Cell \u001b[1;32mIn[23], line 3\u001b[0m\n\u001b[0;32m      1\u001b[0m \u001b[38;5;28;01mdel\u001b[39;00m stringlengkap\n\u001b[0;32m      2\u001b[0m \u001b[38;5;28mprint\u001b[39m(\u001b[38;5;124m\"\u001b[39m\u001b[38;5;124mMenghapus seluruh string: hasilnya error\u001b[39m\u001b[38;5;124m\"\u001b[39m)\n\u001b[1;32m----> 3\u001b[0m \u001b[38;5;28mprint\u001b[39m(stringlengkap)\n",
      "\u001b[1;31mNameError\u001b[0m: name 'stringlengkap' is not defined"
     ]
    }
   ],
   "source": [
    "del stringlengkap\n",
    "print(\"Menghapus seluruh string: hasilnya error\")\n",
    "print(stringlengkap)\n"
   ]
  },
  {
   "cell_type": "markdown",
   "metadata": {
    "id": "74XYTwmxwJqF"
   },
   "source": [
    "# Escape Sequence in Python\n",
    "\n",
    "Escape sequence adalah karakter khusus yang digunakan dalam string untuk menunjukkan bahwa karakter berikutnya memiliki arti khusus, bukan sekadar huruf biasa. Escape sequence selalu diawali dengan backslash `\\`."
   ]
  },
  {
   "cell_type": "code",
   "execution_count": 24,
   "metadata": {},
   "outputs": [
    {
     "name": "stdout",
     "output_type": "stream",
     "text": [
      "String dengan tiga kutipan: \n",
      "I'm \"Smart\"\n"
     ]
    }
   ],
   "source": [
    "String1 = '''I'm \"Smart\"'''\n",
    "print(\"String dengan tiga kutipan: \")\n",
    "print(String1)"
   ]
  },
  {
   "cell_type": "markdown",
   "metadata": {},
   "source": [
    "#### Escape dengan kutipan tunggal"
   ]
  },
  {
   "cell_type": "code",
   "execution_count": 25,
   "metadata": {},
   "outputs": [
    {
     "name": "stdout",
     "output_type": "stream",
     "text": [
      "Escaping Single Quote: \n",
      "I'm very \"tired\" with you\n"
     ]
    }
   ],
   "source": [
    "String1 = 'I\\'m very \"tired\" with you'\n",
    "print(\"Escaping Single Quote: \")\n",
    "print(String1)\n"
   ]
  },
  {
   "cell_type": "markdown",
   "metadata": {},
   "source": [
    "#### Escape dengan kutipan ganda"
   ]
  },
  {
   "cell_type": "code",
   "execution_count": 26,
   "metadata": {},
   "outputs": [
    {
     "name": "stdout",
     "output_type": "stream",
     "text": [
      "Escaping Double Quotes: \n",
      "I'm very \"Tired\" with you\n"
     ]
    }
   ],
   "source": [
    "String1 = \"I'm very \\\"Tired\\\" with you\"\n",
    "print(\"Escaping Double Quotes: \")       #note : kasih tanda \\ dulu baru tanda yang ingin kita tetapkan\n",
    "print(String1)"
   ]
  },
  {
   "cell_type": "markdown",
   "metadata": {},
   "source": [
    "#### Print path dengan barisan escape"
   ]
  },
  {
   "cell_type": "code",
   "execution_count": 27,
   "metadata": {},
   "outputs": [
    {
     "name": "stdout",
     "output_type": "stream",
     "text": [
      "Escaping Backslashes: \n",
      "C: Https:\\\\Andra\\\\Channel\\\\.com\n"
     ]
    }
   ],
   "source": [
    "String1 = \"C: Https:\\\\\\Andra\\\\\\Channel\\\\\\.com\"\n",
    "print(\"Escaping Backslashes: \")\n",
    "print(String1)"
   ]
  },
  {
   "cell_type": "markdown",
   "metadata": {},
   "source": [
    "#### Print path dengan tab"
   ]
  },
  {
   "cell_type": "code",
   "execution_count": 28,
   "metadata": {},
   "outputs": [
    {
     "name": "stdout",
     "output_type": "stream",
     "text": [
      "Tab: \n",
      "Note:\t Jika ada sesuatu..\n"
     ]
    }
   ],
   "source": [
    "String1 = \"Note:\\t Jika ada sesuatu..\"\n",
    "print(\"Tab: \")\n",
    "print(String1)"
   ]
  },
  {
   "cell_type": "markdown",
   "metadata": {},
   "source": [
    "#### Print path dengan baris baru"
   ]
  },
  {
   "cell_type": "code",
   "execution_count": 29,
   "metadata": {
    "colab": {
     "base_uri": "https://localhost:8080/"
    },
    "executionInfo": {
     "elapsed": 361,
     "status": "ok",
     "timestamp": 1678496065913,
     "user": {
      "displayName": "Aditya Pramana putra",
      "userId": "16321676382628062029"
     },
     "user_tz": -420
    },
    "id": "V822VJycutDh",
    "outputId": "651b2c1b-429c-4c1a-dabd-f4c034efb969"
   },
   "outputs": [
    {
     "name": "stdout",
     "output_type": "stream",
     "text": [
      "New Line: \n",
      "Nama\n",
      "NIM\n"
     ]
    }
   ],
   "source": [
    "String1 = \"Nama\\nNIM\"\n",
    "print(\"New Line: \")\n",
    "print(String1)"
   ]
  },
  {
   "cell_type": "markdown",
   "metadata": {},
   "source": [
    "##### Ringkasan Escape Sequence Umum\n",
    "| Escape | Makna                    |\n",
    "| ------ | ------------------------ |\n",
    "| `\\'`   | Tanda kutip tunggal      |\n",
    "| `\\\"`   | Tanda kutip ganda        |\n",
    "| `\\\\`   | Tanda backslash          |\n",
    "| `\\n`   | Baris baru (newline)     |\n",
    "| `\\t`   | Tab (spasi lebar)        |\n",
    "| `\\r`   | Carriage return (langka) |\n",
    "| `\\b`   | Backspace                |\n"
   ]
  },
  {
   "cell_type": "markdown",
   "metadata": {
    "id": "4D0qD1N2zCNV"
   },
   "source": [
    "# Formatting in String\n",
    "String formatting memungkinkan Anda untuk menyisipkan nilai variabel atau teks tertentu ke dalam sebuah string dengan tata urutan atau nama yang dapat dikendalikan. Python menyediakan beberapa cara, dan .format() adalah salah satu metode klasik yang sangat fleksibel."
   ]
  },
  {
   "cell_type": "markdown",
   "metadata": {},
   "source": [
    "#### Urutan biasa"
   ]
  },
  {
   "cell_type": "code",
   "execution_count": 30,
   "metadata": {},
   "outputs": [
    {
     "name": "stdout",
     "output_type": "stream",
     "text": [
      "Print string dengan urutan biasa: \n",
      "Matematika untuk Kehidupan\n"
     ]
    }
   ],
   "source": [
    "String1 = \"{} {} {}\".format('Matematika', 'untuk', 'Kehidupan')\n",
    "print(\"Print string dengan urutan biasa: \")\n",
    "print(String1)"
   ]
  },
  {
   "cell_type": "code",
   "execution_count": 31,
   "metadata": {},
   "outputs": [
    {
     "name": "stdout",
     "output_type": "stream",
     "text": [
      "Muhamad Petra Piyunandra\n"
     ]
    }
   ],
   "source": [
    "nama_gw = \"{} {} {}\".format('Muhamad','Petra','Piyunandra')\n",
    "print(nama_gw)"
   ]
  },
  {
   "cell_type": "markdown",
   "metadata": {},
   "source": [
    "#### Positional Formatting"
   ]
  },
  {
   "cell_type": "code",
   "execution_count": 32,
   "metadata": {},
   "outputs": [
    {
     "name": "stdout",
     "output_type": "stream",
     "text": [
      "Print string dengan urutan positional: \n",
      "untuk Matematika Kehidupan\n"
     ]
    }
   ],
   "source": [
    "String1 = \"{1} {0} {2}\".format('Matematika', 'untuk', 'Kehidupan')\n",
    "print(\"Print string dengan urutan positional: \")\n",
    "print(String1)"
   ]
  },
  {
   "cell_type": "code",
   "execution_count": 33,
   "metadata": {},
   "outputs": [
    {
     "name": "stdout",
     "output_type": "stream",
     "text": [
      "Piyunandra Petra Muhamad\n"
     ]
    }
   ],
   "source": [
    "nama_gw = \"{2} {1} {0}\".format('Muhamad','Petra','Piyunandra')\n",
    "print(nama_gw)"
   ]
  },
  {
   "cell_type": "markdown",
   "metadata": {},
   "source": [
    "#### Keyword Formatting"
   ]
  },
  {
   "cell_type": "code",
   "execution_count": 34,
   "metadata": {},
   "outputs": [
    {
     "name": "stdout",
     "output_type": "stream",
     "text": [
      "Print string dengan urutan keyword: \n",
      "Kehidupan untuk Matematika\n"
     ]
    }
   ],
   "source": [
    "String1 = \"{k} {u} {m}\".format(m='Matematika', u='untuk', k='Kehidupan')\n",
    "print(\"Print string dengan urutan keyword: \")\n",
    "print(String1)"
   ]
  },
  {
   "cell_type": "code",
   "execution_count": 35,
   "metadata": {},
   "outputs": [
    {
     "name": "stdout",
     "output_type": "stream",
     "text": [
      "Muhamad Petra Petra\n"
     ]
    }
   ],
   "source": [
    "nama_gw = \"{m} {p} {p}\".format(m='Muhamad',p='Petra',pp='Piyunandra')\n",
    "print(nama_gw)"
   ]
  },
  {
   "cell_type": "markdown",
   "metadata": {},
   "source": [
    "* Ringkasan Formatting String\n",
    "\n",
    "| Teknik           | Contoh                           | Keterangan              |\n",
    "| ---------------- | -------------------------------- | ----------------------- |\n",
    "| Default order    | `\"{} {}\".format('A', 'B')`       | Diisi sesuai urutan     |\n",
    "| Positional index | `\"{1} {0}\".format('A', 'B')`     | Bisa tukar posisi isian |\n",
    "| Keyword          | `\"{x} {y}\".format(x='A', y='B')` | Nama sebagai rujukan    |"
   ]
  },
  {
   "cell_type": "markdown",
   "metadata": {
    "id": "3On9m0cEzoU_"
   },
   "source": [
    "#### Format Bilangan Bulat (Integer)\n",
    "Bilangan bulat seperti Biner, heksadesimal, dll., dan float dapat dibulatkan atau ditampilkan dalam bentuk eksponen dengan menggunakan penentu format."
   ]
  },
  {
   "cell_type": "code",
   "execution_count": 36,
   "metadata": {},
   "outputs": [
    {
     "name": "stdout",
     "output_type": "stream",
     "text": [
      "Representasi biner dari 100 adalah \n",
      "1100100\n"
     ]
    }
   ],
   "source": [
    "String1 = \"{0:b}\".format(100)\n",
    "print(\"Representasi biner dari 100 adalah \")\n",
    "print(String1)"
   ]
  },
  {
   "cell_type": "markdown",
   "metadata": {},
   "source": [
    "#### Format Float"
   ]
  },
  {
   "cell_type": "code",
   "execution_count": 37,
   "metadata": {},
   "outputs": [
    {
     "name": "stdout",
     "output_type": "stream",
     "text": [
      "Representasi eksponensial dari 165.6458 adalah \n",
      "1.656458e+02\n"
     ]
    }
   ],
   "source": [
    "String1 = \"{0:e}\".format(165.6458)\n",
    "print(\"Representasi eksponensial dari 165.6458 adalah \")\n",
    "print(String1)"
   ]
  },
  {
   "cell_type": "markdown",
   "metadata": {},
   "source": [
    "#### Pembulatan biilangan bulat"
   ]
  },
  {
   "cell_type": "code",
   "execution_count": 38,
   "metadata": {
    "colab": {
     "base_uri": "https://localhost:8080/"
    },
    "executionInfo": {
     "elapsed": 368,
     "status": "ok",
     "timestamp": 1678496333610,
     "user": {
      "displayName": "Aditya Pramana putra",
      "userId": "16321676382628062029"
     },
     "user_tz": -420
    },
    "id": "5lRNqh6-zj8b",
    "outputId": "a074c89f-81d4-499e-a7ef-127f1eeb2e4f"
   },
   "outputs": [
    {
     "name": "stdout",
     "output_type": "stream",
     "text": [
      "Pembulatan bilangan 23/400 adalah: \n",
      "0.06\n"
     ]
    }
   ],
   "source": [
    "String1 = \"{0:.2f}\".format(23/400)\n",
    "print(\"Pembulatan bilangan 23/400 adalah: \")\n",
    "print(String1)"
   ]
  },
  {
   "cell_type": "markdown",
   "metadata": {
    "id": "lJ_poP1Gz0Lp"
   },
   "source": [
    "#### Alignment (Perataan)\n",
    "Sebuah string dapat kiri () atau tengah (^) dibenarkan dengan penggunaan penentu format, dipisahkan oleh titik dua (:)."
   ]
  },
  {
   "cell_type": "code",
   "execution_count": 39,
   "metadata": {},
   "outputs": [
    {
     "name": "stdout",
     "output_type": "stream",
     "text": [
      "Alignment kiri, tengah dan kanan dengan formatting: \n",
      "|Matematika|sangat|Mudah|\n"
     ]
    }
   ],
   "source": [
    "String1 = \"|{:<4}|{:^2}|{:<4}|\".format('Matematika','sangat','Mudah')\n",
    "print(\"Alignment kiri, tengah dan kanan dengan formatting: \")\n",
    "print(String1)"
   ]
  },
  {
   "cell_type": "markdown",
   "metadata": {},
   "source": [
    "#### Demontrasi alignment spasi"
   ]
  },
  {
   "cell_type": "code",
   "execution_count": 40,
   "metadata": {
    "colab": {
     "base_uri": "https://localhost:8080/"
    },
    "executionInfo": {
     "elapsed": 13,
     "status": "ok",
     "timestamp": 1678496512995,
     "user": {
      "displayName": "Aditya Pramana putra",
      "userId": "16321676382628062029"
     },
     "user_tz": -420
    },
    "id": "qZe1EQxpzwCP",
    "outputId": "58439148-ca74-413a-c93b-df42e60dd399"
   },
   "outputs": [
    {
     "name": "stdout",
     "output_type": "stream",
     "text": [
      "   Indonesia     merdeka pada tahun 1945!\n"
     ]
    }
   ],
   "source": [
    "String1 = \"{0:^16} merdeka pada tahun {1:<4}!\".format(\"Indonesia\", 1945)\n",
    "print(String1)"
   ]
  },
  {
   "cell_type": "markdown",
   "metadata": {
    "id": "OwQcbfGW0V6l"
   },
   "source": [
    "#### Format Angka dengan % (Printf-style)\n",
    "* Pemformatan gaya lama dilakukan tanpa menggunakan metode format dengan menggunakan % operator\n",
    "* %3.2f → 3 karakter total, 2 desimal\n",
    "* %1.1fd → 1 angka total, 1 desimal\n",
    "* %3.3f → 3 angka total, 3 desimal"
   ]
  },
  {
   "cell_type": "code",
   "execution_count": 41,
   "metadata": {
    "colab": {
     "base_uri": "https://localhost:8080/"
    },
    "executionInfo": {
     "elapsed": 364,
     "status": "ok",
     "timestamp": 1678496982227,
     "user": {
      "displayName": "Aditya Pramana putra",
      "userId": "16321676382628062029"
     },
     "user_tz": -420
    },
    "id": "tzfg-bVZ0EFL",
    "outputId": "e6ace4c6-2a59-4e56-f086-d7244d5eae84"
   },
   "outputs": [
    {
     "name": "stdout",
     "output_type": "stream",
     "text": [
      "Pemformatan dalam format 3.2f: \n",
      "Nilai Integer1 adalah 12.35\n",
      "Pemformatan dalam format 3.4f: \n",
      "Nilai Integer1 adalah 12.3\n",
      "Nilai Integer1 adalah 12.346\n"
     ]
    }
   ],
   "source": [
    "Integer1 = 12.3456789\n",
    "print(\"Pemformatan dalam format 3.2f: \")\n",
    "print('Nilai Integer1 adalah %3.2f' % Integer1)\n",
    "print(\"Pemformatan dalam format 3.4f: \")\n",
    "print('Nilai Integer1 adalah %1.1f' % Integer1)\n",
    "print('Nilai Integer1 adalah %3.3f' % Integer1)"
   ]
  },
  {
   "cell_type": "markdown",
   "metadata": {},
   "source": [
    "__end=\"\\r\"__ → Kembali ke awal baris, menimpa teks sebelumnya. Jadi hasil akhir akan tampak:"
   ]
  },
  {
   "cell_type": "code",
   "execution_count": 42,
   "metadata": {},
   "outputs": [
    {
     "name": "stdout",
     "output_type": "stream",
     "text": [
      "Ini adalah baris pertama.\n",
      "Apa benarh baris kedua.\n"
     ]
    }
   ],
   "source": [
    "print(\"Ini adalah baris pertama.\")\n",
    "print(\"Ini adalah baris kedua.\", end=\"\\r\")\n",
    "print(\"Apa benar\")"
   ]
  },
  {
   "cell_type": "code",
   "execution_count": null,
   "metadata": {},
   "outputs": [],
   "source": []
  }
 ],
 "metadata": {
  "colab": {
   "provenance": []
  },
  "kernelspec": {
   "display_name": "Python 3 (ipykernel)",
   "language": "python",
   "name": "python3"
  },
  "language_info": {
   "codemirror_mode": {
    "name": "ipython",
    "version": 3
   },
   "file_extension": ".py",
   "mimetype": "text/x-python",
   "name": "python",
   "nbconvert_exporter": "python",
   "pygments_lexer": "ipython3",
   "version": "3.13.5"
  }
 },
 "nbformat": 4,
 "nbformat_minor": 4
}
