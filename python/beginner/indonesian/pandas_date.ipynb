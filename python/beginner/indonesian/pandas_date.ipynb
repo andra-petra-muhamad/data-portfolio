{
 "cells": [
  {
   "cell_type": "code",
   "execution_count": 1,
   "metadata": {
    "id": "XMBEEYGl48rT"
   },
   "outputs": [],
   "source": [
    "import numpy as np\n",
    "import pandas as pd\n",
    "import seaborn as sns\n",
    "from datetime import datetime\n",
    "import datetime as dt\n",
    "import matplotlib.pyplot as plt"
   ]
  },
  {
   "cell_type": "code",
   "execution_count": 2,
   "metadata": {
    "id": "EeavUGR054WL"
   },
   "outputs": [],
   "source": [
    "dataset = sns.load_dataset(\"taxis\")"
   ]
  },
  {
   "cell_type": "code",
   "execution_count": 3,
   "metadata": {
    "colab": {
     "base_uri": "https://localhost:8080/",
     "height": 444
    },
    "id": "sfFc-1c657kv",
    "outputId": "9164d693-49e2-4462-c9bd-5a8730e96496"
   },
   "outputs": [
    {
     "data": {
      "text/html": [
       "<div>\n",
       "<style scoped>\n",
       "    .dataframe tbody tr th:only-of-type {\n",
       "        vertical-align: middle;\n",
       "    }\n",
       "\n",
       "    .dataframe tbody tr th {\n",
       "        vertical-align: top;\n",
       "    }\n",
       "\n",
       "    .dataframe thead th {\n",
       "        text-align: right;\n",
       "    }\n",
       "</style>\n",
       "<table border=\"1\" class=\"dataframe\">\n",
       "  <thead>\n",
       "    <tr style=\"text-align: right;\">\n",
       "      <th></th>\n",
       "      <th>pickup</th>\n",
       "      <th>dropoff</th>\n",
       "      <th>passengers</th>\n",
       "      <th>distance</th>\n",
       "      <th>fare</th>\n",
       "      <th>tip</th>\n",
       "      <th>tolls</th>\n",
       "      <th>total</th>\n",
       "      <th>color</th>\n",
       "      <th>payment</th>\n",
       "      <th>pickup_zone</th>\n",
       "      <th>dropoff_zone</th>\n",
       "      <th>pickup_borough</th>\n",
       "      <th>dropoff_borough</th>\n",
       "    </tr>\n",
       "  </thead>\n",
       "  <tbody>\n",
       "    <tr>\n",
       "      <th>0</th>\n",
       "      <td>2019-03-23 20:21:09</td>\n",
       "      <td>2019-03-23 20:27:24</td>\n",
       "      <td>1</td>\n",
       "      <td>1.60</td>\n",
       "      <td>7.0</td>\n",
       "      <td>2.15</td>\n",
       "      <td>0.0</td>\n",
       "      <td>12.95</td>\n",
       "      <td>yellow</td>\n",
       "      <td>credit card</td>\n",
       "      <td>Lenox Hill West</td>\n",
       "      <td>UN/Turtle Bay South</td>\n",
       "      <td>Manhattan</td>\n",
       "      <td>Manhattan</td>\n",
       "    </tr>\n",
       "    <tr>\n",
       "      <th>1</th>\n",
       "      <td>2019-03-04 16:11:55</td>\n",
       "      <td>2019-03-04 16:19:00</td>\n",
       "      <td>1</td>\n",
       "      <td>0.79</td>\n",
       "      <td>5.0</td>\n",
       "      <td>0.00</td>\n",
       "      <td>0.0</td>\n",
       "      <td>9.30</td>\n",
       "      <td>yellow</td>\n",
       "      <td>cash</td>\n",
       "      <td>Upper West Side South</td>\n",
       "      <td>Upper West Side South</td>\n",
       "      <td>Manhattan</td>\n",
       "      <td>Manhattan</td>\n",
       "    </tr>\n",
       "    <tr>\n",
       "      <th>2</th>\n",
       "      <td>2019-03-27 17:53:01</td>\n",
       "      <td>2019-03-27 18:00:25</td>\n",
       "      <td>1</td>\n",
       "      <td>1.37</td>\n",
       "      <td>7.5</td>\n",
       "      <td>2.36</td>\n",
       "      <td>0.0</td>\n",
       "      <td>14.16</td>\n",
       "      <td>yellow</td>\n",
       "      <td>credit card</td>\n",
       "      <td>Alphabet City</td>\n",
       "      <td>West Village</td>\n",
       "      <td>Manhattan</td>\n",
       "      <td>Manhattan</td>\n",
       "    </tr>\n",
       "    <tr>\n",
       "      <th>3</th>\n",
       "      <td>2019-03-10 01:23:59</td>\n",
       "      <td>2019-03-10 01:49:51</td>\n",
       "      <td>1</td>\n",
       "      <td>7.70</td>\n",
       "      <td>27.0</td>\n",
       "      <td>6.15</td>\n",
       "      <td>0.0</td>\n",
       "      <td>36.95</td>\n",
       "      <td>yellow</td>\n",
       "      <td>credit card</td>\n",
       "      <td>Hudson Sq</td>\n",
       "      <td>Yorkville West</td>\n",
       "      <td>Manhattan</td>\n",
       "      <td>Manhattan</td>\n",
       "    </tr>\n",
       "    <tr>\n",
       "      <th>4</th>\n",
       "      <td>2019-03-30 13:27:42</td>\n",
       "      <td>2019-03-30 13:37:14</td>\n",
       "      <td>3</td>\n",
       "      <td>2.16</td>\n",
       "      <td>9.0</td>\n",
       "      <td>1.10</td>\n",
       "      <td>0.0</td>\n",
       "      <td>13.40</td>\n",
       "      <td>yellow</td>\n",
       "      <td>credit card</td>\n",
       "      <td>Midtown East</td>\n",
       "      <td>Yorkville West</td>\n",
       "      <td>Manhattan</td>\n",
       "      <td>Manhattan</td>\n",
       "    </tr>\n",
       "  </tbody>\n",
       "</table>\n",
       "</div>"
      ],
      "text/plain": [
       "               pickup             dropoff  passengers  distance  fare   tip  \\\n",
       "0 2019-03-23 20:21:09 2019-03-23 20:27:24           1      1.60   7.0  2.15   \n",
       "1 2019-03-04 16:11:55 2019-03-04 16:19:00           1      0.79   5.0  0.00   \n",
       "2 2019-03-27 17:53:01 2019-03-27 18:00:25           1      1.37   7.5  2.36   \n",
       "3 2019-03-10 01:23:59 2019-03-10 01:49:51           1      7.70  27.0  6.15   \n",
       "4 2019-03-30 13:27:42 2019-03-30 13:37:14           3      2.16   9.0  1.10   \n",
       "\n",
       "   tolls  total   color      payment            pickup_zone  \\\n",
       "0    0.0  12.95  yellow  credit card        Lenox Hill West   \n",
       "1    0.0   9.30  yellow         cash  Upper West Side South   \n",
       "2    0.0  14.16  yellow  credit card          Alphabet City   \n",
       "3    0.0  36.95  yellow  credit card              Hudson Sq   \n",
       "4    0.0  13.40  yellow  credit card           Midtown East   \n",
       "\n",
       "            dropoff_zone pickup_borough dropoff_borough  \n",
       "0    UN/Turtle Bay South      Manhattan       Manhattan  \n",
       "1  Upper West Side South      Manhattan       Manhattan  \n",
       "2           West Village      Manhattan       Manhattan  \n",
       "3         Yorkville West      Manhattan       Manhattan  \n",
       "4         Yorkville West      Manhattan       Manhattan  "
      ]
     },
     "execution_count": 3,
     "metadata": {},
     "output_type": "execute_result"
    }
   ],
   "source": [
    "dataset.head()"
   ]
  },
  {
   "cell_type": "code",
   "execution_count": 4,
   "metadata": {
    "colab": {
     "base_uri": "https://localhost:8080/"
    },
    "id": "xkGY3KVly99H",
    "outputId": "e260e4be-27b5-4b43-9355-c8a2289e12a5"
   },
   "outputs": [
    {
     "name": "stdout",
     "output_type": "stream",
     "text": [
      "<class 'pandas.core.frame.DataFrame'>\n",
      "RangeIndex: 6433 entries, 0 to 6432\n",
      "Data columns (total 14 columns):\n",
      " #   Column           Non-Null Count  Dtype         \n",
      "---  ------           --------------  -----         \n",
      " 0   pickup           6433 non-null   datetime64[ns]\n",
      " 1   dropoff          6433 non-null   datetime64[ns]\n",
      " 2   passengers       6433 non-null   int64         \n",
      " 3   distance         6433 non-null   float64       \n",
      " 4   fare             6433 non-null   float64       \n",
      " 5   tip              6433 non-null   float64       \n",
      " 6   tolls            6433 non-null   float64       \n",
      " 7   total            6433 non-null   float64       \n",
      " 8   color            6433 non-null   object        \n",
      " 9   payment          6389 non-null   object        \n",
      " 10  pickup_zone      6407 non-null   object        \n",
      " 11  dropoff_zone     6388 non-null   object        \n",
      " 12  pickup_borough   6407 non-null   object        \n",
      " 13  dropoff_borough  6388 non-null   object        \n",
      "dtypes: datetime64[ns](2), float64(5), int64(1), object(6)\n",
      "memory usage: 703.7+ KB\n"
     ]
    }
   ],
   "source": [
    "dataset.info()"
   ]
  },
  {
   "cell_type": "markdown",
   "metadata": {
    "id": "t6GUTVD86oeU"
   },
   "source": [
    "## Mengubah string menjadi date"
   ]
  },
  {
   "cell_type": "code",
   "execution_count": 5,
   "metadata": {
    "colab": {
     "base_uri": "https://localhost:8080/"
    },
    "id": "k6BXiDi36E15",
    "outputId": "2f6a9583-b53d-459d-d688-1de5f2d8e056"
   },
   "outputs": [
    {
     "name": "stdout",
     "output_type": "stream",
     "text": [
      "<class 'pandas.core.frame.DataFrame'>\n",
      "RangeIndex: 6433 entries, 0 to 6432\n",
      "Data columns (total 14 columns):\n",
      " #   Column           Non-Null Count  Dtype         \n",
      "---  ------           --------------  -----         \n",
      " 0   pickup           6433 non-null   datetime64[ns]\n",
      " 1   dropoff          6433 non-null   datetime64[ns]\n",
      " 2   passengers       6433 non-null   int64         \n",
      " 3   distance         6433 non-null   float64       \n",
      " 4   fare             6433 non-null   float64       \n",
      " 5   tip              6433 non-null   float64       \n",
      " 6   tolls            6433 non-null   float64       \n",
      " 7   total            6433 non-null   float64       \n",
      " 8   color            6433 non-null   object        \n",
      " 9   payment          6389 non-null   object        \n",
      " 10  pickup_zone      6407 non-null   object        \n",
      " 11  dropoff_zone     6388 non-null   object        \n",
      " 12  pickup_borough   6407 non-null   object        \n",
      " 13  dropoff_borough  6388 non-null   object        \n",
      "dtypes: datetime64[ns](2), float64(5), int64(1), object(6)\n",
      "memory usage: 703.7+ KB\n"
     ]
    }
   ],
   "source": [
    "dataset = sns.load_dataset(\"taxis\")\n",
    "dataset[\"pickup\"] = pd.to_datetime(dataset[\"pickup\"])\n",
    "dataset[\"dropoff\"] = pd.to_datetime(dataset[\"dropoff\"])\n",
    "dataset.info()"
   ]
  },
  {
   "cell_type": "markdown",
   "metadata": {},
   "source": [
    "Mengonversi waktu kolom dropoff dari waktu naïve (tidak punya timezone) menjadi timezone Asia/Jakarta (WIB)\\\n",
    "Catatan: Ini tidak mengubah nilai asli dataset, hanya menghasilkan output baru."
   ]
  },
  {
   "cell_type": "code",
   "execution_count": 6,
   "metadata": {
    "colab": {
     "base_uri": "https://localhost:8080/"
    },
    "id": "zcdpy5r-zf0u",
    "outputId": "60c472b0-5c84-4ddf-de3a-1aa8ae9c4fac"
   },
   "outputs": [
    {
     "data": {
      "text/plain": [
       "0      2019-03-24 03:27:24+07:00\n",
       "1      2019-03-04 23:19:00+07:00\n",
       "2      2019-03-28 01:00:25+07:00\n",
       "3      2019-03-10 08:49:51+07:00\n",
       "4      2019-03-30 20:37:14+07:00\n",
       "                  ...           \n",
       "6428   2019-03-31 16:55:27+07:00\n",
       "6429   2019-04-01 01:34:23+07:00\n",
       "6430   2019-03-24 06:14:25+07:00\n",
       "6431   2019-03-04 17:14:29+07:00\n",
       "6432   2019-03-14 02:48:02+07:00\n",
       "Name: dropoff, Length: 6433, dtype: datetime64[ns, Asia/Jakarta]"
      ]
     },
     "execution_count": 6,
     "metadata": {},
     "output_type": "execute_result"
    }
   ],
   "source": [
    "dataset[\"dropoff\"].dt.tz_localize(\"UTC\").dt.tz_convert(\"Asia/Jakarta\")"
   ]
  },
  {
   "cell_type": "markdown",
   "metadata": {},
   "source": [
    "Mengubah datetime kolom pickup menjadi periode mingguan (Period), bukan timestamp lagi."
   ]
  },
  {
   "cell_type": "code",
   "execution_count": 17,
   "metadata": {
    "colab": {
     "base_uri": "https://localhost:8080/"
    },
    "id": "NYOOoRC16irt",
    "outputId": "27d84dcc-a7d8-437b-ab33-ca4afca292f5"
   },
   "outputs": [
    {
     "data": {
      "text/plain": [
       "0       2019-03-18/2019-03-24\n",
       "1       2019-03-04/2019-03-10\n",
       "2       2019-03-25/2019-03-31\n",
       "3       2019-03-04/2019-03-10\n",
       "4       2019-03-25/2019-03-31\n",
       "                ...          \n",
       "6428    2019-03-25/2019-03-31\n",
       "6429    2019-03-25/2019-03-31\n",
       "6430    2019-03-18/2019-03-24\n",
       "6431    2019-03-04/2019-03-10\n",
       "6432    2019-03-11/2019-03-17\n",
       "Name: pickup, Length: 6433, dtype: period[W-SUN]"
      ]
     },
     "execution_count": 17,
     "metadata": {},
     "output_type": "execute_result"
    }
   ],
   "source": [
    "dataset[\"pickup\"].dt.to_period(\"1W\")"
   ]
  },
  {
   "cell_type": "markdown",
   "metadata": {},
   "source": [
    "Menghitung durasi perjalanan (berapa lama waktu dari penjemputan hingga pengantaran)."
   ]
  },
  {
   "cell_type": "code",
   "execution_count": 8,
   "metadata": {
    "colab": {
     "base_uri": "https://localhost:8080/"
    },
    "id": "-PRchN-B7QZG",
    "outputId": "26a646bb-bf2d-4208-d71e-a62c086ed810"
   },
   "outputs": [
    {
     "data": {
      "text/plain": [
       "0      0 days 00:06:15\n",
       "1      0 days 00:07:05\n",
       "2      0 days 00:07:24\n",
       "3      0 days 00:25:52\n",
       "4      0 days 00:09:32\n",
       "             ...      \n",
       "6428   0 days 00:03:34\n",
       "6429   0 days 00:56:23\n",
       "6430   0 days 00:19:07\n",
       "6431   0 days 00:05:04\n",
       "6432   0 days 00:16:40\n",
       "Length: 6433, dtype: timedelta64[ns]"
      ]
     },
     "execution_count": 8,
     "metadata": {},
     "output_type": "execute_result"
    }
   ],
   "source": [
    "(dataset[\"dropoff\"] - dataset[\"pickup\"])"
   ]
  },
  {
   "cell_type": "code",
   "execution_count": 9,
   "metadata": {
    "colab": {
     "base_uri": "https://localhost:8080/"
    },
    "id": "QU1biwYWAgP2",
    "outputId": "2d0f971f-4a7b-47f6-a3ec-8c8d69ce5f5b"
   },
   "outputs": [
    {
     "data": {
      "text/plain": [
       "0        6\n",
       "1        7\n",
       "2        7\n",
       "3       25\n",
       "4        9\n",
       "        ..\n",
       "6428     3\n",
       "6429    56\n",
       "6430    19\n",
       "6431     5\n",
       "6432    16\n",
       "Length: 6433, dtype: int32"
      ]
     },
     "execution_count": 9,
     "metadata": {},
     "output_type": "execute_result"
    }
   ],
   "source": [
    "(dataset[\"dropoff\"] - dataset[\"pickup\"]).dt.seconds // 60"
   ]
  },
  {
   "cell_type": "markdown",
   "metadata": {},
   "source": [
    "Menambahkan waktu 4 hari ke semua nilai kolom dropoff."
   ]
  },
  {
   "cell_type": "code",
   "execution_count": 10,
   "metadata": {
    "colab": {
     "base_uri": "https://localhost:8080/",
     "height": 312
    },
    "id": "py6KhOweCHK4",
    "outputId": "2348b6c6-8d9c-4ff2-97f0-1c5dfaf386de"
   },
   "outputs": [
    {
     "data": {
      "text/plain": [
       "0      2019-03-27 20:27:24\n",
       "1      2019-03-08 16:19:00\n",
       "2      2019-03-31 18:00:25\n",
       "3      2019-03-14 01:49:51\n",
       "4      2019-04-03 13:37:14\n",
       "               ...        \n",
       "6428   2019-04-04 09:55:27\n",
       "6429   2019-04-04 18:34:23\n",
       "6430   2019-03-27 23:14:25\n",
       "6431   2019-03-08 10:14:29\n",
       "6432   2019-03-17 19:48:02\n",
       "Name: dropoff, Length: 6433, dtype: datetime64[ns]"
      ]
     },
     "execution_count": 10,
     "metadata": {},
     "output_type": "execute_result"
    }
   ],
   "source": [
    "dataset[\"dropoff\"] + pd.to_timedelta(4, unit = \"d\")"
   ]
  },
  {
   "cell_type": "code",
   "execution_count": 11,
   "metadata": {
    "colab": {
     "base_uri": "https://localhost:8080/"
    },
    "id": "igPiiQnmCsi_",
    "outputId": "443995dc-100d-4cee-9ac0-269b865db3a9"
   },
   "outputs": [
    {
     "data": {
      "text/plain": [
       "Timestamp('2019-03-16 08:45:49.491217408')"
      ]
     },
     "execution_count": 11,
     "metadata": {},
     "output_type": "execute_result"
    }
   ],
   "source": [
    "dataset[\"dropoff\"].mean()"
   ]
  },
  {
   "cell_type": "markdown",
   "metadata": {},
   "source": [
    "Membuat ringkasan statistik harian berdasarkan jenis pembayaran.\\\n",
    "* groupby(\"payment\"): mengelompokkan berdasarkan metode pembayaran.\n",
    "* .resample(\"1d\", on=\"pickup\"): mengelompokkan lagi berdasarkan tanggal penjemputan per hari.\n",
    "* .agg({...}): mengambil nilai maksimum passengers, dan rata-rata tip."
   ]
  },
  {
   "cell_type": "code",
   "execution_count": 12,
   "metadata": {
    "colab": {
     "base_uri": "https://localhost:8080/",
     "height": 455
    },
    "id": "az0fNv_LDO2R",
    "outputId": "6cbb12b0-b3f8-4c38-e0d4-9ee1c2250dba"
   },
   "outputs": [
    {
     "data": {
      "text/html": [
       "<div>\n",
       "<style scoped>\n",
       "    .dataframe tbody tr th:only-of-type {\n",
       "        vertical-align: middle;\n",
       "    }\n",
       "\n",
       "    .dataframe tbody tr th {\n",
       "        vertical-align: top;\n",
       "    }\n",
       "\n",
       "    .dataframe thead th {\n",
       "        text-align: right;\n",
       "    }\n",
       "</style>\n",
       "<table border=\"1\" class=\"dataframe\">\n",
       "  <thead>\n",
       "    <tr style=\"text-align: right;\">\n",
       "      <th></th>\n",
       "      <th></th>\n",
       "      <th>passengers</th>\n",
       "      <th>tip</th>\n",
       "    </tr>\n",
       "    <tr>\n",
       "      <th>payment</th>\n",
       "      <th>pickup</th>\n",
       "      <th></th>\n",
       "      <th></th>\n",
       "    </tr>\n",
       "  </thead>\n",
       "  <tbody>\n",
       "    <tr>\n",
       "      <th rowspan=\"5\" valign=\"top\">cash</th>\n",
       "      <th>2019-02-28</th>\n",
       "      <td>1</td>\n",
       "      <td>0.000000</td>\n",
       "    </tr>\n",
       "    <tr>\n",
       "      <th>2019-03-01</th>\n",
       "      <td>6</td>\n",
       "      <td>0.000000</td>\n",
       "    </tr>\n",
       "    <tr>\n",
       "      <th>2019-03-02</th>\n",
       "      <td>6</td>\n",
       "      <td>0.000000</td>\n",
       "    </tr>\n",
       "    <tr>\n",
       "      <th>2019-03-03</th>\n",
       "      <td>6</td>\n",
       "      <td>0.000000</td>\n",
       "    </tr>\n",
       "    <tr>\n",
       "      <th>2019-03-04</th>\n",
       "      <td>6</td>\n",
       "      <td>0.000000</td>\n",
       "    </tr>\n",
       "    <tr>\n",
       "      <th>...</th>\n",
       "      <th>...</th>\n",
       "      <td>...</td>\n",
       "      <td>...</td>\n",
       "    </tr>\n",
       "    <tr>\n",
       "      <th rowspan=\"5\" valign=\"top\">credit card</th>\n",
       "      <th>2019-03-27</th>\n",
       "      <td>6</td>\n",
       "      <td>2.961159</td>\n",
       "    </tr>\n",
       "    <tr>\n",
       "      <th>2019-03-28</th>\n",
       "      <td>6</td>\n",
       "      <td>2.789310</td>\n",
       "    </tr>\n",
       "    <tr>\n",
       "      <th>2019-03-29</th>\n",
       "      <td>6</td>\n",
       "      <td>2.908723</td>\n",
       "    </tr>\n",
       "    <tr>\n",
       "      <th>2019-03-30</th>\n",
       "      <td>6</td>\n",
       "      <td>3.108089</td>\n",
       "    </tr>\n",
       "    <tr>\n",
       "      <th>2019-03-31</th>\n",
       "      <td>6</td>\n",
       "      <td>2.639924</td>\n",
       "    </tr>\n",
       "  </tbody>\n",
       "</table>\n",
       "<p>63 rows × 2 columns</p>\n",
       "</div>"
      ],
      "text/plain": [
       "                        passengers       tip\n",
       "payment     pickup                          \n",
       "cash        2019-02-28           1  0.000000\n",
       "            2019-03-01           6  0.000000\n",
       "            2019-03-02           6  0.000000\n",
       "            2019-03-03           6  0.000000\n",
       "            2019-03-04           6  0.000000\n",
       "...                            ...       ...\n",
       "credit card 2019-03-27           6  2.961159\n",
       "            2019-03-28           6  2.789310\n",
       "            2019-03-29           6  2.908723\n",
       "            2019-03-30           6  3.108089\n",
       "            2019-03-31           6  2.639924\n",
       "\n",
       "[63 rows x 2 columns]"
      ]
     },
     "execution_count": 12,
     "metadata": {},
     "output_type": "execute_result"
    }
   ],
   "source": [
    "dataset.groupby(\"payment\").resample(\"1d\", on = \"pickup\").agg({\"passengers\" : \"max\",\n",
    "                                           \"tip\" : \"mean\"})"
   ]
  },
  {
   "cell_type": "markdown",
   "metadata": {},
   "source": [
    "Membuat kolom baru berisi waktu pickup dari baris sebelumnya.\\\n",
    ".shift(1): menggeser semua baris ke bawah satu baris, cocok untuk analisis perubahan antar baris."
   ]
  },
  {
   "cell_type": "code",
   "execution_count": 13,
   "metadata": {
    "id": "uUNYEn1nEyOP"
   },
   "outputs": [
    {
     "data": {
      "text/plain": [
       "0                      NaT\n",
       "1      2019-03-23 20:21:09\n",
       "2      2019-03-04 16:11:55\n",
       "3      2019-03-27 17:53:01\n",
       "4      2019-03-10 01:23:59\n",
       "               ...        \n",
       "6428   2019-03-23 18:26:09\n",
       "6429   2019-03-31 09:51:53\n",
       "6430   2019-03-31 17:38:00\n",
       "6431   2019-03-23 22:55:18\n",
       "6432   2019-03-04 10:09:25\n",
       "Name: pickup_hmin1, Length: 6433, dtype: datetime64[ns]"
      ]
     },
     "execution_count": 13,
     "metadata": {},
     "output_type": "execute_result"
    }
   ],
   "source": [
    "dataset[\"pickup_hmin1\"] = dataset[\"pickup\"].shift(1)\n",
    "dataset['pickup_hmin1']"
   ]
  },
  {
   "cell_type": "markdown",
   "metadata": {},
   "source": [
    "Menghitung selisih waktu pickup antar baris (jarak antar penjemputan)."
   ]
  },
  {
   "cell_type": "code",
   "execution_count": 14,
   "metadata": {
    "colab": {
     "base_uri": "https://localhost:8080/"
    },
    "id": "c9l8usWCFOQ4",
    "outputId": "4585881c-53f2-44dd-be7e-f4e267984f79"
   },
   "outputs": [
    {
     "data": {
      "text/plain": [
       "0                     NaT\n",
       "1      -20 days +19:50:46\n",
       "2        23 days 01:41:06\n",
       "3      -18 days +07:30:58\n",
       "4        20 days 12:03:43\n",
       "              ...        \n",
       "6428      7 days 15:25:44\n",
       "6429      0 days 07:46:07\n",
       "6430    -8 days +05:17:18\n",
       "6431   -20 days +11:14:07\n",
       "6432      9 days 09:21:57\n",
       "Length: 6433, dtype: timedelta64[ns]"
      ]
     },
     "execution_count": 14,
     "metadata": {},
     "output_type": "execute_result"
    }
   ],
   "source": [
    "dataset[\"pickup\"] - dataset[\"pickup_hmin1\"]"
   ]
  },
  {
   "cell_type": "code",
   "execution_count": 15,
   "metadata": {
    "colab": {
     "base_uri": "https://localhost:8080/"
    },
    "id": "NbEYgz7D2-8u",
    "outputId": "75e2ec54-b903-4047-efe8-7bbef7c0723b"
   },
   "outputs": [
    {
     "data": {
      "text/plain": [
       "6203    NaN\n",
       "884     NaN\n",
       "2882    3.0\n",
       "4212    3.0\n",
       "661     4.0\n",
       "       ... \n",
       "4220    1.0\n",
       "2849    1.0\n",
       "542     1.0\n",
       "4067    1.0\n",
       "591     5.0\n",
       "Name: passengers, Length: 6433, dtype: float64"
      ]
     },
     "execution_count": 15,
     "metadata": {},
     "output_type": "execute_result"
    }
   ],
   "source": [
    "dataset.sort_values(\"pickup\")[\"passengers\"].rolling(3).max()"
   ]
  },
  {
   "cell_type": "code",
   "execution_count": null,
   "metadata": {
    "id": "v-GSKx-I3d7T"
   },
   "outputs": [],
   "source": []
  },
  {
   "cell_type": "code",
   "execution_count": null,
   "metadata": {},
   "outputs": [],
   "source": []
  }
 ],
 "metadata": {
  "colab": {
   "provenance": []
  },
  "kernelspec": {
   "display_name": "Python 3 (ipykernel)",
   "language": "python",
   "name": "python3"
  },
  "language_info": {
   "codemirror_mode": {
    "name": "ipython",
    "version": 3
   },
   "file_extension": ".py",
   "mimetype": "text/x-python",
   "name": "python",
   "nbconvert_exporter": "python",
   "pygments_lexer": "ipython3",
   "version": "3.13.5"
  }
 },
 "nbformat": 4,
 "nbformat_minor": 4
}
