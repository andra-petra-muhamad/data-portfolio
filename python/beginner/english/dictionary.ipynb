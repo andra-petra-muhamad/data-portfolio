{
 "cells": [
  {
   "cell_type": "markdown",
   "metadata": {},
   "source": [
    "# Introduction to Dictionary"
   ]
  },
  {
   "cell_type": "markdown",
   "metadata": {
    "id": "YpMivv91LOMS"
   },
   "source": [
    "# Defining Dictionary"
   ]
  },
  {
   "cell_type": "code",
   "execution_count": 1,
   "metadata": {
    "colab": {
     "base_uri": "https://localhost:8080/"
    },
    "executionInfo": {
     "elapsed": 4,
     "status": "ok",
     "timestamp": 1686747054513,
     "user": {
      "displayName": "Rijalkhairidin Bagus",
      "userId": "03329768181528879466"
     },
     "user_tz": -420
    },
    "id": "jkqEht-HKzfr",
    "outputId": "fa1e8d92-bce7-4e1e-85a1-31382d658759"
   },
   "outputs": [
    {
     "name": "stdout",
     "output_type": "stream",
     "text": [
      "{'a': 1, 'b': 4, 'c': 3}\n"
     ]
    }
   ],
   "source": [
    "dicts = {'a':1, 'b':4, 'c':3}\n",
    "print(dicts)"
   ]
  },
  {
   "cell_type": "code",
   "execution_count": 2,
   "metadata": {
    "colab": {
     "base_uri": "https://localhost:8080/"
    },
    "id": "McDjfSAZN5oc",
    "outputId": "5d7d9476-fdfb-4117-858d-9cfe892f9bd8"
   },
   "outputs": [
    {
     "name": "stdout",
     "output_type": "stream",
     "text": [
      "{'Colorado': 'Rockies', 'Boston': 'Red Sox', 'Minnesota': 'Twins', 'Milwaukee': 'Brewers', 'Seattle': 'Mariners'}\n"
     ]
    }
   ],
   "source": [
    "sport_team = dict([\n",
    "    ('Colorado', 'Rockies'),\n",
    "    ('Boston', 'Red Sox'),\n",
    "    ('Minnesota', 'Twins'),\n",
    "    ('Milwaukee', 'Brewers'),\n",
    "    ('Seattle', 'Mariners')\n",
    "])\n",
    "print(sport_team)"
   ]
  },
  {
   "cell_type": "code",
   "execution_count": 3,
   "metadata": {
    "colab": {
     "base_uri": "https://localhost:8080/"
    },
    "id": "M-m85RLTODoT",
    "outputId": "21a51fc8-b840-4d52-af65-5d6e2f788147"
   },
   "outputs": [
    {
     "name": "stdout",
     "output_type": "stream",
     "text": [
      "{'Colorado': 'Rockies', 'Boston': 'Red Sox', 'Minnesota': 'Twins', 'Milwaukee': 'Brewers', 'Seattle': 'Mariners'}\n"
     ]
    }
   ],
   "source": [
    "sport_team = dict(\n",
    "    Colorado='Rockies',\n",
    "    Boston='Red Sox',\n",
    "    Minnesota='Twins',\n",
    "    Milwaukee='Brewers',\n",
    "    Seattle='Mariners'\n",
    ")\n",
    "print(sport_team)"
   ]
  },
  {
   "cell_type": "markdown",
   "metadata": {
    "id": "DAk79qtYPsE9"
   },
   "source": [
    "# Accessing Dictionary"
   ]
  },
  {
   "cell_type": "code",
   "execution_count": 4,
   "metadata": {
    "colab": {
     "base_uri": "https://localhost:8080/",
     "height": 169
    },
    "id": "dsig7p76OMhh",
    "outputId": "6883d587-7b3c-4c76-a261-184d344be711"
   },
   "outputs": [
    {
     "ename": "KeyError",
     "evalue": "1",
     "output_type": "error",
     "traceback": [
      "\u001b[1;31m---------------------------------------------------------------------------\u001b[0m",
      "\u001b[1;31mKeyError\u001b[0m                                  Traceback (most recent call last)",
      "Cell \u001b[1;32mIn[4], line 1\u001b[0m\n\u001b[1;32m----> 1\u001b[0m sport_team[\u001b[38;5;241m1\u001b[39m]\n",
      "\u001b[1;31mKeyError\u001b[0m: 1"
     ]
    }
   ],
   "source": [
    "sport_team[1]"
   ]
  },
  {
   "cell_type": "markdown",
   "metadata": {
    "id": "J5aBP5-OSn1Z"
   },
   "source": [
    "```\n",
    "# This is formatted as code\n",
    "```\n",
    "\n",
    "[] Access with elbow brackets"
   ]
  },
  {
   "cell_type": "code",
   "execution_count": 5,
   "metadata": {
    "colab": {
     "base_uri": "https://localhost:8080/"
    },
    "id": "6VS7pfV_REDx",
    "outputId": "aa24b1db-df47-485b-a1e5-ea59b4db0b7f"
   },
   "outputs": [
    {
     "name": "stdout",
     "output_type": "stream",
     "text": [
      "Twins\n",
      "Rockies\n"
     ]
    }
   ],
   "source": [
    "print(sport_team['Minnesota'])\n",
    "print(sport_team['Colorado'])"
   ]
  },
  {
   "cell_type": "markdown",
   "metadata": {
    "id": "Wzwkg3geS0YV"
   },
   "source": [
    "If you refer to the key that is not in the Dictionary, Python brings up Exception"
   ]
  },
  {
   "cell_type": "code",
   "execution_count": 6,
   "metadata": {
    "colab": {
     "base_uri": "https://localhost:8080/",
     "height": 169
    },
    "id": "IVlB1sPpSdqq",
    "outputId": "84e104ae-9546-404a-8cea-a53dd653caa2"
   },
   "outputs": [
    {
     "ename": "KeyError",
     "evalue": "'Toronto'",
     "output_type": "error",
     "traceback": [
      "\u001b[1;31m---------------------------------------------------------------------------\u001b[0m",
      "\u001b[1;31mKeyError\u001b[0m                                  Traceback (most recent call last)",
      "Cell \u001b[1;32mIn[6], line 1\u001b[0m\n\u001b[1;32m----> 1\u001b[0m \u001b[38;5;28mprint\u001b[39m(sport_team[\u001b[38;5;124m'\u001b[39m\u001b[38;5;124mToronto\u001b[39m\u001b[38;5;124m'\u001b[39m])\n",
      "\u001b[1;31mKeyError\u001b[0m: 'Toronto'"
     ]
    }
   ],
   "source": [
    "print(sport_team['Toronto'])"
   ]
  },
  {
   "cell_type": "markdown",
   "metadata": {
    "id": "Tb4gvDS5Tp8s"
   },
   "source": [
    "add new entries"
   ]
  },
  {
   "cell_type": "code",
   "execution_count": 7,
   "metadata": {
    "colab": {
     "base_uri": "https://localhost:8080/"
    },
    "id": "hgKJA5scTgwb",
    "outputId": "41b90733-0a7c-4d78-d26e-2f9a6dbbbd6f"
   },
   "outputs": [
    {
     "name": "stdout",
     "output_type": "stream",
     "text": [
      "{'Colorado': 'Rockies', 'Boston': 'Red Sox', 'Minnesota': 'Twins', 'Milwaukee': 'Brewers', 'Seattle': 'Mariners', 'Kansas City': 'Royals'}\n",
      "{'Colorado': 'Rockies', 'Boston': 'Red Sox', 'Minnesota': 'Twins', 'Milwaukee': 'Brewers', 'Seattle': 'Seahawks', 'Kansas City': 'Royals'}\n"
     ]
    }
   ],
   "source": [
    "sport_team['Kansas City'] = 'Royals'\n",
    "print(sport_team)\n",
    "sport_team['Seattle'] = 'Seahawks'\n",
    "print(sport_team)"
   ]
  },
  {
   "cell_type": "markdown",
   "metadata": {
    "id": "7a3A1MbUT6eO"
   },
   "source": [
    "Delete the entry using del"
   ]
  },
  {
   "cell_type": "code",
   "execution_count": 8,
   "metadata": {
    "colab": {
     "base_uri": "https://localhost:8080/"
    },
    "id": "mUNvnAO6T1hh",
    "outputId": "db7ff06e-d451-46c5-8452-2a84efa7509b"
   },
   "outputs": [
    {
     "name": "stdout",
     "output_type": "stream",
     "text": [
      "{'Colorado': 'Rockies', 'Boston': 'Red Sox', 'Minnesota': 'Twins', 'Milwaukee': 'Brewers', 'Kansas City': 'Royals'}\n"
     ]
    }
   ],
   "source": [
    "del sport_team['Seattle']\n",
    "print(sport_team)"
   ]
  },
  {
   "cell_type": "markdown",
   "metadata": {
    "id": "Ev7E0TdXUo-s"
   },
   "source": [
    "# Dictionary Key vs List Indexing"
   ]
  },
  {
   "cell_type": "code",
   "execution_count": 9,
   "metadata": {
    "colab": {
     "base_uri": "https://localhost:8080/",
     "height": 169
    },
    "id": "EyYWlc7GT-uF",
    "outputId": "5d790840-002f-4cd3-eb22-4502b29def0e"
   },
   "outputs": [
    {
     "ename": "KeyError",
     "evalue": "'Toronto'",
     "output_type": "error",
     "traceback": [
      "\u001b[1;31m---------------------------------------------------------------------------\u001b[0m",
      "\u001b[1;31mKeyError\u001b[0m                                  Traceback (most recent call last)",
      "Cell \u001b[1;32mIn[9], line 1\u001b[0m\n\u001b[1;32m----> 1\u001b[0m sport_team[\u001b[38;5;124m'\u001b[39m\u001b[38;5;124mToronto\u001b[39m\u001b[38;5;124m'\u001b[39m]\n",
      "\u001b[1;31mKeyError\u001b[0m: 'Toronto'"
     ]
    }
   ],
   "source": [
    "sport_team['Toronto']"
   ]
  },
  {
   "cell_type": "code",
   "execution_count": 10,
   "metadata": {
    "colab": {
     "base_uri": "https://localhost:8080/",
     "height": 169
    },
    "id": "WRw7MUsaUw-s",
    "outputId": "a9886ed1-3446-404c-ac1c-7768a61d82e8"
   },
   "outputs": [
    {
     "ename": "KeyError",
     "evalue": "1",
     "output_type": "error",
     "traceback": [
      "\u001b[1;31m---------------------------------------------------------------------------\u001b[0m",
      "\u001b[1;31mKeyError\u001b[0m                                  Traceback (most recent call last)",
      "Cell \u001b[1;32mIn[10], line 1\u001b[0m\n\u001b[1;32m----> 1\u001b[0m sport_team[\u001b[38;5;241m1\u001b[39m]\n",
      "\u001b[1;31mKeyError\u001b[0m: 1"
     ]
    }
   ],
   "source": [
    "sport_team[1]"
   ]
  },
  {
   "cell_type": "markdown",
   "metadata": {
    "id": "gj0MnlWcVY1H"
   },
   "source": [
    "In fact, that was the same mistake. In the last case, [1] looks like a numerical index, but not.\n",
    "\n",
    "You will see later that the object of any type that cannot be changed can be used as a dictionary key. Therefore, there is no reason you cannot use integers"
   ]
  },
  {
   "cell_type": "code",
   "execution_count": 11,
   "metadata": {
    "colab": {
     "base_uri": "https://localhost:8080/"
    },
    "executionInfo": {
     "elapsed": 3,
     "status": "ok",
     "timestamp": 1671640869611,
     "user": {
      "displayName": "Khalied Nauly Maturino",
      "userId": "10917707884515253647"
     },
     "user_tz": -420
    },
    "id": "6xlUoEcZUx3x",
    "outputId": "35253d09-93e6-4958-c69c-30be3813284f"
   },
   "outputs": [
    {
     "name": "stdout",
     "output_type": "stream",
     "text": [
      "{0: 'a', 1: 'b', 2: 'c', 3: 'd'}\n",
      "a\n",
      "c\n"
     ]
    }
   ],
   "source": [
    "d = {0: 'a', 1: 'b', 2: 'c', 3: 'd'}\n",
    "print(d)\n",
    "\n",
    "print(d[0])\n",
    "\n",
    "print(d[2])"
   ]
  },
  {
   "cell_type": "markdown",
   "metadata": {
    "id": "S8wZyXj2Vv4X"
   },
   "source": [
    "In the expressions sport_team[1], d[0], and d[2], the numbers in square brackets look like indices. But they have nothing to do with the order of the items in the dictionary. Python interprets them as dictionary keys. If you define these same dicts in reverse order, you still get the same values using the same keys."
   ]
  },
  {
   "cell_type": "code",
   "execution_count": 12,
   "metadata": {
    "colab": {
     "base_uri": "https://localhost:8080/"
    },
    "id": "QL-VrqphViNc",
    "outputId": "40805d38-d508-4dbe-b413-bf92fb9ee0bc"
   },
   "outputs": [
    {
     "name": "stdout",
     "output_type": "stream",
     "text": [
      "{3: 'd', 2: 'c', 1: 'b', 0: 'a'}\n",
      "a\n",
      "c\n"
     ]
    }
   ],
   "source": [
    "d = {3: 'd', 2: 'c', 1: 'b', 0: 'a'}\n",
    "print(d)\n",
    "\n",
    "\n",
    "print(d[0])\n",
    "\n",
    "print(d[2])"
   ]
  },
  {
   "cell_type": "markdown",
   "metadata": {
    "id": "IgNyL4NJWmpD"
   },
   "source": [
    "# Building a Dictionary Incrementally"
   ]
  },
  {
   "cell_type": "code",
   "execution_count": 13,
   "metadata": {
    "id": "1HwUut2WV7YT"
   },
   "outputs": [
    {
     "name": "stdout",
     "output_type": "stream",
     "text": [
      "<class 'dict'>\n",
      "{}\n"
     ]
    }
   ],
   "source": [
    "person = {}\n",
    "print(type(person))\n",
    "print(person)\n",
    "\n",
    "\n",
    "person['fname'] = 'Joe'\n",
    "person['lname'] = 'Fonebone'\n",
    "person['age'] = 51\n",
    "person['spouse'] = 'Edna'\n",
    "person['children'] = ['Ralph', 'Betty', 'Joey']\n",
    "person['pets'] = {'dog': 'Fido', 'cat': 'Sox'}"
   ]
  },
  {
   "cell_type": "code",
   "execution_count": 14,
   "metadata": {
    "colab": {
     "base_uri": "https://localhost:8080/"
    },
    "id": "hptTmsi_WpA_",
    "outputId": "22cc219b-bc28-4206-a476-11ff0c15d237"
   },
   "outputs": [
    {
     "name": "stdout",
     "output_type": "stream",
     "text": [
      "{'fname': 'Joe', 'lname': 'Fonebone', 'age': 51, 'spouse': 'Edna', 'children': ['Ralph', 'Betty', 'Joey'], 'pets': {'dog': 'Fido', 'cat': 'Sox'}}\n",
      "Joe\n",
      "51\n",
      "['Ralph', 'Betty', 'Joey']\n",
      "{'dog': 'Fido', 'cat': 'Sox'}\n"
     ]
    }
   ],
   "source": [
    "print(person)\n",
    "print(person['fname'])\n",
    "print(person['age'])\n",
    "print(person['children'])\n",
    "print(person['pets'])\n"
   ]
  },
  {
   "cell_type": "markdown",
   "metadata": {
    "id": "E7HqEB4wXR4M"
   },
   "source": [
    "Taking values in a sublist or subdictionary requires an additional index or key"
   ]
  },
  {
   "cell_type": "code",
   "execution_count": 15,
   "metadata": {
    "colab": {
     "base_uri": "https://localhost:8080/"
    },
    "id": "PjYS7MkvWsrW",
    "outputId": "af049b92-58bc-473b-9ab8-27698cdf009e"
   },
   "outputs": [
    {
     "name": "stdout",
     "output_type": "stream",
     "text": [
      "Joey\n",
      "Sox\n"
     ]
    }
   ],
   "source": [
    "print(person['children'][-1])\n",
    "\n",
    "print(person['pets']['cat'])"
   ]
  },
  {
   "cell_type": "markdown",
   "metadata": {
    "id": "XnNdmFLNXjsn"
   },
   "source": [
    "This example demonstrates another feature of dicts: the values contained within a dict don't have to be of the same type. Specifically, some values are strings, one is an integer, one is a list, and one is a dict.\n",
    "\n",
    "Just as the values within a dict don't have to be of the same type, neither do the keys."
   ]
  },
  {
   "cell_type": "code",
   "execution_count": 16,
   "metadata": {
    "colab": {
     "base_uri": "https://localhost:8080/"
    },
    "id": "v7EOZFClXW1t",
    "outputId": "2940fe1c-0dc5-4a0f-c723-19fc9db8db21"
   },
   "outputs": [
    {
     "name": "stdout",
     "output_type": "stream",
     "text": [
      "{42: 'aaa', 2.78: 'bbb', True: 'ccc'}\n",
      "aaa\n",
      "bbb\n",
      "ccc\n"
     ]
    }
   ],
   "source": [
    "foo = {42: 'aaa', 2.78: 'bbb', True: 'ccc'}\n",
    "print(foo)\n",
    "\n",
    "\n",
    "print(foo[42])\n",
    "\n",
    "print(foo[2.78])\n",
    "\n",
    "print(foo[True])"
   ]
  },
  {
   "cell_type": "markdown",
   "metadata": {
    "id": "OvJwihd3YJ_0"
   },
   "source": [
    "Here, one key is an integer, one is a float, and one is a Boolean. It's not clear how this would be useful, but you never know.\n",
    "\n",
    "Note how versatile Python dicts are. In sport_team, the same information (baseball team names) is stored for each of several different geographic locations. person, on the other hand, stores different types of data for a single person.\n",
    "\n",
    "You can use dicts for a variety of purposes because there are few restrictions on the allowed keys and values."
   ]
  },
  {
   "cell_type": "markdown",
   "metadata": {
    "id": "zRfnxjlbYdiH"
   },
   "source": [
    "# Restriction in Key Dictionary"
   ]
  },
  {
   "cell_type": "code",
   "execution_count": 17,
   "metadata": {
    "id": "hrvgMXR7YBom"
   },
   "outputs": [],
   "source": [
    "foo = {42: 'aaa', 2.78: 'bbb', True: 'ccc'}\n",
    "\n",
    "d = {int: 1, float: 2, bool: 3}\n",
    "\n",
    "d = {bin: 1, hex: 2, oct: 3}"
   ]
  },
  {
   "cell_type": "markdown",
   "metadata": {
    "id": "kHJAdPJ2a7D_"
   },
   "source": [
    "No Duplicate Key"
   ]
  },
  {
   "cell_type": "code",
   "execution_count": 18,
   "metadata": {
    "colab": {
     "base_uri": "https://localhost:8080/"
    },
    "id": "XDUo-6STZ2ul",
    "outputId": "c235b76d-4c7a-413c-cbf3-4afa7937c19a"
   },
   "outputs": [
    {
     "data": {
      "text/plain": [
       "{'Colorado': 'Rockies',\n",
       " 'Boston': 'Red Sox',\n",
       " 'Minnesota': 'Twins',\n",
       " 'Milwaukee': 'Brewers',\n",
       " 'Seattle': 'Mariners'}"
      ]
     },
     "execution_count": 18,
     "metadata": {},
     "output_type": "execute_result"
    }
   ],
   "source": [
    "sport_team = {\n",
    "    'Colorado' : 'Rockies',\n",
    "    'Boston'   : 'Red Sox',\n",
    "    'Minnesota': 'Timberwolves',\n",
    "    'Milwaukee': 'Brewers',\n",
    "    'Seattle'  : 'Mariners',\n",
    "    'Minnesota': 'Twins'\n",
    "}\n",
    "sport_team"
   ]
  },
  {
   "cell_type": "markdown",
   "metadata": {
    "id": "NGAvNReOa0-1"
   },
   "source": [
    "Key Dice Must Immutable"
   ]
  },
  {
   "cell_type": "code",
   "execution_count": 19,
   "metadata": {
    "colab": {
     "base_uri": "https://localhost:8080/",
     "height": 35
    },
    "id": "RopVlAMvaY8v",
    "outputId": "61b44a13-285a-41de-f108-828cb1d06ab8"
   },
   "outputs": [
    {
     "data": {
      "text/plain": [
       "'c'"
      ]
     },
     "execution_count": 19,
     "metadata": {},
     "output_type": "execute_result"
    }
   ],
   "source": [
    "d = {(1, 1): 'a', (1, 2): 'b', (2, 1): 'c', (2, 2): 'd'}\n",
    "d[(1,1)]\n",
    "\n",
    "d[(2,1)]\n"
   ]
  },
  {
   "cell_type": "code",
   "execution_count": 20,
   "metadata": {
    "colab": {
     "base_uri": "https://localhost:8080/",
     "height": 169
    },
    "id": "AysmKCVza31k",
    "outputId": "f2dc9a6d-3e0e-436b-c9e7-31c54237e531"
   },
   "outputs": [
    {
     "ename": "TypeError",
     "evalue": "unhashable type: 'list'",
     "output_type": "error",
     "traceback": [
      "\u001b[1;31m---------------------------------------------------------------------------\u001b[0m",
      "\u001b[1;31mTypeError\u001b[0m                                 Traceback (most recent call last)",
      "Cell \u001b[1;32mIn[20], line 1\u001b[0m\n\u001b[1;32m----> 1\u001b[0m d \u001b[38;5;241m=\u001b[39m {[\u001b[38;5;241m1\u001b[39m, \u001b[38;5;241m1\u001b[39m]: \u001b[38;5;124m'\u001b[39m\u001b[38;5;124ma\u001b[39m\u001b[38;5;124m'\u001b[39m, [\u001b[38;5;241m1\u001b[39m, \u001b[38;5;241m2\u001b[39m]: \u001b[38;5;124m'\u001b[39m\u001b[38;5;124mb\u001b[39m\u001b[38;5;124m'\u001b[39m, [\u001b[38;5;241m2\u001b[39m, \u001b[38;5;241m1\u001b[39m]: \u001b[38;5;124m'\u001b[39m\u001b[38;5;124mc\u001b[39m\u001b[38;5;124m'\u001b[39m, [\u001b[38;5;241m2\u001b[39m, \u001b[38;5;241m2\u001b[39m]: \u001b[38;5;124m'\u001b[39m\u001b[38;5;124md\u001b[39m\u001b[38;5;124m'\u001b[39m}\n",
      "\u001b[1;31mTypeError\u001b[0m: unhashable type: 'list'"
     ]
    }
   ],
   "source": [
    "d = {[1, 1]: 'a', [1, 2]: 'b', [2, 1]: 'c', [2, 2]: 'd'}"
   ]
  },
  {
   "cell_type": "markdown",
   "metadata": {
    "id": "IG4Ht01ubWck"
   },
   "source": [
    "# Restriction in Value Dictionary"
   ]
  },
  {
   "cell_type": "code",
   "execution_count": 21,
   "metadata": {
    "colab": {
     "base_uri": "https://localhost:8080/"
    },
    "id": "64Bd2cfWbKYU",
    "outputId": "dfb6e1d2-e568-4166-823c-3b57b6095afe"
   },
   "outputs": [
    {
     "data": {
      "text/plain": [
       "True"
      ]
     },
     "execution_count": 21,
     "metadata": {},
     "output_type": "execute_result"
    }
   ],
   "source": [
    "d = {0: 'a', 1: 'a', 2: 'a', 3: 'a'}\n",
    "d\n",
    "\n",
    "d[0] == d[1] == d[2]\n"
   ]
  },
  {
   "cell_type": "markdown",
   "metadata": {
    "id": "D8QyeADoch3R"
   },
   "source": [
    "# Built-in Dictionary Methods"
   ]
  },
  {
   "cell_type": "markdown",
   "metadata": {
    "id": "vh0hGAgWdNzK"
   },
   "source": [
    "d.clear()"
   ]
  },
  {
   "cell_type": "markdown",
   "metadata": {
    "id": "G5yb8bfmdSSC"
   },
   "source": [
    "d.clear() clears the dict d of all key-value pairs."
   ]
  },
  {
   "cell_type": "code",
   "execution_count": 23,
   "metadata": {
    "colab": {
     "base_uri": "https://localhost:8080/"
    },
    "id": "Es1bmfG_b2sB",
    "outputId": "ff252063-55a6-4edf-be2c-717816148a67"
   },
   "outputs": [
    {
     "name": "stdout",
     "output_type": "stream",
     "text": [
      "{'a': 10, 'b': 20, 'c': 30}\n",
      "{}\n"
     ]
    }
   ],
   "source": [
    "d = {'a': 10, 'b': 20, 'c': 30}\n",
    "print(d)\n",
    "\n",
    "d.clear()\n",
    "print(d)"
   ]
  },
  {
   "cell_type": "markdown",
   "metadata": {
    "id": "YWLhRH-8dhR9"
   },
   "source": [
    "d.get(<key>[, <default>])\n",
    "\n",
    "Python's .get() dict method provides a convenient way to get the value of a key from a dict without first checking whether the key exists and without raising an error.\n",
    "\n",
    "d.get(<key>) searches the dict d for <key> and returns the associated value if found. If <key> is not found, it returns None."
   ]
  },
  {
   "cell_type": "code",
   "execution_count": 24,
   "metadata": {
    "colab": {
     "base_uri": "https://localhost:8080/"
    },
    "id": "lRBdX_fBdZ6j",
    "outputId": "66e67232-c4fc-479c-9c80-3bc96e005470"
   },
   "outputs": [
    {
     "name": "stdout",
     "output_type": "stream",
     "text": [
      "20\n",
      "None\n"
     ]
    }
   ],
   "source": [
    "d = {'a': 10, 'b': 20, 'c': 30}\n",
    "\n",
    "print(d.get('b'))\n",
    "\n",
    "print(d.get('z'))\n"
   ]
  },
  {
   "cell_type": "markdown",
   "metadata": {
    "id": "Y-5U8xPCdy0d"
   },
   "source": [
    "d.items ()"
   ]
  },
  {
   "cell_type": "markdown",
   "metadata": {
    "id": "moCXr-QYd2_F"
   },
   "source": [
    "d.items() returns a list of tuples containing the key-value pairs in d. The first item in each tuple is the key, and the second item is the key's value."
   ]
  },
  {
   "cell_type": "code",
   "execution_count": 25,
   "metadata": {
    "colab": {
     "base_uri": "https://localhost:8080/"
    },
    "id": "EDNX-zaWdo7_",
    "outputId": "1f83eb2c-0629-40c7-9982-2a33627956c7"
   },
   "outputs": [
    {
     "name": "stdout",
     "output_type": "stream",
     "text": [
      "[('a', 10), ('b', 20), ('c', 30)]\n",
      "b\n",
      "20\n"
     ]
    }
   ],
   "source": [
    "d = {'a': 10, 'b': 20, 'c': 30}\n",
    "d\n",
    "\n",
    "\n",
    "print(list(d.items()))\n",
    "\n",
    "print(list(d.items())[1][0])\n",
    "\n",
    "print(list(d.items())[1][1])\n"
   ]
  },
  {
   "cell_type": "markdown",
   "metadata": {
    "id": "8JzLx0aI3FoG"
   },
   "source": [
    "d.keys ()"
   ]
  },
  {
   "cell_type": "markdown",
   "metadata": {
    "id": "2B1OrzVE3MYe"
   },
   "source": [
    "d.keys() returns a list of all keys in d"
   ]
  },
  {
   "cell_type": "code",
   "execution_count": 26,
   "metadata": {
    "colab": {
     "base_uri": "https://localhost:8080/"
    },
    "id": "lHrAmKcQ3Did",
    "outputId": "3e039eb2-1be1-45f4-aabe-81c02a572b61"
   },
   "outputs": [
    {
     "data": {
      "text/plain": [
       "['a', 'b', 'c']"
      ]
     },
     "execution_count": 26,
     "metadata": {},
     "output_type": "execute_result"
    }
   ],
   "source": [
    "d = {'a': 10, 'b': 20, 'c': 30}\n",
    "d\n",
    "\n",
    "\n",
    "list(d.keys())\n"
   ]
  },
  {
   "cell_type": "markdown",
   "metadata": {
    "id": "k60R1u7R6IZ8"
   },
   "source": [
    "d.update()"
   ]
  },
  {
   "cell_type": "code",
   "execution_count": 27,
   "metadata": {
    "colab": {
     "base_uri": "https://localhost:8080/"
    },
    "id": "rcwt6vcN3Qbg",
    "outputId": "13da7474-6ec6-4829-d0f7-6601dcfba361"
   },
   "outputs": [
    {
     "data": {
      "text/plain": [
       "{'a': 10, 'b': 200, 'c': 30, 'd': 400}"
      ]
     },
     "execution_count": 27,
     "metadata": {},
     "output_type": "execute_result"
    }
   ],
   "source": [
    "d1 = {'a': 10, 'b': 20, 'c': 30}\n",
    "d2 = {'b': 200, 'd': 400}\n",
    "\n",
    "d1.update(d2)\n",
    "d1"
   ]
  },
  {
   "cell_type": "markdown",
   "metadata": {
    "id": "a-T6KQFX6Scx"
   },
   "source": [
    "d.pop()"
   ]
  },
  {
   "cell_type": "code",
   "execution_count": 28,
   "metadata": {
    "colab": {
     "base_uri": "https://localhost:8080/"
    },
    "id": "QinJCyLR6Mlw",
    "outputId": "b5e4dfab-d0f8-46bf-bc9d-ec39790c08a2"
   },
   "outputs": [
    {
     "data": {
      "text/plain": [
       "{'a': 10, 'c': 30}"
      ]
     },
     "execution_count": 28,
     "metadata": {},
     "output_type": "execute_result"
    }
   ],
   "source": [
    "d = {'a': 10, 'b': 20, 'c': 30}\n",
    "\n",
    "d.pop('b')\n",
    "\n",
    "d"
   ]
  },
  {
   "cell_type": "markdown",
   "metadata": {
    "id": "T3IXRr9m6XxR"
   },
   "source": [
    "d.popitem()"
   ]
  },
  {
   "cell_type": "code",
   "execution_count": 29,
   "metadata": {
    "colab": {
     "base_uri": "https://localhost:8080/"
    },
    "id": "sY9OLHXw6VnA",
    "outputId": "21d6b89e-2505-4b12-f0f0-04eec022f70c"
   },
   "outputs": [
    {
     "name": "stdout",
     "output_type": "stream",
     "text": [
      "{'a': 10, 'b': 20}\n",
      "{'a': 10}\n"
     ]
    }
   ],
   "source": [
    "d = {'a': 10, 'b': 20, 'c': 30}\n",
    "\n",
    "d.popitem()\n",
    "\n",
    "print(d)\n",
    "\n",
    "\n",
    "d.popitem()\n",
    "\n",
    "print(d)"
   ]
  },
  {
   "cell_type": "markdown",
   "metadata": {
    "id": "WoLG_rdj7l6C"
   },
   "source": [
    "# Thank you"
   ]
  },
  {
   "cell_type": "code",
   "execution_count": null,
   "metadata": {},
   "outputs": [],
   "source": []
  }
 ],
 "metadata": {
  "colab": {
   "provenance": []
  },
  "kernelspec": {
   "display_name": "Python 3 (ipykernel)",
   "language": "python",
   "name": "python3"
  },
  "language_info": {
   "codemirror_mode": {
    "name": "ipython",
    "version": 3
   },
   "file_extension": ".py",
   "mimetype": "text/x-python",
   "name": "python",
   "nbconvert_exporter": "python",
   "pygments_lexer": "ipython3",
   "version": "3.13.5"
  }
 },
 "nbformat": 4,
 "nbformat_minor": 4
}
