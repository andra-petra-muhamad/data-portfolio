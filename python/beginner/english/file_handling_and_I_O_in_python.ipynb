{
  "cells": [
    {
      "cell_type": "markdown",
      "metadata": {
        "id": "ukdiq-xT6_fB"
      },
      "source": [
        "# Simple"
      ]
    },
    {
      "cell_type": "markdown",
      "metadata": {
        "id": "x1i-_aQ27JiJ"
      },
      "source": [
        "## Example 1"
      ]
    },
    {
      "cell_type": "code",
      "execution_count": 1,
      "metadata": {
        "executionInfo": {
          "elapsed": 349,
          "status": "ok",
          "timestamp": 1696036255844,
          "user": {
            "displayName": "Z A Z A",
            "userId": "07938683278567556560"
          },
          "user_tz": -420
        },
        "id": "24theAXM2pfk"
      },
      "outputs": [],
      "source": [
        "with open(\"C:/Users/LENOVO/Python/contoh_sederhana.txt\", \"w\") as file:\n",
        "    file.write(\"Halo, ini adalah file teks sederhana.\")\n"
      ]
    },
    {
      "cell_type": "markdown",
      "metadata": {
        "id": "eBem8AAO7LJR"
      },
      "source": [
        "## Example 2\n"
      ]
    },
    {
      "cell_type": "code",
      "execution_count": 3,
      "metadata": {
        "colab": {
          "base_uri": "https://localhost:8080/"
        },
        "executionInfo": {
          "elapsed": 8,
          "status": "ok",
          "timestamp": 1696036322809,
          "user": {
            "displayName": "Z A Z A",
            "userId": "07938683278567556560"
          },
          "user_tz": -420
        },
        "id": "0rH5DQAX7C61",
        "outputId": "a5b6b6a0-f341-43c7-a5cc-a2e6c93e19bf"
      },
      "outputs": [
        {
          "name": "stdout",
          "output_type": "stream",
          "text": [
            "Halo, ini adalah file teks sederhana.\n"
          ]
        }
      ],
      "source": [
        "with open(\"C:/Users/LENOVO/Python/contoh_sederhana.txt\", \"r\") as file:\n",
        "    konten = file.read()\n",
        "    print(konten)"
      ]
    },
    {
      "cell_type": "markdown",
      "metadata": {
        "id": "1TcN0uBz7Z7I"
      },
      "source": [
        "# Intermediate"
      ]
    },
    {
      "cell_type": "markdown",
      "metadata": {
        "id": "4McH2ylB7bKY"
      },
      "source": [
        "## Example 1: Copy Files"
      ]
    },
    {
      "cell_type": "code",
      "execution_count": 5,
      "metadata": {
        "colab": {
          "base_uri": "https://localhost:8080/"
        },
        "executionInfo": {
          "elapsed": 8,
          "status": "ok",
          "timestamp": 1696036483118,
          "user": {
            "displayName": "Z A Z A",
            "userId": "07938683278567556560"
          },
          "user_tz": -420
        },
        "id": "x6FOuepA7PAv",
        "outputId": "5d64e036-a9cb-4287-84bc-70a193baa30d"
      },
      "outputs": [
        {
          "name": "stdout",
          "output_type": "stream",
          "text": [
            "This is a sample text file.\n",
            "\n",
            "It contains multiple lines of text.\n",
            "\n",
            "You can copy its content to another file.\n",
            "\n"
          ]
        }
      ],
      "source": [
        "file_sumber = \"C:/Users/LENOVO/Python/sumber.txt\"\n",
        "file_tujuan = \"C:/Users/LENOVO/Python/tujuan.txt\"\n",
        "\n",
        "with open(file_sumber, \"r\") as sumber, open(file_tujuan, \"w\") as tujuan:\n",
        "    for baris in sumber:\n",
        "        tujuan.write(baris)\n",
        "        print(baris)\n"
      ]
    },
    {
      "cell_type": "code",
      "execution_count": 6,
      "metadata": {},
      "outputs": [
        {
          "name": "stdout",
          "output_type": "stream",
          "text": [
            "This is a sample text file.\n",
            "It contains multiple lines of text.\n",
            "You can copy its content to another file.\n",
            "\n"
          ]
        }
      ],
      "source": [
        "with open(file_sumber, \"r\") as sumber:\n",
        "    print(sumber.read())"
      ]
    },
    {
      "cell_type": "markdown",
      "metadata": {
        "id": "19duBjRx8QKQ"
      },
      "source": [
        "## Example 2: Copying Files Using Shutil"
      ]
    },
    {
      "cell_type": "code",
      "execution_count": 9,
      "metadata": {
        "colab": {
          "base_uri": "https://localhost:8080/",
          "height": 35
        },
        "executionInfo": {
          "elapsed": 337,
          "status": "ok",
          "timestamp": 1696036555775,
          "user": {
            "displayName": "Z A Z A",
            "userId": "07938683278567556560"
          },
          "user_tz": -420
        },
        "id": "Fb8A5jYl8B58",
        "outputId": "36bb8796-9931-42d1-f36c-0ec27cf8bbd7"
      },
      "outputs": [
        {
          "data": {
            "text/plain": [
              "'C:/Users/LENOVO/Python/tujuan.txt'"
            ]
          },
          "execution_count": 9,
          "metadata": {},
          "output_type": "execute_result"
        }
      ],
      "source": [
        "import shutil\n",
        "\n",
        "file_sumber = \"C:/Users/LENOVO/Python/sumber.txt\"\n",
        "file_tujuan = \"C:/Users/LENOVO/Python/tujuan.txt\"\n",
        "\n",
        "shutil.copyfile(file_sumber, file_tujuan)"
      ]
    },
    {
      "cell_type": "code",
      "execution_count": 10,
      "metadata": {},
      "outputs": [
        {
          "name": "stdout",
          "output_type": "stream",
          "text": [
            "This is a sample text file.\n",
            "It contains multiple lines of text.\n",
            "You can copy its content to another file.\n",
            "\n"
          ]
        }
      ],
      "source": [
        "with open(\"C:/Users/LENOVO/Python/tujuan.txt\", \"r\") as file:\n",
        "    baca = file.read()\n",
        "    print(baca)"
      ]
    },
    {
      "cell_type": "markdown",
      "metadata": {
        "id": "ULkiwE_h9exo"
      },
      "source": [
        "# Advance"
      ]
    },
    {
      "cell_type": "markdown",
      "metadata": {
        "id": "7zEX2x4b9g9o"
      },
      "source": [
        "## Example 1: Reading and manipulating CSV data"
      ]
    },
    {
      "cell_type": "code",
      "execution_count": 11,
      "metadata": {
        "colab": {
          "base_uri": "https://localhost:8080/"
        },
        "executionInfo": {
          "elapsed": 358,
          "status": "ok",
          "timestamp": 1696036767018,
          "user": {
            "displayName": "Z A Z A",
            "userId": "07938683278567556560"
          },
          "user_tz": -420
        },
        "id": "aY6z3ZU79sR-",
        "outputId": "75a1a17c-f069-4f53-c3db-098c6526edb9"
      },
      "outputs": [
        {
          "name": "stdout",
          "output_type": "stream",
          "text": [
            "CSV file 'input.csv' has been created successfully.\n"
          ]
        }
      ],
      "source": [
        "import csv\n",
        "\n",
        "# Define the data as a list of dictionaries\n",
        "data = [\n",
        "    {\"Name\": \"Alice\", \"Score\": 85},\n",
        "    {\"Name\": \"Bob\", \"Score\": 92},\n",
        "    {\"Name\": \"Charlie\", \"Score\": 78},\n",
        "    {\"Name\": \"David\", \"Score\": 95},\n",
        "    {\"Name\": \"Eve\", \"Score\": 88},\n",
        "    {\"Name\": \"Frank\", \"Score\": 76}\n",
        "]\n",
        "\n",
        "# Specify The CSV File Path\n",
        "output_csv = \"input.csv\"\n",
        "\n",
        "# Write the data to the csv file\n",
        "with open(output_csv, \"w\", newline=\"\") as csvfile:\n",
        "    fieldnames = [\"Name\", \"Score\"]\n",
        "    writer = csv.DictWriter(csvfile, fieldnames=fieldnames)\n",
        "\n",
        "    # Write the header row\n",
        "    writer.writeheader()\n",
        "\n",
        "    # Write the data rows\n",
        "    for row in data:\n",
        "        writer.writerow(row)\n",
        "\n",
        "print(\"CSV file 'input.csv' has been created successful.\")"
      ]
    },
    {
      "cell_type": "code",
      "execution_count": 12,
      "metadata": {},
      "outputs": [
        {
          "data": {
            "text/html": [
              "<div>\n",
              "<style scoped>\n",
              "    .dataframe tbody tr th:only-of-type {\n",
              "        vertical-align: middle;\n",
              "    }\n",
              "\n",
              "    .dataframe tbody tr th {\n",
              "        vertical-align: top;\n",
              "    }\n",
              "\n",
              "    .dataframe thead th {\n",
              "        text-align: right;\n",
              "    }\n",
              "</style>\n",
              "<table border=\"1\" class=\"dataframe\">\n",
              "  <thead>\n",
              "    <tr style=\"text-align: right;\">\n",
              "      <th></th>\n",
              "      <th>Name</th>\n",
              "      <th>Score</th>\n",
              "    </tr>\n",
              "  </thead>\n",
              "  <tbody>\n",
              "    <tr>\n",
              "      <th>0</th>\n",
              "      <td>Alice</td>\n",
              "      <td>85</td>\n",
              "    </tr>\n",
              "    <tr>\n",
              "      <th>1</th>\n",
              "      <td>Bob</td>\n",
              "      <td>92</td>\n",
              "    </tr>\n",
              "    <tr>\n",
              "      <th>2</th>\n",
              "      <td>Charlie</td>\n",
              "      <td>78</td>\n",
              "    </tr>\n",
              "    <tr>\n",
              "      <th>3</th>\n",
              "      <td>David</td>\n",
              "      <td>95</td>\n",
              "    </tr>\n",
              "    <tr>\n",
              "      <th>4</th>\n",
              "      <td>Eve</td>\n",
              "      <td>88</td>\n",
              "    </tr>\n",
              "    <tr>\n",
              "      <th>5</th>\n",
              "      <td>Frank</td>\n",
              "      <td>76</td>\n",
              "    </tr>\n",
              "  </tbody>\n",
              "</table>\n",
              "</div>"
            ],
            "text/plain": [
              "      Name  Score\n",
              "0    Alice     85\n",
              "1      Bob     92\n",
              "2  Charlie     78\n",
              "3    David     95\n",
              "4      Eve     88\n",
              "5    Frank     76"
            ]
          },
          "execution_count": 12,
          "metadata": {},
          "output_type": "execute_result"
        }
      ],
      "source": [
        "from pandas import read_csv\n",
        "\n",
        "read_csv(output_csv)"
      ]
    },
    {
      "cell_type": "code",
      "execution_count": 13,
      "metadata": {},
      "outputs": [
        {
          "name": "stdout",
          "output_type": "stream",
          "text": [
            "Name,Score\n",
            "Alice,85\n",
            "Bob,92\n",
            "Charlie,78\n",
            "David,95\n",
            "Eve,88\n",
            "Frank,76\n",
            "\n"
          ]
        }
      ],
      "source": [
        "with open(output_csv, \"r\") as csvfile:\n",
        "    output = csvfile.read()\n",
        "    print(output)"
      ]
    },
    {
      "cell_type": "code",
      "execution_count": 14,
      "metadata": {
        "colab": {
          "base_uri": "https://localhost:8080/"
        },
        "executionInfo": {
          "elapsed": 343,
          "status": "ok",
          "timestamp": 1696036925784,
          "user": {
            "displayName": "Z A Z A",
            "userId": "07938683278567556560"
          },
          "user_tz": -420
        },
        "id": "vc5JH6dV8YNu",
        "outputId": "affa9d4a-cde9-4eda-839b-7be97bb27134"
      },
      "outputs": [
        {
          "name": "stdout",
          "output_type": "stream",
          "text": [
            "['Alice', 170]\n",
            "['Bob', 184]\n",
            "['Charlie', 156]\n",
            "['David', 190]\n",
            "['Eve', 176]\n",
            "['Frank', 152]\n"
          ]
        }
      ],
      "source": [
        "import csv\n",
        "\n",
        "file_input = \"input.csv\"\n",
        "file_output = \"output.csv\"\n",
        "\n",
        "with open(file_input, \"r\") as masukan, open(file_output, \"w\", newline=\"\") as keluaran:\n",
        "    pembaca = csv.reader(masukan)\n",
        "    penulis = csv.writer(keluaran)\n",
        "\n",
        "    # Skip the header row\n",
        "    next(pembaca)\n",
        "\n",
        "    # Example: multiply the value in the second column with 2\n",
        "    for baris in pembaca:\n",
        "        baruan_baris = [baris[0], int(baris[1]) * 2]  # Do data manipulation as needed\n",
        "        print(baruan_baris)\n",
        "        penulis.writerow(baruan_baris)\n"
      ]
    },
    {
      "cell_type": "markdown",
      "metadata": {
        "id": "7Pmoptfv--O4"
      },
      "source": [
        "## Example 2: Filtering and writing selected lines to the new CSV file"
      ]
    },
    {
      "cell_type": "code",
      "execution_count": 15,
      "metadata": {
        "colab": {
          "base_uri": "https://localhost:8080/"
        },
        "executionInfo": {
          "elapsed": 359,
          "status": "ok",
          "timestamp": 1696037097460,
          "user": {
            "displayName": "Z A Z A",
            "userId": "07938683278567556560"
          },
          "user_tz": -420
        },
        "id": "TxBRJF6t9mCB",
        "outputId": "a85539f7-56e7-4b38-9507-d50136cd78de"
      },
      "outputs": [
        {
          "name": "stdout",
          "output_type": "stream",
          "text": [
            "['Bob', '92']\n",
            "['David', '95']\n"
          ]
        }
      ],
      "source": [
        "import csv\n",
        "\n",
        "file_input = \"input.csv\"\n",
        "file_output = \"output.csv\"\n",
        "\n",
        "with open(file_input, \"r\") as masukan, open(file_output, \"w\", newline=\"\") as keluaran:\n",
        "    pembaca = csv.reader(masukan)\n",
        "    penulis = csv.writer(keluaran)\n",
        "\n",
        "    # Skip the header row\n",
        "    next(pembaca)\n",
        "\n",
        "    # Example: Writing only rows whose second column value is more than 10\n",
        "    for baris in pembaca:\n",
        "        if int(baris[1]) >  90:  # Filtering lines based on certain conditions\n",
        "            penulis.writerow(baris)\n",
        "            print(baris)\n"
      ]
    },
    {
      "cell_type": "code",
      "execution_count": null,
      "metadata": {
        "id": "q7nLTcJo_Pu8"
      },
      "outputs": [],
      "source": []
    }
  ],
  "metadata": {
    "colab": {
      "provenance": []
    },
    "kernelspec": {
      "display_name": "Python 3 (ipykernel)",
      "language": "python",
      "name": "python3"
    },
    "language_info": {
      "codemirror_mode": {
        "name": "ipython",
        "version": 3
      },
      "file_extension": ".py",
      "mimetype": "text/x-python",
      "name": "python",
      "nbconvert_exporter": "python",
      "pygments_lexer": "ipython3",
      "version": "3.13.5"
    }
  },
  "nbformat": 4,
  "nbformat_minor": 4
}