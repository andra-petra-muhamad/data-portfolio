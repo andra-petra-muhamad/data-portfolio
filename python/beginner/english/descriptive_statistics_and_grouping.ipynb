{
 "cells": [
  {
   "cell_type": "markdown",
   "id": "e643175d-49d6-404d-ab8a-8452ecf0907c",
   "metadata": {},
   "source": [
    "# Descriptive Statistics and Grouping"
   ]
  },
  {
   "cell_type": "markdown",
   "id": "c98e0752",
   "metadata": {},
   "source": [
    "# Import Packages"
   ]
  },
  {
   "cell_type": "code",
   "execution_count": 1,
   "id": "9e69ab8b",
   "metadata": {
    "ExecuteTime": {
     "end_time": "2022-10-09T09:26:37.053251Z",
     "start_time": "2022-10-09T09:26:33.994854Z"
    },
    "tags": []
   },
   "outputs": [],
   "source": [
    "import pandas as pd\n",
    "import numpy as np"
   ]
  },
  {
   "cell_type": "code",
   "execution_count": 2,
   "id": "13eca110",
   "metadata": {
    "ExecuteTime": {
     "end_time": "2022-10-09T09:31:34.277420Z",
     "start_time": "2022-10-09T09:31:34.262791Z"
    },
    "tags": []
   },
   "outputs": [
    {
     "data": {
      "text/plain": [
       "'C:\\\\Users\\\\LENOVO\\\\Python\\\\Beginner'"
      ]
     },
     "execution_count": 2,
     "metadata": {},
     "output_type": "execute_result"
    }
   ],
   "source": [
    "import os\n",
    "os.getcwd()"
   ]
  },
  {
   "cell_type": "markdown",
   "id": "e8ab0dc7-7a11-4ce0-86c0-0905142c44ae",
   "metadata": {},
   "source": [
    "# Import data from CSV to Dataframe"
   ]
  },
  {
   "cell_type": "code",
   "execution_count": 3,
   "id": "9c7563ab-df4d-4ee4-a04b-39cb5dfecac6",
   "metadata": {
    "tags": []
   },
   "outputs": [
    {
     "data": {
      "text/html": [
       "<div>\n",
       "<style scoped>\n",
       "    .dataframe tbody tr th:only-of-type {\n",
       "        vertical-align: middle;\n",
       "    }\n",
       "\n",
       "    .dataframe tbody tr th {\n",
       "        vertical-align: top;\n",
       "    }\n",
       "\n",
       "    .dataframe thead th {\n",
       "        text-align: right;\n",
       "    }\n",
       "</style>\n",
       "<table border=\"1\" class=\"dataframe\">\n",
       "  <thead>\n",
       "    <tr style=\"text-align: right;\">\n",
       "      <th></th>\n",
       "      <th>order_id</th>\n",
       "      <th>product_code</th>\n",
       "      <th>product_name</th>\n",
       "      <th>quantity</th>\n",
       "      <th>order_date</th>\n",
       "      <th>price</th>\n",
       "      <th>customer_id</th>\n",
       "    </tr>\n",
       "  </thead>\n",
       "  <tbody>\n",
       "    <tr>\n",
       "      <th>0</th>\n",
       "      <td>493410</td>\n",
       "      <td>TEST001</td>\n",
       "      <td>This is a test product.</td>\n",
       "      <td>5</td>\n",
       "      <td>2010-01-04 09:24:00</td>\n",
       "      <td>4.50</td>\n",
       "      <td>12346.0</td>\n",
       "    </tr>\n",
       "    <tr>\n",
       "      <th>1</th>\n",
       "      <td>C493411</td>\n",
       "      <td>21539</td>\n",
       "      <td>RETRO SPOTS BUTTER DISH</td>\n",
       "      <td>-1</td>\n",
       "      <td>2010-01-04 09:43:00</td>\n",
       "      <td>4.25</td>\n",
       "      <td>14590.0</td>\n",
       "    </tr>\n",
       "    <tr>\n",
       "      <th>2</th>\n",
       "      <td>493412</td>\n",
       "      <td>TEST001</td>\n",
       "      <td>This is a test product.</td>\n",
       "      <td>5</td>\n",
       "      <td>2010-01-04 09:53:00</td>\n",
       "      <td>4.50</td>\n",
       "      <td>12346.0</td>\n",
       "    </tr>\n",
       "    <tr>\n",
       "      <th>3</th>\n",
       "      <td>493413</td>\n",
       "      <td>21724</td>\n",
       "      <td>PANDA AND BUNNIES STICKER SHEET</td>\n",
       "      <td>1</td>\n",
       "      <td>2010-01-04 09:54:00</td>\n",
       "      <td>0.85</td>\n",
       "      <td>NaN</td>\n",
       "    </tr>\n",
       "    <tr>\n",
       "      <th>4</th>\n",
       "      <td>493413</td>\n",
       "      <td>84578</td>\n",
       "      <td>ELEPHANT TOY WITH BLUE T-SHIRT</td>\n",
       "      <td>1</td>\n",
       "      <td>2010-01-04 09:54:00</td>\n",
       "      <td>3.75</td>\n",
       "      <td>NaN</td>\n",
       "    </tr>\n",
       "    <tr>\n",
       "      <th>...</th>\n",
       "      <td>...</td>\n",
       "      <td>...</td>\n",
       "      <td>...</td>\n",
       "      <td>...</td>\n",
       "      <td>...</td>\n",
       "      <td>...</td>\n",
       "      <td>...</td>\n",
       "    </tr>\n",
       "    <tr>\n",
       "      <th>461768</th>\n",
       "      <td>539991</td>\n",
       "      <td>21618</td>\n",
       "      <td>4 WILDFLOWER BOTANICAL CANDLES</td>\n",
       "      <td>1</td>\n",
       "      <td>2010-12-23 16:49:00</td>\n",
       "      <td>1.25</td>\n",
       "      <td>NaN</td>\n",
       "    </tr>\n",
       "    <tr>\n",
       "      <th>461769</th>\n",
       "      <td>539991</td>\n",
       "      <td>72741</td>\n",
       "      <td>GRAND CHOCOLATECANDLE</td>\n",
       "      <td>4</td>\n",
       "      <td>2010-12-23 16:49:00</td>\n",
       "      <td>1.45</td>\n",
       "      <td>NaN</td>\n",
       "    </tr>\n",
       "    <tr>\n",
       "      <th>461770</th>\n",
       "      <td>539992</td>\n",
       "      <td>21470</td>\n",
       "      <td>FLOWER VINE RAFFIA FOOD COVER</td>\n",
       "      <td>1</td>\n",
       "      <td>2010-12-23 17:41:00</td>\n",
       "      <td>3.75</td>\n",
       "      <td>NaN</td>\n",
       "    </tr>\n",
       "    <tr>\n",
       "      <th>461771</th>\n",
       "      <td>539992</td>\n",
       "      <td>22258</td>\n",
       "      <td>FELT FARM ANIMAL RABBIT</td>\n",
       "      <td>1</td>\n",
       "      <td>2010-12-23 17:41:00</td>\n",
       "      <td>1.25</td>\n",
       "      <td>NaN</td>\n",
       "    </tr>\n",
       "    <tr>\n",
       "      <th>461772</th>\n",
       "      <td>539992</td>\n",
       "      <td>21155</td>\n",
       "      <td>RED RETROSPOT PEG BAG</td>\n",
       "      <td>1</td>\n",
       "      <td>2010-12-23 17:41:00</td>\n",
       "      <td>2.10</td>\n",
       "      <td>NaN</td>\n",
       "    </tr>\n",
       "  </tbody>\n",
       "</table>\n",
       "<p>461773 rows × 7 columns</p>\n",
       "</div>"
      ],
      "text/plain": [
       "       order_id product_code                     product_name  quantity  \\\n",
       "0        493410      TEST001          This is a test product.         5   \n",
       "1       C493411        21539          RETRO SPOTS BUTTER DISH        -1   \n",
       "2        493412      TEST001          This is a test product.         5   \n",
       "3        493413        21724  PANDA AND BUNNIES STICKER SHEET         1   \n",
       "4        493413        84578   ELEPHANT TOY WITH BLUE T-SHIRT         1   \n",
       "...         ...          ...                              ...       ...   \n",
       "461768   539991        21618   4 WILDFLOWER BOTANICAL CANDLES         1   \n",
       "461769   539991        72741            GRAND CHOCOLATECANDLE         4   \n",
       "461770   539992        21470    FLOWER VINE RAFFIA FOOD COVER         1   \n",
       "461771   539992        22258          FELT FARM ANIMAL RABBIT         1   \n",
       "461772   539992        21155            RED RETROSPOT PEG BAG         1   \n",
       "\n",
       "                 order_date  price  customer_id  \n",
       "0       2010-01-04 09:24:00   4.50      12346.0  \n",
       "1       2010-01-04 09:43:00   4.25      14590.0  \n",
       "2       2010-01-04 09:53:00   4.50      12346.0  \n",
       "3       2010-01-04 09:54:00   0.85          NaN  \n",
       "4       2010-01-04 09:54:00   3.75          NaN  \n",
       "...                     ...    ...          ...  \n",
       "461768  2010-12-23 16:49:00   1.25          NaN  \n",
       "461769  2010-12-23 16:49:00   1.45          NaN  \n",
       "461770  2010-12-23 17:41:00   3.75          NaN  \n",
       "461771  2010-12-23 17:41:00   1.25          NaN  \n",
       "461772  2010-12-23 17:41:00   2.10          NaN  \n",
       "\n",
       "[461773 rows x 7 columns]"
      ]
     },
     "execution_count": 3,
     "metadata": {},
     "output_type": "execute_result"
    }
   ],
   "source": [
    "df = pd.read_csv('C:/Users/LENOVO/Python/Online Retail Data.csv', header=0)\n",
    "df"
   ]
  },
  {
   "cell_type": "markdown",
   "id": "bcb2db12-45f4-4394-9105-ae7eff18f8c7",
   "metadata": {},
   "source": [
    "# Data Cleansing"
   ]
  },
  {
   "cell_type": "code",
   "execution_count": 4,
   "id": "f84425d1-dc88-45ad-8f28-8c13839afa67",
   "metadata": {},
   "outputs": [],
   "source": [
    "df_clean = df.copy()"
   ]
  },
  {
   "cell_type": "markdown",
   "id": "d041c104-e4ff-42f9-906b-bef01de5b17b",
   "metadata": {},
   "source": [
    "delete all lines without product_name\n"
   ]
  },
  {
   "cell_type": "code",
   "execution_count": 5,
   "id": "d77de0a9-09c4-4b93-84c0-b670e047b451",
   "metadata": {},
   "outputs": [],
   "source": [
    "df_clean = df_clean[~df_clean['product_name'].isna()]"
   ]
  },
  {
   "cell_type": "markdown",
   "id": "6a59be7c-321e-49b8-bf5e-bd35601b5c1d",
   "metadata": {},
   "source": [
    "make all products\n"
   ]
  },
  {
   "cell_type": "code",
   "execution_count": 6,
   "id": "11cd5c42-7591-44bc-914a-fb93ece9c640",
   "metadata": {},
   "outputs": [],
   "source": [
    "df_clean['product_name'] = df_clean['product_name'].str.lower()"
   ]
  },
  {
   "cell_type": "markdown",
   "id": "96cbdb0d-1a7d-4445-b389-5e27152f9d09",
   "metadata": {},
   "source": [
    "Delete all rows with product_code or product_name test\n"
   ]
  },
  {
   "cell_type": "code",
   "execution_count": 7,
   "id": "15a5217f-118d-4634-a26c-5c8b8861e9c4",
   "metadata": {},
   "outputs": [],
   "source": [
    "df_clean = df_clean[(~df_clean['product_code'].str.lower().str.contains('test')) |\n",
    "                    (~df_clean['product_name'].str.contains('test '))]"
   ]
  },
  {
   "cell_type": "markdown",
   "id": "534e5943-0ba9-4efb-9bda-bbcdea7fdc5f",
   "metadata": {},
   "source": [
    "create order_status column with value 'cancelled' if order_id starts with letter 'c' and 'delivered' if order_id does not start with letter 'c'"
   ]
  },
  {
   "cell_type": "code",
   "execution_count": 8,
   "id": "bea183b8-064d-4870-8167-4b8d95d04a6f",
   "metadata": {},
   "outputs": [],
   "source": [
    "df_clean['order_status'] = np.where(df_clean['order_id'].str[:1]=='C', 'cancelled', 'delivered')"
   ]
  },
  {
   "cell_type": "markdown",
   "id": "632dbd0c-33e8-45e7-8b02-74e862ecbfbd",
   "metadata": {},
   "source": [
    "change the negative quantity value to be positive because the negative value only indicates the order cancelled\n"
   ]
  },
  {
   "cell_type": "code",
   "execution_count": 9,
   "id": "c73cfc7d-085a-489d-be39-43e606ebd13a",
   "metadata": {},
   "outputs": [],
   "source": [
    "df_clean['quantity'] = df_clean['quantity'].abs()"
   ]
  },
  {
   "cell_type": "markdown",
   "id": "034aada8-ef67-45b6-ae49-f7daa10be12c",
   "metadata": {},
   "source": [
    "delete lines with negative price price\n"
   ]
  },
  {
   "cell_type": "code",
   "execution_count": 10,
   "id": "407e39fe-ee15-4e14-9985-ae07597416f6",
   "metadata": {},
   "outputs": [],
   "source": [
    "df_clean = df_clean[df_clean['price']>0]"
   ]
  },
  {
   "cell_type": "markdown",
   "id": "a3aa50b0-c6dd-4fe1-ac98-922c7e3421c1",
   "metadata": {},
   "source": [
    "make an amount value, which is the multiplication between quantity and price\n"
   ]
  },
  {
   "cell_type": "code",
   "execution_count": 11,
   "id": "80eb6951-1dea-45d4-b420-43c361b87494",
   "metadata": {},
   "outputs": [],
   "source": [
    "df_clean['amount'] = df_clean['quantity'] * df_clean['price']"
   ]
  },
  {
   "cell_type": "markdown",
   "id": "c736060e-d5c4-497f-b7ab-6dfffaa4e7e8",
   "metadata": {},
   "source": [
    "replace product_name from product_code which has several product_names with one of its product_names that most often appears\n"
   ]
  },
  {
   "cell_type": "code",
   "execution_count": 12,
   "id": "279eab64-5732-4211-baab-021eacf158b5",
   "metadata": {},
   "outputs": [],
   "source": [
    "most_freq_product_name = df_clean.groupby(['product_code','product_name'], as_index=False).agg(order_cnt=('order_id','nunique')).sort_values(['product_code','order_cnt'], ascending=[True,False])\n",
    "most_freq_product_name['rank'] = most_freq_product_name.groupby('product_code')['order_cnt'].rank(method='first', ascending=False)\n",
    "most_freq_product_name = most_freq_product_name[most_freq_product_name['rank']==1].drop(columns=['order_cnt','rank'])"
   ]
  },
  {
   "cell_type": "code",
   "execution_count": 13,
   "id": "cfa755ab-a07f-445e-91e3-ecbc1d1a235f",
   "metadata": {},
   "outputs": [],
   "source": [
    "df_clean = df_clean.merge(most_freq_product_name.rename(columns={'product_name':'most_freq_product_name'}), how='left', on='product_code')\n",
    "df_clean['product_name'] = df_clean['most_freq_product_name']\n",
    "df_clean = df_clean.drop(columns='most_freq_product_name')"
   ]
  },
  {
   "cell_type": "markdown",
   "id": "b39ee295-d7b9-4690-9ed2-8909ea2a3d1b",
   "metadata": {},
   "source": [
    "Converting customer_id to string"
   ]
  },
  {
   "cell_type": "code",
   "execution_count": 14,
   "id": "3741ccdd-9a53-4f03-95cb-32c09495a815",
   "metadata": {
    "tags": []
   },
   "outputs": [
    {
     "data": {
      "text/html": [
       "<div>\n",
       "<style scoped>\n",
       "    .dataframe tbody tr th:only-of-type {\n",
       "        vertical-align: middle;\n",
       "    }\n",
       "\n",
       "    .dataframe tbody tr th {\n",
       "        vertical-align: top;\n",
       "    }\n",
       "\n",
       "    .dataframe thead th {\n",
       "        text-align: right;\n",
       "    }\n",
       "</style>\n",
       "<table border=\"1\" class=\"dataframe\">\n",
       "  <thead>\n",
       "    <tr style=\"text-align: right;\">\n",
       "      <th></th>\n",
       "      <th>order_id</th>\n",
       "      <th>product_code</th>\n",
       "      <th>product_name</th>\n",
       "      <th>quantity</th>\n",
       "      <th>order_date</th>\n",
       "      <th>price</th>\n",
       "      <th>customer_id</th>\n",
       "      <th>order_status</th>\n",
       "      <th>amount</th>\n",
       "    </tr>\n",
       "  </thead>\n",
       "  <tbody>\n",
       "    <tr>\n",
       "      <th>0</th>\n",
       "      <td>C493411</td>\n",
       "      <td>21539</td>\n",
       "      <td>red retrospot butter dish</td>\n",
       "      <td>1</td>\n",
       "      <td>2010-01-04 09:43:00</td>\n",
       "      <td>4.25</td>\n",
       "      <td>14590.0</td>\n",
       "      <td>cancelled</td>\n",
       "      <td>4.25</td>\n",
       "    </tr>\n",
       "    <tr>\n",
       "      <th>1</th>\n",
       "      <td>493413</td>\n",
       "      <td>21724</td>\n",
       "      <td>panda and bunnies sticker sheet</td>\n",
       "      <td>1</td>\n",
       "      <td>2010-01-04 09:54:00</td>\n",
       "      <td>0.85</td>\n",
       "      <td>nan</td>\n",
       "      <td>delivered</td>\n",
       "      <td>0.85</td>\n",
       "    </tr>\n",
       "    <tr>\n",
       "      <th>2</th>\n",
       "      <td>493413</td>\n",
       "      <td>84578</td>\n",
       "      <td>elephant toy with blue t-shirt</td>\n",
       "      <td>1</td>\n",
       "      <td>2010-01-04 09:54:00</td>\n",
       "      <td>3.75</td>\n",
       "      <td>nan</td>\n",
       "      <td>delivered</td>\n",
       "      <td>3.75</td>\n",
       "    </tr>\n",
       "    <tr>\n",
       "      <th>3</th>\n",
       "      <td>493413</td>\n",
       "      <td>21723</td>\n",
       "      <td>alphabet hearts sticker sheet</td>\n",
       "      <td>1</td>\n",
       "      <td>2010-01-04 09:54:00</td>\n",
       "      <td>0.85</td>\n",
       "      <td>nan</td>\n",
       "      <td>delivered</td>\n",
       "      <td>0.85</td>\n",
       "    </tr>\n",
       "    <tr>\n",
       "      <th>4</th>\n",
       "      <td>493414</td>\n",
       "      <td>21844</td>\n",
       "      <td>red retrospot mug</td>\n",
       "      <td>36</td>\n",
       "      <td>2010-01-04 10:28:00</td>\n",
       "      <td>2.55</td>\n",
       "      <td>14590.0</td>\n",
       "      <td>delivered</td>\n",
       "      <td>91.80</td>\n",
       "    </tr>\n",
       "    <tr>\n",
       "      <th>...</th>\n",
       "      <td>...</td>\n",
       "      <td>...</td>\n",
       "      <td>...</td>\n",
       "      <td>...</td>\n",
       "      <td>...</td>\n",
       "      <td>...</td>\n",
       "      <td>...</td>\n",
       "      <td>...</td>\n",
       "      <td>...</td>\n",
       "    </tr>\n",
       "    <tr>\n",
       "      <th>458241</th>\n",
       "      <td>539991</td>\n",
       "      <td>21618</td>\n",
       "      <td>4 wildflower botanical candles</td>\n",
       "      <td>1</td>\n",
       "      <td>2010-12-23 16:49:00</td>\n",
       "      <td>1.25</td>\n",
       "      <td>nan</td>\n",
       "      <td>delivered</td>\n",
       "      <td>1.25</td>\n",
       "    </tr>\n",
       "    <tr>\n",
       "      <th>458242</th>\n",
       "      <td>539991</td>\n",
       "      <td>72741</td>\n",
       "      <td>grand chocolatecandle</td>\n",
       "      <td>4</td>\n",
       "      <td>2010-12-23 16:49:00</td>\n",
       "      <td>1.45</td>\n",
       "      <td>nan</td>\n",
       "      <td>delivered</td>\n",
       "      <td>5.80</td>\n",
       "    </tr>\n",
       "    <tr>\n",
       "      <th>458243</th>\n",
       "      <td>539992</td>\n",
       "      <td>21470</td>\n",
       "      <td>flower vine raffia food cover</td>\n",
       "      <td>1</td>\n",
       "      <td>2010-12-23 17:41:00</td>\n",
       "      <td>3.75</td>\n",
       "      <td>nan</td>\n",
       "      <td>delivered</td>\n",
       "      <td>3.75</td>\n",
       "    </tr>\n",
       "    <tr>\n",
       "      <th>458244</th>\n",
       "      <td>539992</td>\n",
       "      <td>22258</td>\n",
       "      <td>felt farm animal rabbit</td>\n",
       "      <td>1</td>\n",
       "      <td>2010-12-23 17:41:00</td>\n",
       "      <td>1.25</td>\n",
       "      <td>nan</td>\n",
       "      <td>delivered</td>\n",
       "      <td>1.25</td>\n",
       "    </tr>\n",
       "    <tr>\n",
       "      <th>458245</th>\n",
       "      <td>539992</td>\n",
       "      <td>21155</td>\n",
       "      <td>red spotty peg bag</td>\n",
       "      <td>1</td>\n",
       "      <td>2010-12-23 17:41:00</td>\n",
       "      <td>2.10</td>\n",
       "      <td>nan</td>\n",
       "      <td>delivered</td>\n",
       "      <td>2.10</td>\n",
       "    </tr>\n",
       "  </tbody>\n",
       "</table>\n",
       "<p>458246 rows × 9 columns</p>\n",
       "</div>"
      ],
      "text/plain": [
       "       order_id product_code                     product_name  quantity  \\\n",
       "0       C493411        21539        red retrospot butter dish         1   \n",
       "1        493413        21724  panda and bunnies sticker sheet         1   \n",
       "2        493413        84578   elephant toy with blue t-shirt         1   \n",
       "3        493413        21723    alphabet hearts sticker sheet         1   \n",
       "4        493414        21844                red retrospot mug        36   \n",
       "...         ...          ...                              ...       ...   \n",
       "458241   539991        21618   4 wildflower botanical candles         1   \n",
       "458242   539991        72741            grand chocolatecandle         4   \n",
       "458243   539992        21470    flower vine raffia food cover         1   \n",
       "458244   539992        22258          felt farm animal rabbit         1   \n",
       "458245   539992        21155               red spotty peg bag         1   \n",
       "\n",
       "                 order_date  price customer_id order_status  amount  \n",
       "0       2010-01-04 09:43:00   4.25     14590.0    cancelled    4.25  \n",
       "1       2010-01-04 09:54:00   0.85         nan    delivered    0.85  \n",
       "2       2010-01-04 09:54:00   3.75         nan    delivered    3.75  \n",
       "3       2010-01-04 09:54:00   0.85         nan    delivered    0.85  \n",
       "4       2010-01-04 10:28:00   2.55     14590.0    delivered   91.80  \n",
       "...                     ...    ...         ...          ...     ...  \n",
       "458241  2010-12-23 16:49:00   1.25         nan    delivered    1.25  \n",
       "458242  2010-12-23 16:49:00   1.45         nan    delivered    5.80  \n",
       "458243  2010-12-23 17:41:00   3.75         nan    delivered    3.75  \n",
       "458244  2010-12-23 17:41:00   1.25         nan    delivered    1.25  \n",
       "458245  2010-12-23 17:41:00   2.10         nan    delivered    2.10  \n",
       "\n",
       "[458246 rows x 9 columns]"
      ]
     },
     "execution_count": 14,
     "metadata": {},
     "output_type": "execute_result"
    }
   ],
   "source": [
    "df_clean['customer_id'] = df_clean['customer_id'].astype(str)\n",
    "df_clean = df_clean.reset_index(drop=True)\n",
    "df_clean"
   ]
  },
  {
   "cell_type": "markdown",
   "id": "71cc4605-87bd-45ed-b397-7ab6f71285f0",
   "metadata": {
    "tags": []
   },
   "source": [
    "# Things to do frequently in EDA"
   ]
  },
  {
   "cell_type": "markdown",
   "id": "2eba008f-4ae4-4d40-82a5-efbbea0099ba",
   "metadata": {},
   "source": [
    "## Knowing many rows/records and columns/variables/features"
   ]
  },
  {
   "cell_type": "code",
   "execution_count": 15,
   "id": "5575e347-bd83-438b-8952-17f35c8b1406",
   "metadata": {
    "tags": []
   },
   "outputs": [
    {
     "data": {
      "text/plain": [
       "(458246, 9)"
      ]
     },
     "execution_count": 15,
     "metadata": {},
     "output_type": "execute_result"
    }
   ],
   "source": [
    "df_clean.shape"
   ]
  },
  {
   "cell_type": "markdown",
   "id": "06eaf0e9-59de-4b74-8209-4a9faa042fe0",
   "metadata": {},
   "source": [
    "## Know the data type of each column"
   ]
  },
  {
   "cell_type": "code",
   "execution_count": 16,
   "id": "341dc183-bddc-403d-95c2-0d4c26fc70b7",
   "metadata": {
    "tags": []
   },
   "outputs": [
    {
     "name": "stdout",
     "output_type": "stream",
     "text": [
      "<class 'pandas.core.frame.DataFrame'>\n",
      "RangeIndex: 458246 entries, 0 to 458245\n",
      "Data columns (total 9 columns):\n",
      " #   Column        Non-Null Count   Dtype  \n",
      "---  ------        --------------   -----  \n",
      " 0   order_id      458246 non-null  object \n",
      " 1   product_code  458246 non-null  object \n",
      " 2   product_name  458246 non-null  object \n",
      " 3   quantity      458246 non-null  int64  \n",
      " 4   order_date    458246 non-null  object \n",
      " 5   price         458246 non-null  float64\n",
      " 6   customer_id   458246 non-null  object \n",
      " 7   order_status  458246 non-null  object \n",
      " 8   amount        458246 non-null  float64\n",
      "dtypes: float64(2), int64(1), object(6)\n",
      "memory usage: 31.5+ MB\n"
     ]
    }
   ],
   "source": [
    "df_clean.info()"
   ]
  },
  {
   "cell_type": "markdown",
   "id": "f587ea0c-0265-4f6c-a698-b5a251e97083",
   "metadata": {
    "execution": {
     "iopub.execute_input": "2022-10-22T11:05:50.951453Z",
     "iopub.status.busy": "2022-10-22T11:05:50.951041Z",
     "iopub.status.idle": "2022-10-22T11:05:51.330749Z",
     "shell.execute_reply": "2022-10-22T11:05:51.329414Z",
     "shell.execute_reply.started": "2022-10-22T11:05:50.951413Z"
    },
    "tags": []
   },
   "source": [
    "## Know the unique value of the categorical column/variable"
   ]
  },
  {
   "cell_type": "code",
   "execution_count": 17,
   "id": "f922d192-248d-4594-8b07-d8be5cf66944",
   "metadata": {
    "tags": []
   },
   "outputs": [
    {
     "data": {
      "text/plain": [
       "array(['cancelled', 'delivered'], dtype=object)"
      ]
     },
     "execution_count": 17,
     "metadata": {},
     "output_type": "execute_result"
    }
   ],
   "source": [
    "# Without the frequency information of each unique value\n",
    "df_clean['order_status'].unique()"
   ]
  },
  {
   "cell_type": "code",
   "execution_count": 18,
   "id": "20722b4a-fd44-4b99-a54d-35f7647b7d66",
   "metadata": {
    "tags": []
   },
   "outputs": [
    {
     "data": {
      "text/plain": [
       "order_status\n",
       "delivered    449996\n",
       "cancelled      8250\n",
       "Name: count, dtype: int64"
      ]
     },
     "execution_count": 18,
     "metadata": {},
     "output_type": "execute_result"
    }
   ],
   "source": [
    "# with the frequency information of each unique value\n",
    "df_clean['order_status'].value_counts()"
   ]
  },
  {
   "cell_type": "markdown",
   "id": "172c9031-f442-4de7-a7db-d88b17a6aeb0",
   "metadata": {},
   "source": [
    "# Calculating Descriptive Statistics from Dataframe"
   ]
  },
  {
   "cell_type": "markdown",
   "id": "44faafe4-99bd-4d44-afaf-dfb2a000abcf",
   "metadata": {},
   "source": [
    "## Knowing the statistics of the numerical data distribution in the whole column in the dataframe as well as quantitatively"
   ]
  },
  {
   "cell_type": "code",
   "execution_count": 19,
   "id": "7bfa971b-d109-4e78-82ae-df9d30ca07d0",
   "metadata": {
    "tags": []
   },
   "outputs": [
    {
     "data": {
      "text/html": [
       "<div>\n",
       "<style scoped>\n",
       "    .dataframe tbody tr th:only-of-type {\n",
       "        vertical-align: middle;\n",
       "    }\n",
       "\n",
       "    .dataframe tbody tr th {\n",
       "        vertical-align: top;\n",
       "    }\n",
       "\n",
       "    .dataframe thead th {\n",
       "        text-align: right;\n",
       "    }\n",
       "</style>\n",
       "<table border=\"1\" class=\"dataframe\">\n",
       "  <thead>\n",
       "    <tr style=\"text-align: right;\">\n",
       "      <th></th>\n",
       "      <th>quantity</th>\n",
       "      <th>price</th>\n",
       "      <th>amount</th>\n",
       "    </tr>\n",
       "  </thead>\n",
       "  <tbody>\n",
       "    <tr>\n",
       "      <th>count</th>\n",
       "      <td>458246.000000</td>\n",
       "      <td>458246.000000</td>\n",
       "      <td>458246.000000</td>\n",
       "    </tr>\n",
       "    <tr>\n",
       "      <th>mean</th>\n",
       "      <td>10.004764</td>\n",
       "      <td>4.903037</td>\n",
       "      <td>19.512293</td>\n",
       "    </tr>\n",
       "    <tr>\n",
       "      <th>std</th>\n",
       "      <td>61.180755</td>\n",
       "      <td>99.536887</td>\n",
       "      <td>118.566258</td>\n",
       "    </tr>\n",
       "    <tr>\n",
       "      <th>min</th>\n",
       "      <td>1.000000</td>\n",
       "      <td>0.001000</td>\n",
       "      <td>0.001000</td>\n",
       "    </tr>\n",
       "    <tr>\n",
       "      <th>25%</th>\n",
       "      <td>1.000000</td>\n",
       "      <td>1.250000</td>\n",
       "      <td>3.750000</td>\n",
       "    </tr>\n",
       "    <tr>\n",
       "      <th>50%</th>\n",
       "      <td>3.000000</td>\n",
       "      <td>2.100000</td>\n",
       "      <td>9.300000</td>\n",
       "    </tr>\n",
       "    <tr>\n",
       "      <th>75%</th>\n",
       "      <td>10.000000</td>\n",
       "      <td>4.210000</td>\n",
       "      <td>17.000000</td>\n",
       "    </tr>\n",
       "    <tr>\n",
       "      <th>max</th>\n",
       "      <td>10000.000000</td>\n",
       "      <td>25111.090000</td>\n",
       "      <td>25111.090000</td>\n",
       "    </tr>\n",
       "  </tbody>\n",
       "</table>\n",
       "</div>"
      ],
      "text/plain": [
       "            quantity          price         amount\n",
       "count  458246.000000  458246.000000  458246.000000\n",
       "mean       10.004764       4.903037      19.512293\n",
       "std        61.180755      99.536887     118.566258\n",
       "min         1.000000       0.001000       0.001000\n",
       "25%         1.000000       1.250000       3.750000\n",
       "50%         3.000000       2.100000       9.300000\n",
       "75%        10.000000       4.210000      17.000000\n",
       "max     10000.000000   25111.090000   25111.090000"
      ]
     },
     "execution_count": 19,
     "metadata": {},
     "output_type": "execute_result"
    }
   ],
   "source": [
    "df_clean.describe()"
   ]
  },
  {
   "cell_type": "markdown",
   "id": "1d31cac8-d1dc-4cd6-b49b-c42c086fd1f5",
   "metadata": {
    "tags": []
   },
   "source": [
    "## Know certain statistics individually"
   ]
  },
  {
   "cell_type": "code",
   "execution_count": 20,
   "id": "0c1bcc39-0aa6-4a62-b41a-f0811e6fdc6d",
   "metadata": {
    "tags": []
   },
   "outputs": [
    {
     "data": {
      "text/plain": [
       "np.int64(458246)"
      ]
     },
     "execution_count": 20,
     "metadata": {},
     "output_type": "execute_result"
    }
   ],
   "source": [
    "# Frequency (Frequency) - Not Unique\n",
    "df_clean['order_id'].count()"
   ]
  },
  {
   "cell_type": "code",
   "execution_count": 21,
   "id": "8977e20e-57a8-49fd-9699-9e72557bd0df",
   "metadata": {
    "tags": []
   },
   "outputs": [
    {
     "data": {
      "text/plain": [
       "22244"
      ]
     },
     "execution_count": 21,
     "metadata": {},
     "output_type": "execute_result"
    }
   ],
   "source": [
    "# Frequency (Frequency) - Unique\n",
    "df_clean['order_id'].nunique()"
   ]
  },
  {
   "cell_type": "code",
   "execution_count": 22,
   "id": "c5df3ed4-44f7-4dba-822a-fbf29cbf5f51",
   "metadata": {
    "tags": []
   },
   "outputs": [
    {
     "data": {
      "text/plain": [
       "np.int64(4584643)"
      ]
     },
     "execution_count": 22,
     "metadata": {},
     "output_type": "execute_result"
    }
   ],
   "source": [
    "# summons (sum)\n",
    "df_clean['quantity'].sum()"
   ]
  },
  {
   "cell_type": "code",
   "execution_count": 23,
   "id": "bb4454f6-8efa-4c80-8eb0-cebad50df008",
   "metadata": {
    "tags": []
   },
   "outputs": [
    {
     "data": {
      "text/plain": [
       "np.int64(166722)"
      ]
     },
     "execution_count": 23,
     "metadata": {},
     "output_type": "execute_result"
    }
   ],
   "source": [
    "# summons (sum) subset of data\n",
    "df_clean.loc[df_clean['product_name'].str.contains('tea'), 'quantity'].sum()"
   ]
  },
  {
   "cell_type": "code",
   "execution_count": 24,
   "id": "2d67feb1-7f6e-4cc4-9b83-c28984ada47c",
   "metadata": {
    "tags": []
   },
   "outputs": [
    {
     "data": {
      "text/plain": [
       "np.float64(10.004763816814549)"
      ]
     },
     "execution_count": 24,
     "metadata": {},
     "output_type": "execute_result"
    }
   ],
   "source": [
    "# mean\n",
    "df_clean['quantity'].mean()"
   ]
  },
  {
   "cell_type": "code",
   "execution_count": 25,
   "id": "4aa4fd34-1a79-4ffc-b05a-2c5e10e0f1b5",
   "metadata": {
    "tags": []
   },
   "outputs": [
    {
     "data": {
      "text/plain": [
       "np.float64(9.657205746061168)"
      ]
     },
     "execution_count": 25,
     "metadata": {},
     "output_type": "execute_result"
    }
   ],
   "source": [
    "# mean subset of data\n",
    "df_clean.loc[df_clean['product_name'].str.contains('tea'), 'quantity'].mean()"
   ]
  },
  {
   "cell_type": "code",
   "execution_count": 26,
   "id": "e8f79fd1-209c-4ee7-aa1c-d7fb741fcbce",
   "metadata": {
    "tags": []
   },
   "outputs": [
    {
     "data": {
      "text/plain": [
       "3.0"
      ]
     },
     "execution_count": 26,
     "metadata": {},
     "output_type": "execute_result"
    }
   ],
   "source": [
    "# median\n",
    "df_clean['quantity'].median()"
   ]
  },
  {
   "cell_type": "code",
   "execution_count": 27,
   "id": "5d7dde9d-0df9-4eab-95ba-9ae4ba20a407",
   "metadata": {
    "tags": []
   },
   "outputs": [
    {
     "data": {
      "text/plain": [
       "3.0"
      ]
     },
     "execution_count": 27,
     "metadata": {},
     "output_type": "execute_result"
    }
   ],
   "source": [
    "# median subset from data\n",
    "df_clean.loc[df_clean['product_name'].str.contains('tea'), 'quantity'].median()"
   ]
  },
  {
   "cell_type": "code",
   "execution_count": 28,
   "id": "a580c20e-53bd-4d94-8d8e-6fb507acaedc",
   "metadata": {
    "tags": []
   },
   "outputs": [
    {
     "data": {
      "text/plain": [
       "np.int64(1)"
      ]
     },
     "execution_count": 28,
     "metadata": {},
     "output_type": "execute_result"
    }
   ],
   "source": [
    "# mode (mode)\n",
    "df_clean['quantity'].mode()[0]"
   ]
  },
  {
   "cell_type": "code",
   "execution_count": 29,
   "id": "70435a63-18f2-44d1-af75-b36ab1580b71",
   "metadata": {
    "tags": []
   },
   "outputs": [
    {
     "data": {
      "text/plain": [
       "np.int64(1)"
      ]
     },
     "execution_count": 29,
     "metadata": {},
     "output_type": "execute_result"
    }
   ],
   "source": [
    "# mode (mode) subset of data\n",
    "df_clean.loc[df_clean['product_name'].str.contains('tea'), 'quantity'].mode()[0]"
   ]
  },
  {
   "cell_type": "code",
   "execution_count": 30,
   "id": "4eb0f030-78c3-4ec6-b61d-dbf8c6e7f01d",
   "metadata": {
    "tags": []
   },
   "outputs": [
    {
     "data": {
      "text/plain": [
       "9999"
      ]
     },
     "execution_count": 30,
     "metadata": {},
     "output_type": "execute_result"
    }
   ],
   "source": [
    "# range (range)\n",
    "df_clean['quantity'].max() - df_clean['quantity'].min()"
   ]
  },
  {
   "cell_type": "code",
   "execution_count": 31,
   "id": "ce1daec8-3bf9-46a3-aa61-0e3705ceb6cd",
   "metadata": {
    "tags": []
   },
   "outputs": [
    {
     "data": {
      "text/plain": [
       "4607"
      ]
     },
     "execution_count": 31,
     "metadata": {},
     "output_type": "execute_result"
    }
   ],
   "source": [
    "# Range (range) subset of data\n",
    "df_clean.loc[df_clean['product_name'].str.contains('tea'), 'quantity'].max() - df_clean.loc[df_clean['product_name'].str.contains('tea'), 'quantity'].min()"
   ]
  },
  {
   "cell_type": "code",
   "execution_count": 32,
   "id": "54fbff3f-204a-4293-8b94-26eb3be2e7a7",
   "metadata": {
    "tags": []
   },
   "outputs": [
    {
     "data": {
      "text/plain": [
       "61.18075511600227"
      ]
     },
     "execution_count": 32,
     "metadata": {},
     "output_type": "execute_result"
    }
   ],
   "source": [
    "# Standard Deviation (Standard Deviation)\n",
    "df_clean['quantity'].std()"
   ]
  },
  {
   "cell_type": "code",
   "execution_count": 33,
   "id": "6c331aa7-6a53-409e-a734-d701b4edfadf",
   "metadata": {
    "tags": []
   },
   "outputs": [
    {
     "data": {
      "text/plain": [
       "44.8225496763168"
      ]
     },
     "execution_count": 33,
     "metadata": {},
     "output_type": "execute_result"
    }
   ],
   "source": [
    "# Standard Deviation (Standard Deviation) Subset of data\n",
    "df_clean.loc[df_clean['product_name'].str.contains('tea'), 'quantity'].std()"
   ]
  },
  {
   "cell_type": "code",
   "execution_count": 34,
   "id": "c8a11913-7695-425e-be42-83ed7ec2a230",
   "metadata": {
    "tags": []
   },
   "outputs": [
    {
     "data": {
      "text/plain": [
       "3743.084796564238"
      ]
     },
     "execution_count": 34,
     "metadata": {},
     "output_type": "execute_result"
    }
   ],
   "source": [
    "# variance (variance)\n",
    "df_clean['quantity'].var()"
   ]
  },
  {
   "cell_type": "code",
   "execution_count": 35,
   "id": "1448fd68-2a2b-429a-86ec-f5dc1a7bb7fb",
   "metadata": {
    "tags": []
   },
   "outputs": [
    {
     "data": {
      "text/plain": [
       "3743.0847965642374"
      ]
     },
     "execution_count": 35,
     "metadata": {},
     "output_type": "execute_result"
    }
   ],
   "source": [
    "df_clean['quantity'].std()**2"
   ]
  },
  {
   "cell_type": "code",
   "execution_count": 36,
   "id": "f5e2444f-3a5d-4b74-b018-dd458056d51c",
   "metadata": {},
   "outputs": [
    {
     "data": {
      "text/plain": [
       "2009.0609594858872"
      ]
     },
     "execution_count": 36,
     "metadata": {},
     "output_type": "execute_result"
    }
   ],
   "source": [
    "# variance (variance) subset of data\n",
    "df_clean.loc[df_clean['product_name'].str.contains('tea'), 'quantity'].var()"
   ]
  },
  {
   "cell_type": "code",
   "execution_count": 37,
   "id": "8b246141-0387-4407-8848-2ddd8ff83691",
   "metadata": {
    "tags": []
   },
   "outputs": [
    {
     "data": {
      "text/plain": [
       "np.float64(1.0)"
      ]
     },
     "execution_count": 37,
     "metadata": {},
     "output_type": "execute_result"
    }
   ],
   "source": [
    "# lower quartile (lower quartile)\n",
    "df_clean['quantity'].quantile(.25)"
   ]
  },
  {
   "cell_type": "code",
   "execution_count": 38,
   "id": "a4e99710-3941-4e72-9861-1a11892bd135",
   "metadata": {
    "tags": []
   },
   "outputs": [
    {
     "data": {
      "text/plain": [
       "np.float64(1.0)"
      ]
     },
     "execution_count": 38,
     "metadata": {},
     "output_type": "execute_result"
    }
   ],
   "source": [
    "# lower quartile (lower quartile) subset of data\n",
    "df_clean.loc[df_clean['product_name'].str.contains('tea'), 'quantity'].quantile(.25)"
   ]
  },
  {
   "cell_type": "code",
   "execution_count": 39,
   "id": "99bd2f69-92a7-44c0-a279-27419b38f34a",
   "metadata": {
    "tags": []
   },
   "outputs": [
    {
     "data": {
      "text/plain": [
       "np.float64(10.0)"
      ]
     },
     "execution_count": 39,
     "metadata": {},
     "output_type": "execute_result"
    }
   ],
   "source": [
    "# Upper quartile (upper quartile)\n",
    "df_clean['quantity'].quantile(.75)"
   ]
  },
  {
   "cell_type": "code",
   "execution_count": 40,
   "id": "51532f10-216d-4f54-b5c1-3e249a461abd",
   "metadata": {
    "tags": []
   },
   "outputs": [
    {
     "data": {
      "text/plain": [
       "np.float64(8.0)"
      ]
     },
     "execution_count": 40,
     "metadata": {},
     "output_type": "execute_result"
    }
   ],
   "source": [
    "# Upper quartile (upper quartile) subset of data\n",
    "df_clean.loc[df_clean['product_name'].str.contains('tea'), 'quantity'].quantile(.75)"
   ]
  },
  {
   "cell_type": "code",
   "execution_count": 41,
   "id": "6afcb4e5-e20b-4223-adff-c51fb9486ef0",
   "metadata": {
    "tags": []
   },
   "outputs": [
    {
     "data": {
      "text/plain": [
       "np.float64(9.0)"
      ]
     },
     "execution_count": 41,
     "metadata": {},
     "output_type": "execute_result"
    }
   ],
   "source": [
    "# Interquartile range (Interquartile Range)\n",
    "df_clean['quantity'].quantile(.75) - df_clean['quantity'].quantile(.25)"
   ]
  },
  {
   "cell_type": "code",
   "execution_count": 42,
   "id": "0ae7f7d6-30c0-441d-8a30-45c3bebc9dc4",
   "metadata": {
    "tags": []
   },
   "outputs": [
    {
     "data": {
      "text/plain": [
       "np.float64(7.0)"
      ]
     },
     "execution_count": 42,
     "metadata": {},
     "output_type": "execute_result"
    }
   ],
   "source": [
    "# Interquartile range (interquartile range) subset of data\n",
    "df_clean.loc[df_clean['product_name'].str.contains('tea'), 'quantity'].quantile(.75) - df_clean.loc[df_clean['product_name'].str.contains('tea'), 'quantity'].quantile(.25)"
   ]
  },
  {
   "cell_type": "code",
   "execution_count": 43,
   "id": "1f278b55-72a8-4731-bf43-1ccb8a3b580c",
   "metadata": {
    "tags": []
   },
   "outputs": [],
   "source": [
    "def iqr(x):\n",
    "    q1 = x.quantile(.25)\n",
    "    q3 = x.quantile(.75)\n",
    "    return q3-q1"
   ]
  },
  {
   "cell_type": "code",
   "execution_count": 44,
   "id": "20428cfb-8378-49bb-9017-777b82c4ba2e",
   "metadata": {
    "tags": []
   },
   "outputs": [
    {
     "data": {
      "text/plain": [
       "np.float64(7.0)"
      ]
     },
     "execution_count": 44,
     "metadata": {},
     "output_type": "execute_result"
    }
   ],
   "source": [
    "iqr(df_clean.loc[df_clean['product_name'].str.contains('tea'), 'quantity'])"
   ]
  },
  {
   "cell_type": "markdown",
   "id": "fe352993-3466-4908-a61c-2946ca74534d",
   "metadata": {},
   "source": [
    "# Calculating Descriptive Statistics with Grouping"
   ]
  },
  {
   "cell_type": "markdown",
   "id": "1f84d8a1-6626-488a-8185-8d1009f0dd5a",
   "metadata": {},
   "source": [
    "## Aggregate from 1 column only"
   ]
  },
  {
   "cell_type": "code",
   "execution_count": 45,
   "id": "522e8a59-6102-4df4-bb89-889e1f7159df",
   "metadata": {
    "tags": []
   },
   "outputs": [
    {
     "data": {
      "text/plain": [
       "product_name\n",
       "60 teatime fairy cake cases           27584\n",
       "antique silver tea glass etched       17190\n",
       "moroccan tea glass                     7218\n",
       "antique silver tea glass engraved      6941\n",
       "potting shed tea mug                   6222\n",
       "                                      ...  \n",
       "english rose tea set in gift box          5\n",
       "light topaz teal/aqua col necklace        4\n",
       "ceramic cake teapot with cherry           3\n",
       "dotcomgiftshop tea towel                  2\n",
       "teatime round cake tins                   1\n",
       "Name: quantity, Length: 87, dtype: int64"
      ]
     },
     "execution_count": 45,
     "metadata": {},
     "output_type": "execute_result"
    }
   ],
   "source": [
    "# with 1 column as grouping\n",
    "df_clean.loc[df_clean['product_name'].str.contains('tea')].groupby('product_name')['quantity'].sum().sort_values(ascending=False)"
   ]
  },
  {
   "cell_type": "code",
   "execution_count": 46,
   "id": "d9229672-7cd3-4f56-80d3-ef8ef2f2a82c",
   "metadata": {
    "tags": []
   },
   "outputs": [
    {
     "data": {
      "text/html": [
       "<div>\n",
       "<style scoped>\n",
       "    .dataframe tbody tr th:only-of-type {\n",
       "        vertical-align: middle;\n",
       "    }\n",
       "\n",
       "    .dataframe tbody tr th {\n",
       "        vertical-align: top;\n",
       "    }\n",
       "\n",
       "    .dataframe thead th {\n",
       "        text-align: right;\n",
       "    }\n",
       "</style>\n",
       "<table border=\"1\" class=\"dataframe\">\n",
       "  <thead>\n",
       "    <tr style=\"text-align: right;\">\n",
       "      <th></th>\n",
       "      <th>product_name</th>\n",
       "      <th>quantity</th>\n",
       "    </tr>\n",
       "  </thead>\n",
       "  <tbody>\n",
       "    <tr>\n",
       "      <th>0</th>\n",
       "      <td>60 teatime fairy cake cases</td>\n",
       "      <td>27584</td>\n",
       "    </tr>\n",
       "    <tr>\n",
       "      <th>2</th>\n",
       "      <td>antique silver tea glass etched</td>\n",
       "      <td>17190</td>\n",
       "    </tr>\n",
       "    <tr>\n",
       "      <th>30</th>\n",
       "      <td>moroccan tea glass</td>\n",
       "      <td>7218</td>\n",
       "    </tr>\n",
       "    <tr>\n",
       "      <th>1</th>\n",
       "      <td>antique silver tea glass engraved</td>\n",
       "      <td>6941</td>\n",
       "    </tr>\n",
       "    <tr>\n",
       "      <th>35</th>\n",
       "      <td>potting shed tea mug</td>\n",
       "      <td>6222</td>\n",
       "    </tr>\n",
       "    <tr>\n",
       "      <th>...</th>\n",
       "      <td>...</td>\n",
       "      <td>...</td>\n",
       "    </tr>\n",
       "    <tr>\n",
       "      <th>17</th>\n",
       "      <td>english rose tea set in gift box</td>\n",
       "      <td>5</td>\n",
       "    </tr>\n",
       "    <tr>\n",
       "      <th>27</th>\n",
       "      <td>light topaz teal/aqua col necklace</td>\n",
       "      <td>4</td>\n",
       "    </tr>\n",
       "    <tr>\n",
       "      <th>10</th>\n",
       "      <td>ceramic cake teapot with cherry</td>\n",
       "      <td>3</td>\n",
       "    </tr>\n",
       "    <tr>\n",
       "      <th>13</th>\n",
       "      <td>dotcomgiftshop tea towel</td>\n",
       "      <td>2</td>\n",
       "    </tr>\n",
       "    <tr>\n",
       "      <th>81</th>\n",
       "      <td>teatime round cake tins</td>\n",
       "      <td>1</td>\n",
       "    </tr>\n",
       "  </tbody>\n",
       "</table>\n",
       "<p>87 rows × 2 columns</p>\n",
       "</div>"
      ],
      "text/plain": [
       "                          product_name  quantity\n",
       "0          60 teatime fairy cake cases     27584\n",
       "2      antique silver tea glass etched     17190\n",
       "30                  moroccan tea glass      7218\n",
       "1    antique silver tea glass engraved      6941\n",
       "35                potting shed tea mug      6222\n",
       "..                                 ...       ...\n",
       "17    english rose tea set in gift box         5\n",
       "27  light topaz teal/aqua col necklace         4\n",
       "10     ceramic cake teapot with cherry         3\n",
       "13            dotcomgiftshop tea towel         2\n",
       "81             teatime round cake tins         1\n",
       "\n",
       "[87 rows x 2 columns]"
      ]
     },
     "execution_count": 46,
     "metadata": {},
     "output_type": "execute_result"
    }
   ],
   "source": [
    "df_clean.loc[df_clean['product_name'].str.contains('tea')].groupby('product_name', as_index=False)['quantity'].sum().sort_values('quantity', ascending=False)"
   ]
  },
  {
   "cell_type": "code",
   "execution_count": 47,
   "id": "086ce625-7041-46bb-93a2-a864e73e765c",
   "metadata": {
    "tags": []
   },
   "outputs": [
    {
     "data": {
      "text/plain": [
       "product_name                       order_status\n",
       "60 teatime fairy cake cases        delivered       27432\n",
       "antique silver tea glass etched    delivered       17083\n",
       "moroccan tea glass                 delivered        7129\n",
       "antique silver tea glass engraved  delivered        6935\n",
       "potting shed tea mug               delivered        6113\n",
       "                                                   ...  \n",
       "french chateau oval platter        cancelled           1\n",
       "tea time mug in gift box           cancelled           1\n",
       "tea time breakfast basket          cancelled           1\n",
       "teatime round cake tins            cancelled           1\n",
       "white tea,coffee,sugar jars        cancelled           1\n",
       "Name: quantity, Length: 139, dtype: int64"
      ]
     },
     "execution_count": 47,
     "metadata": {},
     "output_type": "execute_result"
    }
   ],
   "source": [
    "# aggregate with more than 1 column as grouping\n",
    "df_clean.loc[df_clean['product_name'].str.contains('tea')].groupby(['product_name','order_status'])['quantity'].sum().sort_values(ascending=False)"
   ]
  },
  {
   "cell_type": "markdown",
   "id": "06e60fea-151f-49f4-bc49-4029bca4b5dc",
   "metadata": {},
   "source": [
    "## Aggregate from several columns"
   ]
  },
  {
   "cell_type": "code",
   "execution_count": 48,
   "id": "509dcafb-c137-4d49-a804-da78e29f78dc",
   "metadata": {
    "tags": []
   },
   "outputs": [
    {
     "data": {
      "text/html": [
       "<div>\n",
       "<style scoped>\n",
       "    .dataframe tbody tr th:only-of-type {\n",
       "        vertical-align: middle;\n",
       "    }\n",
       "\n",
       "    .dataframe tbody tr th {\n",
       "        vertical-align: top;\n",
       "    }\n",
       "\n",
       "    .dataframe thead th {\n",
       "        text-align: right;\n",
       "    }\n",
       "</style>\n",
       "<table border=\"1\" class=\"dataframe\">\n",
       "  <thead>\n",
       "    <tr style=\"text-align: right;\">\n",
       "      <th></th>\n",
       "      <th>product_name</th>\n",
       "      <th>total_quantity</th>\n",
       "      <th>total_amount</th>\n",
       "    </tr>\n",
       "  </thead>\n",
       "  <tbody>\n",
       "    <tr>\n",
       "      <th>0</th>\n",
       "      <td>60 teatime fairy cake cases</td>\n",
       "      <td>27584</td>\n",
       "      <td>13885.20</td>\n",
       "    </tr>\n",
       "    <tr>\n",
       "      <th>2</th>\n",
       "      <td>antique silver tea glass etched</td>\n",
       "      <td>17190</td>\n",
       "      <td>23522.85</td>\n",
       "    </tr>\n",
       "    <tr>\n",
       "      <th>30</th>\n",
       "      <td>moroccan tea glass</td>\n",
       "      <td>7218</td>\n",
       "      <td>5744.56</td>\n",
       "    </tr>\n",
       "    <tr>\n",
       "      <th>1</th>\n",
       "      <td>antique silver tea glass engraved</td>\n",
       "      <td>6941</td>\n",
       "      <td>8272.97</td>\n",
       "    </tr>\n",
       "    <tr>\n",
       "      <th>35</th>\n",
       "      <td>potting shed tea mug</td>\n",
       "      <td>6222</td>\n",
       "      <td>7456.26</td>\n",
       "    </tr>\n",
       "    <tr>\n",
       "      <th>...</th>\n",
       "      <td>...</td>\n",
       "      <td>...</td>\n",
       "      <td>...</td>\n",
       "    </tr>\n",
       "    <tr>\n",
       "      <th>17</th>\n",
       "      <td>english rose tea set in gift box</td>\n",
       "      <td>5</td>\n",
       "      <td>23.25</td>\n",
       "    </tr>\n",
       "    <tr>\n",
       "      <th>27</th>\n",
       "      <td>light topaz teal/aqua col necklace</td>\n",
       "      <td>4</td>\n",
       "      <td>20.36</td>\n",
       "    </tr>\n",
       "    <tr>\n",
       "      <th>10</th>\n",
       "      <td>ceramic cake teapot with cherry</td>\n",
       "      <td>3</td>\n",
       "      <td>13.45</td>\n",
       "    </tr>\n",
       "    <tr>\n",
       "      <th>13</th>\n",
       "      <td>dotcomgiftshop tea towel</td>\n",
       "      <td>2</td>\n",
       "      <td>6.72</td>\n",
       "    </tr>\n",
       "    <tr>\n",
       "      <th>81</th>\n",
       "      <td>teatime round cake tins</td>\n",
       "      <td>1</td>\n",
       "      <td>9.95</td>\n",
       "    </tr>\n",
       "  </tbody>\n",
       "</table>\n",
       "<p>87 rows × 3 columns</p>\n",
       "</div>"
      ],
      "text/plain": [
       "                          product_name  total_quantity  total_amount\n",
       "0          60 teatime fairy cake cases           27584      13885.20\n",
       "2      antique silver tea glass etched           17190      23522.85\n",
       "30                  moroccan tea glass            7218       5744.56\n",
       "1    antique silver tea glass engraved            6941       8272.97\n",
       "35                potting shed tea mug            6222       7456.26\n",
       "..                                 ...             ...           ...\n",
       "17    english rose tea set in gift box               5         23.25\n",
       "27  light topaz teal/aqua col necklace               4         20.36\n",
       "10     ceramic cake teapot with cherry               3         13.45\n",
       "13            dotcomgiftshop tea towel               2          6.72\n",
       "81             teatime round cake tins               1          9.95\n",
       "\n",
       "[87 rows x 3 columns]"
      ]
     },
     "execution_count": 48,
     "metadata": {},
     "output_type": "execute_result"
    }
   ],
   "source": [
    "# with 1 column as grouping\n",
    "df_clean.loc[df_clean['product_name'].str.contains('tea')].groupby('product_name', as_index=False).agg(total_quantity=('quantity','sum'),total_amount=('amount','sum')).sort_values('total_quantity', ascending=False)"
   ]
  },
  {
   "cell_type": "code",
   "execution_count": 49,
   "id": "85fd2cbe-e64c-4647-b213-5c07827bb27b",
   "metadata": {
    "tags": []
   },
   "outputs": [
    {
     "data": {
      "text/html": [
       "<div>\n",
       "<style scoped>\n",
       "    .dataframe tbody tr th:only-of-type {\n",
       "        vertical-align: middle;\n",
       "    }\n",
       "\n",
       "    .dataframe tbody tr th {\n",
       "        vertical-align: top;\n",
       "    }\n",
       "\n",
       "    .dataframe thead th {\n",
       "        text-align: right;\n",
       "    }\n",
       "</style>\n",
       "<table border=\"1\" class=\"dataframe\">\n",
       "  <thead>\n",
       "    <tr style=\"text-align: right;\">\n",
       "      <th></th>\n",
       "      <th>product_name</th>\n",
       "      <th>order_status</th>\n",
       "      <th>total_quantity</th>\n",
       "      <th>total_amount</th>\n",
       "    </tr>\n",
       "  </thead>\n",
       "  <tbody>\n",
       "    <tr>\n",
       "      <th>1</th>\n",
       "      <td>60 teatime fairy cake cases</td>\n",
       "      <td>delivered</td>\n",
       "      <td>27432</td>\n",
       "      <td>13806.15</td>\n",
       "    </tr>\n",
       "    <tr>\n",
       "      <th>5</th>\n",
       "      <td>antique silver tea glass etched</td>\n",
       "      <td>delivered</td>\n",
       "      <td>17083</td>\n",
       "      <td>23402.78</td>\n",
       "    </tr>\n",
       "    <tr>\n",
       "      <th>47</th>\n",
       "      <td>moroccan tea glass</td>\n",
       "      <td>delivered</td>\n",
       "      <td>7129</td>\n",
       "      <td>5669.51</td>\n",
       "    </tr>\n",
       "    <tr>\n",
       "      <th>3</th>\n",
       "      <td>antique silver tea glass engraved</td>\n",
       "      <td>delivered</td>\n",
       "      <td>6935</td>\n",
       "      <td>8265.47</td>\n",
       "    </tr>\n",
       "    <tr>\n",
       "      <th>55</th>\n",
       "      <td>potting shed tea mug</td>\n",
       "      <td>delivered</td>\n",
       "      <td>6113</td>\n",
       "      <td>7321.53</td>\n",
       "    </tr>\n",
       "    <tr>\n",
       "      <th>...</th>\n",
       "      <td>...</td>\n",
       "      <td>...</td>\n",
       "      <td>...</td>\n",
       "      <td>...</td>\n",
       "    </tr>\n",
       "    <tr>\n",
       "      <th>30</th>\n",
       "      <td>french chateau oval platter</td>\n",
       "      <td>cancelled</td>\n",
       "      <td>1</td>\n",
       "      <td>7.95</td>\n",
       "    </tr>\n",
       "    <tr>\n",
       "      <th>105</th>\n",
       "      <td>tea time mug in gift box</td>\n",
       "      <td>cancelled</td>\n",
       "      <td>1</td>\n",
       "      <td>2.95</td>\n",
       "    </tr>\n",
       "    <tr>\n",
       "      <th>97</th>\n",
       "      <td>tea time breakfast basket</td>\n",
       "      <td>cancelled</td>\n",
       "      <td>1</td>\n",
       "      <td>2.10</td>\n",
       "    </tr>\n",
       "    <tr>\n",
       "      <th>129</th>\n",
       "      <td>teatime round cake tins</td>\n",
       "      <td>cancelled</td>\n",
       "      <td>1</td>\n",
       "      <td>9.95</td>\n",
       "    </tr>\n",
       "    <tr>\n",
       "      <th>137</th>\n",
       "      <td>white tea,coffee,sugar jars</td>\n",
       "      <td>cancelled</td>\n",
       "      <td>1</td>\n",
       "      <td>6.35</td>\n",
       "    </tr>\n",
       "  </tbody>\n",
       "</table>\n",
       "<p>139 rows × 4 columns</p>\n",
       "</div>"
      ],
      "text/plain": [
       "                          product_name order_status  total_quantity  \\\n",
       "1          60 teatime fairy cake cases    delivered           27432   \n",
       "5      antique silver tea glass etched    delivered           17083   \n",
       "47                  moroccan tea glass    delivered            7129   \n",
       "3    antique silver tea glass engraved    delivered            6935   \n",
       "55                potting shed tea mug    delivered            6113   \n",
       "..                                 ...          ...             ...   \n",
       "30         french chateau oval platter    cancelled               1   \n",
       "105           tea time mug in gift box    cancelled               1   \n",
       "97           tea time breakfast basket    cancelled               1   \n",
       "129            teatime round cake tins    cancelled               1   \n",
       "137        white tea,coffee,sugar jars    cancelled               1   \n",
       "\n",
       "     total_amount  \n",
       "1        13806.15  \n",
       "5        23402.78  \n",
       "47        5669.51  \n",
       "3         8265.47  \n",
       "55        7321.53  \n",
       "..            ...  \n",
       "30           7.95  \n",
       "105          2.95  \n",
       "97           2.10  \n",
       "129          9.95  \n",
       "137          6.35  \n",
       "\n",
       "[139 rows x 4 columns]"
      ]
     },
     "execution_count": 49,
     "metadata": {},
     "output_type": "execute_result"
    }
   ],
   "source": [
    "# with more than 1 column as grouping\n",
    "df_clean.loc[df_clean['product_name'].str.contains('tea')].groupby(['product_name','order_status'], as_index=False).agg(total_quantity=('quantity','sum'),total_amount=('amount','sum')).sort_values('total_quantity', ascending=False)"
   ]
  },
  {
   "cell_type": "code",
   "execution_count": null,
   "id": "7185cb50-97c2-46b0-ba86-dd17167867a6",
   "metadata": {},
   "outputs": [],
   "source": []
  }
 ],
 "metadata": {
  "kernelspec": {
   "display_name": "Python 3 (ipykernel)",
   "language": "python",
   "name": "python3"
  },
  "language_info": {
   "codemirror_mode": {
    "name": "ipython",
    "version": 3
   },
   "file_extension": ".py",
   "mimetype": "text/x-python",
   "name": "python",
   "nbconvert_exporter": "python",
   "pygments_lexer": "ipython3",
   "version": "3.13.5"
  },
  "toc": {
   "base_numbering": 1,
   "nav_menu": {},
   "number_sections": true,
   "sideBar": true,
   "skip_h1_title": false,
   "title_cell": "Table of Contents",
   "title_sidebar": "Contents",
   "toc_cell": false,
   "toc_position": {},
   "toc_section_display": true,
   "toc_window_display": true
  }
 },
 "nbformat": 4,
 "nbformat_minor": 5
}
