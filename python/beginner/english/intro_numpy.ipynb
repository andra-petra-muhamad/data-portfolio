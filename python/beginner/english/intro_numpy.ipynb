{
 "cells": [
  {
   "cell_type": "markdown",
   "id": "6192dbb9-ffae-40ac-ae96-7dd7af70c259",
   "metadata": {},
   "source": [
    "# Introduction to Numpy"
   ]
  },
  {
   "cell_type": "code",
   "execution_count": 1,
   "id": "dd17c207-4f43-493d-a1e9-017d4a971e96",
   "metadata": {},
   "outputs": [],
   "source": [
    "import numpy as np\n",
    "import pandas as pd"
   ]
  },
  {
   "cell_type": "markdown",
   "id": "4c67e808-a971-41d6-98c7-0b86c22d3355",
   "metadata": {},
   "source": [
    "__numpy.array (object, dtype = none, copy = true, order = none, subok = false, ndmin = 0)__\n",
    "\n",
    "- object: any object that exposes the array interface method restores the array, or anything (nesting)\n",
    "- dtype: data type, optional\n",
    "- copy: Optional. By default (true), the object is copied\n",
    "- order: C (major line) or F (main column) or A (whatever) (default)\n",
    "- subok: By default, the returned array is forced to become a basic class array. If true, the sub-class will be given\n",
    "- ndimin: Determine the minimum dimensions of the array produced"
   ]
  },
  {
   "cell_type": "markdown",
   "id": "24e71c28-06bd-467d-b2a4-65f2c6273590",
   "metadata": {},
   "source": [
    "#### Example 1\n",
    "Enter the integer value or value with any data type as needed"
   ]
  },
  {
   "cell_type": "code",
   "execution_count": 2,
   "id": "76c5a1cb-5151-4e91-83a9-aa5f38145783",
   "metadata": {},
   "outputs": [],
   "source": [
    "arr = np.array([1,2,3])"
   ]
  },
  {
   "cell_type": "code",
   "execution_count": 3,
   "id": "9aa6d072-1547-4f37-b42a-0950a12acc8c",
   "metadata": {},
   "outputs": [
    {
     "name": "stdout",
     "output_type": "stream",
     "text": [
      "[1 2 3]\n"
     ]
    }
   ],
   "source": [
    "print(arr)"
   ]
  },
  {
   "cell_type": "code",
   "execution_count": 4,
   "id": "617dcc82-9bc0-40c9-9918-710e8c8d9f8d",
   "metadata": {},
   "outputs": [
    {
     "data": {
      "text/plain": [
       "np.int64(3)"
      ]
     },
     "execution_count": 4,
     "metadata": {},
     "output_type": "execute_result"
    }
   ],
   "source": [
    "arr[2]"
   ]
  },
  {
   "cell_type": "markdown",
   "id": "0de1e919-adcf-4035-8307-06ed9798ba8a",
   "metadata": {},
   "source": [
    "#### Example 2\n",
    "2-dimensional array"
   ]
  },
  {
   "cell_type": "code",
   "execution_count": 5,
   "id": "a69afae0-e9f3-4786-8ffc-4610089945df",
   "metadata": {},
   "outputs": [
    {
     "name": "stdout",
     "output_type": "stream",
     "text": [
      "[[1 2]\n",
      " [3 4]]\n"
     ]
    }
   ],
   "source": [
    "a = np.array([[1, 2], [3, 4]])\n",
    "print(a)"
   ]
  },
  {
   "cell_type": "markdown",
   "id": "136a3648-4b5c-4fa9-b8fb-3ff3e32afc12",
   "metadata": {},
   "source": [
    "# Array data type"
   ]
  },
  {
   "cell_type": "markdown",
   "id": "6b272496-392e-47f6-a33b-8524c400f290",
   "metadata": {},
   "source": [
    "#### Example 1 \n",
    "Array with Integer Data Type"
   ]
  },
  {
   "cell_type": "code",
   "execution_count": 6,
   "id": "0c5ff8c7-064f-49fc-8e83-91ac8ffadd3e",
   "metadata": {},
   "outputs": [
    {
     "name": "stdout",
     "output_type": "stream",
     "text": [
      "int64\n",
      "int64\n"
     ]
    }
   ],
   "source": [
    "print(a.dtype)\n",
    "print(arr.dtype)"
   ]
  },
  {
   "cell_type": "markdown",
   "id": "33a967aa-95ae-4834-860d-c616e6bb1368",
   "metadata": {},
   "source": [
    "#### Example 2 \n",
    "data type with unicode string"
   ]
  },
  {
   "cell_type": "code",
   "execution_count": 7,
   "id": "617a0d90-fd2e-477a-b1f1-6a60a8e54561",
   "metadata": {},
   "outputs": [
    {
     "name": "stdout",
     "output_type": "stream",
     "text": [
      "<U8\n"
     ]
    }
   ],
   "source": [
    "arr_1 = np.array(['rambutan', 'apel', 'jeruk'])\n",
    "print(arr_1.dtype)"
   ]
  },
  {
   "cell_type": "code",
   "execution_count": 8,
   "id": "1574d4a1-b361-46d0-bbec-17d31994eda7",
   "metadata": {},
   "outputs": [
    {
     "name": "stdout",
     "output_type": "stream",
     "text": [
      "<U1\n"
     ]
    }
   ],
   "source": [
    "arr_1 = np.array(['r', 'a', 'j'])\n",
    "print(arr_1.dtype)"
   ]
  },
  {
   "cell_type": "markdown",
   "id": "34a818f3-cd58-4426-9822-c23f26852b3b",
   "metadata": {},
   "source": [
    "#### Example 3 \n",
    "Defined data type"
   ]
  },
  {
   "cell_type": "code",
   "execution_count": 9,
   "id": "53285fbe-5d7a-4941-9a61-dbc3c69af8d2",
   "metadata": {},
   "outputs": [],
   "source": [
    "arr_2 = np.array([1, 2, 3, 4], dtype='S')"
   ]
  },
  {
   "cell_type": "code",
   "execution_count": 10,
   "id": "fa71d1ad-6d19-4a53-8a86-e4f4f4e97887",
   "metadata": {},
   "outputs": [
    {
     "name": "stdout",
     "output_type": "stream",
     "text": [
      "[b'1' b'2' b'3' b'4']\n"
     ]
    }
   ],
   "source": [
    "print(arr_2)"
   ]
  },
  {
   "cell_type": "code",
   "execution_count": 11,
   "id": "e999b864-0cd5-4a8d-8d1c-7bfff1dccc63",
   "metadata": {},
   "outputs": [
    {
     "name": "stdout",
     "output_type": "stream",
     "text": [
      "|S1\n"
     ]
    }
   ],
   "source": [
    "print(arr_2.dtype)"
   ]
  },
  {
   "cell_type": "markdown",
   "id": "048f51f0-d0d5-419c-b53e-ab4b10430bb5",
   "metadata": {},
   "source": [
    "#### Example 4 \n",
    "changed data type"
   ]
  },
  {
   "cell_type": "code",
   "execution_count": 12,
   "id": "05d16b67-5750-453b-bb41-d53a17886700",
   "metadata": {},
   "outputs": [],
   "source": [
    "arr = np.array([1.1, 2.1, 3.1])\n",
    "newarr = arr.astype('i')"
   ]
  },
  {
   "cell_type": "code",
   "execution_count": 13,
   "id": "1384fbf1-b553-4983-8ee5-2e027c5443f5",
   "metadata": {},
   "outputs": [
    {
     "name": "stdout",
     "output_type": "stream",
     "text": [
      "[1 2 3]\n"
     ]
    }
   ],
   "source": [
    "print(newarr)"
   ]
  },
  {
   "cell_type": "code",
   "execution_count": 14,
   "id": "162bdbde-9c34-4132-a420-662b37db577a",
   "metadata": {},
   "outputs": [
    {
     "name": "stdout",
     "output_type": "stream",
     "text": [
      "int32\n"
     ]
    }
   ],
   "source": [
    "print(newarr.dtype)"
   ]
  },
  {
   "cell_type": "code",
   "execution_count": 15,
   "id": "25381729-6043-44e3-ae6b-4708732a4ac6",
   "metadata": {},
   "outputs": [
    {
     "name": "stdout",
     "output_type": "stream",
     "text": [
      "float64\n"
     ]
    }
   ],
   "source": [
    "print(arr.dtype)"
   ]
  },
  {
   "cell_type": "markdown",
   "id": "13b4608f-611d-4fe1-b79e-dc1d0af03220",
   "metadata": {},
   "source": [
    "Make an array of existing data \\\n",
    "conversion list to ndarray"
   ]
  },
  {
   "cell_type": "code",
   "execution_count": 16,
   "id": "618dd171-d2ad-4a5d-925a-2ce47a6631eb",
   "metadata": {},
   "outputs": [
    {
     "name": "stdout",
     "output_type": "stream",
     "text": [
      "<class 'list'>\n",
      "int64\n",
      "[1, 2, 3, 4, 5]\n",
      "[1 2 3 4 5]\n"
     ]
    }
   ],
   "source": [
    "x = [1, 2, 3, 4, 5]\n",
    "print(type(x))\n",
    "p = np.asarray(x)\n",
    "print(p.dtype)\n",
    "print(x)\n",
    "print(p)"
   ]
  },
  {
   "cell_type": "markdown",
   "id": "d76e7c1a-c410-41c0-a84c-a5de48f391e0",
   "metadata": {},
   "source": [
    "#### Example 2\n",
    "Conversion list becomes an array with defined data types"
   ]
  },
  {
   "cell_type": "code",
   "execution_count": 17,
   "id": "372c49a3-b2d9-4519-bb07-325f80222f11",
   "metadata": {},
   "outputs": [
    {
     "name": "stdout",
     "output_type": "stream",
     "text": [
      "<class 'list'>\n"
     ]
    }
   ],
   "source": [
    "x = [1, 2, 3, 4, 5]\n",
    "print(type(x))"
   ]
  },
  {
   "cell_type": "code",
   "execution_count": 18,
   "id": "3874aae4-1703-4dd2-8f9b-a79dea0b394c",
   "metadata": {},
   "outputs": [
    {
     "name": "stdout",
     "output_type": "stream",
     "text": [
      "float32\n",
      "[1. 2. 3. 4. 5.]\n"
     ]
    }
   ],
   "source": [
    "x = np.asarray(x, dtype='f')\n",
    "print(x.dtype)\n",
    "print(x)"
   ]
  },
  {
   "cell_type": "markdown",
   "id": "e21a267c-6645-419f-a011-8230dda52bce",
   "metadata": {},
   "source": [
    "### Task 1:\n",
    "- Create two tuple variables that contain numbers\n",
    "- Enter the two variable tuples into the data list variable\n",
    "- The conversion list is an array numpy"
   ]
  },
  {
   "cell_type": "code",
   "execution_count": 23,
   "id": "0a9583ac-b99f-43b0-8aec-bd1ea1b63a61",
   "metadata": {},
   "outputs": [
    {
     "name": "stdout",
     "output_type": "stream",
     "text": [
      "<class 'tuple'>\n"
     ]
    }
   ],
   "source": [
    "# Answer\n",
    "tuple_numbers = ((919, 2019), (2839, 333))\n",
    "print(type(tuple_numbers))"
   ]
  },
  {
   "cell_type": "code",
   "execution_count": 24,
   "id": "d9623012-797d-4d9e-9e31-9b12e8354e96",
   "metadata": {},
   "outputs": [
    {
     "name": "stdout",
     "output_type": "stream",
     "text": [
      "int64\n"
     ]
    }
   ],
   "source": [
    "numpy_numbers = np.array(tuple_numbers)\n",
    "print(numpy_numbers.dtype)"
   ]
  },
  {
   "cell_type": "code",
   "execution_count": 25,
   "id": "98d2e79f-e368-4ea4-9bfc-e26a64af6ef3",
   "metadata": {},
   "outputs": [
    {
     "name": "stdout",
     "output_type": "stream",
     "text": [
      "<class 'numpy.ndarray'>\n"
     ]
    }
   ],
   "source": [
    "print(type(numpy_numbers))"
   ]
  },
  {
   "cell_type": "markdown",
   "id": "23c66d54-8d33-4a55-9126-40de66338b56",
   "metadata": {},
   "source": [
    "* Creating a range of values using numpy:\n",
    "* Creating a dataframe using random and deterministic ranges\\\n",
    "__numpy.arange(start, stop, step, dtype)__"
   ]
  },
  {
   "cell_type": "code",
   "execution_count": 26,
   "id": "34cdf4aa-8914-43df-96e1-94df1f23babb",
   "metadata": {},
   "outputs": [],
   "source": [
    "z = np.arange(0, 1, 0.1, dtype='f')\n",
    "x = np.arange(1,11, 1)\n",
    "y = np.arange(10,20, 1)"
   ]
  },
  {
   "cell_type": "code",
   "execution_count": 27,
   "id": "5c3e5549-a327-4e25-b67c-0efa68726cda",
   "metadata": {},
   "outputs": [
    {
     "name": "stdout",
     "output_type": "stream",
     "text": [
      "[0.         0.1        0.2        0.3        0.4        0.5\n",
      " 0.6        0.7        0.8        0.90000004]\n",
      "[ 1  2  3  4  5  6  7  8  9 10]\n",
      "[10 11 12 13 14 15 16 17 18 19]\n",
      "----------------------------------------------------------------------------------------------------\n"
     ]
    }
   ],
   "source": [
    "print(z)\n",
    "print(x)\n",
    "print(y)\n",
    "print(\"-\"*100)"
   ]
  },
  {
   "cell_type": "code",
   "execution_count": 28,
   "id": "2be90943-345e-40ff-8b5a-9d91250bb507",
   "metadata": {},
   "outputs": [
    {
     "data": {
      "text/html": [
       "<div>\n",
       "<style scoped>\n",
       "    .dataframe tbody tr th:only-of-type {\n",
       "        vertical-align: middle;\n",
       "    }\n",
       "\n",
       "    .dataframe tbody tr th {\n",
       "        vertical-align: top;\n",
       "    }\n",
       "\n",
       "    .dataframe thead th {\n",
       "        text-align: right;\n",
       "    }\n",
       "</style>\n",
       "<table border=\"1\" class=\"dataframe\">\n",
       "  <thead>\n",
       "    <tr style=\"text-align: right;\">\n",
       "      <th></th>\n",
       "      <th>z</th>\n",
       "      <th>x</th>\n",
       "      <th>y</th>\n",
       "    </tr>\n",
       "  </thead>\n",
       "  <tbody>\n",
       "    <tr>\n",
       "      <th>0</th>\n",
       "      <td>0.0</td>\n",
       "      <td>1</td>\n",
       "      <td>10</td>\n",
       "    </tr>\n",
       "    <tr>\n",
       "      <th>1</th>\n",
       "      <td>0.1</td>\n",
       "      <td>2</td>\n",
       "      <td>11</td>\n",
       "    </tr>\n",
       "    <tr>\n",
       "      <th>2</th>\n",
       "      <td>0.2</td>\n",
       "      <td>3</td>\n",
       "      <td>12</td>\n",
       "    </tr>\n",
       "    <tr>\n",
       "      <th>3</th>\n",
       "      <td>0.3</td>\n",
       "      <td>4</td>\n",
       "      <td>13</td>\n",
       "    </tr>\n",
       "    <tr>\n",
       "      <th>4</th>\n",
       "      <td>0.4</td>\n",
       "      <td>5</td>\n",
       "      <td>14</td>\n",
       "    </tr>\n",
       "    <tr>\n",
       "      <th>5</th>\n",
       "      <td>0.5</td>\n",
       "      <td>6</td>\n",
       "      <td>15</td>\n",
       "    </tr>\n",
       "    <tr>\n",
       "      <th>6</th>\n",
       "      <td>0.6</td>\n",
       "      <td>7</td>\n",
       "      <td>16</td>\n",
       "    </tr>\n",
       "    <tr>\n",
       "      <th>7</th>\n",
       "      <td>0.7</td>\n",
       "      <td>8</td>\n",
       "      <td>17</td>\n",
       "    </tr>\n",
       "    <tr>\n",
       "      <th>8</th>\n",
       "      <td>0.8</td>\n",
       "      <td>9</td>\n",
       "      <td>18</td>\n",
       "    </tr>\n",
       "    <tr>\n",
       "      <th>9</th>\n",
       "      <td>0.9</td>\n",
       "      <td>10</td>\n",
       "      <td>19</td>\n",
       "    </tr>\n",
       "  </tbody>\n",
       "</table>\n",
       "</div>"
      ],
      "text/plain": [
       "     z   x   y\n",
       "0  0.0   1  10\n",
       "1  0.1   2  11\n",
       "2  0.2   3  12\n",
       "3  0.3   4  13\n",
       "4  0.4   5  14\n",
       "5  0.5   6  15\n",
       "6  0.6   7  16\n",
       "7  0.7   8  17\n",
       "8  0.8   9  18\n",
       "9  0.9  10  19"
      ]
     },
     "execution_count": 28,
     "metadata": {},
     "output_type": "execute_result"
    }
   ],
   "source": [
    "pd.DataFrame({'z' : z, 'x' : x, 'y' : y})"
   ]
  },
  {
   "cell_type": "markdown",
   "id": "65df930e-61eb-45ab-8767-a8341c502df9",
   "metadata": {},
   "source": [
    "### Other Common Operations in Numpy"
   ]
  },
  {
   "cell_type": "markdown",
   "id": "0b59c6fc-128f-456d-850a-b10ff99501ea",
   "metadata": {},
   "source": [
    "make an array with a value of 1 in numpy"
   ]
  },
  {
   "cell_type": "code",
   "execution_count": 29,
   "id": "cb904e58-cb3a-497d-862f-e82c1b6b1a8a",
   "metadata": {},
   "outputs": [
    {
     "name": "stdout",
     "output_type": "stream",
     "text": [
      "[[1. 1. 1. 1.]\n",
      " [1. 1. 1. 1.]\n",
      " [1. 1. 1. 1.]]\n"
     ]
    }
   ],
   "source": [
    "x = np.ones((3,4))\n",
    "print(x)"
   ]
  },
  {
   "cell_type": "markdown",
   "id": "4fe62622-19d5-4432-ab5d-834511415097",
   "metadata": {},
   "source": [
    "make an array with a value of 0 on numpy"
   ]
  },
  {
   "cell_type": "code",
   "execution_count": 30,
   "id": "1f8c43d9-5205-4796-a9fe-e82a9baf172c",
   "metadata": {},
   "outputs": [
    {
     "name": "stdout",
     "output_type": "stream",
     "text": [
      "[[0. 0.]\n",
      " [0. 0.]]\n"
     ]
    }
   ],
   "source": [
    "x = np.zeros((2,2))\n",
    "print(x)"
   ]
  },
  {
   "cell_type": "code",
   "execution_count": 31,
   "id": "7cc55ab5-9373-444f-9176-d9eb00b69917",
   "metadata": {},
   "outputs": [
    {
     "name": "stdout",
     "output_type": "stream",
     "text": [
      "[[0.72 0.72 0.72 0.72]\n",
      " [0.72 0.72 0.72 0.72]\n",
      " [0.72 0.72 0.72 0.72]]\n"
     ]
    }
   ],
   "source": [
    "x = np.full((3,4), 0.72)\n",
    "print(x)"
   ]
  },
  {
   "cell_type": "code",
   "execution_count": 32,
   "id": "2f1363d0-987c-4825-befa-ebdfef1394f2",
   "metadata": {},
   "outputs": [
    {
     "name": "stdout",
     "output_type": "stream",
     "text": [
      "[[0.68105354 0.29757076 0.04559252 0.12530146]\n",
      " [0.0059165  0.99349808 0.8330163  0.95734394]\n",
      " [0.47971531 0.52720428 0.42886462 0.04910714]\n",
      " [0.02279376 0.72207289 0.16333348 0.05888217]\n",
      " [0.00222333 0.10624683 0.21074111 0.56568967]]\n"
     ]
    }
   ],
   "source": [
    "x = np.random.rand(5,4)\n",
    "print(x)"
   ]
  },
  {
   "cell_type": "code",
   "execution_count": 33,
   "id": "f1fe3c8e-fc0d-4f70-8f10-4d6826851bc7",
   "metadata": {},
   "outputs": [
    {
     "data": {
      "text/html": [
       "<div>\n",
       "<style scoped>\n",
       "    .dataframe tbody tr th:only-of-type {\n",
       "        vertical-align: middle;\n",
       "    }\n",
       "\n",
       "    .dataframe tbody tr th {\n",
       "        vertical-align: top;\n",
       "    }\n",
       "\n",
       "    .dataframe thead th {\n",
       "        text-align: right;\n",
       "    }\n",
       "</style>\n",
       "<table border=\"1\" class=\"dataframe\">\n",
       "  <thead>\n",
       "    <tr style=\"text-align: right;\">\n",
       "      <th></th>\n",
       "      <th>x</th>\n",
       "      <th>y</th>\n",
       "      <th>z</th>\n",
       "      <th>w</th>\n",
       "    </tr>\n",
       "  </thead>\n",
       "  <tbody>\n",
       "    <tr>\n",
       "      <th>0</th>\n",
       "      <td>0.681054</td>\n",
       "      <td>0.297571</td>\n",
       "      <td>0.045593</td>\n",
       "      <td>0.125301</td>\n",
       "    </tr>\n",
       "    <tr>\n",
       "      <th>1</th>\n",
       "      <td>0.005916</td>\n",
       "      <td>0.993498</td>\n",
       "      <td>0.833016</td>\n",
       "      <td>0.957344</td>\n",
       "    </tr>\n",
       "    <tr>\n",
       "      <th>2</th>\n",
       "      <td>0.479715</td>\n",
       "      <td>0.527204</td>\n",
       "      <td>0.428865</td>\n",
       "      <td>0.049107</td>\n",
       "    </tr>\n",
       "    <tr>\n",
       "      <th>3</th>\n",
       "      <td>0.022794</td>\n",
       "      <td>0.722073</td>\n",
       "      <td>0.163333</td>\n",
       "      <td>0.058882</td>\n",
       "    </tr>\n",
       "    <tr>\n",
       "      <th>4</th>\n",
       "      <td>0.002223</td>\n",
       "      <td>0.106247</td>\n",
       "      <td>0.210741</td>\n",
       "      <td>0.565690</td>\n",
       "    </tr>\n",
       "  </tbody>\n",
       "</table>\n",
       "</div>"
      ],
      "text/plain": [
       "          x         y         z         w\n",
       "0  0.681054  0.297571  0.045593  0.125301\n",
       "1  0.005916  0.993498  0.833016  0.957344\n",
       "2  0.479715  0.527204  0.428865  0.049107\n",
       "3  0.022794  0.722073  0.163333  0.058882\n",
       "4  0.002223  0.106247  0.210741  0.565690"
      ]
     },
     "execution_count": 33,
     "metadata": {},
     "output_type": "execute_result"
    }
   ],
   "source": [
    "pd.DataFrame(x, columns=['x', 'y', 'z','w'])"
   ]
  },
  {
   "cell_type": "markdown",
   "id": "3a2d236f-1fd6-42aa-8a61-52c3e4a5eadf",
   "metadata": {},
   "source": [
    "### Task again\n",
    "* Task 1: Generate Random Array using Np.random.rand with the number of row 3 and the number of columns 4 and enter into the dataframe\n",
    "* Task 2: Generate array with a value of one and zero which has rows of 5 and 6 columns in two different variables then conversion to dataframe and cum both"
   ]
  },
  {
   "cell_type": "code",
   "execution_count": 34,
   "id": "e19a3d86-7657-4f53-8976-c312c886bf27",
   "metadata": {},
   "outputs": [
    {
     "name": "stdout",
     "output_type": "stream",
     "text": [
      "[[0.5417021  0.37799332 0.9809965  0.58830181]\n",
      " [0.29210001 0.7529362  0.38652697 0.10442226]\n",
      " [0.669327   0.7353027  0.25355864 0.02115131]]\n"
     ]
    }
   ],
   "source": [
    "# Task 1\n",
    "acak_numpy = np.random.rand(3,4)\n",
    "print(acak_numpy)"
   ]
  },
  {
   "cell_type": "code",
   "execution_count": 35,
   "id": "be74165d-8b8b-4eab-af1f-6fcc5e36f456",
   "metadata": {},
   "outputs": [
    {
     "data": {
      "text/html": [
       "<div>\n",
       "<style scoped>\n",
       "    .dataframe tbody tr th:only-of-type {\n",
       "        vertical-align: middle;\n",
       "    }\n",
       "\n",
       "    .dataframe tbody tr th {\n",
       "        vertical-align: top;\n",
       "    }\n",
       "\n",
       "    .dataframe thead th {\n",
       "        text-align: right;\n",
       "    }\n",
       "</style>\n",
       "<table border=\"1\" class=\"dataframe\">\n",
       "  <thead>\n",
       "    <tr style=\"text-align: right;\">\n",
       "      <th></th>\n",
       "      <th>A</th>\n",
       "      <th>B</th>\n",
       "      <th>C</th>\n",
       "      <th>D</th>\n",
       "    </tr>\n",
       "  </thead>\n",
       "  <tbody>\n",
       "    <tr>\n",
       "      <th>0</th>\n",
       "      <td>0.541702</td>\n",
       "      <td>0.377993</td>\n",
       "      <td>0.980997</td>\n",
       "      <td>0.588302</td>\n",
       "    </tr>\n",
       "    <tr>\n",
       "      <th>1</th>\n",
       "      <td>0.292100</td>\n",
       "      <td>0.752936</td>\n",
       "      <td>0.386527</td>\n",
       "      <td>0.104422</td>\n",
       "    </tr>\n",
       "    <tr>\n",
       "      <th>2</th>\n",
       "      <td>0.669327</td>\n",
       "      <td>0.735303</td>\n",
       "      <td>0.253559</td>\n",
       "      <td>0.021151</td>\n",
       "    </tr>\n",
       "  </tbody>\n",
       "</table>\n",
       "</div>"
      ],
      "text/plain": [
       "          A         B         C         D\n",
       "0  0.541702  0.377993  0.980997  0.588302\n",
       "1  0.292100  0.752936  0.386527  0.104422\n",
       "2  0.669327  0.735303  0.253559  0.021151"
      ]
     },
     "execution_count": 35,
     "metadata": {},
     "output_type": "execute_result"
    }
   ],
   "source": [
    "pd.DataFrame(acak_numpy,columns=[\"A\",\"B\",\"C\",\"D\"])"
   ]
  },
  {
   "cell_type": "code",
   "execution_count": 36,
   "id": "6d1b32b6-9716-4125-a10f-665293606632",
   "metadata": {},
   "outputs": [],
   "source": [
    "# Task 2\n",
    "array_ones = np.ones((5, 6), dtype=int)   # Array 5x6 with all values 1\n",
    "array_zeros = np.zeros((5, 6), dtype=int) # Array 5x6 with all values 0"
   ]
  },
  {
   "cell_type": "markdown",
   "id": "1ea654d0-f22c-44e4-9a7b-970f1755446a",
   "metadata": {},
   "source": [
    "Conversion to dataframe"
   ]
  },
  {
   "cell_type": "code",
   "execution_count": 37,
   "id": "82212c05-1d7b-4f93-8d87-538038f55b3f",
   "metadata": {},
   "outputs": [],
   "source": [
    "df_ones = pd.DataFrame(array_ones, columns=[f\"C{i+1}\" for i in range(6)])\n",
    "df_zeros = pd.DataFrame(array_zeros, columns=[f\"C{i+1}\" for i in range(6)])"
   ]
  },
  {
   "cell_type": "markdown",
   "id": "5ab1ba4f-862b-40ba-9b04-4d32aa27f9de",
   "metadata": {},
   "source": [
    "Combine vertically (row) → axis = 0"
   ]
  },
  {
   "cell_type": "code",
   "execution_count": 38,
   "id": "f67200ae-d275-4861-aba0-5d14720a4f66",
   "metadata": {},
   "outputs": [],
   "source": [
    "df_concat = pd.concat([df_ones, df_zeros], axis=0, ignore_index=True)"
   ]
  },
  {
   "cell_type": "code",
   "execution_count": 39,
   "id": "77fb9545-66f3-4201-9a8d-8ac803a3f201",
   "metadata": {},
   "outputs": [
    {
     "data": {
      "text/html": [
       "<div>\n",
       "<style scoped>\n",
       "    .dataframe tbody tr th:only-of-type {\n",
       "        vertical-align: middle;\n",
       "    }\n",
       "\n",
       "    .dataframe tbody tr th {\n",
       "        vertical-align: top;\n",
       "    }\n",
       "\n",
       "    .dataframe thead th {\n",
       "        text-align: right;\n",
       "    }\n",
       "</style>\n",
       "<table border=\"1\" class=\"dataframe\">\n",
       "  <thead>\n",
       "    <tr style=\"text-align: right;\">\n",
       "      <th></th>\n",
       "      <th>C1</th>\n",
       "      <th>C2</th>\n",
       "      <th>C3</th>\n",
       "      <th>C4</th>\n",
       "      <th>C5</th>\n",
       "      <th>C6</th>\n",
       "    </tr>\n",
       "  </thead>\n",
       "  <tbody>\n",
       "    <tr>\n",
       "      <th>0</th>\n",
       "      <td>1</td>\n",
       "      <td>1</td>\n",
       "      <td>1</td>\n",
       "      <td>1</td>\n",
       "      <td>1</td>\n",
       "      <td>1</td>\n",
       "    </tr>\n",
       "    <tr>\n",
       "      <th>1</th>\n",
       "      <td>1</td>\n",
       "      <td>1</td>\n",
       "      <td>1</td>\n",
       "      <td>1</td>\n",
       "      <td>1</td>\n",
       "      <td>1</td>\n",
       "    </tr>\n",
       "    <tr>\n",
       "      <th>2</th>\n",
       "      <td>1</td>\n",
       "      <td>1</td>\n",
       "      <td>1</td>\n",
       "      <td>1</td>\n",
       "      <td>1</td>\n",
       "      <td>1</td>\n",
       "    </tr>\n",
       "    <tr>\n",
       "      <th>3</th>\n",
       "      <td>1</td>\n",
       "      <td>1</td>\n",
       "      <td>1</td>\n",
       "      <td>1</td>\n",
       "      <td>1</td>\n",
       "      <td>1</td>\n",
       "    </tr>\n",
       "    <tr>\n",
       "      <th>4</th>\n",
       "      <td>1</td>\n",
       "      <td>1</td>\n",
       "      <td>1</td>\n",
       "      <td>1</td>\n",
       "      <td>1</td>\n",
       "      <td>1</td>\n",
       "    </tr>\n",
       "    <tr>\n",
       "      <th>5</th>\n",
       "      <td>0</td>\n",
       "      <td>0</td>\n",
       "      <td>0</td>\n",
       "      <td>0</td>\n",
       "      <td>0</td>\n",
       "      <td>0</td>\n",
       "    </tr>\n",
       "    <tr>\n",
       "      <th>6</th>\n",
       "      <td>0</td>\n",
       "      <td>0</td>\n",
       "      <td>0</td>\n",
       "      <td>0</td>\n",
       "      <td>0</td>\n",
       "      <td>0</td>\n",
       "    </tr>\n",
       "    <tr>\n",
       "      <th>7</th>\n",
       "      <td>0</td>\n",
       "      <td>0</td>\n",
       "      <td>0</td>\n",
       "      <td>0</td>\n",
       "      <td>0</td>\n",
       "      <td>0</td>\n",
       "    </tr>\n",
       "    <tr>\n",
       "      <th>8</th>\n",
       "      <td>0</td>\n",
       "      <td>0</td>\n",
       "      <td>0</td>\n",
       "      <td>0</td>\n",
       "      <td>0</td>\n",
       "      <td>0</td>\n",
       "    </tr>\n",
       "    <tr>\n",
       "      <th>9</th>\n",
       "      <td>0</td>\n",
       "      <td>0</td>\n",
       "      <td>0</td>\n",
       "      <td>0</td>\n",
       "      <td>0</td>\n",
       "      <td>0</td>\n",
       "    </tr>\n",
       "  </tbody>\n",
       "</table>\n",
       "</div>"
      ],
      "text/plain": [
       "   C1  C2  C3  C4  C5  C6\n",
       "0   1   1   1   1   1   1\n",
       "1   1   1   1   1   1   1\n",
       "2   1   1   1   1   1   1\n",
       "3   1   1   1   1   1   1\n",
       "4   1   1   1   1   1   1\n",
       "5   0   0   0   0   0   0\n",
       "6   0   0   0   0   0   0\n",
       "7   0   0   0   0   0   0\n",
       "8   0   0   0   0   0   0\n",
       "9   0   0   0   0   0   0"
      ]
     },
     "execution_count": 39,
     "metadata": {},
     "output_type": "execute_result"
    }
   ],
   "source": [
    "df_concat"
   ]
  },
  {
   "cell_type": "markdown",
   "id": "d974caeb-dcf9-4ca1-ac78-ced7f09ed0bd",
   "metadata": {},
   "source": [
    "# Slicing and indexing"
   ]
  },
  {
   "cell_type": "markdown",
   "id": "1eed3389-77c3-46ac-97dc-329d9a3e1541",
   "metadata": {},
   "source": [
    "## Field Access and Basic Indexing"
   ]
  },
  {
   "cell_type": "markdown",
   "id": "909a6543-fabf-4108-af02-a9d3ac9a75d1",
   "metadata": {},
   "source": [
    "#### Example 1 \n",
    "single index, field index"
   ]
  },
  {
   "cell_type": "code",
   "execution_count": 40,
   "id": "3da0e7ca-98e9-4966-a0c3-214f112799fa",
   "metadata": {},
   "outputs": [
    {
     "name": "stdout",
     "output_type": "stream",
     "text": [
      "[0 1 2 3 4 5 6 7 8 9]\n"
     ]
    }
   ],
   "source": [
    "a = np.arange(10)\n",
    "print(a)"
   ]
  },
  {
   "cell_type": "code",
   "execution_count": 41,
   "id": "6ada9c78-3e56-4ff4-8adc-5e3d406940d9",
   "metadata": {},
   "outputs": [
    {
     "name": "stdout",
     "output_type": "stream",
     "text": [
      "5\n"
     ]
    }
   ],
   "source": [
    "b = a[5]\n",
    "print(b)"
   ]
  },
  {
   "cell_type": "markdown",
   "id": "7f8a6570-5925-4fb6-b235-04aec401965d",
   "metadata": {},
   "source": [
    "#### Example 2"
   ]
  },
  {
   "cell_type": "code",
   "execution_count": 42,
   "id": "374d0ad5-d607-498d-b15c-399fde117515",
   "metadata": {},
   "outputs": [
    {
     "name": "stdout",
     "output_type": "stream",
     "text": [
      "[0 1 2 3 4 5 6 7 8 9]\n"
     ]
    }
   ],
   "source": [
    "a = np.arange(10)\n",
    "print(a)"
   ]
  },
  {
   "cell_type": "code",
   "execution_count": 43,
   "id": "535ad313-f794-4d32-93c2-59da8eb480a3",
   "metadata": {},
   "outputs": [
    {
     "name": "stdout",
     "output_type": "stream",
     "text": [
      "[2 4 6]\n"
     ]
    }
   ],
   "source": [
    "s = slice(2,7,2)\n",
    "print(a[s])"
   ]
  },
  {
   "cell_type": "code",
   "execution_count": 44,
   "id": "1e13e293-92bb-4965-8a43-b19734bcb5b6",
   "metadata": {},
   "outputs": [
    {
     "name": "stdout",
     "output_type": "stream",
     "text": [
      "[1 4 7]\n"
     ]
    }
   ],
   "source": [
    "print(a[slice(1,8,3)])"
   ]
  },
  {
   "cell_type": "markdown",
   "id": "fae3900a-4c7e-4d61-b857-a8b4cfdb9b86",
   "metadata": {},
   "source": [
    "#### Example 3"
   ]
  },
  {
   "cell_type": "code",
   "execution_count": 45,
   "id": "8fc7c8b0-01e1-4f80-b55c-1712c758d744",
   "metadata": {},
   "outputs": [
    {
     "name": "stdout",
     "output_type": "stream",
     "text": [
      "[0 1 2 3 4 5 6 7 8 9]\n",
      "[2 4 6]\n"
     ]
    }
   ],
   "source": [
    "a = np.arange(10)\n",
    "b = a[2:7:2]\n",
    "print(a)\n",
    "print(b)"
   ]
  },
  {
   "cell_type": "markdown",
   "id": "781fb223-5927-4d7a-8f43-50367e93f6c2",
   "metadata": {},
   "source": [
    "#### Example 4 \n",
    "Slicing Index Only by using the Start Parameter"
   ]
  },
  {
   "cell_type": "code",
   "execution_count": 46,
   "id": "f105574f-9e5d-4a58-a49b-7260b918fb8a",
   "metadata": {},
   "outputs": [
    {
     "name": "stdout",
     "output_type": "stream",
     "text": [
      "[0 1 2 3 4 5 6 7 8 9]\n",
      "[2 3 4 5 6 7 8 9]\n"
     ]
    }
   ],
   "source": [
    "a = np.arange(10)\n",
    "print(a)\n",
    "print(a[2:])"
   ]
  },
  {
   "cell_type": "markdown",
   "id": "046eed60-bcb5-4679-ab91-11e1a6b929a8",
   "metadata": {},
   "source": [
    "#### Example 5 \n",
    "Slicing Using Start and Stop Index"
   ]
  },
  {
   "cell_type": "code",
   "execution_count": 47,
   "id": "249310c7-70d2-4116-84e3-b608d9111291",
   "metadata": {},
   "outputs": [
    {
     "name": "stdout",
     "output_type": "stream",
     "text": [
      "[0 1 2 3 4 5 6 7 8 9]\n",
      "[2 3 4]\n"
     ]
    }
   ],
   "source": [
    "a = np.arange(10)\n",
    "print(a)\n",
    "print(a[2:5])"
   ]
  },
  {
   "cell_type": "markdown",
   "id": "757d5d3b-e7b5-4fab-b5d6-17563f7ade3c",
   "metadata": {},
   "source": [
    "#### Example 6 \n",
    "slicing on 2-dimensional array"
   ]
  },
  {
   "cell_type": "code",
   "execution_count": 48,
   "id": "c11a4715-b431-4c7b-af68-8a3fe94d1079",
   "metadata": {},
   "outputs": [
    {
     "name": "stdout",
     "output_type": "stream",
     "text": [
      "[[1 2 3]\n",
      " [3 4 5]\n",
      " [4 5 6]]\n",
      "Slice Array from Index A [1:]\n",
      "[[3 4 5]\n",
      " [4 5 6]]\n"
     ]
    }
   ],
   "source": [
    "a = np.array([[1,2,3],[3,4,5],[4,5,6]])\n",
    "print(a)\n",
    "\n",
    "# Slice items start from an index\n",
    "print('Slice Array from Index A [1:]')\n",
    "print(a[1:])"
   ]
  },
  {
   "cell_type": "markdown",
   "id": "3e75bdd7-bad8-4d96-857a-22b82be28052",
   "metadata": {},
   "source": [
    "#### Example 7 \n",
    "using __ellipsis()__"
   ]
  },
  {
   "cell_type": "code",
   "execution_count": 49,
   "id": "d39fae05-28d8-4a14-955e-550f14119577",
   "metadata": {},
   "outputs": [
    {
     "name": "stdout",
     "output_type": "stream",
     "text": [
      "Our array:\n",
      "[[1 2 3]\n",
      " [3 4 5]\n",
      " [4 5 6]]\n",
      "\\ n\n",
      "Items from the second column:\n",
      "[2 4 5]\n",
      "\\ n\n",
      "Items from the second row:\n",
      "[3 4 5]\n",
      "\\ n\n",
      "Items from column 1 and so on:\n",
      "[[2 3]\n",
      " [4 5]\n",
      " [5 6]]\n"
     ]
    }
   ],
   "source": [
    "a = np.array([[1,2,3],\n",
    "              [3,4,5],\n",
    "              [4,5,6]])\n",
    "\n",
    "print('Our array:')\n",
    "print(a)\n",
    "print('\\ n')\n",
    "\n",
    "# This returns the item in the second column of the main array\n",
    "print('Items from the second column:')\n",
    "print(a[...,1])\n",
    "print('\\ n')\n",
    "\n",
    "# Slice All items from the second row\n",
    "print('Items from the second row:')\n",
    "print(a[1,...])\n",
    "print('\\ n')\n",
    "\n",
    "# we will slice items from column 1 and so on\n",
    "print('Items from column 1 and so on:')\n",
    "print(a[...,1:])\n"
   ]
  },
  {
   "cell_type": "markdown",
   "id": "8792a5c2-7ea3-410b-bda2-60ebdb51d18f",
   "metadata": {},
   "source": [
    "### Case Study\n",
    "1. Create a 2-dimensional array with shape=(3,4)\n",
    "2. Index by taking items from the second row and so on until the last row.\n",
    "3. Index by taking items from columns 1 and 2."
   ]
  },
  {
   "cell_type": "code",
   "execution_count": 50,
   "id": "ca7f1465-52fa-4a5a-ae7c-0456325a8e9d",
   "metadata": {},
   "outputs": [
    {
     "name": "stdout",
     "output_type": "stream",
     "text": [
      "Array 2D (3x4):\n",
      "[[ 10  20  30  40]\n",
      " [ 50  60  70  80]\n",
      " [ 90 100 110 120]]\n"
     ]
    }
   ],
   "source": [
    "array_2d = np.array([[10, 20, 30, 40],\n",
    "                     [50, 60, 70, 80],\n",
    "                     [90, 100, 110, 120]])\n",
    "\n",
    "print(\"Array 2D (3x4):\")\n",
    "print(array_2d)"
   ]
  },
  {
   "cell_type": "code",
   "execution_count": 51,
   "id": "b8d69566-d7e3-40f7-9ee4-3ab2057797ef",
   "metadata": {},
   "outputs": [
    {
     "name": "stdout",
     "output_type": "stream",
     "text": [
      "Row second to last:\n",
      "[[ 50  60  70  80]\n",
      " [ 90 100 110 120]]\n"
     ]
    }
   ],
   "source": [
    "end_row2 = array_2d[1:]  # Take the 2nd row to the end (index 1 to finish)\n",
    "print(\"Row second to last:\")\n",
    "print(end_row2)"
   ]
  },
  {
   "cell_type": "code",
   "execution_count": 53,
   "id": "9e002641-8dbb-445c-8c5d-c57341043865",
   "metadata": {},
   "outputs": [
    {
     "name": "stdout",
     "output_type": "stream",
     "text": [
      "Column 1 and 2 of all rows:\n",
      "[[ 10  20]\n",
      " [ 50  60]\n",
      " [ 90 100]]\n"
     ]
    }
   ],
   "source": [
    "col_1_2 = array_2d[:, 0:2]  # Take all rows, columns 1 and 2nd (index 0 and 1)\n",
    "print(\"Column 1 and 2 of all rows:\")\n",
    "print(col_1_2)"
   ]
  },
  {
   "cell_type": "markdown",
   "id": "43f1ea16-a67b-48da-96bd-a0dfc0deddcd",
   "metadata": {},
   "source": [
    "## Advance Indexing"
   ]
  },
  {
   "cell_type": "markdown",
   "id": "fe7c8f80-d0f8-4c67-b5c1-a7a01065978b",
   "metadata": {},
   "source": [
    "### Integer Indexing"
   ]
  },
  {
   "cell_type": "markdown",
   "id": "29859d25-4598-43fa-a379-5f497d92efb8",
   "metadata": {},
   "source": [
    "#### example 1\n",
    "accessing elements of a 2-dimensional array by specifying the copied rows and columns"
   ]
  },
  {
   "cell_type": "code",
   "execution_count": 54,
   "id": "4301fc93-87d1-4663-838a-b0a55646e699",
   "metadata": {},
   "outputs": [
    {
     "name": "stdout",
     "output_type": "stream",
     "text": [
      "[[1 2]\n",
      " [3 4]\n",
      " [5 6]]\n"
     ]
    }
   ],
   "source": [
    "x = np.array([[1, 2],\n",
    "              [3, 4],\n",
    "              [5, 6]])\n",
    "print(x)"
   ]
  },
  {
   "cell_type": "code",
   "execution_count": 55,
   "id": "8a32a2be-dad2-492a-8eb6-e8beb360bde5",
   "metadata": {},
   "outputs": [
    {
     "name": "stdout",
     "output_type": "stream",
     "text": [
      "[1 4 6]\n"
     ]
    }
   ],
   "source": [
    "y = x[[0,1,2], [0,1,1]]\n",
    "print(y)"
   ]
  },
  {
   "cell_type": "markdown",
   "id": "241b0783-0672-4e39-8e66-1feb35ce0ed0",
   "metadata": {},
   "source": [
    "#### example 2\n",
    "accessing elements of a 2-dimensional array by specifying the copied rows and columns"
   ]
  },
  {
   "cell_type": "code",
   "execution_count": 56,
   "id": "019fc6a1-aa83-4177-bd91-01f075ffb37d",
   "metadata": {},
   "outputs": [
    {
     "name": "stdout",
     "output_type": "stream",
     "text": [
      "Original Array:\n",
      "[[ 0  1  2]\n",
      " [ 3  4  5]\n",
      " [ 6  7  8]\n",
      " [ 9 10 11]]\n",
      "\n",
      "Results of the integer index:\n",
      "[[ 0  2]\n",
      " [ 9 11]]\n"
     ]
    }
   ],
   "source": [
    "x = np.array([[ 0,  1,  2],\n",
    "              [ 3,  4,  5],\n",
    "              [ 6,  7,  8],\n",
    "              [ 9, 10, 11]])\n",
    "\n",
    "print('Original Array:')\n",
    "print(x)\n",
    "print(\"\")\n",
    "rows = np.array([[0,0],[3,3]]) # The first and fourth lines\n",
    "cols = np.array([[0,2],[0,2]]) # First and third columns\n",
    "y = x[rows,cols]\n",
    "\n",
    "print('Results of the integer index:')\n",
    "print(y)"
   ]
  },
  {
   "cell_type": "markdown",
   "id": "585c02d2-8af2-40b4-811b-cb49c96cd1ad",
   "metadata": {},
   "source": [
    "#### Example 3"
   ]
  },
  {
   "cell_type": "code",
   "execution_count": 58,
   "id": "b1d8cb8f-14ec-4559-b5e8-2a884d3aec4e",
   "metadata": {},
   "outputs": [
    {
     "name": "stdout",
     "output_type": "stream",
     "text": [
      "Original Array:\n",
      "[[ 0  1  2]\n",
      " [ 3  4  5]\n",
      " [ 6  7  8]\n",
      " [ 9 10 11]]\n",
      "After, the results of the array became:\n",
      "[[ 4  5]\n",
      " [ 7  8]\n",
      " [10 11]]\n",
      "Slicing with the Advance Index for Column:\n",
      "[[ 4  5]\n",
      " [ 7  8]\n",
      " [10 11]]\n"
     ]
    }
   ],
   "source": [
    "x = np.array([[ 0,  1,  2],\n",
    "              [ 3,  4,  5],\n",
    "              [ 6,  7,  8],\n",
    "              [ 9, 10, 11]])\n",
    "\n",
    "print('Original Array:')\n",
    "print(x)\n",
    "\n",
    "# slicing\n",
    "z = x[1:4,1:3]\n",
    "\n",
    "print('After, the results of the array became:')\n",
    "print(z)\n",
    "\n",
    "# Using Advanced Index for Column\n",
    "y = x[1:4,[1,2]]\n",
    "\n",
    "print('Slicing with the Advance Index for Column:')\n",
    "print(y)"
   ]
  },
  {
   "cell_type": "markdown",
   "id": "2921e505-f263-474f-8593-343644870cec",
   "metadata": {},
   "source": [
    "## Boolean Indexing"
   ]
  },
  {
   "cell_type": "markdown",
   "id": "9f8f768b-a018-4ab0-b481-38b2e8e91f14",
   "metadata": {},
   "source": [
    "#### Example 1\n",
    "take elements with the Boolean index (condition)"
   ]
  },
  {
   "cell_type": "code",
   "execution_count": 60,
   "id": "717c7361-764f-436e-8947-e1c954ad102e",
   "metadata": {},
   "outputs": [
    {
     "name": "stdout",
     "output_type": "stream",
     "text": [
      "Original Array:\n",
      "[[ 0  1  2]\n",
      " [ 3  4  5]\n",
      " [ 6  7  8]\n",
      " [ 9 10 11]]\n",
      "Elements larger than 5:\n",
      "[ 6  7  8  9 10 11]\n"
     ]
    }
   ],
   "source": [
    "x = np.array([[ 0,  1,  2],\n",
    "              [ 3,  4,  5],\n",
    "              [ 6,  7,  8],\n",
    "              [ 9, 10, 11]])\n",
    "\n",
    "print('Original Array:')\n",
    "print(x)\n",
    "\n",
    "# Will be printed more than 5 elements\n",
    "print('Elements larger than 5:')\n",
    "print(x[x > 5])"
   ]
  },
  {
   "cell_type": "markdown",
   "id": "3d4485ea-163a-46fd-a459-d31bd83a77c9",
   "metadata": {},
   "source": [
    "#### Example 2"
   ]
  },
  {
   "cell_type": "code",
   "execution_count": 61,
   "id": "fa887949-4c65-45a7-b2b4-17ff786e8ce1",
   "metadata": {},
   "outputs": [
    {
     "name": "stdout",
     "output_type": "stream",
     "text": [
      "[nan nan]\n"
     ]
    }
   ],
   "source": [
    "a = np.array([np.nan, 1,2,np.nan,3,4,5])\n",
    "print(a[np.isnan(a)])"
   ]
  },
  {
   "cell_type": "markdown",
   "id": "09ae64d9-c94b-43fe-ad12-da6cda5f69cb",
   "metadata": {},
   "source": [
    "#### Example 3"
   ]
  },
  {
   "cell_type": "code",
   "execution_count": 62,
   "id": "48600363-08de-4a0e-ae52-2c7de1872f13",
   "metadata": {},
   "outputs": [
    {
     "name": "stdout",
     "output_type": "stream",
     "text": [
      "[1.+0.j 5.+0.j]\n",
      "[2. +6.j 3.5+5.j]\n"
     ]
    }
   ],
   "source": [
    "a = np.array([1, 2+6j, 5, 3.5+5j])\n",
    "print(a[~np.iscomplex(a)])\n",
    "print(a[np.iscomplex(a)])"
   ]
  },
  {
   "cell_type": "markdown",
   "id": "67e84e42-3055-48af-9c20-03604f6b07dc",
   "metadata": {},
   "source": [
    "### Case Study\n",
    "1. Create a 2-dimensional array with shape=(3,4) containing a mix of complex, nan, and integer values.\n",
    "2. Retrieve elements using Boolean indices for integers, nan, and complex values."
   ]
  },
  {
   "cell_type": "code",
   "execution_count": 63,
   "id": "ac1cc770-aa0c-4a8a-95b5-f41d634b60e2",
   "metadata": {},
   "outputs": [
    {
     "name": "stdout",
     "output_type": "stream",
     "text": [
      "Mixed Array:\n",
      "[[1 (2+3j) nan 4]\n",
      " [5 6 (7+1j) nan]\n",
      " [(8+0j) 9 10 nan]]\n"
     ]
    }
   ],
   "source": [
    "# Making Complex, NaN, and Integer Mixed Array\n",
    "array_mixed = np.array([\n",
    "    [1, 2+3j, np.nan, 4],\n",
    "    [5, 6, 7+1j, np.nan],\n",
    "    [8+0j, 9, 10, np.nan]\n",
    "], dtype=object)\n",
    "\n",
    "print(\"Mixed Array:\")\n",
    "print(array_mixed)"
   ]
  },
  {
   "cell_type": "markdown",
   "id": "9e200373-805c-4e94-bd69-a28233bd393c",
   "metadata": {},
   "source": [
    "Then an element will be taken with the Boolean index for each type"
   ]
  },
  {
   "cell_type": "markdown",
   "id": "50a558d7-1fdf-4c5f-bc0d-d5e316eab310",
   "metadata": {},
   "source": [
    "Only integer"
   ]
  },
  {
   "cell_type": "code",
   "execution_count": 64,
   "id": "00b70be3-f4ea-4c9d-8bea-67cac22571e8",
   "metadata": {},
   "outputs": [
    {
     "name": "stdout",
     "output_type": "stream",
     "text": [
      "Integer element:\n",
      "[1 4 5 6 9 10]\n"
     ]
    }
   ],
   "source": [
    "# Create a mask for integers\n",
    "mask_int = np.vectorize(lambda x: isinstance(x, int))(array_mixed)\n",
    "print(\"Integer element:\")\n",
    "print(array_mixed[mask_int])"
   ]
  },
  {
   "cell_type": "markdown",
   "id": "418c91ae-631b-4374-9910-9f9fdd6da18d",
   "metadata": {},
   "source": [
    "Only NaN"
   ]
  },
  {
   "cell_type": "code",
   "execution_count": 65,
   "id": "3962a8a4-50b7-4ad2-86fe-2d1d3b9c606c",
   "metadata": {},
   "outputs": [
    {
     "name": "stdout",
     "output_type": "stream",
     "text": [
      "NaN element:\n",
      "[nan nan nan]\n"
     ]
    }
   ],
   "source": [
    "# Mask for nan\n",
    "mask_nan = np.vectorize(lambda x: isinstance(x, float) and np.isnan(x))(array_mixed)\n",
    "print(\"NaN element:\")\n",
    "print(array_mixed[mask_nan])"
   ]
  },
  {
   "cell_type": "markdown",
   "id": "1dc2f822-3fbc-4ea1-bc50-023c68a2cbab",
   "metadata": {},
   "source": [
    "Only complex"
   ]
  },
  {
   "cell_type": "code",
   "execution_count": 66,
   "id": "476b45ee-e2e5-4710-bfd8-018a5854bd0b",
   "metadata": {},
   "outputs": [
    {
     "name": "stdout",
     "output_type": "stream",
     "text": [
      "Complex element:\n",
      "[(2+3j) (7+1j) (8+0j)]\n"
     ]
    }
   ],
   "source": [
    "# Mask for complex\n",
    "mask_complex = np.vectorize(lambda x: isinstance(x, complex))(array_mixed)\n",
    "print(\"Complex element:\")\n",
    "print(array_mixed[mask_complex])"
   ]
  },
  {
   "cell_type": "markdown",
   "id": "94150f62-504b-40cf-b06b-371d24b1bc56",
   "metadata": {},
   "source": [
    "# Array manipulation"
   ]
  },
  {
   "cell_type": "markdown",
   "id": "d2034622-9321-47c2-a784-46ba5cba1a0b",
   "metadata": {},
   "source": [
    "## Change shape"
   ]
  },
  {
   "cell_type": "markdown",
   "id": "3bde46a0-a884-4822-b10d-089f10f59b84",
   "metadata": {},
   "source": [
    "### Reshape"
   ]
  },
  {
   "cell_type": "code",
   "execution_count": 68,
   "id": "05f852e9-81ab-4ef8-b83c-ec4697f083e3",
   "metadata": {},
   "outputs": [
    {
     "name": "stdout",
     "output_type": "stream",
     "text": [
      "Original Array:\n",
      "[0 1 2 3 4 5 6 7]\n",
      "Modified array:\n",
      "[[0 1]\n",
      " [2 3]\n",
      " [4 5]\n",
      " [6 7]]\n"
     ]
    }
   ],
   "source": [
    "a = np.arange(8)\n",
    "print('Original Array:')\n",
    "print(a)\n",
    "\n",
    "b = a.reshape(4,2)\n",
    "print('Modified array:')\n",
    "print(b)\n"
   ]
  },
  {
   "cell_type": "markdown",
   "id": "d8225475-d2da-4ac5-8abb-ecf256bbc1ce",
   "metadata": {},
   "source": [
    "### Flatten\n",
    "\n",
    "The flatten() method is used to convert a multidimensional array to a single-dimensional one, and the order argument specifies the order in which the array elements are read during flattening:\n",
    "\n",
    "| `order` | Style | Read by | Result |\n",
    "| ------- | ------------- | ---------------- | --------------------- |\n",
    "| `'C'` | C-style | Row to column | \\[0 1 2 3 4 5 6 7] |\n",
    "| `'F'` | Fortran-style | Column to row | \\[0 4 1 5 2 6 3 7] |\n",
    "| `'A'` | Adaptive | Follows input | Can be `'C'` or `'F'` |\n",
    "| `'K'` | Memory Order | Memory order | Can be different |"
   ]
  },
  {
   "cell_type": "code",
   "execution_count": 69,
   "id": "44706084-4b9f-4c82-a48f-4e327c23e32d",
   "metadata": {},
   "outputs": [
    {
     "name": "stdout",
     "output_type": "stream",
     "text": [
      "Original Array:\n",
      "[[0 1 2 3]\n",
      " [4 5 6 7]]\n",
      "Array that has been flattened:\n",
      "[0 1 2 3 4 5 6 7]\n",
      "Flattented Array in F-Style Ordering:\n",
      "[0 4 1 5 2 6 3 7]\n",
      "Flattened Array in A-Style Ordering:\n",
      "[0 1 2 3 4 5 6 7]\n",
      "Flattented Array in K-Style Ordering:\n",
      "[0 1 2 3 4 5 6 7]\n",
      "Flattented Array in C-Style Ordering:\n",
      "[0 1 2 3 4 5 6 7]\n"
     ]
    }
   ],
   "source": [
    "a = np.arange(8).reshape(2,4) # take copy\n",
    "\n",
    "print('Original Array:')\n",
    "print(a)\n",
    "\n",
    "\n",
    "print('Array that has been flattened:')\n",
    "print(a.flatten())\n",
    "\n",
    "print('Flattented Array in F-Style Ordering:')\n",
    "print(a.flatten(order = 'F'))\n",
    "print('Flattened Array in A-Style Ordering:')\n",
    "print(a.flatten(order = 'A'))\n",
    "print('Flattented Array in K-Style Ordering:')\n",
    "print(a.flatten(order = 'K'))\n",
    "print('Flattented Array in C-Style Ordering:')\n",
    "print(a.flatten(order = 'C'))"
   ]
  },
  {
   "cell_type": "markdown",
   "id": "36ae05af-5f36-4e6f-bb42-00c55dbb5c70",
   "metadata": {},
   "source": [
    "### Ravel\n",
    "\n",
    "The ravel() function returns a 1-dimensional (flat) array with a view of the original array (without creating a new copy unnecessarily)."
   ]
  },
  {
   "cell_type": "code",
   "execution_count": 70,
   "id": "6ef3a84c-3b7e-4633-9970-0c112bbe4aee",
   "metadata": {},
   "outputs": [
    {
     "name": "stdout",
     "output_type": "stream",
     "text": [
      "Original Array:\n",
      "[[0 1 2 3]\n",
      " [4 5 6 7]]\n",
      "Results of the Ravel Function:\n",
      "[0 1 2 3 4 5 6 7]\n",
      "Using Ravel Function in F-Style Ordering:\n",
      "[0 4 1 5 2 6 3 7]\n"
     ]
    }
   ],
   "source": [
    "a = np.arange(8).reshape(2,4) # Only view\n",
    "\n",
    "print('Original Array:')\n",
    "print(a)\n",
    "\n",
    "print('Results of the Ravel Function:')\n",
    "print(a.ravel())\n",
    "\n",
    "print('Using Ravel Function in F-Style Ordering:')\n",
    "print(a.ravel(order = 'F'))"
   ]
  },
  {
   "cell_type": "markdown",
   "id": "d7b1be18-d0a0-4971-adf3-e0bb78bde489",
   "metadata": {},
   "source": [
    "| Aspects | `ravel()` | `flatten()` |\n",
    "| --------- | ----------------------------------------------------- | ---------------------------------------- |\n",
    "| Output | View if possible | Always copy |\n",
    "| Memory | More economical | Safer (not tied to the original array) |\n",
    "| Changes | If the original array changes, the result of `ravel()` changes as well | Unaffected |\n",
    "| Performance | Faster | Slightly slower |"
   ]
  },
  {
   "cell_type": "markdown",
   "id": "149673ce-fe86-4a76-a8ca-5a171a953984",
   "metadata": {},
   "source": [
    "## Transpose operation"
   ]
  },
  {
   "cell_type": "code",
   "execution_count": 71,
   "id": "afd88c50-f12b-4410-af0b-3869b146256a",
   "metadata": {},
   "outputs": [
    {
     "name": "stdout",
     "output_type": "stream",
     "text": [
      "Original Array:\n",
      "[[ 0  1  2  3]\n",
      " [ 4  5  6  7]\n",
      " [ 8  9 10 11]]\n",
      "Array that has been transposed:\n",
      "[[ 0  4  8]\n",
      " [ 1  5  9]\n",
      " [ 2  6 10]\n",
      " [ 3  7 11]]\n",
      "Array that has been transposed with .T:\n",
      "[[ 0  4  8]\n",
      " [ 1  5  9]\n",
      " [ 2  6 10]\n",
      " [ 3  7 11]]\n"
     ]
    }
   ],
   "source": [
    "a = np.arange(12).reshape(3,4)\n",
    "\n",
    "print('Original Array:')\n",
    "print(a)\n",
    "\n",
    "print('Array that has been transposed:')\n",
    "print(np.transpose(a)) # parameters with an int list, according to dimensions. By default, the dimensions are reversed\n",
    "\n",
    "print('Array that has been transposed with .T:')\n",
    "print(a.T)"
   ]
  },
  {
   "cell_type": "markdown",
   "id": "9e0aac76-ac2d-412e-ad34-f2f00d4f5fef",
   "metadata": {},
   "source": [
    "## Merger of array"
   ]
  },
  {
   "cell_type": "markdown",
   "id": "09777d98-5719-4a57-8530-1693c606884f",
   "metadata": {},
   "source": [
    "### Concatenate\n",
    "* Purpose: Combining arrays along the existing axis (Axis 0, Axis 1, etc.).\n",
    "* Requirements: The array dimension must be suitable in all axis except to be combined.\n",
    "* Suitable for combining data with the same shape horizontally or vertically, for example adding new lines."
   ]
  },
  {
   "cell_type": "code",
   "execution_count": 72,
   "id": "d666b242-ec3e-496f-bd62-e437cec40382",
   "metadata": {},
   "outputs": [
    {
     "name": "stdout",
     "output_type": "stream",
     "text": [
      "First Array:\n",
      "[[1 2]\n",
      " [3 4]]\n",
      "Second Array:\n",
      "[[5 6]\n",
      " [7 8]]\n",
      "a combination of two arrays on the axis 0:\n",
      "[[1 2]\n",
      " [3 4]\n",
      " [5 6]\n",
      " [7 8]]\n",
      "A combination of two arrays on the axis 1:\n",
      "[[1 2 5 6]\n",
      " [3 4 7 8]]\n"
     ]
    }
   ],
   "source": [
    "a = np.array([[1,2],[3,4]])\n",
    "\n",
    "print('First Array:')\n",
    "print(a)\n",
    "b = np.array([[5,6],[7,8]])\n",
    "\n",
    "print('Second Array:')\n",
    "print(b)\n",
    "\n",
    "print('a combination of two arrays on the axis 0:')\n",
    "print(np.concatenate((a,b)) )\n",
    "\n",
    "print('A combination of two arrays on the axis 1:')\n",
    "print(np.concatenate((a,b),axis = 1))"
   ]
  },
  {
   "cell_type": "markdown",
   "id": "1c1f7736-87f2-40b1-8f43-ce45d3af1f81",
   "metadata": {},
   "source": [
    "### stack\n",
    "* Objective: Combine the array by adding a new axis.\n",
    "* Requirements: All arrays must be exactly the same size.\n",
    "* Used if you want to add new dimensions, such as combining images in format (amount, height, width)."
   ]
  },
  {
   "cell_type": "code",
   "execution_count": 73,
   "id": "855dc0f8-1318-46a8-90e4-3ced20ba59dd",
   "metadata": {},
   "outputs": [
    {
     "name": "stdout",
     "output_type": "stream",
     "text": [
      "First Array:\n",
      "[[1 2]\n",
      " [3 4]]\n",
      "Second Array:\n",
      "[[5 6]\n",
      " [7 8]]\n",
      "Stack two array on the axis 0:\n",
      "[[[1 2]\n",
      "  [3 4]]\n",
      "\n",
      " [[5 6]\n",
      "  [7 8]]]\n",
      "Stack two arrays on the axis 1:\n",
      "[[[1 2]\n",
      "  [5 6]]\n",
      "\n",
      " [[3 4]\n",
      "  [7 8]]]\n"
     ]
    }
   ],
   "source": [
    "a = np.array([[1,2],[3,4]])\n",
    "\n",
    "print('First Array:')\n",
    "print(a)\n",
    "b = np.array([[5,6],[7,8]])\n",
    "\n",
    "print('Second Array:')\n",
    "print(b)\n",
    "\n",
    "print('Stack two array on the axis 0:')\n",
    "print(np.stack((a,b),0) )\n",
    "\n",
    "print('Stack two arrays on the axis 1:')\n",
    "print(np.stack((a,b),1))"
   ]
  },
  {
   "cell_type": "markdown",
   "id": "7b1028f7-7f53-42d0-b705-2f123a4328e5",
   "metadata": {},
   "source": [
    "### hstack\n",
    "* Objective: combining horizontal array (column).\n",
    "* Requirements: The number of lines must be the same (for 2D array).\n",
    "* Facilitate the combination of additional columns, suitable for compiling additional features in machine learning."
   ]
  },
  {
   "cell_type": "code",
   "execution_count": 74,
   "id": "d8b8c6d7-dec6-4329-ad9f-944cc5eb3911",
   "metadata": {},
   "outputs": [
    {
     "name": "stdout",
     "output_type": "stream",
     "text": [
      "First Array:\n",
      "[[1 2]\n",
      " [3 4]]\n",
      "Second Array:\n",
      "[[5 6]\n",
      " [7 8]]\n",
      "Horizontal Stacking:\n",
      "[[1 2 5 6]\n",
      " [3 4 7 8]]\n"
     ]
    }
   ],
   "source": [
    "a = np.array([[1,2],[3,4]])\n",
    "\n",
    "print('First Array:')\n",
    "print(a)\n",
    "b = np.array([[5,6],[7,8]])\n",
    "\n",
    "print('Second Array:')\n",
    "print(b)\n",
    "\n",
    "print('Horizontal Stacking:')\n",
    "c = np.hstack((a,b))\n",
    "print(c)\n"
   ]
  },
  {
   "cell_type": "markdown",
   "id": "f6e12a46-51b3-4456-92d2-e23a3949d4a2",
   "metadata": {},
   "source": [
    "### vstack\n",
    "* Objective: combining array vertically (row).\n",
    "* Requirements: The number of columns must be the same (for 2D array).\n",
    "* Suitable for adding data to the batch, for example combining training and testing data."
   ]
  },
  {
   "cell_type": "code",
   "execution_count": 75,
   "id": "d6beada5-807e-4f4a-ac2d-79de9a07db68",
   "metadata": {},
   "outputs": [
    {
     "name": "stdout",
     "output_type": "stream",
     "text": [
      "First Array:\n",
      "[[1 2]\n",
      " [3 4]]\n",
      "Second Array:\n",
      "[[5 6]\n",
      " [7 8]]\n",
      "Vertical Stacking:\n",
      "[[1 2]\n",
      " [3 4]\n",
      " [5 6]\n",
      " [7 8]]\n"
     ]
    }
   ],
   "source": [
    "a = np.array([[1,2],[3,4]])\n",
    "\n",
    "print('First Array:')\n",
    "print(a)\n",
    "b = np.array([[5,6],[7,8]])\n",
    "\n",
    "print('Second Array:')\n",
    "print(b)\n",
    "\n",
    "print('Vertical Stacking:')\n",
    "c = np.vstack((a,b))\n",
    "print(c)\n"
   ]
  },
  {
   "cell_type": "markdown",
   "id": "4de10497-f66d-4c9f-b0d8-d630807216ec",
   "metadata": {},
   "source": [
    "| Function | Add a New Axis? | Join Direction | Size Requirements | When to Use? |\n",
    "| ------------- | ------------------- | ----------------- | -------------------------- | ----------------------------------- |\n",
    "| `concatenate` | ❌ No | Depends on `axis` | Same in all but axis | Regular concatenation (rows/columns) |\n",
    "| `stack` | ✅ Yes | New Axis | All arrays exactly the same | Concatenate arrays in a new dimension |\n",
    "| `hstack` | ❌ No | Horizontal | Same number of rows | Add new columns or features |\n",
    "| `vstack` | ❌ No | Vertical | Same number of columns | Add new rows/data |"
   ]
  },
  {
   "cell_type": "markdown",
   "id": "3882560b-5907-4c48-ac37-e03f14ea5420",
   "metadata": {},
   "source": [
    "## Splitting Array (Separation of Array) to Sub-Array"
   ]
  },
  {
   "cell_type": "markdown",
   "id": "546274d3-78c4-42f0-b0e3-80961fce8186",
   "metadata": {},
   "source": [
    "### split"
   ]
  },
  {
   "cell_type": "code",
   "execution_count": 76,
   "id": "274df66c-db64-4620-af32-750e0ec02b0a",
   "metadata": {},
   "outputs": [
    {
     "name": "stdout",
     "output_type": "stream",
     "text": [
      "First Array:\n",
      "[0 1 2 3 4 5 6 7 8]\n",
      "Split array becomes 3 equivalent sub-array:\n",
      "[array([0, 1, 2]), array([3, 4, 5]), array([6, 7, 8])]\n",
      "split based on index on 1 -dimensional array:\n",
      "[array([0, 1, 2, 3]), array([4]), array([5, 6, 7, 8])]\n"
     ]
    }
   ],
   "source": [
    "a = np.arange(9)\n",
    "\n",
    "print('First Array:')\n",
    "print(a)\n",
    "\n",
    "print('Split array becomes 3 equivalent sub-array:')\n",
    "b = np.split(a,3)\n",
    "print(b)\n",
    "\n",
    "print('split based on index on 1 -dimensional array:')\n",
    "b = np.split(a,[4,5]) # numpy.split (ary, indices_or_sections, axis)\n",
    "# The indicec_or_section parameter can be an integer,\n",
    "# which shows the number of subarray the same size that will be made from input array.\n",
    "print(b)\n"
   ]
  },
  {
   "cell_type": "markdown",
   "id": "8687cf8e-0f9d-4917-9628-b7553130a4e4",
   "metadata": {},
   "source": [
    "### hsplit"
   ]
  },
  {
   "cell_type": "code",
   "execution_count": 77,
   "id": "8fdf36a4-bc86-453b-8415-4d486cc1a9ab",
   "metadata": {},
   "outputs": [
    {
     "name": "stdout",
     "output_type": "stream",
     "text": [
      "First Array:\n",
      "[[ 0  1  2  3]\n",
      " [ 4  5  6  7]\n",
      " [ 8  9 10 11]\n",
      " [12 13 14 15]]\n",
      "Horizontal splitting:\n",
      "[array([[ 0,  1],\n",
      "       [ 4,  5],\n",
      "       [ 8,  9],\n",
      "       [12, 13]]), array([[ 2,  3],\n",
      "       [ 6,  7],\n",
      "       [10, 11],\n",
      "       [14, 15]])]\n"
     ]
    }
   ],
   "source": [
    "a = np.arange(16).reshape(4,4)\n",
    "\n",
    "print('First Array:')\n",
    "print(a)\n",
    "\n",
    "print('Horizontal splitting:')\n",
    "b = np.hsplit(a,2)\n",
    "print(b)\n"
   ]
  },
  {
   "cell_type": "markdown",
   "id": "fc62c909-7cf0-4032-8b02-731ec8149fcf",
   "metadata": {},
   "source": [
    "### vsplit"
   ]
  },
  {
   "cell_type": "code",
   "execution_count": 78,
   "id": "a08e55ee-3c83-4e21-b32a-37a2670fe6ff",
   "metadata": {},
   "outputs": [
    {
     "name": "stdout",
     "output_type": "stream",
     "text": [
      "Early Array:\n",
      "[[ 0  1  2  3]\n",
      " [ 4  5  6  7]\n",
      " [ 8  9 10 11]\n",
      " [12 13 14 15]]\n",
      "Vertical splitting:\n",
      "[array([[0, 1, 2, 3],\n",
      "       [4, 5, 6, 7]]), array([[ 8,  9, 10, 11],\n",
      "       [12, 13, 14, 15]])]\n"
     ]
    }
   ],
   "source": [
    "a = np.arange(16).reshape(4,4)\n",
    "\n",
    "print('Early Array:')\n",
    "print(a)\n",
    "\n",
    "print('Vertical splitting:')\n",
    "b = np.vsplit(a,2)\n",
    "print(b)\n"
   ]
  },
  {
   "cell_type": "markdown",
   "id": "61be627f-b4f6-4224-894f-e935227b2d86",
   "metadata": {},
   "source": [
    "## Changing the Array Element (Add/Remove)"
   ]
  },
  {
   "cell_type": "markdown",
   "id": "bd33dfae-f54c-4b39-a539-d52b55e7e01e",
   "metadata": {},
   "source": [
    "### Resize"
   ]
  },
  {
   "cell_type": "code",
   "execution_count": 79,
   "id": "e54eac3f-7cc9-484b-b5eb-9663b88273f7",
   "metadata": {},
   "outputs": [
    {
     "name": "stdout",
     "output_type": "stream",
     "text": [
      "Early Array:\n",
      "[[1 2 3]\n",
      " [4 5 6]]\n",
      "First Array Shape:\n",
      "(2, 3)\n",
      "First Resize Array:\n",
      "[[1 2]\n",
      " [3 4]\n",
      " [5 6]]\n",
      "Second Array Shape:\n",
      "(3, 2)\n",
      "Second Array Resize:\n",
      "[[1 2 3]\n",
      " [4 5 6]\n",
      " [1 2 3]]\n"
     ]
    }
   ],
   "source": [
    "a = np.array([[1,2,3],\n",
    "              [4,5,6]])\n",
    "\n",
    "print('Early Array:')\n",
    "print(a)\n",
    "\n",
    "print('First Array Shape:')\n",
    "print(a.shape)\n",
    "\n",
    "b = np.resize(a, (3,2))\n",
    "\n",
    "print('First Resize Array:')\n",
    "print(b)\n",
    "\n",
    "print('Second Array Shape:')\n",
    "print(b.shape)\n",
    "\n",
    "print('Second Array Resize:')\n",
    "b = np.resize(a,(3,3))\n",
    "print(b)\n"
   ]
  },
  {
   "cell_type": "markdown",
   "id": "4c187a72-201f-4957-85c1-da54779ec8b4",
   "metadata": {},
   "source": [
    "### Append"
   ]
  },
  {
   "cell_type": "code",
   "execution_count": 80,
   "id": "b0dc4580-5540-49a9-a5a0-80848762c79a",
   "metadata": {},
   "outputs": [
    {
     "name": "stdout",
     "output_type": "stream",
     "text": [
      "Initial array\n",
      "[[1 2 3]\n",
      " [4 5 6]]\n",
      "Append element to array:\n",
      "[1 2 3 4 5 6 7 8 9]\n",
      "Append element along the axis 0:\n",
      "[[1 2 3]\n",
      " [4 5 6]\n",
      " [7 8 9]]\n",
      "Append elements along the axis 1:\n",
      "[[1 2 3 5 5 5]\n",
      " [4 5 6 7 8 9]]\n"
     ]
    }
   ],
   "source": [
    "print('Initial array')\n",
    "print(a)\n",
    "\n",
    "print('Append element to array:')\n",
    "print(np.append(a, [7,8,9]))\n",
    "\n",
    "print('Append element along the axis 0:')\n",
    "print(np.append(a, [[7,8,9]],axis = 0))\n",
    "\n",
    "print('Append elements along the axis 1:')\n",
    "print(np.append(a, [[5,5,5],[7,8,9]],axis = 1))\n"
   ]
  },
  {
   "cell_type": "markdown",
   "id": "434ac5c2-6e32-4440-9cec-856c9238c142",
   "metadata": {},
   "source": [
    "### Insert"
   ]
  },
  {
   "cell_type": "code",
   "execution_count": 81,
   "id": "9bf61bf5-a393-49a5-9987-60d3f9daa181",
   "metadata": {},
   "outputs": [
    {
     "name": "stdout",
     "output_type": "stream",
     "text": [
      "First Array:\n",
      "[[1 2]\n",
      " [3 4]\n",
      " [5 6]]\n",
      "Without Axis parameters. before the insertion array is flattened.\n",
      "[ 1  2  3 11 12  4  5  6]\n",
      "Using Axis parameters. Value array in broadcast to equalize input.\n",
      "Broadcast along Axis 0:\n",
      "[[ 1  2]\n",
      " [11 11]\n",
      " [ 3  4]\n",
      " [ 5  6]]\n",
      "Broadcast Sepanjanhg Axis 1:\n",
      "[[ 1 11  2]\n",
      " [ 3 11  4]\n",
      " [ 5 11  6]]\n"
     ]
    }
   ],
   "source": [
    "a = np.array([[1,2],\n",
    "              [3,4],\n",
    "              [5,6]])\n",
    "\n",
    "print('First Array:')\n",
    "print(a)\n",
    "\n",
    "print('Without Axis parameters. before the insertion array is flattened.')\n",
    "print(np.insert(a,3,[11,12]))\n",
    "print('Using Axis parameters. Value array in broadcast to equalize input.')\n",
    "\n",
    "print('Broadcast along Axis 0:')\n",
    "print(np.insert(a,1,[11],axis = 0))\n",
    "\n",
    "print('Broadcast Sepanjanhg Axis 1:')\n",
    "print(np.insert(a,1,11,axis = 1))\n"
   ]
  },
  {
   "cell_type": "markdown",
   "id": "3757d8c9-323f-41c7-a7da-93c9003afd69",
   "metadata": {},
   "source": [
    "### delete"
   ]
  },
  {
   "cell_type": "code",
   "execution_count": 82,
   "id": "7b752717-3550-4408-9bf6-0243e757116c",
   "metadata": {},
   "outputs": [
    {
     "name": "stdout",
     "output_type": "stream",
     "text": [
      "First Array:\n",
      "[[ 0  1  2  3]\n",
      " [ 4  5  6  7]\n",
      " [ 8  9 10 11]]\n",
      "Without Axis parameters, it is flattened before it is deleted:\n",
      "[ 0  1  2  3  4  6  7  8  9 10 11]\n",
      "Column 2 is deleted:\n",
      "[[ 0  2  3]\n",
      " [ 4  6  7]\n",
      " [ 8 10 11]]\n",
      "Row 2 Deleted:\n",
      "[[ 0  1  2  3]\n",
      " [ 8  9 10 11]]\n"
     ]
    }
   ],
   "source": [
    "a = np.arange(12).reshape(3,4)\n",
    "\n",
    "print('First Array:')\n",
    "print(a)\n",
    "\n",
    "print('Without Axis parameters, it is flattened before it is deleted:')\n",
    "print(np.delete(a,5))\n",
    "\n",
    "print('Column 2 is deleted:')\n",
    "print(np.delete(a,1,axis = 1))\n",
    "\n",
    "print('Row 2 Deleted:')\n",
    "print(np.delete(a,1,axis = 0))"
   ]
  },
  {
   "cell_type": "markdown",
   "id": "d913a89a-9b1c-4212-bfcb-b4b5432082ed",
   "metadata": {},
   "source": [
    "### Unique Element"
   ]
  },
  {
   "cell_type": "code",
   "execution_count": 83,
   "id": "3ca74726-1f1b-43b4-a02e-2cde4d0005d9",
   "metadata": {},
   "outputs": [
    {
     "name": "stdout",
     "output_type": "stream",
     "text": [
      "First Array:\n",
      "[5 2 6 2 7 5 6 8 2 9]\n",
      "Unique Value from the First Array:\n",
      "[2 5 6 7 8 9]\n",
      "Array Index:\n",
      "[1 0 2 4 7 9]\n",
      "[1 0 2 4 7 9]\n"
     ]
    }
   ],
   "source": [
    "a = np.array([5,2,6,2,7,5,6,8,2,9])\n",
    "\n",
    "print('First Array:')\n",
    "print(a)\n",
    "\n",
    "print('Unique Value from the First Array:')\n",
    "z = np.unique(a)\n",
    "print(z)\n",
    "\n",
    "print('Array Index:')\n",
    "z,indices = np.unique(a, return_index = True)\n",
    "p = np.unique(a, return_index = True)\n",
    "print(indices)\n",
    "print(p[1])\n"
   ]
  },
  {
   "cell_type": "markdown",
   "id": "8a86afd3-6ca2-46b4-8c53-859f8dee7819",
   "metadata": {},
   "source": [
    "# Broadcasting Array\n",
    "* Broadcasting means adjusting the shape of a small array to be able to operate with a large array.\n",
    "* Numpy \"spread\" (broadcast) smaller array along the required dimensions.\n",
    "* Two arrays can be broken if:\n",
    "  1. They have the same number of dimensions, or one can be expanded.\n",
    "  2. The size of each dimension is suitable, or one of them is worth 1."
   ]
  },
  {
   "cell_type": "markdown",
   "id": "7336cfc9-c1ea-4fc9-a4d5-228affaf925c",
   "metadata": {},
   "source": [
    "#### Example 1"
   ]
  },
  {
   "cell_type": "code",
   "execution_count": 84,
   "id": "efc8a4f5-921d-4f23-b95f-5eafce627efa",
   "metadata": {},
   "outputs": [
    {
     "name": "stdout",
     "output_type": "stream",
     "text": [
      "[ 10  40  90 160]\n"
     ]
    }
   ],
   "source": [
    "a = np.array([1,2,3,4])\n",
    "b = np.array([10,20,30,40])\n",
    "c = a * b\n",
    "print(c)"
   ]
  },
  {
   "cell_type": "markdown",
   "id": "520d1a96-53a6-4f30-a1ba-0c392db17a71",
   "metadata": {},
   "source": [
    "#### Example 2"
   ]
  },
  {
   "cell_type": "code",
   "execution_count": 85,
   "id": "3a3d3cdc-cacf-4e52-ac90-39cb7d6040d7",
   "metadata": {},
   "outputs": [
    {
     "name": "stdout",
     "output_type": "stream",
     "text": [
      "First Array:\n",
      "[[ 0.  0.  0.]\n",
      " [10. 10. 10.]\n",
      " [20. 20. 20.]\n",
      " [30. 30. 30.]]\n",
      "Second Array:\n",
      "[1. 2. 3.]\n",
      "First array + second array\n",
      "[[ 1.  2.  3.]\n",
      " [11. 12. 13.]\n",
      " [21. 22. 23.]\n",
      " [31. 32. 33.]]\n",
      "First Array X Second Array\n",
      "[[ 0.  0.  0.]\n",
      " [10. 20. 30.]\n",
      " [20. 40. 60.]\n",
      " [30. 60. 90.]]\n"
     ]
    }
   ],
   "source": [
    "a = np.array([[0.0,0.0,0.0],\n",
    "              [10.0,10.0,10.0],\n",
    "              [20.0,20.0,20.0],\n",
    "              [30.0,30.0,30.0]])\n",
    "b = np.array([1.0,2.0,3.0])\n",
    "\n",
    "print('First Array:')\n",
    "print(a)\n",
    "\n",
    "print('Second Array:')\n",
    "print(b)\n",
    "\n",
    "print('First array + second array')\n",
    "print(a + b)\n",
    "print('First Array X Second Array')\n",
    "print(a * b)\n"
   ]
  },
  {
   "cell_type": "markdown",
   "id": "16faf1bd-076b-4d06-bb88-7b0357ce58c6",
   "metadata": {},
   "source": [
    "### Case Study\n",
    "1. Create two arrays with shape=(3,4) and shape(1,4)\n",
    "2. Perform multiplication and subtraction operations"
   ]
  },
  {
   "cell_type": "code",
   "execution_count": 86,
   "id": "37e8dd5a-7552-46d0-aab7-cc664aadc22a",
   "metadata": {},
   "outputs": [
    {
     "name": "stdout",
     "output_type": "stream",
     "text": [
      "Array A:\n",
      "[[ 1  2  3  4]\n",
      " [ 5  6  7  8]\n",
      " [ 9 10 11 12]]\n",
      "Array B:\n",
      "[[2 2 2 2]]\n"
     ]
    }
   ],
   "source": [
    "# Array A: Shape (3, 4)\n",
    "a = np.array([[1, 2, 3, 4],\n",
    "              [5, 6, 7, 8],\n",
    "              [9, 10, 11, 12]])\n",
    "\n",
    "# Array B: Shape (1, 4)\n",
    "b = np.array([[2, 2, 2, 2]])\n",
    "\n",
    "print(\"Array A:\")\n",
    "print(a)\n",
    "print(\"Array B:\")\n",
    "print(b)"
   ]
  },
  {
   "cell_type": "code",
   "execution_count": 87,
   "id": "f15c12bd-d077-4c97-89e4-80d40db97902",
   "metadata": {},
   "outputs": [
    {
     "name": "stdout",
     "output_type": "stream",
     "text": [
      "Multiplication results a * b:\n",
      "[[ 2  4  6  8]\n",
      " [10 12 14 16]\n",
      " [18 20 22 24]]\n"
     ]
    }
   ],
   "source": [
    "# Broadcasting multiplication\n",
    "hasil_kali = a * b\n",
    "print(\"Multiplication results a * b:\")\n",
    "print(hasil_kali)"
   ]
  },
  {
   "cell_type": "code",
   "execution_count": 88,
   "id": "f318ae88-4f14-41e0-8dfe-b9d67632b22d",
   "metadata": {},
   "outputs": [
    {
     "name": "stdout",
     "output_type": "stream",
     "text": [
      "Reduction Results A - B:\n",
      "[[-1  0  1  2]\n",
      " [ 3  4  5  6]\n",
      " [ 7  8  9 10]]\n"
     ]
    }
   ],
   "source": [
    "# Broadcasting reduction\n",
    "hasil_kurang = a - b\n",
    "print(\"Reduction Results A - B:\")\n",
    "print(hasil_kurang)"
   ]
  },
  {
   "cell_type": "markdown",
   "id": "cf172519-1f9d-4c0f-8782-8f0be7160fe8",
   "metadata": {},
   "source": [
    "# Array iteration"
   ]
  },
  {
   "cell_type": "markdown",
   "id": "96d3413d-2d0b-4301-87fc-3e8f76907b47",
   "metadata": {},
   "source": [
    "#### Example 1"
   ]
  },
  {
   "cell_type": "code",
   "execution_count": 89,
   "id": "85c257a0-2600-4951-9be7-2b96c105a036",
   "metadata": {},
   "outputs": [
    {
     "name": "stdout",
     "output_type": "stream",
     "text": [
      "Original Array:\n",
      "[[ 0  5 10 15]\n",
      " [20 25 30 35]\n",
      " [40 45 50 55]]\n",
      "Modified array:\n",
      "0 5 10 15 20 25 30 35 40 45 50 55 "
     ]
    }
   ],
   "source": [
    "a = np.arange(0,60,5).reshape(3,4)\n",
    "print('Original Array:')\n",
    "print(a)\n",
    "\n",
    "print('Modified array:')\n",
    "for x in np.nditer(a):\n",
    "   print(x, end=' ')\n"
   ]
  },
  {
   "cell_type": "markdown",
   "id": "1103a0ab-125a-4980-b7c0-39685f939ab0",
   "metadata": {},
   "source": [
    "* Iteration sequence is chosen to match the layout of the array memory, without considering a certain order.\n",
    "* This can be seen by repeating the transpos from the array above."
   ]
  },
  {
   "cell_type": "markdown",
   "id": "89c5bd21-3c2b-409e-9daa-c122c5d4650e",
   "metadata": {},
   "source": [
    "#### Example 2"
   ]
  },
  {
   "cell_type": "code",
   "execution_count": 90,
   "id": "ca7d71ae-f5b3-4385-a3c1-80aecb19aa46",
   "metadata": {},
   "outputs": [
    {
     "name": "stdout",
     "output_type": "stream",
     "text": [
      "Original Array:\n",
      "[[ 0  5 10 15]\n",
      " [20 25 30 35]\n",
      " [40 45 50 55]]\n",
      "Transpose Array:\n",
      "[[ 0 20 40]\n",
      " [ 5 25 45]\n",
      " [10 30 50]\n",
      " [15 35 55]]\n",
      "Modified array:\n",
      "0 5 10 15 20 25 30 35 40 45 50 55 "
     ]
    }
   ],
   "source": [
    "a = np.arange(0,60,5).reshape(3,4)\n",
    "\n",
    "print('Original Array:')\n",
    "print(a)\n",
    "\n",
    "print('Transpose Array:')\n",
    "b = a.T\n",
    "print(b)\n",
    "\n",
    "print('Modified array:')\n",
    "for x in np.nditer(b):\n",
    "   print(x, end=' ')"
   ]
  },
  {
   "cell_type": "markdown",
   "id": "cf168e01-caeb-4d3c-8d50-5de65471b84c",
   "metadata": {},
   "source": [
    "#### Iteration order\n",
    "#### Example 3"
   ]
  },
  {
   "cell_type": "code",
   "execution_count": 91,
   "id": "95087e8d-35b6-450c-8fb3-d850f8caa9df",
   "metadata": {},
   "outputs": [
    {
     "name": "stdout",
     "output_type": "stream",
     "text": [
      "Original Array:\n",
      "[[ 0  5 10 15]\n",
      " [20 25 30 35]\n",
      " [40 45 50 55]]\n",
      "Original Array Transpose:\n",
      "[[ 0 20 40]\n",
      " [ 5 25 45]\n",
      " [10 30 50]\n",
      " [15 35 55]]\n",
      "Sort in C-Style Order:\n",
      "[[ 0  5 10 15]\n",
      " [20 25 30 35]\n",
      " [40 45 50 55]]\n",
      "0 5 10 15 20 25 30 35 40 45 50 55 Sort in F-Style Order:\n",
      "[[ 0  5 10 15]\n",
      " [20 25 30 35]\n",
      " [40 45 50 55]]\n",
      "0 20 40 5 25 45 10 30 50 15 35 55 "
     ]
    }
   ],
   "source": [
    "a = np.arange(0,60,5).reshape(3,4)\n",
    "\n",
    "print('Original Array:')\n",
    "print(a)\n",
    "\n",
    "print('Original Array Transpose:')\n",
    "b = a.T\n",
    "print(b)\n",
    "\n",
    "print('Sort in C-Style Order:')\n",
    "c = a.copy(order = 'C')\n",
    "print(c)\n",
    "for x in np.nditer(c):\n",
    "   print(x, end=' ')\n",
    "\n",
    "print('Sort in F-Style Order:')\n",
    "c = a.copy(order = 'F')\n",
    "print(c)\n",
    "for x in np.nditer(c):\n",
    "   print(x, end=' ')"
   ]
  },
  {
   "cell_type": "markdown",
   "id": "7f3da1e3-448d-49d3-8b59-9c6cef70187e",
   "metadata": {},
   "source": [
    "#### Example 4"
   ]
  },
  {
   "cell_type": "code",
   "execution_count": 92,
   "id": "6092e414-eed7-4ffb-a5f9-a20e441ce554",
   "metadata": {},
   "outputs": [
    {
     "name": "stdout",
     "output_type": "stream",
     "text": [
      "Original Array:\n",
      "[[ 0  5 10 15]\n",
      " [20 25 30 35]\n",
      " [40 45 50 55]]\n",
      "Sorted in C-Style Order:\n",
      "0 5 10 15 20 25 30 35 40 45 50 55 Sorted in In F-Style Order:\n",
      "0 20 40 5 25 45 10 30 50 15 35 55 "
     ]
    }
   ],
   "source": [
    "a = np.arange(0,60,5).reshape(3,4)\n",
    "\n",
    "print('Original Array:')\n",
    "print(a)\n",
    "\n",
    "print('Sorted in C-Style Order:')\n",
    "for x in np.nditer(a, order = 'C'):\n",
    "   print(x, end=' ')\n",
    "\n",
    "print('Sorted in In F-Style Order:')\n",
    "for x in np.nditer(a, order = 'F'):\n",
    "   print(x, end=' ')"
   ]
  },
  {
   "cell_type": "markdown",
   "id": "2f4399cc-3e72-482a-a17c-28bf68d80c86",
   "metadata": {},
   "source": [
    "### Modification of Array Element Value"
   ]
  },
  {
   "cell_type": "code",
   "execution_count": 93,
   "id": "5a912fdc-7326-4e01-b808-15acb0c0391e",
   "metadata": {},
   "outputs": [
    {
     "name": "stdout",
     "output_type": "stream",
     "text": [
      "Original Array:\n",
      "[[ 0  5 10 15]\n",
      " [20 25 30 35]\n",
      " [40 45 50 55]]\n",
      "0 10 20 30 40 50 60 70 80 90 100 110 Array that has been modified:\n",
      "[[  0  10  20  30]\n",
      " [ 40  50  60  70]\n",
      " [ 80  90 100 110]]\n"
     ]
    }
   ],
   "source": [
    "a = np.arange(0,60,5).reshape(3,4)\n",
    "print('Original Array:')\n",
    "print(a)\n",
    "\n",
    "for x in np.nditer(a, op_flags = ['readwrite']):\n",
    "   x[...] = 2*x\n",
    "   print(x, end=' ')\n",
    "print('Array that has been modified:')\n",
    "print(a)\n"
   ]
  },
  {
   "cell_type": "markdown",
   "id": "1b2b4fe4-9c64-42c1-973f-cce203fcf6b0",
   "metadata": {},
   "source": [
    "### external loop"
   ]
  },
  {
   "cell_type": "code",
   "execution_count": 94,
   "id": "0c1b5d79-99e2-412e-b516-04359c74337a",
   "metadata": {},
   "outputs": [
    {
     "name": "stdout",
     "output_type": "stream",
     "text": [
      "Original Array:\n",
      "[[ 0  5 10 15]\n",
      " [20 25 30 35]\n",
      " [40 45 50 55]]\n",
      "Modified array:\n",
      "[ 0 20 40] [ 5 25 45] [10 30 50] [15 35 55] Modification new\n",
      "[ 0  5 10 15 20 25 30 35 40 45 50 55] "
     ]
    }
   ],
   "source": [
    "a = np.arange(0,60,5)\n",
    "a = a.reshape(3,4)\n",
    "\n",
    "print('Original Array:')\n",
    "print(a)\n",
    "\n",
    "print('Modified array:')\n",
    "for x in np.nditer(a, flags = ['external_loop'], order = 'F'):\n",
    "   print(x, end=' ')\n",
    "print('Modification new')\n",
    "for x in np.nditer(a, flags = ['external_loop'], order = 'C'):\n",
    "   print(x, end=' ')\n"
   ]
  },
  {
   "cell_type": "markdown",
   "id": "4d5b8f47-062b-4c07-a97c-84aaf6a00772",
   "metadata": {},
   "source": [
    "### Array iteration broadcasting"
   ]
  },
  {
   "cell_type": "code",
   "execution_count": 97,
   "id": "91f2fc5a-b0dc-440e-a5f0-cba42ee03d4b",
   "metadata": {},
   "outputs": [
    {
     "name": "stdout",
     "output_type": "stream",
     "text": [
      "First Array:\n",
      "[[ 0  5 10 15]\n",
      " [20 25 30 35]\n",
      " [40 45 50 55]]\n",
      "Second Array:\n",
      "[1 2 3 4]\n",
      "Modified array:\n",
      "0: 1 5: 2 10: 3 15: 4 20: 1 25: 2 30: 3 35: 4 40: 1 45: 2 50: 3 55: 4 "
     ]
    }
   ],
   "source": [
    "a = np.arange(0,60,5)\n",
    "a = a.reshape(3,4)\n",
    "\n",
    "print('First Array:')\n",
    "print(a)\n",
    "\n",
    "print('Second Array:')\n",
    "b = np.array([1, 2, 3, 4], dtype = int)\n",
    "print(b)\n",
    "\n",
    "print('Modified array:')\n",
    "for x,y in np.nditer([a,b]):\n",
    "   print(\"%d: %d \" %(x, y), end = '')"
   ]
  },
  {
   "cell_type": "markdown",
   "id": "e8ce8db4-44b0-443b-aa22-22cc76112efc",
   "metadata": {},
   "source": [
    "# Numpy for Mathematics"
   ]
  },
  {
   "cell_type": "markdown",
   "id": "88cbfa0f-4455-493f-86c4-c769e713a9bb",
   "metadata": {},
   "source": [
    "## Trigonomeri function\n",
    "Numpy has a standard trigonometric function that restores the trigonometric ratio for a certain angle in radians."
   ]
  },
  {
   "cell_type": "code",
   "execution_count": 98,
   "id": "30a27baf-d387-4a5b-aee6-4e5c2fa7b361",
   "metadata": {},
   "outputs": [
    {
     "name": "stdout",
     "output_type": "stream",
     "text": [
      "Sine values of different angles:\n",
      "[0.         0.5        0.70710678 0.8660254  1.        ]\n",
      "Cosine values of angles in array:\n",
      "[1.00000000e+00 8.66025404e-01 7.07106781e-01 5.00000000e-01\n",
      " 6.12323400e-17]\n",
      "Tangent values of angles in array:\n",
      "[0.00000000e+00 5.77350269e-01 1.00000000e+00 1.73205081e+00\n",
      " 1.63312394e+16]\n"
     ]
    }
   ],
   "source": [
    "a = np.array([0,30,45,60,90])\n",
    "\n",
    "print('Sine values of different angles:')\n",
    "# Convert radians by multiplying by pi/180\n",
    "print(np.sin(a*np.pi/180))\n",
    "\n",
    "print('Cosine values of angles in array:')\n",
    "print(np.cos(a*np.pi/180))\n",
    "\n",
    "print('Tangent values of angles in array:')\n",
    "print(np.tan(a*np.pi/180))"
   ]
  },
  {
   "cell_type": "code",
   "execution_count": 99,
   "id": "9397e164-a018-4db1-aeea-cec4f88fb05b",
   "metadata": {},
   "outputs": [
    {
     "name": "stdout",
     "output_type": "stream",
     "text": [
      "Array with sine values:\n",
      "[0.         0.5        0.70710678 0.8660254  1.        ]\n",
      "Calculate the inverse sine of the angle. The return value is in radians.\n",
      "[0.         0.52359878 0.78539816 1.04719755 1.57079633]\n",
      "Check the result by converting to degrees:\n",
      "[ 0. 30. 45. 60. 90.]\n"
     ]
    }
   ],
   "source": [
    "a = np.array([0,30,45,60,90])\n",
    "\n",
    "print('Array with sine values:')\n",
    "sin = np.sin(a*np.pi/180)\n",
    "print(sin)\n",
    "\n",
    "print('Calculate the inverse sine of the angle. The return value is in radians.')\n",
    "inv = np.arcsin(sin)\n",
    "print(inv)\n",
    "\n",
    "print('Check the result by converting to degrees:')\n",
    "print(np.degrees(inv))"
   ]
  },
  {
   "cell_type": "code",
   "execution_count": 100,
   "id": "d40cb831-ec22-4b4e-a765-36f5f0870591",
   "metadata": {},
   "outputs": [
    {
     "name": "stdout",
     "output_type": "stream",
     "text": [
      "Arccos and Arctan functions behave similarly:\n",
      "[1.00000000e+00 8.66025404e-01 7.07106781e-01 5.00000000e-01\n",
      " 6.12323400e-17]\n",
      "Inverse from cos:\n",
      "[0.         0.52359878 0.78539816 1.04719755 1.57079633]\n",
      "in degrees:\n",
      "[ 0. 30. 45. 60. 90.]\n"
     ]
    }
   ],
   "source": [
    "print('Arccos and Arctan functions behave similarly:')\n",
    "cos = np.cos(a*np.pi/180)\n",
    "print(cos)\n",
    "\n",
    "print('Inverse from cos:')\n",
    "inv = np.arccos(cos)\n",
    "print(inv)\n",
    "\n",
    "print('in degrees:')\n",
    "print(np.degrees(inv))"
   ]
  },
  {
   "cell_type": "code",
   "execution_count": 101,
   "id": "d85689cd-cc36-4ca3-b19b-14b0fca87851",
   "metadata": {},
   "outputs": [
    {
     "name": "stdout",
     "output_type": "stream",
     "text": [
      "Tan function:\n",
      "[0.00000000e+00 5.77350269e-01 1.00000000e+00 1.73205081e+00\n",
      " 1.63312394e+16]\n",
      "Inverse from tan:\n",
      "[0.         0.52359878 0.78539816 1.04719755 1.57079633]\n",
      "in degrees:\n",
      "[ 0. 30. 45. 60. 90.]\n"
     ]
    }
   ],
   "source": [
    "print('Tan function:')\n",
    "tan = np.tan(a*np.pi/180)\n",
    "print(tan)\n",
    "\n",
    "print('Inverse from tan:')\n",
    "inv = np.arctan(tan)\n",
    "print(inv)\n",
    "\n",
    "print('in degrees:')\n",
    "print(np.degrees(inv))"
   ]
  },
  {
   "cell_type": "markdown",
   "id": "e6d227b3-f18e-4686-83f0-230c361c2e64",
   "metadata": {},
   "source": [
    "## Rounding Function with numpy.round\n",
    "__numpy.around(a,decimals)__"
   ]
  },
  {
   "cell_type": "code",
   "execution_count": 102,
   "id": "e1892c94-12fb-492a-9570-b50137e54614",
   "metadata": {},
   "outputs": [
    {
     "name": "stdout",
     "output_type": "stream",
     "text": [
      "Original Array:\n",
      "[  1.      5.55  123.      0.567  25.532]\n",
      "After rounding:\n",
      "[  1.   6. 123.   1.  26.]\n",
      "[  1.    5.6 123.    0.6  25.5]\n"
     ]
    }
   ],
   "source": [
    "a = np.array([1.0,5.55, 123, 0.567, 25.532])\n",
    "\n",
    "print('Original Array:')\n",
    "print(a)\n",
    "\n",
    "print('After rounding:')\n",
    "print(np.around(a))\n",
    "print(np.around(a, decimals = 1))\n"
   ]
  },
  {
   "cell_type": "markdown",
   "id": "0ba27a50-5548-4dc6-aed2-cdff33691bfe",
   "metadata": {},
   "source": [
    "__np.floor__\n",
    "\n",
    "This function returns the largest integer not greater than the input parameter. The base of the scalar x is the largest integer i, so i <= x. Note that in Python, floor always rounds away from 0."
   ]
  },
  {
   "cell_type": "code",
   "execution_count": 103,
   "id": "5856398c-9ea6-4a11-be3c-9f41e5fcc7bf",
   "metadata": {},
   "outputs": [
    {
     "name": "stdout",
     "output_type": "stream",
     "text": [
      "Original Array:\n",
      "[-1.7  1.5 -0.2  0.6 10.  12.9]\n",
      "Flooring Array:\n",
      "[-2.  1. -1.  0. 10. 12.]\n"
     ]
    }
   ],
   "source": [
    "a = np.array([-1.7, 1.5, -0.2, 0.6, 10,12.9])\n",
    "\n",
    "print('Original Array:')\n",
    "print(a)\n",
    "\n",
    "print('Flooring Array:')\n",
    "print(np.floor(a))\n"
   ]
  },
  {
   "cell_type": "markdown",
   "id": "c49a5c95-93c6-4806-a7c7-1a1f33b99905",
   "metadata": {},
   "source": [
    "__np.ceil__\n",
    "\n",
    "The ceil() function returns the ceiling of the input value, i.e., the scalar ceil x is the smallest integer i such that i >= x."
   ]
  },
  {
   "cell_type": "code",
   "execution_count": 104,
   "id": "f5727c3e-5fac-4576-bcdd-33300cba47da",
   "metadata": {},
   "outputs": [
    {
     "name": "stdout",
     "output_type": "stream",
     "text": [
      "Original Array:\n",
      "[-1.7  1.5 -0.2  0.6 10.  12.9]\n",
      "Ceiling Array:\n",
      "[-1.  2. -0.  1. 10. 13.]\n"
     ]
    }
   ],
   "source": [
    "a = np.array([-1.7, 1.5, -0.2, 0.6, 10,12.9])\n",
    "\n",
    "print('Original Array:')\n",
    "print(a)\n",
    "\n",
    "print('Ceiling Array:')\n",
    "print(np.ceil(a))"
   ]
  },
  {
   "cell_type": "markdown",
   "id": "cfee18c4-036f-4624-a391-0443e3c7b3cf",
   "metadata": {},
   "source": [
    "## Arithmetic operation"
   ]
  },
  {
   "cell_type": "markdown",
   "id": "d665b248-de6e-4dea-86a2-855961d98327",
   "metadata": {},
   "source": [
    "Inside the numpy there is a function to carry out, subtraction, multiplication and division"
   ]
  },
  {
   "cell_type": "code",
   "execution_count": 105,
   "id": "35dd7e7f-461c-4788-95a8-c62f48958fec",
   "metadata": {},
   "outputs": [
    {
     "name": "stdout",
     "output_type": "stream",
     "text": [
      "First array:\n",
      "[[0. 1. 2.]\n",
      " [3. 4. 5.]\n",
      " [6. 7. 8.]]\n",
      "Second array:\n",
      "[10 10 10]\n",
      "Sum of 2 arrays:\n",
      "[[10. 11. 12.]\n",
      " [13. 14. 15.]\n",
      " [16. 17. 18.]]\n",
      "Subtraction of 2 arrays:\n",
      "[[-10.  -9.  -8.]\n",
      " [ -7.  -6.  -5.]\n",
      " [ -4.  -3.  -2.]]\n",
      "Multiplication of 2 arrays:\n",
      "[[ 0. 10. 20.]\n",
      " [30. 40. 50.]\n",
      " [60. 70. 80.]]\n",
      "Dividing 2 arrays:\n",
      "[[0.  0.1 0.2]\n",
      " [0.3 0.4 0.5]\n",
      " [0.6 0.7 0.8]]\n"
     ]
    }
   ],
   "source": [
    "a = np.arange(9, dtype = np.float64).reshape(3,3)\n",
    "\n",
    "print('First array:')\n",
    "print(a)\n",
    "\n",
    "print('Second array:')\n",
    "b = np.array([10,10,10])\n",
    "print(b)\n",
    "\n",
    "print('Sum of 2 arrays:')\n",
    "print(np.add(a,b))\n",
    "\n",
    "print('Subtraction of 2 arrays:')\n",
    "print(np.subtract(a,b))\n",
    "\n",
    "print('Multiplication of 2 arrays:')\n",
    "print(np.multiply(a,b))\n",
    "\n",
    "print('Dividing 2 arrays:')\n",
    "print(np.divide(a,b))"
   ]
  },
  {
   "cell_type": "markdown",
   "id": "a3a93662-328d-4d38-8f81-a690473920a6",
   "metadata": {},
   "source": [
    "### Power multiplication operation with numpy.power"
   ]
  },
  {
   "cell_type": "code",
   "execution_count": 106,
   "id": "0387c15f-0bc9-4dd7-be41-a3020311850b",
   "metadata": {},
   "outputs": [
    {
     "name": "stdout",
     "output_type": "stream",
     "text": [
      "Original array:\n",
      "[  10  100 1000]\n",
      "Using power function:\n",
      "[    100   10000 1000000]\n",
      "Second array:\n",
      "[1 2 3]\n",
      "Using power function again:\n",
      "[        10      10000 1000000000]\n"
     ]
    }
   ],
   "source": [
    "a = np.array([10,100,1000])\n",
    "\n",
    "print('Original array:')\n",
    "print(a)\n",
    "\n",
    "print('Using power function:')\n",
    "print(np.power(a,2))\n",
    "\n",
    "print('Second array:')\n",
    "b = np.array([1,2,3])\n",
    "print(b)\n",
    "\n",
    "print('Using power function again:')\n",
    "print(np.power(a,b))"
   ]
  },
  {
   "cell_type": "markdown",
   "id": "7b8a650d-61f5-471d-8adf-b9b479e1672a",
   "metadata": {},
   "source": [
    "Take the residual value of the share with np.mod/np.remainder"
   ]
  },
  {
   "cell_type": "code",
   "execution_count": 107,
   "id": "20e9ae40-1fc9-49e2-b6f3-c8064f9a8afd",
   "metadata": {},
   "outputs": [
    {
     "name": "stdout",
     "output_type": "stream",
     "text": [
      "First array:\n",
      "[10 20 30]\n",
      "Second array:\n",
      "[3 5 7]\n",
      "using mod() function:\n",
      "[1 0 2]\n",
      "using remainder() function:\n",
      "[1 0 2]\n"
     ]
    }
   ],
   "source": [
    "a = np.array([10,20,30])\n",
    "b = np.array([3,5,7])\n",
    "\n",
    "print('First array:')\n",
    "print(a)\n",
    "\n",
    "print('Second array:')\n",
    "print(b)\n",
    "\n",
    "print('using mod() function:')\n",
    "print(np.mod(a,b))\n",
    "\n",
    "print('using remainder() function:')\n",
    "print(np.remainder(a,b))"
   ]
  },
  {
   "cell_type": "markdown",
   "id": "acf53227-0dda-4fbd-9ec4-0d59acba77e9",
   "metadata": {},
   "source": [
    "# Statistical function"
   ]
  },
  {
   "cell_type": "markdown",
   "id": "34f636c9-35d5-4c6d-94f9-0eef6f0f76a2",
   "metadata": {},
   "source": [
    "## Looking for the minimum and maximum value in an array"
   ]
  },
  {
   "cell_type": "code",
   "execution_count": 108,
   "id": "bbd07276-7544-4d4f-8389-37473e906cac",
   "metadata": {},
   "outputs": [
    {
     "name": "stdout",
     "output_type": "stream",
     "text": [
      "Original array:\n",
      "[[3 7 5]\n",
      " [8 4 3]\n",
      " [2 4 9]]\n",
      "Using the amin(1) function:\n",
      "[3 3 2]\n",
      "Using the amin(0) function again:\n",
      "[2 4 3]\n",
      "Using the amax() function:\n",
      "9\n",
      "Using the amin() function:\n",
      "2\n",
      "Using the amax() function again:\n",
      "[8 7 9]\n",
      "Using the amax() function again:\n",
      "[7 8 9]\n"
     ]
    }
   ],
   "source": [
    "a = np.array([[3,7,5],[8,4,3],[2,4,9]])\n",
    "\n",
    "print('Original array:')\n",
    "print(a)\n",
    "\n",
    "print('Using the amin(1) function:')\n",
    "print(np.amin(a,axis=1))\n",
    "\n",
    "print('Using the amin(0) function again:')\n",
    "print(np.amin(a,0))\n",
    "\n",
    "print('Using the amax() function:')\n",
    "print(np.amax(a))\n",
    "\n",
    "print('Using the amin() function:')\n",
    "print(np.amin(a))\n",
    "\n",
    "print('Using the amax() function again:')\n",
    "print(np.amax(a,axis = 0))\n",
    "\n",
    "print('Using the amax() function again:')\n",
    "print(np.amax(a,axis = 1))"
   ]
  },
  {
   "cell_type": "markdown",
   "id": "fa981e70-616d-4e72-a9b9-82e979e47b4c",
   "metadata": {},
   "source": [
    "## Percentile\n",
    "\n",
    "__np.percentile__\n",
    "\n",
    "* A percentile (or one percentile) is a measure used in statistics that indicates the values below a certain percentage of observations in a group of observations.\n",
    "\n",
    "__numpy.percentile(a, q, axis)__\n",
    "a : Input array\n",
    "q : The percentile to be calculated must be between 0-100\n",
    "axis : axis"
   ]
  },
  {
   "cell_type": "markdown",
   "id": "218ee04d-90d7-40ee-bbe5-980dd9d79723",
   "metadata": {},
   "source": [
    "The percentile for a value in a given data set can be calculated using the formula:\n",
    "\n",
    "n = (P/100) x N\n",
    "\n",
    "where N = the number of values in the data set, P = the percentile, and n = the ordinal rank of the given value (with the values in the data set ordered from smallest to largest). For example, consider a class of 20 students who scored the following on their most recent test: 75, 77, 78, 78, 80, 81, 81, 82, 83, 84, 84, 84, 85, 87, 87, 88, 88, 88, 89, 90. These scores can be represented as a data set with 20 values: {75, 77, 78, 78, 80, 81, 81, 82, 83, 84, 84, 84, 85, 87, 87, 88, 88, 88, 89, 90}.\n",
    "\n",
    "We can find the score that marks the 20th percentile by plugging the known values into the formula and solving for n:\n",
    "\n",
    "n = (20/100) x 20\n",
    "\n",
    "n = 4\n",
    "\n",
    "The fourth value in the data set is a score of 78. This means that 78 marks the 20th percentile; of the students in the class, 20 percent scored 78 or lower."
   ]
  },
  {
   "cell_type": "code",
   "execution_count": 109,
   "id": "c25a371f-a7b8-4b13-b2ee-2f7296e5bd6c",
   "metadata": {},
   "outputs": [
    {
     "name": "stdout",
     "output_type": "stream",
     "text": [
      "Original array:\n",
      "[[30 40 70]\n",
      " [80 20 10]\n",
      " [50 90 60]]\n",
      "Using the percentile() function:\n",
      "50.0\n",
      "Using the percentile() function on axis 1:\n",
      "[40. 20. 60.]\n",
      "Using the percentile() function on axis 0:\n",
      "[50. 40. 60.]\n"
     ]
    }
   ],
   "source": [
    "a = np.array([[30,40,70],[80,20,10],[50,90,60]])\n",
    "\n",
    "print('Original array:')\n",
    "print(a)\n",
    "\n",
    "print('Using the percentile() function:')\n",
    "print(np.percentile(a,50))\n",
    "\n",
    "print('Using the percentile() function on axis 1:')\n",
    "print(np.percentile(a,50, axis = 1))\n",
    "\n",
    "print('Using the percentile() function on axis 0:')\n",
    "print(np.percentile(a,50, axis = 0))"
   ]
  },
  {
   "cell_type": "markdown",
   "id": "cb535395-a8ab-4cbe-8316-224580f8a1c3",
   "metadata": {},
   "source": [
    "## Median\n",
    "The median is defined as the value that separates the higher half of a data sample from the lower half, and can be calculated using __numpy.median__"
   ]
  },
  {
   "cell_type": "code",
   "execution_count": 110,
   "id": "04625fc3-5b75-4626-87d2-16c0b9ef0e04",
   "metadata": {},
   "outputs": [
    {
     "name": "stdout",
     "output_type": "stream",
     "text": [
      "Original array:\n",
      "[[30 65 70]\n",
      " [80 95 10]\n",
      " [50 90 60]]\n",
      "Using the median() function:\n",
      "65.0\n",
      "Using the median() function along the 0-axis:\n",
      "[50. 90. 60.]\n",
      "Using the median() function along the 1-axis:\n",
      "[65. 80. 60.]\n"
     ]
    }
   ],
   "source": [
    "a = np.array([[30,65,70],[80,95,10],[50,90,60]])\n",
    "\n",
    "print('Original array:')\n",
    "print(a)\n",
    "\n",
    "print('Using the median() function:')\n",
    "print(np.median(a))\n",
    "\n",
    "print('Using the median() function along the 0-axis:')\n",
    "print(np.median(a, axis = 0))\n",
    "\n",
    "print('Using the median() function along the 1-axis:')\n",
    "print(np.median(a, axis = 1))"
   ]
  },
  {
   "cell_type": "markdown",
   "id": "77384578-2993-46a1-9006-bb0ce287c3da",
   "metadata": {},
   "source": [
    "## Mean\n",
    "* The mean is the sum of the elements along an axis divided by the number of elements.\n",
    "* The __numpy.mean()__ function returns the arithmetic mean of the elements in an array.\n",
    "* If an axis is explicitly specified, it is calculated based on its values."
   ]
  },
  {
   "cell_type": "code",
   "execution_count": 111,
   "id": "05b8c8af-3cfe-4da8-8766-19e56488d18e",
   "metadata": {},
   "outputs": [
    {
     "name": "stdout",
     "output_type": "stream",
     "text": [
      "Original array:\n",
      "[[1 2 3]\n",
      " [3 4 5]\n",
      " [4 5 6]]\n",
      "Using the mean() function:\n",
      "3.6666666666666665\n",
      "Using the mean() function along the 0-axis:\n",
      "[2.66666667 3.66666667 4.66666667]\n",
      "Using the mean() function along the 1-axis:\n",
      "[2. 4. 5.]\n"
     ]
    }
   ],
   "source": [
    "a = np.array([[1,2,3],[3,4,5],[4,5,6]])\n",
    "\n",
    "print('Original array:')\n",
    "print(a)\n",
    "\n",
    "print('Using the mean() function:')\n",
    "print(np.mean(a))\n",
    "\n",
    "print('Using the mean() function along the 0-axis:')\n",
    "print(np.mean(a, axis = 0))\n",
    "\n",
    "print('Using the mean() function along the 1-axis:')\n",
    "print(np.mean(a, axis = 1))"
   ]
  },
  {
   "cell_type": "markdown",
   "id": "1bdbefd4-f538-480a-906c-fe974c978a01",
   "metadata": {},
   "source": [
    "## Weighted Average\n",
    "* A weighted average is the average resulting from multiplying each element by a factor that reflects its importance.\n",
    "* The __numpy.average()__ function calculates the weighted average of the elements in an array according to their respective weights assigned to them in another array.\n",
    "* The function can have an axis parameter.\n",
    "* If an axis is not specified, the array is flattened.\n",
    "* Given the array [1,2,3,4] and the corresponding weights [4,3,2,1], the weighted average is calculated by adding the products of the corresponding elements and dividing the sum by the sum of the weights.\n",
    "* Weighted average = (1*4+2*3+3*2+4*1)/(4+3+2+1)"
   ]
  },
  {
   "cell_type": "code",
   "execution_count": 112,
   "id": "f770f685-83ab-4e5c-8486-3210a6ca5732",
   "metadata": {},
   "outputs": [
    {
     "name": "stdout",
     "output_type": "stream",
     "text": [
      "Original array:\n",
      "[1 2 3 4]\n",
      "Using the average() function:\n",
      "2.5\n",
      "Using the mean() function:\n",
      "2.5\n",
      "Using the average() function again:\n",
      "2.0\n",
      "Weighted sum\n",
      "(np.float64(2.0), np.float64(10.0))\n"
     ]
    }
   ],
   "source": [
    "a = np.array([1,2,3,4])\n",
    "\n",
    "print('Original array:')\n",
    "print(a)\n",
    "\n",
    "print('Using the average() function:')\n",
    "print(np.average(a))\n",
    "\n",
    "print('Using the mean() function:')\n",
    "print(np.mean(a))\n",
    "\n",
    "# This is the same as the mean when weights are not defined\n",
    "wts = np.array([4,3,2,1])\n",
    "\n",
    "print('Using the average() function again:')\n",
    "print(np.average(a,weights = wts))\n",
    "\n",
    "# Returns the weighted sum, if the return parameter is set to True\n",
    "print('Weighted sum')\n",
    "print(np.average([1,2,3, 4],weights = [4,3,2,1], returned = True))"
   ]
  },
  {
   "cell_type": "markdown",
   "id": "b98d3984-e88a-4194-9cc4-20b5474ae291",
   "metadata": {},
   "source": [
    "## Standard deviation\n",
    "* Standard Deviation is a measure of how scattered data in relation to mean.\n",
    "* Low Deviation Standard means data grouping around average, and high deviation standards indicate more spread data."
   ]
  },
  {
   "cell_type": "code",
   "execution_count": 113,
   "id": "90ee3333-d1bb-4013-9172-7c27ebb1ca73",
   "metadata": {},
   "outputs": [
    {
     "data": {
      "text/plain": [
       "np.float64(1.118033988749895)"
      ]
     },
     "execution_count": 113,
     "metadata": {},
     "output_type": "execute_result"
    }
   ],
   "source": [
    "np.std([1,2,3,4])"
   ]
  },
  {
   "cell_type": "markdown",
   "id": "b80c4358-f7d4-431c-914e-57b38eb65453",
   "metadata": {},
   "source": [
    "## Variance\n",
    "* Variance is a measure of variability.\n",
    "* This is calculated by taking the average quadratic deviation from the mean.\n",
    "* Variance tells you the level of distribution in your data collection.\n",
    "* The more data spread, the greater the variance in relation to the mean"
   ]
  },
  {
   "cell_type": "code",
   "execution_count": 114,
   "id": "dbebac21-470c-411b-8465-7700ef2d1160",
   "metadata": {},
   "outputs": [
    {
     "name": "stdout",
     "output_type": "stream",
     "text": [
      "1.25\n"
     ]
    }
   ],
   "source": [
    "print(np.var([1,2,3,4]))"
   ]
  },
  {
   "cell_type": "markdown",
   "id": "2a4bcb9e-ca84-49b1-a589-10300c09e5f7",
   "metadata": {},
   "source": [
    "Standard deviation measures how far the numbers are in a data collection. Variance, on the other hand, gives the actual value of how many numbers in the data collection vary from average"
   ]
  },
  {
   "cell_type": "markdown",
   "id": "54183ff8-18e4-444f-bc45-281bd53d9400",
   "metadata": {},
   "source": [
    "# Thank you"
   ]
  }
 ],
 "metadata": {
  "kernelspec": {
   "display_name": "Python 3 (ipykernel)",
   "language": "python",
   "name": "python3"
  },
  "language_info": {
   "codemirror_mode": {
    "name": "ipython",
    "version": 3
   },
   "file_extension": ".py",
   "mimetype": "text/x-python",
   "name": "python",
   "nbconvert_exporter": "python",
   "pygments_lexer": "ipython3",
   "version": "3.13.5"
  }
 },
 "nbformat": 4,
 "nbformat_minor": 5
}
