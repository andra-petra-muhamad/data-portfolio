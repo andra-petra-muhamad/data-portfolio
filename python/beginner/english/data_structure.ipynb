{
 "cells": [
  {
   "cell_type": "markdown",
   "metadata": {
    "id": "6FkIx88TcBmf"
   },
   "source": [
    "# Linked List"
   ]
  },
  {
   "cell_type": "code",
   "execution_count": 1,
   "metadata": {
    "colab": {
     "base_uri": "https://localhost:8080/"
    },
    "executionInfo": {
     "elapsed": 23,
     "status": "ok",
     "timestamp": 1684216269838,
     "user": {
      "displayName": "Ijul Sukses",
      "userId": "16290274122416878798"
     },
     "user_tz": -480
    },
    "id": "z0_8uXbsr9UP",
    "outputId": "e503c740-6b55-4b20-8951-4996cc603598"
   },
   "outputs": [
    {
     "name": "stdout",
     "output_type": "stream",
     "text": [
      "['one', 'two', 'three']\n",
      "\n",
      "['zero', 'one', 'two', 'three', 'four']\n",
      "\n",
      "['one', 'two', 'three', 'four']\n"
     ]
    }
   ],
   "source": [
    "linked_list = ['one','two','three']\n",
    "print(linked_list)\n",
    "print()\n",
    "linked_list.append('four')\n",
    "linked_list.insert(0,'zero')\n",
    "print(linked_list)\n",
    "print()\n",
    "linked_list.remove('zero')\n",
    "print(linked_list)"
   ]
  },
  {
   "cell_type": "code",
   "execution_count": 2,
   "metadata": {
    "colab": {
     "base_uri": "https://localhost:8080/"
    },
    "executionInfo": {
     "elapsed": 4,
     "status": "ok",
     "timestamp": 1684916020377,
     "user": {
      "displayName": "Muh. Syahril A",
      "userId": "03108951175523852453"
     },
     "user_tz": -480
    },
    "id": "FD5OVwDqoAce",
    "outputId": "c44e392e-1a1c-4e17-ccac-936c019483b9"
   },
   "outputs": [
    {
     "name": "stdout",
     "output_type": "stream",
     "text": [
      "['first', 'second', 'third']\n",
      "\n",
      "['zero', 'first', 'second', 'third', 'sixth', 'fourth', 'fifth']\n",
      "\n",
      "['zero', 'first', 'third', 'sixth', 'fourth', 'fifth']\n",
      "\n"
     ]
    }
   ],
   "source": [
    "linked_list = ['first', 'second', 'third']\n",
    "print(linked_list)\n",
    "\n",
    "print()\n",
    "\n",
    "# Add elements\n",
    "linked_list.append('fourth') # will always be added to the very back\n",
    "linked_list.append('fifth') # Append () Takes Exactly One Argument\n",
    "linked_list.insert(3, 'sixth') # will be added to the 3rd index\n",
    "linked_list.insert(0, 'zero')\n",
    "print(linked_list)\n",
    "print()\n",
    "\n",
    "linked_list.remove('second')\n",
    "\n",
    "print(linked_list)\n",
    "\n",
    "print()"
   ]
  },
  {
   "cell_type": "markdown",
   "metadata": {
    "id": "8MfAwXKBxv1c"
   },
   "source": [
    "# Stack"
   ]
  },
  {
   "cell_type": "code",
   "execution_count": 3,
   "metadata": {
    "colab": {
     "base_uri": "https://localhost:8080/"
    },
    "executionInfo": {
     "elapsed": 8,
     "status": "ok",
     "timestamp": 1687985786029,
     "user": {
      "displayName": "Yus'ad",
      "userId": "02336155515181606500"
     },
     "user_tz": -420
    },
    "id": "2G9uKP45p42K",
    "outputId": "3b9b40ca-4a4f-424d-d188-992c2e4ce220"
   },
   "outputs": [
    {
     "name": "stdout",
     "output_type": "stream",
     "text": [
      "['first', 'second', 'third']\n",
      "\n",
      "['first', 'second', 'third', 'fourth', 'fifth']\n",
      "\n",
      "fifth\n",
      "\n",
      "['first', 'second', 'third', 'fourth']\n"
     ]
    }
   ],
   "source": [
    "stack = ['first', 'second', 'third']\n",
    "print(stack)\n",
    "\n",
    "print()\n",
    "\n",
    "# Pushing Elements\n",
    "stack.append('fourth')\n",
    "stack.append('fifth')\n",
    "print(stack)\n",
    "print()\n",
    "\n",
    "# Printing Top\n",
    "print(stack[-1]) # -1 will access the most recent index\n",
    "print()\n",
    "\n",
    "# poping element\n",
    "stack.pop()\n",
    "print(stack)"
   ]
  },
  {
   "cell_type": "code",
   "execution_count": 4,
   "metadata": {
    "colab": {
     "base_uri": "https://localhost:8080/"
    },
    "executionInfo": {
     "elapsed": 29,
     "status": "ok",
     "timestamp": 1684216295561,
     "user": {
      "displayName": "Ijul Sukses",
      "userId": "16290274122416878798"
     },
     "user_tz": -480
    },
    "id": "I_MDzjw6uPXj",
    "outputId": "fd8abc97-3205-4884-88a6-3ee0d3007a5e"
   },
   "outputs": [
    {
     "name": "stdout",
     "output_type": "stream",
     "text": [
      "\n",
      "['one', 'two', 'three', 'four']\n",
      "['one', 'two', 'three', 'four', 'five']\n",
      "five\n",
      "['one', 'two', 'three', 'four']\n",
      "['one', 'two', 'four']\n"
     ]
    }
   ],
   "source": [
    "print()\n",
    "stack = ['one','two','three','four']\n",
    "print(stack)\n",
    "\n",
    "stack.append('five')\n",
    "print(stack)\n",
    "\n",
    "print(stack[-1])\n",
    "\n",
    "stack.pop()\n",
    "print(stack)\n",
    "stack.remove(stack[2])\n",
    "print(stack)"
   ]
  },
  {
   "cell_type": "markdown",
   "metadata": {
    "id": "aBelpviLyl0B"
   },
   "source": [
    "# Queue"
   ]
  },
  {
   "cell_type": "code",
   "execution_count": 5,
   "metadata": {
    "colab": {
     "base_uri": "https://localhost:8080/"
    },
    "executionInfo": {
     "elapsed": 1580,
     "status": "ok",
     "timestamp": 1684216303071,
     "user": {
      "displayName": "Ijul Sukses",
      "userId": "16290274122416878798"
     },
     "user_tz": -480
    },
    "id": "j4yuryndymcm",
    "outputId": "20110cb3-5e18-4e2d-c8c0-86f6c310d2ce"
   },
   "outputs": [
    {
     "name": "stdout",
     "output_type": "stream",
     "text": [
      "['first', 'second', 'third']\n",
      "\n",
      "['first', 'second', 'third', 'fourth', 'fifth']\n",
      "\n",
      "first\n",
      "fifth\n",
      "5\n",
      "['second', 'third', 'fourth', 'fifth']\n",
      "['second', 'third', 'fourth']\n"
     ]
    }
   ],
   "source": [
    "queue = ['first', 'second', 'third']\n",
    "print(queue)\n",
    "\n",
    "print()\n",
    "\n",
    "# Pushing Elements\n",
    "queue.append('fourth')\n",
    "queue.append('fifth')\n",
    "print(queue)\n",
    "print()\n",
    "\n",
    "# Printing head\n",
    "print(queue[0])\n",
    "\n",
    "# Printing tail\n",
    "n = len(queue) # len(LENGHT) to calculate how much data is\n",
    "print(queue[-1]) # To access the back index, without Len too\n",
    "print(n)\n",
    "\n",
    "\n",
    "# poping element\n",
    "queue.remove(queue[0]) # Following the Queue concept then the removes are removed from the front\n",
    "print(queue)\n",
    "queue.pop()\n",
    "print(queue)\n",
    "\n",
    "# Differences in Remove and Pop Functions\n",
    "# if the remove must use objects and indexes\n",
    "# If POP directly we enter the index number not an object"
   ]
  },
  {
   "cell_type": "markdown",
   "metadata": {
    "id": "zpqCyanu1j-b"
   },
   "source": [
    "# Tree"
   ]
  },
  {
   "cell_type": "code",
   "execution_count": 6,
   "metadata": {
    "colab": {
     "base_uri": "https://localhost:8080/"
    },
    "executionInfo": {
     "elapsed": 568,
     "status": "ok",
     "timestamp": 1684216317637,
     "user": {
      "displayName": "Ijul Sukses",
      "userId": "16290274122416878798"
     },
     "user_tz": -480
    },
    "id": "EmAnwrXG0yT9",
    "outputId": "66ee96a4-0ef0-4a95-bcdc-575dbfed17d7"
   },
   "outputs": [
    {
     "name": "stdout",
     "output_type": "stream",
     "text": [
      "first\n",
      "second\n",
      "third\n"
     ]
    }
   ],
   "source": [
    "class node:\n",
    "    def __init__(self, ele):\n",
    "        self.ele = ele\n",
    "        self.left = None\n",
    "        self.right = None\n",
    "\n",
    "\n",
    "def preorder(self):\n",
    "    if self:\n",
    "        print(self.ele)\n",
    "        preorder(self.left)\n",
    "        preorder(self.right)\n",
    "\n",
    "\n",
    "n = node('first')\n",
    "n.left = node('second')\n",
    "n.right = node('third')\n",
    "preorder(n)"
   ]
  },
  {
   "cell_type": "code",
   "execution_count": 9,
   "metadata": {
    "colab": {
     "base_uri": "https://localhost:8080/"
    },
    "executionInfo": {
     "elapsed": 361,
     "status": "ok",
     "timestamp": 1687986507617,
     "user": {
      "displayName": "Yus'ad",
      "userId": "02336155515181606500"
     },
     "user_tz": -420
    },
    "id": "SfXzbiEs1B4Y",
    "outputId": "cdd1c6c4-a166-463c-d7b6-652975092b7b"
   },
   "outputs": [
    {
     "name": "stdout",
     "output_type": "stream",
     "text": [
      "Bayu Putra\n",
      "Bayu Putra pass with a grade : 90\n"
     ]
    }
   ],
   "source": [
    "class student():\n",
    "\n",
    "    def __init__(self, input_name):\n",
    "        self.name = input_name\n",
    "\n",
    "    def grade(self, grade):\n",
    "        if grade >= 70:\n",
    "            print(self.name,'pass with a grade :',grade)\n",
    "        else:\n",
    "            print(self.name,'failed with grade :',grade)\n",
    "\n",
    "bayu = student(\"Bayu Putra\")\n",
    "print(bayu.name) # called without using the name Method\n",
    "\n",
    "bayu.grade(90); # called using the name Method"
   ]
  },
  {
   "cell_type": "markdown",
   "metadata": {
    "id": "Db5dsocw3ogH"
   },
   "source": [
    "# Graph"
   ]
  },
  {
   "cell_type": "code",
   "execution_count": 13,
   "metadata": {
    "colab": {
     "base_uri": "https://localhost:8080/"
    },
    "executionInfo": {
     "elapsed": 4,
     "status": "ok",
     "timestamp": 1688717372191,
     "user": {
      "displayName": "Meilan Saputra",
      "userId": "03331617692552901961"
     },
     "user_tz": -420
    },
    "id": "00Kvnwji3nxE",
    "outputId": "4baa4b18-6386-482c-d2f5-031524946274"
   },
   "outputs": [
    {
     "name": "stdout",
     "output_type": "stream",
     "text": [
      "Adjacency list of vertex 0 \n",
      " head -> 3 -> 2 Adjacency list of vertex 1 \n",
      " head -> 3 Adjacency list of vertex 2 \n",
      " head -> 3 -> 0 Adjacency list of vertex 3 \n",
      " head -> 0 -> 2 -> 1 "
     ]
    }
   ],
   "source": [
    "class adjnode:\n",
    "    def __init__(self, val):\n",
    "        self.val = val\n",
    "        self.next = None\n",
    "\n",
    "\n",
    "class graph:\n",
    "    def __init__(self, vertices):\n",
    "        self.v = vertices\n",
    "        self.ele = [None]*self.v\n",
    "\n",
    "    def edge(self, src, dest): # SRC (Source), Dest (Destination)\n",
    "        node = adjnode(dest)\n",
    "        node.next = self.ele[src]\n",
    "        self.ele[src] = node\n",
    "\n",
    "        node = adjnode(src)\n",
    "        node.next = self.ele[dest]\n",
    "        self.ele[dest] = node\n",
    "\n",
    "    def __repr__(self):\n",
    "        for i in range(self.v):\n",
    "            print(\"Adjacency list of vertex {} \\n head \".format(i), end =\"\")\n",
    "            temp = self.ele[i]\n",
    "            while temp:\n",
    "                print(\"-> {} \".format(temp.val), end =\"\")\n",
    "                temp = temp.next\n",
    "\n",
    "g = graph(4) # defines the amount of vertex\n",
    "# connect tia vertex\n",
    "g.edge(0, 2) # Node 0 will be neighbors with 2 etc.\n",
    "g.edge(1, 3)\n",
    "g.edge(3, 2)\n",
    "g.edge(0, 3)\n",
    "g.__repr__()\n"
   ]
  },
  {
   "cell_type": "markdown",
   "metadata": {
    "id": "xN7oToQH-xey"
   },
   "source": [
    "# Hashmaps"
   ]
  },
  {
   "cell_type": "code",
   "execution_count": 14,
   "metadata": {
    "colab": {
     "base_uri": "https://localhost:8080/"
    },
    "executionInfo": {
     "elapsed": 6,
     "status": "ok",
     "timestamp": 1689187865953,
     "user": {
      "displayName": "M ridho_account",
      "userId": "00944093947512696093"
     },
     "user_tz": -420
    },
    "id": "9Pua2fd5-StD",
    "outputId": "a0e371ae-71ae-4052-fbe2-747ba2f21986"
   },
   "outputs": [
    {
     "name": "stdout",
     "output_type": "stream",
     "text": [
      "0 -> first\n",
      "1 -> second\n",
      "2 -> third\n",
      "\n",
      "0 -> first\n",
      "1 -> second\n",
      "2 -> third\n",
      "4 -> fifth\n",
      "\n",
      "0 -> first\n",
      "1 -> second\n",
      "2 -> third\n"
     ]
    }
   ],
   "source": [
    " # Define the function to call each key and its value\n",
    "def printdict(d):\n",
    "    for key in d:\n",
    "        print(key, \"->\", d[key])\n",
    "# If a DICT is printed/calling directly (naked) in function, what is called is the key\n",
    "\n",
    "hashmaps = {0: 'first', 1: 'second', 2: 'third'}\n",
    "printdict(hashmaps)\n",
    "print()\n",
    "\n",
    "\n",
    "\n",
    "hashmaps[4] = 'fifth'\n",
    "printdict(hashmaps)\n",
    "print()\n",
    "\n",
    "hashmaps.popitem() # eliminate the index begins from the last index\n",
    "printdict(hashmaps)"
   ]
  },
  {
   "cell_type": "code",
   "execution_count": 16,
   "metadata": {
    "colab": {
     "base_uri": "https://localhost:8080/"
    },
    "executionInfo": {
     "elapsed": 460,
     "status": "ok",
     "timestamp": 1688718458880,
     "user": {
      "displayName": "Meilan Saputra",
      "userId": "03331617692552901961"
     },
     "user_tz": -420
    },
    "id": "aWrTHsA3m4pA",
    "outputId": "59e447fe-44ca-4e7b-fea3-983b530f25b0"
   },
   "outputs": [
    {
     "name": "stdout",
     "output_type": "stream",
     "text": [
      "{0: 'first', 1: 'second', 2: 'third'}\n"
     ]
    },
    {
     "data": {
      "text/plain": [
       "(2, 'third')"
      ]
     },
     "execution_count": 16,
     "metadata": {},
     "output_type": "execute_result"
    }
   ],
   "source": [
    "andra = {0: 'first', 1: 'second', 2: 'third'}\n",
    "print(andra)\n",
    "\n",
    "andra.popitem()"
   ]
  },
  {
   "cell_type": "markdown",
   "metadata": {
    "id": "UotsqBTjEaYb"
   },
   "source": [
    "# Thank you"
   ]
  }
 ],
 "metadata": {
  "colab": {
   "collapsed_sections": [
    "6FkIx88TcBmf"
   ],
   "provenance": []
  },
  "kernelspec": {
   "display_name": "Python 3 (ipykernel)",
   "language": "python",
   "name": "python3"
  },
  "language_info": {
   "codemirror_mode": {
    "name": "ipython",
    "version": 3
   },
   "file_extension": ".py",
   "mimetype": "text/x-python",
   "name": "python",
   "nbconvert_exporter": "python",
   "pygments_lexer": "ipython3",
   "version": "3.13.5"
  }
 },
 "nbformat": 4,
 "nbformat_minor": 4
}
