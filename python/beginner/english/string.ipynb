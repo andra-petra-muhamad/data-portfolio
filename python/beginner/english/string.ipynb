{
 "cells": [
  {
   "cell_type": "markdown",
   "metadata": {
    "id": "6FkIx88TcBmf"
   },
   "source": [
    "# What is a string?\n"
   ]
  },
  {
   "cell_type": "code",
   "execution_count": 2,
   "metadata": {
    "colab": {
     "base_uri": "https://localhost:8080/",
     "height": 35
    },
    "executionInfo": {
     "elapsed": 10,
     "status": "ok",
     "timestamp": 1688438728241,
     "user": {
      "displayName": "Ayub Indra",
      "userId": "11567623462666320598"
     },
     "user_tz": -420
    },
    "id": "FD5OVwDqoAce",
    "outputId": "6a048705-d277-4001-9d12-cf4ce6799662"
   },
   "outputs": [
    {
     "data": {
      "text/plain": [
       "'Yes'"
      ]
     },
     "execution_count": 2,
     "metadata": {},
     "output_type": "execute_result"
    }
   ],
   "source": [
    "\"Yes\" or 'No'"
   ]
  },
  {
   "cell_type": "code",
   "execution_count": 3,
   "metadata": {
    "colab": {
     "base_uri": "https://localhost:8080/"
    },
    "executionInfo": {
     "elapsed": 329,
     "status": "ok",
     "timestamp": 1689261603227,
     "user": {
      "displayName": "M ridho_account",
      "userId": "00944093947512696093"
     },
     "user_tz": -420
    },
    "id": "OdTbFPYWg9kv",
    "outputId": "2e0fbea9-14d9-4c74-dbdc-0f5179f6c92b"
   },
   "outputs": [
    {
     "name": "stdout",
     "output_type": "stream",
     "text": [
      "t\n",
      "a\n"
     ]
    }
   ],
   "source": [
    "print(\"Muhamad Petra Piyunandra\"[10])\n",
    "print(\"Muhamad Pettra Piyunandra\"[-20])"
   ]
  },
  {
   "cell_type": "markdown",
   "metadata": {
    "id": "HJM61Rdjh0cD"
   },
   "source": [
    "## Create String"
   ]
  },
  {
   "cell_type": "markdown",
   "metadata": {},
   "source": [
    "With single quotes"
   ]
  },
  {
   "cell_type": "code",
   "execution_count": 4,
   "metadata": {},
   "outputs": [
    {
     "name": "stdout",
     "output_type": "stream",
     "text": [
      "String with single quotes:\n",
      "Welcome to Universitas Negeri Yogyakarta\n"
     ]
    }
   ],
   "source": [
    "string1 = 'Welcome to Universitas Negeri Yogyakarta'\n",
    "print(\"String with single quotes:\")\n",
    "print(string1)"
   ]
  },
  {
   "cell_type": "markdown",
   "metadata": {},
   "source": [
    "With double quotes"
   ]
  },
  {
   "cell_type": "code",
   "execution_count": 5,
   "metadata": {},
   "outputs": [
    {
     "name": "stdout",
     "output_type": "stream",
     "text": [
      "String with double quotes:\n",
      "I am Andra\n"
     ]
    }
   ],
   "source": [
    "string2 = \"I am Andra\"\n",
    "print(\"String with double quotes:\")\n",
    "print(string2)"
   ]
  },
  {
   "cell_type": "markdown",
   "metadata": {},
   "source": [
    "With triple quotes"
   ]
  },
  {
   "cell_type": "code",
   "execution_count": 6,
   "metadata": {},
   "outputs": [
    {
     "name": "stdout",
     "output_type": "stream",
     "text": [
      "String with triple quotes:\n",
      "I am a Mathematics student and interested in anything related to \"data\"\n"
     ]
    }
   ],
   "source": [
    "string3 = '''I am a Mathematics student and interested in anything related to \"data\"'''\n",
    "print(\"String with triple quotes:\")\n",
    "print(string3)"
   ]
  },
  {
   "cell_type": "code",
   "execution_count": 7,
   "metadata": {},
   "outputs": [
    {
     "name": "stdout",
     "output_type": "stream",
     "text": [
      "I want to talk about, how much is the salary at the job \"Data Analyst\"\n"
     ]
    }
   ],
   "source": [
    "string4 = '''I want to talk about, how much is the salary at the job \"Data Analyst\"'''\n",
    "print(string4)"
   ]
  },
  {
   "cell_type": "markdown",
   "metadata": {},
   "source": [
    "With triple quotes allowing multi-line"
   ]
  },
  {
   "cell_type": "code",
   "execution_count": 8,
   "metadata": {},
   "outputs": [
    {
     "name": "stdout",
     "output_type": "stream",
     "text": [
      "Creating a multi-line string:\n",
      "\n",
      "Mathematics\n",
      "Is\n",
      "A\n",
      "Beautuy\n",
      "\n"
     ]
    }
   ],
   "source": [
    "string5 = '''\n",
    "Mathematics\n",
    "Is\n",
    "A\n",
    "Beautuy\n",
    "'''\n",
    "print(\"Creating a multi-line string:\")\n",
    "print(string5)"
   ]
  },
  {
   "cell_type": "code",
   "execution_count": 9,
   "metadata": {},
   "outputs": [
    {
     "name": "stdout",
     "output_type": "stream",
     "text": [
      "\n",
      "Muhamad \n",
      "Petra\n",
      "Piyunandra\n",
      "\n"
     ]
    }
   ],
   "source": [
    "string6 = '''\n",
    "Muhamad \n",
    "Petra\n",
    "Piyunandra\n",
    "'''\n",
    "print(string6)"
   ]
  },
  {
   "cell_type": "markdown",
   "metadata": {
    "id": "8MfAwXKBxv1c"
   },
   "source": [
    "# Character Access in String Python"
   ]
  },
  {
   "cell_type": "code",
   "execution_count": 10,
   "metadata": {
    "colab": {
     "base_uri": "https://localhost:8080/"
    },
    "executionInfo": {
     "elapsed": 636,
     "status": "ok",
     "timestamp": 1680688763779,
     "user": {
      "displayName": "Dadan Rahmat Maulana",
      "userId": "12258131335967819548"
     },
     "user_tz": -420
    },
    "id": "2G9uKP45p42K",
    "outputId": "36459f0c-458c-4053-ff47-41f6df7270b6"
   },
   "outputs": [
    {
     "name": "stdout",
     "output_type": "stream",
     "text": [
      "Initial String:\n",
      "Mathematics\n",
      "The first character of the string is:\n",
      "M\n",
      "The last character of the string is:\n",
      "s\n"
     ]
    }
   ],
   "source": [
    "string7 = \"Mathematics\"\n",
    "print(\"Initial String:\")\n",
    "print(string7)\n",
    "\n",
    "# Print the first character\n",
    "print(\"The first character of the string is:\")\n",
    "print(string7[0])\n",
    "\n",
    "# Print the last karaketer\n",
    "print(\"The last character of the string is:\")\n",
    "print(string7[-1])"
   ]
  },
  {
   "cell_type": "markdown",
   "metadata": {
    "id": "EvdjJfK9l9Nq"
   },
   "source": [
    "## Reverse String"
   ]
  },
  {
   "cell_type": "markdown",
   "metadata": {
    "id": "IicxJ-r4mL3S"
   },
   "source": [
    "By Accessing Characters from a string, we can also reverse it. We can Reverse a string by writing [::-1] and the string will be reversed."
   ]
  },
  {
   "cell_type": "code",
   "execution_count": 11,
   "metadata": {
    "colab": {
     "base_uri": "https://localhost:8080/"
    },
    "executionInfo": {
     "elapsed": 12,
     "status": "ok",
     "timestamp": 1678494887134,
     "user": {
      "displayName": "Aditya Pramana putra",
      "userId": "16321676382628062029"
     },
     "user_tz": -420
    },
    "id": "kAYsNPBsl_NG",
    "outputId": "ffdfd4b7-a7c7-4072-c642-f7c4d3096ad4"
   },
   "outputs": [
    {
     "ename": "NameError",
     "evalue": "name 'mtk' is not defined",
     "output_type": "error",
     "traceback": [
      "\u001b[1;31m---------------------------------------------------------------------------\u001b[0m",
      "\u001b[1;31mNameError\u001b[0m                                 Traceback (most recent call last)",
      "Cell \u001b[1;32mIn[11], line 2\u001b[0m\n\u001b[0;32m      1\u001b[0m mtc \u001b[38;5;241m=\u001b[39m \u001b[38;5;124m\"\u001b[39m\u001b[38;5;124mmathematics\u001b[39m\u001b[38;5;124m\"\u001b[39m\n\u001b[1;32m----> 2\u001b[0m \u001b[38;5;28mprint\u001b[39m(mtk[::\u001b[38;5;241m-\u001b[39m\u001b[38;5;241m1\u001b[39m])\n\u001b[0;32m      4\u001b[0m reversed_name \u001b[38;5;241m=\u001b[39m \u001b[38;5;124m\"\u001b[39m\u001b[38;5;124mardna\u001b[39m\u001b[38;5;124m\"\u001b[39m\n\u001b[0;32m      5\u001b[0m \u001b[38;5;28mprint\u001b[39m(reversed_name[::\u001b[38;5;241m-\u001b[39m\u001b[38;5;241m1\u001b[39m])\n",
      "\u001b[1;31mNameError\u001b[0m: name 'mtk' is not defined"
     ]
    }
   ],
   "source": [
    "mtc = \"mathematics\"\n",
    "print(mtk[::-1])\n",
    "\n",
    "reversed_name = \"ardna\"\n",
    "print(reversed_name[::-1])\n",
    "\n",
    "reversed_jutsu = \"Sakashima Yokoshima Happo Fusaghari\"\n",
    "print((reversed_jutsu[::-1]).lower())"
   ]
  },
  {
   "cell_type": "markdown",
   "metadata": {},
   "source": [
    "Reverse string using reversed and join functions"
   ]
  },
  {
   "cell_type": "code",
   "execution_count": null,
   "metadata": {
    "colab": {
     "base_uri": "https://localhost:8080/"
    },
    "executionInfo": {
     "elapsed": 12,
     "status": "ok",
     "timestamp": 1678494994012,
     "user": {
      "displayName": "Aditya Pramana putra",
      "userId": "16321676382628062029"
     },
     "user_tz": -420
    },
    "id": "mVQAi9Dim3vs",
    "outputId": "769e8ecd-efb8-43c1-b7fb-5cac47a0d17b"
   },
   "outputs": [],
   "source": [
    "mtc = \"\".join(reversed(mtc))\n",
    "print(mtc)\n",
    "\n",
    "reversed_name = \"ardna\"\n",
    "reversed_name = \"\".join(reversed(reversed_name))\n",
    "print(reversed_name)\n"
   ]
  },
  {
   "cell_type": "markdown",
   "metadata": {
    "id": "g1JBN8eFn_gB"
   },
   "source": [
    "## String slicing"
   ]
  },
  {
   "cell_type": "markdown",
   "metadata": {
    "id": "EFXQS3-woFd7"
   },
   "source": [
    "To access multiple characters in a String, the slicing method is used. Slicing in a String is done using the Slicing operator (colon)."
   ]
  },
  {
   "cell_type": "markdown",
   "metadata": {},
   "source": [
    "Make a string"
   ]
  },
  {
   "cell_type": "code",
   "execution_count": 12,
   "metadata": {},
   "outputs": [
    {
     "name": "stdout",
     "output_type": "stream",
     "text": [
      "Complete string:\n",
      "Muhamad Petra Piyunandra\n"
     ]
    }
   ],
   "source": [
    "name = \"Muhamad Petra Piyunandra\"\n",
    "print(\"Complete string:\")\n",
    "print(name)"
   ]
  },
  {
   "cell_type": "markdown",
   "metadata": {},
   "source": [
    "Print characters 3 to 12"
   ]
  },
  {
   "cell_type": "code",
   "execution_count": 13,
   "metadata": {},
   "outputs": [
    {
     "name": "stdout",
     "output_type": "stream",
     "text": [
      "Slicing Characters from 3-12:\n",
      "hamad Petr\n"
     ]
    }
   ],
   "source": [
    "print(\"Slicing Characters from 3-12:\")\n",
    "print(name[2:12])"
   ]
  },
  {
   "cell_type": "markdown",
   "metadata": {},
   "source": [
    "Print the 3rd character and the 2nd character of the end"
   ]
  },
  {
   "cell_type": "code",
   "execution_count": 16,
   "metadata": {},
   "outputs": [
    {
     "name": "stdout",
     "output_type": "stream",
     "text": [
      "Slicing characters between the  third character and the last 2 characters: \n",
      "hamad Petra Piyunandr\n"
     ]
    }
   ],
   "source": [
    "print(\"Slicing characters between the \" + \n",
    "      \" third character and the last 2 characters: \")\n",
    "print(name[2:-1])"
   ]
  },
  {
   "cell_type": "code",
   "execution_count": 17,
   "metadata": {
    "colab": {
     "base_uri": "https://localhost:8080/"
    },
    "executionInfo": {
     "elapsed": 305,
     "status": "ok",
     "timestamp": 1689262160897,
     "user": {
      "displayName": "M ridho_account",
      "userId": "00944093947512696093"
     },
     "user_tz": -420
    },
    "id": "3YYxTTR5oBrg",
    "outputId": "3254bcb5-0800-4252-ba02-1846e742c146"
   },
   "outputs": [
    {
     "name": "stdout",
     "output_type": "stream",
     "text": [
      "a\n",
      "Muhamad Petra Piyunandra\n"
     ]
    }
   ],
   "source": [
    "print(name[-1])\n",
    "print(name[:])"
   ]
  },
  {
   "cell_type": "markdown",
   "metadata": {
    "id": "aBelpviLyl0B"
   },
   "source": [
    "## Delete and update string"
   ]
  },
  {
   "cell_type": "markdown",
   "metadata": {
    "id": "YjQFL16bs5NW"
   },
   "source": [
    "## Character update"
   ]
  },
  {
   "cell_type": "code",
   "execution_count": 18,
   "metadata": {},
   "outputs": [
    {
     "name": "stdout",
     "output_type": "stream",
     "text": [
      "Complete string:\n",
      "MUHAMAD PETRA PIYUNANDRA\n"
     ]
    }
   ],
   "source": [
    "complete_string = \"MUHAMAD PETRA PIYUNANDRA\"\n",
    "print(\"Complete string:\")\n",
    "print(complete_string)"
   ]
  },
  {
   "cell_type": "markdown",
   "metadata": {},
   "source": [
    "Because Python strings are immutable, they don't support updating items directly. There are two ways to do this:"
   ]
  },
  {
   "cell_type": "markdown",
   "metadata": {},
   "source": [
    "Method 1"
   ]
  },
  {
   "cell_type": "code",
   "execution_count": 19,
   "metadata": {},
   "outputs": [
    {
     "name": "stdout",
     "output_type": "stream",
     "text": [
      "['M', 'U', 'H', 'A', 'M', 'A', 'D', ' ', 'P', 'E', 'T', 'R', 'A', ' ', 'P', 'I', 'Y', 'U', 'N', 'A', 'N', 'D', 'R', 'A']\n",
      "<class 'list'>\n",
      "Updating characters on 2nd Index:\n",
      "MUHAYAD PETRA PIYUNANDRA\n",
      "<class 'str'>\n"
     ]
    }
   ],
   "source": [
    "list1 = list(complete_string)\n",
    "print(list1)\n",
    "print(type(list1))\n",
    "list1[4] = 'Y'\n",
    "String2 = ''.join(list1)\n",
    "print(\"Updating characters on 2nd Index:\")\n",
    "print(String2)\n",
    "print(type(String2))"
   ]
  },
  {
   "cell_type": "markdown",
   "metadata": {},
   "source": [
    "Method 2"
   ]
  },
  {
   "cell_type": "code",
   "execution_count": 20,
   "metadata": {},
   "outputs": [
    {
     "name": "stdout",
     "output_type": "stream",
     "text": [
      "MUHAYAD PETRA PIYUNANDRA\n"
     ]
    }
   ],
   "source": [
    "String3 = complete_string[0:4] + 'Y' + complete_string[5:]\n",
    "print(String3)"
   ]
  },
  {
   "cell_type": "markdown",
   "metadata": {
    "id": "QZIYZAA5twAT"
   },
   "source": [
    "## Update all strings"
   ]
  },
  {
   "cell_type": "code",
   "execution_count": 21,
   "metadata": {
    "colab": {
     "base_uri": "https://localhost:8080/"
    },
    "id": "dWI41gq-s_J-",
    "outputId": "59c68613-7ef2-4967-a246-05c0ec0c9efe"
   },
   "outputs": [
    {
     "name": "stdout",
     "output_type": "stream",
     "text": [
      "Before changed:\n",
      "Hello, I'm Andra\n",
      "After changed:\n"
     ]
    },
    {
     "ename": "NameError",
     "evalue": "name 'after' is not defined",
     "output_type": "error",
     "traceback": [
      "\u001b[1;31m---------------------------------------------------------------------------\u001b[0m",
      "\u001b[1;31mNameError\u001b[0m                                 Traceback (most recent call last)",
      "Cell \u001b[1;32mIn[21], line 8\u001b[0m\n\u001b[0;32m      6\u001b[0m sesudah \u001b[38;5;241m=\u001b[39m \u001b[38;5;124m\"\u001b[39m\u001b[38;5;124mWelcome to Indonesia\u001b[39m\u001b[38;5;124m\"\u001b[39m\n\u001b[0;32m      7\u001b[0m \u001b[38;5;28mprint\u001b[39m(\u001b[38;5;124m\"\u001b[39m\u001b[38;5;124mAfter changed:\u001b[39m\u001b[38;5;124m\"\u001b[39m)\n\u001b[1;32m----> 8\u001b[0m \u001b[38;5;28mprint\u001b[39m(after)\n",
      "\u001b[1;31mNameError\u001b[0m: name 'after' is not defined"
     ]
    }
   ],
   "source": [
    "before = \"Hello, I'm Andra\"\n",
    "print(\"Before changed:\")\n",
    "print(before)\n",
    "\n",
    "# String update\n",
    "sesudah = \"Welcome to Indonesia\"\n",
    "print(\"After changed:\")\n",
    "print(after)"
   ]
  },
  {
   "cell_type": "markdown",
   "metadata": {
    "id": "jyfGK7Dut-l2"
   },
   "source": [
    "## Delete Character"
   ]
  },
  {
   "cell_type": "code",
   "execution_count": 22,
   "metadata": {},
   "outputs": [
    {
     "name": "stdout",
     "output_type": "stream",
     "text": [
      "Complete string:\n",
      "MUHAMAD PETRA PIYUNANDRA\n"
     ]
    }
   ],
   "source": [
    "complete_string = \"MUHAMAD PETRA PIYUNANDRA\"\n",
    "print(\"Complete string:\")\n",
    "print(complete_string)"
   ]
  },
  {
   "cell_type": "markdown",
   "metadata": {},
   "source": [
    "Remove the string"
   ]
  },
  {
   "cell_type": "code",
   "execution_count": 25,
   "metadata": {
    "colab": {
     "base_uri": "https://localhost:8080/"
    },
    "executionInfo": {
     "elapsed": 448,
     "status": "ok",
     "timestamp": 1678495539447,
     "user": {
      "displayName": "Aditya Pramana putra",
      "userId": "16321676382628062029"
     },
     "user_tz": -420
    },
    "id": "6SrGj9iXt3Vt",
    "outputId": "1ab685d6-b73d-4012-8b56-6371792806a0"
   },
   "outputs": [
    {
     "name": "stdout",
     "output_type": "stream",
     "text": [
      "Deleting the 2nd index character:\n",
      "MHAMAD PETRA PIYUNANDRA\n"
     ]
    }
   ],
   "source": [
    "remove2 = complete_string[0:1] + complete_string[2:]\n",
    "print(\"Deleting the 2nd index character:\")\n",
    "print(remove2)"
   ]
  },
  {
   "cell_type": "markdown",
   "metadata": {
    "id": "BxsvUsRouiXB"
   },
   "source": [
    "## Delete all strings"
   ]
  },
  {
   "cell_type": "code",
   "execution_count": 27,
   "metadata": {},
   "outputs": [
    {
     "name": "stdout",
     "output_type": "stream",
     "text": [
      "Complete string:\n",
      "MUHAMAD PETRA PIYUNANDRA\n"
     ]
    }
   ],
   "source": [
    "complete_string = \"MUHAMAD PETRA PIYUNANDRA\"\n",
    "print(\"Complete string:\")\n",
    "print(complete_string)"
   ]
  },
  {
   "cell_type": "markdown",
   "metadata": {},
   "source": [
    "Delete using __del__"
   ]
  },
  {
   "cell_type": "code",
   "execution_count": 28,
   "metadata": {
    "colab": {
     "base_uri": "https://localhost:8080/",
     "height": 276
    },
    "id": "shSLxlX1uG6x",
    "outputId": "c110a0a7-7396-4aff-fef0-27e0aacc51f3"
   },
   "outputs": [
    {
     "name": "stdout",
     "output_type": "stream",
     "text": [
      "Deleting the entire string: results in an error\n"
     ]
    },
    {
     "ename": "NameError",
     "evalue": "name 'stringlengkap' is not defined",
     "output_type": "error",
     "traceback": [
      "\u001b[1;31m---------------------------------------------------------------------------\u001b[0m",
      "\u001b[1;31mNameError\u001b[0m                                 Traceback (most recent call last)",
      "Cell \u001b[1;32mIn[28], line 3\u001b[0m\n\u001b[0;32m      1\u001b[0m \u001b[38;5;28;01mdel\u001b[39;00m complete_string\n\u001b[0;32m      2\u001b[0m \u001b[38;5;28mprint\u001b[39m(\u001b[38;5;124m\"\u001b[39m\u001b[38;5;124mDeleting the entire string: results in an error\u001b[39m\u001b[38;5;124m\"\u001b[39m)\n\u001b[1;32m----> 3\u001b[0m \u001b[38;5;28mprint\u001b[39m(stringlengkap)\n",
      "\u001b[1;31mNameError\u001b[0m: name 'stringlengkap' is not defined"
     ]
    }
   ],
   "source": [
    "del complete_string\n",
    "print(\"Deleting the entire string: results in an error\")\n",
    "print(stringlengkap)\n"
   ]
  },
  {
   "cell_type": "markdown",
   "metadata": {
    "id": "74XYTwmxwJqF"
   },
   "source": [
    "# Escape Sequences in Python\n",
    "\n",
    "An escape sequence is a special character used in a string to indicate that the next character has a special meaning, not just a regular letter. Escape sequences always begin with a backslash `\\`."
   ]
  },
  {
   "cell_type": "code",
   "execution_count": 29,
   "metadata": {},
   "outputs": [
    {
     "name": "stdout",
     "output_type": "stream",
     "text": [
      "String with triple quotes:\n",
      "I'm \"Smart\"\n"
     ]
    }
   ],
   "source": [
    "String1 = '''I'm \"Smart\"'''\n",
    "print(\"String with triple quotes:\")\n",
    "print(String1)"
   ]
  },
  {
   "cell_type": "markdown",
   "metadata": {},
   "source": [
    "#### Escape with a single quote"
   ]
  },
  {
   "cell_type": "code",
   "execution_count": 30,
   "metadata": {},
   "outputs": [
    {
     "name": "stdout",
     "output_type": "stream",
     "text": [
      "Escaping Single Quote:\n",
      "I'm very \"tired\" with you\n"
     ]
    }
   ],
   "source": [
    "String1 = 'I\\'m very \"tired\" with you'\n",
    "print(\"Escaping Single Quote:\")\n",
    "print(String1)\n"
   ]
  },
  {
   "cell_type": "markdown",
   "metadata": {},
   "source": [
    "#### Escape with double quotes"
   ]
  },
  {
   "cell_type": "code",
   "execution_count": 31,
   "metadata": {},
   "outputs": [
    {
     "name": "stdout",
     "output_type": "stream",
     "text": [
      "Escaping Double Quotes: \n",
      "I'm very \"Tired\" with you\n"
     ]
    }
   ],
   "source": [
    "String1 = \"I'm very \\\"Tired\\\" with you\"\n",
    "print(\"Escaping Double Quotes: \")       # Note: give a \\ sign first then the sign we want to set\n",
    "print(String1)"
   ]
  },
  {
   "cell_type": "markdown",
   "metadata": {},
   "source": [
    "#### Print Path with Escape lines"
   ]
  },
  {
   "cell_type": "code",
   "execution_count": 32,
   "metadata": {},
   "outputs": [
    {
     "name": "stdout",
     "output_type": "stream",
     "text": [
      "Escaping Backslash:\n",
      "C: Https:\\\\Andra\\\\Channel\\\\.com\n"
     ]
    }
   ],
   "source": [
    "String1 = \"C: Https:\\\\\\Andra\\\\\\Channel\\\\\\.com\"\n",
    "print(\"Escaping Backslash:\")\n",
    "print(String1)"
   ]
  },
  {
   "cell_type": "markdown",
   "metadata": {},
   "source": [
    "#### Print Path with Tab"
   ]
  },
  {
   "cell_type": "code",
   "execution_count": 33,
   "metadata": {},
   "outputs": [
    {
     "name": "stdout",
     "output_type": "stream",
     "text": [
      "Tab:\n",
      "Note:\t Jika ada sesuatu..\n"
     ]
    }
   ],
   "source": [
    "String1 = \"Note:\\t Jika ada sesuatu..\"\n",
    "print(\"Tab:\")\n",
    "print(String1)"
   ]
  },
  {
   "cell_type": "markdown",
   "metadata": {},
   "source": [
    "#### Print Path With New Line"
   ]
  },
  {
   "cell_type": "code",
   "execution_count": 34,
   "metadata": {
    "colab": {
     "base_uri": "https://localhost:8080/"
    },
    "executionInfo": {
     "elapsed": 361,
     "status": "ok",
     "timestamp": 1678496065913,
     "user": {
      "displayName": "Aditya Pramana putra",
      "userId": "16321676382628062029"
     },
     "user_tz": -420
    },
    "id": "V822VJycutDh",
    "outputId": "651b2c1b-429c-4c1a-dabd-f4c034efb969"
   },
   "outputs": [
    {
     "name": "stdout",
     "output_type": "stream",
     "text": [
      "New Line:\n",
      "Nama\n",
      "NIM\n"
     ]
    }
   ],
   "source": [
    "String1 = \"Nama\\nNIM\"\n",
    "print(\"New Line:\")\n",
    "print(String1)"
   ]
  },
  {
   "cell_type": "markdown",
   "metadata": {},
   "source": [
    "##### General Escape Sequence Summary\n",
    "| Escape | Meaning |\n",
    "| ------ | ----------------------\n",
    "| `\\ '` | Single quotation mark |\n",
    "| `\\\" `| Double Quotation Sign |\n",
    "| `\\\\ '| Backslash Signs |\n",
    "| `\\ n` | New Line (Newline) |\n",
    "| `\\ t` | Tab (width space) |\n",
    "| `\\ r` | Carriage Return (Rare) |\n",
    "| `\\ b` | Backspace |\n"
   ]
  },
  {
   "cell_type": "markdown",
   "metadata": {
    "id": "4D0qD1N2zCNV"
   },
   "source": [
    "# String Formatting\n",
    "\n",
    "String formatting allows you to insert variable values or specific text into a string in a controlled order or name. Python provides several methods, and .format() is one of the classic and very flexible methods."
   ]
  },
  {
   "cell_type": "markdown",
   "metadata": {},
   "source": [
    "#### Ordinary order"
   ]
  },
  {
   "cell_type": "code",
   "execution_count": 35,
   "metadata": {},
   "outputs": [
    {
     "name": "stdout",
     "output_type": "stream",
     "text": [
      "Print string in the ordinary order:\n",
      "Mathematics for Life\n"
     ]
    }
   ],
   "source": [
    "String1 = \"{} {} {}\".format('Mathematics', 'for', 'Life')\n",
    "print(\"Print string in the ordinary order:\")\n",
    "print(String1)"
   ]
  },
  {
   "cell_type": "code",
   "execution_count": 36,
   "metadata": {},
   "outputs": [
    {
     "name": "stdout",
     "output_type": "stream",
     "text": [
      "Muhamad Petra Piyunandra\n"
     ]
    }
   ],
   "source": [
    "my_name = \"{} {} {}\".format('Muhamad','Petra','Piyunandra')\n",
    "print(my_name)"
   ]
  },
  {
   "cell_type": "markdown",
   "metadata": {},
   "source": [
    "#### Positional Formatting"
   ]
  },
  {
   "cell_type": "code",
   "execution_count": 37,
   "metadata": {},
   "outputs": [
    {
     "name": "stdout",
     "output_type": "stream",
     "text": [
      "Print String in Positional Order:\n",
      "for Mathematics Life\n"
     ]
    }
   ],
   "source": [
    "String1 = \"{1} {0} {2}\".format('Mathematics', 'for', 'Life')\n",
    "print(\"Print String in Positional Order:\")\n",
    "print(String1)"
   ]
  },
  {
   "cell_type": "code",
   "execution_count": 38,
   "metadata": {},
   "outputs": [
    {
     "name": "stdout",
     "output_type": "stream",
     "text": [
      "Piyunandra Petra Muhamad\n"
     ]
    }
   ],
   "source": [
    "my_name = \"{2} {1} {0}\".format('Muhamad','Petra','Piyunandra')\n",
    "print(my_name)"
   ]
  },
  {
   "cell_type": "markdown",
   "metadata": {},
   "source": [
    "#### Keyword Formatting"
   ]
  },
  {
   "cell_type": "code",
   "execution_count": 41,
   "metadata": {},
   "outputs": [
    {
     "name": "stdout",
     "output_type": "stream",
     "text": [
      "Print string with keyword order:\n",
      "Life for Mathematics\n"
     ]
    }
   ],
   "source": [
    "String1 = \"{l} {f} {m}\".format(m='Mathematics', f='for', l='Life')\n",
    "print(\"Print string with keyword order:\")\n",
    "print(String1)"
   ]
  },
  {
   "cell_type": "code",
   "execution_count": 42,
   "metadata": {},
   "outputs": [
    {
     "name": "stdout",
     "output_type": "stream",
     "text": [
      "Muhamad Petra Petra\n"
     ]
    }
   ],
   "source": [
    "my_name = \"{m} {p} {p}\".format(m='Muhamad',p='Petra',pp='Piyunandra')\n",
    "print(my_name)"
   ]
  },
  {
   "cell_type": "markdown",
   "metadata": {},
   "source": [
    "* String Formatting Summary\n",
    "\n",
    "| Technique | Example | Description |\n",
    "| ---------------- | -------------------------------- | ----------------------- |\n",
    "| Default order | `\"{} {}\".format('A', 'B')` | Fill in the order |\n",
    "| Positional index | `\"{1} {0}\".format('A', 'B')` | Can be swapped |\n",
    "| Keyword | `\"{x} {y}\".format(x='A', y='B')` | Name as reference |"
   ]
  },
  {
   "cell_type": "markdown",
   "metadata": {
    "id": "3On9m0cEzoU_"
   },
   "source": [
    "#### Integer format (integer)\n",
    "Integers such as binary, hexadecimal, etc., and float can be rounded or displayed in the form of exponents using format determinants."
   ]
  },
  {
   "cell_type": "code",
   "execution_count": 43,
   "metadata": {},
   "outputs": [
    {
     "name": "stdout",
     "output_type": "stream",
     "text": [
      "Binary representation of 100 is\n",
      "1100100\n"
     ]
    }
   ],
   "source": [
    "String1 = \"{0:b}\".format(100)\n",
    "print(\"Binary representation of 100 is\")\n",
    "print(String1)"
   ]
  },
  {
   "cell_type": "markdown",
   "metadata": {},
   "source": [
    "#### Float format"
   ]
  },
  {
   "cell_type": "code",
   "execution_count": 44,
   "metadata": {},
   "outputs": [
    {
     "name": "stdout",
     "output_type": "stream",
     "text": [
      "Exponential representation of 165,6458 is\n",
      "1.656458e+02\n"
     ]
    }
   ],
   "source": [
    "String1 = \"{0:e}\".format(165.6458)\n",
    "print(\"Exponential representation of 165,6458 is\")\n",
    "print(String1)"
   ]
  },
  {
   "cell_type": "markdown",
   "metadata": {},
   "source": [
    "#### Rounding Round"
   ]
  },
  {
   "cell_type": "code",
   "execution_count": 45,
   "metadata": {
    "colab": {
     "base_uri": "https://localhost:8080/"
    },
    "executionInfo": {
     "elapsed": 368,
     "status": "ok",
     "timestamp": 1678496333610,
     "user": {
      "displayName": "Aditya Pramana putra",
      "userId": "16321676382628062029"
     },
     "user_tz": -420
    },
    "id": "5lRNqh6-zj8b",
    "outputId": "a074c89f-81d4-499e-a7ef-127f1eeb2e4f"
   },
   "outputs": [
    {
     "name": "stdout",
     "output_type": "stream",
     "text": [
      "Rounding the number 23/400 is:\n",
      "0.06\n"
     ]
    }
   ],
   "source": [
    "String1 = \"{0:.2f}\".format(23/400)\n",
    "print(\"Rounding the number 23/400 is:\")\n",
    "print(String1)"
   ]
  },
  {
   "cell_type": "markdown",
   "metadata": {
    "id": "lJ_poP1Gz0Lp"
   },
   "source": [
    "#### Alignment\n",
    "A string can be left () or center (^) justified using format specifiers, separated by colons (:)."
   ]
  },
  {
   "cell_type": "code",
   "execution_count": 46,
   "metadata": {},
   "outputs": [
    {
     "name": "stdout",
     "output_type": "stream",
     "text": [
      "Left, middle and right alignment with formatting:\n",
      "|Mathematics|is|Easy|\n"
     ]
    }
   ],
   "source": [
    "String1 = \"|{:<4}|{:^2}|{:<4}|\".format('Mathematics','is','Easy')\n",
    "print(\"Left, middle and right alignment with formatting:\")\n",
    "print(String1)"
   ]
  },
  {
   "cell_type": "markdown",
   "metadata": {},
   "source": [
    "#### Demonstration Alignment Space"
   ]
  },
  {
   "cell_type": "code",
   "execution_count": 47,
   "metadata": {
    "colab": {
     "base_uri": "https://localhost:8080/"
    },
    "executionInfo": {
     "elapsed": 13,
     "status": "ok",
     "timestamp": 1678496512995,
     "user": {
      "displayName": "Aditya Pramana putra",
      "userId": "16321676382628062029"
     },
     "user_tz": -420
    },
    "id": "qZe1EQxpzwCP",
    "outputId": "58439148-ca74-413a-c93b-df42e60dd399"
   },
   "outputs": [
    {
     "name": "stdout",
     "output_type": "stream",
     "text": [
      "   Indonesia     independence in the year 1945!\n"
     ]
    }
   ],
   "source": [
    "String1 = \"{0:^16} independence in the year {1:<4}!\".format(\"Indonesia\", 1945)\n",
    "print(String1)"
   ]
  },
  {
   "cell_type": "markdown",
   "metadata": {
    "id": "OwQcbfGW0V6l"
   },
   "source": [
    "#### Number Format with % (Printf-style)\n",
    "* Old-style formatting is done without using the format method using the % operator\n",
    "* %3.2f → 3 characters total, 2 decimal places\n",
    "* %1.1fd → 1 number total, 1 decimal place\n",
    "* %3.3f → 3 numbers total, 3 decimal places"
   ]
  },
  {
   "cell_type": "code",
   "execution_count": 48,
   "metadata": {
    "colab": {
     "base_uri": "https://localhost:8080/"
    },
    "executionInfo": {
     "elapsed": 364,
     "status": "ok",
     "timestamp": 1678496982227,
     "user": {
      "displayName": "Aditya Pramana putra",
      "userId": "16321676382628062029"
     },
     "user_tz": -420
    },
    "id": "tzfg-bVZ0EFL",
    "outputId": "e6ace4c6-2a59-4e56-f086-d7244d5eae84"
   },
   "outputs": [
    {
     "name": "stdout",
     "output_type": "stream",
     "text": [
      "Formatting in 3.2f format: \n",
      "The value of Integer1 is 12.35\n",
      "Formatting in 3.4f format: \n",
      "The value of Integer1 is 12.3\n",
      "The value of Integer1 is 12.346\n"
     ]
    }
   ],
   "source": [
    "Integer1 = 12.3456789\n",
    "print(\"Formatting in 3.2f format: \")\n",
    "print('The value of Integer1 is %3.2f' % Integer1)\n",
    "print(\"Formatting in 3.4f format: \")\n",
    "print('The value of Integer1 is %1.1f' % Integer1)\n",
    "print('The value of Integer1 is %3.3f' % Integer1)"
   ]
  },
  {
   "cell_type": "markdown",
   "metadata": {},
   "source": [
    "__end=\"\\r\"__ → Returns to the beginning of the line, overwriting the previous text. So the final result will look like this:"
   ]
  },
  {
   "cell_type": "code",
   "execution_count": 52,
   "metadata": {},
   "outputs": [
    {
     "name": "stdout",
     "output_type": "stream",
     "text": [
      "This is the first line.\n",
      "Is it truee second row.\n"
     ]
    }
   ],
   "source": [
    "print(\"This is the first line.\")\n",
    "print(\"This is the second row.\", end=\"\\r\")\n",
    "print(\"Is it true\")"
   ]
  },
  {
   "cell_type": "code",
   "execution_count": null,
   "metadata": {},
   "outputs": [],
   "source": []
  }
 ],
 "metadata": {
  "colab": {
   "provenance": []
  },
  "kernelspec": {
   "display_name": "Python 3 (ipykernel)",
   "language": "python",
   "name": "python3"
  },
  "language_info": {
   "codemirror_mode": {
    "name": "ipython",
    "version": 3
   },
   "file_extension": ".py",
   "mimetype": "text/x-python",
   "name": "python",
   "nbconvert_exporter": "python",
   "pygments_lexer": "ipython3",
   "version": "3.13.5"
  }
 },
 "nbformat": 4,
 "nbformat_minor": 4
}
