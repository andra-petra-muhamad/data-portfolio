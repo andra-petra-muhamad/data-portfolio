{
 "cells": [
  {
   "cell_type": "markdown",
   "metadata": {},
   "source": [
    "# Introduction to Function"
   ]
  },
  {
   "cell_type": "markdown",
   "metadata": {
    "id": "6FkIx88TcBmf"
   },
   "source": [
    "# Python Function"
   ]
  },
  {
   "cell_type": "code",
   "execution_count": 4,
   "metadata": {
    "id": "FD5OVwDqoAce"
   },
   "outputs": [
    {
     "name": "stdout",
     "output_type": "stream",
     "text": [
      "\n",
      "fungsi ini menyapa nama\n",
      "orang yang masuk sebagai\n",
      "sebuah parameter\n",
      "\n",
      "Hello, A. Good Morning! Welcome to the jungle!\n"
     ]
    }
   ],
   "source": [
    "# Function Definition\n",
    "def greet(name): # to define a function so that it is readable\n",
    "    '''\n",
    "    fungsi ini menyapa nama\n",
    "    orang yang masuk sebagai\n",
    "    sebuah parameter\n",
    "    '''\n",
    "    print(\"Hello, \" + name +\". Good Morning! Welcome to the jungle!\")\n",
    "print(greet.__doc__)\n",
    "greet('A')"
   ]
  },
  {
   "cell_type": "code",
   "execution_count": 5,
   "metadata": {
    "colab": {
     "base_uri": "https://localhost:8080/"
    },
    "executionInfo": {
     "elapsed": 642,
     "status": "ok",
     "timestamp": 1687917937682,
     "user": {
      "displayName": "Yus'ad",
      "userId": "02336155515181606500"
     },
     "user_tz": -420
    },
    "id": "jvpCeq_ypyN8",
    "outputId": "bc82ea47-341e-4e5d-ad8c-962d4f60325a"
   },
   "outputs": [
    {
     "name": "stdout",
     "output_type": "stream",
     "text": [
      "Hello, Davin. Good Morning! Welcome to the jungle!\n",
      "Hello, Puan Mahadani. Good Morning! Welcome to the jungle!\n"
     ]
    }
   ],
   "source": [
    "greet('Davin')\n",
    "greet(\"Puan Mahadani\")"
   ]
  },
  {
   "cell_type": "code",
   "execution_count": 7,
   "metadata": {
    "colab": {
     "base_uri": "https://localhost:8080/"
    },
    "executionInfo": {
     "elapsed": 410,
     "status": "ok",
     "timestamp": 1687918007401,
     "user": {
      "displayName": "Yus'ad",
      "userId": "02336155515181606500"
     },
     "user_tz": -420
    },
    "id": "Cx_uWDrA-K8e",
    "outputId": "e100f3fa-f9f3-43d4-dab7-32b2a935ea42"
   },
   "outputs": [
    {
     "name": "stdout",
     "output_type": "stream",
     "text": [
      "Hello, meaw. Good Morning! Welcome to MySkill!\n"
     ]
    }
   ],
   "source": [
    "# Function Definition\n",
    "def greet(name): # to define a function so that it is readable\n",
    "    '''\n",
    "    This function returns the name \n",
    "    of the person entering \n",
    "    as a parameter.\n",
    "    '''\n",
    "    print(\"Hello, \" + name +\". Good Morning! Welcome to MySkill!\")\n",
    "greet('meaw')"
   ]
  },
  {
   "cell_type": "markdown",
   "metadata": {
    "id": "8MfAwXKBxv1c"
   },
   "source": [
    "# Function Arguments"
   ]
  },
  {
   "cell_type": "code",
   "execution_count": 8,
   "metadata": {
    "colab": {
     "base_uri": "https://localhost:8080/"
    },
    "executionInfo": {
     "elapsed": 19,
     "status": "ok",
     "timestamp": 1688816724340,
     "user": {
      "displayName": "Raihan Ilyas Ahyar",
      "userId": "10450700780477232707"
     },
     "user_tz": -420
    },
    "id": "2G9uKP45p42K",
    "outputId": "a108637b-e93e-4078-9497-59c9a47187de"
   },
   "outputs": [
    {
     "name": "stdout",
     "output_type": "stream",
     "text": [
      "Hello davin, how are you\n",
      "Hello Zigi Moasal, how are you\n"
     ]
    }
   ],
   "source": [
    "def greet(name, msg='how are you'):\n",
    "    \"\"\"This function greets\n",
    "    the person with the given message\"\"\"\n",
    "    print(\"Hello\", name + ', ' + msg)\n",
    "\n",
    "greet(\"davin\")\n",
    "greet(\"Zigi Moasal\")"
   ]
  },
  {
   "cell_type": "markdown",
   "metadata": {
    "id": "aBelpviLyl0B"
   },
   "source": [
    "## Python Default Arguments"
   ]
  },
  {
   "cell_type": "markdown",
   "metadata": {
    "id": "yfTXj8Xay6ta"
   },
   "source": [
    "We can give the default value to the argument using the assignment operator (=). Here is an example."
   ]
  },
  {
   "cell_type": "code",
   "execution_count": 9,
   "metadata": {
    "colab": {
     "base_uri": "https://localhost:8080/"
    },
    "executionInfo": {
     "elapsed": 24,
     "status": "ok",
     "timestamp": 1688478566903,
     "user": {
      "displayName": "Rama Kurniawan",
      "userId": "16569434471126475928"
     },
     "user_tz": -480
    },
    "id": "j4yuryndymcm",
    "outputId": "cd017c03-cde0-4a46-a70d-7e0a5fe68813"
   },
   "outputs": [
    {
     "name": "stdout",
     "output_type": "stream",
     "text": [
      "Used for greetings\n",
      "None\n",
      "Hello Faras, Good morning!\n",
      "Hello Luthfi, Apa kabar\n"
     ]
    }
   ],
   "source": [
    "def greet(name, msg=\"Good morning!\"):\n",
    "    \"\"\"\n",
    "    This function greets \n",
    "    people with \n",
    "    the provided message.\n",
    "    \n",
    "    If no message is provided, \n",
    "    the default is \n",
    "    \"Good morning!\"\n",
    "    \"\"\"\n",
    "\n",
    "    print(\"Hello\",name +', ' + msg)\n",
    "\n",
    "def greetings(a):\n",
    "    \"Used for greetings\"\n",
    "    \n",
    "print(greetings.__doc__)\n",
    "print(greetings('Andra'))\n",
    "greet(\"Faras\")\n",
    "greet(\"Luthfi\", \"Apa kabar\")"
   ]
  },
  {
   "cell_type": "markdown",
   "metadata": {
    "id": "x1oDyhYPzXEs"
   },
   "source": [
    "A number of arguments in a function can have a default value. But once we have the default argument, all arguments on the right must also have the default value."
   ]
  },
  {
   "cell_type": "markdown",
   "metadata": {
    "id": "ffOpSpT0zqz8"
   },
   "source": [
    "## Python Keyword Arguments\n"
   ]
  },
  {
   "cell_type": "markdown",
   "metadata": {
    "id": "jPWNb9fYzsIf"
   },
   "source": [
    "When we call functions with several values, these values are assigned to the argument in accordance with their position.\n",
    "\n",
    "For example, in the function above greet(), when we call it Greet (\"Bruce\", \"How are you?\"), The value of \"Bruce\" is given to the name argument and also \"How are you?\" To MSG\n",
    "\n",
    "Python allows the function to be called using a keyword argument. When we call the function in this way, the order (position) of the argument can be changed. The following calls to the above function are all valid and produce the same results."
   ]
  },
  {
   "cell_type": "code",
   "execution_count": 10,
   "metadata": {
    "colab": {
     "base_uri": "https://localhost:8080/"
    },
    "executionInfo": {
     "elapsed": 5,
     "status": "ok",
     "timestamp": 1685193313212,
     "user": {
      "displayName": "Arjuna Febrianta",
      "userId": "14455468082889473475"
     },
     "user_tz": -420
    },
    "id": "9YiemfEyzXp4",
    "outputId": "483e6624-5b46-45c8-8e2e-3732d2ff6091"
   },
   "outputs": [
    {
     "name": "stdout",
     "output_type": "stream",
     "text": [
      "Hello Luthfi, How do you do?\n",
      "Hello Luthfi, How do you do?\n",
      "Hello Luthfi, How do you do?\n"
     ]
    }
   ],
   "source": [
    "# 2 Keyword Arguments\n",
    "greet(name = \"Luthfi\",msg = \"How do you do?\")\n",
    "\n",
    "# 2 Keyword Arguments (Out of Order)\n",
    "greet(msg = \"How do you do?\",name = \"Luthfi\")\n",
    "\n",
    "# 1 Positional, 1 Keyword Argument\n",
    "greet(\"Luthfi\", msg = \"How do you do?\")"
   ]
  },
  {
   "cell_type": "markdown",
   "metadata": {
    "id": "DVASnfSc0bEf"
   },
   "source": [
    "## Python Arbitrary Arguments"
   ]
  },
  {
   "cell_type": "markdown",
   "metadata": {
    "id": "X545P-xm0g2A"
   },
   "source": [
    "Sometimes, we do not know in advance the number of arguments that will be inserted into a function. Python allows us to handle this kind of situation through calling functions with a number of changing arguments.\n",
    "\n",
    "In the definition of function, we use the star sign (*) before the name of the parameter to show this type of argument. Here is an example."
   ]
  },
  {
   "cell_type": "code",
   "execution_count": 11,
   "metadata": {
    "colab": {
     "base_uri": "https://localhost:8080/"
    },
    "executionInfo": {
     "elapsed": 19,
     "status": "ok",
     "timestamp": 1686226617996,
     "user": {
      "displayName": "Fauzan Ahnaf",
      "userId": "11369335867931782879"
     },
     "user_tz": -420
    },
    "id": "Ipxv7KG80MfF",
    "outputId": "83d2bf11-6471-42f9-c888-4ba03ed4773c"
   },
   "outputs": [
    {
     "name": "stdout",
     "output_type": "stream",
     "text": [
      "Hello A\n",
      "Hello B\n",
      "Hello C\n",
      "Hello D\n",
      "Hello 1\n",
      "Hello 2\n",
      "Hello 3\n",
      "Hello 4\n",
      "Hello 5\n"
     ]
    }
   ],
   "source": [
    "def greet(*names):\n",
    "    \"\"\"This function greets all \n",
    "    person in tuple name.\"\"\"\n",
    "   \n",
    "    # Names is a tuple with arguments\n",
    "    for name in names:\n",
    "        print(\"Hello\", name)\n",
    "\n",
    "\n",
    "greet(\"A\", \"B\", \"C\", \"D\") ; greet(1,2,3,4,5)"
   ]
  },
  {
   "cell_type": "markdown",
   "metadata": {
    "id": "zpqCyanu1j-b"
   },
   "source": [
    "# Python recursion"
   ]
  },
  {
   "cell_type": "markdown",
   "metadata": {
    "id": "_NgqrgPF2Z1O"
   },
   "source": [
    "The following is an example of a recursive function to find the factorial of an integer.\n",
    "\n",
    "Factorial a number is the product of all integers from 1 to that number. For example, factorial of 6 (symbolized by 6!) Is 1*2*3*4*5*6 = 720"
   ]
  },
  {
   "cell_type": "code",
   "execution_count": 12,
   "metadata": {
    "colab": {
     "base_uri": "https://localhost:8080/"
    },
    "executionInfo": {
     "elapsed": 8,
     "status": "ok",
     "timestamp": 1687919383651,
     "user": {
      "displayName": "Yus'ad",
      "userId": "02336155515181606500"
     },
     "user_tz": -420
    },
    "id": "EmAnwrXG0yT9",
    "outputId": "06ae242e-4ab1-457d-b220-2884549a745a"
   },
   "outputs": [
    {
     "name": "stdout",
     "output_type": "stream",
     "text": [
      "Factorial value of 3 adalah 6\n",
      "Factorial value of 10 adalah 3628800\n"
     ]
    }
   ],
   "source": [
    "def factorial(x):\n",
    "    \"\"\"This is a recursive function\n",
    "    to find the factorial of an integer\"\"\"\n",
    "\n",
    "    if x == 1:\n",
    "        return 1\n",
    "    else:\n",
    "        return x * factorial(x-1)\n",
    "\n",
    "\n",
    "num = 3\n",
    "print(\"Factorial value of\", num, \"adalah\", factorial(num))\n",
    "print(\"Factorial value of\", 10, \"adalah\", factorial(10))"
   ]
  },
  {
   "cell_type": "markdown",
   "metadata": {
    "id": "dA-pb8Lw210D"
   },
   "source": [
    "factorial (3) # 1st call with 3 \\\n",
    "3 * factorial (2) # 2nd call with 2 \\\n",
    "3 * 2 * factorial (1) # 3rd call with 1 \\\n",
    "3 * 2 * 1 # Return from 3rd call as number = 1 \\\n",
    "3 * 2 # Return from 2nd Call \\\n",
    "6 # Return from 1st Call"
   ]
  },
  {
   "cell_type": "markdown",
   "metadata": {
    "id": "Db5dsocw3ogH"
   },
   "source": [
    "# Anonymous function"
   ]
  },
  {
   "cell_type": "code",
   "execution_count": 13,
   "metadata": {
    "colab": {
     "base_uri": "https://localhost:8080/"
    },
    "executionInfo": {
     "elapsed": 54,
     "status": "ok",
     "timestamp": 1688821715218,
     "user": {
      "displayName": "Rama Kurniawan",
      "userId": "16569434471126475928"
     },
     "user_tz": -480
    },
    "id": "00Kvnwji3nxE",
    "outputId": "6f6eb595-e73d-4d39-c0b3-ce151001fa65"
   },
   "outputs": [
    {
     "name": "stdout",
     "output_type": "stream",
     "text": [
      "387420489\n",
      "25\n"
     ]
    }
   ],
   "source": [
    "# Program to show the use of lambda function\n",
    "double = lambda x: x * 5\n",
    "pangkat = lambda a:a**a\n",
    "print(pangkat(9))\n",
    "print(double(5))"
   ]
  },
  {
   "cell_type": "markdown",
   "metadata": {
    "id": "4Vx6k7xl9czH"
   },
   "source": [
    "We use lambda functions when we need an unnamed function for a short time.\n",
    "\n",
    "In Python, we typically use them as arguments to higher-order functions (functions that take other functions as arguments). Lambda functions are used in conjunction with built-in functions like filter(), map(), and so on."
   ]
  },
  {
   "cell_type": "markdown",
   "metadata": {
    "id": "OrLI47yA9316"
   },
   "source": [
    "The filter() function in Python takes a function and a list as arguments.\n",
    "\n",
    "The function is called with all the items in the list, and a new list is returned containing the items whose function evaluates to True.\n",
    "\n",
    "The following is an example of using the filter() function to filter only even numbers from a list."
   ]
  },
  {
   "cell_type": "code",
   "execution_count": 14,
   "metadata": {
    "colab": {
     "base_uri": "https://localhost:8080/"
    },
    "executionInfo": {
     "elapsed": 30,
     "status": "ok",
     "timestamp": 1688822715630,
     "user": {
      "displayName": "Rama Kurniawan",
      "userId": "16569434471126475928"
     },
     "user_tz": -480
    },
    "id": "4MNvyqpO2lTx",
    "outputId": "88ab4279-4913-4009-9086-c8e203548e3c"
   },
   "outputs": [
    {
     "name": "stdout",
     "output_type": "stream",
     "text": [
      "[4, 6, 8, 12]\n",
      "[False, False, True, True, True, False, False, True]\n"
     ]
    }
   ],
   "source": [
    "# Program to filter out only the event items from a list\n",
    "my_list = [1, 5, 4, 6, 8, 11, 3, 12]\n",
    "\n",
    "new_list = list(filter(lambda x: (x%2 ==0) , my_list))\n",
    "new_list1 = list(map(lambda x: (x%2 ==0) , my_list))\n",
    "\n",
    "print(new_list)\n",
    "print(new_list1)"
   ]
  },
  {
   "cell_type": "markdown",
   "metadata": {
    "id": "yh2CFrOp-ME7"
   },
   "source": [
    "The map() function in Python takes a function and a list.\n",
    "\n",
    "The function is called with all the items in the list and a new list is returned containing the items returned by the function for each item.\n",
    "\n",
    "Here is an example of using the map() function to duplicate all the items in a list."
   ]
  },
  {
   "cell_type": "code",
   "execution_count": 15,
   "metadata": {
    "colab": {
     "base_uri": "https://localhost:8080/"
    },
    "executionInfo": {
     "elapsed": 40,
     "status": "ok",
     "timestamp": 1688821715225,
     "user": {
      "displayName": "Rama Kurniawan",
      "userId": "16569434471126475928"
     },
     "user_tz": -480
    },
    "id": "fuXUWHBt-AAm",
    "outputId": "85169499-5d76-49d1-d722-a20e8b531b6d"
   },
   "outputs": [
    {
     "name": "stdout",
     "output_type": "stream",
     "text": [
      "[1, 3125, 256, 46656, 16777216, 285311670611, 27, 8916100448256]\n"
     ]
    }
   ],
   "source": [
    "# Program to double each item in a list using map ()\n",
    "\n",
    "my_list = [1, 5, 4, 6, 8, 11, 3, 12]\n",
    "\n",
    "new_list = list(map(lambda x: x ** x , my_list))\n",
    "\n",
    "print(new_list)"
   ]
  },
  {
   "cell_type": "markdown",
   "metadata": {
    "id": "xN7oToQH-xey"
   },
   "source": [
    "# Global, Local and Non-Local Variable"
   ]
  },
  {
   "cell_type": "markdown",
   "metadata": {
    "id": "PC0ZKbIR-06-"
   },
   "source": [
    "## Global Variable and Local Variable"
   ]
  },
  {
   "cell_type": "code",
   "execution_count": 16,
   "metadata": {
    "colab": {
     "base_uri": "https://localhost:8080/"
    },
    "executionInfo": {
     "elapsed": 4,
     "status": "ok",
     "timestamp": 1688544509516,
     "user": {
      "displayName": "Samuel Hutagalung",
      "userId": "17490901400839086124"
     },
     "user_tz": -420
    },
    "id": "9Pua2fd5-StD",
    "outputId": "b2e8be6e-bd1d-4209-bbc4-04490e713d6a"
   },
   "outputs": [
    {
     "name": "stdout",
     "output_type": "stream",
     "text": [
      "x in: global\n",
      "X outside: global\n"
     ]
    }
   ],
   "source": [
    "x = \"global\"\n",
    "\n",
    "def foo():\n",
    "    print(\"x in:\", x)\n",
    "\n",
    "\n",
    "foo()\n",
    "print(\"X outside:\", x)\n"
   ]
  },
  {
   "cell_type": "markdown",
   "metadata": {
    "id": "fl1FqKtI_VB8"
   },
   "source": [
    "In the code above, we create x as a global variable and define foo() to print the global variable x. Finally, we call foo(), which will print the value of x.\n",
    "\n",
    "What if we want to change the value of x within a function?"
   ]
  },
  {
   "cell_type": "code",
   "execution_count": 17,
   "metadata": {
    "colab": {
     "base_uri": "https://localhost:8080/"
    },
    "executionInfo": {
     "elapsed": 531,
     "status": "ok",
     "timestamp": 1688544515855,
     "user": {
      "displayName": "Samuel Hutagalung",
      "userId": "17490901400839086124"
     },
     "user_tz": -420
    },
    "id": "jbIEXjER-3D6",
    "outputId": "74ef3229-8d1a-4d70-bd54-b85486d5c253"
   },
   "outputs": [
    {
     "name": "stdout",
     "output_type": "stream",
     "text": [
      "Zakkiya Zakkiya \n"
     ]
    }
   ],
   "source": [
    "x = 'Zakkiya '\n",
    "\n",
    "def foo():\n",
    "    global x\n",
    "    x = x * 2\n",
    "    print(x)\n",
    "foo()"
   ]
  },
  {
   "cell_type": "code",
   "execution_count": 18,
   "metadata": {
    "colab": {
     "base_uri": "https://localhost:8080/"
    },
    "executionInfo": {
     "elapsed": 6,
     "status": "ok",
     "timestamp": 1687984211268,
     "user": {
      "displayName": "Yus'ad",
      "userId": "02336155515181606500"
     },
     "user_tz": -420
    },
    "id": "IoZJ8A6A_b_-",
    "outputId": "8b2e4dec-e99e-4062-ab26-971ea75888b8"
   },
   "outputs": [
    {
     "name": "stdout",
     "output_type": "stream",
     "text": [
      "globalglobal\n"
     ]
    }
   ],
   "source": [
    "x = \"global\"\n",
    "\n",
    "def foo():\n",
    "    global x\n",
    "    x = x * 2\n",
    "    print(x)\n",
    "foo()"
   ]
  },
  {
   "cell_type": "code",
   "execution_count": 19,
   "metadata": {
    "colab": {
     "base_uri": "https://localhost:8080/"
    },
    "executionInfo": {
     "elapsed": 327,
     "status": "ok",
     "timestamp": 1687984241410,
     "user": {
      "displayName": "Yus'ad",
      "userId": "02336155515181606500"
     },
     "user_tz": -420
    },
    "id": "4ni2PXJp_ulK",
    "outputId": "da789ebf-d0ec-4fe1-9080-f95648eadccd"
   },
   "outputs": [
    {
     "name": "stdout",
     "output_type": "stream",
     "text": [
      "global global \n",
      "local\n"
     ]
    }
   ],
   "source": [
    "x = \"global \"\n",
    "\n",
    "def foo():\n",
    "    global x\n",
    "    y = \"local\"\n",
    "    x = x * 2\n",
    "    print(x)\n",
    "    print(y)\n",
    "foo()"
   ]
  },
  {
   "cell_type": "markdown",
   "metadata": {
    "id": "45n5X_Z2ET8a"
   },
   "source": [
    "## Non-local variable"
   ]
  },
  {
   "cell_type": "code",
   "execution_count": 21,
   "metadata": {
    "colab": {
     "base_uri": "https://localhost:8080/"
    },
    "executionInfo": {
     "elapsed": 348,
     "status": "ok",
     "timestamp": 1687984379615,
     "user": {
      "displayName": "Yus'ad",
      "userId": "02336155515181606500"
     },
     "user_tz": -420
    },
    "id": "8fKniSXFB1c0",
    "outputId": "0b74c38c-3b9c-40f7-9e5f-3e6b57062bb3"
   },
   "outputs": [
    {
     "name": "stdout",
     "output_type": "stream",
     "text": [
      "Outer: local\n",
      "inner: nonlocal\n"
     ]
    }
   ],
   "source": [
    "def outer():\n",
    "    x = \"local\"\n",
    "    def inner():\n",
    "        nonlocal x\n",
    "        x = \"nonlocal\"\n",
    "        print(\"inner:\", x)\n",
    "\n",
    "    print(\"Outer:\", x)\n",
    "    inner()\n",
    "\n",
    "outer()"
   ]
  },
  {
   "cell_type": "code",
   "execution_count": 22,
   "metadata": {
    "colab": {
     "base_uri": "https://localhost:8080/"
    },
    "executionInfo": {
     "elapsed": 7,
     "status": "ok",
     "timestamp": 1686718368742,
     "user": {
      "displayName": "Budhi Dharma",
      "userId": "17912579643272370603"
     },
     "user_tz": -420
    },
    "id": "5RhEP0n1uuI5",
    "outputId": "c4b5bbcb-34ba-40f5-c7a6-93fe0cc27728"
   },
   "outputs": [
    {
     "name": "stdout",
     "output_type": "stream",
     "text": [
      "[123, 456, 789, 123]\n"
     ]
    }
   ],
   "source": [
    "plist = [123,456,789]\n",
    "plist.append(123)\n",
    "print(plist)"
   ]
  },
  {
   "cell_type": "code",
   "execution_count": null,
   "metadata": {},
   "outputs": [],
   "source": []
  }
 ],
 "metadata": {
  "colab": {
   "collapsed_sections": [
    "6FkIx88TcBmf",
    "Db5dsocw3ogH",
    "xN7oToQH-xey"
   ],
   "provenance": []
  },
  "kernelspec": {
   "display_name": "Python 3 (ipykernel)",
   "language": "python",
   "name": "python3"
  },
  "language_info": {
   "codemirror_mode": {
    "name": "ipython",
    "version": 3
   },
   "file_extension": ".py",
   "mimetype": "text/x-python",
   "name": "python",
   "nbconvert_exporter": "python",
   "pygments_lexer": "ipython3",
   "version": "3.13.5"
  }
 },
 "nbformat": 4,
 "nbformat_minor": 4
}
