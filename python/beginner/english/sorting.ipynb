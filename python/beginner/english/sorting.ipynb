{
 "cells": [
  {
   "cell_type": "markdown",
   "metadata": {
    "id": "TF0pnf9Lg0oP"
   },
   "source": [
    "# Simple Sorting"
   ]
  },
  {
   "cell_type": "markdown",
   "metadata": {
    "id": "Sa5UaxHtg70O"
   },
   "source": [
    "Use the sorted() function to sort a list of numbers."
   ]
  },
  {
   "cell_type": "code",
   "execution_count": 1,
   "metadata": {
    "colab": {
     "base_uri": "https://localhost:8080/"
    },
    "id": "Z83jXNE1e152",
    "outputId": "eab3b6b7-e7e8-4f33-80bc-2e2f6996a0ce"
   },
   "outputs": [
    {
     "name": "stdout",
     "output_type": "stream",
     "text": [
      "[1, 1, 2, 3, 4, 5, 5, 6, 9]\n"
     ]
    }
   ],
   "source": [
    "numbers = [3, 1, 4, 1, 5, 9, 2, 6, 5]\n",
    "sorted_numbers = sorted(numbers)\n",
    "print(sorted_numbers)"
   ]
  },
  {
   "cell_type": "code",
   "execution_count": 2,
   "metadata": {},
   "outputs": [
    {
     "name": "stdout",
     "output_type": "stream",
     "text": [
      "[3, 1, 4, 1, 5, 9, 2, 6, 5]\n",
      "[1, 1, 2, 3, 4, 5, 5, 6, 9]\n"
     ]
    }
   ],
   "source": [
    "print(numbers)\n",
    "numbers.sort()\n",
    "print(numbers)"
   ]
  },
  {
   "cell_type": "markdown",
   "metadata": {
    "id": "NY0xJb7cg9Hl"
   },
   "source": [
    "Sorting with custom criteria: use the key argument to sort the list based on the length of the string."
   ]
  },
  {
   "cell_type": "code",
   "execution_count": 3,
   "metadata": {
    "colab": {
     "base_uri": "https://localhost:8080/"
    },
    "id": "e9aNX4Bng3Sb",
    "outputId": "b90dc0b5-65e6-491b-ad93-3cba5b1c1323"
   },
   "outputs": [
    {
     "name": "stdout",
     "output_type": "stream",
     "text": [
      "['kiwi', 'apple', 'grape', 'banana', 'orange']\n",
      "['kiwi', 'grape', 'apple', 'grape', 'apple', 'cherry', 'banana', 'orange']\n"
     ]
    }
   ],
   "source": [
    "words = ['apple', 'banana', 'grape', 'kiwi', 'orange']\n",
    "sorted_words = sorted(words, key=len)\n",
    "print(sorted_words)\n",
    "word = ['cherry','banana', 'grape', 'kiwi', 'apple', 'grape', 'orange','apple']\n",
    "sorted_word = sorted(word, key=len)\n",
    "print(sorted_word)\n"
   ]
  },
  {
   "cell_type": "markdown",
   "metadata": {
    "id": "7yJTTCN7hJ72"
   },
   "source": [
    "Sorting with Lambda Function: Using lambda function to sort a list based on the number of vowels in a word."
   ]
  },
  {
   "cell_type": "code",
   "execution_count": 4,
   "metadata": {
    "colab": {
     "base_uri": "https://localhost:8080/"
    },
    "id": "BbiE9QZShF22",
    "outputId": "e7ae9229-4f67-422e-f0f7-de6a0cdd173d"
   },
   "outputs": [
    {
     "name": "stdout",
     "output_type": "stream",
     "text": [
      "['apple', 'grape', 'kiwi', 'banana', 'orange']\n"
     ]
    }
   ],
   "source": [
    "words = ['apple', 'banana', 'grape', 'kiwi', 'orange']\n",
    "sorted_words = sorted(words, key=lambda word: sum(1 for char in word if char in 'aeiou'))\n",
    "print(sorted_words)\n"
   ]
  },
  {
   "cell_type": "markdown",
   "metadata": {
    "id": "D0Ink4G9hhNO"
   },
   "source": [
    "# Other sorting algorithms"
   ]
  },
  {
   "cell_type": "markdown",
   "metadata": {
    "id": "fT1CZD2miHBl"
   },
   "source": [
    "## bubble sort\n",
    "Compare two adjacent elements and swap them if the order is wrong. Do this over and over again until there is nothing left to replace."
   ]
  },
  {
   "cell_type": "code",
   "execution_count": 5,
   "metadata": {
    "colab": {
     "base_uri": "https://localhost:8080/"
    },
    "id": "AT11r03ZhdSk",
    "outputId": "e4c3b000-728f-4215-915e-770d4c960b51"
   },
   "outputs": [
    {
     "name": "stdout",
     "output_type": "stream",
     "text": [
      "Sorted Array: [11, 12, 22, 25, 34, 64, 90]\n"
     ]
    }
   ],
   "source": [
    "def bubble_sort(arr):\n",
    "    n = len(arr)\n",
    "    for i in range(n):\n",
    "        for j in range(0, n-i-1):\n",
    "            if arr[j] > arr[j+1]:\n",
    "                arr[j], arr[j+1] = arr[j+1], arr[j]\n",
    "    return arr\n",
    "\n",
    "# Examples of use\n",
    "arr = [64, 34, 25, 12, 22, 11, 90]\n",
    "sorted_arr = bubble_sort(arr)\n",
    "print(\"Sorted Array:\", sorted_arr)\n"
   ]
  },
  {
   "cell_type": "markdown",
   "metadata": {},
   "source": [
    "### Illustration of Bubble Sort"
   ]
  },
  {
   "cell_type": "code",
   "execution_count": 6,
   "metadata": {},
   "outputs": [],
   "source": [
    "def ilustrasi_bubble_sort(arr):\n",
    "    n = len(arr)\n",
    "    print(\"Bubble Sort:\")\n",
    "    for i in range(n):\n",
    "        for j in range(0, n-i-1):\n",
    "            if arr[j] > arr[j+1]:\n",
    "                arr[j], arr[j+1] = arr[j+1], arr[j]\n",
    "        print(f\"After passing {i+1}: {arr}\")"
   ]
  },
  {
   "cell_type": "code",
   "execution_count": 7,
   "metadata": {},
   "outputs": [
    {
     "name": "stdout",
     "output_type": "stream",
     "text": [
      "Bubble Sort:\n",
      "After passing 1: [11, 12, 22, 25, 34, 64, 90]\n",
      "After passing 2: [11, 12, 22, 25, 34, 64, 90]\n",
      "After passing 3: [11, 12, 22, 25, 34, 64, 90]\n",
      "After passing 4: [11, 12, 22, 25, 34, 64, 90]\n",
      "After passing 5: [11, 12, 22, 25, 34, 64, 90]\n",
      "After passing 6: [11, 12, 22, 25, 34, 64, 90]\n",
      "After passing 7: [11, 12, 22, 25, 34, 64, 90]\n"
     ]
    }
   ],
   "source": [
    "ilustrasi_bubble_sort(arr)"
   ]
  },
  {
   "cell_type": "markdown",
   "metadata": {
    "id": "t5j47pwJiL8s"
   },
   "source": [
    "## selection sort\n",
    "Find the smallest element and place it at the beginning. Repeat the process for the remaining elements."
   ]
  },
  {
   "cell_type": "code",
   "execution_count": 8,
   "metadata": {
    "colab": {
     "base_uri": "https://localhost:8080/"
    },
    "id": "z9REweixhN5c",
    "outputId": "65a4fcb5-86ce-4982-92fb-e12e4778afc6"
   },
   "outputs": [
    {
     "name": "stdout",
     "output_type": "stream",
     "text": [
      "Sorted Array: [11, 12, 22, 25, 34, 64, 90]\n"
     ]
    }
   ],
   "source": [
    "def selection_sort(arr):\n",
    "    n = len(arr)\n",
    "    for i in range(n):\n",
    "        min_idx = i\n",
    "        for j in range(i+1, n):\n",
    "            if arr[j] < arr[min_idx]:\n",
    "                min_idx = j\n",
    "        arr[i], arr[min_idx] = arr[min_idx], arr[i]\n",
    "    return arr\n",
    "\n",
    "# Examples of use\n",
    "arr = [64, 34, 25, 12, 22, 11, 90]\n",
    "sorted_arr = selection_sort(arr)\n",
    "print(\"Sorted Array:\", sorted_arr)\n"
   ]
  },
  {
   "cell_type": "markdown",
   "metadata": {},
   "source": [
    "### Selection Sort Illustration"
   ]
  },
  {
   "cell_type": "code",
   "execution_count": 18,
   "metadata": {},
   "outputs": [],
   "source": [
    "def ilustrasi_selection_sort(arr):\n",
    "    print(\"Selection sort:\")\n",
    "    n = len(arr)\n",
    "    for i in range(n):\n",
    "        min_idx = i\n",
    "        for j in range(i+1, n):\n",
    "            if arr[j] < arr[min_idx]:\n",
    "                min_idx = j\n",
    "        arr[i], arr[min_idx] = arr[min_idx], arr[i]\n",
    "        print(f\"Step {i+1}: {arr}\")"
   ]
  },
  {
   "cell_type": "code",
   "execution_count": 19,
   "metadata": {},
   "outputs": [
    {
     "name": "stdout",
     "output_type": "stream",
     "text": [
      "Selection sort:\n",
      "Step 1: [11, 12, 22, 25, 34, 64, 90]\n",
      "Step 2: [11, 12, 22, 25, 34, 64, 90]\n",
      "Step 3: [11, 12, 22, 25, 34, 64, 90]\n",
      "Step 4: [11, 12, 22, 25, 34, 64, 90]\n",
      "Step 5: [11, 12, 22, 25, 34, 64, 90]\n",
      "Step 6: [11, 12, 22, 25, 34, 64, 90]\n",
      "Step 7: [11, 12, 22, 25, 34, 64, 90]\n"
     ]
    }
   ],
   "source": [
    "ilustrasi_selection_sort(arr)"
   ]
  },
  {
   "cell_type": "markdown",
   "metadata": {
    "id": "PXCNMOvmiQUt"
   },
   "source": [
    "## Insertion sort\n",
    "Take the elements one by one, and put it in the appropriate place in the sorted array."
   ]
  },
  {
   "cell_type": "code",
   "execution_count": 20,
   "metadata": {
    "colab": {
     "base_uri": "https://localhost:8080/"
    },
    "id": "ucY-JGsHiN2u",
    "outputId": "b18433b8-0dc6-4a62-e295-10e2d143aff3"
   },
   "outputs": [
    {
     "name": "stdout",
     "output_type": "stream",
     "text": [
      "Sorted Array: [11, 12, 22, 25, 34, 64, 90]\n"
     ]
    }
   ],
   "source": [
    "def insertion_sort(arr):\n",
    "    for i in range(1, len(arr)):\n",
    "        key = arr[i]\n",
    "        j = i-1\n",
    "        while j >= 0 and key < arr[j]:\n",
    "            arr[j+1] = arr[j]\n",
    "            j -= 1\n",
    "        arr[j+1] = key\n",
    "    return arr\n",
    "\n",
    "# Examples of use\n",
    "arr = [64, 34, 25, 12, 22, 11, 90]\n",
    "sorted_arr = insertion_sort(arr)\n",
    "print(\"Sorted Array:\", sorted_arr)\n"
   ]
  },
  {
   "cell_type": "markdown",
   "metadata": {},
   "source": [
    "### Illustration of Insertion Sort"
   ]
  },
  {
   "cell_type": "code",
   "execution_count": 23,
   "metadata": {},
   "outputs": [],
   "source": [
    "def ilustrasi_insertion_sort(arr):\n",
    "    print(\"Insertion sort:\")\n",
    "    for i in range(1, len(arr)):\n",
    "        key = arr[i]\n",
    "        j = i-1\n",
    "        while j >=0 and key < arr[j]:\n",
    "            arr[j+1] = arr[j]\n",
    "            j -= 1\n",
    "        arr[j+1] = key\n",
    "        print(f\"After inserting the element {i} ({key}): {arr}\")"
   ]
  },
  {
   "cell_type": "code",
   "execution_count": 24,
   "metadata": {},
   "outputs": [
    {
     "name": "stdout",
     "output_type": "stream",
     "text": [
      "Insertion sort:\n",
      "After inserting the element 1 (12): [11, 12, 22, 25, 34, 64, 90]\n",
      "After inserting the element 2 (22): [11, 12, 22, 25, 34, 64, 90]\n",
      "After inserting the element 3 (25): [11, 12, 22, 25, 34, 64, 90]\n",
      "After inserting the element 4 (34): [11, 12, 22, 25, 34, 64, 90]\n",
      "After inserting the element 5 (64): [11, 12, 22, 25, 34, 64, 90]\n",
      "After inserting the element 6 (90): [11, 12, 22, 25, 34, 64, 90]\n"
     ]
    }
   ],
   "source": [
    "ilustrasi_insertion_sort(arr)"
   ]
  },
  {
   "cell_type": "markdown",
   "metadata": {
    "id": "HROf_9-diaWm"
   },
   "source": [
    "## merge sort\n",
    "Use the divide and conquer approach:\n",
    "1. Divide the array in half\n",
    "2. Sort each half recursively\n",
    "3. Merge the two halves in order"
   ]
  },
  {
   "cell_type": "code",
   "execution_count": 14,
   "metadata": {
    "colab": {
     "base_uri": "https://localhost:8080/"
    },
    "id": "Vs3RB26GiSXo",
    "outputId": "e1ff2a48-b2e8-4c1a-f76d-b35a68f24618"
   },
   "outputs": [
    {
     "name": "stdout",
     "output_type": "stream",
     "text": [
      "Sorted Array: [11, 12, 22, 25, 34, 64, 90]\n"
     ]
    }
   ],
   "source": [
    "def merge_sort(arr):\n",
    "    if len(arr) > 1:\n",
    "        mid = len(arr) // 2\n",
    "        L = arr[:mid]\n",
    "        R = arr[mid:]\n",
    "\n",
    "        merge_sort(L)\n",
    "        merge_sort(R)\n",
    "\n",
    "        i = j = k = 0\n",
    "\n",
    "        while i < len(L) and j < len(R):\n",
    "            if L[i] < R[j]:\n",
    "                arr[k] = L[i]\n",
    "                i += 1\n",
    "            else:\n",
    "                arr[k] = R[j]\n",
    "                j += 1\n",
    "            k += 1\n",
    "\n",
    "        while i < len(L):\n",
    "            arr[k] = L[i]\n",
    "            i += 1\n",
    "            k += 1\n",
    "\n",
    "        while j < len(R):\n",
    "            arr[k] = R[j]\n",
    "            j += 1\n",
    "            k += 1\n",
    "\n",
    "# Examples of use\n",
    "arr = [64, 34, 25, 12, 22, 11, 90]\n",
    "merge_sort(arr)\n",
    "print(\"Sorted Array:\", arr)\n"
   ]
  },
  {
   "cell_type": "markdown",
   "metadata": {
    "id": "MXtuAQtRieUm"
   },
   "source": [
    "## quick sort\n",
    "Use the divide and conquer approach:\n",
    "1. Choose a pivot\n",
    "2. Partition the elements: smaller to the left, larger to the right\n",
    "3. Recurse through both halves"
   ]
  },
  {
   "cell_type": "code",
   "execution_count": 15,
   "metadata": {
    "colab": {
     "base_uri": "https://localhost:8080/"
    },
    "id": "3u4NCBhCibxF",
    "outputId": "3853a1d0-4946-41db-b28a-acd9927bf887"
   },
   "outputs": [
    {
     "name": "stdout",
     "output_type": "stream",
     "text": [
      "Sorted Array: [11, 12, 22, 25, 34, 64, 90]\n"
     ]
    }
   ],
   "source": [
    "def quick_sort(arr):\n",
    "    if len(arr) <= 1:\n",
    "        return arr\n",
    "    else:\n",
    "        pivot = arr[0]\n",
    "        less_than_pivot = [x for x in arr[1:] if x <= pivot]\n",
    "        greater_than_pivot = [x for x in arr[1:] if x > pivot]\n",
    "        return quick_sort(less_than_pivot) + [pivot] + quick_sort(greater_than_pivot)\n",
    "\n",
    "# Examples of use\n",
    "arr = [64, 34, 25, 12, 22, 11, 90]\n",
    "sorted_arr = quick_sort(arr)\n",
    "print(\"Sorted Array:\", sorted_arr)\n"
   ]
  },
  {
   "cell_type": "code",
   "execution_count": null,
   "metadata": {},
   "outputs": [],
   "source": []
  },
  {
   "cell_type": "markdown",
   "metadata": {
    "id": "m2PYHTVzihCS"
   },
   "source": [
    "| Algorithm | Best Time | Worst | Stable | In-place | Suitable for |\n",
    "| -------------- | ------------- | ---------- | ------ | -------- | ------------------- |\n",
    "| Bubble Sort | O(n) | O(n²) | ✅ | ✅ | Learning, small data |\n",
    "| Selection Sort | O(n²) | O(n²) | ❌ | ✅ | Learning |\n",
    "| Insertion Sort | O(n) | O(n²) | ✅ | ✅ | Nearly sorted data |\n",
    "| Merge Sort | O(n log n) | O(n log n) | ✅ | ❌ | Large data |\n",
    "| Quick Sort | O(n log n) | O(n²) | ❌ | ✅ | General, fast |"
   ]
  },
  {
   "cell_type": "markdown",
   "metadata": {},
   "source": [
    "# Thank you"
   ]
  }
 ],
 "metadata": {
  "colab": {
   "provenance": []
  },
  "kernelspec": {
   "display_name": "Python 3 (ipykernel)",
   "language": "python",
   "name": "python3"
  },
  "language_info": {
   "codemirror_mode": {
    "name": "ipython",
    "version": 3
   },
   "file_extension": ".py",
   "mimetype": "text/x-python",
   "name": "python",
   "nbconvert_exporter": "python",
   "pygments_lexer": "ipython3",
   "version": "3.13.5"
  }
 },
 "nbformat": 4,
 "nbformat_minor": 4
}
